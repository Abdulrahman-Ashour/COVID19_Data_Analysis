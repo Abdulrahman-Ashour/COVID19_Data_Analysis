{
 "cells": [
  {
   "cell_type": "code",
   "execution_count": 93,
   "metadata": {},
   "outputs": [],
   "source": [
    "import pandas as pd\n",
    "import matplotlib.pyplot as plt"
   ]
  },
  {
   "cell_type": "code",
   "execution_count": 113,
   "metadata": {},
   "outputs": [
    {
     "data": {
      "text/html": [
       "        <script type=\"text/javascript\">\n",
       "        window.PlotlyConfig = {MathJaxConfig: 'local'};\n",
       "        if (window.MathJax) {MathJax.Hub.Config({SVG: {font: \"STIX-Web\"}});}\n",
       "        if (typeof require !== 'undefined') {\n",
       "        require.undef(\"plotly\");\n",
       "        requirejs.config({\n",
       "            paths: {\n",
       "                'plotly': ['https://cdn.plot.ly/plotly-latest.min']\n",
       "            }\n",
       "        });\n",
       "        require(['plotly'], function(Plotly) {\n",
       "            window._Plotly = Plotly;\n",
       "        });\n",
       "        }\n",
       "        </script>\n",
       "        "
      ]
     },
     "metadata": {},
     "output_type": "display_data"
    }
   ],
   "source": [
    "import plotly.offline as py\n",
    "py.init_notebook_mode(connected=True)\n",
    "import plotly.graph_objs as go\n",
    "import plotly.express as ex"
   ]
  },
  {
   "cell_type": "code",
   "execution_count": 95,
   "metadata": {},
   "outputs": [],
   "source": [
    "#import plotly.io as pio\n",
    "#pio.renderers.default = 'colab'"
   ]
  },
  {
   "cell_type": "code",
   "execution_count": 96,
   "metadata": {},
   "outputs": [
    {
     "data": {
      "text/html": [
       "<div>\n",
       "<style scoped>\n",
       "    .dataframe tbody tr th:only-of-type {\n",
       "        vertical-align: middle;\n",
       "    }\n",
       "\n",
       "    .dataframe tbody tr th {\n",
       "        vertical-align: top;\n",
       "    }\n",
       "\n",
       "    .dataframe thead th {\n",
       "        text-align: right;\n",
       "    }\n",
       "</style>\n",
       "<table border=\"1\" class=\"dataframe\">\n",
       "  <thead>\n",
       "    <tr style=\"text-align: right;\">\n",
       "      <th></th>\n",
       "      <th>Country/Region</th>\n",
       "      <th>Continent</th>\n",
       "      <th>Population</th>\n",
       "      <th>TotalCases</th>\n",
       "      <th>NewCases</th>\n",
       "      <th>TotalDeaths</th>\n",
       "      <th>NewDeaths</th>\n",
       "      <th>TotalRecovered</th>\n",
       "      <th>NewRecovered</th>\n",
       "      <th>ActiveCases</th>\n",
       "      <th>Serious,Critical</th>\n",
       "      <th>Tot Cases/1M pop</th>\n",
       "      <th>Deaths/1M pop</th>\n",
       "      <th>TotalTests</th>\n",
       "      <th>Tests/1M pop</th>\n",
       "      <th>WHO Region</th>\n",
       "      <th>iso_alpha</th>\n",
       "    </tr>\n",
       "  </thead>\n",
       "  <tbody>\n",
       "    <tr>\n",
       "      <th>0</th>\n",
       "      <td>USA</td>\n",
       "      <td>North America</td>\n",
       "      <td>3.311981e+08</td>\n",
       "      <td>5032179</td>\n",
       "      <td>NaN</td>\n",
       "      <td>162804.0</td>\n",
       "      <td>NaN</td>\n",
       "      <td>2576668.0</td>\n",
       "      <td>NaN</td>\n",
       "      <td>2292707.0</td>\n",
       "      <td>18296.0</td>\n",
       "      <td>15194.0</td>\n",
       "      <td>492.0</td>\n",
       "      <td>63139605.0</td>\n",
       "      <td>190640.0</td>\n",
       "      <td>Americas</td>\n",
       "      <td>USA</td>\n",
       "    </tr>\n",
       "    <tr>\n",
       "      <th>1</th>\n",
       "      <td>Brazil</td>\n",
       "      <td>South America</td>\n",
       "      <td>2.127107e+08</td>\n",
       "      <td>2917562</td>\n",
       "      <td>NaN</td>\n",
       "      <td>98644.0</td>\n",
       "      <td>NaN</td>\n",
       "      <td>2047660.0</td>\n",
       "      <td>NaN</td>\n",
       "      <td>771258.0</td>\n",
       "      <td>8318.0</td>\n",
       "      <td>13716.0</td>\n",
       "      <td>464.0</td>\n",
       "      <td>13206188.0</td>\n",
       "      <td>62085.0</td>\n",
       "      <td>Americas</td>\n",
       "      <td>BRA</td>\n",
       "    </tr>\n",
       "    <tr>\n",
       "      <th>2</th>\n",
       "      <td>India</td>\n",
       "      <td>Asia</td>\n",
       "      <td>1.381345e+09</td>\n",
       "      <td>2025409</td>\n",
       "      <td>NaN</td>\n",
       "      <td>41638.0</td>\n",
       "      <td>NaN</td>\n",
       "      <td>1377384.0</td>\n",
       "      <td>NaN</td>\n",
       "      <td>606387.0</td>\n",
       "      <td>8944.0</td>\n",
       "      <td>1466.0</td>\n",
       "      <td>30.0</td>\n",
       "      <td>22149351.0</td>\n",
       "      <td>16035.0</td>\n",
       "      <td>South-EastAsia</td>\n",
       "      <td>IND</td>\n",
       "    </tr>\n",
       "    <tr>\n",
       "      <th>3</th>\n",
       "      <td>Russia</td>\n",
       "      <td>Europe</td>\n",
       "      <td>1.459409e+08</td>\n",
       "      <td>871894</td>\n",
       "      <td>NaN</td>\n",
       "      <td>14606.0</td>\n",
       "      <td>NaN</td>\n",
       "      <td>676357.0</td>\n",
       "      <td>NaN</td>\n",
       "      <td>180931.0</td>\n",
       "      <td>2300.0</td>\n",
       "      <td>5974.0</td>\n",
       "      <td>100.0</td>\n",
       "      <td>29716907.0</td>\n",
       "      <td>203623.0</td>\n",
       "      <td>Europe</td>\n",
       "      <td>RUS</td>\n",
       "    </tr>\n",
       "    <tr>\n",
       "      <th>4</th>\n",
       "      <td>South Africa</td>\n",
       "      <td>Africa</td>\n",
       "      <td>5.938157e+07</td>\n",
       "      <td>538184</td>\n",
       "      <td>NaN</td>\n",
       "      <td>9604.0</td>\n",
       "      <td>NaN</td>\n",
       "      <td>387316.0</td>\n",
       "      <td>NaN</td>\n",
       "      <td>141264.0</td>\n",
       "      <td>539.0</td>\n",
       "      <td>9063.0</td>\n",
       "      <td>162.0</td>\n",
       "      <td>3149807.0</td>\n",
       "      <td>53044.0</td>\n",
       "      <td>Africa</td>\n",
       "      <td>ZAF</td>\n",
       "    </tr>\n",
       "    <tr>\n",
       "      <th>5</th>\n",
       "      <td>Mexico</td>\n",
       "      <td>North America</td>\n",
       "      <td>1.290662e+08</td>\n",
       "      <td>462690</td>\n",
       "      <td>6590.0</td>\n",
       "      <td>50517.0</td>\n",
       "      <td>819.0</td>\n",
       "      <td>308848.0</td>\n",
       "      <td>4140.0</td>\n",
       "      <td>103325.0</td>\n",
       "      <td>3987.0</td>\n",
       "      <td>3585.0</td>\n",
       "      <td>391.0</td>\n",
       "      <td>1056915.0</td>\n",
       "      <td>8189.0</td>\n",
       "      <td>Americas</td>\n",
       "      <td>MEX</td>\n",
       "    </tr>\n",
       "    <tr>\n",
       "      <th>6</th>\n",
       "      <td>Peru</td>\n",
       "      <td>South America</td>\n",
       "      <td>3.301632e+07</td>\n",
       "      <td>455409</td>\n",
       "      <td>NaN</td>\n",
       "      <td>20424.0</td>\n",
       "      <td>NaN</td>\n",
       "      <td>310337.0</td>\n",
       "      <td>NaN</td>\n",
       "      <td>124648.0</td>\n",
       "      <td>1426.0</td>\n",
       "      <td>13793.0</td>\n",
       "      <td>619.0</td>\n",
       "      <td>2493429.0</td>\n",
       "      <td>75521.0</td>\n",
       "      <td>Americas</td>\n",
       "      <td>PER</td>\n",
       "    </tr>\n",
       "    <tr>\n",
       "      <th>7</th>\n",
       "      <td>Chile</td>\n",
       "      <td>South America</td>\n",
       "      <td>1.913251e+07</td>\n",
       "      <td>366671</td>\n",
       "      <td>NaN</td>\n",
       "      <td>9889.0</td>\n",
       "      <td>NaN</td>\n",
       "      <td>340168.0</td>\n",
       "      <td>NaN</td>\n",
       "      <td>16614.0</td>\n",
       "      <td>1358.0</td>\n",
       "      <td>19165.0</td>\n",
       "      <td>517.0</td>\n",
       "      <td>1760615.0</td>\n",
       "      <td>92022.0</td>\n",
       "      <td>Americas</td>\n",
       "      <td>CHL</td>\n",
       "    </tr>\n",
       "    <tr>\n",
       "      <th>8</th>\n",
       "      <td>Colombia</td>\n",
       "      <td>South America</td>\n",
       "      <td>5.093626e+07</td>\n",
       "      <td>357710</td>\n",
       "      <td>NaN</td>\n",
       "      <td>11939.0</td>\n",
       "      <td>NaN</td>\n",
       "      <td>192355.0</td>\n",
       "      <td>NaN</td>\n",
       "      <td>153416.0</td>\n",
       "      <td>1493.0</td>\n",
       "      <td>7023.0</td>\n",
       "      <td>234.0</td>\n",
       "      <td>1801835.0</td>\n",
       "      <td>35374.0</td>\n",
       "      <td>Americas</td>\n",
       "      <td>COL</td>\n",
       "    </tr>\n",
       "    <tr>\n",
       "      <th>9</th>\n",
       "      <td>Spain</td>\n",
       "      <td>Europe</td>\n",
       "      <td>4.675665e+07</td>\n",
       "      <td>354530</td>\n",
       "      <td>NaN</td>\n",
       "      <td>28500.0</td>\n",
       "      <td>NaN</td>\n",
       "      <td>NaN</td>\n",
       "      <td>NaN</td>\n",
       "      <td>NaN</td>\n",
       "      <td>617.0</td>\n",
       "      <td>7582.0</td>\n",
       "      <td>610.0</td>\n",
       "      <td>7064329.0</td>\n",
       "      <td>151087.0</td>\n",
       "      <td>Europe</td>\n",
       "      <td>ESP</td>\n",
       "    </tr>\n",
       "    <tr>\n",
       "      <th>10</th>\n",
       "      <td>Iran</td>\n",
       "      <td>Asia</td>\n",
       "      <td>8.409762e+07</td>\n",
       "      <td>320117</td>\n",
       "      <td>NaN</td>\n",
       "      <td>17976.0</td>\n",
       "      <td>NaN</td>\n",
       "      <td>277463.0</td>\n",
       "      <td>NaN</td>\n",
       "      <td>24678.0</td>\n",
       "      <td>4156.0</td>\n",
       "      <td>3806.0</td>\n",
       "      <td>214.0</td>\n",
       "      <td>2612763.0</td>\n",
       "      <td>31068.0</td>\n",
       "      <td>EasternMediterranean</td>\n",
       "      <td>IRN</td>\n",
       "    </tr>\n",
       "    <tr>\n",
       "      <th>11</th>\n",
       "      <td>UK</td>\n",
       "      <td>Europe</td>\n",
       "      <td>6.792203e+07</td>\n",
       "      <td>308134</td>\n",
       "      <td>NaN</td>\n",
       "      <td>46413.0</td>\n",
       "      <td>NaN</td>\n",
       "      <td>NaN</td>\n",
       "      <td>NaN</td>\n",
       "      <td>NaN</td>\n",
       "      <td>73.0</td>\n",
       "      <td>4537.0</td>\n",
       "      <td>683.0</td>\n",
       "      <td>17515234.0</td>\n",
       "      <td>257873.0</td>\n",
       "      <td>Europe</td>\n",
       "      <td>UKR</td>\n",
       "    </tr>\n",
       "    <tr>\n",
       "      <th>12</th>\n",
       "      <td>Saudi Arabia</td>\n",
       "      <td>Asia</td>\n",
       "      <td>3.486592e+07</td>\n",
       "      <td>284226</td>\n",
       "      <td>NaN</td>\n",
       "      <td>3055.0</td>\n",
       "      <td>NaN</td>\n",
       "      <td>247089.0</td>\n",
       "      <td>NaN</td>\n",
       "      <td>34082.0</td>\n",
       "      <td>1915.0</td>\n",
       "      <td>8152.0</td>\n",
       "      <td>88.0</td>\n",
       "      <td>3635705.0</td>\n",
       "      <td>104277.0</td>\n",
       "      <td>EasternMediterranean</td>\n",
       "      <td>SAU</td>\n",
       "    </tr>\n",
       "    <tr>\n",
       "      <th>13</th>\n",
       "      <td>Pakistan</td>\n",
       "      <td>Asia</td>\n",
       "      <td>2.212959e+08</td>\n",
       "      <td>281863</td>\n",
       "      <td>NaN</td>\n",
       "      <td>6035.0</td>\n",
       "      <td>NaN</td>\n",
       "      <td>256058.0</td>\n",
       "      <td>NaN</td>\n",
       "      <td>19770.0</td>\n",
       "      <td>809.0</td>\n",
       "      <td>1274.0</td>\n",
       "      <td>27.0</td>\n",
       "      <td>2058872.0</td>\n",
       "      <td>9304.0</td>\n",
       "      <td>EasternMediterranean</td>\n",
       "      <td>PAK</td>\n",
       "    </tr>\n",
       "    <tr>\n",
       "      <th>14</th>\n",
       "      <td>Bangladesh</td>\n",
       "      <td>Asia</td>\n",
       "      <td>1.648514e+08</td>\n",
       "      <td>249651</td>\n",
       "      <td>NaN</td>\n",
       "      <td>3306.0</td>\n",
       "      <td>NaN</td>\n",
       "      <td>143824.0</td>\n",
       "      <td>NaN</td>\n",
       "      <td>102521.0</td>\n",
       "      <td>NaN</td>\n",
       "      <td>1514.0</td>\n",
       "      <td>20.0</td>\n",
       "      <td>1225124.0</td>\n",
       "      <td>7432.0</td>\n",
       "      <td>South-EastAsia</td>\n",
       "      <td>BGD</td>\n",
       "    </tr>\n",
       "    <tr>\n",
       "      <th>15</th>\n",
       "      <td>Italy</td>\n",
       "      <td>Europe</td>\n",
       "      <td>6.045257e+07</td>\n",
       "      <td>249204</td>\n",
       "      <td>NaN</td>\n",
       "      <td>35187.0</td>\n",
       "      <td>NaN</td>\n",
       "      <td>201323.0</td>\n",
       "      <td>NaN</td>\n",
       "      <td>12694.0</td>\n",
       "      <td>42.0</td>\n",
       "      <td>4122.0</td>\n",
       "      <td>582.0</td>\n",
       "      <td>7099713.0</td>\n",
       "      <td>117443.0</td>\n",
       "      <td>Europe</td>\n",
       "      <td>ITA</td>\n",
       "    </tr>\n",
       "    <tr>\n",
       "      <th>16</th>\n",
       "      <td>Turkey</td>\n",
       "      <td>Asia</td>\n",
       "      <td>8.442833e+07</td>\n",
       "      <td>237265</td>\n",
       "      <td>NaN</td>\n",
       "      <td>5798.0</td>\n",
       "      <td>NaN</td>\n",
       "      <td>220546.0</td>\n",
       "      <td>NaN</td>\n",
       "      <td>10921.0</td>\n",
       "      <td>580.0</td>\n",
       "      <td>2810.0</td>\n",
       "      <td>69.0</td>\n",
       "      <td>5081802.0</td>\n",
       "      <td>60191.0</td>\n",
       "      <td>Europe</td>\n",
       "      <td>TUR</td>\n",
       "    </tr>\n",
       "    <tr>\n",
       "      <th>17</th>\n",
       "      <td>Argentina</td>\n",
       "      <td>South America</td>\n",
       "      <td>4.523688e+07</td>\n",
       "      <td>228195</td>\n",
       "      <td>NaN</td>\n",
       "      <td>4251.0</td>\n",
       "      <td>NaN</td>\n",
       "      <td>99852.0</td>\n",
       "      <td>NaN</td>\n",
       "      <td>124092.0</td>\n",
       "      <td>1150.0</td>\n",
       "      <td>5044.0</td>\n",
       "      <td>94.0</td>\n",
       "      <td>794544.0</td>\n",
       "      <td>17564.0</td>\n",
       "      <td>Americas</td>\n",
       "      <td>ARG</td>\n",
       "    </tr>\n",
       "    <tr>\n",
       "      <th>18</th>\n",
       "      <td>Germany</td>\n",
       "      <td>Europe</td>\n",
       "      <td>8.381126e+07</td>\n",
       "      <td>215210</td>\n",
       "      <td>NaN</td>\n",
       "      <td>9252.0</td>\n",
       "      <td>NaN</td>\n",
       "      <td>196200.0</td>\n",
       "      <td>NaN</td>\n",
       "      <td>9758.0</td>\n",
       "      <td>236.0</td>\n",
       "      <td>2568.0</td>\n",
       "      <td>110.0</td>\n",
       "      <td>8586648.0</td>\n",
       "      <td>102452.0</td>\n",
       "      <td>Europe</td>\n",
       "      <td>DEU</td>\n",
       "    </tr>\n",
       "    <tr>\n",
       "      <th>19</th>\n",
       "      <td>France</td>\n",
       "      <td>Europe</td>\n",
       "      <td>6.528831e+07</td>\n",
       "      <td>195633</td>\n",
       "      <td>NaN</td>\n",
       "      <td>30312.0</td>\n",
       "      <td>NaN</td>\n",
       "      <td>82460.0</td>\n",
       "      <td>NaN</td>\n",
       "      <td>82861.0</td>\n",
       "      <td>384.0</td>\n",
       "      <td>2996.0</td>\n",
       "      <td>464.0</td>\n",
       "      <td>3992206.0</td>\n",
       "      <td>61147.0</td>\n",
       "      <td>Europe</td>\n",
       "      <td>FRA</td>\n",
       "    </tr>\n",
       "    <tr>\n",
       "      <th>20</th>\n",
       "      <td>Iraq</td>\n",
       "      <td>Asia</td>\n",
       "      <td>4.030602e+07</td>\n",
       "      <td>140603</td>\n",
       "      <td>NaN</td>\n",
       "      <td>5161.0</td>\n",
       "      <td>NaN</td>\n",
       "      <td>101025.0</td>\n",
       "      <td>NaN</td>\n",
       "      <td>34417.0</td>\n",
       "      <td>517.0</td>\n",
       "      <td>3488.0</td>\n",
       "      <td>128.0</td>\n",
       "      <td>1092741.0</td>\n",
       "      <td>27111.0</td>\n",
       "      <td>EasternMediterranean</td>\n",
       "      <td>IRQ</td>\n",
       "    </tr>\n",
       "    <tr>\n",
       "      <th>21</th>\n",
       "      <td>Philippines</td>\n",
       "      <td>Asia</td>\n",
       "      <td>1.097227e+08</td>\n",
       "      <td>119460</td>\n",
       "      <td>NaN</td>\n",
       "      <td>2150.0</td>\n",
       "      <td>NaN</td>\n",
       "      <td>66837.0</td>\n",
       "      <td>NaN</td>\n",
       "      <td>50473.0</td>\n",
       "      <td>239.0</td>\n",
       "      <td>1089.0</td>\n",
       "      <td>20.0</td>\n",
       "      <td>1669996.0</td>\n",
       "      <td>15220.0</td>\n",
       "      <td>WesternPacific</td>\n",
       "      <td>PHL</td>\n",
       "    </tr>\n",
       "    <tr>\n",
       "      <th>22</th>\n",
       "      <td>Indonesia</td>\n",
       "      <td>Asia</td>\n",
       "      <td>2.738084e+08</td>\n",
       "      <td>118753</td>\n",
       "      <td>NaN</td>\n",
       "      <td>5521.0</td>\n",
       "      <td>NaN</td>\n",
       "      <td>75645.0</td>\n",
       "      <td>NaN</td>\n",
       "      <td>37587.0</td>\n",
       "      <td>NaN</td>\n",
       "      <td>434.0</td>\n",
       "      <td>20.0</td>\n",
       "      <td>1633156.0</td>\n",
       "      <td>5965.0</td>\n",
       "      <td>South-EastAsia</td>\n",
       "      <td>IDN</td>\n",
       "    </tr>\n",
       "    <tr>\n",
       "      <th>23</th>\n",
       "      <td>Canada</td>\n",
       "      <td>North America</td>\n",
       "      <td>3.777502e+07</td>\n",
       "      <td>118561</td>\n",
       "      <td>NaN</td>\n",
       "      <td>8966.0</td>\n",
       "      <td>NaN</td>\n",
       "      <td>103106.0</td>\n",
       "      <td>NaN</td>\n",
       "      <td>6489.0</td>\n",
       "      <td>2263.0</td>\n",
       "      <td>3139.0</td>\n",
       "      <td>237.0</td>\n",
       "      <td>4319172.0</td>\n",
       "      <td>114339.0</td>\n",
       "      <td>Americas</td>\n",
       "      <td>CAN</td>\n",
       "    </tr>\n",
       "    <tr>\n",
       "      <th>24</th>\n",
       "      <td>Qatar</td>\n",
       "      <td>Asia</td>\n",
       "      <td>2.807805e+06</td>\n",
       "      <td>112092</td>\n",
       "      <td>NaN</td>\n",
       "      <td>178.0</td>\n",
       "      <td>NaN</td>\n",
       "      <td>108831.0</td>\n",
       "      <td>NaN</td>\n",
       "      <td>3083.0</td>\n",
       "      <td>77.0</td>\n",
       "      <td>39922.0</td>\n",
       "      <td>63.0</td>\n",
       "      <td>511000.0</td>\n",
       "      <td>181993.0</td>\n",
       "      <td>EasternMediterranean</td>\n",
       "      <td>QAT</td>\n",
       "    </tr>\n",
       "    <tr>\n",
       "      <th>25</th>\n",
       "      <td>Kazakhstan</td>\n",
       "      <td>Asia</td>\n",
       "      <td>1.879867e+07</td>\n",
       "      <td>95942</td>\n",
       "      <td>NaN</td>\n",
       "      <td>1058.0</td>\n",
       "      <td>NaN</td>\n",
       "      <td>68871.0</td>\n",
       "      <td>NaN</td>\n",
       "      <td>26013.0</td>\n",
       "      <td>221.0</td>\n",
       "      <td>5104.0</td>\n",
       "      <td>56.0</td>\n",
       "      <td>2163713.0</td>\n",
       "      <td>115099.0</td>\n",
       "      <td>Europe</td>\n",
       "      <td>KAZ</td>\n",
       "    </tr>\n",
       "    <tr>\n",
       "      <th>26</th>\n",
       "      <td>Egypt</td>\n",
       "      <td>Africa</td>\n",
       "      <td>1.025165e+08</td>\n",
       "      <td>95006</td>\n",
       "      <td>NaN</td>\n",
       "      <td>4951.0</td>\n",
       "      <td>NaN</td>\n",
       "      <td>48898.0</td>\n",
       "      <td>NaN</td>\n",
       "      <td>41157.0</td>\n",
       "      <td>41.0</td>\n",
       "      <td>927.0</td>\n",
       "      <td>48.0</td>\n",
       "      <td>135000.0</td>\n",
       "      <td>1317.0</td>\n",
       "      <td>EasternMediterranean</td>\n",
       "      <td>EGY</td>\n",
       "    </tr>\n",
       "    <tr>\n",
       "      <th>27</th>\n",
       "      <td>Ecuador</td>\n",
       "      <td>South America</td>\n",
       "      <td>1.766882e+07</td>\n",
       "      <td>90537</td>\n",
       "      <td>NaN</td>\n",
       "      <td>5877.0</td>\n",
       "      <td>NaN</td>\n",
       "      <td>71318.0</td>\n",
       "      <td>NaN</td>\n",
       "      <td>13342.0</td>\n",
       "      <td>378.0</td>\n",
       "      <td>5124.0</td>\n",
       "      <td>333.0</td>\n",
       "      <td>258582.0</td>\n",
       "      <td>14635.0</td>\n",
       "      <td>Americas</td>\n",
       "      <td>ECU</td>\n",
       "    </tr>\n",
       "    <tr>\n",
       "      <th>28</th>\n",
       "      <td>Bolivia</td>\n",
       "      <td>South America</td>\n",
       "      <td>1.168846e+07</td>\n",
       "      <td>86423</td>\n",
       "      <td>1282.0</td>\n",
       "      <td>3465.0</td>\n",
       "      <td>80.0</td>\n",
       "      <td>27373.0</td>\n",
       "      <td>936.0</td>\n",
       "      <td>55585.0</td>\n",
       "      <td>71.0</td>\n",
       "      <td>7394.0</td>\n",
       "      <td>296.0</td>\n",
       "      <td>183583.0</td>\n",
       "      <td>15706.0</td>\n",
       "      <td>Americas</td>\n",
       "      <td>BOL</td>\n",
       "    </tr>\n",
       "    <tr>\n",
       "      <th>29</th>\n",
       "      <td>Sweden</td>\n",
       "      <td>Europe</td>\n",
       "      <td>1.010560e+07</td>\n",
       "      <td>81967</td>\n",
       "      <td>NaN</td>\n",
       "      <td>5766.0</td>\n",
       "      <td>NaN</td>\n",
       "      <td>NaN</td>\n",
       "      <td>NaN</td>\n",
       "      <td>NaN</td>\n",
       "      <td>38.0</td>\n",
       "      <td>8111.0</td>\n",
       "      <td>571.0</td>\n",
       "      <td>863315.0</td>\n",
       "      <td>85429.0</td>\n",
       "      <td>Europe</td>\n",
       "      <td>SWE</td>\n",
       "    </tr>\n",
       "    <tr>\n",
       "      <th>...</th>\n",
       "      <td>...</td>\n",
       "      <td>...</td>\n",
       "      <td>...</td>\n",
       "      <td>...</td>\n",
       "      <td>...</td>\n",
       "      <td>...</td>\n",
       "      <td>...</td>\n",
       "      <td>...</td>\n",
       "      <td>...</td>\n",
       "      <td>...</td>\n",
       "      <td>...</td>\n",
       "      <td>...</td>\n",
       "      <td>...</td>\n",
       "      <td>...</td>\n",
       "      <td>...</td>\n",
       "      <td>...</td>\n",
       "      <td>...</td>\n",
       "    </tr>\n",
       "    <tr>\n",
       "      <th>179</th>\n",
       "      <td>Sint Maarten</td>\n",
       "      <td>North America</td>\n",
       "      <td>4.292400e+04</td>\n",
       "      <td>160</td>\n",
       "      <td>NaN</td>\n",
       "      <td>16.0</td>\n",
       "      <td>NaN</td>\n",
       "      <td>64.0</td>\n",
       "      <td>NaN</td>\n",
       "      <td>80.0</td>\n",
       "      <td>3.0</td>\n",
       "      <td>3728.0</td>\n",
       "      <td>373.0</td>\n",
       "      <td>1115.0</td>\n",
       "      <td>25976.0</td>\n",
       "      <td>NaN</td>\n",
       "      <td>NLD</td>\n",
       "    </tr>\n",
       "    <tr>\n",
       "      <th>180</th>\n",
       "      <td>Bermuda</td>\n",
       "      <td>North America</td>\n",
       "      <td>6.225400e+04</td>\n",
       "      <td>157</td>\n",
       "      <td>NaN</td>\n",
       "      <td>9.0</td>\n",
       "      <td>NaN</td>\n",
       "      <td>144.0</td>\n",
       "      <td>NaN</td>\n",
       "      <td>4.0</td>\n",
       "      <td>NaN</td>\n",
       "      <td>2522.0</td>\n",
       "      <td>145.0</td>\n",
       "      <td>26352.0</td>\n",
       "      <td>423298.0</td>\n",
       "      <td>Americas</td>\n",
       "      <td>BMU</td>\n",
       "    </tr>\n",
       "    <tr>\n",
       "      <th>181</th>\n",
       "      <td>Brunei</td>\n",
       "      <td>Asia</td>\n",
       "      <td>4.378930e+05</td>\n",
       "      <td>141</td>\n",
       "      <td>NaN</td>\n",
       "      <td>3.0</td>\n",
       "      <td>NaN</td>\n",
       "      <td>138.0</td>\n",
       "      <td>NaN</td>\n",
       "      <td>0.0</td>\n",
       "      <td>NaN</td>\n",
       "      <td>322.0</td>\n",
       "      <td>7.0</td>\n",
       "      <td>41148.0</td>\n",
       "      <td>93968.0</td>\n",
       "      <td>NaN</td>\n",
       "      <td>BRN</td>\n",
       "    </tr>\n",
       "    <tr>\n",
       "      <th>182</th>\n",
       "      <td>Barbados</td>\n",
       "      <td>North America</td>\n",
       "      <td>2.874110e+05</td>\n",
       "      <td>133</td>\n",
       "      <td>NaN</td>\n",
       "      <td>7.0</td>\n",
       "      <td>NaN</td>\n",
       "      <td>100.0</td>\n",
       "      <td>NaN</td>\n",
       "      <td>26.0</td>\n",
       "      <td>NaN</td>\n",
       "      <td>463.0</td>\n",
       "      <td>24.0</td>\n",
       "      <td>12233.0</td>\n",
       "      <td>42563.0</td>\n",
       "      <td>Americas</td>\n",
       "      <td>BRB</td>\n",
       "    </tr>\n",
       "    <tr>\n",
       "      <th>183</th>\n",
       "      <td>Turks and Caicos</td>\n",
       "      <td>North America</td>\n",
       "      <td>3.876800e+04</td>\n",
       "      <td>129</td>\n",
       "      <td>NaN</td>\n",
       "      <td>2.0</td>\n",
       "      <td>NaN</td>\n",
       "      <td>39.0</td>\n",
       "      <td>NaN</td>\n",
       "      <td>88.0</td>\n",
       "      <td>3.0</td>\n",
       "      <td>3327.0</td>\n",
       "      <td>52.0</td>\n",
       "      <td>1252.0</td>\n",
       "      <td>32295.0</td>\n",
       "      <td>NaN</td>\n",
       "      <td>TCA</td>\n",
       "    </tr>\n",
       "    <tr>\n",
       "      <th>184</th>\n",
       "      <td>Seychelles</td>\n",
       "      <td>Africa</td>\n",
       "      <td>9.840800e+04</td>\n",
       "      <td>126</td>\n",
       "      <td>NaN</td>\n",
       "      <td>NaN</td>\n",
       "      <td>NaN</td>\n",
       "      <td>124.0</td>\n",
       "      <td>NaN</td>\n",
       "      <td>2.0</td>\n",
       "      <td>NaN</td>\n",
       "      <td>1280.0</td>\n",
       "      <td>NaN</td>\n",
       "      <td>NaN</td>\n",
       "      <td>NaN</td>\n",
       "      <td>Africa</td>\n",
       "      <td>SYC</td>\n",
       "    </tr>\n",
       "    <tr>\n",
       "      <th>185</th>\n",
       "      <td>Monaco</td>\n",
       "      <td>Europe</td>\n",
       "      <td>3.927000e+04</td>\n",
       "      <td>125</td>\n",
       "      <td>NaN</td>\n",
       "      <td>4.0</td>\n",
       "      <td>NaN</td>\n",
       "      <td>105.0</td>\n",
       "      <td>NaN</td>\n",
       "      <td>16.0</td>\n",
       "      <td>2.0</td>\n",
       "      <td>3183.0</td>\n",
       "      <td>102.0</td>\n",
       "      <td>38209.0</td>\n",
       "      <td>972982.0</td>\n",
       "      <td>Europe</td>\n",
       "      <td>MCO</td>\n",
       "    </tr>\n",
       "    <tr>\n",
       "      <th>186</th>\n",
       "      <td>Bhutan</td>\n",
       "      <td>Asia</td>\n",
       "      <td>7.724430e+05</td>\n",
       "      <td>105</td>\n",
       "      <td>NaN</td>\n",
       "      <td>NaN</td>\n",
       "      <td>NaN</td>\n",
       "      <td>93.0</td>\n",
       "      <td>NaN</td>\n",
       "      <td>12.0</td>\n",
       "      <td>NaN</td>\n",
       "      <td>136.0</td>\n",
       "      <td>NaN</td>\n",
       "      <td>54589.0</td>\n",
       "      <td>70671.0</td>\n",
       "      <td>South-EastAsia</td>\n",
       "      <td>BTN</td>\n",
       "    </tr>\n",
       "    <tr>\n",
       "      <th>187</th>\n",
       "      <td>Antigua and Barbuda</td>\n",
       "      <td>North America</td>\n",
       "      <td>9.801000e+04</td>\n",
       "      <td>92</td>\n",
       "      <td>NaN</td>\n",
       "      <td>3.0</td>\n",
       "      <td>NaN</td>\n",
       "      <td>76.0</td>\n",
       "      <td>NaN</td>\n",
       "      <td>13.0</td>\n",
       "      <td>1.0</td>\n",
       "      <td>939.0</td>\n",
       "      <td>31.0</td>\n",
       "      <td>1500.0</td>\n",
       "      <td>15305.0</td>\n",
       "      <td>Americas</td>\n",
       "      <td>ATG</td>\n",
       "    </tr>\n",
       "    <tr>\n",
       "      <th>188</th>\n",
       "      <td>Liechtenstein</td>\n",
       "      <td>Europe</td>\n",
       "      <td>3.813900e+04</td>\n",
       "      <td>89</td>\n",
       "      <td>NaN</td>\n",
       "      <td>1.0</td>\n",
       "      <td>NaN</td>\n",
       "      <td>85.0</td>\n",
       "      <td>NaN</td>\n",
       "      <td>3.0</td>\n",
       "      <td>NaN</td>\n",
       "      <td>2334.0</td>\n",
       "      <td>26.0</td>\n",
       "      <td>900.0</td>\n",
       "      <td>23598.0</td>\n",
       "      <td>Europe</td>\n",
       "      <td>LIE</td>\n",
       "    </tr>\n",
       "    <tr>\n",
       "      <th>189</th>\n",
       "      <td>Belize</td>\n",
       "      <td>North America</td>\n",
       "      <td>3.983120e+05</td>\n",
       "      <td>86</td>\n",
       "      <td>NaN</td>\n",
       "      <td>2.0</td>\n",
       "      <td>NaN</td>\n",
       "      <td>31.0</td>\n",
       "      <td>NaN</td>\n",
       "      <td>53.0</td>\n",
       "      <td>2.0</td>\n",
       "      <td>216.0</td>\n",
       "      <td>5.0</td>\n",
       "      <td>3679.0</td>\n",
       "      <td>9236.0</td>\n",
       "      <td>Americas</td>\n",
       "      <td>BLZ</td>\n",
       "    </tr>\n",
       "    <tr>\n",
       "      <th>190</th>\n",
       "      <td>French Polynesia</td>\n",
       "      <td>Australia/Oceania</td>\n",
       "      <td>2.810720e+05</td>\n",
       "      <td>64</td>\n",
       "      <td>NaN</td>\n",
       "      <td>NaN</td>\n",
       "      <td>NaN</td>\n",
       "      <td>62.0</td>\n",
       "      <td>NaN</td>\n",
       "      <td>2.0</td>\n",
       "      <td>NaN</td>\n",
       "      <td>228.0</td>\n",
       "      <td>NaN</td>\n",
       "      <td>5849.0</td>\n",
       "      <td>20810.0</td>\n",
       "      <td>NaN</td>\n",
       "      <td>PYF</td>\n",
       "    </tr>\n",
       "    <tr>\n",
       "      <th>191</th>\n",
       "      <td>St. Vincent Grenadines</td>\n",
       "      <td>North America</td>\n",
       "      <td>1.109760e+05</td>\n",
       "      <td>56</td>\n",
       "      <td>NaN</td>\n",
       "      <td>NaN</td>\n",
       "      <td>NaN</td>\n",
       "      <td>46.0</td>\n",
       "      <td>NaN</td>\n",
       "      <td>10.0</td>\n",
       "      <td>NaN</td>\n",
       "      <td>505.0</td>\n",
       "      <td>NaN</td>\n",
       "      <td>2447.0</td>\n",
       "      <td>22050.0</td>\n",
       "      <td>NaN</td>\n",
       "      <td></td>\n",
       "    </tr>\n",
       "    <tr>\n",
       "      <th>192</th>\n",
       "      <td>Saint Martin</td>\n",
       "      <td>North America</td>\n",
       "      <td>3.872900e+04</td>\n",
       "      <td>53</td>\n",
       "      <td>NaN</td>\n",
       "      <td>3.0</td>\n",
       "      <td>NaN</td>\n",
       "      <td>41.0</td>\n",
       "      <td>NaN</td>\n",
       "      <td>9.0</td>\n",
       "      <td>1.0</td>\n",
       "      <td>1368.0</td>\n",
       "      <td>77.0</td>\n",
       "      <td>1183.0</td>\n",
       "      <td>30546.0</td>\n",
       "      <td>NaN</td>\n",
       "      <td>MAF</td>\n",
       "    </tr>\n",
       "    <tr>\n",
       "      <th>193</th>\n",
       "      <td>Macao</td>\n",
       "      <td>Asia</td>\n",
       "      <td>6.501930e+05</td>\n",
       "      <td>46</td>\n",
       "      <td>NaN</td>\n",
       "      <td>NaN</td>\n",
       "      <td>NaN</td>\n",
       "      <td>46.0</td>\n",
       "      <td>NaN</td>\n",
       "      <td>0.0</td>\n",
       "      <td>NaN</td>\n",
       "      <td>71.0</td>\n",
       "      <td>NaN</td>\n",
       "      <td>4071.0</td>\n",
       "      <td>6261.0</td>\n",
       "      <td>NaN</td>\n",
       "      <td>MAC</td>\n",
       "    </tr>\n",
       "    <tr>\n",
       "      <th>194</th>\n",
       "      <td>Curaçao</td>\n",
       "      <td>North America</td>\n",
       "      <td>1.641610e+05</td>\n",
       "      <td>31</td>\n",
       "      <td>NaN</td>\n",
       "      <td>1.0</td>\n",
       "      <td>NaN</td>\n",
       "      <td>28.0</td>\n",
       "      <td>NaN</td>\n",
       "      <td>2.0</td>\n",
       "      <td>NaN</td>\n",
       "      <td>189.0</td>\n",
       "      <td>6.0</td>\n",
       "      <td>1080.0</td>\n",
       "      <td>6579.0</td>\n",
       "      <td>NaN</td>\n",
       "      <td>NLD</td>\n",
       "    </tr>\n",
       "    <tr>\n",
       "      <th>195</th>\n",
       "      <td>Fiji</td>\n",
       "      <td>Australia/Oceania</td>\n",
       "      <td>8.970950e+05</td>\n",
       "      <td>27</td>\n",
       "      <td>NaN</td>\n",
       "      <td>1.0</td>\n",
       "      <td>NaN</td>\n",
       "      <td>18.0</td>\n",
       "      <td>NaN</td>\n",
       "      <td>8.0</td>\n",
       "      <td>NaN</td>\n",
       "      <td>30.0</td>\n",
       "      <td>1.0</td>\n",
       "      <td>6693.0</td>\n",
       "      <td>7461.0</td>\n",
       "      <td>WesternPacific</td>\n",
       "      <td>FJI</td>\n",
       "    </tr>\n",
       "    <tr>\n",
       "      <th>196</th>\n",
       "      <td>Saint Lucia</td>\n",
       "      <td>North America</td>\n",
       "      <td>1.837120e+05</td>\n",
       "      <td>25</td>\n",
       "      <td>NaN</td>\n",
       "      <td>NaN</td>\n",
       "      <td>NaN</td>\n",
       "      <td>24.0</td>\n",
       "      <td>NaN</td>\n",
       "      <td>1.0</td>\n",
       "      <td>NaN</td>\n",
       "      <td>136.0</td>\n",
       "      <td>NaN</td>\n",
       "      <td>3895.0</td>\n",
       "      <td>21202.0</td>\n",
       "      <td>Americas</td>\n",
       "      <td>LCA</td>\n",
       "    </tr>\n",
       "    <tr>\n",
       "      <th>197</th>\n",
       "      <td>Timor-Leste</td>\n",
       "      <td>Asia</td>\n",
       "      <td>1.320812e+06</td>\n",
       "      <td>25</td>\n",
       "      <td>NaN</td>\n",
       "      <td>NaN</td>\n",
       "      <td>NaN</td>\n",
       "      <td>24.0</td>\n",
       "      <td>NaN</td>\n",
       "      <td>1.0</td>\n",
       "      <td>NaN</td>\n",
       "      <td>19.0</td>\n",
       "      <td>NaN</td>\n",
       "      <td>4238.0</td>\n",
       "      <td>3209.0</td>\n",
       "      <td>South-EastAsia</td>\n",
       "      <td>TLS</td>\n",
       "    </tr>\n",
       "    <tr>\n",
       "      <th>198</th>\n",
       "      <td>Grenada</td>\n",
       "      <td>North America</td>\n",
       "      <td>1.125760e+05</td>\n",
       "      <td>24</td>\n",
       "      <td>NaN</td>\n",
       "      <td>NaN</td>\n",
       "      <td>NaN</td>\n",
       "      <td>23.0</td>\n",
       "      <td>NaN</td>\n",
       "      <td>1.0</td>\n",
       "      <td>NaN</td>\n",
       "      <td>213.0</td>\n",
       "      <td>NaN</td>\n",
       "      <td>6252.0</td>\n",
       "      <td>55536.0</td>\n",
       "      <td>Americas</td>\n",
       "      <td>GRD</td>\n",
       "    </tr>\n",
       "    <tr>\n",
       "      <th>199</th>\n",
       "      <td>New Caledonia</td>\n",
       "      <td>Australia/Oceania</td>\n",
       "      <td>2.857690e+05</td>\n",
       "      <td>22</td>\n",
       "      <td>NaN</td>\n",
       "      <td>NaN</td>\n",
       "      <td>NaN</td>\n",
       "      <td>22.0</td>\n",
       "      <td>NaN</td>\n",
       "      <td>0.0</td>\n",
       "      <td>NaN</td>\n",
       "      <td>77.0</td>\n",
       "      <td>NaN</td>\n",
       "      <td>11099.0</td>\n",
       "      <td>38839.0</td>\n",
       "      <td>NaN</td>\n",
       "      <td>NCL</td>\n",
       "    </tr>\n",
       "    <tr>\n",
       "      <th>200</th>\n",
       "      <td>Laos</td>\n",
       "      <td>Asia</td>\n",
       "      <td>7.285750e+06</td>\n",
       "      <td>20</td>\n",
       "      <td>NaN</td>\n",
       "      <td>NaN</td>\n",
       "      <td>NaN</td>\n",
       "      <td>19.0</td>\n",
       "      <td>NaN</td>\n",
       "      <td>1.0</td>\n",
       "      <td>NaN</td>\n",
       "      <td>3.0</td>\n",
       "      <td>NaN</td>\n",
       "      <td>29374.0</td>\n",
       "      <td>4032.0</td>\n",
       "      <td>WesternPacific</td>\n",
       "      <td></td>\n",
       "    </tr>\n",
       "    <tr>\n",
       "      <th>201</th>\n",
       "      <td>Dominica</td>\n",
       "      <td>North America</td>\n",
       "      <td>7.200400e+04</td>\n",
       "      <td>18</td>\n",
       "      <td>NaN</td>\n",
       "      <td>NaN</td>\n",
       "      <td>NaN</td>\n",
       "      <td>18.0</td>\n",
       "      <td>NaN</td>\n",
       "      <td>0.0</td>\n",
       "      <td>NaN</td>\n",
       "      <td>250.0</td>\n",
       "      <td>NaN</td>\n",
       "      <td>1005.0</td>\n",
       "      <td>13958.0</td>\n",
       "      <td>Americas</td>\n",
       "      <td>DMA</td>\n",
       "    </tr>\n",
       "    <tr>\n",
       "      <th>202</th>\n",
       "      <td>Saint Kitts and Nevis</td>\n",
       "      <td>North America</td>\n",
       "      <td>5.323700e+04</td>\n",
       "      <td>17</td>\n",
       "      <td>NaN</td>\n",
       "      <td>NaN</td>\n",
       "      <td>NaN</td>\n",
       "      <td>16.0</td>\n",
       "      <td>NaN</td>\n",
       "      <td>1.0</td>\n",
       "      <td>NaN</td>\n",
       "      <td>319.0</td>\n",
       "      <td>NaN</td>\n",
       "      <td>1146.0</td>\n",
       "      <td>21526.0</td>\n",
       "      <td>Americas</td>\n",
       "      <td>KNA</td>\n",
       "    </tr>\n",
       "    <tr>\n",
       "      <th>203</th>\n",
       "      <td>Greenland</td>\n",
       "      <td>North America</td>\n",
       "      <td>5.678000e+04</td>\n",
       "      <td>14</td>\n",
       "      <td>NaN</td>\n",
       "      <td>NaN</td>\n",
       "      <td>NaN</td>\n",
       "      <td>14.0</td>\n",
       "      <td>NaN</td>\n",
       "      <td>0.0</td>\n",
       "      <td>NaN</td>\n",
       "      <td>247.0</td>\n",
       "      <td>NaN</td>\n",
       "      <td>5977.0</td>\n",
       "      <td>105266.0</td>\n",
       "      <td>Europe</td>\n",
       "      <td>GRL</td>\n",
       "    </tr>\n",
       "    <tr>\n",
       "      <th>204</th>\n",
       "      <td>Montserrat</td>\n",
       "      <td>North America</td>\n",
       "      <td>4.992000e+03</td>\n",
       "      <td>13</td>\n",
       "      <td>NaN</td>\n",
       "      <td>1.0</td>\n",
       "      <td>NaN</td>\n",
       "      <td>10.0</td>\n",
       "      <td>NaN</td>\n",
       "      <td>2.0</td>\n",
       "      <td>NaN</td>\n",
       "      <td>2604.0</td>\n",
       "      <td>200.0</td>\n",
       "      <td>61.0</td>\n",
       "      <td>12220.0</td>\n",
       "      <td>NaN</td>\n",
       "      <td>MSR</td>\n",
       "    </tr>\n",
       "    <tr>\n",
       "      <th>205</th>\n",
       "      <td>Caribbean Netherlands</td>\n",
       "      <td>North America</td>\n",
       "      <td>2.624700e+04</td>\n",
       "      <td>13</td>\n",
       "      <td>NaN</td>\n",
       "      <td>NaN</td>\n",
       "      <td>NaN</td>\n",
       "      <td>7.0</td>\n",
       "      <td>NaN</td>\n",
       "      <td>6.0</td>\n",
       "      <td>NaN</td>\n",
       "      <td>495.0</td>\n",
       "      <td>NaN</td>\n",
       "      <td>424.0</td>\n",
       "      <td>16154.0</td>\n",
       "      <td>NaN</td>\n",
       "      <td></td>\n",
       "    </tr>\n",
       "    <tr>\n",
       "      <th>206</th>\n",
       "      <td>Falkland Islands</td>\n",
       "      <td>South America</td>\n",
       "      <td>3.489000e+03</td>\n",
       "      <td>13</td>\n",
       "      <td>NaN</td>\n",
       "      <td>NaN</td>\n",
       "      <td>NaN</td>\n",
       "      <td>13.0</td>\n",
       "      <td>NaN</td>\n",
       "      <td>0.0</td>\n",
       "      <td>NaN</td>\n",
       "      <td>3726.0</td>\n",
       "      <td>NaN</td>\n",
       "      <td>1816.0</td>\n",
       "      <td>520493.0</td>\n",
       "      <td>NaN</td>\n",
       "      <td>FLK</td>\n",
       "    </tr>\n",
       "    <tr>\n",
       "      <th>207</th>\n",
       "      <td>Vatican City</td>\n",
       "      <td>Europe</td>\n",
       "      <td>8.010000e+02</td>\n",
       "      <td>12</td>\n",
       "      <td>NaN</td>\n",
       "      <td>NaN</td>\n",
       "      <td>NaN</td>\n",
       "      <td>12.0</td>\n",
       "      <td>NaN</td>\n",
       "      <td>0.0</td>\n",
       "      <td>NaN</td>\n",
       "      <td>14981.0</td>\n",
       "      <td>NaN</td>\n",
       "      <td>NaN</td>\n",
       "      <td>NaN</td>\n",
       "      <td>Europe</td>\n",
       "      <td>VAT</td>\n",
       "    </tr>\n",
       "    <tr>\n",
       "      <th>208</th>\n",
       "      <td>Western Sahara</td>\n",
       "      <td>Africa</td>\n",
       "      <td>5.986820e+05</td>\n",
       "      <td>10</td>\n",
       "      <td>NaN</td>\n",
       "      <td>1.0</td>\n",
       "      <td>NaN</td>\n",
       "      <td>8.0</td>\n",
       "      <td>NaN</td>\n",
       "      <td>1.0</td>\n",
       "      <td>NaN</td>\n",
       "      <td>17.0</td>\n",
       "      <td>2.0</td>\n",
       "      <td>NaN</td>\n",
       "      <td>NaN</td>\n",
       "      <td>Africa</td>\n",
       "      <td>ESH</td>\n",
       "    </tr>\n",
       "  </tbody>\n",
       "</table>\n",
       "<p>209 rows × 17 columns</p>\n",
       "</div>"
      ],
      "text/plain": [
       "             Country/Region          Continent    Population  TotalCases  \\\n",
       "0                       USA      North America  3.311981e+08     5032179   \n",
       "1                    Brazil      South America  2.127107e+08     2917562   \n",
       "2                     India               Asia  1.381345e+09     2025409   \n",
       "3                    Russia             Europe  1.459409e+08      871894   \n",
       "4              South Africa             Africa  5.938157e+07      538184   \n",
       "5                    Mexico      North America  1.290662e+08      462690   \n",
       "6                      Peru      South America  3.301632e+07      455409   \n",
       "7                     Chile      South America  1.913251e+07      366671   \n",
       "8                  Colombia      South America  5.093626e+07      357710   \n",
       "9                     Spain             Europe  4.675665e+07      354530   \n",
       "10                     Iran               Asia  8.409762e+07      320117   \n",
       "11                       UK             Europe  6.792203e+07      308134   \n",
       "12             Saudi Arabia               Asia  3.486592e+07      284226   \n",
       "13                 Pakistan               Asia  2.212959e+08      281863   \n",
       "14               Bangladesh               Asia  1.648514e+08      249651   \n",
       "15                    Italy             Europe  6.045257e+07      249204   \n",
       "16                   Turkey               Asia  8.442833e+07      237265   \n",
       "17                Argentina      South America  4.523688e+07      228195   \n",
       "18                  Germany             Europe  8.381126e+07      215210   \n",
       "19                   France             Europe  6.528831e+07      195633   \n",
       "20                     Iraq               Asia  4.030602e+07      140603   \n",
       "21              Philippines               Asia  1.097227e+08      119460   \n",
       "22                Indonesia               Asia  2.738084e+08      118753   \n",
       "23                   Canada      North America  3.777502e+07      118561   \n",
       "24                    Qatar               Asia  2.807805e+06      112092   \n",
       "25               Kazakhstan               Asia  1.879867e+07       95942   \n",
       "26                    Egypt             Africa  1.025165e+08       95006   \n",
       "27                  Ecuador      South America  1.766882e+07       90537   \n",
       "28                  Bolivia      South America  1.168846e+07       86423   \n",
       "29                   Sweden             Europe  1.010560e+07       81967   \n",
       "..                      ...                ...           ...         ...   \n",
       "179            Sint Maarten      North America  4.292400e+04         160   \n",
       "180                 Bermuda      North America  6.225400e+04         157   \n",
       "181                 Brunei                Asia  4.378930e+05         141   \n",
       "182                Barbados      North America  2.874110e+05         133   \n",
       "183        Turks and Caicos      North America  3.876800e+04         129   \n",
       "184              Seychelles             Africa  9.840800e+04         126   \n",
       "185                  Monaco             Europe  3.927000e+04         125   \n",
       "186                  Bhutan               Asia  7.724430e+05         105   \n",
       "187     Antigua and Barbuda      North America  9.801000e+04          92   \n",
       "188           Liechtenstein             Europe  3.813900e+04          89   \n",
       "189                  Belize      North America  3.983120e+05          86   \n",
       "190        French Polynesia  Australia/Oceania  2.810720e+05          64   \n",
       "191  St. Vincent Grenadines      North America  1.109760e+05          56   \n",
       "192            Saint Martin      North America  3.872900e+04          53   \n",
       "193                   Macao               Asia  6.501930e+05          46   \n",
       "194                 Curaçao      North America  1.641610e+05          31   \n",
       "195                    Fiji  Australia/Oceania  8.970950e+05          27   \n",
       "196             Saint Lucia      North America  1.837120e+05          25   \n",
       "197             Timor-Leste               Asia  1.320812e+06          25   \n",
       "198                 Grenada      North America  1.125760e+05          24   \n",
       "199           New Caledonia  Australia/Oceania  2.857690e+05          22   \n",
       "200                    Laos               Asia  7.285750e+06          20   \n",
       "201                Dominica      North America  7.200400e+04          18   \n",
       "202   Saint Kitts and Nevis      North America  5.323700e+04          17   \n",
       "203               Greenland      North America  5.678000e+04          14   \n",
       "204              Montserrat      North America  4.992000e+03          13   \n",
       "205   Caribbean Netherlands      North America  2.624700e+04          13   \n",
       "206        Falkland Islands      South America  3.489000e+03          13   \n",
       "207            Vatican City             Europe  8.010000e+02          12   \n",
       "208          Western Sahara             Africa  5.986820e+05          10   \n",
       "\n",
       "     NewCases  TotalDeaths  NewDeaths  TotalRecovered  NewRecovered  \\\n",
       "0         NaN     162804.0        NaN       2576668.0           NaN   \n",
       "1         NaN      98644.0        NaN       2047660.0           NaN   \n",
       "2         NaN      41638.0        NaN       1377384.0           NaN   \n",
       "3         NaN      14606.0        NaN        676357.0           NaN   \n",
       "4         NaN       9604.0        NaN        387316.0           NaN   \n",
       "5      6590.0      50517.0      819.0        308848.0        4140.0   \n",
       "6         NaN      20424.0        NaN        310337.0           NaN   \n",
       "7         NaN       9889.0        NaN        340168.0           NaN   \n",
       "8         NaN      11939.0        NaN        192355.0           NaN   \n",
       "9         NaN      28500.0        NaN             NaN           NaN   \n",
       "10        NaN      17976.0        NaN        277463.0           NaN   \n",
       "11        NaN      46413.0        NaN             NaN           NaN   \n",
       "12        NaN       3055.0        NaN        247089.0           NaN   \n",
       "13        NaN       6035.0        NaN        256058.0           NaN   \n",
       "14        NaN       3306.0        NaN        143824.0           NaN   \n",
       "15        NaN      35187.0        NaN        201323.0           NaN   \n",
       "16        NaN       5798.0        NaN        220546.0           NaN   \n",
       "17        NaN       4251.0        NaN         99852.0           NaN   \n",
       "18        NaN       9252.0        NaN        196200.0           NaN   \n",
       "19        NaN      30312.0        NaN         82460.0           NaN   \n",
       "20        NaN       5161.0        NaN        101025.0           NaN   \n",
       "21        NaN       2150.0        NaN         66837.0           NaN   \n",
       "22        NaN       5521.0        NaN         75645.0           NaN   \n",
       "23        NaN       8966.0        NaN        103106.0           NaN   \n",
       "24        NaN        178.0        NaN        108831.0           NaN   \n",
       "25        NaN       1058.0        NaN         68871.0           NaN   \n",
       "26        NaN       4951.0        NaN         48898.0           NaN   \n",
       "27        NaN       5877.0        NaN         71318.0           NaN   \n",
       "28     1282.0       3465.0       80.0         27373.0         936.0   \n",
       "29        NaN       5766.0        NaN             NaN           NaN   \n",
       "..        ...          ...        ...             ...           ...   \n",
       "179       NaN         16.0        NaN            64.0           NaN   \n",
       "180       NaN          9.0        NaN           144.0           NaN   \n",
       "181       NaN          3.0        NaN           138.0           NaN   \n",
       "182       NaN          7.0        NaN           100.0           NaN   \n",
       "183       NaN          2.0        NaN            39.0           NaN   \n",
       "184       NaN          NaN        NaN           124.0           NaN   \n",
       "185       NaN          4.0        NaN           105.0           NaN   \n",
       "186       NaN          NaN        NaN            93.0           NaN   \n",
       "187       NaN          3.0        NaN            76.0           NaN   \n",
       "188       NaN          1.0        NaN            85.0           NaN   \n",
       "189       NaN          2.0        NaN            31.0           NaN   \n",
       "190       NaN          NaN        NaN            62.0           NaN   \n",
       "191       NaN          NaN        NaN            46.0           NaN   \n",
       "192       NaN          3.0        NaN            41.0           NaN   \n",
       "193       NaN          NaN        NaN            46.0           NaN   \n",
       "194       NaN          1.0        NaN            28.0           NaN   \n",
       "195       NaN          1.0        NaN            18.0           NaN   \n",
       "196       NaN          NaN        NaN            24.0           NaN   \n",
       "197       NaN          NaN        NaN            24.0           NaN   \n",
       "198       NaN          NaN        NaN            23.0           NaN   \n",
       "199       NaN          NaN        NaN            22.0           NaN   \n",
       "200       NaN          NaN        NaN            19.0           NaN   \n",
       "201       NaN          NaN        NaN            18.0           NaN   \n",
       "202       NaN          NaN        NaN            16.0           NaN   \n",
       "203       NaN          NaN        NaN            14.0           NaN   \n",
       "204       NaN          1.0        NaN            10.0           NaN   \n",
       "205       NaN          NaN        NaN             7.0           NaN   \n",
       "206       NaN          NaN        NaN            13.0           NaN   \n",
       "207       NaN          NaN        NaN            12.0           NaN   \n",
       "208       NaN          1.0        NaN             8.0           NaN   \n",
       "\n",
       "     ActiveCases  Serious,Critical  Tot Cases/1M pop  Deaths/1M pop  \\\n",
       "0      2292707.0           18296.0           15194.0          492.0   \n",
       "1       771258.0            8318.0           13716.0          464.0   \n",
       "2       606387.0            8944.0            1466.0           30.0   \n",
       "3       180931.0            2300.0            5974.0          100.0   \n",
       "4       141264.0             539.0            9063.0          162.0   \n",
       "5       103325.0            3987.0            3585.0          391.0   \n",
       "6       124648.0            1426.0           13793.0          619.0   \n",
       "7        16614.0            1358.0           19165.0          517.0   \n",
       "8       153416.0            1493.0            7023.0          234.0   \n",
       "9            NaN             617.0            7582.0          610.0   \n",
       "10       24678.0            4156.0            3806.0          214.0   \n",
       "11           NaN              73.0            4537.0          683.0   \n",
       "12       34082.0            1915.0            8152.0           88.0   \n",
       "13       19770.0             809.0            1274.0           27.0   \n",
       "14      102521.0               NaN            1514.0           20.0   \n",
       "15       12694.0              42.0            4122.0          582.0   \n",
       "16       10921.0             580.0            2810.0           69.0   \n",
       "17      124092.0            1150.0            5044.0           94.0   \n",
       "18        9758.0             236.0            2568.0          110.0   \n",
       "19       82861.0             384.0            2996.0          464.0   \n",
       "20       34417.0             517.0            3488.0          128.0   \n",
       "21       50473.0             239.0            1089.0           20.0   \n",
       "22       37587.0               NaN             434.0           20.0   \n",
       "23        6489.0            2263.0            3139.0          237.0   \n",
       "24        3083.0              77.0           39922.0           63.0   \n",
       "25       26013.0             221.0            5104.0           56.0   \n",
       "26       41157.0              41.0             927.0           48.0   \n",
       "27       13342.0             378.0            5124.0          333.0   \n",
       "28       55585.0              71.0            7394.0          296.0   \n",
       "29           NaN              38.0            8111.0          571.0   \n",
       "..           ...               ...               ...            ...   \n",
       "179         80.0               3.0            3728.0          373.0   \n",
       "180          4.0               NaN            2522.0          145.0   \n",
       "181          0.0               NaN             322.0            7.0   \n",
       "182         26.0               NaN             463.0           24.0   \n",
       "183         88.0               3.0            3327.0           52.0   \n",
       "184          2.0               NaN            1280.0            NaN   \n",
       "185         16.0               2.0            3183.0          102.0   \n",
       "186         12.0               NaN             136.0            NaN   \n",
       "187         13.0               1.0             939.0           31.0   \n",
       "188          3.0               NaN            2334.0           26.0   \n",
       "189         53.0               2.0             216.0            5.0   \n",
       "190          2.0               NaN             228.0            NaN   \n",
       "191         10.0               NaN             505.0            NaN   \n",
       "192          9.0               1.0            1368.0           77.0   \n",
       "193          0.0               NaN              71.0            NaN   \n",
       "194          2.0               NaN             189.0            6.0   \n",
       "195          8.0               NaN              30.0            1.0   \n",
       "196          1.0               NaN             136.0            NaN   \n",
       "197          1.0               NaN              19.0            NaN   \n",
       "198          1.0               NaN             213.0            NaN   \n",
       "199          0.0               NaN              77.0            NaN   \n",
       "200          1.0               NaN               3.0            NaN   \n",
       "201          0.0               NaN             250.0            NaN   \n",
       "202          1.0               NaN             319.0            NaN   \n",
       "203          0.0               NaN             247.0            NaN   \n",
       "204          2.0               NaN            2604.0          200.0   \n",
       "205          6.0               NaN             495.0            NaN   \n",
       "206          0.0               NaN            3726.0            NaN   \n",
       "207          0.0               NaN           14981.0            NaN   \n",
       "208          1.0               NaN              17.0            2.0   \n",
       "\n",
       "     TotalTests  Tests/1M pop            WHO Region iso_alpha  \n",
       "0    63139605.0      190640.0              Americas       USA  \n",
       "1    13206188.0       62085.0              Americas       BRA  \n",
       "2    22149351.0       16035.0        South-EastAsia       IND  \n",
       "3    29716907.0      203623.0                Europe       RUS  \n",
       "4     3149807.0       53044.0                Africa       ZAF  \n",
       "5     1056915.0        8189.0              Americas       MEX  \n",
       "6     2493429.0       75521.0              Americas       PER  \n",
       "7     1760615.0       92022.0              Americas       CHL  \n",
       "8     1801835.0       35374.0              Americas       COL  \n",
       "9     7064329.0      151087.0                Europe       ESP  \n",
       "10    2612763.0       31068.0  EasternMediterranean       IRN  \n",
       "11   17515234.0      257873.0                Europe       UKR  \n",
       "12    3635705.0      104277.0  EasternMediterranean       SAU  \n",
       "13    2058872.0        9304.0  EasternMediterranean       PAK  \n",
       "14    1225124.0        7432.0        South-EastAsia       BGD  \n",
       "15    7099713.0      117443.0                Europe       ITA  \n",
       "16    5081802.0       60191.0                Europe       TUR  \n",
       "17     794544.0       17564.0              Americas       ARG  \n",
       "18    8586648.0      102452.0                Europe       DEU  \n",
       "19    3992206.0       61147.0                Europe       FRA  \n",
       "20    1092741.0       27111.0  EasternMediterranean       IRQ  \n",
       "21    1669996.0       15220.0        WesternPacific       PHL  \n",
       "22    1633156.0        5965.0        South-EastAsia       IDN  \n",
       "23    4319172.0      114339.0              Americas       CAN  \n",
       "24     511000.0      181993.0  EasternMediterranean       QAT  \n",
       "25    2163713.0      115099.0                Europe       KAZ  \n",
       "26     135000.0        1317.0  EasternMediterranean       EGY  \n",
       "27     258582.0       14635.0              Americas       ECU  \n",
       "28     183583.0       15706.0              Americas       BOL  \n",
       "29     863315.0       85429.0                Europe       SWE  \n",
       "..          ...           ...                   ...       ...  \n",
       "179      1115.0       25976.0                   NaN       NLD  \n",
       "180     26352.0      423298.0              Americas       BMU  \n",
       "181     41148.0       93968.0                   NaN       BRN  \n",
       "182     12233.0       42563.0              Americas       BRB  \n",
       "183      1252.0       32295.0                   NaN       TCA  \n",
       "184         NaN           NaN                Africa       SYC  \n",
       "185     38209.0      972982.0                Europe       MCO  \n",
       "186     54589.0       70671.0        South-EastAsia       BTN  \n",
       "187      1500.0       15305.0              Americas       ATG  \n",
       "188       900.0       23598.0                Europe       LIE  \n",
       "189      3679.0        9236.0              Americas       BLZ  \n",
       "190      5849.0       20810.0                   NaN       PYF  \n",
       "191      2447.0       22050.0                   NaN            \n",
       "192      1183.0       30546.0                   NaN       MAF  \n",
       "193      4071.0        6261.0                   NaN       MAC  \n",
       "194      1080.0        6579.0                   NaN       NLD  \n",
       "195      6693.0        7461.0        WesternPacific       FJI  \n",
       "196      3895.0       21202.0              Americas       LCA  \n",
       "197      4238.0        3209.0        South-EastAsia       TLS  \n",
       "198      6252.0       55536.0              Americas       GRD  \n",
       "199     11099.0       38839.0                   NaN       NCL  \n",
       "200     29374.0        4032.0        WesternPacific            \n",
       "201      1005.0       13958.0              Americas       DMA  \n",
       "202      1146.0       21526.0              Americas       KNA  \n",
       "203      5977.0      105266.0                Europe       GRL  \n",
       "204        61.0       12220.0                   NaN       MSR  \n",
       "205       424.0       16154.0                   NaN            \n",
       "206      1816.0      520493.0                   NaN       FLK  \n",
       "207         NaN           NaN                Europe       VAT  \n",
       "208         NaN           NaN                Africa       ESH  \n",
       "\n",
       "[209 rows x 17 columns]"
      ]
     },
     "execution_count": 96,
     "metadata": {},
     "output_type": "execute_result"
    }
   ],
   "source": [
    "covid=pd.read_csv('covid.csv')\n",
    "covid"
   ]
  },
  {
   "cell_type": "code",
   "execution_count": 97,
   "metadata": {},
   "outputs": [
    {
     "data": {
      "text/html": [
       "<div>\n",
       "<style scoped>\n",
       "    .dataframe tbody tr th:only-of-type {\n",
       "        vertical-align: middle;\n",
       "    }\n",
       "\n",
       "    .dataframe tbody tr th {\n",
       "        vertical-align: top;\n",
       "    }\n",
       "\n",
       "    .dataframe thead th {\n",
       "        text-align: right;\n",
       "    }\n",
       "</style>\n",
       "<table border=\"1\" class=\"dataframe\">\n",
       "  <thead>\n",
       "    <tr style=\"text-align: right;\">\n",
       "      <th></th>\n",
       "      <th>Date</th>\n",
       "      <th>Country/Region</th>\n",
       "      <th>Confirmed</th>\n",
       "      <th>Deaths</th>\n",
       "      <th>Recovered</th>\n",
       "      <th>Active</th>\n",
       "      <th>New cases</th>\n",
       "      <th>New deaths</th>\n",
       "      <th>New recovered</th>\n",
       "      <th>WHO Region</th>\n",
       "      <th>iso_alpha</th>\n",
       "    </tr>\n",
       "  </thead>\n",
       "  <tbody>\n",
       "    <tr>\n",
       "      <th>0</th>\n",
       "      <td>2020-01-22</td>\n",
       "      <td>Afghanistan</td>\n",
       "      <td>0</td>\n",
       "      <td>0</td>\n",
       "      <td>0</td>\n",
       "      <td>0</td>\n",
       "      <td>0</td>\n",
       "      <td>0</td>\n",
       "      <td>0</td>\n",
       "      <td>Eastern Mediterranean</td>\n",
       "      <td>AFG</td>\n",
       "    </tr>\n",
       "    <tr>\n",
       "      <th>1</th>\n",
       "      <td>2020-01-22</td>\n",
       "      <td>Albania</td>\n",
       "      <td>0</td>\n",
       "      <td>0</td>\n",
       "      <td>0</td>\n",
       "      <td>0</td>\n",
       "      <td>0</td>\n",
       "      <td>0</td>\n",
       "      <td>0</td>\n",
       "      <td>Europe</td>\n",
       "      <td>ALB</td>\n",
       "    </tr>\n",
       "    <tr>\n",
       "      <th>2</th>\n",
       "      <td>2020-01-22</td>\n",
       "      <td>Algeria</td>\n",
       "      <td>0</td>\n",
       "      <td>0</td>\n",
       "      <td>0</td>\n",
       "      <td>0</td>\n",
       "      <td>0</td>\n",
       "      <td>0</td>\n",
       "      <td>0</td>\n",
       "      <td>Africa</td>\n",
       "      <td>DZA</td>\n",
       "    </tr>\n",
       "    <tr>\n",
       "      <th>3</th>\n",
       "      <td>2020-01-22</td>\n",
       "      <td>Andorra</td>\n",
       "      <td>0</td>\n",
       "      <td>0</td>\n",
       "      <td>0</td>\n",
       "      <td>0</td>\n",
       "      <td>0</td>\n",
       "      <td>0</td>\n",
       "      <td>0</td>\n",
       "      <td>Europe</td>\n",
       "      <td>AND</td>\n",
       "    </tr>\n",
       "    <tr>\n",
       "      <th>4</th>\n",
       "      <td>2020-01-22</td>\n",
       "      <td>Angola</td>\n",
       "      <td>0</td>\n",
       "      <td>0</td>\n",
       "      <td>0</td>\n",
       "      <td>0</td>\n",
       "      <td>0</td>\n",
       "      <td>0</td>\n",
       "      <td>0</td>\n",
       "      <td>Africa</td>\n",
       "      <td>AGO</td>\n",
       "    </tr>\n",
       "    <tr>\n",
       "      <th>5</th>\n",
       "      <td>2020-01-22</td>\n",
       "      <td>Antigua and Barbuda</td>\n",
       "      <td>0</td>\n",
       "      <td>0</td>\n",
       "      <td>0</td>\n",
       "      <td>0</td>\n",
       "      <td>0</td>\n",
       "      <td>0</td>\n",
       "      <td>0</td>\n",
       "      <td>Americas</td>\n",
       "      <td>ATG</td>\n",
       "    </tr>\n",
       "    <tr>\n",
       "      <th>6</th>\n",
       "      <td>2020-01-22</td>\n",
       "      <td>Argentina</td>\n",
       "      <td>0</td>\n",
       "      <td>0</td>\n",
       "      <td>0</td>\n",
       "      <td>0</td>\n",
       "      <td>0</td>\n",
       "      <td>0</td>\n",
       "      <td>0</td>\n",
       "      <td>Americas</td>\n",
       "      <td>ARG</td>\n",
       "    </tr>\n",
       "    <tr>\n",
       "      <th>7</th>\n",
       "      <td>2020-01-22</td>\n",
       "      <td>Armenia</td>\n",
       "      <td>0</td>\n",
       "      <td>0</td>\n",
       "      <td>0</td>\n",
       "      <td>0</td>\n",
       "      <td>0</td>\n",
       "      <td>0</td>\n",
       "      <td>0</td>\n",
       "      <td>Europe</td>\n",
       "      <td>ARM</td>\n",
       "    </tr>\n",
       "    <tr>\n",
       "      <th>8</th>\n",
       "      <td>2020-01-22</td>\n",
       "      <td>Australia</td>\n",
       "      <td>0</td>\n",
       "      <td>0</td>\n",
       "      <td>0</td>\n",
       "      <td>0</td>\n",
       "      <td>0</td>\n",
       "      <td>0</td>\n",
       "      <td>0</td>\n",
       "      <td>Western Pacific</td>\n",
       "      <td>AUS</td>\n",
       "    </tr>\n",
       "    <tr>\n",
       "      <th>9</th>\n",
       "      <td>2020-01-22</td>\n",
       "      <td>Austria</td>\n",
       "      <td>0</td>\n",
       "      <td>0</td>\n",
       "      <td>0</td>\n",
       "      <td>0</td>\n",
       "      <td>0</td>\n",
       "      <td>0</td>\n",
       "      <td>0</td>\n",
       "      <td>Europe</td>\n",
       "      <td>AUT</td>\n",
       "    </tr>\n",
       "    <tr>\n",
       "      <th>10</th>\n",
       "      <td>2020-01-22</td>\n",
       "      <td>Azerbaijan</td>\n",
       "      <td>0</td>\n",
       "      <td>0</td>\n",
       "      <td>0</td>\n",
       "      <td>0</td>\n",
       "      <td>0</td>\n",
       "      <td>0</td>\n",
       "      <td>0</td>\n",
       "      <td>Europe</td>\n",
       "      <td>AZE</td>\n",
       "    </tr>\n",
       "    <tr>\n",
       "      <th>11</th>\n",
       "      <td>2020-01-22</td>\n",
       "      <td>Bahamas</td>\n",
       "      <td>0</td>\n",
       "      <td>0</td>\n",
       "      <td>0</td>\n",
       "      <td>0</td>\n",
       "      <td>0</td>\n",
       "      <td>0</td>\n",
       "      <td>0</td>\n",
       "      <td>Americas</td>\n",
       "      <td>BHS</td>\n",
       "    </tr>\n",
       "    <tr>\n",
       "      <th>12</th>\n",
       "      <td>2020-01-22</td>\n",
       "      <td>Bahrain</td>\n",
       "      <td>0</td>\n",
       "      <td>0</td>\n",
       "      <td>0</td>\n",
       "      <td>0</td>\n",
       "      <td>0</td>\n",
       "      <td>0</td>\n",
       "      <td>0</td>\n",
       "      <td>Eastern Mediterranean</td>\n",
       "      <td>BHR</td>\n",
       "    </tr>\n",
       "    <tr>\n",
       "      <th>13</th>\n",
       "      <td>2020-01-22</td>\n",
       "      <td>Bangladesh</td>\n",
       "      <td>0</td>\n",
       "      <td>0</td>\n",
       "      <td>0</td>\n",
       "      <td>0</td>\n",
       "      <td>0</td>\n",
       "      <td>0</td>\n",
       "      <td>0</td>\n",
       "      <td>South-East Asia</td>\n",
       "      <td>BGD</td>\n",
       "    </tr>\n",
       "    <tr>\n",
       "      <th>14</th>\n",
       "      <td>2020-01-22</td>\n",
       "      <td>Barbados</td>\n",
       "      <td>0</td>\n",
       "      <td>0</td>\n",
       "      <td>0</td>\n",
       "      <td>0</td>\n",
       "      <td>0</td>\n",
       "      <td>0</td>\n",
       "      <td>0</td>\n",
       "      <td>Americas</td>\n",
       "      <td>BRB</td>\n",
       "    </tr>\n",
       "    <tr>\n",
       "      <th>15</th>\n",
       "      <td>2020-01-22</td>\n",
       "      <td>Belarus</td>\n",
       "      <td>0</td>\n",
       "      <td>0</td>\n",
       "      <td>0</td>\n",
       "      <td>0</td>\n",
       "      <td>0</td>\n",
       "      <td>0</td>\n",
       "      <td>0</td>\n",
       "      <td>Europe</td>\n",
       "      <td>BLR</td>\n",
       "    </tr>\n",
       "    <tr>\n",
       "      <th>16</th>\n",
       "      <td>2020-01-22</td>\n",
       "      <td>Belgium</td>\n",
       "      <td>0</td>\n",
       "      <td>0</td>\n",
       "      <td>0</td>\n",
       "      <td>0</td>\n",
       "      <td>0</td>\n",
       "      <td>0</td>\n",
       "      <td>0</td>\n",
       "      <td>Europe</td>\n",
       "      <td>BEL</td>\n",
       "    </tr>\n",
       "    <tr>\n",
       "      <th>17</th>\n",
       "      <td>2020-01-22</td>\n",
       "      <td>Belize</td>\n",
       "      <td>0</td>\n",
       "      <td>0</td>\n",
       "      <td>0</td>\n",
       "      <td>0</td>\n",
       "      <td>0</td>\n",
       "      <td>0</td>\n",
       "      <td>0</td>\n",
       "      <td>Americas</td>\n",
       "      <td>BLZ</td>\n",
       "    </tr>\n",
       "    <tr>\n",
       "      <th>18</th>\n",
       "      <td>2020-01-22</td>\n",
       "      <td>Benin</td>\n",
       "      <td>0</td>\n",
       "      <td>0</td>\n",
       "      <td>0</td>\n",
       "      <td>0</td>\n",
       "      <td>0</td>\n",
       "      <td>0</td>\n",
       "      <td>0</td>\n",
       "      <td>Africa</td>\n",
       "      <td>BEN</td>\n",
       "    </tr>\n",
       "    <tr>\n",
       "      <th>19</th>\n",
       "      <td>2020-01-22</td>\n",
       "      <td>Bhutan</td>\n",
       "      <td>0</td>\n",
       "      <td>0</td>\n",
       "      <td>0</td>\n",
       "      <td>0</td>\n",
       "      <td>0</td>\n",
       "      <td>0</td>\n",
       "      <td>0</td>\n",
       "      <td>South-East Asia</td>\n",
       "      <td>BTN</td>\n",
       "    </tr>\n",
       "    <tr>\n",
       "      <th>20</th>\n",
       "      <td>2020-01-22</td>\n",
       "      <td>Bolivia</td>\n",
       "      <td>0</td>\n",
       "      <td>0</td>\n",
       "      <td>0</td>\n",
       "      <td>0</td>\n",
       "      <td>0</td>\n",
       "      <td>0</td>\n",
       "      <td>0</td>\n",
       "      <td>Americas</td>\n",
       "      <td>BOL</td>\n",
       "    </tr>\n",
       "    <tr>\n",
       "      <th>21</th>\n",
       "      <td>2020-01-22</td>\n",
       "      <td>Bosnia and Herzegovina</td>\n",
       "      <td>0</td>\n",
       "      <td>0</td>\n",
       "      <td>0</td>\n",
       "      <td>0</td>\n",
       "      <td>0</td>\n",
       "      <td>0</td>\n",
       "      <td>0</td>\n",
       "      <td>Europe</td>\n",
       "      <td>BIH</td>\n",
       "    </tr>\n",
       "    <tr>\n",
       "      <th>22</th>\n",
       "      <td>2020-01-22</td>\n",
       "      <td>Botswana</td>\n",
       "      <td>0</td>\n",
       "      <td>0</td>\n",
       "      <td>0</td>\n",
       "      <td>0</td>\n",
       "      <td>0</td>\n",
       "      <td>0</td>\n",
       "      <td>0</td>\n",
       "      <td>Africa</td>\n",
       "      <td>BWA</td>\n",
       "    </tr>\n",
       "    <tr>\n",
       "      <th>23</th>\n",
       "      <td>2020-01-22</td>\n",
       "      <td>Brazil</td>\n",
       "      <td>0</td>\n",
       "      <td>0</td>\n",
       "      <td>0</td>\n",
       "      <td>0</td>\n",
       "      <td>0</td>\n",
       "      <td>0</td>\n",
       "      <td>0</td>\n",
       "      <td>Americas</td>\n",
       "      <td>BRA</td>\n",
       "    </tr>\n",
       "    <tr>\n",
       "      <th>24</th>\n",
       "      <td>2020-01-22</td>\n",
       "      <td>Brunei</td>\n",
       "      <td>0</td>\n",
       "      <td>0</td>\n",
       "      <td>0</td>\n",
       "      <td>0</td>\n",
       "      <td>0</td>\n",
       "      <td>0</td>\n",
       "      <td>0</td>\n",
       "      <td>Western Pacific</td>\n",
       "      <td>BRN</td>\n",
       "    </tr>\n",
       "    <tr>\n",
       "      <th>25</th>\n",
       "      <td>2020-01-22</td>\n",
       "      <td>Bulgaria</td>\n",
       "      <td>0</td>\n",
       "      <td>0</td>\n",
       "      <td>0</td>\n",
       "      <td>0</td>\n",
       "      <td>0</td>\n",
       "      <td>0</td>\n",
       "      <td>0</td>\n",
       "      <td>Europe</td>\n",
       "      <td>BGR</td>\n",
       "    </tr>\n",
       "    <tr>\n",
       "      <th>26</th>\n",
       "      <td>2020-01-22</td>\n",
       "      <td>Burkina Faso</td>\n",
       "      <td>0</td>\n",
       "      <td>0</td>\n",
       "      <td>0</td>\n",
       "      <td>0</td>\n",
       "      <td>0</td>\n",
       "      <td>0</td>\n",
       "      <td>0</td>\n",
       "      <td>Africa</td>\n",
       "      <td>BFA</td>\n",
       "    </tr>\n",
       "    <tr>\n",
       "      <th>27</th>\n",
       "      <td>2020-01-22</td>\n",
       "      <td>Burma</td>\n",
       "      <td>0</td>\n",
       "      <td>0</td>\n",
       "      <td>0</td>\n",
       "      <td>0</td>\n",
       "      <td>0</td>\n",
       "      <td>0</td>\n",
       "      <td>0</td>\n",
       "      <td>South-East Asia</td>\n",
       "      <td></td>\n",
       "    </tr>\n",
       "    <tr>\n",
       "      <th>28</th>\n",
       "      <td>2020-01-22</td>\n",
       "      <td>Burundi</td>\n",
       "      <td>0</td>\n",
       "      <td>0</td>\n",
       "      <td>0</td>\n",
       "      <td>0</td>\n",
       "      <td>0</td>\n",
       "      <td>0</td>\n",
       "      <td>0</td>\n",
       "      <td>Africa</td>\n",
       "      <td>BDI</td>\n",
       "    </tr>\n",
       "    <tr>\n",
       "      <th>29</th>\n",
       "      <td>2020-01-22</td>\n",
       "      <td>Cabo Verde</td>\n",
       "      <td>0</td>\n",
       "      <td>0</td>\n",
       "      <td>0</td>\n",
       "      <td>0</td>\n",
       "      <td>0</td>\n",
       "      <td>0</td>\n",
       "      <td>0</td>\n",
       "      <td>Africa</td>\n",
       "      <td>CPV</td>\n",
       "    </tr>\n",
       "    <tr>\n",
       "      <th>...</th>\n",
       "      <td>...</td>\n",
       "      <td>...</td>\n",
       "      <td>...</td>\n",
       "      <td>...</td>\n",
       "      <td>...</td>\n",
       "      <td>...</td>\n",
       "      <td>...</td>\n",
       "      <td>...</td>\n",
       "      <td>...</td>\n",
       "      <td>...</td>\n",
       "      <td>...</td>\n",
       "    </tr>\n",
       "    <tr>\n",
       "      <th>35126</th>\n",
       "      <td>2020-07-27</td>\n",
       "      <td>Spain</td>\n",
       "      <td>272421</td>\n",
       "      <td>28432</td>\n",
       "      <td>150376</td>\n",
       "      <td>93613</td>\n",
       "      <td>0</td>\n",
       "      <td>0</td>\n",
       "      <td>0</td>\n",
       "      <td>Europe</td>\n",
       "      <td>ESP</td>\n",
       "    </tr>\n",
       "    <tr>\n",
       "      <th>35127</th>\n",
       "      <td>2020-07-27</td>\n",
       "      <td>Sri Lanka</td>\n",
       "      <td>2805</td>\n",
       "      <td>11</td>\n",
       "      <td>2121</td>\n",
       "      <td>673</td>\n",
       "      <td>23</td>\n",
       "      <td>0</td>\n",
       "      <td>15</td>\n",
       "      <td>South-East Asia</td>\n",
       "      <td>LKA</td>\n",
       "    </tr>\n",
       "    <tr>\n",
       "      <th>35128</th>\n",
       "      <td>2020-07-27</td>\n",
       "      <td>Sudan</td>\n",
       "      <td>11424</td>\n",
       "      <td>720</td>\n",
       "      <td>5939</td>\n",
       "      <td>4765</td>\n",
       "      <td>39</td>\n",
       "      <td>3</td>\n",
       "      <td>49</td>\n",
       "      <td>Eastern Mediterranean</td>\n",
       "      <td>SDN</td>\n",
       "    </tr>\n",
       "    <tr>\n",
       "      <th>35129</th>\n",
       "      <td>2020-07-27</td>\n",
       "      <td>Suriname</td>\n",
       "      <td>1483</td>\n",
       "      <td>24</td>\n",
       "      <td>925</td>\n",
       "      <td>534</td>\n",
       "      <td>44</td>\n",
       "      <td>1</td>\n",
       "      <td>35</td>\n",
       "      <td>Americas</td>\n",
       "      <td>SUR</td>\n",
       "    </tr>\n",
       "    <tr>\n",
       "      <th>35130</th>\n",
       "      <td>2020-07-27</td>\n",
       "      <td>Sweden</td>\n",
       "      <td>79395</td>\n",
       "      <td>5700</td>\n",
       "      <td>0</td>\n",
       "      <td>73695</td>\n",
       "      <td>398</td>\n",
       "      <td>3</td>\n",
       "      <td>0</td>\n",
       "      <td>Europe</td>\n",
       "      <td>SWE</td>\n",
       "    </tr>\n",
       "    <tr>\n",
       "      <th>35131</th>\n",
       "      <td>2020-07-27</td>\n",
       "      <td>Switzerland</td>\n",
       "      <td>34477</td>\n",
       "      <td>1978</td>\n",
       "      <td>30900</td>\n",
       "      <td>1599</td>\n",
       "      <td>65</td>\n",
       "      <td>1</td>\n",
       "      <td>200</td>\n",
       "      <td>Europe</td>\n",
       "      <td>CHE</td>\n",
       "    </tr>\n",
       "    <tr>\n",
       "      <th>35132</th>\n",
       "      <td>2020-07-27</td>\n",
       "      <td>Syria</td>\n",
       "      <td>674</td>\n",
       "      <td>40</td>\n",
       "      <td>0</td>\n",
       "      <td>634</td>\n",
       "      <td>24</td>\n",
       "      <td>2</td>\n",
       "      <td>0</td>\n",
       "      <td>Eastern Mediterranean</td>\n",
       "      <td>SYR</td>\n",
       "    </tr>\n",
       "    <tr>\n",
       "      <th>35133</th>\n",
       "      <td>2020-07-27</td>\n",
       "      <td>Taiwan*</td>\n",
       "      <td>462</td>\n",
       "      <td>7</td>\n",
       "      <td>440</td>\n",
       "      <td>15</td>\n",
       "      <td>4</td>\n",
       "      <td>0</td>\n",
       "      <td>0</td>\n",
       "      <td>Western Pacific</td>\n",
       "      <td></td>\n",
       "    </tr>\n",
       "    <tr>\n",
       "      <th>35134</th>\n",
       "      <td>2020-07-27</td>\n",
       "      <td>Tajikistan</td>\n",
       "      <td>7235</td>\n",
       "      <td>60</td>\n",
       "      <td>6028</td>\n",
       "      <td>1147</td>\n",
       "      <td>43</td>\n",
       "      <td>1</td>\n",
       "      <td>58</td>\n",
       "      <td>Europe</td>\n",
       "      <td>TJK</td>\n",
       "    </tr>\n",
       "    <tr>\n",
       "      <th>35135</th>\n",
       "      <td>2020-07-27</td>\n",
       "      <td>Tanzania</td>\n",
       "      <td>509</td>\n",
       "      <td>21</td>\n",
       "      <td>183</td>\n",
       "      <td>305</td>\n",
       "      <td>0</td>\n",
       "      <td>0</td>\n",
       "      <td>0</td>\n",
       "      <td>Africa</td>\n",
       "      <td>TZA</td>\n",
       "    </tr>\n",
       "    <tr>\n",
       "      <th>35136</th>\n",
       "      <td>2020-07-27</td>\n",
       "      <td>Thailand</td>\n",
       "      <td>3297</td>\n",
       "      <td>58</td>\n",
       "      <td>3111</td>\n",
       "      <td>128</td>\n",
       "      <td>6</td>\n",
       "      <td>0</td>\n",
       "      <td>2</td>\n",
       "      <td>South-East Asia</td>\n",
       "      <td>THA</td>\n",
       "    </tr>\n",
       "    <tr>\n",
       "      <th>35137</th>\n",
       "      <td>2020-07-27</td>\n",
       "      <td>Timor-Leste</td>\n",
       "      <td>24</td>\n",
       "      <td>0</td>\n",
       "      <td>0</td>\n",
       "      <td>24</td>\n",
       "      <td>0</td>\n",
       "      <td>0</td>\n",
       "      <td>0</td>\n",
       "      <td>South-East Asia</td>\n",
       "      <td>TLS</td>\n",
       "    </tr>\n",
       "    <tr>\n",
       "      <th>35138</th>\n",
       "      <td>2020-07-27</td>\n",
       "      <td>Togo</td>\n",
       "      <td>874</td>\n",
       "      <td>18</td>\n",
       "      <td>607</td>\n",
       "      <td>249</td>\n",
       "      <td>6</td>\n",
       "      <td>0</td>\n",
       "      <td>8</td>\n",
       "      <td>Africa</td>\n",
       "      <td>TGO</td>\n",
       "    </tr>\n",
       "    <tr>\n",
       "      <th>35139</th>\n",
       "      <td>2020-07-27</td>\n",
       "      <td>Trinidad and Tobago</td>\n",
       "      <td>148</td>\n",
       "      <td>8</td>\n",
       "      <td>128</td>\n",
       "      <td>12</td>\n",
       "      <td>1</td>\n",
       "      <td>0</td>\n",
       "      <td>0</td>\n",
       "      <td>Americas</td>\n",
       "      <td>TTO</td>\n",
       "    </tr>\n",
       "    <tr>\n",
       "      <th>35140</th>\n",
       "      <td>2020-07-27</td>\n",
       "      <td>Tunisia</td>\n",
       "      <td>1455</td>\n",
       "      <td>50</td>\n",
       "      <td>1157</td>\n",
       "      <td>248</td>\n",
       "      <td>3</td>\n",
       "      <td>0</td>\n",
       "      <td>15</td>\n",
       "      <td>Eastern Mediterranean</td>\n",
       "      <td>TUN</td>\n",
       "    </tr>\n",
       "    <tr>\n",
       "      <th>35141</th>\n",
       "      <td>2020-07-27</td>\n",
       "      <td>Turkey</td>\n",
       "      <td>227019</td>\n",
       "      <td>5630</td>\n",
       "      <td>210469</td>\n",
       "      <td>10920</td>\n",
       "      <td>919</td>\n",
       "      <td>17</td>\n",
       "      <td>982</td>\n",
       "      <td>Europe</td>\n",
       "      <td>TUR</td>\n",
       "    </tr>\n",
       "    <tr>\n",
       "      <th>35142</th>\n",
       "      <td>2020-07-27</td>\n",
       "      <td>US</td>\n",
       "      <td>4290259</td>\n",
       "      <td>148011</td>\n",
       "      <td>1325804</td>\n",
       "      <td>2816444</td>\n",
       "      <td>56336</td>\n",
       "      <td>1076</td>\n",
       "      <td>27941</td>\n",
       "      <td>Americas</td>\n",
       "      <td>USA</td>\n",
       "    </tr>\n",
       "    <tr>\n",
       "      <th>35143</th>\n",
       "      <td>2020-07-27</td>\n",
       "      <td>Uganda</td>\n",
       "      <td>1128</td>\n",
       "      <td>2</td>\n",
       "      <td>986</td>\n",
       "      <td>140</td>\n",
       "      <td>13</td>\n",
       "      <td>0</td>\n",
       "      <td>4</td>\n",
       "      <td>Africa</td>\n",
       "      <td>UGA</td>\n",
       "    </tr>\n",
       "    <tr>\n",
       "      <th>35144</th>\n",
       "      <td>2020-07-27</td>\n",
       "      <td>Ukraine</td>\n",
       "      <td>67096</td>\n",
       "      <td>1636</td>\n",
       "      <td>37202</td>\n",
       "      <td>28258</td>\n",
       "      <td>835</td>\n",
       "      <td>11</td>\n",
       "      <td>317</td>\n",
       "      <td>Europe</td>\n",
       "      <td>UKR</td>\n",
       "    </tr>\n",
       "    <tr>\n",
       "      <th>35145</th>\n",
       "      <td>2020-07-27</td>\n",
       "      <td>United Arab Emirates</td>\n",
       "      <td>59177</td>\n",
       "      <td>345</td>\n",
       "      <td>52510</td>\n",
       "      <td>6322</td>\n",
       "      <td>264</td>\n",
       "      <td>1</td>\n",
       "      <td>328</td>\n",
       "      <td>Eastern Mediterranean</td>\n",
       "      <td>ARE</td>\n",
       "    </tr>\n",
       "    <tr>\n",
       "      <th>35146</th>\n",
       "      <td>2020-07-27</td>\n",
       "      <td>United Kingdom</td>\n",
       "      <td>301708</td>\n",
       "      <td>45844</td>\n",
       "      <td>1437</td>\n",
       "      <td>254427</td>\n",
       "      <td>688</td>\n",
       "      <td>7</td>\n",
       "      <td>3</td>\n",
       "      <td>Europe</td>\n",
       "      <td>GBR</td>\n",
       "    </tr>\n",
       "    <tr>\n",
       "      <th>35147</th>\n",
       "      <td>2020-07-27</td>\n",
       "      <td>Uruguay</td>\n",
       "      <td>1202</td>\n",
       "      <td>35</td>\n",
       "      <td>951</td>\n",
       "      <td>216</td>\n",
       "      <td>10</td>\n",
       "      <td>1</td>\n",
       "      <td>3</td>\n",
       "      <td>Americas</td>\n",
       "      <td>URY</td>\n",
       "    </tr>\n",
       "    <tr>\n",
       "      <th>35148</th>\n",
       "      <td>2020-07-27</td>\n",
       "      <td>Uzbekistan</td>\n",
       "      <td>21209</td>\n",
       "      <td>121</td>\n",
       "      <td>11674</td>\n",
       "      <td>9414</td>\n",
       "      <td>678</td>\n",
       "      <td>5</td>\n",
       "      <td>569</td>\n",
       "      <td>Europe</td>\n",
       "      <td>UZB</td>\n",
       "    </tr>\n",
       "    <tr>\n",
       "      <th>35149</th>\n",
       "      <td>2020-07-27</td>\n",
       "      <td>Venezuela</td>\n",
       "      <td>15988</td>\n",
       "      <td>146</td>\n",
       "      <td>9959</td>\n",
       "      <td>5883</td>\n",
       "      <td>525</td>\n",
       "      <td>4</td>\n",
       "      <td>213</td>\n",
       "      <td>Americas</td>\n",
       "      <td>VEN</td>\n",
       "    </tr>\n",
       "    <tr>\n",
       "      <th>35150</th>\n",
       "      <td>2020-07-27</td>\n",
       "      <td>Vietnam</td>\n",
       "      <td>431</td>\n",
       "      <td>0</td>\n",
       "      <td>365</td>\n",
       "      <td>66</td>\n",
       "      <td>11</td>\n",
       "      <td>0</td>\n",
       "      <td>0</td>\n",
       "      <td>Western Pacific</td>\n",
       "      <td>VNM</td>\n",
       "    </tr>\n",
       "    <tr>\n",
       "      <th>35151</th>\n",
       "      <td>2020-07-27</td>\n",
       "      <td>West Bank and Gaza</td>\n",
       "      <td>10621</td>\n",
       "      <td>78</td>\n",
       "      <td>3752</td>\n",
       "      <td>6791</td>\n",
       "      <td>152</td>\n",
       "      <td>2</td>\n",
       "      <td>0</td>\n",
       "      <td>Eastern Mediterranean</td>\n",
       "      <td></td>\n",
       "    </tr>\n",
       "    <tr>\n",
       "      <th>35152</th>\n",
       "      <td>2020-07-27</td>\n",
       "      <td>Western Sahara</td>\n",
       "      <td>10</td>\n",
       "      <td>1</td>\n",
       "      <td>8</td>\n",
       "      <td>1</td>\n",
       "      <td>0</td>\n",
       "      <td>0</td>\n",
       "      <td>0</td>\n",
       "      <td>Africa</td>\n",
       "      <td>ESH</td>\n",
       "    </tr>\n",
       "    <tr>\n",
       "      <th>35153</th>\n",
       "      <td>2020-07-27</td>\n",
       "      <td>Yemen</td>\n",
       "      <td>1691</td>\n",
       "      <td>483</td>\n",
       "      <td>833</td>\n",
       "      <td>375</td>\n",
       "      <td>10</td>\n",
       "      <td>4</td>\n",
       "      <td>36</td>\n",
       "      <td>Eastern Mediterranean</td>\n",
       "      <td>YEM</td>\n",
       "    </tr>\n",
       "    <tr>\n",
       "      <th>35154</th>\n",
       "      <td>2020-07-27</td>\n",
       "      <td>Zambia</td>\n",
       "      <td>4552</td>\n",
       "      <td>140</td>\n",
       "      <td>2815</td>\n",
       "      <td>1597</td>\n",
       "      <td>71</td>\n",
       "      <td>1</td>\n",
       "      <td>465</td>\n",
       "      <td>Africa</td>\n",
       "      <td>ZMB</td>\n",
       "    </tr>\n",
       "    <tr>\n",
       "      <th>35155</th>\n",
       "      <td>2020-07-27</td>\n",
       "      <td>Zimbabwe</td>\n",
       "      <td>2704</td>\n",
       "      <td>36</td>\n",
       "      <td>542</td>\n",
       "      <td>2126</td>\n",
       "      <td>192</td>\n",
       "      <td>2</td>\n",
       "      <td>24</td>\n",
       "      <td>Africa</td>\n",
       "      <td>ZWE</td>\n",
       "    </tr>\n",
       "  </tbody>\n",
       "</table>\n",
       "<p>35156 rows × 11 columns</p>\n",
       "</div>"
      ],
      "text/plain": [
       "             Date          Country/Region  Confirmed  Deaths  Recovered  \\\n",
       "0      2020-01-22             Afghanistan          0       0          0   \n",
       "1      2020-01-22                 Albania          0       0          0   \n",
       "2      2020-01-22                 Algeria          0       0          0   \n",
       "3      2020-01-22                 Andorra          0       0          0   \n",
       "4      2020-01-22                  Angola          0       0          0   \n",
       "5      2020-01-22     Antigua and Barbuda          0       0          0   \n",
       "6      2020-01-22               Argentina          0       0          0   \n",
       "7      2020-01-22                 Armenia          0       0          0   \n",
       "8      2020-01-22               Australia          0       0          0   \n",
       "9      2020-01-22                 Austria          0       0          0   \n",
       "10     2020-01-22              Azerbaijan          0       0          0   \n",
       "11     2020-01-22                 Bahamas          0       0          0   \n",
       "12     2020-01-22                 Bahrain          0       0          0   \n",
       "13     2020-01-22              Bangladesh          0       0          0   \n",
       "14     2020-01-22                Barbados          0       0          0   \n",
       "15     2020-01-22                 Belarus          0       0          0   \n",
       "16     2020-01-22                 Belgium          0       0          0   \n",
       "17     2020-01-22                  Belize          0       0          0   \n",
       "18     2020-01-22                   Benin          0       0          0   \n",
       "19     2020-01-22                  Bhutan          0       0          0   \n",
       "20     2020-01-22                 Bolivia          0       0          0   \n",
       "21     2020-01-22  Bosnia and Herzegovina          0       0          0   \n",
       "22     2020-01-22                Botswana          0       0          0   \n",
       "23     2020-01-22                  Brazil          0       0          0   \n",
       "24     2020-01-22                  Brunei          0       0          0   \n",
       "25     2020-01-22                Bulgaria          0       0          0   \n",
       "26     2020-01-22            Burkina Faso          0       0          0   \n",
       "27     2020-01-22                   Burma          0       0          0   \n",
       "28     2020-01-22                 Burundi          0       0          0   \n",
       "29     2020-01-22              Cabo Verde          0       0          0   \n",
       "...           ...                     ...        ...     ...        ...   \n",
       "35126  2020-07-27                   Spain     272421   28432     150376   \n",
       "35127  2020-07-27               Sri Lanka       2805      11       2121   \n",
       "35128  2020-07-27                   Sudan      11424     720       5939   \n",
       "35129  2020-07-27                Suriname       1483      24        925   \n",
       "35130  2020-07-27                  Sweden      79395    5700          0   \n",
       "35131  2020-07-27             Switzerland      34477    1978      30900   \n",
       "35132  2020-07-27                   Syria        674      40          0   \n",
       "35133  2020-07-27                 Taiwan*        462       7        440   \n",
       "35134  2020-07-27              Tajikistan       7235      60       6028   \n",
       "35135  2020-07-27                Tanzania        509      21        183   \n",
       "35136  2020-07-27                Thailand       3297      58       3111   \n",
       "35137  2020-07-27             Timor-Leste         24       0          0   \n",
       "35138  2020-07-27                    Togo        874      18        607   \n",
       "35139  2020-07-27     Trinidad and Tobago        148       8        128   \n",
       "35140  2020-07-27                 Tunisia       1455      50       1157   \n",
       "35141  2020-07-27                  Turkey     227019    5630     210469   \n",
       "35142  2020-07-27                      US    4290259  148011    1325804   \n",
       "35143  2020-07-27                  Uganda       1128       2        986   \n",
       "35144  2020-07-27                 Ukraine      67096    1636      37202   \n",
       "35145  2020-07-27    United Arab Emirates      59177     345      52510   \n",
       "35146  2020-07-27          United Kingdom     301708   45844       1437   \n",
       "35147  2020-07-27                 Uruguay       1202      35        951   \n",
       "35148  2020-07-27              Uzbekistan      21209     121      11674   \n",
       "35149  2020-07-27               Venezuela      15988     146       9959   \n",
       "35150  2020-07-27                 Vietnam        431       0        365   \n",
       "35151  2020-07-27      West Bank and Gaza      10621      78       3752   \n",
       "35152  2020-07-27          Western Sahara         10       1          8   \n",
       "35153  2020-07-27                   Yemen       1691     483        833   \n",
       "35154  2020-07-27                  Zambia       4552     140       2815   \n",
       "35155  2020-07-27                Zimbabwe       2704      36        542   \n",
       "\n",
       "        Active  New cases  New deaths  New recovered             WHO Region  \\\n",
       "0            0          0           0              0  Eastern Mediterranean   \n",
       "1            0          0           0              0                 Europe   \n",
       "2            0          0           0              0                 Africa   \n",
       "3            0          0           0              0                 Europe   \n",
       "4            0          0           0              0                 Africa   \n",
       "5            0          0           0              0               Americas   \n",
       "6            0          0           0              0               Americas   \n",
       "7            0          0           0              0                 Europe   \n",
       "8            0          0           0              0        Western Pacific   \n",
       "9            0          0           0              0                 Europe   \n",
       "10           0          0           0              0                 Europe   \n",
       "11           0          0           0              0               Americas   \n",
       "12           0          0           0              0  Eastern Mediterranean   \n",
       "13           0          0           0              0        South-East Asia   \n",
       "14           0          0           0              0               Americas   \n",
       "15           0          0           0              0                 Europe   \n",
       "16           0          0           0              0                 Europe   \n",
       "17           0          0           0              0               Americas   \n",
       "18           0          0           0              0                 Africa   \n",
       "19           0          0           0              0        South-East Asia   \n",
       "20           0          0           0              0               Americas   \n",
       "21           0          0           0              0                 Europe   \n",
       "22           0          0           0              0                 Africa   \n",
       "23           0          0           0              0               Americas   \n",
       "24           0          0           0              0        Western Pacific   \n",
       "25           0          0           0              0                 Europe   \n",
       "26           0          0           0              0                 Africa   \n",
       "27           0          0           0              0        South-East Asia   \n",
       "28           0          0           0              0                 Africa   \n",
       "29           0          0           0              0                 Africa   \n",
       "...        ...        ...         ...            ...                    ...   \n",
       "35126    93613          0           0              0                 Europe   \n",
       "35127      673         23           0             15        South-East Asia   \n",
       "35128     4765         39           3             49  Eastern Mediterranean   \n",
       "35129      534         44           1             35               Americas   \n",
       "35130    73695        398           3              0                 Europe   \n",
       "35131     1599         65           1            200                 Europe   \n",
       "35132      634         24           2              0  Eastern Mediterranean   \n",
       "35133       15          4           0              0        Western Pacific   \n",
       "35134     1147         43           1             58                 Europe   \n",
       "35135      305          0           0              0                 Africa   \n",
       "35136      128          6           0              2        South-East Asia   \n",
       "35137       24          0           0              0        South-East Asia   \n",
       "35138      249          6           0              8                 Africa   \n",
       "35139       12          1           0              0               Americas   \n",
       "35140      248          3           0             15  Eastern Mediterranean   \n",
       "35141    10920        919          17            982                 Europe   \n",
       "35142  2816444      56336        1076          27941               Americas   \n",
       "35143      140         13           0              4                 Africa   \n",
       "35144    28258        835          11            317                 Europe   \n",
       "35145     6322        264           1            328  Eastern Mediterranean   \n",
       "35146   254427        688           7              3                 Europe   \n",
       "35147      216         10           1              3               Americas   \n",
       "35148     9414        678           5            569                 Europe   \n",
       "35149     5883        525           4            213               Americas   \n",
       "35150       66         11           0              0        Western Pacific   \n",
       "35151     6791        152           2              0  Eastern Mediterranean   \n",
       "35152        1          0           0              0                 Africa   \n",
       "35153      375         10           4             36  Eastern Mediterranean   \n",
       "35154     1597         71           1            465                 Africa   \n",
       "35155     2126        192           2             24                 Africa   \n",
       "\n",
       "      iso_alpha  \n",
       "0           AFG  \n",
       "1           ALB  \n",
       "2           DZA  \n",
       "3           AND  \n",
       "4           AGO  \n",
       "5           ATG  \n",
       "6           ARG  \n",
       "7           ARM  \n",
       "8           AUS  \n",
       "9           AUT  \n",
       "10          AZE  \n",
       "11          BHS  \n",
       "12          BHR  \n",
       "13          BGD  \n",
       "14          BRB  \n",
       "15          BLR  \n",
       "16          BEL  \n",
       "17          BLZ  \n",
       "18          BEN  \n",
       "19          BTN  \n",
       "20          BOL  \n",
       "21          BIH  \n",
       "22          BWA  \n",
       "23          BRA  \n",
       "24          BRN  \n",
       "25          BGR  \n",
       "26          BFA  \n",
       "27               \n",
       "28          BDI  \n",
       "29          CPV  \n",
       "...         ...  \n",
       "35126       ESP  \n",
       "35127       LKA  \n",
       "35128       SDN  \n",
       "35129       SUR  \n",
       "35130       SWE  \n",
       "35131       CHE  \n",
       "35132       SYR  \n",
       "35133            \n",
       "35134       TJK  \n",
       "35135       TZA  \n",
       "35136       THA  \n",
       "35137       TLS  \n",
       "35138       TGO  \n",
       "35139       TTO  \n",
       "35140       TUN  \n",
       "35141       TUR  \n",
       "35142       USA  \n",
       "35143       UGA  \n",
       "35144       UKR  \n",
       "35145       ARE  \n",
       "35146       GBR  \n",
       "35147       URY  \n",
       "35148       UZB  \n",
       "35149       VEN  \n",
       "35150       VNM  \n",
       "35151            \n",
       "35152       ESH  \n",
       "35153       YEM  \n",
       "35154       ZMB  \n",
       "35155       ZWE  \n",
       "\n",
       "[35156 rows x 11 columns]"
      ]
     },
     "execution_count": 97,
     "metadata": {},
     "output_type": "execute_result"
    }
   ],
   "source": [
    "covid_grouped=pd.read_csv('covid_grouped.csv')\n",
    "covid_grouped"
   ]
  },
  {
   "cell_type": "code",
   "execution_count": 98,
   "metadata": {},
   "outputs": [
    {
     "data": {
      "text/plain": [
       "Index(['Country/Region', 'Continent', 'Population', 'TotalCases', 'NewCases',\n",
       "       'TotalDeaths', 'NewDeaths', 'TotalRecovered', 'NewRecovered',\n",
       "       'ActiveCases', 'Serious,Critical', 'Tot Cases/1M pop', 'Deaths/1M pop',\n",
       "       'TotalTests', 'Tests/1M pop', 'WHO Region', 'iso_alpha'],\n",
       "      dtype='object')"
      ]
     },
     "execution_count": 98,
     "metadata": {},
     "output_type": "execute_result"
    }
   ],
   "source": [
    "covid.columns"
   ]
  },
  {
   "cell_type": "code",
   "execution_count": 99,
   "metadata": {},
   "outputs": [],
   "source": [
    "covid.drop(['NewCases','NewDeaths','NewRecovered'],axis=1,inplace=True)"
   ]
  },
  {
   "cell_type": "code",
   "execution_count": 100,
   "metadata": {},
   "outputs": [
    {
     "data": {
      "text/html": [
       "<div>\n",
       "<style scoped>\n",
       "    .dataframe tbody tr th:only-of-type {\n",
       "        vertical-align: middle;\n",
       "    }\n",
       "\n",
       "    .dataframe tbody tr th {\n",
       "        vertical-align: top;\n",
       "    }\n",
       "\n",
       "    .dataframe thead th {\n",
       "        text-align: right;\n",
       "    }\n",
       "</style>\n",
       "<table border=\"1\" class=\"dataframe\">\n",
       "  <thead>\n",
       "    <tr style=\"text-align: right;\">\n",
       "      <th></th>\n",
       "      <th>Country/Region</th>\n",
       "      <th>Continent</th>\n",
       "      <th>Population</th>\n",
       "      <th>TotalCases</th>\n",
       "      <th>TotalDeaths</th>\n",
       "      <th>TotalRecovered</th>\n",
       "      <th>ActiveCases</th>\n",
       "      <th>Serious,Critical</th>\n",
       "      <th>Tot Cases/1M pop</th>\n",
       "      <th>Deaths/1M pop</th>\n",
       "      <th>TotalTests</th>\n",
       "      <th>Tests/1M pop</th>\n",
       "      <th>WHO Region</th>\n",
       "      <th>iso_alpha</th>\n",
       "    </tr>\n",
       "  </thead>\n",
       "  <tbody>\n",
       "    <tr>\n",
       "      <th>0</th>\n",
       "      <td>USA</td>\n",
       "      <td>North America</td>\n",
       "      <td>3.311981e+08</td>\n",
       "      <td>5032179</td>\n",
       "      <td>162804.0</td>\n",
       "      <td>2576668.0</td>\n",
       "      <td>2292707.0</td>\n",
       "      <td>18296.0</td>\n",
       "      <td>15194.0</td>\n",
       "      <td>492.0</td>\n",
       "      <td>63139605.0</td>\n",
       "      <td>190640.0</td>\n",
       "      <td>Americas</td>\n",
       "      <td>USA</td>\n",
       "    </tr>\n",
       "    <tr>\n",
       "      <th>1</th>\n",
       "      <td>Brazil</td>\n",
       "      <td>South America</td>\n",
       "      <td>2.127107e+08</td>\n",
       "      <td>2917562</td>\n",
       "      <td>98644.0</td>\n",
       "      <td>2047660.0</td>\n",
       "      <td>771258.0</td>\n",
       "      <td>8318.0</td>\n",
       "      <td>13716.0</td>\n",
       "      <td>464.0</td>\n",
       "      <td>13206188.0</td>\n",
       "      <td>62085.0</td>\n",
       "      <td>Americas</td>\n",
       "      <td>BRA</td>\n",
       "    </tr>\n",
       "    <tr>\n",
       "      <th>2</th>\n",
       "      <td>India</td>\n",
       "      <td>Asia</td>\n",
       "      <td>1.381345e+09</td>\n",
       "      <td>2025409</td>\n",
       "      <td>41638.0</td>\n",
       "      <td>1377384.0</td>\n",
       "      <td>606387.0</td>\n",
       "      <td>8944.0</td>\n",
       "      <td>1466.0</td>\n",
       "      <td>30.0</td>\n",
       "      <td>22149351.0</td>\n",
       "      <td>16035.0</td>\n",
       "      <td>South-EastAsia</td>\n",
       "      <td>IND</td>\n",
       "    </tr>\n",
       "    <tr>\n",
       "      <th>3</th>\n",
       "      <td>Russia</td>\n",
       "      <td>Europe</td>\n",
       "      <td>1.459409e+08</td>\n",
       "      <td>871894</td>\n",
       "      <td>14606.0</td>\n",
       "      <td>676357.0</td>\n",
       "      <td>180931.0</td>\n",
       "      <td>2300.0</td>\n",
       "      <td>5974.0</td>\n",
       "      <td>100.0</td>\n",
       "      <td>29716907.0</td>\n",
       "      <td>203623.0</td>\n",
       "      <td>Europe</td>\n",
       "      <td>RUS</td>\n",
       "    </tr>\n",
       "    <tr>\n",
       "      <th>4</th>\n",
       "      <td>South Africa</td>\n",
       "      <td>Africa</td>\n",
       "      <td>5.938157e+07</td>\n",
       "      <td>538184</td>\n",
       "      <td>9604.0</td>\n",
       "      <td>387316.0</td>\n",
       "      <td>141264.0</td>\n",
       "      <td>539.0</td>\n",
       "      <td>9063.0</td>\n",
       "      <td>162.0</td>\n",
       "      <td>3149807.0</td>\n",
       "      <td>53044.0</td>\n",
       "      <td>Africa</td>\n",
       "      <td>ZAF</td>\n",
       "    </tr>\n",
       "    <tr>\n",
       "      <th>5</th>\n",
       "      <td>Mexico</td>\n",
       "      <td>North America</td>\n",
       "      <td>1.290662e+08</td>\n",
       "      <td>462690</td>\n",
       "      <td>50517.0</td>\n",
       "      <td>308848.0</td>\n",
       "      <td>103325.0</td>\n",
       "      <td>3987.0</td>\n",
       "      <td>3585.0</td>\n",
       "      <td>391.0</td>\n",
       "      <td>1056915.0</td>\n",
       "      <td>8189.0</td>\n",
       "      <td>Americas</td>\n",
       "      <td>MEX</td>\n",
       "    </tr>\n",
       "    <tr>\n",
       "      <th>6</th>\n",
       "      <td>Peru</td>\n",
       "      <td>South America</td>\n",
       "      <td>3.301632e+07</td>\n",
       "      <td>455409</td>\n",
       "      <td>20424.0</td>\n",
       "      <td>310337.0</td>\n",
       "      <td>124648.0</td>\n",
       "      <td>1426.0</td>\n",
       "      <td>13793.0</td>\n",
       "      <td>619.0</td>\n",
       "      <td>2493429.0</td>\n",
       "      <td>75521.0</td>\n",
       "      <td>Americas</td>\n",
       "      <td>PER</td>\n",
       "    </tr>\n",
       "    <tr>\n",
       "      <th>7</th>\n",
       "      <td>Chile</td>\n",
       "      <td>South America</td>\n",
       "      <td>1.913251e+07</td>\n",
       "      <td>366671</td>\n",
       "      <td>9889.0</td>\n",
       "      <td>340168.0</td>\n",
       "      <td>16614.0</td>\n",
       "      <td>1358.0</td>\n",
       "      <td>19165.0</td>\n",
       "      <td>517.0</td>\n",
       "      <td>1760615.0</td>\n",
       "      <td>92022.0</td>\n",
       "      <td>Americas</td>\n",
       "      <td>CHL</td>\n",
       "    </tr>\n",
       "    <tr>\n",
       "      <th>8</th>\n",
       "      <td>Colombia</td>\n",
       "      <td>South America</td>\n",
       "      <td>5.093626e+07</td>\n",
       "      <td>357710</td>\n",
       "      <td>11939.0</td>\n",
       "      <td>192355.0</td>\n",
       "      <td>153416.0</td>\n",
       "      <td>1493.0</td>\n",
       "      <td>7023.0</td>\n",
       "      <td>234.0</td>\n",
       "      <td>1801835.0</td>\n",
       "      <td>35374.0</td>\n",
       "      <td>Americas</td>\n",
       "      <td>COL</td>\n",
       "    </tr>\n",
       "    <tr>\n",
       "      <th>9</th>\n",
       "      <td>Spain</td>\n",
       "      <td>Europe</td>\n",
       "      <td>4.675665e+07</td>\n",
       "      <td>354530</td>\n",
       "      <td>28500.0</td>\n",
       "      <td>NaN</td>\n",
       "      <td>NaN</td>\n",
       "      <td>617.0</td>\n",
       "      <td>7582.0</td>\n",
       "      <td>610.0</td>\n",
       "      <td>7064329.0</td>\n",
       "      <td>151087.0</td>\n",
       "      <td>Europe</td>\n",
       "      <td>ESP</td>\n",
       "    </tr>\n",
       "    <tr>\n",
       "      <th>10</th>\n",
       "      <td>Iran</td>\n",
       "      <td>Asia</td>\n",
       "      <td>8.409762e+07</td>\n",
       "      <td>320117</td>\n",
       "      <td>17976.0</td>\n",
       "      <td>277463.0</td>\n",
       "      <td>24678.0</td>\n",
       "      <td>4156.0</td>\n",
       "      <td>3806.0</td>\n",
       "      <td>214.0</td>\n",
       "      <td>2612763.0</td>\n",
       "      <td>31068.0</td>\n",
       "      <td>EasternMediterranean</td>\n",
       "      <td>IRN</td>\n",
       "    </tr>\n",
       "    <tr>\n",
       "      <th>11</th>\n",
       "      <td>UK</td>\n",
       "      <td>Europe</td>\n",
       "      <td>6.792203e+07</td>\n",
       "      <td>308134</td>\n",
       "      <td>46413.0</td>\n",
       "      <td>NaN</td>\n",
       "      <td>NaN</td>\n",
       "      <td>73.0</td>\n",
       "      <td>4537.0</td>\n",
       "      <td>683.0</td>\n",
       "      <td>17515234.0</td>\n",
       "      <td>257873.0</td>\n",
       "      <td>Europe</td>\n",
       "      <td>UKR</td>\n",
       "    </tr>\n",
       "    <tr>\n",
       "      <th>12</th>\n",
       "      <td>Saudi Arabia</td>\n",
       "      <td>Asia</td>\n",
       "      <td>3.486592e+07</td>\n",
       "      <td>284226</td>\n",
       "      <td>3055.0</td>\n",
       "      <td>247089.0</td>\n",
       "      <td>34082.0</td>\n",
       "      <td>1915.0</td>\n",
       "      <td>8152.0</td>\n",
       "      <td>88.0</td>\n",
       "      <td>3635705.0</td>\n",
       "      <td>104277.0</td>\n",
       "      <td>EasternMediterranean</td>\n",
       "      <td>SAU</td>\n",
       "    </tr>\n",
       "    <tr>\n",
       "      <th>13</th>\n",
       "      <td>Pakistan</td>\n",
       "      <td>Asia</td>\n",
       "      <td>2.212959e+08</td>\n",
       "      <td>281863</td>\n",
       "      <td>6035.0</td>\n",
       "      <td>256058.0</td>\n",
       "      <td>19770.0</td>\n",
       "      <td>809.0</td>\n",
       "      <td>1274.0</td>\n",
       "      <td>27.0</td>\n",
       "      <td>2058872.0</td>\n",
       "      <td>9304.0</td>\n",
       "      <td>EasternMediterranean</td>\n",
       "      <td>PAK</td>\n",
       "    </tr>\n",
       "    <tr>\n",
       "      <th>14</th>\n",
       "      <td>Bangladesh</td>\n",
       "      <td>Asia</td>\n",
       "      <td>1.648514e+08</td>\n",
       "      <td>249651</td>\n",
       "      <td>3306.0</td>\n",
       "      <td>143824.0</td>\n",
       "      <td>102521.0</td>\n",
       "      <td>NaN</td>\n",
       "      <td>1514.0</td>\n",
       "      <td>20.0</td>\n",
       "      <td>1225124.0</td>\n",
       "      <td>7432.0</td>\n",
       "      <td>South-EastAsia</td>\n",
       "      <td>BGD</td>\n",
       "    </tr>\n",
       "    <tr>\n",
       "      <th>15</th>\n",
       "      <td>Italy</td>\n",
       "      <td>Europe</td>\n",
       "      <td>6.045257e+07</td>\n",
       "      <td>249204</td>\n",
       "      <td>35187.0</td>\n",
       "      <td>201323.0</td>\n",
       "      <td>12694.0</td>\n",
       "      <td>42.0</td>\n",
       "      <td>4122.0</td>\n",
       "      <td>582.0</td>\n",
       "      <td>7099713.0</td>\n",
       "      <td>117443.0</td>\n",
       "      <td>Europe</td>\n",
       "      <td>ITA</td>\n",
       "    </tr>\n",
       "    <tr>\n",
       "      <th>16</th>\n",
       "      <td>Turkey</td>\n",
       "      <td>Asia</td>\n",
       "      <td>8.442833e+07</td>\n",
       "      <td>237265</td>\n",
       "      <td>5798.0</td>\n",
       "      <td>220546.0</td>\n",
       "      <td>10921.0</td>\n",
       "      <td>580.0</td>\n",
       "      <td>2810.0</td>\n",
       "      <td>69.0</td>\n",
       "      <td>5081802.0</td>\n",
       "      <td>60191.0</td>\n",
       "      <td>Europe</td>\n",
       "      <td>TUR</td>\n",
       "    </tr>\n",
       "    <tr>\n",
       "      <th>17</th>\n",
       "      <td>Argentina</td>\n",
       "      <td>South America</td>\n",
       "      <td>4.523688e+07</td>\n",
       "      <td>228195</td>\n",
       "      <td>4251.0</td>\n",
       "      <td>99852.0</td>\n",
       "      <td>124092.0</td>\n",
       "      <td>1150.0</td>\n",
       "      <td>5044.0</td>\n",
       "      <td>94.0</td>\n",
       "      <td>794544.0</td>\n",
       "      <td>17564.0</td>\n",
       "      <td>Americas</td>\n",
       "      <td>ARG</td>\n",
       "    </tr>\n",
       "    <tr>\n",
       "      <th>18</th>\n",
       "      <td>Germany</td>\n",
       "      <td>Europe</td>\n",
       "      <td>8.381126e+07</td>\n",
       "      <td>215210</td>\n",
       "      <td>9252.0</td>\n",
       "      <td>196200.0</td>\n",
       "      <td>9758.0</td>\n",
       "      <td>236.0</td>\n",
       "      <td>2568.0</td>\n",
       "      <td>110.0</td>\n",
       "      <td>8586648.0</td>\n",
       "      <td>102452.0</td>\n",
       "      <td>Europe</td>\n",
       "      <td>DEU</td>\n",
       "    </tr>\n",
       "    <tr>\n",
       "      <th>19</th>\n",
       "      <td>France</td>\n",
       "      <td>Europe</td>\n",
       "      <td>6.528831e+07</td>\n",
       "      <td>195633</td>\n",
       "      <td>30312.0</td>\n",
       "      <td>82460.0</td>\n",
       "      <td>82861.0</td>\n",
       "      <td>384.0</td>\n",
       "      <td>2996.0</td>\n",
       "      <td>464.0</td>\n",
       "      <td>3992206.0</td>\n",
       "      <td>61147.0</td>\n",
       "      <td>Europe</td>\n",
       "      <td>FRA</td>\n",
       "    </tr>\n",
       "    <tr>\n",
       "      <th>20</th>\n",
       "      <td>Iraq</td>\n",
       "      <td>Asia</td>\n",
       "      <td>4.030602e+07</td>\n",
       "      <td>140603</td>\n",
       "      <td>5161.0</td>\n",
       "      <td>101025.0</td>\n",
       "      <td>34417.0</td>\n",
       "      <td>517.0</td>\n",
       "      <td>3488.0</td>\n",
       "      <td>128.0</td>\n",
       "      <td>1092741.0</td>\n",
       "      <td>27111.0</td>\n",
       "      <td>EasternMediterranean</td>\n",
       "      <td>IRQ</td>\n",
       "    </tr>\n",
       "    <tr>\n",
       "      <th>21</th>\n",
       "      <td>Philippines</td>\n",
       "      <td>Asia</td>\n",
       "      <td>1.097227e+08</td>\n",
       "      <td>119460</td>\n",
       "      <td>2150.0</td>\n",
       "      <td>66837.0</td>\n",
       "      <td>50473.0</td>\n",
       "      <td>239.0</td>\n",
       "      <td>1089.0</td>\n",
       "      <td>20.0</td>\n",
       "      <td>1669996.0</td>\n",
       "      <td>15220.0</td>\n",
       "      <td>WesternPacific</td>\n",
       "      <td>PHL</td>\n",
       "    </tr>\n",
       "    <tr>\n",
       "      <th>22</th>\n",
       "      <td>Indonesia</td>\n",
       "      <td>Asia</td>\n",
       "      <td>2.738084e+08</td>\n",
       "      <td>118753</td>\n",
       "      <td>5521.0</td>\n",
       "      <td>75645.0</td>\n",
       "      <td>37587.0</td>\n",
       "      <td>NaN</td>\n",
       "      <td>434.0</td>\n",
       "      <td>20.0</td>\n",
       "      <td>1633156.0</td>\n",
       "      <td>5965.0</td>\n",
       "      <td>South-EastAsia</td>\n",
       "      <td>IDN</td>\n",
       "    </tr>\n",
       "    <tr>\n",
       "      <th>23</th>\n",
       "      <td>Canada</td>\n",
       "      <td>North America</td>\n",
       "      <td>3.777502e+07</td>\n",
       "      <td>118561</td>\n",
       "      <td>8966.0</td>\n",
       "      <td>103106.0</td>\n",
       "      <td>6489.0</td>\n",
       "      <td>2263.0</td>\n",
       "      <td>3139.0</td>\n",
       "      <td>237.0</td>\n",
       "      <td>4319172.0</td>\n",
       "      <td>114339.0</td>\n",
       "      <td>Americas</td>\n",
       "      <td>CAN</td>\n",
       "    </tr>\n",
       "    <tr>\n",
       "      <th>24</th>\n",
       "      <td>Qatar</td>\n",
       "      <td>Asia</td>\n",
       "      <td>2.807805e+06</td>\n",
       "      <td>112092</td>\n",
       "      <td>178.0</td>\n",
       "      <td>108831.0</td>\n",
       "      <td>3083.0</td>\n",
       "      <td>77.0</td>\n",
       "      <td>39922.0</td>\n",
       "      <td>63.0</td>\n",
       "      <td>511000.0</td>\n",
       "      <td>181993.0</td>\n",
       "      <td>EasternMediterranean</td>\n",
       "      <td>QAT</td>\n",
       "    </tr>\n",
       "    <tr>\n",
       "      <th>25</th>\n",
       "      <td>Kazakhstan</td>\n",
       "      <td>Asia</td>\n",
       "      <td>1.879867e+07</td>\n",
       "      <td>95942</td>\n",
       "      <td>1058.0</td>\n",
       "      <td>68871.0</td>\n",
       "      <td>26013.0</td>\n",
       "      <td>221.0</td>\n",
       "      <td>5104.0</td>\n",
       "      <td>56.0</td>\n",
       "      <td>2163713.0</td>\n",
       "      <td>115099.0</td>\n",
       "      <td>Europe</td>\n",
       "      <td>KAZ</td>\n",
       "    </tr>\n",
       "    <tr>\n",
       "      <th>26</th>\n",
       "      <td>Egypt</td>\n",
       "      <td>Africa</td>\n",
       "      <td>1.025165e+08</td>\n",
       "      <td>95006</td>\n",
       "      <td>4951.0</td>\n",
       "      <td>48898.0</td>\n",
       "      <td>41157.0</td>\n",
       "      <td>41.0</td>\n",
       "      <td>927.0</td>\n",
       "      <td>48.0</td>\n",
       "      <td>135000.0</td>\n",
       "      <td>1317.0</td>\n",
       "      <td>EasternMediterranean</td>\n",
       "      <td>EGY</td>\n",
       "    </tr>\n",
       "    <tr>\n",
       "      <th>27</th>\n",
       "      <td>Ecuador</td>\n",
       "      <td>South America</td>\n",
       "      <td>1.766882e+07</td>\n",
       "      <td>90537</td>\n",
       "      <td>5877.0</td>\n",
       "      <td>71318.0</td>\n",
       "      <td>13342.0</td>\n",
       "      <td>378.0</td>\n",
       "      <td>5124.0</td>\n",
       "      <td>333.0</td>\n",
       "      <td>258582.0</td>\n",
       "      <td>14635.0</td>\n",
       "      <td>Americas</td>\n",
       "      <td>ECU</td>\n",
       "    </tr>\n",
       "    <tr>\n",
       "      <th>28</th>\n",
       "      <td>Bolivia</td>\n",
       "      <td>South America</td>\n",
       "      <td>1.168846e+07</td>\n",
       "      <td>86423</td>\n",
       "      <td>3465.0</td>\n",
       "      <td>27373.0</td>\n",
       "      <td>55585.0</td>\n",
       "      <td>71.0</td>\n",
       "      <td>7394.0</td>\n",
       "      <td>296.0</td>\n",
       "      <td>183583.0</td>\n",
       "      <td>15706.0</td>\n",
       "      <td>Americas</td>\n",
       "      <td>BOL</td>\n",
       "    </tr>\n",
       "    <tr>\n",
       "      <th>29</th>\n",
       "      <td>Sweden</td>\n",
       "      <td>Europe</td>\n",
       "      <td>1.010560e+07</td>\n",
       "      <td>81967</td>\n",
       "      <td>5766.0</td>\n",
       "      <td>NaN</td>\n",
       "      <td>NaN</td>\n",
       "      <td>38.0</td>\n",
       "      <td>8111.0</td>\n",
       "      <td>571.0</td>\n",
       "      <td>863315.0</td>\n",
       "      <td>85429.0</td>\n",
       "      <td>Europe</td>\n",
       "      <td>SWE</td>\n",
       "    </tr>\n",
       "    <tr>\n",
       "      <th>...</th>\n",
       "      <td>...</td>\n",
       "      <td>...</td>\n",
       "      <td>...</td>\n",
       "      <td>...</td>\n",
       "      <td>...</td>\n",
       "      <td>...</td>\n",
       "      <td>...</td>\n",
       "      <td>...</td>\n",
       "      <td>...</td>\n",
       "      <td>...</td>\n",
       "      <td>...</td>\n",
       "      <td>...</td>\n",
       "      <td>...</td>\n",
       "      <td>...</td>\n",
       "    </tr>\n",
       "    <tr>\n",
       "      <th>179</th>\n",
       "      <td>Sint Maarten</td>\n",
       "      <td>North America</td>\n",
       "      <td>4.292400e+04</td>\n",
       "      <td>160</td>\n",
       "      <td>16.0</td>\n",
       "      <td>64.0</td>\n",
       "      <td>80.0</td>\n",
       "      <td>3.0</td>\n",
       "      <td>3728.0</td>\n",
       "      <td>373.0</td>\n",
       "      <td>1115.0</td>\n",
       "      <td>25976.0</td>\n",
       "      <td>NaN</td>\n",
       "      <td>NLD</td>\n",
       "    </tr>\n",
       "    <tr>\n",
       "      <th>180</th>\n",
       "      <td>Bermuda</td>\n",
       "      <td>North America</td>\n",
       "      <td>6.225400e+04</td>\n",
       "      <td>157</td>\n",
       "      <td>9.0</td>\n",
       "      <td>144.0</td>\n",
       "      <td>4.0</td>\n",
       "      <td>NaN</td>\n",
       "      <td>2522.0</td>\n",
       "      <td>145.0</td>\n",
       "      <td>26352.0</td>\n",
       "      <td>423298.0</td>\n",
       "      <td>Americas</td>\n",
       "      <td>BMU</td>\n",
       "    </tr>\n",
       "    <tr>\n",
       "      <th>181</th>\n",
       "      <td>Brunei</td>\n",
       "      <td>Asia</td>\n",
       "      <td>4.378930e+05</td>\n",
       "      <td>141</td>\n",
       "      <td>3.0</td>\n",
       "      <td>138.0</td>\n",
       "      <td>0.0</td>\n",
       "      <td>NaN</td>\n",
       "      <td>322.0</td>\n",
       "      <td>7.0</td>\n",
       "      <td>41148.0</td>\n",
       "      <td>93968.0</td>\n",
       "      <td>NaN</td>\n",
       "      <td>BRN</td>\n",
       "    </tr>\n",
       "    <tr>\n",
       "      <th>182</th>\n",
       "      <td>Barbados</td>\n",
       "      <td>North America</td>\n",
       "      <td>2.874110e+05</td>\n",
       "      <td>133</td>\n",
       "      <td>7.0</td>\n",
       "      <td>100.0</td>\n",
       "      <td>26.0</td>\n",
       "      <td>NaN</td>\n",
       "      <td>463.0</td>\n",
       "      <td>24.0</td>\n",
       "      <td>12233.0</td>\n",
       "      <td>42563.0</td>\n",
       "      <td>Americas</td>\n",
       "      <td>BRB</td>\n",
       "    </tr>\n",
       "    <tr>\n",
       "      <th>183</th>\n",
       "      <td>Turks and Caicos</td>\n",
       "      <td>North America</td>\n",
       "      <td>3.876800e+04</td>\n",
       "      <td>129</td>\n",
       "      <td>2.0</td>\n",
       "      <td>39.0</td>\n",
       "      <td>88.0</td>\n",
       "      <td>3.0</td>\n",
       "      <td>3327.0</td>\n",
       "      <td>52.0</td>\n",
       "      <td>1252.0</td>\n",
       "      <td>32295.0</td>\n",
       "      <td>NaN</td>\n",
       "      <td>TCA</td>\n",
       "    </tr>\n",
       "    <tr>\n",
       "      <th>184</th>\n",
       "      <td>Seychelles</td>\n",
       "      <td>Africa</td>\n",
       "      <td>9.840800e+04</td>\n",
       "      <td>126</td>\n",
       "      <td>NaN</td>\n",
       "      <td>124.0</td>\n",
       "      <td>2.0</td>\n",
       "      <td>NaN</td>\n",
       "      <td>1280.0</td>\n",
       "      <td>NaN</td>\n",
       "      <td>NaN</td>\n",
       "      <td>NaN</td>\n",
       "      <td>Africa</td>\n",
       "      <td>SYC</td>\n",
       "    </tr>\n",
       "    <tr>\n",
       "      <th>185</th>\n",
       "      <td>Monaco</td>\n",
       "      <td>Europe</td>\n",
       "      <td>3.927000e+04</td>\n",
       "      <td>125</td>\n",
       "      <td>4.0</td>\n",
       "      <td>105.0</td>\n",
       "      <td>16.0</td>\n",
       "      <td>2.0</td>\n",
       "      <td>3183.0</td>\n",
       "      <td>102.0</td>\n",
       "      <td>38209.0</td>\n",
       "      <td>972982.0</td>\n",
       "      <td>Europe</td>\n",
       "      <td>MCO</td>\n",
       "    </tr>\n",
       "    <tr>\n",
       "      <th>186</th>\n",
       "      <td>Bhutan</td>\n",
       "      <td>Asia</td>\n",
       "      <td>7.724430e+05</td>\n",
       "      <td>105</td>\n",
       "      <td>NaN</td>\n",
       "      <td>93.0</td>\n",
       "      <td>12.0</td>\n",
       "      <td>NaN</td>\n",
       "      <td>136.0</td>\n",
       "      <td>NaN</td>\n",
       "      <td>54589.0</td>\n",
       "      <td>70671.0</td>\n",
       "      <td>South-EastAsia</td>\n",
       "      <td>BTN</td>\n",
       "    </tr>\n",
       "    <tr>\n",
       "      <th>187</th>\n",
       "      <td>Antigua and Barbuda</td>\n",
       "      <td>North America</td>\n",
       "      <td>9.801000e+04</td>\n",
       "      <td>92</td>\n",
       "      <td>3.0</td>\n",
       "      <td>76.0</td>\n",
       "      <td>13.0</td>\n",
       "      <td>1.0</td>\n",
       "      <td>939.0</td>\n",
       "      <td>31.0</td>\n",
       "      <td>1500.0</td>\n",
       "      <td>15305.0</td>\n",
       "      <td>Americas</td>\n",
       "      <td>ATG</td>\n",
       "    </tr>\n",
       "    <tr>\n",
       "      <th>188</th>\n",
       "      <td>Liechtenstein</td>\n",
       "      <td>Europe</td>\n",
       "      <td>3.813900e+04</td>\n",
       "      <td>89</td>\n",
       "      <td>1.0</td>\n",
       "      <td>85.0</td>\n",
       "      <td>3.0</td>\n",
       "      <td>NaN</td>\n",
       "      <td>2334.0</td>\n",
       "      <td>26.0</td>\n",
       "      <td>900.0</td>\n",
       "      <td>23598.0</td>\n",
       "      <td>Europe</td>\n",
       "      <td>LIE</td>\n",
       "    </tr>\n",
       "    <tr>\n",
       "      <th>189</th>\n",
       "      <td>Belize</td>\n",
       "      <td>North America</td>\n",
       "      <td>3.983120e+05</td>\n",
       "      <td>86</td>\n",
       "      <td>2.0</td>\n",
       "      <td>31.0</td>\n",
       "      <td>53.0</td>\n",
       "      <td>2.0</td>\n",
       "      <td>216.0</td>\n",
       "      <td>5.0</td>\n",
       "      <td>3679.0</td>\n",
       "      <td>9236.0</td>\n",
       "      <td>Americas</td>\n",
       "      <td>BLZ</td>\n",
       "    </tr>\n",
       "    <tr>\n",
       "      <th>190</th>\n",
       "      <td>French Polynesia</td>\n",
       "      <td>Australia/Oceania</td>\n",
       "      <td>2.810720e+05</td>\n",
       "      <td>64</td>\n",
       "      <td>NaN</td>\n",
       "      <td>62.0</td>\n",
       "      <td>2.0</td>\n",
       "      <td>NaN</td>\n",
       "      <td>228.0</td>\n",
       "      <td>NaN</td>\n",
       "      <td>5849.0</td>\n",
       "      <td>20810.0</td>\n",
       "      <td>NaN</td>\n",
       "      <td>PYF</td>\n",
       "    </tr>\n",
       "    <tr>\n",
       "      <th>191</th>\n",
       "      <td>St. Vincent Grenadines</td>\n",
       "      <td>North America</td>\n",
       "      <td>1.109760e+05</td>\n",
       "      <td>56</td>\n",
       "      <td>NaN</td>\n",
       "      <td>46.0</td>\n",
       "      <td>10.0</td>\n",
       "      <td>NaN</td>\n",
       "      <td>505.0</td>\n",
       "      <td>NaN</td>\n",
       "      <td>2447.0</td>\n",
       "      <td>22050.0</td>\n",
       "      <td>NaN</td>\n",
       "      <td></td>\n",
       "    </tr>\n",
       "    <tr>\n",
       "      <th>192</th>\n",
       "      <td>Saint Martin</td>\n",
       "      <td>North America</td>\n",
       "      <td>3.872900e+04</td>\n",
       "      <td>53</td>\n",
       "      <td>3.0</td>\n",
       "      <td>41.0</td>\n",
       "      <td>9.0</td>\n",
       "      <td>1.0</td>\n",
       "      <td>1368.0</td>\n",
       "      <td>77.0</td>\n",
       "      <td>1183.0</td>\n",
       "      <td>30546.0</td>\n",
       "      <td>NaN</td>\n",
       "      <td>MAF</td>\n",
       "    </tr>\n",
       "    <tr>\n",
       "      <th>193</th>\n",
       "      <td>Macao</td>\n",
       "      <td>Asia</td>\n",
       "      <td>6.501930e+05</td>\n",
       "      <td>46</td>\n",
       "      <td>NaN</td>\n",
       "      <td>46.0</td>\n",
       "      <td>0.0</td>\n",
       "      <td>NaN</td>\n",
       "      <td>71.0</td>\n",
       "      <td>NaN</td>\n",
       "      <td>4071.0</td>\n",
       "      <td>6261.0</td>\n",
       "      <td>NaN</td>\n",
       "      <td>MAC</td>\n",
       "    </tr>\n",
       "    <tr>\n",
       "      <th>194</th>\n",
       "      <td>Curaçao</td>\n",
       "      <td>North America</td>\n",
       "      <td>1.641610e+05</td>\n",
       "      <td>31</td>\n",
       "      <td>1.0</td>\n",
       "      <td>28.0</td>\n",
       "      <td>2.0</td>\n",
       "      <td>NaN</td>\n",
       "      <td>189.0</td>\n",
       "      <td>6.0</td>\n",
       "      <td>1080.0</td>\n",
       "      <td>6579.0</td>\n",
       "      <td>NaN</td>\n",
       "      <td>NLD</td>\n",
       "    </tr>\n",
       "    <tr>\n",
       "      <th>195</th>\n",
       "      <td>Fiji</td>\n",
       "      <td>Australia/Oceania</td>\n",
       "      <td>8.970950e+05</td>\n",
       "      <td>27</td>\n",
       "      <td>1.0</td>\n",
       "      <td>18.0</td>\n",
       "      <td>8.0</td>\n",
       "      <td>NaN</td>\n",
       "      <td>30.0</td>\n",
       "      <td>1.0</td>\n",
       "      <td>6693.0</td>\n",
       "      <td>7461.0</td>\n",
       "      <td>WesternPacific</td>\n",
       "      <td>FJI</td>\n",
       "    </tr>\n",
       "    <tr>\n",
       "      <th>196</th>\n",
       "      <td>Saint Lucia</td>\n",
       "      <td>North America</td>\n",
       "      <td>1.837120e+05</td>\n",
       "      <td>25</td>\n",
       "      <td>NaN</td>\n",
       "      <td>24.0</td>\n",
       "      <td>1.0</td>\n",
       "      <td>NaN</td>\n",
       "      <td>136.0</td>\n",
       "      <td>NaN</td>\n",
       "      <td>3895.0</td>\n",
       "      <td>21202.0</td>\n",
       "      <td>Americas</td>\n",
       "      <td>LCA</td>\n",
       "    </tr>\n",
       "    <tr>\n",
       "      <th>197</th>\n",
       "      <td>Timor-Leste</td>\n",
       "      <td>Asia</td>\n",
       "      <td>1.320812e+06</td>\n",
       "      <td>25</td>\n",
       "      <td>NaN</td>\n",
       "      <td>24.0</td>\n",
       "      <td>1.0</td>\n",
       "      <td>NaN</td>\n",
       "      <td>19.0</td>\n",
       "      <td>NaN</td>\n",
       "      <td>4238.0</td>\n",
       "      <td>3209.0</td>\n",
       "      <td>South-EastAsia</td>\n",
       "      <td>TLS</td>\n",
       "    </tr>\n",
       "    <tr>\n",
       "      <th>198</th>\n",
       "      <td>Grenada</td>\n",
       "      <td>North America</td>\n",
       "      <td>1.125760e+05</td>\n",
       "      <td>24</td>\n",
       "      <td>NaN</td>\n",
       "      <td>23.0</td>\n",
       "      <td>1.0</td>\n",
       "      <td>NaN</td>\n",
       "      <td>213.0</td>\n",
       "      <td>NaN</td>\n",
       "      <td>6252.0</td>\n",
       "      <td>55536.0</td>\n",
       "      <td>Americas</td>\n",
       "      <td>GRD</td>\n",
       "    </tr>\n",
       "    <tr>\n",
       "      <th>199</th>\n",
       "      <td>New Caledonia</td>\n",
       "      <td>Australia/Oceania</td>\n",
       "      <td>2.857690e+05</td>\n",
       "      <td>22</td>\n",
       "      <td>NaN</td>\n",
       "      <td>22.0</td>\n",
       "      <td>0.0</td>\n",
       "      <td>NaN</td>\n",
       "      <td>77.0</td>\n",
       "      <td>NaN</td>\n",
       "      <td>11099.0</td>\n",
       "      <td>38839.0</td>\n",
       "      <td>NaN</td>\n",
       "      <td>NCL</td>\n",
       "    </tr>\n",
       "    <tr>\n",
       "      <th>200</th>\n",
       "      <td>Laos</td>\n",
       "      <td>Asia</td>\n",
       "      <td>7.285750e+06</td>\n",
       "      <td>20</td>\n",
       "      <td>NaN</td>\n",
       "      <td>19.0</td>\n",
       "      <td>1.0</td>\n",
       "      <td>NaN</td>\n",
       "      <td>3.0</td>\n",
       "      <td>NaN</td>\n",
       "      <td>29374.0</td>\n",
       "      <td>4032.0</td>\n",
       "      <td>WesternPacific</td>\n",
       "      <td></td>\n",
       "    </tr>\n",
       "    <tr>\n",
       "      <th>201</th>\n",
       "      <td>Dominica</td>\n",
       "      <td>North America</td>\n",
       "      <td>7.200400e+04</td>\n",
       "      <td>18</td>\n",
       "      <td>NaN</td>\n",
       "      <td>18.0</td>\n",
       "      <td>0.0</td>\n",
       "      <td>NaN</td>\n",
       "      <td>250.0</td>\n",
       "      <td>NaN</td>\n",
       "      <td>1005.0</td>\n",
       "      <td>13958.0</td>\n",
       "      <td>Americas</td>\n",
       "      <td>DMA</td>\n",
       "    </tr>\n",
       "    <tr>\n",
       "      <th>202</th>\n",
       "      <td>Saint Kitts and Nevis</td>\n",
       "      <td>North America</td>\n",
       "      <td>5.323700e+04</td>\n",
       "      <td>17</td>\n",
       "      <td>NaN</td>\n",
       "      <td>16.0</td>\n",
       "      <td>1.0</td>\n",
       "      <td>NaN</td>\n",
       "      <td>319.0</td>\n",
       "      <td>NaN</td>\n",
       "      <td>1146.0</td>\n",
       "      <td>21526.0</td>\n",
       "      <td>Americas</td>\n",
       "      <td>KNA</td>\n",
       "    </tr>\n",
       "    <tr>\n",
       "      <th>203</th>\n",
       "      <td>Greenland</td>\n",
       "      <td>North America</td>\n",
       "      <td>5.678000e+04</td>\n",
       "      <td>14</td>\n",
       "      <td>NaN</td>\n",
       "      <td>14.0</td>\n",
       "      <td>0.0</td>\n",
       "      <td>NaN</td>\n",
       "      <td>247.0</td>\n",
       "      <td>NaN</td>\n",
       "      <td>5977.0</td>\n",
       "      <td>105266.0</td>\n",
       "      <td>Europe</td>\n",
       "      <td>GRL</td>\n",
       "    </tr>\n",
       "    <tr>\n",
       "      <th>204</th>\n",
       "      <td>Montserrat</td>\n",
       "      <td>North America</td>\n",
       "      <td>4.992000e+03</td>\n",
       "      <td>13</td>\n",
       "      <td>1.0</td>\n",
       "      <td>10.0</td>\n",
       "      <td>2.0</td>\n",
       "      <td>NaN</td>\n",
       "      <td>2604.0</td>\n",
       "      <td>200.0</td>\n",
       "      <td>61.0</td>\n",
       "      <td>12220.0</td>\n",
       "      <td>NaN</td>\n",
       "      <td>MSR</td>\n",
       "    </tr>\n",
       "    <tr>\n",
       "      <th>205</th>\n",
       "      <td>Caribbean Netherlands</td>\n",
       "      <td>North America</td>\n",
       "      <td>2.624700e+04</td>\n",
       "      <td>13</td>\n",
       "      <td>NaN</td>\n",
       "      <td>7.0</td>\n",
       "      <td>6.0</td>\n",
       "      <td>NaN</td>\n",
       "      <td>495.0</td>\n",
       "      <td>NaN</td>\n",
       "      <td>424.0</td>\n",
       "      <td>16154.0</td>\n",
       "      <td>NaN</td>\n",
       "      <td></td>\n",
       "    </tr>\n",
       "    <tr>\n",
       "      <th>206</th>\n",
       "      <td>Falkland Islands</td>\n",
       "      <td>South America</td>\n",
       "      <td>3.489000e+03</td>\n",
       "      <td>13</td>\n",
       "      <td>NaN</td>\n",
       "      <td>13.0</td>\n",
       "      <td>0.0</td>\n",
       "      <td>NaN</td>\n",
       "      <td>3726.0</td>\n",
       "      <td>NaN</td>\n",
       "      <td>1816.0</td>\n",
       "      <td>520493.0</td>\n",
       "      <td>NaN</td>\n",
       "      <td>FLK</td>\n",
       "    </tr>\n",
       "    <tr>\n",
       "      <th>207</th>\n",
       "      <td>Vatican City</td>\n",
       "      <td>Europe</td>\n",
       "      <td>8.010000e+02</td>\n",
       "      <td>12</td>\n",
       "      <td>NaN</td>\n",
       "      <td>12.0</td>\n",
       "      <td>0.0</td>\n",
       "      <td>NaN</td>\n",
       "      <td>14981.0</td>\n",
       "      <td>NaN</td>\n",
       "      <td>NaN</td>\n",
       "      <td>NaN</td>\n",
       "      <td>Europe</td>\n",
       "      <td>VAT</td>\n",
       "    </tr>\n",
       "    <tr>\n",
       "      <th>208</th>\n",
       "      <td>Western Sahara</td>\n",
       "      <td>Africa</td>\n",
       "      <td>5.986820e+05</td>\n",
       "      <td>10</td>\n",
       "      <td>1.0</td>\n",
       "      <td>8.0</td>\n",
       "      <td>1.0</td>\n",
       "      <td>NaN</td>\n",
       "      <td>17.0</td>\n",
       "      <td>2.0</td>\n",
       "      <td>NaN</td>\n",
       "      <td>NaN</td>\n",
       "      <td>Africa</td>\n",
       "      <td>ESH</td>\n",
       "    </tr>\n",
       "  </tbody>\n",
       "</table>\n",
       "<p>209 rows × 14 columns</p>\n",
       "</div>"
      ],
      "text/plain": [
       "             Country/Region          Continent    Population  TotalCases  \\\n",
       "0                       USA      North America  3.311981e+08     5032179   \n",
       "1                    Brazil      South America  2.127107e+08     2917562   \n",
       "2                     India               Asia  1.381345e+09     2025409   \n",
       "3                    Russia             Europe  1.459409e+08      871894   \n",
       "4              South Africa             Africa  5.938157e+07      538184   \n",
       "5                    Mexico      North America  1.290662e+08      462690   \n",
       "6                      Peru      South America  3.301632e+07      455409   \n",
       "7                     Chile      South America  1.913251e+07      366671   \n",
       "8                  Colombia      South America  5.093626e+07      357710   \n",
       "9                     Spain             Europe  4.675665e+07      354530   \n",
       "10                     Iran               Asia  8.409762e+07      320117   \n",
       "11                       UK             Europe  6.792203e+07      308134   \n",
       "12             Saudi Arabia               Asia  3.486592e+07      284226   \n",
       "13                 Pakistan               Asia  2.212959e+08      281863   \n",
       "14               Bangladesh               Asia  1.648514e+08      249651   \n",
       "15                    Italy             Europe  6.045257e+07      249204   \n",
       "16                   Turkey               Asia  8.442833e+07      237265   \n",
       "17                Argentina      South America  4.523688e+07      228195   \n",
       "18                  Germany             Europe  8.381126e+07      215210   \n",
       "19                   France             Europe  6.528831e+07      195633   \n",
       "20                     Iraq               Asia  4.030602e+07      140603   \n",
       "21              Philippines               Asia  1.097227e+08      119460   \n",
       "22                Indonesia               Asia  2.738084e+08      118753   \n",
       "23                   Canada      North America  3.777502e+07      118561   \n",
       "24                    Qatar               Asia  2.807805e+06      112092   \n",
       "25               Kazakhstan               Asia  1.879867e+07       95942   \n",
       "26                    Egypt             Africa  1.025165e+08       95006   \n",
       "27                  Ecuador      South America  1.766882e+07       90537   \n",
       "28                  Bolivia      South America  1.168846e+07       86423   \n",
       "29                   Sweden             Europe  1.010560e+07       81967   \n",
       "..                      ...                ...           ...         ...   \n",
       "179            Sint Maarten      North America  4.292400e+04         160   \n",
       "180                 Bermuda      North America  6.225400e+04         157   \n",
       "181                 Brunei                Asia  4.378930e+05         141   \n",
       "182                Barbados      North America  2.874110e+05         133   \n",
       "183        Turks and Caicos      North America  3.876800e+04         129   \n",
       "184              Seychelles             Africa  9.840800e+04         126   \n",
       "185                  Monaco             Europe  3.927000e+04         125   \n",
       "186                  Bhutan               Asia  7.724430e+05         105   \n",
       "187     Antigua and Barbuda      North America  9.801000e+04          92   \n",
       "188           Liechtenstein             Europe  3.813900e+04          89   \n",
       "189                  Belize      North America  3.983120e+05          86   \n",
       "190        French Polynesia  Australia/Oceania  2.810720e+05          64   \n",
       "191  St. Vincent Grenadines      North America  1.109760e+05          56   \n",
       "192            Saint Martin      North America  3.872900e+04          53   \n",
       "193                   Macao               Asia  6.501930e+05          46   \n",
       "194                 Curaçao      North America  1.641610e+05          31   \n",
       "195                    Fiji  Australia/Oceania  8.970950e+05          27   \n",
       "196             Saint Lucia      North America  1.837120e+05          25   \n",
       "197             Timor-Leste               Asia  1.320812e+06          25   \n",
       "198                 Grenada      North America  1.125760e+05          24   \n",
       "199           New Caledonia  Australia/Oceania  2.857690e+05          22   \n",
       "200                    Laos               Asia  7.285750e+06          20   \n",
       "201                Dominica      North America  7.200400e+04          18   \n",
       "202   Saint Kitts and Nevis      North America  5.323700e+04          17   \n",
       "203               Greenland      North America  5.678000e+04          14   \n",
       "204              Montserrat      North America  4.992000e+03          13   \n",
       "205   Caribbean Netherlands      North America  2.624700e+04          13   \n",
       "206        Falkland Islands      South America  3.489000e+03          13   \n",
       "207            Vatican City             Europe  8.010000e+02          12   \n",
       "208          Western Sahara             Africa  5.986820e+05          10   \n",
       "\n",
       "     TotalDeaths  TotalRecovered  ActiveCases  Serious,Critical  \\\n",
       "0       162804.0       2576668.0    2292707.0           18296.0   \n",
       "1        98644.0       2047660.0     771258.0            8318.0   \n",
       "2        41638.0       1377384.0     606387.0            8944.0   \n",
       "3        14606.0        676357.0     180931.0            2300.0   \n",
       "4         9604.0        387316.0     141264.0             539.0   \n",
       "5        50517.0        308848.0     103325.0            3987.0   \n",
       "6        20424.0        310337.0     124648.0            1426.0   \n",
       "7         9889.0        340168.0      16614.0            1358.0   \n",
       "8        11939.0        192355.0     153416.0            1493.0   \n",
       "9        28500.0             NaN          NaN             617.0   \n",
       "10       17976.0        277463.0      24678.0            4156.0   \n",
       "11       46413.0             NaN          NaN              73.0   \n",
       "12        3055.0        247089.0      34082.0            1915.0   \n",
       "13        6035.0        256058.0      19770.0             809.0   \n",
       "14        3306.0        143824.0     102521.0               NaN   \n",
       "15       35187.0        201323.0      12694.0              42.0   \n",
       "16        5798.0        220546.0      10921.0             580.0   \n",
       "17        4251.0         99852.0     124092.0            1150.0   \n",
       "18        9252.0        196200.0       9758.0             236.0   \n",
       "19       30312.0         82460.0      82861.0             384.0   \n",
       "20        5161.0        101025.0      34417.0             517.0   \n",
       "21        2150.0         66837.0      50473.0             239.0   \n",
       "22        5521.0         75645.0      37587.0               NaN   \n",
       "23        8966.0        103106.0       6489.0            2263.0   \n",
       "24         178.0        108831.0       3083.0              77.0   \n",
       "25        1058.0         68871.0      26013.0             221.0   \n",
       "26        4951.0         48898.0      41157.0              41.0   \n",
       "27        5877.0         71318.0      13342.0             378.0   \n",
       "28        3465.0         27373.0      55585.0              71.0   \n",
       "29        5766.0             NaN          NaN              38.0   \n",
       "..           ...             ...          ...               ...   \n",
       "179         16.0            64.0         80.0               3.0   \n",
       "180          9.0           144.0          4.0               NaN   \n",
       "181          3.0           138.0          0.0               NaN   \n",
       "182          7.0           100.0         26.0               NaN   \n",
       "183          2.0            39.0         88.0               3.0   \n",
       "184          NaN           124.0          2.0               NaN   \n",
       "185          4.0           105.0         16.0               2.0   \n",
       "186          NaN            93.0         12.0               NaN   \n",
       "187          3.0            76.0         13.0               1.0   \n",
       "188          1.0            85.0          3.0               NaN   \n",
       "189          2.0            31.0         53.0               2.0   \n",
       "190          NaN            62.0          2.0               NaN   \n",
       "191          NaN            46.0         10.0               NaN   \n",
       "192          3.0            41.0          9.0               1.0   \n",
       "193          NaN            46.0          0.0               NaN   \n",
       "194          1.0            28.0          2.0               NaN   \n",
       "195          1.0            18.0          8.0               NaN   \n",
       "196          NaN            24.0          1.0               NaN   \n",
       "197          NaN            24.0          1.0               NaN   \n",
       "198          NaN            23.0          1.0               NaN   \n",
       "199          NaN            22.0          0.0               NaN   \n",
       "200          NaN            19.0          1.0               NaN   \n",
       "201          NaN            18.0          0.0               NaN   \n",
       "202          NaN            16.0          1.0               NaN   \n",
       "203          NaN            14.0          0.0               NaN   \n",
       "204          1.0            10.0          2.0               NaN   \n",
       "205          NaN             7.0          6.0               NaN   \n",
       "206          NaN            13.0          0.0               NaN   \n",
       "207          NaN            12.0          0.0               NaN   \n",
       "208          1.0             8.0          1.0               NaN   \n",
       "\n",
       "     Tot Cases/1M pop  Deaths/1M pop  TotalTests  Tests/1M pop  \\\n",
       "0             15194.0          492.0  63139605.0      190640.0   \n",
       "1             13716.0          464.0  13206188.0       62085.0   \n",
       "2              1466.0           30.0  22149351.0       16035.0   \n",
       "3              5974.0          100.0  29716907.0      203623.0   \n",
       "4              9063.0          162.0   3149807.0       53044.0   \n",
       "5              3585.0          391.0   1056915.0        8189.0   \n",
       "6             13793.0          619.0   2493429.0       75521.0   \n",
       "7             19165.0          517.0   1760615.0       92022.0   \n",
       "8              7023.0          234.0   1801835.0       35374.0   \n",
       "9              7582.0          610.0   7064329.0      151087.0   \n",
       "10             3806.0          214.0   2612763.0       31068.0   \n",
       "11             4537.0          683.0  17515234.0      257873.0   \n",
       "12             8152.0           88.0   3635705.0      104277.0   \n",
       "13             1274.0           27.0   2058872.0        9304.0   \n",
       "14             1514.0           20.0   1225124.0        7432.0   \n",
       "15             4122.0          582.0   7099713.0      117443.0   \n",
       "16             2810.0           69.0   5081802.0       60191.0   \n",
       "17             5044.0           94.0    794544.0       17564.0   \n",
       "18             2568.0          110.0   8586648.0      102452.0   \n",
       "19             2996.0          464.0   3992206.0       61147.0   \n",
       "20             3488.0          128.0   1092741.0       27111.0   \n",
       "21             1089.0           20.0   1669996.0       15220.0   \n",
       "22              434.0           20.0   1633156.0        5965.0   \n",
       "23             3139.0          237.0   4319172.0      114339.0   \n",
       "24            39922.0           63.0    511000.0      181993.0   \n",
       "25             5104.0           56.0   2163713.0      115099.0   \n",
       "26              927.0           48.0    135000.0        1317.0   \n",
       "27             5124.0          333.0    258582.0       14635.0   \n",
       "28             7394.0          296.0    183583.0       15706.0   \n",
       "29             8111.0          571.0    863315.0       85429.0   \n",
       "..                ...            ...         ...           ...   \n",
       "179            3728.0          373.0      1115.0       25976.0   \n",
       "180            2522.0          145.0     26352.0      423298.0   \n",
       "181             322.0            7.0     41148.0       93968.0   \n",
       "182             463.0           24.0     12233.0       42563.0   \n",
       "183            3327.0           52.0      1252.0       32295.0   \n",
       "184            1280.0            NaN         NaN           NaN   \n",
       "185            3183.0          102.0     38209.0      972982.0   \n",
       "186             136.0            NaN     54589.0       70671.0   \n",
       "187             939.0           31.0      1500.0       15305.0   \n",
       "188            2334.0           26.0       900.0       23598.0   \n",
       "189             216.0            5.0      3679.0        9236.0   \n",
       "190             228.0            NaN      5849.0       20810.0   \n",
       "191             505.0            NaN      2447.0       22050.0   \n",
       "192            1368.0           77.0      1183.0       30546.0   \n",
       "193              71.0            NaN      4071.0        6261.0   \n",
       "194             189.0            6.0      1080.0        6579.0   \n",
       "195              30.0            1.0      6693.0        7461.0   \n",
       "196             136.0            NaN      3895.0       21202.0   \n",
       "197              19.0            NaN      4238.0        3209.0   \n",
       "198             213.0            NaN      6252.0       55536.0   \n",
       "199              77.0            NaN     11099.0       38839.0   \n",
       "200               3.0            NaN     29374.0        4032.0   \n",
       "201             250.0            NaN      1005.0       13958.0   \n",
       "202             319.0            NaN      1146.0       21526.0   \n",
       "203             247.0            NaN      5977.0      105266.0   \n",
       "204            2604.0          200.0        61.0       12220.0   \n",
       "205             495.0            NaN       424.0       16154.0   \n",
       "206            3726.0            NaN      1816.0      520493.0   \n",
       "207           14981.0            NaN         NaN           NaN   \n",
       "208              17.0            2.0         NaN           NaN   \n",
       "\n",
       "               WHO Region iso_alpha  \n",
       "0                Americas       USA  \n",
       "1                Americas       BRA  \n",
       "2          South-EastAsia       IND  \n",
       "3                  Europe       RUS  \n",
       "4                  Africa       ZAF  \n",
       "5                Americas       MEX  \n",
       "6                Americas       PER  \n",
       "7                Americas       CHL  \n",
       "8                Americas       COL  \n",
       "9                  Europe       ESP  \n",
       "10   EasternMediterranean       IRN  \n",
       "11                 Europe       UKR  \n",
       "12   EasternMediterranean       SAU  \n",
       "13   EasternMediterranean       PAK  \n",
       "14         South-EastAsia       BGD  \n",
       "15                 Europe       ITA  \n",
       "16                 Europe       TUR  \n",
       "17               Americas       ARG  \n",
       "18                 Europe       DEU  \n",
       "19                 Europe       FRA  \n",
       "20   EasternMediterranean       IRQ  \n",
       "21         WesternPacific       PHL  \n",
       "22         South-EastAsia       IDN  \n",
       "23               Americas       CAN  \n",
       "24   EasternMediterranean       QAT  \n",
       "25                 Europe       KAZ  \n",
       "26   EasternMediterranean       EGY  \n",
       "27               Americas       ECU  \n",
       "28               Americas       BOL  \n",
       "29                 Europe       SWE  \n",
       "..                    ...       ...  \n",
       "179                   NaN       NLD  \n",
       "180              Americas       BMU  \n",
       "181                   NaN       BRN  \n",
       "182              Americas       BRB  \n",
       "183                   NaN       TCA  \n",
       "184                Africa       SYC  \n",
       "185                Europe       MCO  \n",
       "186        South-EastAsia       BTN  \n",
       "187              Americas       ATG  \n",
       "188                Europe       LIE  \n",
       "189              Americas       BLZ  \n",
       "190                   NaN       PYF  \n",
       "191                   NaN            \n",
       "192                   NaN       MAF  \n",
       "193                   NaN       MAC  \n",
       "194                   NaN       NLD  \n",
       "195        WesternPacific       FJI  \n",
       "196              Americas       LCA  \n",
       "197        South-EastAsia       TLS  \n",
       "198              Americas       GRD  \n",
       "199                   NaN       NCL  \n",
       "200        WesternPacific            \n",
       "201              Americas       DMA  \n",
       "202              Americas       KNA  \n",
       "203                Europe       GRL  \n",
       "204                   NaN       MSR  \n",
       "205                   NaN            \n",
       "206                   NaN       FLK  \n",
       "207                Europe       VAT  \n",
       "208                Africa       ESH  \n",
       "\n",
       "[209 rows x 14 columns]"
      ]
     },
     "execution_count": 100,
     "metadata": {},
     "output_type": "execute_result"
    }
   ],
   "source": [
    "covid"
   ]
  },
  {
   "cell_type": "code",
   "execution_count": 101,
   "metadata": {},
   "outputs": [
    {
     "data": {
      "application/vnd.plotly.v1+json": {
       "config": {
        "linkText": "Export to plot.ly",
        "plotlyServerURL": "https://plot.ly",
        "showLink": false
       },
       "data": [
        {
         "colorscale": [
          [
           0,
           "rgb(247,252,245)"
          ],
          [
           0.125,
           "rgb(229,245,224)"
          ],
          [
           0.25,
           "rgb(199,233,192)"
          ],
          [
           0.375,
           "rgb(161,217,155)"
          ],
          [
           0.5,
           "rgb(116,196,118)"
          ],
          [
           0.625,
           "rgb(65,171,93)"
          ],
          [
           0.75,
           "rgb(35,139,69)"
          ],
          [
           0.875,
           "rgb(0,109,44)"
          ],
          [
           1,
           "rgb(0,68,27)"
          ]
         ],
         "hoverinfo": "none",
         "opacity": 0.75,
         "showscale": false,
         "type": "heatmap",
         "z": [
          [
           0,
           0,
           0,
           0,
           0,
           0,
           0,
           0,
           0,
           0,
           0,
           0,
           0,
           0
          ],
          [
           0.5,
           0.5,
           0.5,
           0.5,
           0.5,
           0.5,
           0.5,
           0.5,
           0.5,
           0.5,
           0.5,
           0.5,
           0.5,
           0.5
          ],
          [
           1,
           1,
           1,
           1,
           1,
           1,
           1,
           1,
           1,
           1,
           1,
           1,
           1,
           1
          ],
          [
           0.5,
           0.5,
           0.5,
           0.5,
           0.5,
           0.5,
           0.5,
           0.5,
           0.5,
           0.5,
           0.5,
           0.5,
           0.5,
           0.5
          ],
          [
           1,
           1,
           1,
           1,
           1,
           1,
           1,
           1,
           1,
           1,
           1,
           1,
           1,
           1
          ],
          [
           0.5,
           0.5,
           0.5,
           0.5,
           0.5,
           0.5,
           0.5,
           0.5,
           0.5,
           0.5,
           0.5,
           0.5,
           0.5,
           0.5
          ]
         ]
        }
       ],
       "layout": {
        "annotations": [
         {
          "align": "left",
          "font": {
           "color": "#ffffff"
          },
          "showarrow": false,
          "text": "<b>Country/Region</b>",
          "x": -0.45,
          "xanchor": "left",
          "xref": "x",
          "y": 0,
          "yref": "y"
         },
         {
          "align": "left",
          "font": {
           "color": "#ffffff"
          },
          "showarrow": false,
          "text": "<b>Continent</b>",
          "x": 0.55,
          "xanchor": "left",
          "xref": "x",
          "y": 0,
          "yref": "y"
         },
         {
          "align": "left",
          "font": {
           "color": "#ffffff"
          },
          "showarrow": false,
          "text": "<b>Population</b>",
          "x": 1.55,
          "xanchor": "left",
          "xref": "x",
          "y": 0,
          "yref": "y"
         },
         {
          "align": "left",
          "font": {
           "color": "#ffffff"
          },
          "showarrow": false,
          "text": "<b>TotalCases</b>",
          "x": 2.55,
          "xanchor": "left",
          "xref": "x",
          "y": 0,
          "yref": "y"
         },
         {
          "align": "left",
          "font": {
           "color": "#ffffff"
          },
          "showarrow": false,
          "text": "<b>TotalDeaths</b>",
          "x": 3.55,
          "xanchor": "left",
          "xref": "x",
          "y": 0,
          "yref": "y"
         },
         {
          "align": "left",
          "font": {
           "color": "#ffffff"
          },
          "showarrow": false,
          "text": "<b>TotalRecovered</b>",
          "x": 4.55,
          "xanchor": "left",
          "xref": "x",
          "y": 0,
          "yref": "y"
         },
         {
          "align": "left",
          "font": {
           "color": "#ffffff"
          },
          "showarrow": false,
          "text": "<b>ActiveCases</b>",
          "x": 5.55,
          "xanchor": "left",
          "xref": "x",
          "y": 0,
          "yref": "y"
         },
         {
          "align": "left",
          "font": {
           "color": "#ffffff"
          },
          "showarrow": false,
          "text": "<b>Serious,Critical</b>",
          "x": 6.55,
          "xanchor": "left",
          "xref": "x",
          "y": 0,
          "yref": "y"
         },
         {
          "align": "left",
          "font": {
           "color": "#ffffff"
          },
          "showarrow": false,
          "text": "<b>Tot Cases/1M pop</b>",
          "x": 7.55,
          "xanchor": "left",
          "xref": "x",
          "y": 0,
          "yref": "y"
         },
         {
          "align": "left",
          "font": {
           "color": "#ffffff"
          },
          "showarrow": false,
          "text": "<b>Deaths/1M pop</b>",
          "x": 8.55,
          "xanchor": "left",
          "xref": "x",
          "y": 0,
          "yref": "y"
         },
         {
          "align": "left",
          "font": {
           "color": "#ffffff"
          },
          "showarrow": false,
          "text": "<b>TotalTests</b>",
          "x": 9.55,
          "xanchor": "left",
          "xref": "x",
          "y": 0,
          "yref": "y"
         },
         {
          "align": "left",
          "font": {
           "color": "#ffffff"
          },
          "showarrow": false,
          "text": "<b>Tests/1M pop</b>",
          "x": 10.55,
          "xanchor": "left",
          "xref": "x",
          "y": 0,
          "yref": "y"
         },
         {
          "align": "left",
          "font": {
           "color": "#ffffff"
          },
          "showarrow": false,
          "text": "<b>WHO Region</b>",
          "x": 11.55,
          "xanchor": "left",
          "xref": "x",
          "y": 0,
          "yref": "y"
         },
         {
          "align": "left",
          "font": {
           "color": "#ffffff"
          },
          "showarrow": false,
          "text": "<b>iso_alpha</b>",
          "x": 12.55,
          "xanchor": "left",
          "xref": "x",
          "y": 0,
          "yref": "y"
         },
         {
          "align": "left",
          "font": {
           "color": "#000000"
          },
          "showarrow": false,
          "text": "USA",
          "x": -0.45,
          "xanchor": "left",
          "xref": "x",
          "y": 1,
          "yref": "y"
         },
         {
          "align": "left",
          "font": {
           "color": "#000000"
          },
          "showarrow": false,
          "text": "North America",
          "x": 0.55,
          "xanchor": "left",
          "xref": "x",
          "y": 1,
          "yref": "y"
         },
         {
          "align": "left",
          "font": {
           "color": "#000000"
          },
          "showarrow": false,
          "text": "331198130.0",
          "x": 1.55,
          "xanchor": "left",
          "xref": "x",
          "y": 1,
          "yref": "y"
         },
         {
          "align": "left",
          "font": {
           "color": "#000000"
          },
          "showarrow": false,
          "text": "5032179",
          "x": 2.55,
          "xanchor": "left",
          "xref": "x",
          "y": 1,
          "yref": "y"
         },
         {
          "align": "left",
          "font": {
           "color": "#000000"
          },
          "showarrow": false,
          "text": "162804.0",
          "x": 3.55,
          "xanchor": "left",
          "xref": "x",
          "y": 1,
          "yref": "y"
         },
         {
          "align": "left",
          "font": {
           "color": "#000000"
          },
          "showarrow": false,
          "text": "2576668.0",
          "x": 4.55,
          "xanchor": "left",
          "xref": "x",
          "y": 1,
          "yref": "y"
         },
         {
          "align": "left",
          "font": {
           "color": "#000000"
          },
          "showarrow": false,
          "text": "2292707.0",
          "x": 5.55,
          "xanchor": "left",
          "xref": "x",
          "y": 1,
          "yref": "y"
         },
         {
          "align": "left",
          "font": {
           "color": "#000000"
          },
          "showarrow": false,
          "text": "18296.0",
          "x": 6.55,
          "xanchor": "left",
          "xref": "x",
          "y": 1,
          "yref": "y"
         },
         {
          "align": "left",
          "font": {
           "color": "#000000"
          },
          "showarrow": false,
          "text": "15194.0",
          "x": 7.55,
          "xanchor": "left",
          "xref": "x",
          "y": 1,
          "yref": "y"
         },
         {
          "align": "left",
          "font": {
           "color": "#000000"
          },
          "showarrow": false,
          "text": "492.0",
          "x": 8.55,
          "xanchor": "left",
          "xref": "x",
          "y": 1,
          "yref": "y"
         },
         {
          "align": "left",
          "font": {
           "color": "#000000"
          },
          "showarrow": false,
          "text": "63139605.0",
          "x": 9.55,
          "xanchor": "left",
          "xref": "x",
          "y": 1,
          "yref": "y"
         },
         {
          "align": "left",
          "font": {
           "color": "#000000"
          },
          "showarrow": false,
          "text": "190640.0",
          "x": 10.55,
          "xanchor": "left",
          "xref": "x",
          "y": 1,
          "yref": "y"
         },
         {
          "align": "left",
          "font": {
           "color": "#000000"
          },
          "showarrow": false,
          "text": "Americas",
          "x": 11.55,
          "xanchor": "left",
          "xref": "x",
          "y": 1,
          "yref": "y"
         },
         {
          "align": "left",
          "font": {
           "color": "#000000"
          },
          "showarrow": false,
          "text": "USA",
          "x": 12.55,
          "xanchor": "left",
          "xref": "x",
          "y": 1,
          "yref": "y"
         },
         {
          "align": "left",
          "font": {
           "color": "#000000"
          },
          "showarrow": false,
          "text": "Brazil",
          "x": -0.45,
          "xanchor": "left",
          "xref": "x",
          "y": 2,
          "yref": "y"
         },
         {
          "align": "left",
          "font": {
           "color": "#000000"
          },
          "showarrow": false,
          "text": "South America",
          "x": 0.55,
          "xanchor": "left",
          "xref": "x",
          "y": 2,
          "yref": "y"
         },
         {
          "align": "left",
          "font": {
           "color": "#000000"
          },
          "showarrow": false,
          "text": "212710692.0",
          "x": 1.55,
          "xanchor": "left",
          "xref": "x",
          "y": 2,
          "yref": "y"
         },
         {
          "align": "left",
          "font": {
           "color": "#000000"
          },
          "showarrow": false,
          "text": "2917562",
          "x": 2.55,
          "xanchor": "left",
          "xref": "x",
          "y": 2,
          "yref": "y"
         },
         {
          "align": "left",
          "font": {
           "color": "#000000"
          },
          "showarrow": false,
          "text": "98644.0",
          "x": 3.55,
          "xanchor": "left",
          "xref": "x",
          "y": 2,
          "yref": "y"
         },
         {
          "align": "left",
          "font": {
           "color": "#000000"
          },
          "showarrow": false,
          "text": "2047660.0",
          "x": 4.55,
          "xanchor": "left",
          "xref": "x",
          "y": 2,
          "yref": "y"
         },
         {
          "align": "left",
          "font": {
           "color": "#000000"
          },
          "showarrow": false,
          "text": "771258.0",
          "x": 5.55,
          "xanchor": "left",
          "xref": "x",
          "y": 2,
          "yref": "y"
         },
         {
          "align": "left",
          "font": {
           "color": "#000000"
          },
          "showarrow": false,
          "text": "8318.0",
          "x": 6.55,
          "xanchor": "left",
          "xref": "x",
          "y": 2,
          "yref": "y"
         },
         {
          "align": "left",
          "font": {
           "color": "#000000"
          },
          "showarrow": false,
          "text": "13716.0",
          "x": 7.55,
          "xanchor": "left",
          "xref": "x",
          "y": 2,
          "yref": "y"
         },
         {
          "align": "left",
          "font": {
           "color": "#000000"
          },
          "showarrow": false,
          "text": "464.0",
          "x": 8.55,
          "xanchor": "left",
          "xref": "x",
          "y": 2,
          "yref": "y"
         },
         {
          "align": "left",
          "font": {
           "color": "#000000"
          },
          "showarrow": false,
          "text": "13206188.0",
          "x": 9.55,
          "xanchor": "left",
          "xref": "x",
          "y": 2,
          "yref": "y"
         },
         {
          "align": "left",
          "font": {
           "color": "#000000"
          },
          "showarrow": false,
          "text": "62085.0",
          "x": 10.55,
          "xanchor": "left",
          "xref": "x",
          "y": 2,
          "yref": "y"
         },
         {
          "align": "left",
          "font": {
           "color": "#000000"
          },
          "showarrow": false,
          "text": "Americas",
          "x": 11.55,
          "xanchor": "left",
          "xref": "x",
          "y": 2,
          "yref": "y"
         },
         {
          "align": "left",
          "font": {
           "color": "#000000"
          },
          "showarrow": false,
          "text": "BRA",
          "x": 12.55,
          "xanchor": "left",
          "xref": "x",
          "y": 2,
          "yref": "y"
         },
         {
          "align": "left",
          "font": {
           "color": "#000000"
          },
          "showarrow": false,
          "text": "India",
          "x": -0.45,
          "xanchor": "left",
          "xref": "x",
          "y": 3,
          "yref": "y"
         },
         {
          "align": "left",
          "font": {
           "color": "#000000"
          },
          "showarrow": false,
          "text": "Asia",
          "x": 0.55,
          "xanchor": "left",
          "xref": "x",
          "y": 3,
          "yref": "y"
         },
         {
          "align": "left",
          "font": {
           "color": "#000000"
          },
          "showarrow": false,
          "text": "1381344997.0",
          "x": 1.55,
          "xanchor": "left",
          "xref": "x",
          "y": 3,
          "yref": "y"
         },
         {
          "align": "left",
          "font": {
           "color": "#000000"
          },
          "showarrow": false,
          "text": "2025409",
          "x": 2.55,
          "xanchor": "left",
          "xref": "x",
          "y": 3,
          "yref": "y"
         },
         {
          "align": "left",
          "font": {
           "color": "#000000"
          },
          "showarrow": false,
          "text": "41638.0",
          "x": 3.55,
          "xanchor": "left",
          "xref": "x",
          "y": 3,
          "yref": "y"
         },
         {
          "align": "left",
          "font": {
           "color": "#000000"
          },
          "showarrow": false,
          "text": "1377384.0",
          "x": 4.55,
          "xanchor": "left",
          "xref": "x",
          "y": 3,
          "yref": "y"
         },
         {
          "align": "left",
          "font": {
           "color": "#000000"
          },
          "showarrow": false,
          "text": "606387.0",
          "x": 5.55,
          "xanchor": "left",
          "xref": "x",
          "y": 3,
          "yref": "y"
         },
         {
          "align": "left",
          "font": {
           "color": "#000000"
          },
          "showarrow": false,
          "text": "8944.0",
          "x": 6.55,
          "xanchor": "left",
          "xref": "x",
          "y": 3,
          "yref": "y"
         },
         {
          "align": "left",
          "font": {
           "color": "#000000"
          },
          "showarrow": false,
          "text": "1466.0",
          "x": 7.55,
          "xanchor": "left",
          "xref": "x",
          "y": 3,
          "yref": "y"
         },
         {
          "align": "left",
          "font": {
           "color": "#000000"
          },
          "showarrow": false,
          "text": "30.0",
          "x": 8.55,
          "xanchor": "left",
          "xref": "x",
          "y": 3,
          "yref": "y"
         },
         {
          "align": "left",
          "font": {
           "color": "#000000"
          },
          "showarrow": false,
          "text": "22149351.0",
          "x": 9.55,
          "xanchor": "left",
          "xref": "x",
          "y": 3,
          "yref": "y"
         },
         {
          "align": "left",
          "font": {
           "color": "#000000"
          },
          "showarrow": false,
          "text": "16035.0",
          "x": 10.55,
          "xanchor": "left",
          "xref": "x",
          "y": 3,
          "yref": "y"
         },
         {
          "align": "left",
          "font": {
           "color": "#000000"
          },
          "showarrow": false,
          "text": "South-EastAsia",
          "x": 11.55,
          "xanchor": "left",
          "xref": "x",
          "y": 3,
          "yref": "y"
         },
         {
          "align": "left",
          "font": {
           "color": "#000000"
          },
          "showarrow": false,
          "text": "IND",
          "x": 12.55,
          "xanchor": "left",
          "xref": "x",
          "y": 3,
          "yref": "y"
         },
         {
          "align": "left",
          "font": {
           "color": "#000000"
          },
          "showarrow": false,
          "text": "Russia",
          "x": -0.45,
          "xanchor": "left",
          "xref": "x",
          "y": 4,
          "yref": "y"
         },
         {
          "align": "left",
          "font": {
           "color": "#000000"
          },
          "showarrow": false,
          "text": "Europe",
          "x": 0.55,
          "xanchor": "left",
          "xref": "x",
          "y": 4,
          "yref": "y"
         },
         {
          "align": "left",
          "font": {
           "color": "#000000"
          },
          "showarrow": false,
          "text": "145940924.0",
          "x": 1.55,
          "xanchor": "left",
          "xref": "x",
          "y": 4,
          "yref": "y"
         },
         {
          "align": "left",
          "font": {
           "color": "#000000"
          },
          "showarrow": false,
          "text": "871894",
          "x": 2.55,
          "xanchor": "left",
          "xref": "x",
          "y": 4,
          "yref": "y"
         },
         {
          "align": "left",
          "font": {
           "color": "#000000"
          },
          "showarrow": false,
          "text": "14606.0",
          "x": 3.55,
          "xanchor": "left",
          "xref": "x",
          "y": 4,
          "yref": "y"
         },
         {
          "align": "left",
          "font": {
           "color": "#000000"
          },
          "showarrow": false,
          "text": "676357.0",
          "x": 4.55,
          "xanchor": "left",
          "xref": "x",
          "y": 4,
          "yref": "y"
         },
         {
          "align": "left",
          "font": {
           "color": "#000000"
          },
          "showarrow": false,
          "text": "180931.0",
          "x": 5.55,
          "xanchor": "left",
          "xref": "x",
          "y": 4,
          "yref": "y"
         },
         {
          "align": "left",
          "font": {
           "color": "#000000"
          },
          "showarrow": false,
          "text": "2300.0",
          "x": 6.55,
          "xanchor": "left",
          "xref": "x",
          "y": 4,
          "yref": "y"
         },
         {
          "align": "left",
          "font": {
           "color": "#000000"
          },
          "showarrow": false,
          "text": "5974.0",
          "x": 7.55,
          "xanchor": "left",
          "xref": "x",
          "y": 4,
          "yref": "y"
         },
         {
          "align": "left",
          "font": {
           "color": "#000000"
          },
          "showarrow": false,
          "text": "100.0",
          "x": 8.55,
          "xanchor": "left",
          "xref": "x",
          "y": 4,
          "yref": "y"
         },
         {
          "align": "left",
          "font": {
           "color": "#000000"
          },
          "showarrow": false,
          "text": "29716907.0",
          "x": 9.55,
          "xanchor": "left",
          "xref": "x",
          "y": 4,
          "yref": "y"
         },
         {
          "align": "left",
          "font": {
           "color": "#000000"
          },
          "showarrow": false,
          "text": "203623.0",
          "x": 10.55,
          "xanchor": "left",
          "xref": "x",
          "y": 4,
          "yref": "y"
         },
         {
          "align": "left",
          "font": {
           "color": "#000000"
          },
          "showarrow": false,
          "text": "Europe",
          "x": 11.55,
          "xanchor": "left",
          "xref": "x",
          "y": 4,
          "yref": "y"
         },
         {
          "align": "left",
          "font": {
           "color": "#000000"
          },
          "showarrow": false,
          "text": "RUS",
          "x": 12.55,
          "xanchor": "left",
          "xref": "x",
          "y": 4,
          "yref": "y"
         },
         {
          "align": "left",
          "font": {
           "color": "#000000"
          },
          "showarrow": false,
          "text": "South Africa",
          "x": -0.45,
          "xanchor": "left",
          "xref": "x",
          "y": 5,
          "yref": "y"
         },
         {
          "align": "left",
          "font": {
           "color": "#000000"
          },
          "showarrow": false,
          "text": "Africa",
          "x": 0.55,
          "xanchor": "left",
          "xref": "x",
          "y": 5,
          "yref": "y"
         },
         {
          "align": "left",
          "font": {
           "color": "#000000"
          },
          "showarrow": false,
          "text": "59381566.0",
          "x": 1.55,
          "xanchor": "left",
          "xref": "x",
          "y": 5,
          "yref": "y"
         },
         {
          "align": "left",
          "font": {
           "color": "#000000"
          },
          "showarrow": false,
          "text": "538184",
          "x": 2.55,
          "xanchor": "left",
          "xref": "x",
          "y": 5,
          "yref": "y"
         },
         {
          "align": "left",
          "font": {
           "color": "#000000"
          },
          "showarrow": false,
          "text": "9604.0",
          "x": 3.55,
          "xanchor": "left",
          "xref": "x",
          "y": 5,
          "yref": "y"
         },
         {
          "align": "left",
          "font": {
           "color": "#000000"
          },
          "showarrow": false,
          "text": "387316.0",
          "x": 4.55,
          "xanchor": "left",
          "xref": "x",
          "y": 5,
          "yref": "y"
         },
         {
          "align": "left",
          "font": {
           "color": "#000000"
          },
          "showarrow": false,
          "text": "141264.0",
          "x": 5.55,
          "xanchor": "left",
          "xref": "x",
          "y": 5,
          "yref": "y"
         },
         {
          "align": "left",
          "font": {
           "color": "#000000"
          },
          "showarrow": false,
          "text": "539.0",
          "x": 6.55,
          "xanchor": "left",
          "xref": "x",
          "y": 5,
          "yref": "y"
         },
         {
          "align": "left",
          "font": {
           "color": "#000000"
          },
          "showarrow": false,
          "text": "9063.0",
          "x": 7.55,
          "xanchor": "left",
          "xref": "x",
          "y": 5,
          "yref": "y"
         },
         {
          "align": "left",
          "font": {
           "color": "#000000"
          },
          "showarrow": false,
          "text": "162.0",
          "x": 8.55,
          "xanchor": "left",
          "xref": "x",
          "y": 5,
          "yref": "y"
         },
         {
          "align": "left",
          "font": {
           "color": "#000000"
          },
          "showarrow": false,
          "text": "3149807.0",
          "x": 9.55,
          "xanchor": "left",
          "xref": "x",
          "y": 5,
          "yref": "y"
         },
         {
          "align": "left",
          "font": {
           "color": "#000000"
          },
          "showarrow": false,
          "text": "53044.0",
          "x": 10.55,
          "xanchor": "left",
          "xref": "x",
          "y": 5,
          "yref": "y"
         },
         {
          "align": "left",
          "font": {
           "color": "#000000"
          },
          "showarrow": false,
          "text": "Africa",
          "x": 11.55,
          "xanchor": "left",
          "xref": "x",
          "y": 5,
          "yref": "y"
         },
         {
          "align": "left",
          "font": {
           "color": "#000000"
          },
          "showarrow": false,
          "text": "ZAF",
          "x": 12.55,
          "xanchor": "left",
          "xref": "x",
          "y": 5,
          "yref": "y"
         }
        ],
        "height": 230,
        "margin": {
         "b": 0,
         "l": 0,
         "r": 0,
         "t": 0
        },
        "template": {
         "data": {
          "bar": [
           {
            "error_x": {
             "color": "#2a3f5f"
            },
            "error_y": {
             "color": "#2a3f5f"
            },
            "marker": {
             "line": {
              "color": "#E5ECF6",
              "width": 0.5
             }
            },
            "type": "bar"
           }
          ],
          "barpolar": [
           {
            "marker": {
             "line": {
              "color": "#E5ECF6",
              "width": 0.5
             }
            },
            "type": "barpolar"
           }
          ],
          "carpet": [
           {
            "aaxis": {
             "endlinecolor": "#2a3f5f",
             "gridcolor": "white",
             "linecolor": "white",
             "minorgridcolor": "white",
             "startlinecolor": "#2a3f5f"
            },
            "baxis": {
             "endlinecolor": "#2a3f5f",
             "gridcolor": "white",
             "linecolor": "white",
             "minorgridcolor": "white",
             "startlinecolor": "#2a3f5f"
            },
            "type": "carpet"
           }
          ],
          "choropleth": [
           {
            "colorbar": {
             "outlinewidth": 0,
             "ticks": ""
            },
            "type": "choropleth"
           }
          ],
          "contour": [
           {
            "colorbar": {
             "outlinewidth": 0,
             "ticks": ""
            },
            "colorscale": [
             [
              0,
              "#0d0887"
             ],
             [
              0.1111111111111111,
              "#46039f"
             ],
             [
              0.2222222222222222,
              "#7201a8"
             ],
             [
              0.3333333333333333,
              "#9c179e"
             ],
             [
              0.4444444444444444,
              "#bd3786"
             ],
             [
              0.5555555555555556,
              "#d8576b"
             ],
             [
              0.6666666666666666,
              "#ed7953"
             ],
             [
              0.7777777777777778,
              "#fb9f3a"
             ],
             [
              0.8888888888888888,
              "#fdca26"
             ],
             [
              1,
              "#f0f921"
             ]
            ],
            "type": "contour"
           }
          ],
          "contourcarpet": [
           {
            "colorbar": {
             "outlinewidth": 0,
             "ticks": ""
            },
            "type": "contourcarpet"
           }
          ],
          "heatmap": [
           {
            "colorbar": {
             "outlinewidth": 0,
             "ticks": ""
            },
            "colorscale": [
             [
              0,
              "#0d0887"
             ],
             [
              0.1111111111111111,
              "#46039f"
             ],
             [
              0.2222222222222222,
              "#7201a8"
             ],
             [
              0.3333333333333333,
              "#9c179e"
             ],
             [
              0.4444444444444444,
              "#bd3786"
             ],
             [
              0.5555555555555556,
              "#d8576b"
             ],
             [
              0.6666666666666666,
              "#ed7953"
             ],
             [
              0.7777777777777778,
              "#fb9f3a"
             ],
             [
              0.8888888888888888,
              "#fdca26"
             ],
             [
              1,
              "#f0f921"
             ]
            ],
            "type": "heatmap"
           }
          ],
          "heatmapgl": [
           {
            "colorbar": {
             "outlinewidth": 0,
             "ticks": ""
            },
            "colorscale": [
             [
              0,
              "#0d0887"
             ],
             [
              0.1111111111111111,
              "#46039f"
             ],
             [
              0.2222222222222222,
              "#7201a8"
             ],
             [
              0.3333333333333333,
              "#9c179e"
             ],
             [
              0.4444444444444444,
              "#bd3786"
             ],
             [
              0.5555555555555556,
              "#d8576b"
             ],
             [
              0.6666666666666666,
              "#ed7953"
             ],
             [
              0.7777777777777778,
              "#fb9f3a"
             ],
             [
              0.8888888888888888,
              "#fdca26"
             ],
             [
              1,
              "#f0f921"
             ]
            ],
            "type": "heatmapgl"
           }
          ],
          "histogram": [
           {
            "marker": {
             "colorbar": {
              "outlinewidth": 0,
              "ticks": ""
             }
            },
            "type": "histogram"
           }
          ],
          "histogram2d": [
           {
            "colorbar": {
             "outlinewidth": 0,
             "ticks": ""
            },
            "colorscale": [
             [
              0,
              "#0d0887"
             ],
             [
              0.1111111111111111,
              "#46039f"
             ],
             [
              0.2222222222222222,
              "#7201a8"
             ],
             [
              0.3333333333333333,
              "#9c179e"
             ],
             [
              0.4444444444444444,
              "#bd3786"
             ],
             [
              0.5555555555555556,
              "#d8576b"
             ],
             [
              0.6666666666666666,
              "#ed7953"
             ],
             [
              0.7777777777777778,
              "#fb9f3a"
             ],
             [
              0.8888888888888888,
              "#fdca26"
             ],
             [
              1,
              "#f0f921"
             ]
            ],
            "type": "histogram2d"
           }
          ],
          "histogram2dcontour": [
           {
            "colorbar": {
             "outlinewidth": 0,
             "ticks": ""
            },
            "colorscale": [
             [
              0,
              "#0d0887"
             ],
             [
              0.1111111111111111,
              "#46039f"
             ],
             [
              0.2222222222222222,
              "#7201a8"
             ],
             [
              0.3333333333333333,
              "#9c179e"
             ],
             [
              0.4444444444444444,
              "#bd3786"
             ],
             [
              0.5555555555555556,
              "#d8576b"
             ],
             [
              0.6666666666666666,
              "#ed7953"
             ],
             [
              0.7777777777777778,
              "#fb9f3a"
             ],
             [
              0.8888888888888888,
              "#fdca26"
             ],
             [
              1,
              "#f0f921"
             ]
            ],
            "type": "histogram2dcontour"
           }
          ],
          "mesh3d": [
           {
            "colorbar": {
             "outlinewidth": 0,
             "ticks": ""
            },
            "type": "mesh3d"
           }
          ],
          "parcoords": [
           {
            "line": {
             "colorbar": {
              "outlinewidth": 0,
              "ticks": ""
             }
            },
            "type": "parcoords"
           }
          ],
          "pie": [
           {
            "automargin": true,
            "type": "pie"
           }
          ],
          "scatter": [
           {
            "marker": {
             "colorbar": {
              "outlinewidth": 0,
              "ticks": ""
             }
            },
            "type": "scatter"
           }
          ],
          "scatter3d": [
           {
            "line": {
             "colorbar": {
              "outlinewidth": 0,
              "ticks": ""
             }
            },
            "marker": {
             "colorbar": {
              "outlinewidth": 0,
              "ticks": ""
             }
            },
            "type": "scatter3d"
           }
          ],
          "scattercarpet": [
           {
            "marker": {
             "colorbar": {
              "outlinewidth": 0,
              "ticks": ""
             }
            },
            "type": "scattercarpet"
           }
          ],
          "scattergeo": [
           {
            "marker": {
             "colorbar": {
              "outlinewidth": 0,
              "ticks": ""
             }
            },
            "type": "scattergeo"
           }
          ],
          "scattergl": [
           {
            "marker": {
             "colorbar": {
              "outlinewidth": 0,
              "ticks": ""
             }
            },
            "type": "scattergl"
           }
          ],
          "scattermapbox": [
           {
            "marker": {
             "colorbar": {
              "outlinewidth": 0,
              "ticks": ""
             }
            },
            "type": "scattermapbox"
           }
          ],
          "scatterpolar": [
           {
            "marker": {
             "colorbar": {
              "outlinewidth": 0,
              "ticks": ""
             }
            },
            "type": "scatterpolar"
           }
          ],
          "scatterpolargl": [
           {
            "marker": {
             "colorbar": {
              "outlinewidth": 0,
              "ticks": ""
             }
            },
            "type": "scatterpolargl"
           }
          ],
          "scatterternary": [
           {
            "marker": {
             "colorbar": {
              "outlinewidth": 0,
              "ticks": ""
             }
            },
            "type": "scatterternary"
           }
          ],
          "surface": [
           {
            "colorbar": {
             "outlinewidth": 0,
             "ticks": ""
            },
            "colorscale": [
             [
              0,
              "#0d0887"
             ],
             [
              0.1111111111111111,
              "#46039f"
             ],
             [
              0.2222222222222222,
              "#7201a8"
             ],
             [
              0.3333333333333333,
              "#9c179e"
             ],
             [
              0.4444444444444444,
              "#bd3786"
             ],
             [
              0.5555555555555556,
              "#d8576b"
             ],
             [
              0.6666666666666666,
              "#ed7953"
             ],
             [
              0.7777777777777778,
              "#fb9f3a"
             ],
             [
              0.8888888888888888,
              "#fdca26"
             ],
             [
              1,
              "#f0f921"
             ]
            ],
            "type": "surface"
           }
          ],
          "table": [
           {
            "cells": {
             "fill": {
              "color": "#EBF0F8"
             },
             "line": {
              "color": "white"
             }
            },
            "header": {
             "fill": {
              "color": "#C8D4E3"
             },
             "line": {
              "color": "white"
             }
            },
            "type": "table"
           }
          ]
         },
         "layout": {
          "annotationdefaults": {
           "arrowcolor": "#2a3f5f",
           "arrowhead": 0,
           "arrowwidth": 1
          },
          "coloraxis": {
           "colorbar": {
            "outlinewidth": 0,
            "ticks": ""
           }
          },
          "colorscale": {
           "diverging": [
            [
             0,
             "#8e0152"
            ],
            [
             0.1,
             "#c51b7d"
            ],
            [
             0.2,
             "#de77ae"
            ],
            [
             0.3,
             "#f1b6da"
            ],
            [
             0.4,
             "#fde0ef"
            ],
            [
             0.5,
             "#f7f7f7"
            ],
            [
             0.6,
             "#e6f5d0"
            ],
            [
             0.7,
             "#b8e186"
            ],
            [
             0.8,
             "#7fbc41"
            ],
            [
             0.9,
             "#4d9221"
            ],
            [
             1,
             "#276419"
            ]
           ],
           "sequential": [
            [
             0,
             "#0d0887"
            ],
            [
             0.1111111111111111,
             "#46039f"
            ],
            [
             0.2222222222222222,
             "#7201a8"
            ],
            [
             0.3333333333333333,
             "#9c179e"
            ],
            [
             0.4444444444444444,
             "#bd3786"
            ],
            [
             0.5555555555555556,
             "#d8576b"
            ],
            [
             0.6666666666666666,
             "#ed7953"
            ],
            [
             0.7777777777777778,
             "#fb9f3a"
            ],
            [
             0.8888888888888888,
             "#fdca26"
            ],
            [
             1,
             "#f0f921"
            ]
           ],
           "sequentialminus": [
            [
             0,
             "#0d0887"
            ],
            [
             0.1111111111111111,
             "#46039f"
            ],
            [
             0.2222222222222222,
             "#7201a8"
            ],
            [
             0.3333333333333333,
             "#9c179e"
            ],
            [
             0.4444444444444444,
             "#bd3786"
            ],
            [
             0.5555555555555556,
             "#d8576b"
            ],
            [
             0.6666666666666666,
             "#ed7953"
            ],
            [
             0.7777777777777778,
             "#fb9f3a"
            ],
            [
             0.8888888888888888,
             "#fdca26"
            ],
            [
             1,
             "#f0f921"
            ]
           ]
          },
          "colorway": [
           "#636efa",
           "#EF553B",
           "#00cc96",
           "#ab63fa",
           "#FFA15A",
           "#19d3f3",
           "#FF6692",
           "#B6E880",
           "#FF97FF",
           "#FECB52"
          ],
          "font": {
           "color": "#2a3f5f"
          },
          "geo": {
           "bgcolor": "white",
           "lakecolor": "white",
           "landcolor": "#E5ECF6",
           "showlakes": true,
           "showland": true,
           "subunitcolor": "white"
          },
          "hoverlabel": {
           "align": "left"
          },
          "hovermode": "closest",
          "mapbox": {
           "style": "light"
          },
          "paper_bgcolor": "white",
          "plot_bgcolor": "#E5ECF6",
          "polar": {
           "angularaxis": {
            "gridcolor": "white",
            "linecolor": "white",
            "ticks": ""
           },
           "bgcolor": "#E5ECF6",
           "radialaxis": {
            "gridcolor": "white",
            "linecolor": "white",
            "ticks": ""
           }
          },
          "scene": {
           "xaxis": {
            "backgroundcolor": "#E5ECF6",
            "gridcolor": "white",
            "gridwidth": 2,
            "linecolor": "white",
            "showbackground": true,
            "ticks": "",
            "zerolinecolor": "white"
           },
           "yaxis": {
            "backgroundcolor": "#E5ECF6",
            "gridcolor": "white",
            "gridwidth": 2,
            "linecolor": "white",
            "showbackground": true,
            "ticks": "",
            "zerolinecolor": "white"
           },
           "zaxis": {
            "backgroundcolor": "#E5ECF6",
            "gridcolor": "white",
            "gridwidth": 2,
            "linecolor": "white",
            "showbackground": true,
            "ticks": "",
            "zerolinecolor": "white"
           }
          },
          "shapedefaults": {
           "line": {
            "color": "#2a3f5f"
           }
          },
          "ternary": {
           "aaxis": {
            "gridcolor": "white",
            "linecolor": "white",
            "ticks": ""
           },
           "baxis": {
            "gridcolor": "white",
            "linecolor": "white",
            "ticks": ""
           },
           "bgcolor": "#E5ECF6",
           "caxis": {
            "gridcolor": "white",
            "linecolor": "white",
            "ticks": ""
           }
          },
          "title": {
           "x": 0.05
          },
          "xaxis": {
           "automargin": true,
           "gridcolor": "white",
           "linecolor": "white",
           "ticks": "",
           "title": {
            "standoff": 15
           },
           "zerolinecolor": "white",
           "zerolinewidth": 2
          },
          "yaxis": {
           "automargin": true,
           "gridcolor": "white",
           "linecolor": "white",
           "ticks": "",
           "title": {
            "standoff": 15
           },
           "zerolinecolor": "white",
           "zerolinewidth": 2
          }
         }
        },
        "xaxis": {
         "dtick": 1,
         "gridwidth": 2,
         "showticklabels": false,
         "tick0": -0.5,
         "ticks": "",
         "zeroline": false
        },
        "yaxis": {
         "autorange": "reversed",
         "dtick": 1,
         "gridwidth": 2,
         "showticklabels": false,
         "tick0": 0.5,
         "ticks": "",
         "zeroline": false
        }
       }
      },
      "text/html": [
       "<div>                            <div id=\"49edc6b9-c46b-426b-9f87-4eb5e6804ffe\" class=\"plotly-graph-div\" style=\"height:230px; width:100%;\"></div>            <script type=\"text/javascript\">                require([\"plotly\"], function(Plotly) {                    window.PLOTLYENV=window.PLOTLYENV || {};                                    if (document.getElementById(\"49edc6b9-c46b-426b-9f87-4eb5e6804ffe\")) {                    Plotly.newPlot(                        \"49edc6b9-c46b-426b-9f87-4eb5e6804ffe\",                        [{\"colorscale\": [[0.0, \"rgb(247,252,245)\"], [0.125, \"rgb(229,245,224)\"], [0.25, \"rgb(199,233,192)\"], [0.375, \"rgb(161,217,155)\"], [0.5, \"rgb(116,196,118)\"], [0.625, \"rgb(65,171,93)\"], [0.75, \"rgb(35,139,69)\"], [0.875, \"rgb(0,109,44)\"], [1.0, \"rgb(0,68,27)\"]], \"hoverinfo\": \"none\", \"opacity\": 0.75, \"showscale\": false, \"type\": \"heatmap\", \"z\": [[0, 0, 0, 0, 0, 0, 0, 0, 0, 0, 0, 0, 0, 0], [0.5, 0.5, 0.5, 0.5, 0.5, 0.5, 0.5, 0.5, 0.5, 0.5, 0.5, 0.5, 0.5, 0.5], [1, 1, 1, 1, 1, 1, 1, 1, 1, 1, 1, 1, 1, 1], [0.5, 0.5, 0.5, 0.5, 0.5, 0.5, 0.5, 0.5, 0.5, 0.5, 0.5, 0.5, 0.5, 0.5], [1, 1, 1, 1, 1, 1, 1, 1, 1, 1, 1, 1, 1, 1], [0.5, 0.5, 0.5, 0.5, 0.5, 0.5, 0.5, 0.5, 0.5, 0.5, 0.5, 0.5, 0.5, 0.5]]}],                        {\"annotations\": [{\"align\": \"left\", \"font\": {\"color\": \"#ffffff\"}, \"showarrow\": false, \"text\": \"<b>Country/Region</b>\", \"x\": -0.45, \"xanchor\": \"left\", \"xref\": \"x\", \"y\": 0, \"yref\": \"y\"}, {\"align\": \"left\", \"font\": {\"color\": \"#ffffff\"}, \"showarrow\": false, \"text\": \"<b>Continent</b>\", \"x\": 0.55, \"xanchor\": \"left\", \"xref\": \"x\", \"y\": 0, \"yref\": \"y\"}, {\"align\": \"left\", \"font\": {\"color\": \"#ffffff\"}, \"showarrow\": false, \"text\": \"<b>Population</b>\", \"x\": 1.55, \"xanchor\": \"left\", \"xref\": \"x\", \"y\": 0, \"yref\": \"y\"}, {\"align\": \"left\", \"font\": {\"color\": \"#ffffff\"}, \"showarrow\": false, \"text\": \"<b>TotalCases</b>\", \"x\": 2.55, \"xanchor\": \"left\", \"xref\": \"x\", \"y\": 0, \"yref\": \"y\"}, {\"align\": \"left\", \"font\": {\"color\": \"#ffffff\"}, \"showarrow\": false, \"text\": \"<b>TotalDeaths</b>\", \"x\": 3.55, \"xanchor\": \"left\", \"xref\": \"x\", \"y\": 0, \"yref\": \"y\"}, {\"align\": \"left\", \"font\": {\"color\": \"#ffffff\"}, \"showarrow\": false, \"text\": \"<b>TotalRecovered</b>\", \"x\": 4.55, \"xanchor\": \"left\", \"xref\": \"x\", \"y\": 0, \"yref\": \"y\"}, {\"align\": \"left\", \"font\": {\"color\": \"#ffffff\"}, \"showarrow\": false, \"text\": \"<b>ActiveCases</b>\", \"x\": 5.55, \"xanchor\": \"left\", \"xref\": \"x\", \"y\": 0, \"yref\": \"y\"}, {\"align\": \"left\", \"font\": {\"color\": \"#ffffff\"}, \"showarrow\": false, \"text\": \"<b>Serious,Critical</b>\", \"x\": 6.55, \"xanchor\": \"left\", \"xref\": \"x\", \"y\": 0, \"yref\": \"y\"}, {\"align\": \"left\", \"font\": {\"color\": \"#ffffff\"}, \"showarrow\": false, \"text\": \"<b>Tot Cases/1M pop</b>\", \"x\": 7.55, \"xanchor\": \"left\", \"xref\": \"x\", \"y\": 0, \"yref\": \"y\"}, {\"align\": \"left\", \"font\": {\"color\": \"#ffffff\"}, \"showarrow\": false, \"text\": \"<b>Deaths/1M pop</b>\", \"x\": 8.55, \"xanchor\": \"left\", \"xref\": \"x\", \"y\": 0, \"yref\": \"y\"}, {\"align\": \"left\", \"font\": {\"color\": \"#ffffff\"}, \"showarrow\": false, \"text\": \"<b>TotalTests</b>\", \"x\": 9.55, \"xanchor\": \"left\", \"xref\": \"x\", \"y\": 0, \"yref\": \"y\"}, {\"align\": \"left\", \"font\": {\"color\": \"#ffffff\"}, \"showarrow\": false, \"text\": \"<b>Tests/1M pop</b>\", \"x\": 10.55, \"xanchor\": \"left\", \"xref\": \"x\", \"y\": 0, \"yref\": \"y\"}, {\"align\": \"left\", \"font\": {\"color\": \"#ffffff\"}, \"showarrow\": false, \"text\": \"<b>WHO Region</b>\", \"x\": 11.55, \"xanchor\": \"left\", \"xref\": \"x\", \"y\": 0, \"yref\": \"y\"}, {\"align\": \"left\", \"font\": {\"color\": \"#ffffff\"}, \"showarrow\": false, \"text\": \"<b>iso_alpha</b>\", \"x\": 12.55, \"xanchor\": \"left\", \"xref\": \"x\", \"y\": 0, \"yref\": \"y\"}, {\"align\": \"left\", \"font\": {\"color\": \"#000000\"}, \"showarrow\": false, \"text\": \"USA\", \"x\": -0.45, \"xanchor\": \"left\", \"xref\": \"x\", \"y\": 1, \"yref\": \"y\"}, {\"align\": \"left\", \"font\": {\"color\": \"#000000\"}, \"showarrow\": false, \"text\": \"North America\", \"x\": 0.55, \"xanchor\": \"left\", \"xref\": \"x\", \"y\": 1, \"yref\": \"y\"}, {\"align\": \"left\", \"font\": {\"color\": \"#000000\"}, \"showarrow\": false, \"text\": \"331198130.0\", \"x\": 1.55, \"xanchor\": \"left\", \"xref\": \"x\", \"y\": 1, \"yref\": \"y\"}, {\"align\": \"left\", \"font\": {\"color\": \"#000000\"}, \"showarrow\": false, \"text\": \"5032179\", \"x\": 2.55, \"xanchor\": \"left\", \"xref\": \"x\", \"y\": 1, \"yref\": \"y\"}, {\"align\": \"left\", \"font\": {\"color\": \"#000000\"}, \"showarrow\": false, \"text\": \"162804.0\", \"x\": 3.55, \"xanchor\": \"left\", \"xref\": \"x\", \"y\": 1, \"yref\": \"y\"}, {\"align\": \"left\", \"font\": {\"color\": \"#000000\"}, \"showarrow\": false, \"text\": \"2576668.0\", \"x\": 4.55, \"xanchor\": \"left\", \"xref\": \"x\", \"y\": 1, \"yref\": \"y\"}, {\"align\": \"left\", \"font\": {\"color\": \"#000000\"}, \"showarrow\": false, \"text\": \"2292707.0\", \"x\": 5.55, \"xanchor\": \"left\", \"xref\": \"x\", \"y\": 1, \"yref\": \"y\"}, {\"align\": \"left\", \"font\": {\"color\": \"#000000\"}, \"showarrow\": false, \"text\": \"18296.0\", \"x\": 6.55, \"xanchor\": \"left\", \"xref\": \"x\", \"y\": 1, \"yref\": \"y\"}, {\"align\": \"left\", \"font\": {\"color\": \"#000000\"}, \"showarrow\": false, \"text\": \"15194.0\", \"x\": 7.55, \"xanchor\": \"left\", \"xref\": \"x\", \"y\": 1, \"yref\": \"y\"}, {\"align\": \"left\", \"font\": {\"color\": \"#000000\"}, \"showarrow\": false, \"text\": \"492.0\", \"x\": 8.55, \"xanchor\": \"left\", \"xref\": \"x\", \"y\": 1, \"yref\": \"y\"}, {\"align\": \"left\", \"font\": {\"color\": \"#000000\"}, \"showarrow\": false, \"text\": \"63139605.0\", \"x\": 9.55, \"xanchor\": \"left\", \"xref\": \"x\", \"y\": 1, \"yref\": \"y\"}, {\"align\": \"left\", \"font\": {\"color\": \"#000000\"}, \"showarrow\": false, \"text\": \"190640.0\", \"x\": 10.55, \"xanchor\": \"left\", \"xref\": \"x\", \"y\": 1, \"yref\": \"y\"}, {\"align\": \"left\", \"font\": {\"color\": \"#000000\"}, \"showarrow\": false, \"text\": \"Americas\", \"x\": 11.55, \"xanchor\": \"left\", \"xref\": \"x\", \"y\": 1, \"yref\": \"y\"}, {\"align\": \"left\", \"font\": {\"color\": \"#000000\"}, \"showarrow\": false, \"text\": \"USA\", \"x\": 12.55, \"xanchor\": \"left\", \"xref\": \"x\", \"y\": 1, \"yref\": \"y\"}, {\"align\": \"left\", \"font\": {\"color\": \"#000000\"}, \"showarrow\": false, \"text\": \"Brazil\", \"x\": -0.45, \"xanchor\": \"left\", \"xref\": \"x\", \"y\": 2, \"yref\": \"y\"}, {\"align\": \"left\", \"font\": {\"color\": \"#000000\"}, \"showarrow\": false, \"text\": \"South America\", \"x\": 0.55, \"xanchor\": \"left\", \"xref\": \"x\", \"y\": 2, \"yref\": \"y\"}, {\"align\": \"left\", \"font\": {\"color\": \"#000000\"}, \"showarrow\": false, \"text\": \"212710692.0\", \"x\": 1.55, \"xanchor\": \"left\", \"xref\": \"x\", \"y\": 2, \"yref\": \"y\"}, {\"align\": \"left\", \"font\": {\"color\": \"#000000\"}, \"showarrow\": false, \"text\": \"2917562\", \"x\": 2.55, \"xanchor\": \"left\", \"xref\": \"x\", \"y\": 2, \"yref\": \"y\"}, {\"align\": \"left\", \"font\": {\"color\": \"#000000\"}, \"showarrow\": false, \"text\": \"98644.0\", \"x\": 3.55, \"xanchor\": \"left\", \"xref\": \"x\", \"y\": 2, \"yref\": \"y\"}, {\"align\": \"left\", \"font\": {\"color\": \"#000000\"}, \"showarrow\": false, \"text\": \"2047660.0\", \"x\": 4.55, \"xanchor\": \"left\", \"xref\": \"x\", \"y\": 2, \"yref\": \"y\"}, {\"align\": \"left\", \"font\": {\"color\": \"#000000\"}, \"showarrow\": false, \"text\": \"771258.0\", \"x\": 5.55, \"xanchor\": \"left\", \"xref\": \"x\", \"y\": 2, \"yref\": \"y\"}, {\"align\": \"left\", \"font\": {\"color\": \"#000000\"}, \"showarrow\": false, \"text\": \"8318.0\", \"x\": 6.55, \"xanchor\": \"left\", \"xref\": \"x\", \"y\": 2, \"yref\": \"y\"}, {\"align\": \"left\", \"font\": {\"color\": \"#000000\"}, \"showarrow\": false, \"text\": \"13716.0\", \"x\": 7.55, \"xanchor\": \"left\", \"xref\": \"x\", \"y\": 2, \"yref\": \"y\"}, {\"align\": \"left\", \"font\": {\"color\": \"#000000\"}, \"showarrow\": false, \"text\": \"464.0\", \"x\": 8.55, \"xanchor\": \"left\", \"xref\": \"x\", \"y\": 2, \"yref\": \"y\"}, {\"align\": \"left\", \"font\": {\"color\": \"#000000\"}, \"showarrow\": false, \"text\": \"13206188.0\", \"x\": 9.55, \"xanchor\": \"left\", \"xref\": \"x\", \"y\": 2, \"yref\": \"y\"}, {\"align\": \"left\", \"font\": {\"color\": \"#000000\"}, \"showarrow\": false, \"text\": \"62085.0\", \"x\": 10.55, \"xanchor\": \"left\", \"xref\": \"x\", \"y\": 2, \"yref\": \"y\"}, {\"align\": \"left\", \"font\": {\"color\": \"#000000\"}, \"showarrow\": false, \"text\": \"Americas\", \"x\": 11.55, \"xanchor\": \"left\", \"xref\": \"x\", \"y\": 2, \"yref\": \"y\"}, {\"align\": \"left\", \"font\": {\"color\": \"#000000\"}, \"showarrow\": false, \"text\": \"BRA\", \"x\": 12.55, \"xanchor\": \"left\", \"xref\": \"x\", \"y\": 2, \"yref\": \"y\"}, {\"align\": \"left\", \"font\": {\"color\": \"#000000\"}, \"showarrow\": false, \"text\": \"India\", \"x\": -0.45, \"xanchor\": \"left\", \"xref\": \"x\", \"y\": 3, \"yref\": \"y\"}, {\"align\": \"left\", \"font\": {\"color\": \"#000000\"}, \"showarrow\": false, \"text\": \"Asia\", \"x\": 0.55, \"xanchor\": \"left\", \"xref\": \"x\", \"y\": 3, \"yref\": \"y\"}, {\"align\": \"left\", \"font\": {\"color\": \"#000000\"}, \"showarrow\": false, \"text\": \"1381344997.0\", \"x\": 1.55, \"xanchor\": \"left\", \"xref\": \"x\", \"y\": 3, \"yref\": \"y\"}, {\"align\": \"left\", \"font\": {\"color\": \"#000000\"}, \"showarrow\": false, \"text\": \"2025409\", \"x\": 2.55, \"xanchor\": \"left\", \"xref\": \"x\", \"y\": 3, \"yref\": \"y\"}, {\"align\": \"left\", \"font\": {\"color\": \"#000000\"}, \"showarrow\": false, \"text\": \"41638.0\", \"x\": 3.55, \"xanchor\": \"left\", \"xref\": \"x\", \"y\": 3, \"yref\": \"y\"}, {\"align\": \"left\", \"font\": {\"color\": \"#000000\"}, \"showarrow\": false, \"text\": \"1377384.0\", \"x\": 4.55, \"xanchor\": \"left\", \"xref\": \"x\", \"y\": 3, \"yref\": \"y\"}, {\"align\": \"left\", \"font\": {\"color\": \"#000000\"}, \"showarrow\": false, \"text\": \"606387.0\", \"x\": 5.55, \"xanchor\": \"left\", \"xref\": \"x\", \"y\": 3, \"yref\": \"y\"}, {\"align\": \"left\", \"font\": {\"color\": \"#000000\"}, \"showarrow\": false, \"text\": \"8944.0\", \"x\": 6.55, \"xanchor\": \"left\", \"xref\": \"x\", \"y\": 3, \"yref\": \"y\"}, {\"align\": \"left\", \"font\": {\"color\": \"#000000\"}, \"showarrow\": false, \"text\": \"1466.0\", \"x\": 7.55, \"xanchor\": \"left\", \"xref\": \"x\", \"y\": 3, \"yref\": \"y\"}, {\"align\": \"left\", \"font\": {\"color\": \"#000000\"}, \"showarrow\": false, \"text\": \"30.0\", \"x\": 8.55, \"xanchor\": \"left\", \"xref\": \"x\", \"y\": 3, \"yref\": \"y\"}, {\"align\": \"left\", \"font\": {\"color\": \"#000000\"}, \"showarrow\": false, \"text\": \"22149351.0\", \"x\": 9.55, \"xanchor\": \"left\", \"xref\": \"x\", \"y\": 3, \"yref\": \"y\"}, {\"align\": \"left\", \"font\": {\"color\": \"#000000\"}, \"showarrow\": false, \"text\": \"16035.0\", \"x\": 10.55, \"xanchor\": \"left\", \"xref\": \"x\", \"y\": 3, \"yref\": \"y\"}, {\"align\": \"left\", \"font\": {\"color\": \"#000000\"}, \"showarrow\": false, \"text\": \"South-EastAsia\", \"x\": 11.55, \"xanchor\": \"left\", \"xref\": \"x\", \"y\": 3, \"yref\": \"y\"}, {\"align\": \"left\", \"font\": {\"color\": \"#000000\"}, \"showarrow\": false, \"text\": \"IND\", \"x\": 12.55, \"xanchor\": \"left\", \"xref\": \"x\", \"y\": 3, \"yref\": \"y\"}, {\"align\": \"left\", \"font\": {\"color\": \"#000000\"}, \"showarrow\": false, \"text\": \"Russia\", \"x\": -0.45, \"xanchor\": \"left\", \"xref\": \"x\", \"y\": 4, \"yref\": \"y\"}, {\"align\": \"left\", \"font\": {\"color\": \"#000000\"}, \"showarrow\": false, \"text\": \"Europe\", \"x\": 0.55, \"xanchor\": \"left\", \"xref\": \"x\", \"y\": 4, \"yref\": \"y\"}, {\"align\": \"left\", \"font\": {\"color\": \"#000000\"}, \"showarrow\": false, \"text\": \"145940924.0\", \"x\": 1.55, \"xanchor\": \"left\", \"xref\": \"x\", \"y\": 4, \"yref\": \"y\"}, {\"align\": \"left\", \"font\": {\"color\": \"#000000\"}, \"showarrow\": false, \"text\": \"871894\", \"x\": 2.55, \"xanchor\": \"left\", \"xref\": \"x\", \"y\": 4, \"yref\": \"y\"}, {\"align\": \"left\", \"font\": {\"color\": \"#000000\"}, \"showarrow\": false, \"text\": \"14606.0\", \"x\": 3.55, \"xanchor\": \"left\", \"xref\": \"x\", \"y\": 4, \"yref\": \"y\"}, {\"align\": \"left\", \"font\": {\"color\": \"#000000\"}, \"showarrow\": false, \"text\": \"676357.0\", \"x\": 4.55, \"xanchor\": \"left\", \"xref\": \"x\", \"y\": 4, \"yref\": \"y\"}, {\"align\": \"left\", \"font\": {\"color\": \"#000000\"}, \"showarrow\": false, \"text\": \"180931.0\", \"x\": 5.55, \"xanchor\": \"left\", \"xref\": \"x\", \"y\": 4, \"yref\": \"y\"}, {\"align\": \"left\", \"font\": {\"color\": \"#000000\"}, \"showarrow\": false, \"text\": \"2300.0\", \"x\": 6.55, \"xanchor\": \"left\", \"xref\": \"x\", \"y\": 4, \"yref\": \"y\"}, {\"align\": \"left\", \"font\": {\"color\": \"#000000\"}, \"showarrow\": false, \"text\": \"5974.0\", \"x\": 7.55, \"xanchor\": \"left\", \"xref\": \"x\", \"y\": 4, \"yref\": \"y\"}, {\"align\": \"left\", \"font\": {\"color\": \"#000000\"}, \"showarrow\": false, \"text\": \"100.0\", \"x\": 8.55, \"xanchor\": \"left\", \"xref\": \"x\", \"y\": 4, \"yref\": \"y\"}, {\"align\": \"left\", \"font\": {\"color\": \"#000000\"}, \"showarrow\": false, \"text\": \"29716907.0\", \"x\": 9.55, \"xanchor\": \"left\", \"xref\": \"x\", \"y\": 4, \"yref\": \"y\"}, {\"align\": \"left\", \"font\": {\"color\": \"#000000\"}, \"showarrow\": false, \"text\": \"203623.0\", \"x\": 10.55, \"xanchor\": \"left\", \"xref\": \"x\", \"y\": 4, \"yref\": \"y\"}, {\"align\": \"left\", \"font\": {\"color\": \"#000000\"}, \"showarrow\": false, \"text\": \"Europe\", \"x\": 11.55, \"xanchor\": \"left\", \"xref\": \"x\", \"y\": 4, \"yref\": \"y\"}, {\"align\": \"left\", \"font\": {\"color\": \"#000000\"}, \"showarrow\": false, \"text\": \"RUS\", \"x\": 12.55, \"xanchor\": \"left\", \"xref\": \"x\", \"y\": 4, \"yref\": \"y\"}, {\"align\": \"left\", \"font\": {\"color\": \"#000000\"}, \"showarrow\": false, \"text\": \"South Africa\", \"x\": -0.45, \"xanchor\": \"left\", \"xref\": \"x\", \"y\": 5, \"yref\": \"y\"}, {\"align\": \"left\", \"font\": {\"color\": \"#000000\"}, \"showarrow\": false, \"text\": \"Africa\", \"x\": 0.55, \"xanchor\": \"left\", \"xref\": \"x\", \"y\": 5, \"yref\": \"y\"}, {\"align\": \"left\", \"font\": {\"color\": \"#000000\"}, \"showarrow\": false, \"text\": \"59381566.0\", \"x\": 1.55, \"xanchor\": \"left\", \"xref\": \"x\", \"y\": 5, \"yref\": \"y\"}, {\"align\": \"left\", \"font\": {\"color\": \"#000000\"}, \"showarrow\": false, \"text\": \"538184\", \"x\": 2.55, \"xanchor\": \"left\", \"xref\": \"x\", \"y\": 5, \"yref\": \"y\"}, {\"align\": \"left\", \"font\": {\"color\": \"#000000\"}, \"showarrow\": false, \"text\": \"9604.0\", \"x\": 3.55, \"xanchor\": \"left\", \"xref\": \"x\", \"y\": 5, \"yref\": \"y\"}, {\"align\": \"left\", \"font\": {\"color\": \"#000000\"}, \"showarrow\": false, \"text\": \"387316.0\", \"x\": 4.55, \"xanchor\": \"left\", \"xref\": \"x\", \"y\": 5, \"yref\": \"y\"}, {\"align\": \"left\", \"font\": {\"color\": \"#000000\"}, \"showarrow\": false, \"text\": \"141264.0\", \"x\": 5.55, \"xanchor\": \"left\", \"xref\": \"x\", \"y\": 5, \"yref\": \"y\"}, {\"align\": \"left\", \"font\": {\"color\": \"#000000\"}, \"showarrow\": false, \"text\": \"539.0\", \"x\": 6.55, \"xanchor\": \"left\", \"xref\": \"x\", \"y\": 5, \"yref\": \"y\"}, {\"align\": \"left\", \"font\": {\"color\": \"#000000\"}, \"showarrow\": false, \"text\": \"9063.0\", \"x\": 7.55, \"xanchor\": \"left\", \"xref\": \"x\", \"y\": 5, \"yref\": \"y\"}, {\"align\": \"left\", \"font\": {\"color\": \"#000000\"}, \"showarrow\": false, \"text\": \"162.0\", \"x\": 8.55, \"xanchor\": \"left\", \"xref\": \"x\", \"y\": 5, \"yref\": \"y\"}, {\"align\": \"left\", \"font\": {\"color\": \"#000000\"}, \"showarrow\": false, \"text\": \"3149807.0\", \"x\": 9.55, \"xanchor\": \"left\", \"xref\": \"x\", \"y\": 5, \"yref\": \"y\"}, {\"align\": \"left\", \"font\": {\"color\": \"#000000\"}, \"showarrow\": false, \"text\": \"53044.0\", \"x\": 10.55, \"xanchor\": \"left\", \"xref\": \"x\", \"y\": 5, \"yref\": \"y\"}, {\"align\": \"left\", \"font\": {\"color\": \"#000000\"}, \"showarrow\": false, \"text\": \"Africa\", \"x\": 11.55, \"xanchor\": \"left\", \"xref\": \"x\", \"y\": 5, \"yref\": \"y\"}, {\"align\": \"left\", \"font\": {\"color\": \"#000000\"}, \"showarrow\": false, \"text\": \"ZAF\", \"x\": 12.55, \"xanchor\": \"left\", \"xref\": \"x\", \"y\": 5, \"yref\": \"y\"}], \"height\": 230, \"margin\": {\"b\": 0, \"l\": 0, \"r\": 0, \"t\": 0}, \"template\": {\"data\": {\"bar\": [{\"error_x\": {\"color\": \"#2a3f5f\"}, \"error_y\": {\"color\": \"#2a3f5f\"}, \"marker\": {\"line\": {\"color\": \"#E5ECF6\", \"width\": 0.5}}, \"type\": \"bar\"}], \"barpolar\": [{\"marker\": {\"line\": {\"color\": \"#E5ECF6\", \"width\": 0.5}}, \"type\": \"barpolar\"}], \"carpet\": [{\"aaxis\": {\"endlinecolor\": \"#2a3f5f\", \"gridcolor\": \"white\", \"linecolor\": \"white\", \"minorgridcolor\": \"white\", \"startlinecolor\": \"#2a3f5f\"}, \"baxis\": {\"endlinecolor\": \"#2a3f5f\", \"gridcolor\": \"white\", \"linecolor\": \"white\", \"minorgridcolor\": \"white\", \"startlinecolor\": \"#2a3f5f\"}, \"type\": \"carpet\"}], \"choropleth\": [{\"colorbar\": {\"outlinewidth\": 0, \"ticks\": \"\"}, \"type\": \"choropleth\"}], \"contour\": [{\"colorbar\": {\"outlinewidth\": 0, \"ticks\": \"\"}, \"colorscale\": [[0.0, \"#0d0887\"], [0.1111111111111111, \"#46039f\"], [0.2222222222222222, \"#7201a8\"], [0.3333333333333333, \"#9c179e\"], [0.4444444444444444, \"#bd3786\"], [0.5555555555555556, \"#d8576b\"], [0.6666666666666666, \"#ed7953\"], [0.7777777777777778, \"#fb9f3a\"], [0.8888888888888888, \"#fdca26\"], [1.0, \"#f0f921\"]], \"type\": \"contour\"}], \"contourcarpet\": [{\"colorbar\": {\"outlinewidth\": 0, \"ticks\": \"\"}, \"type\": \"contourcarpet\"}], \"heatmap\": [{\"colorbar\": {\"outlinewidth\": 0, \"ticks\": \"\"}, \"colorscale\": [[0.0, \"#0d0887\"], [0.1111111111111111, \"#46039f\"], [0.2222222222222222, \"#7201a8\"], [0.3333333333333333, \"#9c179e\"], [0.4444444444444444, \"#bd3786\"], [0.5555555555555556, \"#d8576b\"], [0.6666666666666666, \"#ed7953\"], [0.7777777777777778, \"#fb9f3a\"], [0.8888888888888888, \"#fdca26\"], [1.0, \"#f0f921\"]], \"type\": \"heatmap\"}], \"heatmapgl\": [{\"colorbar\": {\"outlinewidth\": 0, \"ticks\": \"\"}, \"colorscale\": [[0.0, \"#0d0887\"], [0.1111111111111111, \"#46039f\"], [0.2222222222222222, \"#7201a8\"], [0.3333333333333333, \"#9c179e\"], [0.4444444444444444, \"#bd3786\"], [0.5555555555555556, \"#d8576b\"], [0.6666666666666666, \"#ed7953\"], [0.7777777777777778, \"#fb9f3a\"], [0.8888888888888888, \"#fdca26\"], [1.0, \"#f0f921\"]], \"type\": \"heatmapgl\"}], \"histogram\": [{\"marker\": {\"colorbar\": {\"outlinewidth\": 0, \"ticks\": \"\"}}, \"type\": \"histogram\"}], \"histogram2d\": [{\"colorbar\": {\"outlinewidth\": 0, \"ticks\": \"\"}, \"colorscale\": [[0.0, \"#0d0887\"], [0.1111111111111111, \"#46039f\"], [0.2222222222222222, \"#7201a8\"], [0.3333333333333333, \"#9c179e\"], [0.4444444444444444, \"#bd3786\"], [0.5555555555555556, \"#d8576b\"], [0.6666666666666666, \"#ed7953\"], [0.7777777777777778, \"#fb9f3a\"], [0.8888888888888888, \"#fdca26\"], [1.0, \"#f0f921\"]], \"type\": \"histogram2d\"}], \"histogram2dcontour\": [{\"colorbar\": {\"outlinewidth\": 0, \"ticks\": \"\"}, \"colorscale\": [[0.0, \"#0d0887\"], [0.1111111111111111, \"#46039f\"], [0.2222222222222222, \"#7201a8\"], [0.3333333333333333, \"#9c179e\"], [0.4444444444444444, \"#bd3786\"], [0.5555555555555556, \"#d8576b\"], [0.6666666666666666, \"#ed7953\"], [0.7777777777777778, \"#fb9f3a\"], [0.8888888888888888, \"#fdca26\"], [1.0, \"#f0f921\"]], \"type\": \"histogram2dcontour\"}], \"mesh3d\": [{\"colorbar\": {\"outlinewidth\": 0, \"ticks\": \"\"}, \"type\": \"mesh3d\"}], \"parcoords\": [{\"line\": {\"colorbar\": {\"outlinewidth\": 0, \"ticks\": \"\"}}, \"type\": \"parcoords\"}], \"pie\": [{\"automargin\": true, \"type\": \"pie\"}], \"scatter\": [{\"marker\": {\"colorbar\": {\"outlinewidth\": 0, \"ticks\": \"\"}}, \"type\": \"scatter\"}], \"scatter3d\": [{\"line\": {\"colorbar\": {\"outlinewidth\": 0, \"ticks\": \"\"}}, \"marker\": {\"colorbar\": {\"outlinewidth\": 0, \"ticks\": \"\"}}, \"type\": \"scatter3d\"}], \"scattercarpet\": [{\"marker\": {\"colorbar\": {\"outlinewidth\": 0, \"ticks\": \"\"}}, \"type\": \"scattercarpet\"}], \"scattergeo\": [{\"marker\": {\"colorbar\": {\"outlinewidth\": 0, \"ticks\": \"\"}}, \"type\": \"scattergeo\"}], \"scattergl\": [{\"marker\": {\"colorbar\": {\"outlinewidth\": 0, \"ticks\": \"\"}}, \"type\": \"scattergl\"}], \"scattermapbox\": [{\"marker\": {\"colorbar\": {\"outlinewidth\": 0, \"ticks\": \"\"}}, \"type\": \"scattermapbox\"}], \"scatterpolar\": [{\"marker\": {\"colorbar\": {\"outlinewidth\": 0, \"ticks\": \"\"}}, \"type\": \"scatterpolar\"}], \"scatterpolargl\": [{\"marker\": {\"colorbar\": {\"outlinewidth\": 0, \"ticks\": \"\"}}, \"type\": \"scatterpolargl\"}], \"scatterternary\": [{\"marker\": {\"colorbar\": {\"outlinewidth\": 0, \"ticks\": \"\"}}, \"type\": \"scatterternary\"}], \"surface\": [{\"colorbar\": {\"outlinewidth\": 0, \"ticks\": \"\"}, \"colorscale\": [[0.0, \"#0d0887\"], [0.1111111111111111, \"#46039f\"], [0.2222222222222222, \"#7201a8\"], [0.3333333333333333, \"#9c179e\"], [0.4444444444444444, \"#bd3786\"], [0.5555555555555556, \"#d8576b\"], [0.6666666666666666, \"#ed7953\"], [0.7777777777777778, \"#fb9f3a\"], [0.8888888888888888, \"#fdca26\"], [1.0, \"#f0f921\"]], \"type\": \"surface\"}], \"table\": [{\"cells\": {\"fill\": {\"color\": \"#EBF0F8\"}, \"line\": {\"color\": \"white\"}}, \"header\": {\"fill\": {\"color\": \"#C8D4E3\"}, \"line\": {\"color\": \"white\"}}, \"type\": \"table\"}]}, \"layout\": {\"annotationdefaults\": {\"arrowcolor\": \"#2a3f5f\", \"arrowhead\": 0, \"arrowwidth\": 1}, \"coloraxis\": {\"colorbar\": {\"outlinewidth\": 0, \"ticks\": \"\"}}, \"colorscale\": {\"diverging\": [[0, \"#8e0152\"], [0.1, \"#c51b7d\"], [0.2, \"#de77ae\"], [0.3, \"#f1b6da\"], [0.4, \"#fde0ef\"], [0.5, \"#f7f7f7\"], [0.6, \"#e6f5d0\"], [0.7, \"#b8e186\"], [0.8, \"#7fbc41\"], [0.9, \"#4d9221\"], [1, \"#276419\"]], \"sequential\": [[0.0, \"#0d0887\"], [0.1111111111111111, \"#46039f\"], [0.2222222222222222, \"#7201a8\"], [0.3333333333333333, \"#9c179e\"], [0.4444444444444444, \"#bd3786\"], [0.5555555555555556, \"#d8576b\"], [0.6666666666666666, \"#ed7953\"], [0.7777777777777778, \"#fb9f3a\"], [0.8888888888888888, \"#fdca26\"], [1.0, \"#f0f921\"]], \"sequentialminus\": [[0.0, \"#0d0887\"], [0.1111111111111111, \"#46039f\"], [0.2222222222222222, \"#7201a8\"], [0.3333333333333333, \"#9c179e\"], [0.4444444444444444, \"#bd3786\"], [0.5555555555555556, \"#d8576b\"], [0.6666666666666666, \"#ed7953\"], [0.7777777777777778, \"#fb9f3a\"], [0.8888888888888888, \"#fdca26\"], [1.0, \"#f0f921\"]]}, \"colorway\": [\"#636efa\", \"#EF553B\", \"#00cc96\", \"#ab63fa\", \"#FFA15A\", \"#19d3f3\", \"#FF6692\", \"#B6E880\", \"#FF97FF\", \"#FECB52\"], \"font\": {\"color\": \"#2a3f5f\"}, \"geo\": {\"bgcolor\": \"white\", \"lakecolor\": \"white\", \"landcolor\": \"#E5ECF6\", \"showlakes\": true, \"showland\": true, \"subunitcolor\": \"white\"}, \"hoverlabel\": {\"align\": \"left\"}, \"hovermode\": \"closest\", \"mapbox\": {\"style\": \"light\"}, \"paper_bgcolor\": \"white\", \"plot_bgcolor\": \"#E5ECF6\", \"polar\": {\"angularaxis\": {\"gridcolor\": \"white\", \"linecolor\": \"white\", \"ticks\": \"\"}, \"bgcolor\": \"#E5ECF6\", \"radialaxis\": {\"gridcolor\": \"white\", \"linecolor\": \"white\", \"ticks\": \"\"}}, \"scene\": {\"xaxis\": {\"backgroundcolor\": \"#E5ECF6\", \"gridcolor\": \"white\", \"gridwidth\": 2, \"linecolor\": \"white\", \"showbackground\": true, \"ticks\": \"\", \"zerolinecolor\": \"white\"}, \"yaxis\": {\"backgroundcolor\": \"#E5ECF6\", \"gridcolor\": \"white\", \"gridwidth\": 2, \"linecolor\": \"white\", \"showbackground\": true, \"ticks\": \"\", \"zerolinecolor\": \"white\"}, \"zaxis\": {\"backgroundcolor\": \"#E5ECF6\", \"gridcolor\": \"white\", \"gridwidth\": 2, \"linecolor\": \"white\", \"showbackground\": true, \"ticks\": \"\", \"zerolinecolor\": \"white\"}}, \"shapedefaults\": {\"line\": {\"color\": \"#2a3f5f\"}}, \"ternary\": {\"aaxis\": {\"gridcolor\": \"white\", \"linecolor\": \"white\", \"ticks\": \"\"}, \"baxis\": {\"gridcolor\": \"white\", \"linecolor\": \"white\", \"ticks\": \"\"}, \"bgcolor\": \"#E5ECF6\", \"caxis\": {\"gridcolor\": \"white\", \"linecolor\": \"white\", \"ticks\": \"\"}}, \"title\": {\"x\": 0.05}, \"xaxis\": {\"automargin\": true, \"gridcolor\": \"white\", \"linecolor\": \"white\", \"ticks\": \"\", \"title\": {\"standoff\": 15}, \"zerolinecolor\": \"white\", \"zerolinewidth\": 2}, \"yaxis\": {\"automargin\": true, \"gridcolor\": \"white\", \"linecolor\": \"white\", \"ticks\": \"\", \"title\": {\"standoff\": 15}, \"zerolinecolor\": \"white\", \"zerolinewidth\": 2}}}, \"xaxis\": {\"dtick\": 1, \"gridwidth\": 2, \"showticklabels\": false, \"tick0\": -0.5, \"ticks\": \"\", \"zeroline\": false}, \"yaxis\": {\"autorange\": \"reversed\", \"dtick\": 1, \"gridwidth\": 2, \"showticklabels\": false, \"tick0\": 0.5, \"ticks\": \"\", \"zeroline\": false}},                        {\"responsive\": true}                    ).then(function(){\n",
       "                            \n",
       "var gd = document.getElementById('49edc6b9-c46b-426b-9f87-4eb5e6804ffe');\n",
       "var x = new MutationObserver(function (mutations, observer) {{\n",
       "        var display = window.getComputedStyle(gd).display;\n",
       "        if (!display || display === 'none') {{\n",
       "            console.log([gd, 'removed!']);\n",
       "            Plotly.purge(gd);\n",
       "            observer.disconnect();\n",
       "        }}\n",
       "}});\n",
       "\n",
       "// Listen for the removal of the full notebook cells\n",
       "var notebookContainer = gd.closest('#notebook-container');\n",
       "if (notebookContainer) {{\n",
       "    x.observe(notebookContainer, {childList: true});\n",
       "}}\n",
       "\n",
       "// Listen for the clearing of the current output cell\n",
       "var outputEl = gd.closest('.output');\n",
       "if (outputEl) {{\n",
       "    x.observe(outputEl, {childList: true});\n",
       "}}\n",
       "\n",
       "                        })                };                });            </script>        </div>"
      ]
     },
     "metadata": {},
     "output_type": "display_data"
    }
   ],
   "source": [
    "from plotly.figure_factory import create_table\n",
    "covid_table=create_table(covid.head(5),colorscale=\"Greens\")\n",
    "py.iplot(covid_table)"
   ]
  },
  {
   "cell_type": "code",
   "execution_count": 102,
   "metadata": {},
   "outputs": [
    {
     "data": {
      "text/plain": [
       "Index(['Country/Region', 'Continent', 'Population', 'TotalCases',\n",
       "       'TotalDeaths', 'TotalRecovered', 'ActiveCases', 'Serious,Critical',\n",
       "       'Tot Cases/1M pop', 'Deaths/1M pop', 'TotalTests', 'Tests/1M pop',\n",
       "       'WHO Region', 'iso_alpha'],\n",
       "      dtype='object')"
      ]
     },
     "execution_count": 102,
     "metadata": {},
     "output_type": "execute_result"
    }
   ],
   "source": [
    "covid.columns"
   ]
  },
  {
   "cell_type": "code",
   "execution_count": 103,
   "metadata": {},
   "outputs": [
    {
     "data": {
      "application/vnd.plotly.v1+json": {
       "config": {
        "plotlyServerURL": "https://plot.ly"
       },
       "data": [
        {
         "alignmentgroup": "True",
         "customdata": [
          [
           "USA",
           "North America"
          ]
         ],
         "hovertemplate": "Country/Region=%{customdata[0]}<br>TotalCases=%{y}<br>Continent=%{customdata[1]}<extra></extra>",
         "legendgroup": "USA",
         "marker": {
          "color": "#636efa"
         },
         "name": "USA",
         "offsetgroup": "USA",
         "orientation": "v",
         "showlegend": true,
         "textposition": "auto",
         "type": "bar",
         "x": [
          "USA"
         ],
         "xaxis": "x",
         "y": [
          5032179
         ],
         "yaxis": "y"
        },
        {
         "alignmentgroup": "True",
         "customdata": [
          [
           "Brazil",
           "South America"
          ]
         ],
         "hovertemplate": "Country/Region=%{customdata[0]}<br>TotalCases=%{y}<br>Continent=%{customdata[1]}<extra></extra>",
         "legendgroup": "Brazil",
         "marker": {
          "color": "#EF553B"
         },
         "name": "Brazil",
         "offsetgroup": "Brazil",
         "orientation": "v",
         "showlegend": true,
         "textposition": "auto",
         "type": "bar",
         "x": [
          "Brazil"
         ],
         "xaxis": "x",
         "y": [
          2917562
         ],
         "yaxis": "y"
        },
        {
         "alignmentgroup": "True",
         "customdata": [
          [
           "India",
           "Asia"
          ]
         ],
         "hovertemplate": "Country/Region=%{customdata[0]}<br>TotalCases=%{y}<br>Continent=%{customdata[1]}<extra></extra>",
         "legendgroup": "India",
         "marker": {
          "color": "#00cc96"
         },
         "name": "India",
         "offsetgroup": "India",
         "orientation": "v",
         "showlegend": true,
         "textposition": "auto",
         "type": "bar",
         "x": [
          "India"
         ],
         "xaxis": "x",
         "y": [
          2025409
         ],
         "yaxis": "y"
        },
        {
         "alignmentgroup": "True",
         "customdata": [
          [
           "Russia",
           "Europe"
          ]
         ],
         "hovertemplate": "Country/Region=%{customdata[0]}<br>TotalCases=%{y}<br>Continent=%{customdata[1]}<extra></extra>",
         "legendgroup": "Russia",
         "marker": {
          "color": "#ab63fa"
         },
         "name": "Russia",
         "offsetgroup": "Russia",
         "orientation": "v",
         "showlegend": true,
         "textposition": "auto",
         "type": "bar",
         "x": [
          "Russia"
         ],
         "xaxis": "x",
         "y": [
          871894
         ],
         "yaxis": "y"
        },
        {
         "alignmentgroup": "True",
         "customdata": [
          [
           "South Africa",
           "Africa"
          ]
         ],
         "hovertemplate": "Country/Region=%{customdata[0]}<br>TotalCases=%{y}<br>Continent=%{customdata[1]}<extra></extra>",
         "legendgroup": "South Africa",
         "marker": {
          "color": "#FFA15A"
         },
         "name": "South Africa",
         "offsetgroup": "South Africa",
         "orientation": "v",
         "showlegend": true,
         "textposition": "auto",
         "type": "bar",
         "x": [
          "South Africa"
         ],
         "xaxis": "x",
         "y": [
          538184
         ],
         "yaxis": "y"
        },
        {
         "alignmentgroup": "True",
         "customdata": [
          [
           "Mexico",
           "North America"
          ]
         ],
         "hovertemplate": "Country/Region=%{customdata[0]}<br>TotalCases=%{y}<br>Continent=%{customdata[1]}<extra></extra>",
         "legendgroup": "Mexico",
         "marker": {
          "color": "#19d3f3"
         },
         "name": "Mexico",
         "offsetgroup": "Mexico",
         "orientation": "v",
         "showlegend": true,
         "textposition": "auto",
         "type": "bar",
         "x": [
          "Mexico"
         ],
         "xaxis": "x",
         "y": [
          462690
         ],
         "yaxis": "y"
        },
        {
         "alignmentgroup": "True",
         "customdata": [
          [
           "Peru",
           "South America"
          ]
         ],
         "hovertemplate": "Country/Region=%{customdata[0]}<br>TotalCases=%{y}<br>Continent=%{customdata[1]}<extra></extra>",
         "legendgroup": "Peru",
         "marker": {
          "color": "#FF6692"
         },
         "name": "Peru",
         "offsetgroup": "Peru",
         "orientation": "v",
         "showlegend": true,
         "textposition": "auto",
         "type": "bar",
         "x": [
          "Peru"
         ],
         "xaxis": "x",
         "y": [
          455409
         ],
         "yaxis": "y"
        },
        {
         "alignmentgroup": "True",
         "customdata": [
          [
           "Chile",
           "South America"
          ]
         ],
         "hovertemplate": "Country/Region=%{customdata[0]}<br>TotalCases=%{y}<br>Continent=%{customdata[1]}<extra></extra>",
         "legendgroup": "Chile",
         "marker": {
          "color": "#B6E880"
         },
         "name": "Chile",
         "offsetgroup": "Chile",
         "orientation": "v",
         "showlegend": true,
         "textposition": "auto",
         "type": "bar",
         "x": [
          "Chile"
         ],
         "xaxis": "x",
         "y": [
          366671
         ],
         "yaxis": "y"
        },
        {
         "alignmentgroup": "True",
         "customdata": [
          [
           "Colombia",
           "South America"
          ]
         ],
         "hovertemplate": "Country/Region=%{customdata[0]}<br>TotalCases=%{y}<br>Continent=%{customdata[1]}<extra></extra>",
         "legendgroup": "Colombia",
         "marker": {
          "color": "#FF97FF"
         },
         "name": "Colombia",
         "offsetgroup": "Colombia",
         "orientation": "v",
         "showlegend": true,
         "textposition": "auto",
         "type": "bar",
         "x": [
          "Colombia"
         ],
         "xaxis": "x",
         "y": [
          357710
         ],
         "yaxis": "y"
        },
        {
         "alignmentgroup": "True",
         "customdata": [
          [
           "Spain",
           "Europe"
          ]
         ],
         "hovertemplate": "Country/Region=%{customdata[0]}<br>TotalCases=%{y}<br>Continent=%{customdata[1]}<extra></extra>",
         "legendgroup": "Spain",
         "marker": {
          "color": "#FECB52"
         },
         "name": "Spain",
         "offsetgroup": "Spain",
         "orientation": "v",
         "showlegend": true,
         "textposition": "auto",
         "type": "bar",
         "x": [
          "Spain"
         ],
         "xaxis": "x",
         "y": [
          354530
         ],
         "yaxis": "y"
        },
        {
         "alignmentgroup": "True",
         "customdata": [
          [
           "Iran",
           "Asia"
          ]
         ],
         "hovertemplate": "Country/Region=%{customdata[0]}<br>TotalCases=%{y}<br>Continent=%{customdata[1]}<extra></extra>",
         "legendgroup": "Iran",
         "marker": {
          "color": "#636efa"
         },
         "name": "Iran",
         "offsetgroup": "Iran",
         "orientation": "v",
         "showlegend": true,
         "textposition": "auto",
         "type": "bar",
         "x": [
          "Iran"
         ],
         "xaxis": "x",
         "y": [
          320117
         ],
         "yaxis": "y"
        },
        {
         "alignmentgroup": "True",
         "customdata": [
          [
           "UK",
           "Europe"
          ]
         ],
         "hovertemplate": "Country/Region=%{customdata[0]}<br>TotalCases=%{y}<br>Continent=%{customdata[1]}<extra></extra>",
         "legendgroup": "UK",
         "marker": {
          "color": "#EF553B"
         },
         "name": "UK",
         "offsetgroup": "UK",
         "orientation": "v",
         "showlegend": true,
         "textposition": "auto",
         "type": "bar",
         "x": [
          "UK"
         ],
         "xaxis": "x",
         "y": [
          308134
         ],
         "yaxis": "y"
        },
        {
         "alignmentgroup": "True",
         "customdata": [
          [
           "Saudi Arabia",
           "Asia"
          ]
         ],
         "hovertemplate": "Country/Region=%{customdata[0]}<br>TotalCases=%{y}<br>Continent=%{customdata[1]}<extra></extra>",
         "legendgroup": "Saudi Arabia",
         "marker": {
          "color": "#00cc96"
         },
         "name": "Saudi Arabia",
         "offsetgroup": "Saudi Arabia",
         "orientation": "v",
         "showlegend": true,
         "textposition": "auto",
         "type": "bar",
         "x": [
          "Saudi Arabia"
         ],
         "xaxis": "x",
         "y": [
          284226
         ],
         "yaxis": "y"
        },
        {
         "alignmentgroup": "True",
         "customdata": [
          [
           "Pakistan",
           "Asia"
          ]
         ],
         "hovertemplate": "Country/Region=%{customdata[0]}<br>TotalCases=%{y}<br>Continent=%{customdata[1]}<extra></extra>",
         "legendgroup": "Pakistan",
         "marker": {
          "color": "#ab63fa"
         },
         "name": "Pakistan",
         "offsetgroup": "Pakistan",
         "orientation": "v",
         "showlegend": true,
         "textposition": "auto",
         "type": "bar",
         "x": [
          "Pakistan"
         ],
         "xaxis": "x",
         "y": [
          281863
         ],
         "yaxis": "y"
        },
        {
         "alignmentgroup": "True",
         "customdata": [
          [
           "Bangladesh",
           "Asia"
          ]
         ],
         "hovertemplate": "Country/Region=%{customdata[0]}<br>TotalCases=%{y}<br>Continent=%{customdata[1]}<extra></extra>",
         "legendgroup": "Bangladesh",
         "marker": {
          "color": "#FFA15A"
         },
         "name": "Bangladesh",
         "offsetgroup": "Bangladesh",
         "orientation": "v",
         "showlegend": true,
         "textposition": "auto",
         "type": "bar",
         "x": [
          "Bangladesh"
         ],
         "xaxis": "x",
         "y": [
          249651
         ],
         "yaxis": "y"
        },
        {
         "alignmentgroup": "True",
         "customdata": [
          [
           "Italy",
           "Europe"
          ]
         ],
         "hovertemplate": "Country/Region=%{customdata[0]}<br>TotalCases=%{y}<br>Continent=%{customdata[1]}<extra></extra>",
         "legendgroup": "Italy",
         "marker": {
          "color": "#19d3f3"
         },
         "name": "Italy",
         "offsetgroup": "Italy",
         "orientation": "v",
         "showlegend": true,
         "textposition": "auto",
         "type": "bar",
         "x": [
          "Italy"
         ],
         "xaxis": "x",
         "y": [
          249204
         ],
         "yaxis": "y"
        },
        {
         "alignmentgroup": "True",
         "customdata": [
          [
           "Turkey",
           "Asia"
          ]
         ],
         "hovertemplate": "Country/Region=%{customdata[0]}<br>TotalCases=%{y}<br>Continent=%{customdata[1]}<extra></extra>",
         "legendgroup": "Turkey",
         "marker": {
          "color": "#FF6692"
         },
         "name": "Turkey",
         "offsetgroup": "Turkey",
         "orientation": "v",
         "showlegend": true,
         "textposition": "auto",
         "type": "bar",
         "x": [
          "Turkey"
         ],
         "xaxis": "x",
         "y": [
          237265
         ],
         "yaxis": "y"
        },
        {
         "alignmentgroup": "True",
         "customdata": [
          [
           "Argentina",
           "South America"
          ]
         ],
         "hovertemplate": "Country/Region=%{customdata[0]}<br>TotalCases=%{y}<br>Continent=%{customdata[1]}<extra></extra>",
         "legendgroup": "Argentina",
         "marker": {
          "color": "#B6E880"
         },
         "name": "Argentina",
         "offsetgroup": "Argentina",
         "orientation": "v",
         "showlegend": true,
         "textposition": "auto",
         "type": "bar",
         "x": [
          "Argentina"
         ],
         "xaxis": "x",
         "y": [
          228195
         ],
         "yaxis": "y"
        },
        {
         "alignmentgroup": "True",
         "customdata": [
          [
           "Germany",
           "Europe"
          ]
         ],
         "hovertemplate": "Country/Region=%{customdata[0]}<br>TotalCases=%{y}<br>Continent=%{customdata[1]}<extra></extra>",
         "legendgroup": "Germany",
         "marker": {
          "color": "#FF97FF"
         },
         "name": "Germany",
         "offsetgroup": "Germany",
         "orientation": "v",
         "showlegend": true,
         "textposition": "auto",
         "type": "bar",
         "x": [
          "Germany"
         ],
         "xaxis": "x",
         "y": [
          215210
         ],
         "yaxis": "y"
        },
        {
         "alignmentgroup": "True",
         "customdata": [
          [
           "France",
           "Europe"
          ]
         ],
         "hovertemplate": "Country/Region=%{customdata[0]}<br>TotalCases=%{y}<br>Continent=%{customdata[1]}<extra></extra>",
         "legendgroup": "France",
         "marker": {
          "color": "#FECB52"
         },
         "name": "France",
         "offsetgroup": "France",
         "orientation": "v",
         "showlegend": true,
         "textposition": "auto",
         "type": "bar",
         "x": [
          "France"
         ],
         "xaxis": "x",
         "y": [
          195633
         ],
         "yaxis": "y"
        }
       ],
       "layout": {
        "barmode": "relative",
        "height": 400,
        "legend": {
         "title": {
          "text": "Country/Region"
         },
         "tracegroupgap": 0
        },
        "margin": {
         "t": 60
        },
        "template": {
         "data": {
          "bar": [
           {
            "error_x": {
             "color": "#2a3f5f"
            },
            "error_y": {
             "color": "#2a3f5f"
            },
            "marker": {
             "line": {
              "color": "#E5ECF6",
              "width": 0.5
             }
            },
            "type": "bar"
           }
          ],
          "barpolar": [
           {
            "marker": {
             "line": {
              "color": "#E5ECF6",
              "width": 0.5
             }
            },
            "type": "barpolar"
           }
          ],
          "carpet": [
           {
            "aaxis": {
             "endlinecolor": "#2a3f5f",
             "gridcolor": "white",
             "linecolor": "white",
             "minorgridcolor": "white",
             "startlinecolor": "#2a3f5f"
            },
            "baxis": {
             "endlinecolor": "#2a3f5f",
             "gridcolor": "white",
             "linecolor": "white",
             "minorgridcolor": "white",
             "startlinecolor": "#2a3f5f"
            },
            "type": "carpet"
           }
          ],
          "choropleth": [
           {
            "colorbar": {
             "outlinewidth": 0,
             "ticks": ""
            },
            "type": "choropleth"
           }
          ],
          "contour": [
           {
            "colorbar": {
             "outlinewidth": 0,
             "ticks": ""
            },
            "colorscale": [
             [
              0,
              "#0d0887"
             ],
             [
              0.1111111111111111,
              "#46039f"
             ],
             [
              0.2222222222222222,
              "#7201a8"
             ],
             [
              0.3333333333333333,
              "#9c179e"
             ],
             [
              0.4444444444444444,
              "#bd3786"
             ],
             [
              0.5555555555555556,
              "#d8576b"
             ],
             [
              0.6666666666666666,
              "#ed7953"
             ],
             [
              0.7777777777777778,
              "#fb9f3a"
             ],
             [
              0.8888888888888888,
              "#fdca26"
             ],
             [
              1,
              "#f0f921"
             ]
            ],
            "type": "contour"
           }
          ],
          "contourcarpet": [
           {
            "colorbar": {
             "outlinewidth": 0,
             "ticks": ""
            },
            "type": "contourcarpet"
           }
          ],
          "heatmap": [
           {
            "colorbar": {
             "outlinewidth": 0,
             "ticks": ""
            },
            "colorscale": [
             [
              0,
              "#0d0887"
             ],
             [
              0.1111111111111111,
              "#46039f"
             ],
             [
              0.2222222222222222,
              "#7201a8"
             ],
             [
              0.3333333333333333,
              "#9c179e"
             ],
             [
              0.4444444444444444,
              "#bd3786"
             ],
             [
              0.5555555555555556,
              "#d8576b"
             ],
             [
              0.6666666666666666,
              "#ed7953"
             ],
             [
              0.7777777777777778,
              "#fb9f3a"
             ],
             [
              0.8888888888888888,
              "#fdca26"
             ],
             [
              1,
              "#f0f921"
             ]
            ],
            "type": "heatmap"
           }
          ],
          "heatmapgl": [
           {
            "colorbar": {
             "outlinewidth": 0,
             "ticks": ""
            },
            "colorscale": [
             [
              0,
              "#0d0887"
             ],
             [
              0.1111111111111111,
              "#46039f"
             ],
             [
              0.2222222222222222,
              "#7201a8"
             ],
             [
              0.3333333333333333,
              "#9c179e"
             ],
             [
              0.4444444444444444,
              "#bd3786"
             ],
             [
              0.5555555555555556,
              "#d8576b"
             ],
             [
              0.6666666666666666,
              "#ed7953"
             ],
             [
              0.7777777777777778,
              "#fb9f3a"
             ],
             [
              0.8888888888888888,
              "#fdca26"
             ],
             [
              1,
              "#f0f921"
             ]
            ],
            "type": "heatmapgl"
           }
          ],
          "histogram": [
           {
            "marker": {
             "colorbar": {
              "outlinewidth": 0,
              "ticks": ""
             }
            },
            "type": "histogram"
           }
          ],
          "histogram2d": [
           {
            "colorbar": {
             "outlinewidth": 0,
             "ticks": ""
            },
            "colorscale": [
             [
              0,
              "#0d0887"
             ],
             [
              0.1111111111111111,
              "#46039f"
             ],
             [
              0.2222222222222222,
              "#7201a8"
             ],
             [
              0.3333333333333333,
              "#9c179e"
             ],
             [
              0.4444444444444444,
              "#bd3786"
             ],
             [
              0.5555555555555556,
              "#d8576b"
             ],
             [
              0.6666666666666666,
              "#ed7953"
             ],
             [
              0.7777777777777778,
              "#fb9f3a"
             ],
             [
              0.8888888888888888,
              "#fdca26"
             ],
             [
              1,
              "#f0f921"
             ]
            ],
            "type": "histogram2d"
           }
          ],
          "histogram2dcontour": [
           {
            "colorbar": {
             "outlinewidth": 0,
             "ticks": ""
            },
            "colorscale": [
             [
              0,
              "#0d0887"
             ],
             [
              0.1111111111111111,
              "#46039f"
             ],
             [
              0.2222222222222222,
              "#7201a8"
             ],
             [
              0.3333333333333333,
              "#9c179e"
             ],
             [
              0.4444444444444444,
              "#bd3786"
             ],
             [
              0.5555555555555556,
              "#d8576b"
             ],
             [
              0.6666666666666666,
              "#ed7953"
             ],
             [
              0.7777777777777778,
              "#fb9f3a"
             ],
             [
              0.8888888888888888,
              "#fdca26"
             ],
             [
              1,
              "#f0f921"
             ]
            ],
            "type": "histogram2dcontour"
           }
          ],
          "mesh3d": [
           {
            "colorbar": {
             "outlinewidth": 0,
             "ticks": ""
            },
            "type": "mesh3d"
           }
          ],
          "parcoords": [
           {
            "line": {
             "colorbar": {
              "outlinewidth": 0,
              "ticks": ""
             }
            },
            "type": "parcoords"
           }
          ],
          "pie": [
           {
            "automargin": true,
            "type": "pie"
           }
          ],
          "scatter": [
           {
            "marker": {
             "colorbar": {
              "outlinewidth": 0,
              "ticks": ""
             }
            },
            "type": "scatter"
           }
          ],
          "scatter3d": [
           {
            "line": {
             "colorbar": {
              "outlinewidth": 0,
              "ticks": ""
             }
            },
            "marker": {
             "colorbar": {
              "outlinewidth": 0,
              "ticks": ""
             }
            },
            "type": "scatter3d"
           }
          ],
          "scattercarpet": [
           {
            "marker": {
             "colorbar": {
              "outlinewidth": 0,
              "ticks": ""
             }
            },
            "type": "scattercarpet"
           }
          ],
          "scattergeo": [
           {
            "marker": {
             "colorbar": {
              "outlinewidth": 0,
              "ticks": ""
             }
            },
            "type": "scattergeo"
           }
          ],
          "scattergl": [
           {
            "marker": {
             "colorbar": {
              "outlinewidth": 0,
              "ticks": ""
             }
            },
            "type": "scattergl"
           }
          ],
          "scattermapbox": [
           {
            "marker": {
             "colorbar": {
              "outlinewidth": 0,
              "ticks": ""
             }
            },
            "type": "scattermapbox"
           }
          ],
          "scatterpolar": [
           {
            "marker": {
             "colorbar": {
              "outlinewidth": 0,
              "ticks": ""
             }
            },
            "type": "scatterpolar"
           }
          ],
          "scatterpolargl": [
           {
            "marker": {
             "colorbar": {
              "outlinewidth": 0,
              "ticks": ""
             }
            },
            "type": "scatterpolargl"
           }
          ],
          "scatterternary": [
           {
            "marker": {
             "colorbar": {
              "outlinewidth": 0,
              "ticks": ""
             }
            },
            "type": "scatterternary"
           }
          ],
          "surface": [
           {
            "colorbar": {
             "outlinewidth": 0,
             "ticks": ""
            },
            "colorscale": [
             [
              0,
              "#0d0887"
             ],
             [
              0.1111111111111111,
              "#46039f"
             ],
             [
              0.2222222222222222,
              "#7201a8"
             ],
             [
              0.3333333333333333,
              "#9c179e"
             ],
             [
              0.4444444444444444,
              "#bd3786"
             ],
             [
              0.5555555555555556,
              "#d8576b"
             ],
             [
              0.6666666666666666,
              "#ed7953"
             ],
             [
              0.7777777777777778,
              "#fb9f3a"
             ],
             [
              0.8888888888888888,
              "#fdca26"
             ],
             [
              1,
              "#f0f921"
             ]
            ],
            "type": "surface"
           }
          ],
          "table": [
           {
            "cells": {
             "fill": {
              "color": "#EBF0F8"
             },
             "line": {
              "color": "white"
             }
            },
            "header": {
             "fill": {
              "color": "#C8D4E3"
             },
             "line": {
              "color": "white"
             }
            },
            "type": "table"
           }
          ]
         },
         "layout": {
          "annotationdefaults": {
           "arrowcolor": "#2a3f5f",
           "arrowhead": 0,
           "arrowwidth": 1
          },
          "coloraxis": {
           "colorbar": {
            "outlinewidth": 0,
            "ticks": ""
           }
          },
          "colorscale": {
           "diverging": [
            [
             0,
             "#8e0152"
            ],
            [
             0.1,
             "#c51b7d"
            ],
            [
             0.2,
             "#de77ae"
            ],
            [
             0.3,
             "#f1b6da"
            ],
            [
             0.4,
             "#fde0ef"
            ],
            [
             0.5,
             "#f7f7f7"
            ],
            [
             0.6,
             "#e6f5d0"
            ],
            [
             0.7,
             "#b8e186"
            ],
            [
             0.8,
             "#7fbc41"
            ],
            [
             0.9,
             "#4d9221"
            ],
            [
             1,
             "#276419"
            ]
           ],
           "sequential": [
            [
             0,
             "#0d0887"
            ],
            [
             0.1111111111111111,
             "#46039f"
            ],
            [
             0.2222222222222222,
             "#7201a8"
            ],
            [
             0.3333333333333333,
             "#9c179e"
            ],
            [
             0.4444444444444444,
             "#bd3786"
            ],
            [
             0.5555555555555556,
             "#d8576b"
            ],
            [
             0.6666666666666666,
             "#ed7953"
            ],
            [
             0.7777777777777778,
             "#fb9f3a"
            ],
            [
             0.8888888888888888,
             "#fdca26"
            ],
            [
             1,
             "#f0f921"
            ]
           ],
           "sequentialminus": [
            [
             0,
             "#0d0887"
            ],
            [
             0.1111111111111111,
             "#46039f"
            ],
            [
             0.2222222222222222,
             "#7201a8"
            ],
            [
             0.3333333333333333,
             "#9c179e"
            ],
            [
             0.4444444444444444,
             "#bd3786"
            ],
            [
             0.5555555555555556,
             "#d8576b"
            ],
            [
             0.6666666666666666,
             "#ed7953"
            ],
            [
             0.7777777777777778,
             "#fb9f3a"
            ],
            [
             0.8888888888888888,
             "#fdca26"
            ],
            [
             1,
             "#f0f921"
            ]
           ]
          },
          "colorway": [
           "#636efa",
           "#EF553B",
           "#00cc96",
           "#ab63fa",
           "#FFA15A",
           "#19d3f3",
           "#FF6692",
           "#B6E880",
           "#FF97FF",
           "#FECB52"
          ],
          "font": {
           "color": "#2a3f5f"
          },
          "geo": {
           "bgcolor": "white",
           "lakecolor": "white",
           "landcolor": "#E5ECF6",
           "showlakes": true,
           "showland": true,
           "subunitcolor": "white"
          },
          "hoverlabel": {
           "align": "left"
          },
          "hovermode": "closest",
          "mapbox": {
           "style": "light"
          },
          "paper_bgcolor": "white",
          "plot_bgcolor": "#E5ECF6",
          "polar": {
           "angularaxis": {
            "gridcolor": "white",
            "linecolor": "white",
            "ticks": ""
           },
           "bgcolor": "#E5ECF6",
           "radialaxis": {
            "gridcolor": "white",
            "linecolor": "white",
            "ticks": ""
           }
          },
          "scene": {
           "xaxis": {
            "backgroundcolor": "#E5ECF6",
            "gridcolor": "white",
            "gridwidth": 2,
            "linecolor": "white",
            "showbackground": true,
            "ticks": "",
            "zerolinecolor": "white"
           },
           "yaxis": {
            "backgroundcolor": "#E5ECF6",
            "gridcolor": "white",
            "gridwidth": 2,
            "linecolor": "white",
            "showbackground": true,
            "ticks": "",
            "zerolinecolor": "white"
           },
           "zaxis": {
            "backgroundcolor": "#E5ECF6",
            "gridcolor": "white",
            "gridwidth": 2,
            "linecolor": "white",
            "showbackground": true,
            "ticks": "",
            "zerolinecolor": "white"
           }
          },
          "shapedefaults": {
           "line": {
            "color": "#2a3f5f"
           }
          },
          "ternary": {
           "aaxis": {
            "gridcolor": "white",
            "linecolor": "white",
            "ticks": ""
           },
           "baxis": {
            "gridcolor": "white",
            "linecolor": "white",
            "ticks": ""
           },
           "bgcolor": "#E5ECF6",
           "caxis": {
            "gridcolor": "white",
            "linecolor": "white",
            "ticks": ""
           }
          },
          "title": {
           "x": 0.05
          },
          "xaxis": {
           "automargin": true,
           "gridcolor": "white",
           "linecolor": "white",
           "ticks": "",
           "title": {
            "standoff": 15
           },
           "zerolinecolor": "white",
           "zerolinewidth": 2
          },
          "yaxis": {
           "automargin": true,
           "gridcolor": "white",
           "linecolor": "white",
           "ticks": "",
           "title": {
            "standoff": 15
           },
           "zerolinecolor": "white",
           "zerolinewidth": 2
          }
         }
        },
        "xaxis": {
         "anchor": "y",
         "categoryarray": [
          "USA",
          "Brazil",
          "India",
          "Russia",
          "South Africa",
          "Mexico",
          "Peru",
          "Chile",
          "Colombia",
          "Spain",
          "Iran",
          "UK",
          "Saudi Arabia",
          "Pakistan",
          "Bangladesh",
          "Italy",
          "Turkey",
          "Argentina",
          "Germany",
          "France"
         ],
         "categoryorder": "array",
         "domain": [
          0,
          1
         ],
         "title": {
          "text": "Country/Region"
         }
        },
        "yaxis": {
         "anchor": "x",
         "domain": [
          0,
          1
         ],
         "title": {
          "text": "TotalCases"
         }
        }
       }
      },
      "text/html": [
       "<div>                            <div id=\"c5fd9054-06f9-4e3b-9e17-3d7943379903\" class=\"plotly-graph-div\" style=\"height:400px; width:100%;\"></div>            <script type=\"text/javascript\">                require([\"plotly\"], function(Plotly) {                    window.PLOTLYENV=window.PLOTLYENV || {};                                    if (document.getElementById(\"c5fd9054-06f9-4e3b-9e17-3d7943379903\")) {                    Plotly.newPlot(                        \"c5fd9054-06f9-4e3b-9e17-3d7943379903\",                        [{\"alignmentgroup\": \"True\", \"customdata\": [[\"USA\", \"North America\"]], \"hovertemplate\": \"Country/Region=%{customdata[0]}<br>TotalCases=%{y}<br>Continent=%{customdata[1]}<extra></extra>\", \"legendgroup\": \"USA\", \"marker\": {\"color\": \"#636efa\"}, \"name\": \"USA\", \"offsetgroup\": \"USA\", \"orientation\": \"v\", \"showlegend\": true, \"textposition\": \"auto\", \"type\": \"bar\", \"x\": [\"USA\"], \"xaxis\": \"x\", \"y\": [5032179], \"yaxis\": \"y\"}, {\"alignmentgroup\": \"True\", \"customdata\": [[\"Brazil\", \"South America\"]], \"hovertemplate\": \"Country/Region=%{customdata[0]}<br>TotalCases=%{y}<br>Continent=%{customdata[1]}<extra></extra>\", \"legendgroup\": \"Brazil\", \"marker\": {\"color\": \"#EF553B\"}, \"name\": \"Brazil\", \"offsetgroup\": \"Brazil\", \"orientation\": \"v\", \"showlegend\": true, \"textposition\": \"auto\", \"type\": \"bar\", \"x\": [\"Brazil\"], \"xaxis\": \"x\", \"y\": [2917562], \"yaxis\": \"y\"}, {\"alignmentgroup\": \"True\", \"customdata\": [[\"India\", \"Asia\"]], \"hovertemplate\": \"Country/Region=%{customdata[0]}<br>TotalCases=%{y}<br>Continent=%{customdata[1]}<extra></extra>\", \"legendgroup\": \"India\", \"marker\": {\"color\": \"#00cc96\"}, \"name\": \"India\", \"offsetgroup\": \"India\", \"orientation\": \"v\", \"showlegend\": true, \"textposition\": \"auto\", \"type\": \"bar\", \"x\": [\"India\"], \"xaxis\": \"x\", \"y\": [2025409], \"yaxis\": \"y\"}, {\"alignmentgroup\": \"True\", \"customdata\": [[\"Russia\", \"Europe\"]], \"hovertemplate\": \"Country/Region=%{customdata[0]}<br>TotalCases=%{y}<br>Continent=%{customdata[1]}<extra></extra>\", \"legendgroup\": \"Russia\", \"marker\": {\"color\": \"#ab63fa\"}, \"name\": \"Russia\", \"offsetgroup\": \"Russia\", \"orientation\": \"v\", \"showlegend\": true, \"textposition\": \"auto\", \"type\": \"bar\", \"x\": [\"Russia\"], \"xaxis\": \"x\", \"y\": [871894], \"yaxis\": \"y\"}, {\"alignmentgroup\": \"True\", \"customdata\": [[\"South Africa\", \"Africa\"]], \"hovertemplate\": \"Country/Region=%{customdata[0]}<br>TotalCases=%{y}<br>Continent=%{customdata[1]}<extra></extra>\", \"legendgroup\": \"South Africa\", \"marker\": {\"color\": \"#FFA15A\"}, \"name\": \"South Africa\", \"offsetgroup\": \"South Africa\", \"orientation\": \"v\", \"showlegend\": true, \"textposition\": \"auto\", \"type\": \"bar\", \"x\": [\"South Africa\"], \"xaxis\": \"x\", \"y\": [538184], \"yaxis\": \"y\"}, {\"alignmentgroup\": \"True\", \"customdata\": [[\"Mexico\", \"North America\"]], \"hovertemplate\": \"Country/Region=%{customdata[0]}<br>TotalCases=%{y}<br>Continent=%{customdata[1]}<extra></extra>\", \"legendgroup\": \"Mexico\", \"marker\": {\"color\": \"#19d3f3\"}, \"name\": \"Mexico\", \"offsetgroup\": \"Mexico\", \"orientation\": \"v\", \"showlegend\": true, \"textposition\": \"auto\", \"type\": \"bar\", \"x\": [\"Mexico\"], \"xaxis\": \"x\", \"y\": [462690], \"yaxis\": \"y\"}, {\"alignmentgroup\": \"True\", \"customdata\": [[\"Peru\", \"South America\"]], \"hovertemplate\": \"Country/Region=%{customdata[0]}<br>TotalCases=%{y}<br>Continent=%{customdata[1]}<extra></extra>\", \"legendgroup\": \"Peru\", \"marker\": {\"color\": \"#FF6692\"}, \"name\": \"Peru\", \"offsetgroup\": \"Peru\", \"orientation\": \"v\", \"showlegend\": true, \"textposition\": \"auto\", \"type\": \"bar\", \"x\": [\"Peru\"], \"xaxis\": \"x\", \"y\": [455409], \"yaxis\": \"y\"}, {\"alignmentgroup\": \"True\", \"customdata\": [[\"Chile\", \"South America\"]], \"hovertemplate\": \"Country/Region=%{customdata[0]}<br>TotalCases=%{y}<br>Continent=%{customdata[1]}<extra></extra>\", \"legendgroup\": \"Chile\", \"marker\": {\"color\": \"#B6E880\"}, \"name\": \"Chile\", \"offsetgroup\": \"Chile\", \"orientation\": \"v\", \"showlegend\": true, \"textposition\": \"auto\", \"type\": \"bar\", \"x\": [\"Chile\"], \"xaxis\": \"x\", \"y\": [366671], \"yaxis\": \"y\"}, {\"alignmentgroup\": \"True\", \"customdata\": [[\"Colombia\", \"South America\"]], \"hovertemplate\": \"Country/Region=%{customdata[0]}<br>TotalCases=%{y}<br>Continent=%{customdata[1]}<extra></extra>\", \"legendgroup\": \"Colombia\", \"marker\": {\"color\": \"#FF97FF\"}, \"name\": \"Colombia\", \"offsetgroup\": \"Colombia\", \"orientation\": \"v\", \"showlegend\": true, \"textposition\": \"auto\", \"type\": \"bar\", \"x\": [\"Colombia\"], \"xaxis\": \"x\", \"y\": [357710], \"yaxis\": \"y\"}, {\"alignmentgroup\": \"True\", \"customdata\": [[\"Spain\", \"Europe\"]], \"hovertemplate\": \"Country/Region=%{customdata[0]}<br>TotalCases=%{y}<br>Continent=%{customdata[1]}<extra></extra>\", \"legendgroup\": \"Spain\", \"marker\": {\"color\": \"#FECB52\"}, \"name\": \"Spain\", \"offsetgroup\": \"Spain\", \"orientation\": \"v\", \"showlegend\": true, \"textposition\": \"auto\", \"type\": \"bar\", \"x\": [\"Spain\"], \"xaxis\": \"x\", \"y\": [354530], \"yaxis\": \"y\"}, {\"alignmentgroup\": \"True\", \"customdata\": [[\"Iran\", \"Asia\"]], \"hovertemplate\": \"Country/Region=%{customdata[0]}<br>TotalCases=%{y}<br>Continent=%{customdata[1]}<extra></extra>\", \"legendgroup\": \"Iran\", \"marker\": {\"color\": \"#636efa\"}, \"name\": \"Iran\", \"offsetgroup\": \"Iran\", \"orientation\": \"v\", \"showlegend\": true, \"textposition\": \"auto\", \"type\": \"bar\", \"x\": [\"Iran\"], \"xaxis\": \"x\", \"y\": [320117], \"yaxis\": \"y\"}, {\"alignmentgroup\": \"True\", \"customdata\": [[\"UK\", \"Europe\"]], \"hovertemplate\": \"Country/Region=%{customdata[0]}<br>TotalCases=%{y}<br>Continent=%{customdata[1]}<extra></extra>\", \"legendgroup\": \"UK\", \"marker\": {\"color\": \"#EF553B\"}, \"name\": \"UK\", \"offsetgroup\": \"UK\", \"orientation\": \"v\", \"showlegend\": true, \"textposition\": \"auto\", \"type\": \"bar\", \"x\": [\"UK\"], \"xaxis\": \"x\", \"y\": [308134], \"yaxis\": \"y\"}, {\"alignmentgroup\": \"True\", \"customdata\": [[\"Saudi Arabia\", \"Asia\"]], \"hovertemplate\": \"Country/Region=%{customdata[0]}<br>TotalCases=%{y}<br>Continent=%{customdata[1]}<extra></extra>\", \"legendgroup\": \"Saudi Arabia\", \"marker\": {\"color\": \"#00cc96\"}, \"name\": \"Saudi Arabia\", \"offsetgroup\": \"Saudi Arabia\", \"orientation\": \"v\", \"showlegend\": true, \"textposition\": \"auto\", \"type\": \"bar\", \"x\": [\"Saudi Arabia\"], \"xaxis\": \"x\", \"y\": [284226], \"yaxis\": \"y\"}, {\"alignmentgroup\": \"True\", \"customdata\": [[\"Pakistan\", \"Asia\"]], \"hovertemplate\": \"Country/Region=%{customdata[0]}<br>TotalCases=%{y}<br>Continent=%{customdata[1]}<extra></extra>\", \"legendgroup\": \"Pakistan\", \"marker\": {\"color\": \"#ab63fa\"}, \"name\": \"Pakistan\", \"offsetgroup\": \"Pakistan\", \"orientation\": \"v\", \"showlegend\": true, \"textposition\": \"auto\", \"type\": \"bar\", \"x\": [\"Pakistan\"], \"xaxis\": \"x\", \"y\": [281863], \"yaxis\": \"y\"}, {\"alignmentgroup\": \"True\", \"customdata\": [[\"Bangladesh\", \"Asia\"]], \"hovertemplate\": \"Country/Region=%{customdata[0]}<br>TotalCases=%{y}<br>Continent=%{customdata[1]}<extra></extra>\", \"legendgroup\": \"Bangladesh\", \"marker\": {\"color\": \"#FFA15A\"}, \"name\": \"Bangladesh\", \"offsetgroup\": \"Bangladesh\", \"orientation\": \"v\", \"showlegend\": true, \"textposition\": \"auto\", \"type\": \"bar\", \"x\": [\"Bangladesh\"], \"xaxis\": \"x\", \"y\": [249651], \"yaxis\": \"y\"}, {\"alignmentgroup\": \"True\", \"customdata\": [[\"Italy\", \"Europe\"]], \"hovertemplate\": \"Country/Region=%{customdata[0]}<br>TotalCases=%{y}<br>Continent=%{customdata[1]}<extra></extra>\", \"legendgroup\": \"Italy\", \"marker\": {\"color\": \"#19d3f3\"}, \"name\": \"Italy\", \"offsetgroup\": \"Italy\", \"orientation\": \"v\", \"showlegend\": true, \"textposition\": \"auto\", \"type\": \"bar\", \"x\": [\"Italy\"], \"xaxis\": \"x\", \"y\": [249204], \"yaxis\": \"y\"}, {\"alignmentgroup\": \"True\", \"customdata\": [[\"Turkey\", \"Asia\"]], \"hovertemplate\": \"Country/Region=%{customdata[0]}<br>TotalCases=%{y}<br>Continent=%{customdata[1]}<extra></extra>\", \"legendgroup\": \"Turkey\", \"marker\": {\"color\": \"#FF6692\"}, \"name\": \"Turkey\", \"offsetgroup\": \"Turkey\", \"orientation\": \"v\", \"showlegend\": true, \"textposition\": \"auto\", \"type\": \"bar\", \"x\": [\"Turkey\"], \"xaxis\": \"x\", \"y\": [237265], \"yaxis\": \"y\"}, {\"alignmentgroup\": \"True\", \"customdata\": [[\"Argentina\", \"South America\"]], \"hovertemplate\": \"Country/Region=%{customdata[0]}<br>TotalCases=%{y}<br>Continent=%{customdata[1]}<extra></extra>\", \"legendgroup\": \"Argentina\", \"marker\": {\"color\": \"#B6E880\"}, \"name\": \"Argentina\", \"offsetgroup\": \"Argentina\", \"orientation\": \"v\", \"showlegend\": true, \"textposition\": \"auto\", \"type\": \"bar\", \"x\": [\"Argentina\"], \"xaxis\": \"x\", \"y\": [228195], \"yaxis\": \"y\"}, {\"alignmentgroup\": \"True\", \"customdata\": [[\"Germany\", \"Europe\"]], \"hovertemplate\": \"Country/Region=%{customdata[0]}<br>TotalCases=%{y}<br>Continent=%{customdata[1]}<extra></extra>\", \"legendgroup\": \"Germany\", \"marker\": {\"color\": \"#FF97FF\"}, \"name\": \"Germany\", \"offsetgroup\": \"Germany\", \"orientation\": \"v\", \"showlegend\": true, \"textposition\": \"auto\", \"type\": \"bar\", \"x\": [\"Germany\"], \"xaxis\": \"x\", \"y\": [215210], \"yaxis\": \"y\"}, {\"alignmentgroup\": \"True\", \"customdata\": [[\"France\", \"Europe\"]], \"hovertemplate\": \"Country/Region=%{customdata[0]}<br>TotalCases=%{y}<br>Continent=%{customdata[1]}<extra></extra>\", \"legendgroup\": \"France\", \"marker\": {\"color\": \"#FECB52\"}, \"name\": \"France\", \"offsetgroup\": \"France\", \"orientation\": \"v\", \"showlegend\": true, \"textposition\": \"auto\", \"type\": \"bar\", \"x\": [\"France\"], \"xaxis\": \"x\", \"y\": [195633], \"yaxis\": \"y\"}],                        {\"barmode\": \"relative\", \"height\": 400, \"legend\": {\"title\": {\"text\": \"Country/Region\"}, \"tracegroupgap\": 0}, \"margin\": {\"t\": 60}, \"template\": {\"data\": {\"bar\": [{\"error_x\": {\"color\": \"#2a3f5f\"}, \"error_y\": {\"color\": \"#2a3f5f\"}, \"marker\": {\"line\": {\"color\": \"#E5ECF6\", \"width\": 0.5}}, \"type\": \"bar\"}], \"barpolar\": [{\"marker\": {\"line\": {\"color\": \"#E5ECF6\", \"width\": 0.5}}, \"type\": \"barpolar\"}], \"carpet\": [{\"aaxis\": {\"endlinecolor\": \"#2a3f5f\", \"gridcolor\": \"white\", \"linecolor\": \"white\", \"minorgridcolor\": \"white\", \"startlinecolor\": \"#2a3f5f\"}, \"baxis\": {\"endlinecolor\": \"#2a3f5f\", \"gridcolor\": \"white\", \"linecolor\": \"white\", \"minorgridcolor\": \"white\", \"startlinecolor\": \"#2a3f5f\"}, \"type\": \"carpet\"}], \"choropleth\": [{\"colorbar\": {\"outlinewidth\": 0, \"ticks\": \"\"}, \"type\": \"choropleth\"}], \"contour\": [{\"colorbar\": {\"outlinewidth\": 0, \"ticks\": \"\"}, \"colorscale\": [[0.0, \"#0d0887\"], [0.1111111111111111, \"#46039f\"], [0.2222222222222222, \"#7201a8\"], [0.3333333333333333, \"#9c179e\"], [0.4444444444444444, \"#bd3786\"], [0.5555555555555556, \"#d8576b\"], [0.6666666666666666, \"#ed7953\"], [0.7777777777777778, \"#fb9f3a\"], [0.8888888888888888, \"#fdca26\"], [1.0, \"#f0f921\"]], \"type\": \"contour\"}], \"contourcarpet\": [{\"colorbar\": {\"outlinewidth\": 0, \"ticks\": \"\"}, \"type\": \"contourcarpet\"}], \"heatmap\": [{\"colorbar\": {\"outlinewidth\": 0, \"ticks\": \"\"}, \"colorscale\": [[0.0, \"#0d0887\"], [0.1111111111111111, \"#46039f\"], [0.2222222222222222, \"#7201a8\"], [0.3333333333333333, \"#9c179e\"], [0.4444444444444444, \"#bd3786\"], [0.5555555555555556, \"#d8576b\"], [0.6666666666666666, \"#ed7953\"], [0.7777777777777778, \"#fb9f3a\"], [0.8888888888888888, \"#fdca26\"], [1.0, \"#f0f921\"]], \"type\": \"heatmap\"}], \"heatmapgl\": [{\"colorbar\": {\"outlinewidth\": 0, \"ticks\": \"\"}, \"colorscale\": [[0.0, \"#0d0887\"], [0.1111111111111111, \"#46039f\"], [0.2222222222222222, \"#7201a8\"], [0.3333333333333333, \"#9c179e\"], [0.4444444444444444, \"#bd3786\"], [0.5555555555555556, \"#d8576b\"], [0.6666666666666666, \"#ed7953\"], [0.7777777777777778, \"#fb9f3a\"], [0.8888888888888888, \"#fdca26\"], [1.0, \"#f0f921\"]], \"type\": \"heatmapgl\"}], \"histogram\": [{\"marker\": {\"colorbar\": {\"outlinewidth\": 0, \"ticks\": \"\"}}, \"type\": \"histogram\"}], \"histogram2d\": [{\"colorbar\": {\"outlinewidth\": 0, \"ticks\": \"\"}, \"colorscale\": [[0.0, \"#0d0887\"], [0.1111111111111111, \"#46039f\"], [0.2222222222222222, \"#7201a8\"], [0.3333333333333333, \"#9c179e\"], [0.4444444444444444, \"#bd3786\"], [0.5555555555555556, \"#d8576b\"], [0.6666666666666666, \"#ed7953\"], [0.7777777777777778, \"#fb9f3a\"], [0.8888888888888888, \"#fdca26\"], [1.0, \"#f0f921\"]], \"type\": \"histogram2d\"}], \"histogram2dcontour\": [{\"colorbar\": {\"outlinewidth\": 0, \"ticks\": \"\"}, \"colorscale\": [[0.0, \"#0d0887\"], [0.1111111111111111, \"#46039f\"], [0.2222222222222222, \"#7201a8\"], [0.3333333333333333, \"#9c179e\"], [0.4444444444444444, \"#bd3786\"], [0.5555555555555556, \"#d8576b\"], [0.6666666666666666, \"#ed7953\"], [0.7777777777777778, \"#fb9f3a\"], [0.8888888888888888, \"#fdca26\"], [1.0, \"#f0f921\"]], \"type\": \"histogram2dcontour\"}], \"mesh3d\": [{\"colorbar\": {\"outlinewidth\": 0, \"ticks\": \"\"}, \"type\": \"mesh3d\"}], \"parcoords\": [{\"line\": {\"colorbar\": {\"outlinewidth\": 0, \"ticks\": \"\"}}, \"type\": \"parcoords\"}], \"pie\": [{\"automargin\": true, \"type\": \"pie\"}], \"scatter\": [{\"marker\": {\"colorbar\": {\"outlinewidth\": 0, \"ticks\": \"\"}}, \"type\": \"scatter\"}], \"scatter3d\": [{\"line\": {\"colorbar\": {\"outlinewidth\": 0, \"ticks\": \"\"}}, \"marker\": {\"colorbar\": {\"outlinewidth\": 0, \"ticks\": \"\"}}, \"type\": \"scatter3d\"}], \"scattercarpet\": [{\"marker\": {\"colorbar\": {\"outlinewidth\": 0, \"ticks\": \"\"}}, \"type\": \"scattercarpet\"}], \"scattergeo\": [{\"marker\": {\"colorbar\": {\"outlinewidth\": 0, \"ticks\": \"\"}}, \"type\": \"scattergeo\"}], \"scattergl\": [{\"marker\": {\"colorbar\": {\"outlinewidth\": 0, \"ticks\": \"\"}}, \"type\": \"scattergl\"}], \"scattermapbox\": [{\"marker\": {\"colorbar\": {\"outlinewidth\": 0, \"ticks\": \"\"}}, \"type\": \"scattermapbox\"}], \"scatterpolar\": [{\"marker\": {\"colorbar\": {\"outlinewidth\": 0, \"ticks\": \"\"}}, \"type\": \"scatterpolar\"}], \"scatterpolargl\": [{\"marker\": {\"colorbar\": {\"outlinewidth\": 0, \"ticks\": \"\"}}, \"type\": \"scatterpolargl\"}], \"scatterternary\": [{\"marker\": {\"colorbar\": {\"outlinewidth\": 0, \"ticks\": \"\"}}, \"type\": \"scatterternary\"}], \"surface\": [{\"colorbar\": {\"outlinewidth\": 0, \"ticks\": \"\"}, \"colorscale\": [[0.0, \"#0d0887\"], [0.1111111111111111, \"#46039f\"], [0.2222222222222222, \"#7201a8\"], [0.3333333333333333, \"#9c179e\"], [0.4444444444444444, \"#bd3786\"], [0.5555555555555556, \"#d8576b\"], [0.6666666666666666, \"#ed7953\"], [0.7777777777777778, \"#fb9f3a\"], [0.8888888888888888, \"#fdca26\"], [1.0, \"#f0f921\"]], \"type\": \"surface\"}], \"table\": [{\"cells\": {\"fill\": {\"color\": \"#EBF0F8\"}, \"line\": {\"color\": \"white\"}}, \"header\": {\"fill\": {\"color\": \"#C8D4E3\"}, \"line\": {\"color\": \"white\"}}, \"type\": \"table\"}]}, \"layout\": {\"annotationdefaults\": {\"arrowcolor\": \"#2a3f5f\", \"arrowhead\": 0, \"arrowwidth\": 1}, \"coloraxis\": {\"colorbar\": {\"outlinewidth\": 0, \"ticks\": \"\"}}, \"colorscale\": {\"diverging\": [[0, \"#8e0152\"], [0.1, \"#c51b7d\"], [0.2, \"#de77ae\"], [0.3, \"#f1b6da\"], [0.4, \"#fde0ef\"], [0.5, \"#f7f7f7\"], [0.6, \"#e6f5d0\"], [0.7, \"#b8e186\"], [0.8, \"#7fbc41\"], [0.9, \"#4d9221\"], [1, \"#276419\"]], \"sequential\": [[0.0, \"#0d0887\"], [0.1111111111111111, \"#46039f\"], [0.2222222222222222, \"#7201a8\"], [0.3333333333333333, \"#9c179e\"], [0.4444444444444444, \"#bd3786\"], [0.5555555555555556, \"#d8576b\"], [0.6666666666666666, \"#ed7953\"], [0.7777777777777778, \"#fb9f3a\"], [0.8888888888888888, \"#fdca26\"], [1.0, \"#f0f921\"]], \"sequentialminus\": [[0.0, \"#0d0887\"], [0.1111111111111111, \"#46039f\"], [0.2222222222222222, \"#7201a8\"], [0.3333333333333333, \"#9c179e\"], [0.4444444444444444, \"#bd3786\"], [0.5555555555555556, \"#d8576b\"], [0.6666666666666666, \"#ed7953\"], [0.7777777777777778, \"#fb9f3a\"], [0.8888888888888888, \"#fdca26\"], [1.0, \"#f0f921\"]]}, \"colorway\": [\"#636efa\", \"#EF553B\", \"#00cc96\", \"#ab63fa\", \"#FFA15A\", \"#19d3f3\", \"#FF6692\", \"#B6E880\", \"#FF97FF\", \"#FECB52\"], \"font\": {\"color\": \"#2a3f5f\"}, \"geo\": {\"bgcolor\": \"white\", \"lakecolor\": \"white\", \"landcolor\": \"#E5ECF6\", \"showlakes\": true, \"showland\": true, \"subunitcolor\": \"white\"}, \"hoverlabel\": {\"align\": \"left\"}, \"hovermode\": \"closest\", \"mapbox\": {\"style\": \"light\"}, \"paper_bgcolor\": \"white\", \"plot_bgcolor\": \"#E5ECF6\", \"polar\": {\"angularaxis\": {\"gridcolor\": \"white\", \"linecolor\": \"white\", \"ticks\": \"\"}, \"bgcolor\": \"#E5ECF6\", \"radialaxis\": {\"gridcolor\": \"white\", \"linecolor\": \"white\", \"ticks\": \"\"}}, \"scene\": {\"xaxis\": {\"backgroundcolor\": \"#E5ECF6\", \"gridcolor\": \"white\", \"gridwidth\": 2, \"linecolor\": \"white\", \"showbackground\": true, \"ticks\": \"\", \"zerolinecolor\": \"white\"}, \"yaxis\": {\"backgroundcolor\": \"#E5ECF6\", \"gridcolor\": \"white\", \"gridwidth\": 2, \"linecolor\": \"white\", \"showbackground\": true, \"ticks\": \"\", \"zerolinecolor\": \"white\"}, \"zaxis\": {\"backgroundcolor\": \"#E5ECF6\", \"gridcolor\": \"white\", \"gridwidth\": 2, \"linecolor\": \"white\", \"showbackground\": true, \"ticks\": \"\", \"zerolinecolor\": \"white\"}}, \"shapedefaults\": {\"line\": {\"color\": \"#2a3f5f\"}}, \"ternary\": {\"aaxis\": {\"gridcolor\": \"white\", \"linecolor\": \"white\", \"ticks\": \"\"}, \"baxis\": {\"gridcolor\": \"white\", \"linecolor\": \"white\", \"ticks\": \"\"}, \"bgcolor\": \"#E5ECF6\", \"caxis\": {\"gridcolor\": \"white\", \"linecolor\": \"white\", \"ticks\": \"\"}}, \"title\": {\"x\": 0.05}, \"xaxis\": {\"automargin\": true, \"gridcolor\": \"white\", \"linecolor\": \"white\", \"ticks\": \"\", \"title\": {\"standoff\": 15}, \"zerolinecolor\": \"white\", \"zerolinewidth\": 2}, \"yaxis\": {\"automargin\": true, \"gridcolor\": \"white\", \"linecolor\": \"white\", \"ticks\": \"\", \"title\": {\"standoff\": 15}, \"zerolinecolor\": \"white\", \"zerolinewidth\": 2}}}, \"xaxis\": {\"anchor\": \"y\", \"categoryarray\": [\"USA\", \"Brazil\", \"India\", \"Russia\", \"South Africa\", \"Mexico\", \"Peru\", \"Chile\", \"Colombia\", \"Spain\", \"Iran\", \"UK\", \"Saudi Arabia\", \"Pakistan\", \"Bangladesh\", \"Italy\", \"Turkey\", \"Argentina\", \"Germany\", \"France\"], \"categoryorder\": \"array\", \"domain\": [0.0, 1.0], \"title\": {\"text\": \"Country/Region\"}}, \"yaxis\": {\"anchor\": \"x\", \"domain\": [0.0, 1.0], \"title\": {\"text\": \"TotalCases\"}}},                        {\"responsive\": true}                    ).then(function(){\n",
       "                            \n",
       "var gd = document.getElementById('c5fd9054-06f9-4e3b-9e17-3d7943379903');\n",
       "var x = new MutationObserver(function (mutations, observer) {{\n",
       "        var display = window.getComputedStyle(gd).display;\n",
       "        if (!display || display === 'none') {{\n",
       "            console.log([gd, 'removed!']);\n",
       "            Plotly.purge(gd);\n",
       "            observer.disconnect();\n",
       "        }}\n",
       "}});\n",
       "\n",
       "// Listen for the removal of the full notebook cells\n",
       "var notebookContainer = gd.closest('#notebook-container');\n",
       "if (notebookContainer) {{\n",
       "    x.observe(notebookContainer, {childList: true});\n",
       "}}\n",
       "\n",
       "// Listen for the clearing of the current output cell\n",
       "var outputEl = gd.closest('.output');\n",
       "if (outputEl) {{\n",
       "    x.observe(outputEl, {childList: true});\n",
       "}}\n",
       "\n",
       "                        })                };                });            </script>        </div>"
      ]
     },
     "metadata": {},
     "output_type": "display_data"
    }
   ],
   "source": [
    "ex.bar(covid.head(20),x='Country/Region',y='TotalCases',color='Country/Region',height=400,hover_data=['Country/Region','Continent'])"
   ]
  },
  {
   "cell_type": "code",
   "execution_count": 104,
   "metadata": {},
   "outputs": [
    {
     "data": {
      "application/vnd.plotly.v1+json": {
       "config": {
        "plotlyServerURL": "https://plot.ly"
       },
       "data": [
        {
         "alignmentgroup": "True",
         "customdata": [
          [
           "USA",
           "North America"
          ],
          [
           "Brazil",
           "South America"
          ],
          [
           "India",
           "Asia"
          ],
          [
           "Russia",
           "Europe"
          ],
          [
           "South Africa",
           "Africa"
          ],
          [
           "Mexico",
           "North America"
          ],
          [
           "Peru",
           "South America"
          ],
          [
           "Chile",
           "South America"
          ],
          [
           "Colombia",
           "South America"
          ],
          [
           "Spain",
           "Europe"
          ],
          [
           "Iran",
           "Asia"
          ],
          [
           "UK",
           "Europe"
          ],
          [
           "Saudi Arabia",
           "Asia"
          ],
          [
           "Pakistan",
           "Asia"
          ],
          [
           "Bangladesh",
           "Asia"
          ],
          [
           "Italy",
           "Europe"
          ],
          [
           "Turkey",
           "Asia"
          ],
          [
           "Argentina",
           "South America"
          ],
          [
           "Germany",
           "Europe"
          ],
          [
           "France",
           "Europe"
          ]
         ],
         "hovertemplate": "Country/Region=%{customdata[0]}<br>TotalCases=%{marker.color}<br>Continent=%{customdata[1]}<extra></extra>",
         "legendgroup": "",
         "marker": {
          "color": [
           5032179,
           2917562,
           2025409,
           871894,
           538184,
           462690,
           455409,
           366671,
           357710,
           354530,
           320117,
           308134,
           284226,
           281863,
           249651,
           249204,
           237265,
           228195,
           215210,
           195633
          ],
          "coloraxis": "coloraxis"
         },
         "name": "",
         "offsetgroup": "",
         "orientation": "v",
         "showlegend": false,
         "textposition": "auto",
         "type": "bar",
         "x": [
          "USA",
          "Brazil",
          "India",
          "Russia",
          "South Africa",
          "Mexico",
          "Peru",
          "Chile",
          "Colombia",
          "Spain",
          "Iran",
          "UK",
          "Saudi Arabia",
          "Pakistan",
          "Bangladesh",
          "Italy",
          "Turkey",
          "Argentina",
          "Germany",
          "France"
         ],
         "xaxis": "x",
         "y": [
          5032179,
          2917562,
          2025409,
          871894,
          538184,
          462690,
          455409,
          366671,
          357710,
          354530,
          320117,
          308134,
          284226,
          281863,
          249651,
          249204,
          237265,
          228195,
          215210,
          195633
         ],
         "yaxis": "y"
        }
       ],
       "layout": {
        "barmode": "relative",
        "coloraxis": {
         "colorbar": {
          "title": {
           "text": "TotalCases"
          }
         },
         "colorscale": [
          [
           0,
           "#0d0887"
          ],
          [
           0.1111111111111111,
           "#46039f"
          ],
          [
           0.2222222222222222,
           "#7201a8"
          ],
          [
           0.3333333333333333,
           "#9c179e"
          ],
          [
           0.4444444444444444,
           "#bd3786"
          ],
          [
           0.5555555555555556,
           "#d8576b"
          ],
          [
           0.6666666666666666,
           "#ed7953"
          ],
          [
           0.7777777777777778,
           "#fb9f3a"
          ],
          [
           0.8888888888888888,
           "#fdca26"
          ],
          [
           1,
           "#f0f921"
          ]
         ]
        },
        "height": 400,
        "legend": {
         "tracegroupgap": 0
        },
        "margin": {
         "t": 60
        },
        "template": {
         "data": {
          "bar": [
           {
            "error_x": {
             "color": "#2a3f5f"
            },
            "error_y": {
             "color": "#2a3f5f"
            },
            "marker": {
             "line": {
              "color": "#E5ECF6",
              "width": 0.5
             }
            },
            "type": "bar"
           }
          ],
          "barpolar": [
           {
            "marker": {
             "line": {
              "color": "#E5ECF6",
              "width": 0.5
             }
            },
            "type": "barpolar"
           }
          ],
          "carpet": [
           {
            "aaxis": {
             "endlinecolor": "#2a3f5f",
             "gridcolor": "white",
             "linecolor": "white",
             "minorgridcolor": "white",
             "startlinecolor": "#2a3f5f"
            },
            "baxis": {
             "endlinecolor": "#2a3f5f",
             "gridcolor": "white",
             "linecolor": "white",
             "minorgridcolor": "white",
             "startlinecolor": "#2a3f5f"
            },
            "type": "carpet"
           }
          ],
          "choropleth": [
           {
            "colorbar": {
             "outlinewidth": 0,
             "ticks": ""
            },
            "type": "choropleth"
           }
          ],
          "contour": [
           {
            "colorbar": {
             "outlinewidth": 0,
             "ticks": ""
            },
            "colorscale": [
             [
              0,
              "#0d0887"
             ],
             [
              0.1111111111111111,
              "#46039f"
             ],
             [
              0.2222222222222222,
              "#7201a8"
             ],
             [
              0.3333333333333333,
              "#9c179e"
             ],
             [
              0.4444444444444444,
              "#bd3786"
             ],
             [
              0.5555555555555556,
              "#d8576b"
             ],
             [
              0.6666666666666666,
              "#ed7953"
             ],
             [
              0.7777777777777778,
              "#fb9f3a"
             ],
             [
              0.8888888888888888,
              "#fdca26"
             ],
             [
              1,
              "#f0f921"
             ]
            ],
            "type": "contour"
           }
          ],
          "contourcarpet": [
           {
            "colorbar": {
             "outlinewidth": 0,
             "ticks": ""
            },
            "type": "contourcarpet"
           }
          ],
          "heatmap": [
           {
            "colorbar": {
             "outlinewidth": 0,
             "ticks": ""
            },
            "colorscale": [
             [
              0,
              "#0d0887"
             ],
             [
              0.1111111111111111,
              "#46039f"
             ],
             [
              0.2222222222222222,
              "#7201a8"
             ],
             [
              0.3333333333333333,
              "#9c179e"
             ],
             [
              0.4444444444444444,
              "#bd3786"
             ],
             [
              0.5555555555555556,
              "#d8576b"
             ],
             [
              0.6666666666666666,
              "#ed7953"
             ],
             [
              0.7777777777777778,
              "#fb9f3a"
             ],
             [
              0.8888888888888888,
              "#fdca26"
             ],
             [
              1,
              "#f0f921"
             ]
            ],
            "type": "heatmap"
           }
          ],
          "heatmapgl": [
           {
            "colorbar": {
             "outlinewidth": 0,
             "ticks": ""
            },
            "colorscale": [
             [
              0,
              "#0d0887"
             ],
             [
              0.1111111111111111,
              "#46039f"
             ],
             [
              0.2222222222222222,
              "#7201a8"
             ],
             [
              0.3333333333333333,
              "#9c179e"
             ],
             [
              0.4444444444444444,
              "#bd3786"
             ],
             [
              0.5555555555555556,
              "#d8576b"
             ],
             [
              0.6666666666666666,
              "#ed7953"
             ],
             [
              0.7777777777777778,
              "#fb9f3a"
             ],
             [
              0.8888888888888888,
              "#fdca26"
             ],
             [
              1,
              "#f0f921"
             ]
            ],
            "type": "heatmapgl"
           }
          ],
          "histogram": [
           {
            "marker": {
             "colorbar": {
              "outlinewidth": 0,
              "ticks": ""
             }
            },
            "type": "histogram"
           }
          ],
          "histogram2d": [
           {
            "colorbar": {
             "outlinewidth": 0,
             "ticks": ""
            },
            "colorscale": [
             [
              0,
              "#0d0887"
             ],
             [
              0.1111111111111111,
              "#46039f"
             ],
             [
              0.2222222222222222,
              "#7201a8"
             ],
             [
              0.3333333333333333,
              "#9c179e"
             ],
             [
              0.4444444444444444,
              "#bd3786"
             ],
             [
              0.5555555555555556,
              "#d8576b"
             ],
             [
              0.6666666666666666,
              "#ed7953"
             ],
             [
              0.7777777777777778,
              "#fb9f3a"
             ],
             [
              0.8888888888888888,
              "#fdca26"
             ],
             [
              1,
              "#f0f921"
             ]
            ],
            "type": "histogram2d"
           }
          ],
          "histogram2dcontour": [
           {
            "colorbar": {
             "outlinewidth": 0,
             "ticks": ""
            },
            "colorscale": [
             [
              0,
              "#0d0887"
             ],
             [
              0.1111111111111111,
              "#46039f"
             ],
             [
              0.2222222222222222,
              "#7201a8"
             ],
             [
              0.3333333333333333,
              "#9c179e"
             ],
             [
              0.4444444444444444,
              "#bd3786"
             ],
             [
              0.5555555555555556,
              "#d8576b"
             ],
             [
              0.6666666666666666,
              "#ed7953"
             ],
             [
              0.7777777777777778,
              "#fb9f3a"
             ],
             [
              0.8888888888888888,
              "#fdca26"
             ],
             [
              1,
              "#f0f921"
             ]
            ],
            "type": "histogram2dcontour"
           }
          ],
          "mesh3d": [
           {
            "colorbar": {
             "outlinewidth": 0,
             "ticks": ""
            },
            "type": "mesh3d"
           }
          ],
          "parcoords": [
           {
            "line": {
             "colorbar": {
              "outlinewidth": 0,
              "ticks": ""
             }
            },
            "type": "parcoords"
           }
          ],
          "pie": [
           {
            "automargin": true,
            "type": "pie"
           }
          ],
          "scatter": [
           {
            "marker": {
             "colorbar": {
              "outlinewidth": 0,
              "ticks": ""
             }
            },
            "type": "scatter"
           }
          ],
          "scatter3d": [
           {
            "line": {
             "colorbar": {
              "outlinewidth": 0,
              "ticks": ""
             }
            },
            "marker": {
             "colorbar": {
              "outlinewidth": 0,
              "ticks": ""
             }
            },
            "type": "scatter3d"
           }
          ],
          "scattercarpet": [
           {
            "marker": {
             "colorbar": {
              "outlinewidth": 0,
              "ticks": ""
             }
            },
            "type": "scattercarpet"
           }
          ],
          "scattergeo": [
           {
            "marker": {
             "colorbar": {
              "outlinewidth": 0,
              "ticks": ""
             }
            },
            "type": "scattergeo"
           }
          ],
          "scattergl": [
           {
            "marker": {
             "colorbar": {
              "outlinewidth": 0,
              "ticks": ""
             }
            },
            "type": "scattergl"
           }
          ],
          "scattermapbox": [
           {
            "marker": {
             "colorbar": {
              "outlinewidth": 0,
              "ticks": ""
             }
            },
            "type": "scattermapbox"
           }
          ],
          "scatterpolar": [
           {
            "marker": {
             "colorbar": {
              "outlinewidth": 0,
              "ticks": ""
             }
            },
            "type": "scatterpolar"
           }
          ],
          "scatterpolargl": [
           {
            "marker": {
             "colorbar": {
              "outlinewidth": 0,
              "ticks": ""
             }
            },
            "type": "scatterpolargl"
           }
          ],
          "scatterternary": [
           {
            "marker": {
             "colorbar": {
              "outlinewidth": 0,
              "ticks": ""
             }
            },
            "type": "scatterternary"
           }
          ],
          "surface": [
           {
            "colorbar": {
             "outlinewidth": 0,
             "ticks": ""
            },
            "colorscale": [
             [
              0,
              "#0d0887"
             ],
             [
              0.1111111111111111,
              "#46039f"
             ],
             [
              0.2222222222222222,
              "#7201a8"
             ],
             [
              0.3333333333333333,
              "#9c179e"
             ],
             [
              0.4444444444444444,
              "#bd3786"
             ],
             [
              0.5555555555555556,
              "#d8576b"
             ],
             [
              0.6666666666666666,
              "#ed7953"
             ],
             [
              0.7777777777777778,
              "#fb9f3a"
             ],
             [
              0.8888888888888888,
              "#fdca26"
             ],
             [
              1,
              "#f0f921"
             ]
            ],
            "type": "surface"
           }
          ],
          "table": [
           {
            "cells": {
             "fill": {
              "color": "#EBF0F8"
             },
             "line": {
              "color": "white"
             }
            },
            "header": {
             "fill": {
              "color": "#C8D4E3"
             },
             "line": {
              "color": "white"
             }
            },
            "type": "table"
           }
          ]
         },
         "layout": {
          "annotationdefaults": {
           "arrowcolor": "#2a3f5f",
           "arrowhead": 0,
           "arrowwidth": 1
          },
          "coloraxis": {
           "colorbar": {
            "outlinewidth": 0,
            "ticks": ""
           }
          },
          "colorscale": {
           "diverging": [
            [
             0,
             "#8e0152"
            ],
            [
             0.1,
             "#c51b7d"
            ],
            [
             0.2,
             "#de77ae"
            ],
            [
             0.3,
             "#f1b6da"
            ],
            [
             0.4,
             "#fde0ef"
            ],
            [
             0.5,
             "#f7f7f7"
            ],
            [
             0.6,
             "#e6f5d0"
            ],
            [
             0.7,
             "#b8e186"
            ],
            [
             0.8,
             "#7fbc41"
            ],
            [
             0.9,
             "#4d9221"
            ],
            [
             1,
             "#276419"
            ]
           ],
           "sequential": [
            [
             0,
             "#0d0887"
            ],
            [
             0.1111111111111111,
             "#46039f"
            ],
            [
             0.2222222222222222,
             "#7201a8"
            ],
            [
             0.3333333333333333,
             "#9c179e"
            ],
            [
             0.4444444444444444,
             "#bd3786"
            ],
            [
             0.5555555555555556,
             "#d8576b"
            ],
            [
             0.6666666666666666,
             "#ed7953"
            ],
            [
             0.7777777777777778,
             "#fb9f3a"
            ],
            [
             0.8888888888888888,
             "#fdca26"
            ],
            [
             1,
             "#f0f921"
            ]
           ],
           "sequentialminus": [
            [
             0,
             "#0d0887"
            ],
            [
             0.1111111111111111,
             "#46039f"
            ],
            [
             0.2222222222222222,
             "#7201a8"
            ],
            [
             0.3333333333333333,
             "#9c179e"
            ],
            [
             0.4444444444444444,
             "#bd3786"
            ],
            [
             0.5555555555555556,
             "#d8576b"
            ],
            [
             0.6666666666666666,
             "#ed7953"
            ],
            [
             0.7777777777777778,
             "#fb9f3a"
            ],
            [
             0.8888888888888888,
             "#fdca26"
            ],
            [
             1,
             "#f0f921"
            ]
           ]
          },
          "colorway": [
           "#636efa",
           "#EF553B",
           "#00cc96",
           "#ab63fa",
           "#FFA15A",
           "#19d3f3",
           "#FF6692",
           "#B6E880",
           "#FF97FF",
           "#FECB52"
          ],
          "font": {
           "color": "#2a3f5f"
          },
          "geo": {
           "bgcolor": "white",
           "lakecolor": "white",
           "landcolor": "#E5ECF6",
           "showlakes": true,
           "showland": true,
           "subunitcolor": "white"
          },
          "hoverlabel": {
           "align": "left"
          },
          "hovermode": "closest",
          "mapbox": {
           "style": "light"
          },
          "paper_bgcolor": "white",
          "plot_bgcolor": "#E5ECF6",
          "polar": {
           "angularaxis": {
            "gridcolor": "white",
            "linecolor": "white",
            "ticks": ""
           },
           "bgcolor": "#E5ECF6",
           "radialaxis": {
            "gridcolor": "white",
            "linecolor": "white",
            "ticks": ""
           }
          },
          "scene": {
           "xaxis": {
            "backgroundcolor": "#E5ECF6",
            "gridcolor": "white",
            "gridwidth": 2,
            "linecolor": "white",
            "showbackground": true,
            "ticks": "",
            "zerolinecolor": "white"
           },
           "yaxis": {
            "backgroundcolor": "#E5ECF6",
            "gridcolor": "white",
            "gridwidth": 2,
            "linecolor": "white",
            "showbackground": true,
            "ticks": "",
            "zerolinecolor": "white"
           },
           "zaxis": {
            "backgroundcolor": "#E5ECF6",
            "gridcolor": "white",
            "gridwidth": 2,
            "linecolor": "white",
            "showbackground": true,
            "ticks": "",
            "zerolinecolor": "white"
           }
          },
          "shapedefaults": {
           "line": {
            "color": "#2a3f5f"
           }
          },
          "ternary": {
           "aaxis": {
            "gridcolor": "white",
            "linecolor": "white",
            "ticks": ""
           },
           "baxis": {
            "gridcolor": "white",
            "linecolor": "white",
            "ticks": ""
           },
           "bgcolor": "#E5ECF6",
           "caxis": {
            "gridcolor": "white",
            "linecolor": "white",
            "ticks": ""
           }
          },
          "title": {
           "x": 0.05
          },
          "xaxis": {
           "automargin": true,
           "gridcolor": "white",
           "linecolor": "white",
           "ticks": "",
           "title": {
            "standoff": 15
           },
           "zerolinecolor": "white",
           "zerolinewidth": 2
          },
          "yaxis": {
           "automargin": true,
           "gridcolor": "white",
           "linecolor": "white",
           "ticks": "",
           "title": {
            "standoff": 15
           },
           "zerolinecolor": "white",
           "zerolinewidth": 2
          }
         }
        },
        "xaxis": {
         "anchor": "y",
         "domain": [
          0,
          1
         ],
         "title": {
          "text": "Country/Region"
         }
        },
        "yaxis": {
         "anchor": "x",
         "domain": [
          0,
          1
         ],
         "title": {
          "text": "TotalCases"
         }
        }
       }
      },
      "text/html": [
       "<div>                            <div id=\"e53e64ad-8f97-4251-8657-764febf9398c\" class=\"plotly-graph-div\" style=\"height:400px; width:100%;\"></div>            <script type=\"text/javascript\">                require([\"plotly\"], function(Plotly) {                    window.PLOTLYENV=window.PLOTLYENV || {};                                    if (document.getElementById(\"e53e64ad-8f97-4251-8657-764febf9398c\")) {                    Plotly.newPlot(                        \"e53e64ad-8f97-4251-8657-764febf9398c\",                        [{\"alignmentgroup\": \"True\", \"customdata\": [[\"USA\", \"North America\"], [\"Brazil\", \"South America\"], [\"India\", \"Asia\"], [\"Russia\", \"Europe\"], [\"South Africa\", \"Africa\"], [\"Mexico\", \"North America\"], [\"Peru\", \"South America\"], [\"Chile\", \"South America\"], [\"Colombia\", \"South America\"], [\"Spain\", \"Europe\"], [\"Iran\", \"Asia\"], [\"UK\", \"Europe\"], [\"Saudi Arabia\", \"Asia\"], [\"Pakistan\", \"Asia\"], [\"Bangladesh\", \"Asia\"], [\"Italy\", \"Europe\"], [\"Turkey\", \"Asia\"], [\"Argentina\", \"South America\"], [\"Germany\", \"Europe\"], [\"France\", \"Europe\"]], \"hovertemplate\": \"Country/Region=%{customdata[0]}<br>TotalCases=%{marker.color}<br>Continent=%{customdata[1]}<extra></extra>\", \"legendgroup\": \"\", \"marker\": {\"color\": [5032179, 2917562, 2025409, 871894, 538184, 462690, 455409, 366671, 357710, 354530, 320117, 308134, 284226, 281863, 249651, 249204, 237265, 228195, 215210, 195633], \"coloraxis\": \"coloraxis\"}, \"name\": \"\", \"offsetgroup\": \"\", \"orientation\": \"v\", \"showlegend\": false, \"textposition\": \"auto\", \"type\": \"bar\", \"x\": [\"USA\", \"Brazil\", \"India\", \"Russia\", \"South Africa\", \"Mexico\", \"Peru\", \"Chile\", \"Colombia\", \"Spain\", \"Iran\", \"UK\", \"Saudi Arabia\", \"Pakistan\", \"Bangladesh\", \"Italy\", \"Turkey\", \"Argentina\", \"Germany\", \"France\"], \"xaxis\": \"x\", \"y\": [5032179, 2917562, 2025409, 871894, 538184, 462690, 455409, 366671, 357710, 354530, 320117, 308134, 284226, 281863, 249651, 249204, 237265, 228195, 215210, 195633], \"yaxis\": \"y\"}],                        {\"barmode\": \"relative\", \"coloraxis\": {\"colorbar\": {\"title\": {\"text\": \"TotalCases\"}}, \"colorscale\": [[0.0, \"#0d0887\"], [0.1111111111111111, \"#46039f\"], [0.2222222222222222, \"#7201a8\"], [0.3333333333333333, \"#9c179e\"], [0.4444444444444444, \"#bd3786\"], [0.5555555555555556, \"#d8576b\"], [0.6666666666666666, \"#ed7953\"], [0.7777777777777778, \"#fb9f3a\"], [0.8888888888888888, \"#fdca26\"], [1.0, \"#f0f921\"]]}, \"height\": 400, \"legend\": {\"tracegroupgap\": 0}, \"margin\": {\"t\": 60}, \"template\": {\"data\": {\"bar\": [{\"error_x\": {\"color\": \"#2a3f5f\"}, \"error_y\": {\"color\": \"#2a3f5f\"}, \"marker\": {\"line\": {\"color\": \"#E5ECF6\", \"width\": 0.5}}, \"type\": \"bar\"}], \"barpolar\": [{\"marker\": {\"line\": {\"color\": \"#E5ECF6\", \"width\": 0.5}}, \"type\": \"barpolar\"}], \"carpet\": [{\"aaxis\": {\"endlinecolor\": \"#2a3f5f\", \"gridcolor\": \"white\", \"linecolor\": \"white\", \"minorgridcolor\": \"white\", \"startlinecolor\": \"#2a3f5f\"}, \"baxis\": {\"endlinecolor\": \"#2a3f5f\", \"gridcolor\": \"white\", \"linecolor\": \"white\", \"minorgridcolor\": \"white\", \"startlinecolor\": \"#2a3f5f\"}, \"type\": \"carpet\"}], \"choropleth\": [{\"colorbar\": {\"outlinewidth\": 0, \"ticks\": \"\"}, \"type\": \"choropleth\"}], \"contour\": [{\"colorbar\": {\"outlinewidth\": 0, \"ticks\": \"\"}, \"colorscale\": [[0.0, \"#0d0887\"], [0.1111111111111111, \"#46039f\"], [0.2222222222222222, \"#7201a8\"], [0.3333333333333333, \"#9c179e\"], [0.4444444444444444, \"#bd3786\"], [0.5555555555555556, \"#d8576b\"], [0.6666666666666666, \"#ed7953\"], [0.7777777777777778, \"#fb9f3a\"], [0.8888888888888888, \"#fdca26\"], [1.0, \"#f0f921\"]], \"type\": \"contour\"}], \"contourcarpet\": [{\"colorbar\": {\"outlinewidth\": 0, \"ticks\": \"\"}, \"type\": \"contourcarpet\"}], \"heatmap\": [{\"colorbar\": {\"outlinewidth\": 0, \"ticks\": \"\"}, \"colorscale\": [[0.0, \"#0d0887\"], [0.1111111111111111, \"#46039f\"], [0.2222222222222222, \"#7201a8\"], [0.3333333333333333, \"#9c179e\"], [0.4444444444444444, \"#bd3786\"], [0.5555555555555556, \"#d8576b\"], [0.6666666666666666, \"#ed7953\"], [0.7777777777777778, \"#fb9f3a\"], [0.8888888888888888, \"#fdca26\"], [1.0, \"#f0f921\"]], \"type\": \"heatmap\"}], \"heatmapgl\": [{\"colorbar\": {\"outlinewidth\": 0, \"ticks\": \"\"}, \"colorscale\": [[0.0, \"#0d0887\"], [0.1111111111111111, \"#46039f\"], [0.2222222222222222, \"#7201a8\"], [0.3333333333333333, \"#9c179e\"], [0.4444444444444444, \"#bd3786\"], [0.5555555555555556, \"#d8576b\"], [0.6666666666666666, \"#ed7953\"], [0.7777777777777778, \"#fb9f3a\"], [0.8888888888888888, \"#fdca26\"], [1.0, \"#f0f921\"]], \"type\": \"heatmapgl\"}], \"histogram\": [{\"marker\": {\"colorbar\": {\"outlinewidth\": 0, \"ticks\": \"\"}}, \"type\": \"histogram\"}], \"histogram2d\": [{\"colorbar\": {\"outlinewidth\": 0, \"ticks\": \"\"}, \"colorscale\": [[0.0, \"#0d0887\"], [0.1111111111111111, \"#46039f\"], [0.2222222222222222, \"#7201a8\"], [0.3333333333333333, \"#9c179e\"], [0.4444444444444444, \"#bd3786\"], [0.5555555555555556, \"#d8576b\"], [0.6666666666666666, \"#ed7953\"], [0.7777777777777778, \"#fb9f3a\"], [0.8888888888888888, \"#fdca26\"], [1.0, \"#f0f921\"]], \"type\": \"histogram2d\"}], \"histogram2dcontour\": [{\"colorbar\": {\"outlinewidth\": 0, \"ticks\": \"\"}, \"colorscale\": [[0.0, \"#0d0887\"], [0.1111111111111111, \"#46039f\"], [0.2222222222222222, \"#7201a8\"], [0.3333333333333333, \"#9c179e\"], [0.4444444444444444, \"#bd3786\"], [0.5555555555555556, \"#d8576b\"], [0.6666666666666666, \"#ed7953\"], [0.7777777777777778, \"#fb9f3a\"], [0.8888888888888888, \"#fdca26\"], [1.0, \"#f0f921\"]], \"type\": \"histogram2dcontour\"}], \"mesh3d\": [{\"colorbar\": {\"outlinewidth\": 0, \"ticks\": \"\"}, \"type\": \"mesh3d\"}], \"parcoords\": [{\"line\": {\"colorbar\": {\"outlinewidth\": 0, \"ticks\": \"\"}}, \"type\": \"parcoords\"}], \"pie\": [{\"automargin\": true, \"type\": \"pie\"}], \"scatter\": [{\"marker\": {\"colorbar\": {\"outlinewidth\": 0, \"ticks\": \"\"}}, \"type\": \"scatter\"}], \"scatter3d\": [{\"line\": {\"colorbar\": {\"outlinewidth\": 0, \"ticks\": \"\"}}, \"marker\": {\"colorbar\": {\"outlinewidth\": 0, \"ticks\": \"\"}}, \"type\": \"scatter3d\"}], \"scattercarpet\": [{\"marker\": {\"colorbar\": {\"outlinewidth\": 0, \"ticks\": \"\"}}, \"type\": \"scattercarpet\"}], \"scattergeo\": [{\"marker\": {\"colorbar\": {\"outlinewidth\": 0, \"ticks\": \"\"}}, \"type\": \"scattergeo\"}], \"scattergl\": [{\"marker\": {\"colorbar\": {\"outlinewidth\": 0, \"ticks\": \"\"}}, \"type\": \"scattergl\"}], \"scattermapbox\": [{\"marker\": {\"colorbar\": {\"outlinewidth\": 0, \"ticks\": \"\"}}, \"type\": \"scattermapbox\"}], \"scatterpolar\": [{\"marker\": {\"colorbar\": {\"outlinewidth\": 0, \"ticks\": \"\"}}, \"type\": \"scatterpolar\"}], \"scatterpolargl\": [{\"marker\": {\"colorbar\": {\"outlinewidth\": 0, \"ticks\": \"\"}}, \"type\": \"scatterpolargl\"}], \"scatterternary\": [{\"marker\": {\"colorbar\": {\"outlinewidth\": 0, \"ticks\": \"\"}}, \"type\": \"scatterternary\"}], \"surface\": [{\"colorbar\": {\"outlinewidth\": 0, \"ticks\": \"\"}, \"colorscale\": [[0.0, \"#0d0887\"], [0.1111111111111111, \"#46039f\"], [0.2222222222222222, \"#7201a8\"], [0.3333333333333333, \"#9c179e\"], [0.4444444444444444, \"#bd3786\"], [0.5555555555555556, \"#d8576b\"], [0.6666666666666666, \"#ed7953\"], [0.7777777777777778, \"#fb9f3a\"], [0.8888888888888888, \"#fdca26\"], [1.0, \"#f0f921\"]], \"type\": \"surface\"}], \"table\": [{\"cells\": {\"fill\": {\"color\": \"#EBF0F8\"}, \"line\": {\"color\": \"white\"}}, \"header\": {\"fill\": {\"color\": \"#C8D4E3\"}, \"line\": {\"color\": \"white\"}}, \"type\": \"table\"}]}, \"layout\": {\"annotationdefaults\": {\"arrowcolor\": \"#2a3f5f\", \"arrowhead\": 0, \"arrowwidth\": 1}, \"coloraxis\": {\"colorbar\": {\"outlinewidth\": 0, \"ticks\": \"\"}}, \"colorscale\": {\"diverging\": [[0, \"#8e0152\"], [0.1, \"#c51b7d\"], [0.2, \"#de77ae\"], [0.3, \"#f1b6da\"], [0.4, \"#fde0ef\"], [0.5, \"#f7f7f7\"], [0.6, \"#e6f5d0\"], [0.7, \"#b8e186\"], [0.8, \"#7fbc41\"], [0.9, \"#4d9221\"], [1, \"#276419\"]], \"sequential\": [[0.0, \"#0d0887\"], [0.1111111111111111, \"#46039f\"], [0.2222222222222222, \"#7201a8\"], [0.3333333333333333, \"#9c179e\"], [0.4444444444444444, \"#bd3786\"], [0.5555555555555556, \"#d8576b\"], [0.6666666666666666, \"#ed7953\"], [0.7777777777777778, \"#fb9f3a\"], [0.8888888888888888, \"#fdca26\"], [1.0, \"#f0f921\"]], \"sequentialminus\": [[0.0, \"#0d0887\"], [0.1111111111111111, \"#46039f\"], [0.2222222222222222, \"#7201a8\"], [0.3333333333333333, \"#9c179e\"], [0.4444444444444444, \"#bd3786\"], [0.5555555555555556, \"#d8576b\"], [0.6666666666666666, \"#ed7953\"], [0.7777777777777778, \"#fb9f3a\"], [0.8888888888888888, \"#fdca26\"], [1.0, \"#f0f921\"]]}, \"colorway\": [\"#636efa\", \"#EF553B\", \"#00cc96\", \"#ab63fa\", \"#FFA15A\", \"#19d3f3\", \"#FF6692\", \"#B6E880\", \"#FF97FF\", \"#FECB52\"], \"font\": {\"color\": \"#2a3f5f\"}, \"geo\": {\"bgcolor\": \"white\", \"lakecolor\": \"white\", \"landcolor\": \"#E5ECF6\", \"showlakes\": true, \"showland\": true, \"subunitcolor\": \"white\"}, \"hoverlabel\": {\"align\": \"left\"}, \"hovermode\": \"closest\", \"mapbox\": {\"style\": \"light\"}, \"paper_bgcolor\": \"white\", \"plot_bgcolor\": \"#E5ECF6\", \"polar\": {\"angularaxis\": {\"gridcolor\": \"white\", \"linecolor\": \"white\", \"ticks\": \"\"}, \"bgcolor\": \"#E5ECF6\", \"radialaxis\": {\"gridcolor\": \"white\", \"linecolor\": \"white\", \"ticks\": \"\"}}, \"scene\": {\"xaxis\": {\"backgroundcolor\": \"#E5ECF6\", \"gridcolor\": \"white\", \"gridwidth\": 2, \"linecolor\": \"white\", \"showbackground\": true, \"ticks\": \"\", \"zerolinecolor\": \"white\"}, \"yaxis\": {\"backgroundcolor\": \"#E5ECF6\", \"gridcolor\": \"white\", \"gridwidth\": 2, \"linecolor\": \"white\", \"showbackground\": true, \"ticks\": \"\", \"zerolinecolor\": \"white\"}, \"zaxis\": {\"backgroundcolor\": \"#E5ECF6\", \"gridcolor\": \"white\", \"gridwidth\": 2, \"linecolor\": \"white\", \"showbackground\": true, \"ticks\": \"\", \"zerolinecolor\": \"white\"}}, \"shapedefaults\": {\"line\": {\"color\": \"#2a3f5f\"}}, \"ternary\": {\"aaxis\": {\"gridcolor\": \"white\", \"linecolor\": \"white\", \"ticks\": \"\"}, \"baxis\": {\"gridcolor\": \"white\", \"linecolor\": \"white\", \"ticks\": \"\"}, \"bgcolor\": \"#E5ECF6\", \"caxis\": {\"gridcolor\": \"white\", \"linecolor\": \"white\", \"ticks\": \"\"}}, \"title\": {\"x\": 0.05}, \"xaxis\": {\"automargin\": true, \"gridcolor\": \"white\", \"linecolor\": \"white\", \"ticks\": \"\", \"title\": {\"standoff\": 15}, \"zerolinecolor\": \"white\", \"zerolinewidth\": 2}, \"yaxis\": {\"automargin\": true, \"gridcolor\": \"white\", \"linecolor\": \"white\", \"ticks\": \"\", \"title\": {\"standoff\": 15}, \"zerolinecolor\": \"white\", \"zerolinewidth\": 2}}}, \"xaxis\": {\"anchor\": \"y\", \"domain\": [0.0, 1.0], \"title\": {\"text\": \"Country/Region\"}}, \"yaxis\": {\"anchor\": \"x\", \"domain\": [0.0, 1.0], \"title\": {\"text\": \"TotalCases\"}}},                        {\"responsive\": true}                    ).then(function(){\n",
       "                            \n",
       "var gd = document.getElementById('e53e64ad-8f97-4251-8657-764febf9398c');\n",
       "var x = new MutationObserver(function (mutations, observer) {{\n",
       "        var display = window.getComputedStyle(gd).display;\n",
       "        if (!display || display === 'none') {{\n",
       "            console.log([gd, 'removed!']);\n",
       "            Plotly.purge(gd);\n",
       "            observer.disconnect();\n",
       "        }}\n",
       "}});\n",
       "\n",
       "// Listen for the removal of the full notebook cells\n",
       "var notebookContainer = gd.closest('#notebook-container');\n",
       "if (notebookContainer) {{\n",
       "    x.observe(notebookContainer, {childList: true});\n",
       "}}\n",
       "\n",
       "// Listen for the clearing of the current output cell\n",
       "var outputEl = gd.closest('.output');\n",
       "if (outputEl) {{\n",
       "    x.observe(outputEl, {childList: true});\n",
       "}}\n",
       "\n",
       "                        })                };                });            </script>        </div>"
      ]
     },
     "metadata": {},
     "output_type": "display_data"
    }
   ],
   "source": [
    "ex.bar(covid.head(20),x='Country/Region',y='TotalCases',color='TotalCases',height=400,hover_data=['Country/Region','Continent'])"
   ]
  },
  {
   "cell_type": "code",
   "execution_count": 105,
   "metadata": {},
   "outputs": [
    {
     "data": {
      "application/vnd.plotly.v1+json": {
       "config": {
        "plotlyServerURL": "https://plot.ly"
       },
       "data": [
        {
         "alignmentgroup": "True",
         "customdata": [
          [
           "USA",
           "North America"
          ],
          [
           "Brazil",
           "South America"
          ],
          [
           "India",
           "Asia"
          ],
          [
           "Russia",
           "Europe"
          ],
          [
           "South Africa",
           "Africa"
          ],
          [
           "Mexico",
           "North America"
          ],
          [
           "Peru",
           "South America"
          ],
          [
           "Chile",
           "South America"
          ],
          [
           "Colombia",
           "South America"
          ],
          [
           "Spain",
           "Europe"
          ],
          [
           "Iran",
           "Asia"
          ],
          [
           "UK",
           "Europe"
          ],
          [
           "Saudi Arabia",
           "Asia"
          ],
          [
           "Pakistan",
           "Asia"
          ],
          [
           "Bangladesh",
           "Asia"
          ],
          [
           "Italy",
           "Europe"
          ],
          [
           "Turkey",
           "Asia"
          ],
          [
           "Argentina",
           "South America"
          ],
          [
           "Germany",
           "Europe"
          ],
          [
           "France",
           "Europe"
          ]
         ],
         "hovertemplate": "Country/Region=%{customdata[0]}<br>TotalRecovered=%{marker.color}<br>Continent=%{customdata[1]}<extra></extra>",
         "legendgroup": "",
         "marker": {
          "color": [
           2576668,
           2047660,
           1377384,
           676357,
           387316,
           308848,
           310337,
           340168,
           192355,
           null,
           277463,
           null,
           247089,
           256058,
           143824,
           201323,
           220546,
           99852,
           196200,
           82460
          ],
          "coloraxis": "coloraxis"
         },
         "name": "",
         "offsetgroup": "",
         "orientation": "v",
         "showlegend": false,
         "textposition": "auto",
         "type": "bar",
         "x": [
          "USA",
          "Brazil",
          "India",
          "Russia",
          "South Africa",
          "Mexico",
          "Peru",
          "Chile",
          "Colombia",
          "Spain",
          "Iran",
          "UK",
          "Saudi Arabia",
          "Pakistan",
          "Bangladesh",
          "Italy",
          "Turkey",
          "Argentina",
          "Germany",
          "France"
         ],
         "xaxis": "x",
         "y": [
          2576668,
          2047660,
          1377384,
          676357,
          387316,
          308848,
          310337,
          340168,
          192355,
          null,
          277463,
          null,
          247089,
          256058,
          143824,
          201323,
          220546,
          99852,
          196200,
          82460
         ],
         "yaxis": "y"
        }
       ],
       "layout": {
        "barmode": "relative",
        "coloraxis": {
         "colorbar": {
          "title": {
           "text": "TotalRecovered"
          }
         },
         "colorscale": [
          [
           0,
           "#0d0887"
          ],
          [
           0.1111111111111111,
           "#46039f"
          ],
          [
           0.2222222222222222,
           "#7201a8"
          ],
          [
           0.3333333333333333,
           "#9c179e"
          ],
          [
           0.4444444444444444,
           "#bd3786"
          ],
          [
           0.5555555555555556,
           "#d8576b"
          ],
          [
           0.6666666666666666,
           "#ed7953"
          ],
          [
           0.7777777777777778,
           "#fb9f3a"
          ],
          [
           0.8888888888888888,
           "#fdca26"
          ],
          [
           1,
           "#f0f921"
          ]
         ]
        },
        "height": 400,
        "legend": {
         "tracegroupgap": 0
        },
        "margin": {
         "t": 60
        },
        "template": {
         "data": {
          "bar": [
           {
            "error_x": {
             "color": "#2a3f5f"
            },
            "error_y": {
             "color": "#2a3f5f"
            },
            "marker": {
             "line": {
              "color": "#E5ECF6",
              "width": 0.5
             }
            },
            "type": "bar"
           }
          ],
          "barpolar": [
           {
            "marker": {
             "line": {
              "color": "#E5ECF6",
              "width": 0.5
             }
            },
            "type": "barpolar"
           }
          ],
          "carpet": [
           {
            "aaxis": {
             "endlinecolor": "#2a3f5f",
             "gridcolor": "white",
             "linecolor": "white",
             "minorgridcolor": "white",
             "startlinecolor": "#2a3f5f"
            },
            "baxis": {
             "endlinecolor": "#2a3f5f",
             "gridcolor": "white",
             "linecolor": "white",
             "minorgridcolor": "white",
             "startlinecolor": "#2a3f5f"
            },
            "type": "carpet"
           }
          ],
          "choropleth": [
           {
            "colorbar": {
             "outlinewidth": 0,
             "ticks": ""
            },
            "type": "choropleth"
           }
          ],
          "contour": [
           {
            "colorbar": {
             "outlinewidth": 0,
             "ticks": ""
            },
            "colorscale": [
             [
              0,
              "#0d0887"
             ],
             [
              0.1111111111111111,
              "#46039f"
             ],
             [
              0.2222222222222222,
              "#7201a8"
             ],
             [
              0.3333333333333333,
              "#9c179e"
             ],
             [
              0.4444444444444444,
              "#bd3786"
             ],
             [
              0.5555555555555556,
              "#d8576b"
             ],
             [
              0.6666666666666666,
              "#ed7953"
             ],
             [
              0.7777777777777778,
              "#fb9f3a"
             ],
             [
              0.8888888888888888,
              "#fdca26"
             ],
             [
              1,
              "#f0f921"
             ]
            ],
            "type": "contour"
           }
          ],
          "contourcarpet": [
           {
            "colorbar": {
             "outlinewidth": 0,
             "ticks": ""
            },
            "type": "contourcarpet"
           }
          ],
          "heatmap": [
           {
            "colorbar": {
             "outlinewidth": 0,
             "ticks": ""
            },
            "colorscale": [
             [
              0,
              "#0d0887"
             ],
             [
              0.1111111111111111,
              "#46039f"
             ],
             [
              0.2222222222222222,
              "#7201a8"
             ],
             [
              0.3333333333333333,
              "#9c179e"
             ],
             [
              0.4444444444444444,
              "#bd3786"
             ],
             [
              0.5555555555555556,
              "#d8576b"
             ],
             [
              0.6666666666666666,
              "#ed7953"
             ],
             [
              0.7777777777777778,
              "#fb9f3a"
             ],
             [
              0.8888888888888888,
              "#fdca26"
             ],
             [
              1,
              "#f0f921"
             ]
            ],
            "type": "heatmap"
           }
          ],
          "heatmapgl": [
           {
            "colorbar": {
             "outlinewidth": 0,
             "ticks": ""
            },
            "colorscale": [
             [
              0,
              "#0d0887"
             ],
             [
              0.1111111111111111,
              "#46039f"
             ],
             [
              0.2222222222222222,
              "#7201a8"
             ],
             [
              0.3333333333333333,
              "#9c179e"
             ],
             [
              0.4444444444444444,
              "#bd3786"
             ],
             [
              0.5555555555555556,
              "#d8576b"
             ],
             [
              0.6666666666666666,
              "#ed7953"
             ],
             [
              0.7777777777777778,
              "#fb9f3a"
             ],
             [
              0.8888888888888888,
              "#fdca26"
             ],
             [
              1,
              "#f0f921"
             ]
            ],
            "type": "heatmapgl"
           }
          ],
          "histogram": [
           {
            "marker": {
             "colorbar": {
              "outlinewidth": 0,
              "ticks": ""
             }
            },
            "type": "histogram"
           }
          ],
          "histogram2d": [
           {
            "colorbar": {
             "outlinewidth": 0,
             "ticks": ""
            },
            "colorscale": [
             [
              0,
              "#0d0887"
             ],
             [
              0.1111111111111111,
              "#46039f"
             ],
             [
              0.2222222222222222,
              "#7201a8"
             ],
             [
              0.3333333333333333,
              "#9c179e"
             ],
             [
              0.4444444444444444,
              "#bd3786"
             ],
             [
              0.5555555555555556,
              "#d8576b"
             ],
             [
              0.6666666666666666,
              "#ed7953"
             ],
             [
              0.7777777777777778,
              "#fb9f3a"
             ],
             [
              0.8888888888888888,
              "#fdca26"
             ],
             [
              1,
              "#f0f921"
             ]
            ],
            "type": "histogram2d"
           }
          ],
          "histogram2dcontour": [
           {
            "colorbar": {
             "outlinewidth": 0,
             "ticks": ""
            },
            "colorscale": [
             [
              0,
              "#0d0887"
             ],
             [
              0.1111111111111111,
              "#46039f"
             ],
             [
              0.2222222222222222,
              "#7201a8"
             ],
             [
              0.3333333333333333,
              "#9c179e"
             ],
             [
              0.4444444444444444,
              "#bd3786"
             ],
             [
              0.5555555555555556,
              "#d8576b"
             ],
             [
              0.6666666666666666,
              "#ed7953"
             ],
             [
              0.7777777777777778,
              "#fb9f3a"
             ],
             [
              0.8888888888888888,
              "#fdca26"
             ],
             [
              1,
              "#f0f921"
             ]
            ],
            "type": "histogram2dcontour"
           }
          ],
          "mesh3d": [
           {
            "colorbar": {
             "outlinewidth": 0,
             "ticks": ""
            },
            "type": "mesh3d"
           }
          ],
          "parcoords": [
           {
            "line": {
             "colorbar": {
              "outlinewidth": 0,
              "ticks": ""
             }
            },
            "type": "parcoords"
           }
          ],
          "pie": [
           {
            "automargin": true,
            "type": "pie"
           }
          ],
          "scatter": [
           {
            "marker": {
             "colorbar": {
              "outlinewidth": 0,
              "ticks": ""
             }
            },
            "type": "scatter"
           }
          ],
          "scatter3d": [
           {
            "line": {
             "colorbar": {
              "outlinewidth": 0,
              "ticks": ""
             }
            },
            "marker": {
             "colorbar": {
              "outlinewidth": 0,
              "ticks": ""
             }
            },
            "type": "scatter3d"
           }
          ],
          "scattercarpet": [
           {
            "marker": {
             "colorbar": {
              "outlinewidth": 0,
              "ticks": ""
             }
            },
            "type": "scattercarpet"
           }
          ],
          "scattergeo": [
           {
            "marker": {
             "colorbar": {
              "outlinewidth": 0,
              "ticks": ""
             }
            },
            "type": "scattergeo"
           }
          ],
          "scattergl": [
           {
            "marker": {
             "colorbar": {
              "outlinewidth": 0,
              "ticks": ""
             }
            },
            "type": "scattergl"
           }
          ],
          "scattermapbox": [
           {
            "marker": {
             "colorbar": {
              "outlinewidth": 0,
              "ticks": ""
             }
            },
            "type": "scattermapbox"
           }
          ],
          "scatterpolar": [
           {
            "marker": {
             "colorbar": {
              "outlinewidth": 0,
              "ticks": ""
             }
            },
            "type": "scatterpolar"
           }
          ],
          "scatterpolargl": [
           {
            "marker": {
             "colorbar": {
              "outlinewidth": 0,
              "ticks": ""
             }
            },
            "type": "scatterpolargl"
           }
          ],
          "scatterternary": [
           {
            "marker": {
             "colorbar": {
              "outlinewidth": 0,
              "ticks": ""
             }
            },
            "type": "scatterternary"
           }
          ],
          "surface": [
           {
            "colorbar": {
             "outlinewidth": 0,
             "ticks": ""
            },
            "colorscale": [
             [
              0,
              "#0d0887"
             ],
             [
              0.1111111111111111,
              "#46039f"
             ],
             [
              0.2222222222222222,
              "#7201a8"
             ],
             [
              0.3333333333333333,
              "#9c179e"
             ],
             [
              0.4444444444444444,
              "#bd3786"
             ],
             [
              0.5555555555555556,
              "#d8576b"
             ],
             [
              0.6666666666666666,
              "#ed7953"
             ],
             [
              0.7777777777777778,
              "#fb9f3a"
             ],
             [
              0.8888888888888888,
              "#fdca26"
             ],
             [
              1,
              "#f0f921"
             ]
            ],
            "type": "surface"
           }
          ],
          "table": [
           {
            "cells": {
             "fill": {
              "color": "#EBF0F8"
             },
             "line": {
              "color": "white"
             }
            },
            "header": {
             "fill": {
              "color": "#C8D4E3"
             },
             "line": {
              "color": "white"
             }
            },
            "type": "table"
           }
          ]
         },
         "layout": {
          "annotationdefaults": {
           "arrowcolor": "#2a3f5f",
           "arrowhead": 0,
           "arrowwidth": 1
          },
          "coloraxis": {
           "colorbar": {
            "outlinewidth": 0,
            "ticks": ""
           }
          },
          "colorscale": {
           "diverging": [
            [
             0,
             "#8e0152"
            ],
            [
             0.1,
             "#c51b7d"
            ],
            [
             0.2,
             "#de77ae"
            ],
            [
             0.3,
             "#f1b6da"
            ],
            [
             0.4,
             "#fde0ef"
            ],
            [
             0.5,
             "#f7f7f7"
            ],
            [
             0.6,
             "#e6f5d0"
            ],
            [
             0.7,
             "#b8e186"
            ],
            [
             0.8,
             "#7fbc41"
            ],
            [
             0.9,
             "#4d9221"
            ],
            [
             1,
             "#276419"
            ]
           ],
           "sequential": [
            [
             0,
             "#0d0887"
            ],
            [
             0.1111111111111111,
             "#46039f"
            ],
            [
             0.2222222222222222,
             "#7201a8"
            ],
            [
             0.3333333333333333,
             "#9c179e"
            ],
            [
             0.4444444444444444,
             "#bd3786"
            ],
            [
             0.5555555555555556,
             "#d8576b"
            ],
            [
             0.6666666666666666,
             "#ed7953"
            ],
            [
             0.7777777777777778,
             "#fb9f3a"
            ],
            [
             0.8888888888888888,
             "#fdca26"
            ],
            [
             1,
             "#f0f921"
            ]
           ],
           "sequentialminus": [
            [
             0,
             "#0d0887"
            ],
            [
             0.1111111111111111,
             "#46039f"
            ],
            [
             0.2222222222222222,
             "#7201a8"
            ],
            [
             0.3333333333333333,
             "#9c179e"
            ],
            [
             0.4444444444444444,
             "#bd3786"
            ],
            [
             0.5555555555555556,
             "#d8576b"
            ],
            [
             0.6666666666666666,
             "#ed7953"
            ],
            [
             0.7777777777777778,
             "#fb9f3a"
            ],
            [
             0.8888888888888888,
             "#fdca26"
            ],
            [
             1,
             "#f0f921"
            ]
           ]
          },
          "colorway": [
           "#636efa",
           "#EF553B",
           "#00cc96",
           "#ab63fa",
           "#FFA15A",
           "#19d3f3",
           "#FF6692",
           "#B6E880",
           "#FF97FF",
           "#FECB52"
          ],
          "font": {
           "color": "#2a3f5f"
          },
          "geo": {
           "bgcolor": "white",
           "lakecolor": "white",
           "landcolor": "#E5ECF6",
           "showlakes": true,
           "showland": true,
           "subunitcolor": "white"
          },
          "hoverlabel": {
           "align": "left"
          },
          "hovermode": "closest",
          "mapbox": {
           "style": "light"
          },
          "paper_bgcolor": "white",
          "plot_bgcolor": "#E5ECF6",
          "polar": {
           "angularaxis": {
            "gridcolor": "white",
            "linecolor": "white",
            "ticks": ""
           },
           "bgcolor": "#E5ECF6",
           "radialaxis": {
            "gridcolor": "white",
            "linecolor": "white",
            "ticks": ""
           }
          },
          "scene": {
           "xaxis": {
            "backgroundcolor": "#E5ECF6",
            "gridcolor": "white",
            "gridwidth": 2,
            "linecolor": "white",
            "showbackground": true,
            "ticks": "",
            "zerolinecolor": "white"
           },
           "yaxis": {
            "backgroundcolor": "#E5ECF6",
            "gridcolor": "white",
            "gridwidth": 2,
            "linecolor": "white",
            "showbackground": true,
            "ticks": "",
            "zerolinecolor": "white"
           },
           "zaxis": {
            "backgroundcolor": "#E5ECF6",
            "gridcolor": "white",
            "gridwidth": 2,
            "linecolor": "white",
            "showbackground": true,
            "ticks": "",
            "zerolinecolor": "white"
           }
          },
          "shapedefaults": {
           "line": {
            "color": "#2a3f5f"
           }
          },
          "ternary": {
           "aaxis": {
            "gridcolor": "white",
            "linecolor": "white",
            "ticks": ""
           },
           "baxis": {
            "gridcolor": "white",
            "linecolor": "white",
            "ticks": ""
           },
           "bgcolor": "#E5ECF6",
           "caxis": {
            "gridcolor": "white",
            "linecolor": "white",
            "ticks": ""
           }
          },
          "title": {
           "x": 0.05
          },
          "xaxis": {
           "automargin": true,
           "gridcolor": "white",
           "linecolor": "white",
           "ticks": "",
           "title": {
            "standoff": 15
           },
           "zerolinecolor": "white",
           "zerolinewidth": 2
          },
          "yaxis": {
           "automargin": true,
           "gridcolor": "white",
           "linecolor": "white",
           "ticks": "",
           "title": {
            "standoff": 15
           },
           "zerolinecolor": "white",
           "zerolinewidth": 2
          }
         }
        },
        "xaxis": {
         "anchor": "y",
         "domain": [
          0,
          1
         ],
         "title": {
          "text": "Country/Region"
         }
        },
        "yaxis": {
         "anchor": "x",
         "domain": [
          0,
          1
         ],
         "title": {
          "text": "TotalRecovered"
         }
        }
       }
      },
      "text/html": [
       "<div>                            <div id=\"d6dce04d-5d7c-4aff-af09-11f98a7290c6\" class=\"plotly-graph-div\" style=\"height:400px; width:100%;\"></div>            <script type=\"text/javascript\">                require([\"plotly\"], function(Plotly) {                    window.PLOTLYENV=window.PLOTLYENV || {};                                    if (document.getElementById(\"d6dce04d-5d7c-4aff-af09-11f98a7290c6\")) {                    Plotly.newPlot(                        \"d6dce04d-5d7c-4aff-af09-11f98a7290c6\",                        [{\"alignmentgroup\": \"True\", \"customdata\": [[\"USA\", \"North America\"], [\"Brazil\", \"South America\"], [\"India\", \"Asia\"], [\"Russia\", \"Europe\"], [\"South Africa\", \"Africa\"], [\"Mexico\", \"North America\"], [\"Peru\", \"South America\"], [\"Chile\", \"South America\"], [\"Colombia\", \"South America\"], [\"Spain\", \"Europe\"], [\"Iran\", \"Asia\"], [\"UK\", \"Europe\"], [\"Saudi Arabia\", \"Asia\"], [\"Pakistan\", \"Asia\"], [\"Bangladesh\", \"Asia\"], [\"Italy\", \"Europe\"], [\"Turkey\", \"Asia\"], [\"Argentina\", \"South America\"], [\"Germany\", \"Europe\"], [\"France\", \"Europe\"]], \"hovertemplate\": \"Country/Region=%{customdata[0]}<br>TotalRecovered=%{marker.color}<br>Continent=%{customdata[1]}<extra></extra>\", \"legendgroup\": \"\", \"marker\": {\"color\": [2576668.0, 2047660.0, 1377384.0, 676357.0, 387316.0, 308848.0, 310337.0, 340168.0, 192355.0, null, 277463.0, null, 247089.0, 256058.0, 143824.0, 201323.0, 220546.0, 99852.0, 196200.0, 82460.0], \"coloraxis\": \"coloraxis\"}, \"name\": \"\", \"offsetgroup\": \"\", \"orientation\": \"v\", \"showlegend\": false, \"textposition\": \"auto\", \"type\": \"bar\", \"x\": [\"USA\", \"Brazil\", \"India\", \"Russia\", \"South Africa\", \"Mexico\", \"Peru\", \"Chile\", \"Colombia\", \"Spain\", \"Iran\", \"UK\", \"Saudi Arabia\", \"Pakistan\", \"Bangladesh\", \"Italy\", \"Turkey\", \"Argentina\", \"Germany\", \"France\"], \"xaxis\": \"x\", \"y\": [2576668.0, 2047660.0, 1377384.0, 676357.0, 387316.0, 308848.0, 310337.0, 340168.0, 192355.0, null, 277463.0, null, 247089.0, 256058.0, 143824.0, 201323.0, 220546.0, 99852.0, 196200.0, 82460.0], \"yaxis\": \"y\"}],                        {\"barmode\": \"relative\", \"coloraxis\": {\"colorbar\": {\"title\": {\"text\": \"TotalRecovered\"}}, \"colorscale\": [[0.0, \"#0d0887\"], [0.1111111111111111, \"#46039f\"], [0.2222222222222222, \"#7201a8\"], [0.3333333333333333, \"#9c179e\"], [0.4444444444444444, \"#bd3786\"], [0.5555555555555556, \"#d8576b\"], [0.6666666666666666, \"#ed7953\"], [0.7777777777777778, \"#fb9f3a\"], [0.8888888888888888, \"#fdca26\"], [1.0, \"#f0f921\"]]}, \"height\": 400, \"legend\": {\"tracegroupgap\": 0}, \"margin\": {\"t\": 60}, \"template\": {\"data\": {\"bar\": [{\"error_x\": {\"color\": \"#2a3f5f\"}, \"error_y\": {\"color\": \"#2a3f5f\"}, \"marker\": {\"line\": {\"color\": \"#E5ECF6\", \"width\": 0.5}}, \"type\": \"bar\"}], \"barpolar\": [{\"marker\": {\"line\": {\"color\": \"#E5ECF6\", \"width\": 0.5}}, \"type\": \"barpolar\"}], \"carpet\": [{\"aaxis\": {\"endlinecolor\": \"#2a3f5f\", \"gridcolor\": \"white\", \"linecolor\": \"white\", \"minorgridcolor\": \"white\", \"startlinecolor\": \"#2a3f5f\"}, \"baxis\": {\"endlinecolor\": \"#2a3f5f\", \"gridcolor\": \"white\", \"linecolor\": \"white\", \"minorgridcolor\": \"white\", \"startlinecolor\": \"#2a3f5f\"}, \"type\": \"carpet\"}], \"choropleth\": [{\"colorbar\": {\"outlinewidth\": 0, \"ticks\": \"\"}, \"type\": \"choropleth\"}], \"contour\": [{\"colorbar\": {\"outlinewidth\": 0, \"ticks\": \"\"}, \"colorscale\": [[0.0, \"#0d0887\"], [0.1111111111111111, \"#46039f\"], [0.2222222222222222, \"#7201a8\"], [0.3333333333333333, \"#9c179e\"], [0.4444444444444444, \"#bd3786\"], [0.5555555555555556, \"#d8576b\"], [0.6666666666666666, \"#ed7953\"], [0.7777777777777778, \"#fb9f3a\"], [0.8888888888888888, \"#fdca26\"], [1.0, \"#f0f921\"]], \"type\": \"contour\"}], \"contourcarpet\": [{\"colorbar\": {\"outlinewidth\": 0, \"ticks\": \"\"}, \"type\": \"contourcarpet\"}], \"heatmap\": [{\"colorbar\": {\"outlinewidth\": 0, \"ticks\": \"\"}, \"colorscale\": [[0.0, \"#0d0887\"], [0.1111111111111111, \"#46039f\"], [0.2222222222222222, \"#7201a8\"], [0.3333333333333333, \"#9c179e\"], [0.4444444444444444, \"#bd3786\"], [0.5555555555555556, \"#d8576b\"], [0.6666666666666666, \"#ed7953\"], [0.7777777777777778, \"#fb9f3a\"], [0.8888888888888888, \"#fdca26\"], [1.0, \"#f0f921\"]], \"type\": \"heatmap\"}], \"heatmapgl\": [{\"colorbar\": {\"outlinewidth\": 0, \"ticks\": \"\"}, \"colorscale\": [[0.0, \"#0d0887\"], [0.1111111111111111, \"#46039f\"], [0.2222222222222222, \"#7201a8\"], [0.3333333333333333, \"#9c179e\"], [0.4444444444444444, \"#bd3786\"], [0.5555555555555556, \"#d8576b\"], [0.6666666666666666, \"#ed7953\"], [0.7777777777777778, \"#fb9f3a\"], [0.8888888888888888, \"#fdca26\"], [1.0, \"#f0f921\"]], \"type\": \"heatmapgl\"}], \"histogram\": [{\"marker\": {\"colorbar\": {\"outlinewidth\": 0, \"ticks\": \"\"}}, \"type\": \"histogram\"}], \"histogram2d\": [{\"colorbar\": {\"outlinewidth\": 0, \"ticks\": \"\"}, \"colorscale\": [[0.0, \"#0d0887\"], [0.1111111111111111, \"#46039f\"], [0.2222222222222222, \"#7201a8\"], [0.3333333333333333, \"#9c179e\"], [0.4444444444444444, \"#bd3786\"], [0.5555555555555556, \"#d8576b\"], [0.6666666666666666, \"#ed7953\"], [0.7777777777777778, \"#fb9f3a\"], [0.8888888888888888, \"#fdca26\"], [1.0, \"#f0f921\"]], \"type\": \"histogram2d\"}], \"histogram2dcontour\": [{\"colorbar\": {\"outlinewidth\": 0, \"ticks\": \"\"}, \"colorscale\": [[0.0, \"#0d0887\"], [0.1111111111111111, \"#46039f\"], [0.2222222222222222, \"#7201a8\"], [0.3333333333333333, \"#9c179e\"], [0.4444444444444444, \"#bd3786\"], [0.5555555555555556, \"#d8576b\"], [0.6666666666666666, \"#ed7953\"], [0.7777777777777778, \"#fb9f3a\"], [0.8888888888888888, \"#fdca26\"], [1.0, \"#f0f921\"]], \"type\": \"histogram2dcontour\"}], \"mesh3d\": [{\"colorbar\": {\"outlinewidth\": 0, \"ticks\": \"\"}, \"type\": \"mesh3d\"}], \"parcoords\": [{\"line\": {\"colorbar\": {\"outlinewidth\": 0, \"ticks\": \"\"}}, \"type\": \"parcoords\"}], \"pie\": [{\"automargin\": true, \"type\": \"pie\"}], \"scatter\": [{\"marker\": {\"colorbar\": {\"outlinewidth\": 0, \"ticks\": \"\"}}, \"type\": \"scatter\"}], \"scatter3d\": [{\"line\": {\"colorbar\": {\"outlinewidth\": 0, \"ticks\": \"\"}}, \"marker\": {\"colorbar\": {\"outlinewidth\": 0, \"ticks\": \"\"}}, \"type\": \"scatter3d\"}], \"scattercarpet\": [{\"marker\": {\"colorbar\": {\"outlinewidth\": 0, \"ticks\": \"\"}}, \"type\": \"scattercarpet\"}], \"scattergeo\": [{\"marker\": {\"colorbar\": {\"outlinewidth\": 0, \"ticks\": \"\"}}, \"type\": \"scattergeo\"}], \"scattergl\": [{\"marker\": {\"colorbar\": {\"outlinewidth\": 0, \"ticks\": \"\"}}, \"type\": \"scattergl\"}], \"scattermapbox\": [{\"marker\": {\"colorbar\": {\"outlinewidth\": 0, \"ticks\": \"\"}}, \"type\": \"scattermapbox\"}], \"scatterpolar\": [{\"marker\": {\"colorbar\": {\"outlinewidth\": 0, \"ticks\": \"\"}}, \"type\": \"scatterpolar\"}], \"scatterpolargl\": [{\"marker\": {\"colorbar\": {\"outlinewidth\": 0, \"ticks\": \"\"}}, \"type\": \"scatterpolargl\"}], \"scatterternary\": [{\"marker\": {\"colorbar\": {\"outlinewidth\": 0, \"ticks\": \"\"}}, \"type\": \"scatterternary\"}], \"surface\": [{\"colorbar\": {\"outlinewidth\": 0, \"ticks\": \"\"}, \"colorscale\": [[0.0, \"#0d0887\"], [0.1111111111111111, \"#46039f\"], [0.2222222222222222, \"#7201a8\"], [0.3333333333333333, \"#9c179e\"], [0.4444444444444444, \"#bd3786\"], [0.5555555555555556, \"#d8576b\"], [0.6666666666666666, \"#ed7953\"], [0.7777777777777778, \"#fb9f3a\"], [0.8888888888888888, \"#fdca26\"], [1.0, \"#f0f921\"]], \"type\": \"surface\"}], \"table\": [{\"cells\": {\"fill\": {\"color\": \"#EBF0F8\"}, \"line\": {\"color\": \"white\"}}, \"header\": {\"fill\": {\"color\": \"#C8D4E3\"}, \"line\": {\"color\": \"white\"}}, \"type\": \"table\"}]}, \"layout\": {\"annotationdefaults\": {\"arrowcolor\": \"#2a3f5f\", \"arrowhead\": 0, \"arrowwidth\": 1}, \"coloraxis\": {\"colorbar\": {\"outlinewidth\": 0, \"ticks\": \"\"}}, \"colorscale\": {\"diverging\": [[0, \"#8e0152\"], [0.1, \"#c51b7d\"], [0.2, \"#de77ae\"], [0.3, \"#f1b6da\"], [0.4, \"#fde0ef\"], [0.5, \"#f7f7f7\"], [0.6, \"#e6f5d0\"], [0.7, \"#b8e186\"], [0.8, \"#7fbc41\"], [0.9, \"#4d9221\"], [1, \"#276419\"]], \"sequential\": [[0.0, \"#0d0887\"], [0.1111111111111111, \"#46039f\"], [0.2222222222222222, \"#7201a8\"], [0.3333333333333333, \"#9c179e\"], [0.4444444444444444, \"#bd3786\"], [0.5555555555555556, \"#d8576b\"], [0.6666666666666666, \"#ed7953\"], [0.7777777777777778, \"#fb9f3a\"], [0.8888888888888888, \"#fdca26\"], [1.0, \"#f0f921\"]], \"sequentialminus\": [[0.0, \"#0d0887\"], [0.1111111111111111, \"#46039f\"], [0.2222222222222222, \"#7201a8\"], [0.3333333333333333, \"#9c179e\"], [0.4444444444444444, \"#bd3786\"], [0.5555555555555556, \"#d8576b\"], [0.6666666666666666, \"#ed7953\"], [0.7777777777777778, \"#fb9f3a\"], [0.8888888888888888, \"#fdca26\"], [1.0, \"#f0f921\"]]}, \"colorway\": [\"#636efa\", \"#EF553B\", \"#00cc96\", \"#ab63fa\", \"#FFA15A\", \"#19d3f3\", \"#FF6692\", \"#B6E880\", \"#FF97FF\", \"#FECB52\"], \"font\": {\"color\": \"#2a3f5f\"}, \"geo\": {\"bgcolor\": \"white\", \"lakecolor\": \"white\", \"landcolor\": \"#E5ECF6\", \"showlakes\": true, \"showland\": true, \"subunitcolor\": \"white\"}, \"hoverlabel\": {\"align\": \"left\"}, \"hovermode\": \"closest\", \"mapbox\": {\"style\": \"light\"}, \"paper_bgcolor\": \"white\", \"plot_bgcolor\": \"#E5ECF6\", \"polar\": {\"angularaxis\": {\"gridcolor\": \"white\", \"linecolor\": \"white\", \"ticks\": \"\"}, \"bgcolor\": \"#E5ECF6\", \"radialaxis\": {\"gridcolor\": \"white\", \"linecolor\": \"white\", \"ticks\": \"\"}}, \"scene\": {\"xaxis\": {\"backgroundcolor\": \"#E5ECF6\", \"gridcolor\": \"white\", \"gridwidth\": 2, \"linecolor\": \"white\", \"showbackground\": true, \"ticks\": \"\", \"zerolinecolor\": \"white\"}, \"yaxis\": {\"backgroundcolor\": \"#E5ECF6\", \"gridcolor\": \"white\", \"gridwidth\": 2, \"linecolor\": \"white\", \"showbackground\": true, \"ticks\": \"\", \"zerolinecolor\": \"white\"}, \"zaxis\": {\"backgroundcolor\": \"#E5ECF6\", \"gridcolor\": \"white\", \"gridwidth\": 2, \"linecolor\": \"white\", \"showbackground\": true, \"ticks\": \"\", \"zerolinecolor\": \"white\"}}, \"shapedefaults\": {\"line\": {\"color\": \"#2a3f5f\"}}, \"ternary\": {\"aaxis\": {\"gridcolor\": \"white\", \"linecolor\": \"white\", \"ticks\": \"\"}, \"baxis\": {\"gridcolor\": \"white\", \"linecolor\": \"white\", \"ticks\": \"\"}, \"bgcolor\": \"#E5ECF6\", \"caxis\": {\"gridcolor\": \"white\", \"linecolor\": \"white\", \"ticks\": \"\"}}, \"title\": {\"x\": 0.05}, \"xaxis\": {\"automargin\": true, \"gridcolor\": \"white\", \"linecolor\": \"white\", \"ticks\": \"\", \"title\": {\"standoff\": 15}, \"zerolinecolor\": \"white\", \"zerolinewidth\": 2}, \"yaxis\": {\"automargin\": true, \"gridcolor\": \"white\", \"linecolor\": \"white\", \"ticks\": \"\", \"title\": {\"standoff\": 15}, \"zerolinecolor\": \"white\", \"zerolinewidth\": 2}}}, \"xaxis\": {\"anchor\": \"y\", \"domain\": [0.0, 1.0], \"title\": {\"text\": \"Country/Region\"}}, \"yaxis\": {\"anchor\": \"x\", \"domain\": [0.0, 1.0], \"title\": {\"text\": \"TotalRecovered\"}}},                        {\"responsive\": true}                    ).then(function(){\n",
       "                            \n",
       "var gd = document.getElementById('d6dce04d-5d7c-4aff-af09-11f98a7290c6');\n",
       "var x = new MutationObserver(function (mutations, observer) {{\n",
       "        var display = window.getComputedStyle(gd).display;\n",
       "        if (!display || display === 'none') {{\n",
       "            console.log([gd, 'removed!']);\n",
       "            Plotly.purge(gd);\n",
       "            observer.disconnect();\n",
       "        }}\n",
       "}});\n",
       "\n",
       "// Listen for the removal of the full notebook cells\n",
       "var notebookContainer = gd.closest('#notebook-container');\n",
       "if (notebookContainer) {{\n",
       "    x.observe(notebookContainer, {childList: true});\n",
       "}}\n",
       "\n",
       "// Listen for the clearing of the current output cell\n",
       "var outputEl = gd.closest('.output');\n",
       "if (outputEl) {{\n",
       "    x.observe(outputEl, {childList: true});\n",
       "}}\n",
       "\n",
       "                        })                };                });            </script>        </div>"
      ]
     },
     "metadata": {},
     "output_type": "display_data"
    }
   ],
   "source": [
    "ex.bar(covid.head(20),x='Country/Region',y='TotalRecovered',color='TotalRecovered',height=400,hover_data=['Country/Region','Continent'])"
   ]
  },
  {
   "cell_type": "code",
   "execution_count": 106,
   "metadata": {},
   "outputs": [
    {
     "data": {
      "application/vnd.plotly.v1+json": {
       "config": {
        "plotlyServerURL": "https://plot.ly"
       },
       "data": [
        {
         "alignmentgroup": "True",
         "customdata": [
          [
           "USA",
           "North America"
          ]
         ],
         "hovertemplate": "Country/Region=%{customdata[0]}<br>TotalDeaths=%{y}<br>Continent=%{customdata[1]}<extra></extra>",
         "legendgroup": "USA",
         "marker": {
          "color": "#636efa"
         },
         "name": "USA",
         "offsetgroup": "USA",
         "orientation": "v",
         "showlegend": true,
         "textposition": "auto",
         "type": "bar",
         "x": [
          "USA"
         ],
         "xaxis": "x",
         "y": [
          162804
         ],
         "yaxis": "y"
        },
        {
         "alignmentgroup": "True",
         "customdata": [
          [
           "Brazil",
           "South America"
          ]
         ],
         "hovertemplate": "Country/Region=%{customdata[0]}<br>TotalDeaths=%{y}<br>Continent=%{customdata[1]}<extra></extra>",
         "legendgroup": "Brazil",
         "marker": {
          "color": "#EF553B"
         },
         "name": "Brazil",
         "offsetgroup": "Brazil",
         "orientation": "v",
         "showlegend": true,
         "textposition": "auto",
         "type": "bar",
         "x": [
          "Brazil"
         ],
         "xaxis": "x",
         "y": [
          98644
         ],
         "yaxis": "y"
        },
        {
         "alignmentgroup": "True",
         "customdata": [
          [
           "India",
           "Asia"
          ]
         ],
         "hovertemplate": "Country/Region=%{customdata[0]}<br>TotalDeaths=%{y}<br>Continent=%{customdata[1]}<extra></extra>",
         "legendgroup": "India",
         "marker": {
          "color": "#00cc96"
         },
         "name": "India",
         "offsetgroup": "India",
         "orientation": "v",
         "showlegend": true,
         "textposition": "auto",
         "type": "bar",
         "x": [
          "India"
         ],
         "xaxis": "x",
         "y": [
          41638
         ],
         "yaxis": "y"
        },
        {
         "alignmentgroup": "True",
         "customdata": [
          [
           "Russia",
           "Europe"
          ]
         ],
         "hovertemplate": "Country/Region=%{customdata[0]}<br>TotalDeaths=%{y}<br>Continent=%{customdata[1]}<extra></extra>",
         "legendgroup": "Russia",
         "marker": {
          "color": "#ab63fa"
         },
         "name": "Russia",
         "offsetgroup": "Russia",
         "orientation": "v",
         "showlegend": true,
         "textposition": "auto",
         "type": "bar",
         "x": [
          "Russia"
         ],
         "xaxis": "x",
         "y": [
          14606
         ],
         "yaxis": "y"
        },
        {
         "alignmentgroup": "True",
         "customdata": [
          [
           "South Africa",
           "Africa"
          ]
         ],
         "hovertemplate": "Country/Region=%{customdata[0]}<br>TotalDeaths=%{y}<br>Continent=%{customdata[1]}<extra></extra>",
         "legendgroup": "South Africa",
         "marker": {
          "color": "#FFA15A"
         },
         "name": "South Africa",
         "offsetgroup": "South Africa",
         "orientation": "v",
         "showlegend": true,
         "textposition": "auto",
         "type": "bar",
         "x": [
          "South Africa"
         ],
         "xaxis": "x",
         "y": [
          9604
         ],
         "yaxis": "y"
        },
        {
         "alignmentgroup": "True",
         "customdata": [
          [
           "Mexico",
           "North America"
          ]
         ],
         "hovertemplate": "Country/Region=%{customdata[0]}<br>TotalDeaths=%{y}<br>Continent=%{customdata[1]}<extra></extra>",
         "legendgroup": "Mexico",
         "marker": {
          "color": "#19d3f3"
         },
         "name": "Mexico",
         "offsetgroup": "Mexico",
         "orientation": "v",
         "showlegend": true,
         "textposition": "auto",
         "type": "bar",
         "x": [
          "Mexico"
         ],
         "xaxis": "x",
         "y": [
          50517
         ],
         "yaxis": "y"
        },
        {
         "alignmentgroup": "True",
         "customdata": [
          [
           "Peru",
           "South America"
          ]
         ],
         "hovertemplate": "Country/Region=%{customdata[0]}<br>TotalDeaths=%{y}<br>Continent=%{customdata[1]}<extra></extra>",
         "legendgroup": "Peru",
         "marker": {
          "color": "#FF6692"
         },
         "name": "Peru",
         "offsetgroup": "Peru",
         "orientation": "v",
         "showlegend": true,
         "textposition": "auto",
         "type": "bar",
         "x": [
          "Peru"
         ],
         "xaxis": "x",
         "y": [
          20424
         ],
         "yaxis": "y"
        },
        {
         "alignmentgroup": "True",
         "customdata": [
          [
           "Chile",
           "South America"
          ]
         ],
         "hovertemplate": "Country/Region=%{customdata[0]}<br>TotalDeaths=%{y}<br>Continent=%{customdata[1]}<extra></extra>",
         "legendgroup": "Chile",
         "marker": {
          "color": "#B6E880"
         },
         "name": "Chile",
         "offsetgroup": "Chile",
         "orientation": "v",
         "showlegend": true,
         "textposition": "auto",
         "type": "bar",
         "x": [
          "Chile"
         ],
         "xaxis": "x",
         "y": [
          9889
         ],
         "yaxis": "y"
        },
        {
         "alignmentgroup": "True",
         "customdata": [
          [
           "Colombia",
           "South America"
          ]
         ],
         "hovertemplate": "Country/Region=%{customdata[0]}<br>TotalDeaths=%{y}<br>Continent=%{customdata[1]}<extra></extra>",
         "legendgroup": "Colombia",
         "marker": {
          "color": "#FF97FF"
         },
         "name": "Colombia",
         "offsetgroup": "Colombia",
         "orientation": "v",
         "showlegend": true,
         "textposition": "auto",
         "type": "bar",
         "x": [
          "Colombia"
         ],
         "xaxis": "x",
         "y": [
          11939
         ],
         "yaxis": "y"
        },
        {
         "alignmentgroup": "True",
         "customdata": [
          [
           "Spain",
           "Europe"
          ]
         ],
         "hovertemplate": "Country/Region=%{customdata[0]}<br>TotalDeaths=%{y}<br>Continent=%{customdata[1]}<extra></extra>",
         "legendgroup": "Spain",
         "marker": {
          "color": "#FECB52"
         },
         "name": "Spain",
         "offsetgroup": "Spain",
         "orientation": "v",
         "showlegend": true,
         "textposition": "auto",
         "type": "bar",
         "x": [
          "Spain"
         ],
         "xaxis": "x",
         "y": [
          28500
         ],
         "yaxis": "y"
        },
        {
         "alignmentgroup": "True",
         "customdata": [
          [
           "Iran",
           "Asia"
          ]
         ],
         "hovertemplate": "Country/Region=%{customdata[0]}<br>TotalDeaths=%{y}<br>Continent=%{customdata[1]}<extra></extra>",
         "legendgroup": "Iran",
         "marker": {
          "color": "#636efa"
         },
         "name": "Iran",
         "offsetgroup": "Iran",
         "orientation": "v",
         "showlegend": true,
         "textposition": "auto",
         "type": "bar",
         "x": [
          "Iran"
         ],
         "xaxis": "x",
         "y": [
          17976
         ],
         "yaxis": "y"
        },
        {
         "alignmentgroup": "True",
         "customdata": [
          [
           "UK",
           "Europe"
          ]
         ],
         "hovertemplate": "Country/Region=%{customdata[0]}<br>TotalDeaths=%{y}<br>Continent=%{customdata[1]}<extra></extra>",
         "legendgroup": "UK",
         "marker": {
          "color": "#EF553B"
         },
         "name": "UK",
         "offsetgroup": "UK",
         "orientation": "v",
         "showlegend": true,
         "textposition": "auto",
         "type": "bar",
         "x": [
          "UK"
         ],
         "xaxis": "x",
         "y": [
          46413
         ],
         "yaxis": "y"
        },
        {
         "alignmentgroup": "True",
         "customdata": [
          [
           "Saudi Arabia",
           "Asia"
          ]
         ],
         "hovertemplate": "Country/Region=%{customdata[0]}<br>TotalDeaths=%{y}<br>Continent=%{customdata[1]}<extra></extra>",
         "legendgroup": "Saudi Arabia",
         "marker": {
          "color": "#00cc96"
         },
         "name": "Saudi Arabia",
         "offsetgroup": "Saudi Arabia",
         "orientation": "v",
         "showlegend": true,
         "textposition": "auto",
         "type": "bar",
         "x": [
          "Saudi Arabia"
         ],
         "xaxis": "x",
         "y": [
          3055
         ],
         "yaxis": "y"
        },
        {
         "alignmentgroup": "True",
         "customdata": [
          [
           "Pakistan",
           "Asia"
          ]
         ],
         "hovertemplate": "Country/Region=%{customdata[0]}<br>TotalDeaths=%{y}<br>Continent=%{customdata[1]}<extra></extra>",
         "legendgroup": "Pakistan",
         "marker": {
          "color": "#ab63fa"
         },
         "name": "Pakistan",
         "offsetgroup": "Pakistan",
         "orientation": "v",
         "showlegend": true,
         "textposition": "auto",
         "type": "bar",
         "x": [
          "Pakistan"
         ],
         "xaxis": "x",
         "y": [
          6035
         ],
         "yaxis": "y"
        },
        {
         "alignmentgroup": "True",
         "customdata": [
          [
           "Bangladesh",
           "Asia"
          ]
         ],
         "hovertemplate": "Country/Region=%{customdata[0]}<br>TotalDeaths=%{y}<br>Continent=%{customdata[1]}<extra></extra>",
         "legendgroup": "Bangladesh",
         "marker": {
          "color": "#FFA15A"
         },
         "name": "Bangladesh",
         "offsetgroup": "Bangladesh",
         "orientation": "v",
         "showlegend": true,
         "textposition": "auto",
         "type": "bar",
         "x": [
          "Bangladesh"
         ],
         "xaxis": "x",
         "y": [
          3306
         ],
         "yaxis": "y"
        },
        {
         "alignmentgroup": "True",
         "customdata": [
          [
           "Italy",
           "Europe"
          ]
         ],
         "hovertemplate": "Country/Region=%{customdata[0]}<br>TotalDeaths=%{y}<br>Continent=%{customdata[1]}<extra></extra>",
         "legendgroup": "Italy",
         "marker": {
          "color": "#19d3f3"
         },
         "name": "Italy",
         "offsetgroup": "Italy",
         "orientation": "v",
         "showlegend": true,
         "textposition": "auto",
         "type": "bar",
         "x": [
          "Italy"
         ],
         "xaxis": "x",
         "y": [
          35187
         ],
         "yaxis": "y"
        },
        {
         "alignmentgroup": "True",
         "customdata": [
          [
           "Turkey",
           "Asia"
          ]
         ],
         "hovertemplate": "Country/Region=%{customdata[0]}<br>TotalDeaths=%{y}<br>Continent=%{customdata[1]}<extra></extra>",
         "legendgroup": "Turkey",
         "marker": {
          "color": "#FF6692"
         },
         "name": "Turkey",
         "offsetgroup": "Turkey",
         "orientation": "v",
         "showlegend": true,
         "textposition": "auto",
         "type": "bar",
         "x": [
          "Turkey"
         ],
         "xaxis": "x",
         "y": [
          5798
         ],
         "yaxis": "y"
        },
        {
         "alignmentgroup": "True",
         "customdata": [
          [
           "Argentina",
           "South America"
          ]
         ],
         "hovertemplate": "Country/Region=%{customdata[0]}<br>TotalDeaths=%{y}<br>Continent=%{customdata[1]}<extra></extra>",
         "legendgroup": "Argentina",
         "marker": {
          "color": "#B6E880"
         },
         "name": "Argentina",
         "offsetgroup": "Argentina",
         "orientation": "v",
         "showlegend": true,
         "textposition": "auto",
         "type": "bar",
         "x": [
          "Argentina"
         ],
         "xaxis": "x",
         "y": [
          4251
         ],
         "yaxis": "y"
        },
        {
         "alignmentgroup": "True",
         "customdata": [
          [
           "Germany",
           "Europe"
          ]
         ],
         "hovertemplate": "Country/Region=%{customdata[0]}<br>TotalDeaths=%{y}<br>Continent=%{customdata[1]}<extra></extra>",
         "legendgroup": "Germany",
         "marker": {
          "color": "#FF97FF"
         },
         "name": "Germany",
         "offsetgroup": "Germany",
         "orientation": "v",
         "showlegend": true,
         "textposition": "auto",
         "type": "bar",
         "x": [
          "Germany"
         ],
         "xaxis": "x",
         "y": [
          9252
         ],
         "yaxis": "y"
        },
        {
         "alignmentgroup": "True",
         "customdata": [
          [
           "France",
           "Europe"
          ]
         ],
         "hovertemplate": "Country/Region=%{customdata[0]}<br>TotalDeaths=%{y}<br>Continent=%{customdata[1]}<extra></extra>",
         "legendgroup": "France",
         "marker": {
          "color": "#FECB52"
         },
         "name": "France",
         "offsetgroup": "France",
         "orientation": "v",
         "showlegend": true,
         "textposition": "auto",
         "type": "bar",
         "x": [
          "France"
         ],
         "xaxis": "x",
         "y": [
          30312
         ],
         "yaxis": "y"
        }
       ],
       "layout": {
        "barmode": "relative",
        "height": 400,
        "legend": {
         "title": {
          "text": "Country/Region"
         },
         "tracegroupgap": 0
        },
        "margin": {
         "t": 60
        },
        "template": {
         "data": {
          "bar": [
           {
            "error_x": {
             "color": "#2a3f5f"
            },
            "error_y": {
             "color": "#2a3f5f"
            },
            "marker": {
             "line": {
              "color": "#E5ECF6",
              "width": 0.5
             }
            },
            "type": "bar"
           }
          ],
          "barpolar": [
           {
            "marker": {
             "line": {
              "color": "#E5ECF6",
              "width": 0.5
             }
            },
            "type": "barpolar"
           }
          ],
          "carpet": [
           {
            "aaxis": {
             "endlinecolor": "#2a3f5f",
             "gridcolor": "white",
             "linecolor": "white",
             "minorgridcolor": "white",
             "startlinecolor": "#2a3f5f"
            },
            "baxis": {
             "endlinecolor": "#2a3f5f",
             "gridcolor": "white",
             "linecolor": "white",
             "minorgridcolor": "white",
             "startlinecolor": "#2a3f5f"
            },
            "type": "carpet"
           }
          ],
          "choropleth": [
           {
            "colorbar": {
             "outlinewidth": 0,
             "ticks": ""
            },
            "type": "choropleth"
           }
          ],
          "contour": [
           {
            "colorbar": {
             "outlinewidth": 0,
             "ticks": ""
            },
            "colorscale": [
             [
              0,
              "#0d0887"
             ],
             [
              0.1111111111111111,
              "#46039f"
             ],
             [
              0.2222222222222222,
              "#7201a8"
             ],
             [
              0.3333333333333333,
              "#9c179e"
             ],
             [
              0.4444444444444444,
              "#bd3786"
             ],
             [
              0.5555555555555556,
              "#d8576b"
             ],
             [
              0.6666666666666666,
              "#ed7953"
             ],
             [
              0.7777777777777778,
              "#fb9f3a"
             ],
             [
              0.8888888888888888,
              "#fdca26"
             ],
             [
              1,
              "#f0f921"
             ]
            ],
            "type": "contour"
           }
          ],
          "contourcarpet": [
           {
            "colorbar": {
             "outlinewidth": 0,
             "ticks": ""
            },
            "type": "contourcarpet"
           }
          ],
          "heatmap": [
           {
            "colorbar": {
             "outlinewidth": 0,
             "ticks": ""
            },
            "colorscale": [
             [
              0,
              "#0d0887"
             ],
             [
              0.1111111111111111,
              "#46039f"
             ],
             [
              0.2222222222222222,
              "#7201a8"
             ],
             [
              0.3333333333333333,
              "#9c179e"
             ],
             [
              0.4444444444444444,
              "#bd3786"
             ],
             [
              0.5555555555555556,
              "#d8576b"
             ],
             [
              0.6666666666666666,
              "#ed7953"
             ],
             [
              0.7777777777777778,
              "#fb9f3a"
             ],
             [
              0.8888888888888888,
              "#fdca26"
             ],
             [
              1,
              "#f0f921"
             ]
            ],
            "type": "heatmap"
           }
          ],
          "heatmapgl": [
           {
            "colorbar": {
             "outlinewidth": 0,
             "ticks": ""
            },
            "colorscale": [
             [
              0,
              "#0d0887"
             ],
             [
              0.1111111111111111,
              "#46039f"
             ],
             [
              0.2222222222222222,
              "#7201a8"
             ],
             [
              0.3333333333333333,
              "#9c179e"
             ],
             [
              0.4444444444444444,
              "#bd3786"
             ],
             [
              0.5555555555555556,
              "#d8576b"
             ],
             [
              0.6666666666666666,
              "#ed7953"
             ],
             [
              0.7777777777777778,
              "#fb9f3a"
             ],
             [
              0.8888888888888888,
              "#fdca26"
             ],
             [
              1,
              "#f0f921"
             ]
            ],
            "type": "heatmapgl"
           }
          ],
          "histogram": [
           {
            "marker": {
             "colorbar": {
              "outlinewidth": 0,
              "ticks": ""
             }
            },
            "type": "histogram"
           }
          ],
          "histogram2d": [
           {
            "colorbar": {
             "outlinewidth": 0,
             "ticks": ""
            },
            "colorscale": [
             [
              0,
              "#0d0887"
             ],
             [
              0.1111111111111111,
              "#46039f"
             ],
             [
              0.2222222222222222,
              "#7201a8"
             ],
             [
              0.3333333333333333,
              "#9c179e"
             ],
             [
              0.4444444444444444,
              "#bd3786"
             ],
             [
              0.5555555555555556,
              "#d8576b"
             ],
             [
              0.6666666666666666,
              "#ed7953"
             ],
             [
              0.7777777777777778,
              "#fb9f3a"
             ],
             [
              0.8888888888888888,
              "#fdca26"
             ],
             [
              1,
              "#f0f921"
             ]
            ],
            "type": "histogram2d"
           }
          ],
          "histogram2dcontour": [
           {
            "colorbar": {
             "outlinewidth": 0,
             "ticks": ""
            },
            "colorscale": [
             [
              0,
              "#0d0887"
             ],
             [
              0.1111111111111111,
              "#46039f"
             ],
             [
              0.2222222222222222,
              "#7201a8"
             ],
             [
              0.3333333333333333,
              "#9c179e"
             ],
             [
              0.4444444444444444,
              "#bd3786"
             ],
             [
              0.5555555555555556,
              "#d8576b"
             ],
             [
              0.6666666666666666,
              "#ed7953"
             ],
             [
              0.7777777777777778,
              "#fb9f3a"
             ],
             [
              0.8888888888888888,
              "#fdca26"
             ],
             [
              1,
              "#f0f921"
             ]
            ],
            "type": "histogram2dcontour"
           }
          ],
          "mesh3d": [
           {
            "colorbar": {
             "outlinewidth": 0,
             "ticks": ""
            },
            "type": "mesh3d"
           }
          ],
          "parcoords": [
           {
            "line": {
             "colorbar": {
              "outlinewidth": 0,
              "ticks": ""
             }
            },
            "type": "parcoords"
           }
          ],
          "pie": [
           {
            "automargin": true,
            "type": "pie"
           }
          ],
          "scatter": [
           {
            "marker": {
             "colorbar": {
              "outlinewidth": 0,
              "ticks": ""
             }
            },
            "type": "scatter"
           }
          ],
          "scatter3d": [
           {
            "line": {
             "colorbar": {
              "outlinewidth": 0,
              "ticks": ""
             }
            },
            "marker": {
             "colorbar": {
              "outlinewidth": 0,
              "ticks": ""
             }
            },
            "type": "scatter3d"
           }
          ],
          "scattercarpet": [
           {
            "marker": {
             "colorbar": {
              "outlinewidth": 0,
              "ticks": ""
             }
            },
            "type": "scattercarpet"
           }
          ],
          "scattergeo": [
           {
            "marker": {
             "colorbar": {
              "outlinewidth": 0,
              "ticks": ""
             }
            },
            "type": "scattergeo"
           }
          ],
          "scattergl": [
           {
            "marker": {
             "colorbar": {
              "outlinewidth": 0,
              "ticks": ""
             }
            },
            "type": "scattergl"
           }
          ],
          "scattermapbox": [
           {
            "marker": {
             "colorbar": {
              "outlinewidth": 0,
              "ticks": ""
             }
            },
            "type": "scattermapbox"
           }
          ],
          "scatterpolar": [
           {
            "marker": {
             "colorbar": {
              "outlinewidth": 0,
              "ticks": ""
             }
            },
            "type": "scatterpolar"
           }
          ],
          "scatterpolargl": [
           {
            "marker": {
             "colorbar": {
              "outlinewidth": 0,
              "ticks": ""
             }
            },
            "type": "scatterpolargl"
           }
          ],
          "scatterternary": [
           {
            "marker": {
             "colorbar": {
              "outlinewidth": 0,
              "ticks": ""
             }
            },
            "type": "scatterternary"
           }
          ],
          "surface": [
           {
            "colorbar": {
             "outlinewidth": 0,
             "ticks": ""
            },
            "colorscale": [
             [
              0,
              "#0d0887"
             ],
             [
              0.1111111111111111,
              "#46039f"
             ],
             [
              0.2222222222222222,
              "#7201a8"
             ],
             [
              0.3333333333333333,
              "#9c179e"
             ],
             [
              0.4444444444444444,
              "#bd3786"
             ],
             [
              0.5555555555555556,
              "#d8576b"
             ],
             [
              0.6666666666666666,
              "#ed7953"
             ],
             [
              0.7777777777777778,
              "#fb9f3a"
             ],
             [
              0.8888888888888888,
              "#fdca26"
             ],
             [
              1,
              "#f0f921"
             ]
            ],
            "type": "surface"
           }
          ],
          "table": [
           {
            "cells": {
             "fill": {
              "color": "#EBF0F8"
             },
             "line": {
              "color": "white"
             }
            },
            "header": {
             "fill": {
              "color": "#C8D4E3"
             },
             "line": {
              "color": "white"
             }
            },
            "type": "table"
           }
          ]
         },
         "layout": {
          "annotationdefaults": {
           "arrowcolor": "#2a3f5f",
           "arrowhead": 0,
           "arrowwidth": 1
          },
          "coloraxis": {
           "colorbar": {
            "outlinewidth": 0,
            "ticks": ""
           }
          },
          "colorscale": {
           "diverging": [
            [
             0,
             "#8e0152"
            ],
            [
             0.1,
             "#c51b7d"
            ],
            [
             0.2,
             "#de77ae"
            ],
            [
             0.3,
             "#f1b6da"
            ],
            [
             0.4,
             "#fde0ef"
            ],
            [
             0.5,
             "#f7f7f7"
            ],
            [
             0.6,
             "#e6f5d0"
            ],
            [
             0.7,
             "#b8e186"
            ],
            [
             0.8,
             "#7fbc41"
            ],
            [
             0.9,
             "#4d9221"
            ],
            [
             1,
             "#276419"
            ]
           ],
           "sequential": [
            [
             0,
             "#0d0887"
            ],
            [
             0.1111111111111111,
             "#46039f"
            ],
            [
             0.2222222222222222,
             "#7201a8"
            ],
            [
             0.3333333333333333,
             "#9c179e"
            ],
            [
             0.4444444444444444,
             "#bd3786"
            ],
            [
             0.5555555555555556,
             "#d8576b"
            ],
            [
             0.6666666666666666,
             "#ed7953"
            ],
            [
             0.7777777777777778,
             "#fb9f3a"
            ],
            [
             0.8888888888888888,
             "#fdca26"
            ],
            [
             1,
             "#f0f921"
            ]
           ],
           "sequentialminus": [
            [
             0,
             "#0d0887"
            ],
            [
             0.1111111111111111,
             "#46039f"
            ],
            [
             0.2222222222222222,
             "#7201a8"
            ],
            [
             0.3333333333333333,
             "#9c179e"
            ],
            [
             0.4444444444444444,
             "#bd3786"
            ],
            [
             0.5555555555555556,
             "#d8576b"
            ],
            [
             0.6666666666666666,
             "#ed7953"
            ],
            [
             0.7777777777777778,
             "#fb9f3a"
            ],
            [
             0.8888888888888888,
             "#fdca26"
            ],
            [
             1,
             "#f0f921"
            ]
           ]
          },
          "colorway": [
           "#636efa",
           "#EF553B",
           "#00cc96",
           "#ab63fa",
           "#FFA15A",
           "#19d3f3",
           "#FF6692",
           "#B6E880",
           "#FF97FF",
           "#FECB52"
          ],
          "font": {
           "color": "#2a3f5f"
          },
          "geo": {
           "bgcolor": "white",
           "lakecolor": "white",
           "landcolor": "#E5ECF6",
           "showlakes": true,
           "showland": true,
           "subunitcolor": "white"
          },
          "hoverlabel": {
           "align": "left"
          },
          "hovermode": "closest",
          "mapbox": {
           "style": "light"
          },
          "paper_bgcolor": "white",
          "plot_bgcolor": "#E5ECF6",
          "polar": {
           "angularaxis": {
            "gridcolor": "white",
            "linecolor": "white",
            "ticks": ""
           },
           "bgcolor": "#E5ECF6",
           "radialaxis": {
            "gridcolor": "white",
            "linecolor": "white",
            "ticks": ""
           }
          },
          "scene": {
           "xaxis": {
            "backgroundcolor": "#E5ECF6",
            "gridcolor": "white",
            "gridwidth": 2,
            "linecolor": "white",
            "showbackground": true,
            "ticks": "",
            "zerolinecolor": "white"
           },
           "yaxis": {
            "backgroundcolor": "#E5ECF6",
            "gridcolor": "white",
            "gridwidth": 2,
            "linecolor": "white",
            "showbackground": true,
            "ticks": "",
            "zerolinecolor": "white"
           },
           "zaxis": {
            "backgroundcolor": "#E5ECF6",
            "gridcolor": "white",
            "gridwidth": 2,
            "linecolor": "white",
            "showbackground": true,
            "ticks": "",
            "zerolinecolor": "white"
           }
          },
          "shapedefaults": {
           "line": {
            "color": "#2a3f5f"
           }
          },
          "ternary": {
           "aaxis": {
            "gridcolor": "white",
            "linecolor": "white",
            "ticks": ""
           },
           "baxis": {
            "gridcolor": "white",
            "linecolor": "white",
            "ticks": ""
           },
           "bgcolor": "#E5ECF6",
           "caxis": {
            "gridcolor": "white",
            "linecolor": "white",
            "ticks": ""
           }
          },
          "title": {
           "x": 0.05
          },
          "xaxis": {
           "automargin": true,
           "gridcolor": "white",
           "linecolor": "white",
           "ticks": "",
           "title": {
            "standoff": 15
           },
           "zerolinecolor": "white",
           "zerolinewidth": 2
          },
          "yaxis": {
           "automargin": true,
           "gridcolor": "white",
           "linecolor": "white",
           "ticks": "",
           "title": {
            "standoff": 15
           },
           "zerolinecolor": "white",
           "zerolinewidth": 2
          }
         }
        },
        "xaxis": {
         "anchor": "y",
         "categoryarray": [
          "USA",
          "Brazil",
          "India",
          "Russia",
          "South Africa",
          "Mexico",
          "Peru",
          "Chile",
          "Colombia",
          "Spain",
          "Iran",
          "UK",
          "Saudi Arabia",
          "Pakistan",
          "Bangladesh",
          "Italy",
          "Turkey",
          "Argentina",
          "Germany",
          "France"
         ],
         "categoryorder": "array",
         "domain": [
          0,
          1
         ],
         "title": {
          "text": "Country/Region"
         }
        },
        "yaxis": {
         "anchor": "x",
         "domain": [
          0,
          1
         ],
         "title": {
          "text": "TotalDeaths"
         }
        }
       }
      },
      "text/html": [
       "<div>                            <div id=\"19dba74b-1527-42bd-acc0-f3d1967ec253\" class=\"plotly-graph-div\" style=\"height:400px; width:100%;\"></div>            <script type=\"text/javascript\">                require([\"plotly\"], function(Plotly) {                    window.PLOTLYENV=window.PLOTLYENV || {};                                    if (document.getElementById(\"19dba74b-1527-42bd-acc0-f3d1967ec253\")) {                    Plotly.newPlot(                        \"19dba74b-1527-42bd-acc0-f3d1967ec253\",                        [{\"alignmentgroup\": \"True\", \"customdata\": [[\"USA\", \"North America\"]], \"hovertemplate\": \"Country/Region=%{customdata[0]}<br>TotalDeaths=%{y}<br>Continent=%{customdata[1]}<extra></extra>\", \"legendgroup\": \"USA\", \"marker\": {\"color\": \"#636efa\"}, \"name\": \"USA\", \"offsetgroup\": \"USA\", \"orientation\": \"v\", \"showlegend\": true, \"textposition\": \"auto\", \"type\": \"bar\", \"x\": [\"USA\"], \"xaxis\": \"x\", \"y\": [162804.0], \"yaxis\": \"y\"}, {\"alignmentgroup\": \"True\", \"customdata\": [[\"Brazil\", \"South America\"]], \"hovertemplate\": \"Country/Region=%{customdata[0]}<br>TotalDeaths=%{y}<br>Continent=%{customdata[1]}<extra></extra>\", \"legendgroup\": \"Brazil\", \"marker\": {\"color\": \"#EF553B\"}, \"name\": \"Brazil\", \"offsetgroup\": \"Brazil\", \"orientation\": \"v\", \"showlegend\": true, \"textposition\": \"auto\", \"type\": \"bar\", \"x\": [\"Brazil\"], \"xaxis\": \"x\", \"y\": [98644.0], \"yaxis\": \"y\"}, {\"alignmentgroup\": \"True\", \"customdata\": [[\"India\", \"Asia\"]], \"hovertemplate\": \"Country/Region=%{customdata[0]}<br>TotalDeaths=%{y}<br>Continent=%{customdata[1]}<extra></extra>\", \"legendgroup\": \"India\", \"marker\": {\"color\": \"#00cc96\"}, \"name\": \"India\", \"offsetgroup\": \"India\", \"orientation\": \"v\", \"showlegend\": true, \"textposition\": \"auto\", \"type\": \"bar\", \"x\": [\"India\"], \"xaxis\": \"x\", \"y\": [41638.0], \"yaxis\": \"y\"}, {\"alignmentgroup\": \"True\", \"customdata\": [[\"Russia\", \"Europe\"]], \"hovertemplate\": \"Country/Region=%{customdata[0]}<br>TotalDeaths=%{y}<br>Continent=%{customdata[1]}<extra></extra>\", \"legendgroup\": \"Russia\", \"marker\": {\"color\": \"#ab63fa\"}, \"name\": \"Russia\", \"offsetgroup\": \"Russia\", \"orientation\": \"v\", \"showlegend\": true, \"textposition\": \"auto\", \"type\": \"bar\", \"x\": [\"Russia\"], \"xaxis\": \"x\", \"y\": [14606.0], \"yaxis\": \"y\"}, {\"alignmentgroup\": \"True\", \"customdata\": [[\"South Africa\", \"Africa\"]], \"hovertemplate\": \"Country/Region=%{customdata[0]}<br>TotalDeaths=%{y}<br>Continent=%{customdata[1]}<extra></extra>\", \"legendgroup\": \"South Africa\", \"marker\": {\"color\": \"#FFA15A\"}, \"name\": \"South Africa\", \"offsetgroup\": \"South Africa\", \"orientation\": \"v\", \"showlegend\": true, \"textposition\": \"auto\", \"type\": \"bar\", \"x\": [\"South Africa\"], \"xaxis\": \"x\", \"y\": [9604.0], \"yaxis\": \"y\"}, {\"alignmentgroup\": \"True\", \"customdata\": [[\"Mexico\", \"North America\"]], \"hovertemplate\": \"Country/Region=%{customdata[0]}<br>TotalDeaths=%{y}<br>Continent=%{customdata[1]}<extra></extra>\", \"legendgroup\": \"Mexico\", \"marker\": {\"color\": \"#19d3f3\"}, \"name\": \"Mexico\", \"offsetgroup\": \"Mexico\", \"orientation\": \"v\", \"showlegend\": true, \"textposition\": \"auto\", \"type\": \"bar\", \"x\": [\"Mexico\"], \"xaxis\": \"x\", \"y\": [50517.0], \"yaxis\": \"y\"}, {\"alignmentgroup\": \"True\", \"customdata\": [[\"Peru\", \"South America\"]], \"hovertemplate\": \"Country/Region=%{customdata[0]}<br>TotalDeaths=%{y}<br>Continent=%{customdata[1]}<extra></extra>\", \"legendgroup\": \"Peru\", \"marker\": {\"color\": \"#FF6692\"}, \"name\": \"Peru\", \"offsetgroup\": \"Peru\", \"orientation\": \"v\", \"showlegend\": true, \"textposition\": \"auto\", \"type\": \"bar\", \"x\": [\"Peru\"], \"xaxis\": \"x\", \"y\": [20424.0], \"yaxis\": \"y\"}, {\"alignmentgroup\": \"True\", \"customdata\": [[\"Chile\", \"South America\"]], \"hovertemplate\": \"Country/Region=%{customdata[0]}<br>TotalDeaths=%{y}<br>Continent=%{customdata[1]}<extra></extra>\", \"legendgroup\": \"Chile\", \"marker\": {\"color\": \"#B6E880\"}, \"name\": \"Chile\", \"offsetgroup\": \"Chile\", \"orientation\": \"v\", \"showlegend\": true, \"textposition\": \"auto\", \"type\": \"bar\", \"x\": [\"Chile\"], \"xaxis\": \"x\", \"y\": [9889.0], \"yaxis\": \"y\"}, {\"alignmentgroup\": \"True\", \"customdata\": [[\"Colombia\", \"South America\"]], \"hovertemplate\": \"Country/Region=%{customdata[0]}<br>TotalDeaths=%{y}<br>Continent=%{customdata[1]}<extra></extra>\", \"legendgroup\": \"Colombia\", \"marker\": {\"color\": \"#FF97FF\"}, \"name\": \"Colombia\", \"offsetgroup\": \"Colombia\", \"orientation\": \"v\", \"showlegend\": true, \"textposition\": \"auto\", \"type\": \"bar\", \"x\": [\"Colombia\"], \"xaxis\": \"x\", \"y\": [11939.0], \"yaxis\": \"y\"}, {\"alignmentgroup\": \"True\", \"customdata\": [[\"Spain\", \"Europe\"]], \"hovertemplate\": \"Country/Region=%{customdata[0]}<br>TotalDeaths=%{y}<br>Continent=%{customdata[1]}<extra></extra>\", \"legendgroup\": \"Spain\", \"marker\": {\"color\": \"#FECB52\"}, \"name\": \"Spain\", \"offsetgroup\": \"Spain\", \"orientation\": \"v\", \"showlegend\": true, \"textposition\": \"auto\", \"type\": \"bar\", \"x\": [\"Spain\"], \"xaxis\": \"x\", \"y\": [28500.0], \"yaxis\": \"y\"}, {\"alignmentgroup\": \"True\", \"customdata\": [[\"Iran\", \"Asia\"]], \"hovertemplate\": \"Country/Region=%{customdata[0]}<br>TotalDeaths=%{y}<br>Continent=%{customdata[1]}<extra></extra>\", \"legendgroup\": \"Iran\", \"marker\": {\"color\": \"#636efa\"}, \"name\": \"Iran\", \"offsetgroup\": \"Iran\", \"orientation\": \"v\", \"showlegend\": true, \"textposition\": \"auto\", \"type\": \"bar\", \"x\": [\"Iran\"], \"xaxis\": \"x\", \"y\": [17976.0], \"yaxis\": \"y\"}, {\"alignmentgroup\": \"True\", \"customdata\": [[\"UK\", \"Europe\"]], \"hovertemplate\": \"Country/Region=%{customdata[0]}<br>TotalDeaths=%{y}<br>Continent=%{customdata[1]}<extra></extra>\", \"legendgroup\": \"UK\", \"marker\": {\"color\": \"#EF553B\"}, \"name\": \"UK\", \"offsetgroup\": \"UK\", \"orientation\": \"v\", \"showlegend\": true, \"textposition\": \"auto\", \"type\": \"bar\", \"x\": [\"UK\"], \"xaxis\": \"x\", \"y\": [46413.0], \"yaxis\": \"y\"}, {\"alignmentgroup\": \"True\", \"customdata\": [[\"Saudi Arabia\", \"Asia\"]], \"hovertemplate\": \"Country/Region=%{customdata[0]}<br>TotalDeaths=%{y}<br>Continent=%{customdata[1]}<extra></extra>\", \"legendgroup\": \"Saudi Arabia\", \"marker\": {\"color\": \"#00cc96\"}, \"name\": \"Saudi Arabia\", \"offsetgroup\": \"Saudi Arabia\", \"orientation\": \"v\", \"showlegend\": true, \"textposition\": \"auto\", \"type\": \"bar\", \"x\": [\"Saudi Arabia\"], \"xaxis\": \"x\", \"y\": [3055.0], \"yaxis\": \"y\"}, {\"alignmentgroup\": \"True\", \"customdata\": [[\"Pakistan\", \"Asia\"]], \"hovertemplate\": \"Country/Region=%{customdata[0]}<br>TotalDeaths=%{y}<br>Continent=%{customdata[1]}<extra></extra>\", \"legendgroup\": \"Pakistan\", \"marker\": {\"color\": \"#ab63fa\"}, \"name\": \"Pakistan\", \"offsetgroup\": \"Pakistan\", \"orientation\": \"v\", \"showlegend\": true, \"textposition\": \"auto\", \"type\": \"bar\", \"x\": [\"Pakistan\"], \"xaxis\": \"x\", \"y\": [6035.0], \"yaxis\": \"y\"}, {\"alignmentgroup\": \"True\", \"customdata\": [[\"Bangladesh\", \"Asia\"]], \"hovertemplate\": \"Country/Region=%{customdata[0]}<br>TotalDeaths=%{y}<br>Continent=%{customdata[1]}<extra></extra>\", \"legendgroup\": \"Bangladesh\", \"marker\": {\"color\": \"#FFA15A\"}, \"name\": \"Bangladesh\", \"offsetgroup\": \"Bangladesh\", \"orientation\": \"v\", \"showlegend\": true, \"textposition\": \"auto\", \"type\": \"bar\", \"x\": [\"Bangladesh\"], \"xaxis\": \"x\", \"y\": [3306.0], \"yaxis\": \"y\"}, {\"alignmentgroup\": \"True\", \"customdata\": [[\"Italy\", \"Europe\"]], \"hovertemplate\": \"Country/Region=%{customdata[0]}<br>TotalDeaths=%{y}<br>Continent=%{customdata[1]}<extra></extra>\", \"legendgroup\": \"Italy\", \"marker\": {\"color\": \"#19d3f3\"}, \"name\": \"Italy\", \"offsetgroup\": \"Italy\", \"orientation\": \"v\", \"showlegend\": true, \"textposition\": \"auto\", \"type\": \"bar\", \"x\": [\"Italy\"], \"xaxis\": \"x\", \"y\": [35187.0], \"yaxis\": \"y\"}, {\"alignmentgroup\": \"True\", \"customdata\": [[\"Turkey\", \"Asia\"]], \"hovertemplate\": \"Country/Region=%{customdata[0]}<br>TotalDeaths=%{y}<br>Continent=%{customdata[1]}<extra></extra>\", \"legendgroup\": \"Turkey\", \"marker\": {\"color\": \"#FF6692\"}, \"name\": \"Turkey\", \"offsetgroup\": \"Turkey\", \"orientation\": \"v\", \"showlegend\": true, \"textposition\": \"auto\", \"type\": \"bar\", \"x\": [\"Turkey\"], \"xaxis\": \"x\", \"y\": [5798.0], \"yaxis\": \"y\"}, {\"alignmentgroup\": \"True\", \"customdata\": [[\"Argentina\", \"South America\"]], \"hovertemplate\": \"Country/Region=%{customdata[0]}<br>TotalDeaths=%{y}<br>Continent=%{customdata[1]}<extra></extra>\", \"legendgroup\": \"Argentina\", \"marker\": {\"color\": \"#B6E880\"}, \"name\": \"Argentina\", \"offsetgroup\": \"Argentina\", \"orientation\": \"v\", \"showlegend\": true, \"textposition\": \"auto\", \"type\": \"bar\", \"x\": [\"Argentina\"], \"xaxis\": \"x\", \"y\": [4251.0], \"yaxis\": \"y\"}, {\"alignmentgroup\": \"True\", \"customdata\": [[\"Germany\", \"Europe\"]], \"hovertemplate\": \"Country/Region=%{customdata[0]}<br>TotalDeaths=%{y}<br>Continent=%{customdata[1]}<extra></extra>\", \"legendgroup\": \"Germany\", \"marker\": {\"color\": \"#FF97FF\"}, \"name\": \"Germany\", \"offsetgroup\": \"Germany\", \"orientation\": \"v\", \"showlegend\": true, \"textposition\": \"auto\", \"type\": \"bar\", \"x\": [\"Germany\"], \"xaxis\": \"x\", \"y\": [9252.0], \"yaxis\": \"y\"}, {\"alignmentgroup\": \"True\", \"customdata\": [[\"France\", \"Europe\"]], \"hovertemplate\": \"Country/Region=%{customdata[0]}<br>TotalDeaths=%{y}<br>Continent=%{customdata[1]}<extra></extra>\", \"legendgroup\": \"France\", \"marker\": {\"color\": \"#FECB52\"}, \"name\": \"France\", \"offsetgroup\": \"France\", \"orientation\": \"v\", \"showlegend\": true, \"textposition\": \"auto\", \"type\": \"bar\", \"x\": [\"France\"], \"xaxis\": \"x\", \"y\": [30312.0], \"yaxis\": \"y\"}],                        {\"barmode\": \"relative\", \"height\": 400, \"legend\": {\"title\": {\"text\": \"Country/Region\"}, \"tracegroupgap\": 0}, \"margin\": {\"t\": 60}, \"template\": {\"data\": {\"bar\": [{\"error_x\": {\"color\": \"#2a3f5f\"}, \"error_y\": {\"color\": \"#2a3f5f\"}, \"marker\": {\"line\": {\"color\": \"#E5ECF6\", \"width\": 0.5}}, \"type\": \"bar\"}], \"barpolar\": [{\"marker\": {\"line\": {\"color\": \"#E5ECF6\", \"width\": 0.5}}, \"type\": \"barpolar\"}], \"carpet\": [{\"aaxis\": {\"endlinecolor\": \"#2a3f5f\", \"gridcolor\": \"white\", \"linecolor\": \"white\", \"minorgridcolor\": \"white\", \"startlinecolor\": \"#2a3f5f\"}, \"baxis\": {\"endlinecolor\": \"#2a3f5f\", \"gridcolor\": \"white\", \"linecolor\": \"white\", \"minorgridcolor\": \"white\", \"startlinecolor\": \"#2a3f5f\"}, \"type\": \"carpet\"}], \"choropleth\": [{\"colorbar\": {\"outlinewidth\": 0, \"ticks\": \"\"}, \"type\": \"choropleth\"}], \"contour\": [{\"colorbar\": {\"outlinewidth\": 0, \"ticks\": \"\"}, \"colorscale\": [[0.0, \"#0d0887\"], [0.1111111111111111, \"#46039f\"], [0.2222222222222222, \"#7201a8\"], [0.3333333333333333, \"#9c179e\"], [0.4444444444444444, \"#bd3786\"], [0.5555555555555556, \"#d8576b\"], [0.6666666666666666, \"#ed7953\"], [0.7777777777777778, \"#fb9f3a\"], [0.8888888888888888, \"#fdca26\"], [1.0, \"#f0f921\"]], \"type\": \"contour\"}], \"contourcarpet\": [{\"colorbar\": {\"outlinewidth\": 0, \"ticks\": \"\"}, \"type\": \"contourcarpet\"}], \"heatmap\": [{\"colorbar\": {\"outlinewidth\": 0, \"ticks\": \"\"}, \"colorscale\": [[0.0, \"#0d0887\"], [0.1111111111111111, \"#46039f\"], [0.2222222222222222, \"#7201a8\"], [0.3333333333333333, \"#9c179e\"], [0.4444444444444444, \"#bd3786\"], [0.5555555555555556, \"#d8576b\"], [0.6666666666666666, \"#ed7953\"], [0.7777777777777778, \"#fb9f3a\"], [0.8888888888888888, \"#fdca26\"], [1.0, \"#f0f921\"]], \"type\": \"heatmap\"}], \"heatmapgl\": [{\"colorbar\": {\"outlinewidth\": 0, \"ticks\": \"\"}, \"colorscale\": [[0.0, \"#0d0887\"], [0.1111111111111111, \"#46039f\"], [0.2222222222222222, \"#7201a8\"], [0.3333333333333333, \"#9c179e\"], [0.4444444444444444, \"#bd3786\"], [0.5555555555555556, \"#d8576b\"], [0.6666666666666666, \"#ed7953\"], [0.7777777777777778, \"#fb9f3a\"], [0.8888888888888888, \"#fdca26\"], [1.0, \"#f0f921\"]], \"type\": \"heatmapgl\"}], \"histogram\": [{\"marker\": {\"colorbar\": {\"outlinewidth\": 0, \"ticks\": \"\"}}, \"type\": \"histogram\"}], \"histogram2d\": [{\"colorbar\": {\"outlinewidth\": 0, \"ticks\": \"\"}, \"colorscale\": [[0.0, \"#0d0887\"], [0.1111111111111111, \"#46039f\"], [0.2222222222222222, \"#7201a8\"], [0.3333333333333333, \"#9c179e\"], [0.4444444444444444, \"#bd3786\"], [0.5555555555555556, \"#d8576b\"], [0.6666666666666666, \"#ed7953\"], [0.7777777777777778, \"#fb9f3a\"], [0.8888888888888888, \"#fdca26\"], [1.0, \"#f0f921\"]], \"type\": \"histogram2d\"}], \"histogram2dcontour\": [{\"colorbar\": {\"outlinewidth\": 0, \"ticks\": \"\"}, \"colorscale\": [[0.0, \"#0d0887\"], [0.1111111111111111, \"#46039f\"], [0.2222222222222222, \"#7201a8\"], [0.3333333333333333, \"#9c179e\"], [0.4444444444444444, \"#bd3786\"], [0.5555555555555556, \"#d8576b\"], [0.6666666666666666, \"#ed7953\"], [0.7777777777777778, \"#fb9f3a\"], [0.8888888888888888, \"#fdca26\"], [1.0, \"#f0f921\"]], \"type\": \"histogram2dcontour\"}], \"mesh3d\": [{\"colorbar\": {\"outlinewidth\": 0, \"ticks\": \"\"}, \"type\": \"mesh3d\"}], \"parcoords\": [{\"line\": {\"colorbar\": {\"outlinewidth\": 0, \"ticks\": \"\"}}, \"type\": \"parcoords\"}], \"pie\": [{\"automargin\": true, \"type\": \"pie\"}], \"scatter\": [{\"marker\": {\"colorbar\": {\"outlinewidth\": 0, \"ticks\": \"\"}}, \"type\": \"scatter\"}], \"scatter3d\": [{\"line\": {\"colorbar\": {\"outlinewidth\": 0, \"ticks\": \"\"}}, \"marker\": {\"colorbar\": {\"outlinewidth\": 0, \"ticks\": \"\"}}, \"type\": \"scatter3d\"}], \"scattercarpet\": [{\"marker\": {\"colorbar\": {\"outlinewidth\": 0, \"ticks\": \"\"}}, \"type\": \"scattercarpet\"}], \"scattergeo\": [{\"marker\": {\"colorbar\": {\"outlinewidth\": 0, \"ticks\": \"\"}}, \"type\": \"scattergeo\"}], \"scattergl\": [{\"marker\": {\"colorbar\": {\"outlinewidth\": 0, \"ticks\": \"\"}}, \"type\": \"scattergl\"}], \"scattermapbox\": [{\"marker\": {\"colorbar\": {\"outlinewidth\": 0, \"ticks\": \"\"}}, \"type\": \"scattermapbox\"}], \"scatterpolar\": [{\"marker\": {\"colorbar\": {\"outlinewidth\": 0, \"ticks\": \"\"}}, \"type\": \"scatterpolar\"}], \"scatterpolargl\": [{\"marker\": {\"colorbar\": {\"outlinewidth\": 0, \"ticks\": \"\"}}, \"type\": \"scatterpolargl\"}], \"scatterternary\": [{\"marker\": {\"colorbar\": {\"outlinewidth\": 0, \"ticks\": \"\"}}, \"type\": \"scatterternary\"}], \"surface\": [{\"colorbar\": {\"outlinewidth\": 0, \"ticks\": \"\"}, \"colorscale\": [[0.0, \"#0d0887\"], [0.1111111111111111, \"#46039f\"], [0.2222222222222222, \"#7201a8\"], [0.3333333333333333, \"#9c179e\"], [0.4444444444444444, \"#bd3786\"], [0.5555555555555556, \"#d8576b\"], [0.6666666666666666, \"#ed7953\"], [0.7777777777777778, \"#fb9f3a\"], [0.8888888888888888, \"#fdca26\"], [1.0, \"#f0f921\"]], \"type\": \"surface\"}], \"table\": [{\"cells\": {\"fill\": {\"color\": \"#EBF0F8\"}, \"line\": {\"color\": \"white\"}}, \"header\": {\"fill\": {\"color\": \"#C8D4E3\"}, \"line\": {\"color\": \"white\"}}, \"type\": \"table\"}]}, \"layout\": {\"annotationdefaults\": {\"arrowcolor\": \"#2a3f5f\", \"arrowhead\": 0, \"arrowwidth\": 1}, \"coloraxis\": {\"colorbar\": {\"outlinewidth\": 0, \"ticks\": \"\"}}, \"colorscale\": {\"diverging\": [[0, \"#8e0152\"], [0.1, \"#c51b7d\"], [0.2, \"#de77ae\"], [0.3, \"#f1b6da\"], [0.4, \"#fde0ef\"], [0.5, \"#f7f7f7\"], [0.6, \"#e6f5d0\"], [0.7, \"#b8e186\"], [0.8, \"#7fbc41\"], [0.9, \"#4d9221\"], [1, \"#276419\"]], \"sequential\": [[0.0, \"#0d0887\"], [0.1111111111111111, \"#46039f\"], [0.2222222222222222, \"#7201a8\"], [0.3333333333333333, \"#9c179e\"], [0.4444444444444444, \"#bd3786\"], [0.5555555555555556, \"#d8576b\"], [0.6666666666666666, \"#ed7953\"], [0.7777777777777778, \"#fb9f3a\"], [0.8888888888888888, \"#fdca26\"], [1.0, \"#f0f921\"]], \"sequentialminus\": [[0.0, \"#0d0887\"], [0.1111111111111111, \"#46039f\"], [0.2222222222222222, \"#7201a8\"], [0.3333333333333333, \"#9c179e\"], [0.4444444444444444, \"#bd3786\"], [0.5555555555555556, \"#d8576b\"], [0.6666666666666666, \"#ed7953\"], [0.7777777777777778, \"#fb9f3a\"], [0.8888888888888888, \"#fdca26\"], [1.0, \"#f0f921\"]]}, \"colorway\": [\"#636efa\", \"#EF553B\", \"#00cc96\", \"#ab63fa\", \"#FFA15A\", \"#19d3f3\", \"#FF6692\", \"#B6E880\", \"#FF97FF\", \"#FECB52\"], \"font\": {\"color\": \"#2a3f5f\"}, \"geo\": {\"bgcolor\": \"white\", \"lakecolor\": \"white\", \"landcolor\": \"#E5ECF6\", \"showlakes\": true, \"showland\": true, \"subunitcolor\": \"white\"}, \"hoverlabel\": {\"align\": \"left\"}, \"hovermode\": \"closest\", \"mapbox\": {\"style\": \"light\"}, \"paper_bgcolor\": \"white\", \"plot_bgcolor\": \"#E5ECF6\", \"polar\": {\"angularaxis\": {\"gridcolor\": \"white\", \"linecolor\": \"white\", \"ticks\": \"\"}, \"bgcolor\": \"#E5ECF6\", \"radialaxis\": {\"gridcolor\": \"white\", \"linecolor\": \"white\", \"ticks\": \"\"}}, \"scene\": {\"xaxis\": {\"backgroundcolor\": \"#E5ECF6\", \"gridcolor\": \"white\", \"gridwidth\": 2, \"linecolor\": \"white\", \"showbackground\": true, \"ticks\": \"\", \"zerolinecolor\": \"white\"}, \"yaxis\": {\"backgroundcolor\": \"#E5ECF6\", \"gridcolor\": \"white\", \"gridwidth\": 2, \"linecolor\": \"white\", \"showbackground\": true, \"ticks\": \"\", \"zerolinecolor\": \"white\"}, \"zaxis\": {\"backgroundcolor\": \"#E5ECF6\", \"gridcolor\": \"white\", \"gridwidth\": 2, \"linecolor\": \"white\", \"showbackground\": true, \"ticks\": \"\", \"zerolinecolor\": \"white\"}}, \"shapedefaults\": {\"line\": {\"color\": \"#2a3f5f\"}}, \"ternary\": {\"aaxis\": {\"gridcolor\": \"white\", \"linecolor\": \"white\", \"ticks\": \"\"}, \"baxis\": {\"gridcolor\": \"white\", \"linecolor\": \"white\", \"ticks\": \"\"}, \"bgcolor\": \"#E5ECF6\", \"caxis\": {\"gridcolor\": \"white\", \"linecolor\": \"white\", \"ticks\": \"\"}}, \"title\": {\"x\": 0.05}, \"xaxis\": {\"automargin\": true, \"gridcolor\": \"white\", \"linecolor\": \"white\", \"ticks\": \"\", \"title\": {\"standoff\": 15}, \"zerolinecolor\": \"white\", \"zerolinewidth\": 2}, \"yaxis\": {\"automargin\": true, \"gridcolor\": \"white\", \"linecolor\": \"white\", \"ticks\": \"\", \"title\": {\"standoff\": 15}, \"zerolinecolor\": \"white\", \"zerolinewidth\": 2}}}, \"xaxis\": {\"anchor\": \"y\", \"categoryarray\": [\"USA\", \"Brazil\", \"India\", \"Russia\", \"South Africa\", \"Mexico\", \"Peru\", \"Chile\", \"Colombia\", \"Spain\", \"Iran\", \"UK\", \"Saudi Arabia\", \"Pakistan\", \"Bangladesh\", \"Italy\", \"Turkey\", \"Argentina\", \"Germany\", \"France\"], \"categoryorder\": \"array\", \"domain\": [0.0, 1.0], \"title\": {\"text\": \"Country/Region\"}}, \"yaxis\": {\"anchor\": \"x\", \"domain\": [0.0, 1.0], \"title\": {\"text\": \"TotalDeaths\"}}},                        {\"responsive\": true}                    ).then(function(){\n",
       "                            \n",
       "var gd = document.getElementById('19dba74b-1527-42bd-acc0-f3d1967ec253');\n",
       "var x = new MutationObserver(function (mutations, observer) {{\n",
       "        var display = window.getComputedStyle(gd).display;\n",
       "        if (!display || display === 'none') {{\n",
       "            console.log([gd, 'removed!']);\n",
       "            Plotly.purge(gd);\n",
       "            observer.disconnect();\n",
       "        }}\n",
       "}});\n",
       "\n",
       "// Listen for the removal of the full notebook cells\n",
       "var notebookContainer = gd.closest('#notebook-container');\n",
       "if (notebookContainer) {{\n",
       "    x.observe(notebookContainer, {childList: true});\n",
       "}}\n",
       "\n",
       "// Listen for the clearing of the current output cell\n",
       "var outputEl = gd.closest('.output');\n",
       "if (outputEl) {{\n",
       "    x.observe(outputEl, {childList: true});\n",
       "}}\n",
       "\n",
       "                        })                };                });            </script>        </div>"
      ]
     },
     "metadata": {},
     "output_type": "display_data"
    }
   ],
   "source": [
    "ex.bar(covid.head(20),x='Country/Region',y='TotalDeaths',color='Country/Region',height=400,hover_data=['Country/Region','Continent'])"
   ]
  },
  {
   "cell_type": "code",
   "execution_count": 107,
   "metadata": {},
   "outputs": [
    {
     "data": {
      "application/vnd.plotly.v1+json": {
       "config": {
        "plotlyServerURL": "https://plot.ly"
       },
       "data": [
        {
         "alignmentgroup": "True",
         "customdata": [
          [
           "USA",
           "North America"
          ],
          [
           "Brazil",
           "South America"
          ],
          [
           "India",
           "Asia"
          ],
          [
           "Russia",
           "Europe"
          ],
          [
           "South Africa",
           "Africa"
          ],
          [
           "Mexico",
           "North America"
          ],
          [
           "Peru",
           "South America"
          ],
          [
           "Chile",
           "South America"
          ],
          [
           "Colombia",
           "South America"
          ],
          [
           "Spain",
           "Europe"
          ],
          [
           "Iran",
           "Asia"
          ],
          [
           "UK",
           "Europe"
          ],
          [
           "Saudi Arabia",
           "Asia"
          ],
          [
           "Pakistan",
           "Asia"
          ],
          [
           "Bangladesh",
           "Asia"
          ],
          [
           "Italy",
           "Europe"
          ],
          [
           "Turkey",
           "Asia"
          ],
          [
           "Argentina",
           "South America"
          ],
          [
           "Germany",
           "Europe"
          ],
          [
           "France",
           "Europe"
          ]
         ],
         "hovertemplate": "TotalTests=%{marker.color}<br>Continent=%{customdata[1]}<br>Country/Region=%{customdata[0]}<extra></extra>",
         "legendgroup": "",
         "marker": {
          "color": [
           63139605,
           13206188,
           22149351,
           29716907,
           3149807,
           1056915,
           2493429,
           1760615,
           1801835,
           7064329,
           2612763,
           17515234,
           3635705,
           2058872,
           1225124,
           7099713,
           5081802,
           794544,
           8586648,
           3992206
          ],
          "coloraxis": "coloraxis"
         },
         "name": "",
         "offsetgroup": "",
         "orientation": "h",
         "showlegend": false,
         "textposition": "auto",
         "type": "bar",
         "x": [
          63139605,
          13206188,
          22149351,
          29716907,
          3149807,
          1056915,
          2493429,
          1760615,
          1801835,
          7064329,
          2612763,
          17515234,
          3635705,
          2058872,
          1225124,
          7099713,
          5081802,
          794544,
          8586648,
          3992206
         ],
         "xaxis": "x",
         "y": [
          "North America",
          "South America",
          "Asia",
          "Europe",
          "Africa",
          "North America",
          "South America",
          "South America",
          "South America",
          "Europe",
          "Asia",
          "Europe",
          "Asia",
          "Asia",
          "Asia",
          "Europe",
          "Asia",
          "South America",
          "Europe",
          "Europe"
         ],
         "yaxis": "y"
        }
       ],
       "layout": {
        "barmode": "relative",
        "coloraxis": {
         "colorbar": {
          "title": {
           "text": "TotalTests"
          }
         },
         "colorscale": [
          [
           0,
           "#0d0887"
          ],
          [
           0.1111111111111111,
           "#46039f"
          ],
          [
           0.2222222222222222,
           "#7201a8"
          ],
          [
           0.3333333333333333,
           "#9c179e"
          ],
          [
           0.4444444444444444,
           "#bd3786"
          ],
          [
           0.5555555555555556,
           "#d8576b"
          ],
          [
           0.6666666666666666,
           "#ed7953"
          ],
          [
           0.7777777777777778,
           "#fb9f3a"
          ],
          [
           0.8888888888888888,
           "#fdca26"
          ],
          [
           1,
           "#f0f921"
          ]
         ]
        },
        "height": 400,
        "legend": {
         "tracegroupgap": 0
        },
        "margin": {
         "t": 60
        },
        "template": {
         "data": {
          "bar": [
           {
            "error_x": {
             "color": "#2a3f5f"
            },
            "error_y": {
             "color": "#2a3f5f"
            },
            "marker": {
             "line": {
              "color": "#E5ECF6",
              "width": 0.5
             }
            },
            "type": "bar"
           }
          ],
          "barpolar": [
           {
            "marker": {
             "line": {
              "color": "#E5ECF6",
              "width": 0.5
             }
            },
            "type": "barpolar"
           }
          ],
          "carpet": [
           {
            "aaxis": {
             "endlinecolor": "#2a3f5f",
             "gridcolor": "white",
             "linecolor": "white",
             "minorgridcolor": "white",
             "startlinecolor": "#2a3f5f"
            },
            "baxis": {
             "endlinecolor": "#2a3f5f",
             "gridcolor": "white",
             "linecolor": "white",
             "minorgridcolor": "white",
             "startlinecolor": "#2a3f5f"
            },
            "type": "carpet"
           }
          ],
          "choropleth": [
           {
            "colorbar": {
             "outlinewidth": 0,
             "ticks": ""
            },
            "type": "choropleth"
           }
          ],
          "contour": [
           {
            "colorbar": {
             "outlinewidth": 0,
             "ticks": ""
            },
            "colorscale": [
             [
              0,
              "#0d0887"
             ],
             [
              0.1111111111111111,
              "#46039f"
             ],
             [
              0.2222222222222222,
              "#7201a8"
             ],
             [
              0.3333333333333333,
              "#9c179e"
             ],
             [
              0.4444444444444444,
              "#bd3786"
             ],
             [
              0.5555555555555556,
              "#d8576b"
             ],
             [
              0.6666666666666666,
              "#ed7953"
             ],
             [
              0.7777777777777778,
              "#fb9f3a"
             ],
             [
              0.8888888888888888,
              "#fdca26"
             ],
             [
              1,
              "#f0f921"
             ]
            ],
            "type": "contour"
           }
          ],
          "contourcarpet": [
           {
            "colorbar": {
             "outlinewidth": 0,
             "ticks": ""
            },
            "type": "contourcarpet"
           }
          ],
          "heatmap": [
           {
            "colorbar": {
             "outlinewidth": 0,
             "ticks": ""
            },
            "colorscale": [
             [
              0,
              "#0d0887"
             ],
             [
              0.1111111111111111,
              "#46039f"
             ],
             [
              0.2222222222222222,
              "#7201a8"
             ],
             [
              0.3333333333333333,
              "#9c179e"
             ],
             [
              0.4444444444444444,
              "#bd3786"
             ],
             [
              0.5555555555555556,
              "#d8576b"
             ],
             [
              0.6666666666666666,
              "#ed7953"
             ],
             [
              0.7777777777777778,
              "#fb9f3a"
             ],
             [
              0.8888888888888888,
              "#fdca26"
             ],
             [
              1,
              "#f0f921"
             ]
            ],
            "type": "heatmap"
           }
          ],
          "heatmapgl": [
           {
            "colorbar": {
             "outlinewidth": 0,
             "ticks": ""
            },
            "colorscale": [
             [
              0,
              "#0d0887"
             ],
             [
              0.1111111111111111,
              "#46039f"
             ],
             [
              0.2222222222222222,
              "#7201a8"
             ],
             [
              0.3333333333333333,
              "#9c179e"
             ],
             [
              0.4444444444444444,
              "#bd3786"
             ],
             [
              0.5555555555555556,
              "#d8576b"
             ],
             [
              0.6666666666666666,
              "#ed7953"
             ],
             [
              0.7777777777777778,
              "#fb9f3a"
             ],
             [
              0.8888888888888888,
              "#fdca26"
             ],
             [
              1,
              "#f0f921"
             ]
            ],
            "type": "heatmapgl"
           }
          ],
          "histogram": [
           {
            "marker": {
             "colorbar": {
              "outlinewidth": 0,
              "ticks": ""
             }
            },
            "type": "histogram"
           }
          ],
          "histogram2d": [
           {
            "colorbar": {
             "outlinewidth": 0,
             "ticks": ""
            },
            "colorscale": [
             [
              0,
              "#0d0887"
             ],
             [
              0.1111111111111111,
              "#46039f"
             ],
             [
              0.2222222222222222,
              "#7201a8"
             ],
             [
              0.3333333333333333,
              "#9c179e"
             ],
             [
              0.4444444444444444,
              "#bd3786"
             ],
             [
              0.5555555555555556,
              "#d8576b"
             ],
             [
              0.6666666666666666,
              "#ed7953"
             ],
             [
              0.7777777777777778,
              "#fb9f3a"
             ],
             [
              0.8888888888888888,
              "#fdca26"
             ],
             [
              1,
              "#f0f921"
             ]
            ],
            "type": "histogram2d"
           }
          ],
          "histogram2dcontour": [
           {
            "colorbar": {
             "outlinewidth": 0,
             "ticks": ""
            },
            "colorscale": [
             [
              0,
              "#0d0887"
             ],
             [
              0.1111111111111111,
              "#46039f"
             ],
             [
              0.2222222222222222,
              "#7201a8"
             ],
             [
              0.3333333333333333,
              "#9c179e"
             ],
             [
              0.4444444444444444,
              "#bd3786"
             ],
             [
              0.5555555555555556,
              "#d8576b"
             ],
             [
              0.6666666666666666,
              "#ed7953"
             ],
             [
              0.7777777777777778,
              "#fb9f3a"
             ],
             [
              0.8888888888888888,
              "#fdca26"
             ],
             [
              1,
              "#f0f921"
             ]
            ],
            "type": "histogram2dcontour"
           }
          ],
          "mesh3d": [
           {
            "colorbar": {
             "outlinewidth": 0,
             "ticks": ""
            },
            "type": "mesh3d"
           }
          ],
          "parcoords": [
           {
            "line": {
             "colorbar": {
              "outlinewidth": 0,
              "ticks": ""
             }
            },
            "type": "parcoords"
           }
          ],
          "pie": [
           {
            "automargin": true,
            "type": "pie"
           }
          ],
          "scatter": [
           {
            "marker": {
             "colorbar": {
              "outlinewidth": 0,
              "ticks": ""
             }
            },
            "type": "scatter"
           }
          ],
          "scatter3d": [
           {
            "line": {
             "colorbar": {
              "outlinewidth": 0,
              "ticks": ""
             }
            },
            "marker": {
             "colorbar": {
              "outlinewidth": 0,
              "ticks": ""
             }
            },
            "type": "scatter3d"
           }
          ],
          "scattercarpet": [
           {
            "marker": {
             "colorbar": {
              "outlinewidth": 0,
              "ticks": ""
             }
            },
            "type": "scattercarpet"
           }
          ],
          "scattergeo": [
           {
            "marker": {
             "colorbar": {
              "outlinewidth": 0,
              "ticks": ""
             }
            },
            "type": "scattergeo"
           }
          ],
          "scattergl": [
           {
            "marker": {
             "colorbar": {
              "outlinewidth": 0,
              "ticks": ""
             }
            },
            "type": "scattergl"
           }
          ],
          "scattermapbox": [
           {
            "marker": {
             "colorbar": {
              "outlinewidth": 0,
              "ticks": ""
             }
            },
            "type": "scattermapbox"
           }
          ],
          "scatterpolar": [
           {
            "marker": {
             "colorbar": {
              "outlinewidth": 0,
              "ticks": ""
             }
            },
            "type": "scatterpolar"
           }
          ],
          "scatterpolargl": [
           {
            "marker": {
             "colorbar": {
              "outlinewidth": 0,
              "ticks": ""
             }
            },
            "type": "scatterpolargl"
           }
          ],
          "scatterternary": [
           {
            "marker": {
             "colorbar": {
              "outlinewidth": 0,
              "ticks": ""
             }
            },
            "type": "scatterternary"
           }
          ],
          "surface": [
           {
            "colorbar": {
             "outlinewidth": 0,
             "ticks": ""
            },
            "colorscale": [
             [
              0,
              "#0d0887"
             ],
             [
              0.1111111111111111,
              "#46039f"
             ],
             [
              0.2222222222222222,
              "#7201a8"
             ],
             [
              0.3333333333333333,
              "#9c179e"
             ],
             [
              0.4444444444444444,
              "#bd3786"
             ],
             [
              0.5555555555555556,
              "#d8576b"
             ],
             [
              0.6666666666666666,
              "#ed7953"
             ],
             [
              0.7777777777777778,
              "#fb9f3a"
             ],
             [
              0.8888888888888888,
              "#fdca26"
             ],
             [
              1,
              "#f0f921"
             ]
            ],
            "type": "surface"
           }
          ],
          "table": [
           {
            "cells": {
             "fill": {
              "color": "#EBF0F8"
             },
             "line": {
              "color": "white"
             }
            },
            "header": {
             "fill": {
              "color": "#C8D4E3"
             },
             "line": {
              "color": "white"
             }
            },
            "type": "table"
           }
          ]
         },
         "layout": {
          "annotationdefaults": {
           "arrowcolor": "#2a3f5f",
           "arrowhead": 0,
           "arrowwidth": 1
          },
          "coloraxis": {
           "colorbar": {
            "outlinewidth": 0,
            "ticks": ""
           }
          },
          "colorscale": {
           "diverging": [
            [
             0,
             "#8e0152"
            ],
            [
             0.1,
             "#c51b7d"
            ],
            [
             0.2,
             "#de77ae"
            ],
            [
             0.3,
             "#f1b6da"
            ],
            [
             0.4,
             "#fde0ef"
            ],
            [
             0.5,
             "#f7f7f7"
            ],
            [
             0.6,
             "#e6f5d0"
            ],
            [
             0.7,
             "#b8e186"
            ],
            [
             0.8,
             "#7fbc41"
            ],
            [
             0.9,
             "#4d9221"
            ],
            [
             1,
             "#276419"
            ]
           ],
           "sequential": [
            [
             0,
             "#0d0887"
            ],
            [
             0.1111111111111111,
             "#46039f"
            ],
            [
             0.2222222222222222,
             "#7201a8"
            ],
            [
             0.3333333333333333,
             "#9c179e"
            ],
            [
             0.4444444444444444,
             "#bd3786"
            ],
            [
             0.5555555555555556,
             "#d8576b"
            ],
            [
             0.6666666666666666,
             "#ed7953"
            ],
            [
             0.7777777777777778,
             "#fb9f3a"
            ],
            [
             0.8888888888888888,
             "#fdca26"
            ],
            [
             1,
             "#f0f921"
            ]
           ],
           "sequentialminus": [
            [
             0,
             "#0d0887"
            ],
            [
             0.1111111111111111,
             "#46039f"
            ],
            [
             0.2222222222222222,
             "#7201a8"
            ],
            [
             0.3333333333333333,
             "#9c179e"
            ],
            [
             0.4444444444444444,
             "#bd3786"
            ],
            [
             0.5555555555555556,
             "#d8576b"
            ],
            [
             0.6666666666666666,
             "#ed7953"
            ],
            [
             0.7777777777777778,
             "#fb9f3a"
            ],
            [
             0.8888888888888888,
             "#fdca26"
            ],
            [
             1,
             "#f0f921"
            ]
           ]
          },
          "colorway": [
           "#636efa",
           "#EF553B",
           "#00cc96",
           "#ab63fa",
           "#FFA15A",
           "#19d3f3",
           "#FF6692",
           "#B6E880",
           "#FF97FF",
           "#FECB52"
          ],
          "font": {
           "color": "#2a3f5f"
          },
          "geo": {
           "bgcolor": "white",
           "lakecolor": "white",
           "landcolor": "#E5ECF6",
           "showlakes": true,
           "showland": true,
           "subunitcolor": "white"
          },
          "hoverlabel": {
           "align": "left"
          },
          "hovermode": "closest",
          "mapbox": {
           "style": "light"
          },
          "paper_bgcolor": "white",
          "plot_bgcolor": "#E5ECF6",
          "polar": {
           "angularaxis": {
            "gridcolor": "white",
            "linecolor": "white",
            "ticks": ""
           },
           "bgcolor": "#E5ECF6",
           "radialaxis": {
            "gridcolor": "white",
            "linecolor": "white",
            "ticks": ""
           }
          },
          "scene": {
           "xaxis": {
            "backgroundcolor": "#E5ECF6",
            "gridcolor": "white",
            "gridwidth": 2,
            "linecolor": "white",
            "showbackground": true,
            "ticks": "",
            "zerolinecolor": "white"
           },
           "yaxis": {
            "backgroundcolor": "#E5ECF6",
            "gridcolor": "white",
            "gridwidth": 2,
            "linecolor": "white",
            "showbackground": true,
            "ticks": "",
            "zerolinecolor": "white"
           },
           "zaxis": {
            "backgroundcolor": "#E5ECF6",
            "gridcolor": "white",
            "gridwidth": 2,
            "linecolor": "white",
            "showbackground": true,
            "ticks": "",
            "zerolinecolor": "white"
           }
          },
          "shapedefaults": {
           "line": {
            "color": "#2a3f5f"
           }
          },
          "ternary": {
           "aaxis": {
            "gridcolor": "white",
            "linecolor": "white",
            "ticks": ""
           },
           "baxis": {
            "gridcolor": "white",
            "linecolor": "white",
            "ticks": ""
           },
           "bgcolor": "#E5ECF6",
           "caxis": {
            "gridcolor": "white",
            "linecolor": "white",
            "ticks": ""
           }
          },
          "title": {
           "x": 0.05
          },
          "xaxis": {
           "automargin": true,
           "gridcolor": "white",
           "linecolor": "white",
           "ticks": "",
           "title": {
            "standoff": 15
           },
           "zerolinecolor": "white",
           "zerolinewidth": 2
          },
          "yaxis": {
           "automargin": true,
           "gridcolor": "white",
           "linecolor": "white",
           "ticks": "",
           "title": {
            "standoff": 15
           },
           "zerolinecolor": "white",
           "zerolinewidth": 2
          }
         }
        },
        "xaxis": {
         "anchor": "y",
         "domain": [
          0,
          1
         ],
         "title": {
          "text": "TotalTests"
         }
        },
        "yaxis": {
         "anchor": "x",
         "domain": [
          0,
          1
         ],
         "title": {
          "text": "Continent"
         }
        }
       }
      },
      "text/html": [
       "<div>                            <div id=\"8cd50e9b-91ab-48ae-9b1b-9604e1d77f87\" class=\"plotly-graph-div\" style=\"height:400px; width:100%;\"></div>            <script type=\"text/javascript\">                require([\"plotly\"], function(Plotly) {                    window.PLOTLYENV=window.PLOTLYENV || {};                                    if (document.getElementById(\"8cd50e9b-91ab-48ae-9b1b-9604e1d77f87\")) {                    Plotly.newPlot(                        \"8cd50e9b-91ab-48ae-9b1b-9604e1d77f87\",                        [{\"alignmentgroup\": \"True\", \"customdata\": [[\"USA\", \"North America\"], [\"Brazil\", \"South America\"], [\"India\", \"Asia\"], [\"Russia\", \"Europe\"], [\"South Africa\", \"Africa\"], [\"Mexico\", \"North America\"], [\"Peru\", \"South America\"], [\"Chile\", \"South America\"], [\"Colombia\", \"South America\"], [\"Spain\", \"Europe\"], [\"Iran\", \"Asia\"], [\"UK\", \"Europe\"], [\"Saudi Arabia\", \"Asia\"], [\"Pakistan\", \"Asia\"], [\"Bangladesh\", \"Asia\"], [\"Italy\", \"Europe\"], [\"Turkey\", \"Asia\"], [\"Argentina\", \"South America\"], [\"Germany\", \"Europe\"], [\"France\", \"Europe\"]], \"hovertemplate\": \"TotalTests=%{marker.color}<br>Continent=%{customdata[1]}<br>Country/Region=%{customdata[0]}<extra></extra>\", \"legendgroup\": \"\", \"marker\": {\"color\": [63139605.0, 13206188.0, 22149351.0, 29716907.0, 3149807.0, 1056915.0, 2493429.0, 1760615.0, 1801835.0, 7064329.0, 2612763.0, 17515234.0, 3635705.0, 2058872.0, 1225124.0, 7099713.0, 5081802.0, 794544.0, 8586648.0, 3992206.0], \"coloraxis\": \"coloraxis\"}, \"name\": \"\", \"offsetgroup\": \"\", \"orientation\": \"h\", \"showlegend\": false, \"textposition\": \"auto\", \"type\": \"bar\", \"x\": [63139605.0, 13206188.0, 22149351.0, 29716907.0, 3149807.0, 1056915.0, 2493429.0, 1760615.0, 1801835.0, 7064329.0, 2612763.0, 17515234.0, 3635705.0, 2058872.0, 1225124.0, 7099713.0, 5081802.0, 794544.0, 8586648.0, 3992206.0], \"xaxis\": \"x\", \"y\": [\"North America\", \"South America\", \"Asia\", \"Europe\", \"Africa\", \"North America\", \"South America\", \"South America\", \"South America\", \"Europe\", \"Asia\", \"Europe\", \"Asia\", \"Asia\", \"Asia\", \"Europe\", \"Asia\", \"South America\", \"Europe\", \"Europe\"], \"yaxis\": \"y\"}],                        {\"barmode\": \"relative\", \"coloraxis\": {\"colorbar\": {\"title\": {\"text\": \"TotalTests\"}}, \"colorscale\": [[0.0, \"#0d0887\"], [0.1111111111111111, \"#46039f\"], [0.2222222222222222, \"#7201a8\"], [0.3333333333333333, \"#9c179e\"], [0.4444444444444444, \"#bd3786\"], [0.5555555555555556, \"#d8576b\"], [0.6666666666666666, \"#ed7953\"], [0.7777777777777778, \"#fb9f3a\"], [0.8888888888888888, \"#fdca26\"], [1.0, \"#f0f921\"]]}, \"height\": 400, \"legend\": {\"tracegroupgap\": 0}, \"margin\": {\"t\": 60}, \"template\": {\"data\": {\"bar\": [{\"error_x\": {\"color\": \"#2a3f5f\"}, \"error_y\": {\"color\": \"#2a3f5f\"}, \"marker\": {\"line\": {\"color\": \"#E5ECF6\", \"width\": 0.5}}, \"type\": \"bar\"}], \"barpolar\": [{\"marker\": {\"line\": {\"color\": \"#E5ECF6\", \"width\": 0.5}}, \"type\": \"barpolar\"}], \"carpet\": [{\"aaxis\": {\"endlinecolor\": \"#2a3f5f\", \"gridcolor\": \"white\", \"linecolor\": \"white\", \"minorgridcolor\": \"white\", \"startlinecolor\": \"#2a3f5f\"}, \"baxis\": {\"endlinecolor\": \"#2a3f5f\", \"gridcolor\": \"white\", \"linecolor\": \"white\", \"minorgridcolor\": \"white\", \"startlinecolor\": \"#2a3f5f\"}, \"type\": \"carpet\"}], \"choropleth\": [{\"colorbar\": {\"outlinewidth\": 0, \"ticks\": \"\"}, \"type\": \"choropleth\"}], \"contour\": [{\"colorbar\": {\"outlinewidth\": 0, \"ticks\": \"\"}, \"colorscale\": [[0.0, \"#0d0887\"], [0.1111111111111111, \"#46039f\"], [0.2222222222222222, \"#7201a8\"], [0.3333333333333333, \"#9c179e\"], [0.4444444444444444, \"#bd3786\"], [0.5555555555555556, \"#d8576b\"], [0.6666666666666666, \"#ed7953\"], [0.7777777777777778, \"#fb9f3a\"], [0.8888888888888888, \"#fdca26\"], [1.0, \"#f0f921\"]], \"type\": \"contour\"}], \"contourcarpet\": [{\"colorbar\": {\"outlinewidth\": 0, \"ticks\": \"\"}, \"type\": \"contourcarpet\"}], \"heatmap\": [{\"colorbar\": {\"outlinewidth\": 0, \"ticks\": \"\"}, \"colorscale\": [[0.0, \"#0d0887\"], [0.1111111111111111, \"#46039f\"], [0.2222222222222222, \"#7201a8\"], [0.3333333333333333, \"#9c179e\"], [0.4444444444444444, \"#bd3786\"], [0.5555555555555556, \"#d8576b\"], [0.6666666666666666, \"#ed7953\"], [0.7777777777777778, \"#fb9f3a\"], [0.8888888888888888, \"#fdca26\"], [1.0, \"#f0f921\"]], \"type\": \"heatmap\"}], \"heatmapgl\": [{\"colorbar\": {\"outlinewidth\": 0, \"ticks\": \"\"}, \"colorscale\": [[0.0, \"#0d0887\"], [0.1111111111111111, \"#46039f\"], [0.2222222222222222, \"#7201a8\"], [0.3333333333333333, \"#9c179e\"], [0.4444444444444444, \"#bd3786\"], [0.5555555555555556, \"#d8576b\"], [0.6666666666666666, \"#ed7953\"], [0.7777777777777778, \"#fb9f3a\"], [0.8888888888888888, \"#fdca26\"], [1.0, \"#f0f921\"]], \"type\": \"heatmapgl\"}], \"histogram\": [{\"marker\": {\"colorbar\": {\"outlinewidth\": 0, \"ticks\": \"\"}}, \"type\": \"histogram\"}], \"histogram2d\": [{\"colorbar\": {\"outlinewidth\": 0, \"ticks\": \"\"}, \"colorscale\": [[0.0, \"#0d0887\"], [0.1111111111111111, \"#46039f\"], [0.2222222222222222, \"#7201a8\"], [0.3333333333333333, \"#9c179e\"], [0.4444444444444444, \"#bd3786\"], [0.5555555555555556, \"#d8576b\"], [0.6666666666666666, \"#ed7953\"], [0.7777777777777778, \"#fb9f3a\"], [0.8888888888888888, \"#fdca26\"], [1.0, \"#f0f921\"]], \"type\": \"histogram2d\"}], \"histogram2dcontour\": [{\"colorbar\": {\"outlinewidth\": 0, \"ticks\": \"\"}, \"colorscale\": [[0.0, \"#0d0887\"], [0.1111111111111111, \"#46039f\"], [0.2222222222222222, \"#7201a8\"], [0.3333333333333333, \"#9c179e\"], [0.4444444444444444, \"#bd3786\"], [0.5555555555555556, \"#d8576b\"], [0.6666666666666666, \"#ed7953\"], [0.7777777777777778, \"#fb9f3a\"], [0.8888888888888888, \"#fdca26\"], [1.0, \"#f0f921\"]], \"type\": \"histogram2dcontour\"}], \"mesh3d\": [{\"colorbar\": {\"outlinewidth\": 0, \"ticks\": \"\"}, \"type\": \"mesh3d\"}], \"parcoords\": [{\"line\": {\"colorbar\": {\"outlinewidth\": 0, \"ticks\": \"\"}}, \"type\": \"parcoords\"}], \"pie\": [{\"automargin\": true, \"type\": \"pie\"}], \"scatter\": [{\"marker\": {\"colorbar\": {\"outlinewidth\": 0, \"ticks\": \"\"}}, \"type\": \"scatter\"}], \"scatter3d\": [{\"line\": {\"colorbar\": {\"outlinewidth\": 0, \"ticks\": \"\"}}, \"marker\": {\"colorbar\": {\"outlinewidth\": 0, \"ticks\": \"\"}}, \"type\": \"scatter3d\"}], \"scattercarpet\": [{\"marker\": {\"colorbar\": {\"outlinewidth\": 0, \"ticks\": \"\"}}, \"type\": \"scattercarpet\"}], \"scattergeo\": [{\"marker\": {\"colorbar\": {\"outlinewidth\": 0, \"ticks\": \"\"}}, \"type\": \"scattergeo\"}], \"scattergl\": [{\"marker\": {\"colorbar\": {\"outlinewidth\": 0, \"ticks\": \"\"}}, \"type\": \"scattergl\"}], \"scattermapbox\": [{\"marker\": {\"colorbar\": {\"outlinewidth\": 0, \"ticks\": \"\"}}, \"type\": \"scattermapbox\"}], \"scatterpolar\": [{\"marker\": {\"colorbar\": {\"outlinewidth\": 0, \"ticks\": \"\"}}, \"type\": \"scatterpolar\"}], \"scatterpolargl\": [{\"marker\": {\"colorbar\": {\"outlinewidth\": 0, \"ticks\": \"\"}}, \"type\": \"scatterpolargl\"}], \"scatterternary\": [{\"marker\": {\"colorbar\": {\"outlinewidth\": 0, \"ticks\": \"\"}}, \"type\": \"scatterternary\"}], \"surface\": [{\"colorbar\": {\"outlinewidth\": 0, \"ticks\": \"\"}, \"colorscale\": [[0.0, \"#0d0887\"], [0.1111111111111111, \"#46039f\"], [0.2222222222222222, \"#7201a8\"], [0.3333333333333333, \"#9c179e\"], [0.4444444444444444, \"#bd3786\"], [0.5555555555555556, \"#d8576b\"], [0.6666666666666666, \"#ed7953\"], [0.7777777777777778, \"#fb9f3a\"], [0.8888888888888888, \"#fdca26\"], [1.0, \"#f0f921\"]], \"type\": \"surface\"}], \"table\": [{\"cells\": {\"fill\": {\"color\": \"#EBF0F8\"}, \"line\": {\"color\": \"white\"}}, \"header\": {\"fill\": {\"color\": \"#C8D4E3\"}, \"line\": {\"color\": \"white\"}}, \"type\": \"table\"}]}, \"layout\": {\"annotationdefaults\": {\"arrowcolor\": \"#2a3f5f\", \"arrowhead\": 0, \"arrowwidth\": 1}, \"coloraxis\": {\"colorbar\": {\"outlinewidth\": 0, \"ticks\": \"\"}}, \"colorscale\": {\"diverging\": [[0, \"#8e0152\"], [0.1, \"#c51b7d\"], [0.2, \"#de77ae\"], [0.3, \"#f1b6da\"], [0.4, \"#fde0ef\"], [0.5, \"#f7f7f7\"], [0.6, \"#e6f5d0\"], [0.7, \"#b8e186\"], [0.8, \"#7fbc41\"], [0.9, \"#4d9221\"], [1, \"#276419\"]], \"sequential\": [[0.0, \"#0d0887\"], [0.1111111111111111, \"#46039f\"], [0.2222222222222222, \"#7201a8\"], [0.3333333333333333, \"#9c179e\"], [0.4444444444444444, \"#bd3786\"], [0.5555555555555556, \"#d8576b\"], [0.6666666666666666, \"#ed7953\"], [0.7777777777777778, \"#fb9f3a\"], [0.8888888888888888, \"#fdca26\"], [1.0, \"#f0f921\"]], \"sequentialminus\": [[0.0, \"#0d0887\"], [0.1111111111111111, \"#46039f\"], [0.2222222222222222, \"#7201a8\"], [0.3333333333333333, \"#9c179e\"], [0.4444444444444444, \"#bd3786\"], [0.5555555555555556, \"#d8576b\"], [0.6666666666666666, \"#ed7953\"], [0.7777777777777778, \"#fb9f3a\"], [0.8888888888888888, \"#fdca26\"], [1.0, \"#f0f921\"]]}, \"colorway\": [\"#636efa\", \"#EF553B\", \"#00cc96\", \"#ab63fa\", \"#FFA15A\", \"#19d3f3\", \"#FF6692\", \"#B6E880\", \"#FF97FF\", \"#FECB52\"], \"font\": {\"color\": \"#2a3f5f\"}, \"geo\": {\"bgcolor\": \"white\", \"lakecolor\": \"white\", \"landcolor\": \"#E5ECF6\", \"showlakes\": true, \"showland\": true, \"subunitcolor\": \"white\"}, \"hoverlabel\": {\"align\": \"left\"}, \"hovermode\": \"closest\", \"mapbox\": {\"style\": \"light\"}, \"paper_bgcolor\": \"white\", \"plot_bgcolor\": \"#E5ECF6\", \"polar\": {\"angularaxis\": {\"gridcolor\": \"white\", \"linecolor\": \"white\", \"ticks\": \"\"}, \"bgcolor\": \"#E5ECF6\", \"radialaxis\": {\"gridcolor\": \"white\", \"linecolor\": \"white\", \"ticks\": \"\"}}, \"scene\": {\"xaxis\": {\"backgroundcolor\": \"#E5ECF6\", \"gridcolor\": \"white\", \"gridwidth\": 2, \"linecolor\": \"white\", \"showbackground\": true, \"ticks\": \"\", \"zerolinecolor\": \"white\"}, \"yaxis\": {\"backgroundcolor\": \"#E5ECF6\", \"gridcolor\": \"white\", \"gridwidth\": 2, \"linecolor\": \"white\", \"showbackground\": true, \"ticks\": \"\", \"zerolinecolor\": \"white\"}, \"zaxis\": {\"backgroundcolor\": \"#E5ECF6\", \"gridcolor\": \"white\", \"gridwidth\": 2, \"linecolor\": \"white\", \"showbackground\": true, \"ticks\": \"\", \"zerolinecolor\": \"white\"}}, \"shapedefaults\": {\"line\": {\"color\": \"#2a3f5f\"}}, \"ternary\": {\"aaxis\": {\"gridcolor\": \"white\", \"linecolor\": \"white\", \"ticks\": \"\"}, \"baxis\": {\"gridcolor\": \"white\", \"linecolor\": \"white\", \"ticks\": \"\"}, \"bgcolor\": \"#E5ECF6\", \"caxis\": {\"gridcolor\": \"white\", \"linecolor\": \"white\", \"ticks\": \"\"}}, \"title\": {\"x\": 0.05}, \"xaxis\": {\"automargin\": true, \"gridcolor\": \"white\", \"linecolor\": \"white\", \"ticks\": \"\", \"title\": {\"standoff\": 15}, \"zerolinecolor\": \"white\", \"zerolinewidth\": 2}, \"yaxis\": {\"automargin\": true, \"gridcolor\": \"white\", \"linecolor\": \"white\", \"ticks\": \"\", \"title\": {\"standoff\": 15}, \"zerolinecolor\": \"white\", \"zerolinewidth\": 2}}}, \"xaxis\": {\"anchor\": \"y\", \"domain\": [0.0, 1.0], \"title\": {\"text\": \"TotalTests\"}}, \"yaxis\": {\"anchor\": \"x\", \"domain\": [0.0, 1.0], \"title\": {\"text\": \"Continent\"}}},                        {\"responsive\": true}                    ).then(function(){\n",
       "                            \n",
       "var gd = document.getElementById('8cd50e9b-91ab-48ae-9b1b-9604e1d77f87');\n",
       "var x = new MutationObserver(function (mutations, observer) {{\n",
       "        var display = window.getComputedStyle(gd).display;\n",
       "        if (!display || display === 'none') {{\n",
       "            console.log([gd, 'removed!']);\n",
       "            Plotly.purge(gd);\n",
       "            observer.disconnect();\n",
       "        }}\n",
       "}});\n",
       "\n",
       "// Listen for the removal of the full notebook cells\n",
       "var notebookContainer = gd.closest('#notebook-container');\n",
       "if (notebookContainer) {{\n",
       "    x.observe(notebookContainer, {childList: true});\n",
       "}}\n",
       "\n",
       "// Listen for the clearing of the current output cell\n",
       "var outputEl = gd.closest('.output');\n",
       "if (outputEl) {{\n",
       "    x.observe(outputEl, {childList: true});\n",
       "}}\n",
       "\n",
       "                        })                };                });            </script>        </div>"
      ]
     },
     "metadata": {},
     "output_type": "display_data"
    }
   ],
   "source": [
    "ex.bar(covid.head(20),x='TotalTests',y='Continent',color='TotalTests',height=400,hover_data=['Country/Region','Continent'])"
   ]
  },
  {
   "cell_type": "code",
   "execution_count": 108,
   "metadata": {},
   "outputs": [
    {
     "data": {
      "application/vnd.plotly.v1+json": {
       "config": {
        "plotlyServerURL": "https://plot.ly"
       },
       "data": [
        {
         "alignmentgroup": "True",
         "customdata": [
          [
           "USA",
           "North America"
          ]
         ],
         "hovertemplate": "Country/Region=%{customdata[0]}<br>TotalCases=%{y}<br>Continent=%{customdata[1]}<extra></extra>",
         "legendgroup": "USA",
         "marker": {
          "color": "#636efa"
         },
         "name": "USA",
         "offsetgroup": "USA",
         "orientation": "v",
         "showlegend": true,
         "textposition": "auto",
         "type": "bar",
         "x": [
          "USA"
         ],
         "xaxis": "x",
         "y": [
          5032179
         ],
         "yaxis": "y"
        },
        {
         "alignmentgroup": "True",
         "customdata": [
          [
           "Brazil",
           "South America"
          ]
         ],
         "hovertemplate": "Country/Region=%{customdata[0]}<br>TotalCases=%{y}<br>Continent=%{customdata[1]}<extra></extra>",
         "legendgroup": "Brazil",
         "marker": {
          "color": "#EF553B"
         },
         "name": "Brazil",
         "offsetgroup": "Brazil",
         "orientation": "v",
         "showlegend": true,
         "textposition": "auto",
         "type": "bar",
         "x": [
          "Brazil"
         ],
         "xaxis": "x",
         "y": [
          2917562
         ],
         "yaxis": "y"
        },
        {
         "alignmentgroup": "True",
         "customdata": [
          [
           "India",
           "Asia"
          ]
         ],
         "hovertemplate": "Country/Region=%{customdata[0]}<br>TotalCases=%{y}<br>Continent=%{customdata[1]}<extra></extra>",
         "legendgroup": "India",
         "marker": {
          "color": "#00cc96"
         },
         "name": "India",
         "offsetgroup": "India",
         "orientation": "v",
         "showlegend": true,
         "textposition": "auto",
         "type": "bar",
         "x": [
          "India"
         ],
         "xaxis": "x",
         "y": [
          2025409
         ],
         "yaxis": "y"
        },
        {
         "alignmentgroup": "True",
         "customdata": [
          [
           "Russia",
           "Europe"
          ]
         ],
         "hovertemplate": "Country/Region=%{customdata[0]}<br>TotalCases=%{y}<br>Continent=%{customdata[1]}<extra></extra>",
         "legendgroup": "Russia",
         "marker": {
          "color": "#ab63fa"
         },
         "name": "Russia",
         "offsetgroup": "Russia",
         "orientation": "v",
         "showlegend": true,
         "textposition": "auto",
         "type": "bar",
         "x": [
          "Russia"
         ],
         "xaxis": "x",
         "y": [
          871894
         ],
         "yaxis": "y"
        },
        {
         "alignmentgroup": "True",
         "customdata": [
          [
           "South Africa",
           "Africa"
          ]
         ],
         "hovertemplate": "Country/Region=%{customdata[0]}<br>TotalCases=%{y}<br>Continent=%{customdata[1]}<extra></extra>",
         "legendgroup": "South Africa",
         "marker": {
          "color": "#FFA15A"
         },
         "name": "South Africa",
         "offsetgroup": "South Africa",
         "orientation": "v",
         "showlegend": true,
         "textposition": "auto",
         "type": "bar",
         "x": [
          "South Africa"
         ],
         "xaxis": "x",
         "y": [
          538184
         ],
         "yaxis": "y"
        },
        {
         "alignmentgroup": "True",
         "customdata": [
          [
           "Mexico",
           "North America"
          ]
         ],
         "hovertemplate": "Country/Region=%{customdata[0]}<br>TotalCases=%{y}<br>Continent=%{customdata[1]}<extra></extra>",
         "legendgroup": "Mexico",
         "marker": {
          "color": "#19d3f3"
         },
         "name": "Mexico",
         "offsetgroup": "Mexico",
         "orientation": "v",
         "showlegend": true,
         "textposition": "auto",
         "type": "bar",
         "x": [
          "Mexico"
         ],
         "xaxis": "x",
         "y": [
          462690
         ],
         "yaxis": "y"
        },
        {
         "alignmentgroup": "True",
         "customdata": [
          [
           "Peru",
           "South America"
          ]
         ],
         "hovertemplate": "Country/Region=%{customdata[0]}<br>TotalCases=%{y}<br>Continent=%{customdata[1]}<extra></extra>",
         "legendgroup": "Peru",
         "marker": {
          "color": "#FF6692"
         },
         "name": "Peru",
         "offsetgroup": "Peru",
         "orientation": "v",
         "showlegend": true,
         "textposition": "auto",
         "type": "bar",
         "x": [
          "Peru"
         ],
         "xaxis": "x",
         "y": [
          455409
         ],
         "yaxis": "y"
        },
        {
         "alignmentgroup": "True",
         "customdata": [
          [
           "Chile",
           "South America"
          ]
         ],
         "hovertemplate": "Country/Region=%{customdata[0]}<br>TotalCases=%{y}<br>Continent=%{customdata[1]}<extra></extra>",
         "legendgroup": "Chile",
         "marker": {
          "color": "#B6E880"
         },
         "name": "Chile",
         "offsetgroup": "Chile",
         "orientation": "v",
         "showlegend": true,
         "textposition": "auto",
         "type": "bar",
         "x": [
          "Chile"
         ],
         "xaxis": "x",
         "y": [
          366671
         ],
         "yaxis": "y"
        },
        {
         "alignmentgroup": "True",
         "customdata": [
          [
           "Colombia",
           "South America"
          ]
         ],
         "hovertemplate": "Country/Region=%{customdata[0]}<br>TotalCases=%{y}<br>Continent=%{customdata[1]}<extra></extra>",
         "legendgroup": "Colombia",
         "marker": {
          "color": "#FF97FF"
         },
         "name": "Colombia",
         "offsetgroup": "Colombia",
         "orientation": "v",
         "showlegend": true,
         "textposition": "auto",
         "type": "bar",
         "x": [
          "Colombia"
         ],
         "xaxis": "x",
         "y": [
          357710
         ],
         "yaxis": "y"
        },
        {
         "alignmentgroup": "True",
         "customdata": [
          [
           "Spain",
           "Europe"
          ]
         ],
         "hovertemplate": "Country/Region=%{customdata[0]}<br>TotalCases=%{y}<br>Continent=%{customdata[1]}<extra></extra>",
         "legendgroup": "Spain",
         "marker": {
          "color": "#FECB52"
         },
         "name": "Spain",
         "offsetgroup": "Spain",
         "orientation": "v",
         "showlegend": true,
         "textposition": "auto",
         "type": "bar",
         "x": [
          "Spain"
         ],
         "xaxis": "x",
         "y": [
          354530
         ],
         "yaxis": "y"
        },
        {
         "alignmentgroup": "True",
         "customdata": [
          [
           "Iran",
           "Asia"
          ]
         ],
         "hovertemplate": "Country/Region=%{customdata[0]}<br>TotalCases=%{y}<br>Continent=%{customdata[1]}<extra></extra>",
         "legendgroup": "Iran",
         "marker": {
          "color": "#636efa"
         },
         "name": "Iran",
         "offsetgroup": "Iran",
         "orientation": "v",
         "showlegend": true,
         "textposition": "auto",
         "type": "bar",
         "x": [
          "Iran"
         ],
         "xaxis": "x",
         "y": [
          320117
         ],
         "yaxis": "y"
        },
        {
         "alignmentgroup": "True",
         "customdata": [
          [
           "UK",
           "Europe"
          ]
         ],
         "hovertemplate": "Country/Region=%{customdata[0]}<br>TotalCases=%{y}<br>Continent=%{customdata[1]}<extra></extra>",
         "legendgroup": "UK",
         "marker": {
          "color": "#EF553B"
         },
         "name": "UK",
         "offsetgroup": "UK",
         "orientation": "v",
         "showlegend": true,
         "textposition": "auto",
         "type": "bar",
         "x": [
          "UK"
         ],
         "xaxis": "x",
         "y": [
          308134
         ],
         "yaxis": "y"
        },
        {
         "alignmentgroup": "True",
         "customdata": [
          [
           "Saudi Arabia",
           "Asia"
          ]
         ],
         "hovertemplate": "Country/Region=%{customdata[0]}<br>TotalCases=%{y}<br>Continent=%{customdata[1]}<extra></extra>",
         "legendgroup": "Saudi Arabia",
         "marker": {
          "color": "#00cc96"
         },
         "name": "Saudi Arabia",
         "offsetgroup": "Saudi Arabia",
         "orientation": "v",
         "showlegend": true,
         "textposition": "auto",
         "type": "bar",
         "x": [
          "Saudi Arabia"
         ],
         "xaxis": "x",
         "y": [
          284226
         ],
         "yaxis": "y"
        },
        {
         "alignmentgroup": "True",
         "customdata": [
          [
           "Pakistan",
           "Asia"
          ]
         ],
         "hovertemplate": "Country/Region=%{customdata[0]}<br>TotalCases=%{y}<br>Continent=%{customdata[1]}<extra></extra>",
         "legendgroup": "Pakistan",
         "marker": {
          "color": "#ab63fa"
         },
         "name": "Pakistan",
         "offsetgroup": "Pakistan",
         "orientation": "v",
         "showlegend": true,
         "textposition": "auto",
         "type": "bar",
         "x": [
          "Pakistan"
         ],
         "xaxis": "x",
         "y": [
          281863
         ],
         "yaxis": "y"
        },
        {
         "alignmentgroup": "True",
         "customdata": [
          [
           "Bangladesh",
           "Asia"
          ]
         ],
         "hovertemplate": "Country/Region=%{customdata[0]}<br>TotalCases=%{y}<br>Continent=%{customdata[1]}<extra></extra>",
         "legendgroup": "Bangladesh",
         "marker": {
          "color": "#FFA15A"
         },
         "name": "Bangladesh",
         "offsetgroup": "Bangladesh",
         "orientation": "v",
         "showlegend": true,
         "textposition": "auto",
         "type": "bar",
         "x": [
          "Bangladesh"
         ],
         "xaxis": "x",
         "y": [
          249651
         ],
         "yaxis": "y"
        },
        {
         "alignmentgroup": "True",
         "customdata": [
          [
           "Italy",
           "Europe"
          ]
         ],
         "hovertemplate": "Country/Region=%{customdata[0]}<br>TotalCases=%{y}<br>Continent=%{customdata[1]}<extra></extra>",
         "legendgroup": "Italy",
         "marker": {
          "color": "#19d3f3"
         },
         "name": "Italy",
         "offsetgroup": "Italy",
         "orientation": "v",
         "showlegend": true,
         "textposition": "auto",
         "type": "bar",
         "x": [
          "Italy"
         ],
         "xaxis": "x",
         "y": [
          249204
         ],
         "yaxis": "y"
        },
        {
         "alignmentgroup": "True",
         "customdata": [
          [
           "Turkey",
           "Asia"
          ]
         ],
         "hovertemplate": "Country/Region=%{customdata[0]}<br>TotalCases=%{y}<br>Continent=%{customdata[1]}<extra></extra>",
         "legendgroup": "Turkey",
         "marker": {
          "color": "#FF6692"
         },
         "name": "Turkey",
         "offsetgroup": "Turkey",
         "orientation": "v",
         "showlegend": true,
         "textposition": "auto",
         "type": "bar",
         "x": [
          "Turkey"
         ],
         "xaxis": "x",
         "y": [
          237265
         ],
         "yaxis": "y"
        },
        {
         "alignmentgroup": "True",
         "customdata": [
          [
           "Argentina",
           "South America"
          ]
         ],
         "hovertemplate": "Country/Region=%{customdata[0]}<br>TotalCases=%{y}<br>Continent=%{customdata[1]}<extra></extra>",
         "legendgroup": "Argentina",
         "marker": {
          "color": "#B6E880"
         },
         "name": "Argentina",
         "offsetgroup": "Argentina",
         "orientation": "v",
         "showlegend": true,
         "textposition": "auto",
         "type": "bar",
         "x": [
          "Argentina"
         ],
         "xaxis": "x",
         "y": [
          228195
         ],
         "yaxis": "y"
        },
        {
         "alignmentgroup": "True",
         "customdata": [
          [
           "Germany",
           "Europe"
          ]
         ],
         "hovertemplate": "Country/Region=%{customdata[0]}<br>TotalCases=%{y}<br>Continent=%{customdata[1]}<extra></extra>",
         "legendgroup": "Germany",
         "marker": {
          "color": "#FF97FF"
         },
         "name": "Germany",
         "offsetgroup": "Germany",
         "orientation": "v",
         "showlegend": true,
         "textposition": "auto",
         "type": "bar",
         "x": [
          "Germany"
         ],
         "xaxis": "x",
         "y": [
          215210
         ],
         "yaxis": "y"
        },
        {
         "alignmentgroup": "True",
         "customdata": [
          [
           "France",
           "Europe"
          ]
         ],
         "hovertemplate": "Country/Region=%{customdata[0]}<br>TotalCases=%{y}<br>Continent=%{customdata[1]}<extra></extra>",
         "legendgroup": "France",
         "marker": {
          "color": "#FECB52"
         },
         "name": "France",
         "offsetgroup": "France",
         "orientation": "v",
         "showlegend": true,
         "textposition": "auto",
         "type": "bar",
         "x": [
          "France"
         ],
         "xaxis": "x",
         "y": [
          195633
         ],
         "yaxis": "y"
        },
        {
         "alignmentgroup": "True",
         "customdata": [
          [
           "Iraq",
           "Asia"
          ]
         ],
         "hovertemplate": "Country/Region=%{customdata[0]}<br>TotalCases=%{y}<br>Continent=%{customdata[1]}<extra></extra>",
         "legendgroup": "Iraq",
         "marker": {
          "color": "#636efa"
         },
         "name": "Iraq",
         "offsetgroup": "Iraq",
         "orientation": "v",
         "showlegend": true,
         "textposition": "auto",
         "type": "bar",
         "x": [
          "Iraq"
         ],
         "xaxis": "x",
         "y": [
          140603
         ],
         "yaxis": "y"
        },
        {
         "alignmentgroup": "True",
         "customdata": [
          [
           "Philippines",
           "Asia"
          ]
         ],
         "hovertemplate": "Country/Region=%{customdata[0]}<br>TotalCases=%{y}<br>Continent=%{customdata[1]}<extra></extra>",
         "legendgroup": "Philippines",
         "marker": {
          "color": "#EF553B"
         },
         "name": "Philippines",
         "offsetgroup": "Philippines",
         "orientation": "v",
         "showlegend": true,
         "textposition": "auto",
         "type": "bar",
         "x": [
          "Philippines"
         ],
         "xaxis": "x",
         "y": [
          119460
         ],
         "yaxis": "y"
        },
        {
         "alignmentgroup": "True",
         "customdata": [
          [
           "Indonesia",
           "Asia"
          ]
         ],
         "hovertemplate": "Country/Region=%{customdata[0]}<br>TotalCases=%{y}<br>Continent=%{customdata[1]}<extra></extra>",
         "legendgroup": "Indonesia",
         "marker": {
          "color": "#00cc96"
         },
         "name": "Indonesia",
         "offsetgroup": "Indonesia",
         "orientation": "v",
         "showlegend": true,
         "textposition": "auto",
         "type": "bar",
         "x": [
          "Indonesia"
         ],
         "xaxis": "x",
         "y": [
          118753
         ],
         "yaxis": "y"
        },
        {
         "alignmentgroup": "True",
         "customdata": [
          [
           "Canada",
           "North America"
          ]
         ],
         "hovertemplate": "Country/Region=%{customdata[0]}<br>TotalCases=%{y}<br>Continent=%{customdata[1]}<extra></extra>",
         "legendgroup": "Canada",
         "marker": {
          "color": "#ab63fa"
         },
         "name": "Canada",
         "offsetgroup": "Canada",
         "orientation": "v",
         "showlegend": true,
         "textposition": "auto",
         "type": "bar",
         "x": [
          "Canada"
         ],
         "xaxis": "x",
         "y": [
          118561
         ],
         "yaxis": "y"
        },
        {
         "alignmentgroup": "True",
         "customdata": [
          [
           "Qatar",
           "Asia"
          ]
         ],
         "hovertemplate": "Country/Region=%{customdata[0]}<br>TotalCases=%{y}<br>Continent=%{customdata[1]}<extra></extra>",
         "legendgroup": "Qatar",
         "marker": {
          "color": "#FFA15A"
         },
         "name": "Qatar",
         "offsetgroup": "Qatar",
         "orientation": "v",
         "showlegend": true,
         "textposition": "auto",
         "type": "bar",
         "x": [
          "Qatar"
         ],
         "xaxis": "x",
         "y": [
          112092
         ],
         "yaxis": "y"
        },
        {
         "alignmentgroup": "True",
         "customdata": [
          [
           "Kazakhstan",
           "Asia"
          ]
         ],
         "hovertemplate": "Country/Region=%{customdata[0]}<br>TotalCases=%{y}<br>Continent=%{customdata[1]}<extra></extra>",
         "legendgroup": "Kazakhstan",
         "marker": {
          "color": "#19d3f3"
         },
         "name": "Kazakhstan",
         "offsetgroup": "Kazakhstan",
         "orientation": "v",
         "showlegend": true,
         "textposition": "auto",
         "type": "bar",
         "x": [
          "Kazakhstan"
         ],
         "xaxis": "x",
         "y": [
          95942
         ],
         "yaxis": "y"
        },
        {
         "alignmentgroup": "True",
         "customdata": [
          [
           "Egypt",
           "Africa"
          ]
         ],
         "hovertemplate": "Country/Region=%{customdata[0]}<br>TotalCases=%{y}<br>Continent=%{customdata[1]}<extra></extra>",
         "legendgroup": "Egypt",
         "marker": {
          "color": "#FF6692"
         },
         "name": "Egypt",
         "offsetgroup": "Egypt",
         "orientation": "v",
         "showlegend": true,
         "textposition": "auto",
         "type": "bar",
         "x": [
          "Egypt"
         ],
         "xaxis": "x",
         "y": [
          95006
         ],
         "yaxis": "y"
        },
        {
         "alignmentgroup": "True",
         "customdata": [
          [
           "Ecuador",
           "South America"
          ]
         ],
         "hovertemplate": "Country/Region=%{customdata[0]}<br>TotalCases=%{y}<br>Continent=%{customdata[1]}<extra></extra>",
         "legendgroup": "Ecuador",
         "marker": {
          "color": "#B6E880"
         },
         "name": "Ecuador",
         "offsetgroup": "Ecuador",
         "orientation": "v",
         "showlegend": true,
         "textposition": "auto",
         "type": "bar",
         "x": [
          "Ecuador"
         ],
         "xaxis": "x",
         "y": [
          90537
         ],
         "yaxis": "y"
        },
        {
         "alignmentgroup": "True",
         "customdata": [
          [
           "Bolivia",
           "South America"
          ]
         ],
         "hovertemplate": "Country/Region=%{customdata[0]}<br>TotalCases=%{y}<br>Continent=%{customdata[1]}<extra></extra>",
         "legendgroup": "Bolivia",
         "marker": {
          "color": "#FF97FF"
         },
         "name": "Bolivia",
         "offsetgroup": "Bolivia",
         "orientation": "v",
         "showlegend": true,
         "textposition": "auto",
         "type": "bar",
         "x": [
          "Bolivia"
         ],
         "xaxis": "x",
         "y": [
          86423
         ],
         "yaxis": "y"
        },
        {
         "alignmentgroup": "True",
         "customdata": [
          [
           "Sweden",
           "Europe"
          ]
         ],
         "hovertemplate": "Country/Region=%{customdata[0]}<br>TotalCases=%{y}<br>Continent=%{customdata[1]}<extra></extra>",
         "legendgroup": "Sweden",
         "marker": {
          "color": "#FECB52"
         },
         "name": "Sweden",
         "offsetgroup": "Sweden",
         "orientation": "v",
         "showlegend": true,
         "textposition": "auto",
         "type": "bar",
         "x": [
          "Sweden"
         ],
         "xaxis": "x",
         "y": [
          81967
         ],
         "yaxis": "y"
        },
        {
         "alignmentgroup": "True",
         "customdata": [
          [
           "Oman",
           "Asia"
          ]
         ],
         "hovertemplate": "Country/Region=%{customdata[0]}<br>TotalCases=%{y}<br>Continent=%{customdata[1]}<extra></extra>",
         "legendgroup": "Oman",
         "marker": {
          "color": "#636efa"
         },
         "name": "Oman",
         "offsetgroup": "Oman",
         "orientation": "v",
         "showlegend": true,
         "textposition": "auto",
         "type": "bar",
         "x": [
          "Oman"
         ],
         "xaxis": "x",
         "y": [
          80713
         ],
         "yaxis": "y"
        },
        {
         "alignmentgroup": "True",
         "customdata": [
          [
           "Israel",
           "Asia"
          ]
         ],
         "hovertemplate": "Country/Region=%{customdata[0]}<br>TotalCases=%{y}<br>Continent=%{customdata[1]}<extra></extra>",
         "legendgroup": "Israel",
         "marker": {
          "color": "#EF553B"
         },
         "name": "Israel",
         "offsetgroup": "Israel",
         "orientation": "v",
         "showlegend": true,
         "textposition": "auto",
         "type": "bar",
         "x": [
          "Israel"
         ],
         "xaxis": "x",
         "y": [
          79559
         ],
         "yaxis": "y"
        },
        {
         "alignmentgroup": "True",
         "customdata": [
          [
           "Ukraine",
           "Europe"
          ]
         ],
         "hovertemplate": "Country/Region=%{customdata[0]}<br>TotalCases=%{y}<br>Continent=%{customdata[1]}<extra></extra>",
         "legendgroup": "Ukraine",
         "marker": {
          "color": "#00cc96"
         },
         "name": "Ukraine",
         "offsetgroup": "Ukraine",
         "orientation": "v",
         "showlegend": true,
         "textposition": "auto",
         "type": "bar",
         "x": [
          "Ukraine"
         ],
         "xaxis": "x",
         "y": [
          76808
         ],
         "yaxis": "y"
        },
        {
         "alignmentgroup": "True",
         "customdata": [
          [
           "Dominican Republic",
           "North America"
          ]
         ],
         "hovertemplate": "Country/Region=%{customdata[0]}<br>TotalCases=%{y}<br>Continent=%{customdata[1]}<extra></extra>",
         "legendgroup": "Dominican Republic",
         "marker": {
          "color": "#ab63fa"
         },
         "name": "Dominican Republic",
         "offsetgroup": "Dominican Republic",
         "orientation": "v",
         "showlegend": true,
         "textposition": "auto",
         "type": "bar",
         "x": [
          "Dominican Republic"
         ],
         "xaxis": "x",
         "y": [
          76536
         ],
         "yaxis": "y"
        },
        {
         "alignmentgroup": "True",
         "customdata": [
          [
           "Panama",
           "North America"
          ]
         ],
         "hovertemplate": "Country/Region=%{customdata[0]}<br>TotalCases=%{y}<br>Continent=%{customdata[1]}<extra></extra>",
         "legendgroup": "Panama",
         "marker": {
          "color": "#FFA15A"
         },
         "name": "Panama",
         "offsetgroup": "Panama",
         "orientation": "v",
         "showlegend": true,
         "textposition": "auto",
         "type": "bar",
         "x": [
          "Panama"
         ],
         "xaxis": "x",
         "y": [
          71418
         ],
         "yaxis": "y"
        },
        {
         "alignmentgroup": "True",
         "customdata": [
          [
           "Belgium",
           "Europe"
          ]
         ],
         "hovertemplate": "Country/Region=%{customdata[0]}<br>TotalCases=%{y}<br>Continent=%{customdata[1]}<extra></extra>",
         "legendgroup": "Belgium",
         "marker": {
          "color": "#19d3f3"
         },
         "name": "Belgium",
         "offsetgroup": "Belgium",
         "orientation": "v",
         "showlegend": true,
         "textposition": "auto",
         "type": "bar",
         "x": [
          "Belgium"
         ],
         "xaxis": "x",
         "y": [
          71158
         ],
         "yaxis": "y"
        },
        {
         "alignmentgroup": "True",
         "customdata": [
          [
           "Kuwait",
           "Asia"
          ]
         ],
         "hovertemplate": "Country/Region=%{customdata[0]}<br>TotalCases=%{y}<br>Continent=%{customdata[1]}<extra></extra>",
         "legendgroup": "Kuwait",
         "marker": {
          "color": "#FF6692"
         },
         "name": "Kuwait",
         "offsetgroup": "Kuwait",
         "orientation": "v",
         "showlegend": true,
         "textposition": "auto",
         "type": "bar",
         "x": [
          "Kuwait"
         ],
         "xaxis": "x",
         "y": [
          70045
         ],
         "yaxis": "y"
        },
        {
         "alignmentgroup": "True",
         "customdata": [
          [
           "Belarus",
           "Europe"
          ]
         ],
         "hovertemplate": "Country/Region=%{customdata[0]}<br>TotalCases=%{y}<br>Continent=%{customdata[1]}<extra></extra>",
         "legendgroup": "Belarus",
         "marker": {
          "color": "#B6E880"
         },
         "name": "Belarus",
         "offsetgroup": "Belarus",
         "orientation": "v",
         "showlegend": true,
         "textposition": "auto",
         "type": "bar",
         "x": [
          "Belarus"
         ],
         "xaxis": "x",
         "y": [
          68503
         ],
         "yaxis": "y"
        },
        {
         "alignmentgroup": "True",
         "customdata": [
          [
           "UAE",
           "Asia"
          ]
         ],
         "hovertemplate": "Country/Region=%{customdata[0]}<br>TotalCases=%{y}<br>Continent=%{customdata[1]}<extra></extra>",
         "legendgroup": "UAE",
         "marker": {
          "color": "#FF97FF"
         },
         "name": "UAE",
         "offsetgroup": "UAE",
         "orientation": "v",
         "showlegend": true,
         "textposition": "auto",
         "type": "bar",
         "x": [
          "UAE"
         ],
         "xaxis": "x",
         "y": [
          61845
         ],
         "yaxis": "y"
        },
        {
         "alignmentgroup": "True",
         "customdata": [
          [
           "Romania",
           "Europe"
          ]
         ],
         "hovertemplate": "Country/Region=%{customdata[0]}<br>TotalCases=%{y}<br>Continent=%{customdata[1]}<extra></extra>",
         "legendgroup": "Romania",
         "marker": {
          "color": "#FECB52"
         },
         "name": "Romania",
         "offsetgroup": "Romania",
         "orientation": "v",
         "showlegend": true,
         "textposition": "auto",
         "type": "bar",
         "x": [
          "Romania"
         ],
         "xaxis": "x",
         "y": [
          57895
         ],
         "yaxis": "y"
        },
        {
         "alignmentgroup": "True",
         "customdata": [
          [
           "Netherlands",
           "Europe"
          ]
         ],
         "hovertemplate": "Country/Region=%{customdata[0]}<br>TotalCases=%{y}<br>Continent=%{customdata[1]}<extra></extra>",
         "legendgroup": "Netherlands",
         "marker": {
          "color": "#636efa"
         },
         "name": "Netherlands",
         "offsetgroup": "Netherlands",
         "orientation": "v",
         "showlegend": true,
         "textposition": "auto",
         "type": "bar",
         "x": [
          "Netherlands"
         ],
         "xaxis": "x",
         "y": [
          56982
         ],
         "yaxis": "y"
        },
        {
         "alignmentgroup": "True",
         "customdata": [
          [
           "Singapore",
           "Asia"
          ]
         ],
         "hovertemplate": "Country/Region=%{customdata[0]}<br>TotalCases=%{y}<br>Continent=%{customdata[1]}<extra></extra>",
         "legendgroup": "Singapore",
         "marker": {
          "color": "#EF553B"
         },
         "name": "Singapore",
         "offsetgroup": "Singapore",
         "orientation": "v",
         "showlegend": true,
         "textposition": "auto",
         "type": "bar",
         "x": [
          "Singapore"
         ],
         "xaxis": "x",
         "y": [
          54555
         ],
         "yaxis": "y"
        },
        {
         "alignmentgroup": "True",
         "customdata": [
          [
           "Guatemala",
           "North America"
          ]
         ],
         "hovertemplate": "Country/Region=%{customdata[0]}<br>TotalCases=%{y}<br>Continent=%{customdata[1]}<extra></extra>",
         "legendgroup": "Guatemala",
         "marker": {
          "color": "#00cc96"
         },
         "name": "Guatemala",
         "offsetgroup": "Guatemala",
         "orientation": "v",
         "showlegend": true,
         "textposition": "auto",
         "type": "bar",
         "x": [
          "Guatemala"
         ],
         "xaxis": "x",
         "y": [
          54339
         ],
         "yaxis": "y"
        },
        {
         "alignmentgroup": "True",
         "customdata": [
          [
           "Portugal",
           "Europe"
          ]
         ],
         "hovertemplate": "Country/Region=%{customdata[0]}<br>TotalCases=%{y}<br>Continent=%{customdata[1]}<extra></extra>",
         "legendgroup": "Portugal",
         "marker": {
          "color": "#ab63fa"
         },
         "name": "Portugal",
         "offsetgroup": "Portugal",
         "orientation": "v",
         "showlegend": true,
         "textposition": "auto",
         "type": "bar",
         "x": [
          "Portugal"
         ],
         "xaxis": "x",
         "y": [
          52061
         ],
         "yaxis": "y"
        },
        {
         "alignmentgroup": "True",
         "customdata": [
          [
           "Poland",
           "Europe"
          ]
         ],
         "hovertemplate": "Country/Region=%{customdata[0]}<br>TotalCases=%{y}<br>Continent=%{customdata[1]}<extra></extra>",
         "legendgroup": "Poland",
         "marker": {
          "color": "#FFA15A"
         },
         "name": "Poland",
         "offsetgroup": "Poland",
         "orientation": "v",
         "showlegend": true,
         "textposition": "auto",
         "type": "bar",
         "x": [
          "Poland"
         ],
         "xaxis": "x",
         "y": [
          49515
         ],
         "yaxis": "y"
        },
        {
         "alignmentgroup": "True",
         "customdata": [
          [
           "Nigeria",
           "Africa"
          ]
         ],
         "hovertemplate": "Country/Region=%{customdata[0]}<br>TotalCases=%{y}<br>Continent=%{customdata[1]}<extra></extra>",
         "legendgroup": "Nigeria",
         "marker": {
          "color": "#19d3f3"
         },
         "name": "Nigeria",
         "offsetgroup": "Nigeria",
         "orientation": "v",
         "showlegend": true,
         "textposition": "auto",
         "type": "bar",
         "x": [
          "Nigeria"
         ],
         "xaxis": "x",
         "y": [
          45244
         ],
         "yaxis": "y"
        },
        {
         "alignmentgroup": "True",
         "customdata": [
          [
           "Honduras",
           "North America"
          ]
         ],
         "hovertemplate": "Country/Region=%{customdata[0]}<br>TotalCases=%{y}<br>Continent=%{customdata[1]}<extra></extra>",
         "legendgroup": "Honduras",
         "marker": {
          "color": "#FF6692"
         },
         "name": "Honduras",
         "offsetgroup": "Honduras",
         "orientation": "v",
         "showlegend": true,
         "textposition": "auto",
         "type": "bar",
         "x": [
          "Honduras"
         ],
         "xaxis": "x",
         "y": [
          45098
         ],
         "yaxis": "y"
        },
        {
         "alignmentgroup": "True",
         "customdata": [
          [
           "Bahrain",
           "Asia"
          ]
         ],
         "hovertemplate": "Country/Region=%{customdata[0]}<br>TotalCases=%{y}<br>Continent=%{customdata[1]}<extra></extra>",
         "legendgroup": "Bahrain",
         "marker": {
          "color": "#B6E880"
         },
         "name": "Bahrain",
         "offsetgroup": "Bahrain",
         "orientation": "v",
         "showlegend": true,
         "textposition": "auto",
         "type": "bar",
         "x": [
          "Bahrain"
         ],
         "xaxis": "x",
         "y": [
          42889
         ],
         "yaxis": "y"
        },
        {
         "alignmentgroup": "True",
         "customdata": [
          [
           "Japan",
           "Asia"
          ]
         ],
         "hovertemplate": "Country/Region=%{customdata[0]}<br>TotalCases=%{y}<br>Continent=%{customdata[1]}<extra></extra>",
         "legendgroup": "Japan",
         "marker": {
          "color": "#FF97FF"
         },
         "name": "Japan",
         "offsetgroup": "Japan",
         "orientation": "v",
         "showlegend": true,
         "textposition": "auto",
         "type": "bar",
         "x": [
          "Japan"
         ],
         "xaxis": "x",
         "y": [
          42263
         ],
         "yaxis": "y"
        },
        {
         "alignmentgroup": "True",
         "customdata": [
          [
           "Armenia",
           "Asia"
          ]
         ],
         "hovertemplate": "Country/Region=%{customdata[0]}<br>TotalCases=%{y}<br>Continent=%{customdata[1]}<extra></extra>",
         "legendgroup": "Armenia",
         "marker": {
          "color": "#FECB52"
         },
         "name": "Armenia",
         "offsetgroup": "Armenia",
         "orientation": "v",
         "showlegend": true,
         "textposition": "auto",
         "type": "bar",
         "x": [
          "Armenia"
         ],
         "xaxis": "x",
         "y": [
          39819
         ],
         "yaxis": "y"
        },
        {
         "alignmentgroup": "True",
         "customdata": [
          [
           "Ghana",
           "Africa"
          ]
         ],
         "hovertemplate": "Country/Region=%{customdata[0]}<br>TotalCases=%{y}<br>Continent=%{customdata[1]}<extra></extra>",
         "legendgroup": "Ghana",
         "marker": {
          "color": "#636efa"
         },
         "name": "Ghana",
         "offsetgroup": "Ghana",
         "orientation": "v",
         "showlegend": true,
         "textposition": "auto",
         "type": "bar",
         "x": [
          "Ghana"
         ],
         "xaxis": "x",
         "y": [
          39642
         ],
         "yaxis": "y"
        },
        {
         "alignmentgroup": "True",
         "customdata": [
          [
           "Kyrgyzstan",
           "Asia"
          ]
         ],
         "hovertemplate": "Country/Region=%{customdata[0]}<br>TotalCases=%{y}<br>Continent=%{customdata[1]}<extra></extra>",
         "legendgroup": "Kyrgyzstan",
         "marker": {
          "color": "#EF553B"
         },
         "name": "Kyrgyzstan",
         "offsetgroup": "Kyrgyzstan",
         "orientation": "v",
         "showlegend": true,
         "textposition": "auto",
         "type": "bar",
         "x": [
          "Kyrgyzstan"
         ],
         "xaxis": "x",
         "y": [
          38659
         ],
         "yaxis": "y"
        },
        {
         "alignmentgroup": "True",
         "customdata": [
          [
           "Afghanistan",
           "Asia"
          ]
         ],
         "hovertemplate": "Country/Region=%{customdata[0]}<br>TotalCases=%{y}<br>Continent=%{customdata[1]}<extra></extra>",
         "legendgroup": "Afghanistan",
         "marker": {
          "color": "#00cc96"
         },
         "name": "Afghanistan",
         "offsetgroup": "Afghanistan",
         "orientation": "v",
         "showlegend": true,
         "textposition": "auto",
         "type": "bar",
         "x": [
          "Afghanistan"
         ],
         "xaxis": "x",
         "y": [
          36896
         ],
         "yaxis": "y"
        },
        {
         "alignmentgroup": "True",
         "customdata": [
          [
           "Switzerland",
           "Europe"
          ]
         ],
         "hovertemplate": "Country/Region=%{customdata[0]}<br>TotalCases=%{y}<br>Continent=%{customdata[1]}<extra></extra>",
         "legendgroup": "Switzerland",
         "marker": {
          "color": "#ab63fa"
         },
         "name": "Switzerland",
         "offsetgroup": "Switzerland",
         "orientation": "v",
         "showlegend": true,
         "textposition": "auto",
         "type": "bar",
         "x": [
          "Switzerland"
         ],
         "xaxis": "x",
         "y": [
          36108
         ],
         "yaxis": "y"
        },
        {
         "alignmentgroup": "True",
         "customdata": [
          [
           "Algeria",
           "Africa"
          ]
         ],
         "hovertemplate": "Country/Region=%{customdata[0]}<br>TotalCases=%{y}<br>Continent=%{customdata[1]}<extra></extra>",
         "legendgroup": "Algeria",
         "marker": {
          "color": "#FFA15A"
         },
         "name": "Algeria",
         "offsetgroup": "Algeria",
         "orientation": "v",
         "showlegend": true,
         "textposition": "auto",
         "type": "bar",
         "x": [
          "Algeria"
         ],
         "xaxis": "x",
         "y": [
          33626
         ],
         "yaxis": "y"
        },
        {
         "alignmentgroup": "True",
         "customdata": [
          [
           "Azerbaijan",
           "Asia"
          ]
         ],
         "hovertemplate": "Country/Region=%{customdata[0]}<br>TotalCases=%{y}<br>Continent=%{customdata[1]}<extra></extra>",
         "legendgroup": "Azerbaijan",
         "marker": {
          "color": "#19d3f3"
         },
         "name": "Azerbaijan",
         "offsetgroup": "Azerbaijan",
         "orientation": "v",
         "showlegend": true,
         "textposition": "auto",
         "type": "bar",
         "x": [
          "Azerbaijan"
         ],
         "xaxis": "x",
         "y": [
          33247
         ],
         "yaxis": "y"
        },
        {
         "alignmentgroup": "True",
         "customdata": [
          [
           "Morocco",
           "Africa"
          ]
         ],
         "hovertemplate": "Country/Region=%{customdata[0]}<br>TotalCases=%{y}<br>Continent=%{customdata[1]}<extra></extra>",
         "legendgroup": "Morocco",
         "marker": {
          "color": "#FF6692"
         },
         "name": "Morocco",
         "offsetgroup": "Morocco",
         "orientation": "v",
         "showlegend": true,
         "textposition": "auto",
         "type": "bar",
         "x": [
          "Morocco"
         ],
         "xaxis": "x",
         "y": [
          29644
         ],
         "yaxis": "y"
        },
        {
         "alignmentgroup": "True",
         "customdata": [
          [
           "Uzbekistan",
           "Asia"
          ]
         ],
         "hovertemplate": "Country/Region=%{customdata[0]}<br>TotalCases=%{y}<br>Continent=%{customdata[1]}<extra></extra>",
         "legendgroup": "Uzbekistan",
         "marker": {
          "color": "#B6E880"
         },
         "name": "Uzbekistan",
         "offsetgroup": "Uzbekistan",
         "orientation": "v",
         "showlegend": true,
         "textposition": "auto",
         "type": "bar",
         "x": [
          "Uzbekistan"
         ],
         "xaxis": "x",
         "y": [
          28315
         ],
         "yaxis": "y"
        },
        {
         "alignmentgroup": "True",
         "customdata": [
          [
           "Serbia",
           "Europe"
          ]
         ],
         "hovertemplate": "Country/Region=%{customdata[0]}<br>TotalCases=%{y}<br>Continent=%{customdata[1]}<extra></extra>",
         "legendgroup": "Serbia",
         "marker": {
          "color": "#FF97FF"
         },
         "name": "Serbia",
         "offsetgroup": "Serbia",
         "orientation": "v",
         "showlegend": true,
         "textposition": "auto",
         "type": "bar",
         "x": [
          "Serbia"
         ],
         "xaxis": "x",
         "y": [
          27332
         ],
         "yaxis": "y"
        },
        {
         "alignmentgroup": "True",
         "customdata": [
          [
           "Moldova",
           "Europe"
          ]
         ],
         "hovertemplate": "Country/Region=%{customdata[0]}<br>TotalCases=%{y}<br>Continent=%{customdata[1]}<extra></extra>",
         "legendgroup": "Moldova",
         "marker": {
          "color": "#FECB52"
         },
         "name": "Moldova",
         "offsetgroup": "Moldova",
         "orientation": "v",
         "showlegend": true,
         "textposition": "auto",
         "type": "bar",
         "x": [
          "Moldova"
         ],
         "xaxis": "x",
         "y": [
          26628
         ],
         "yaxis": "y"
        },
        {
         "alignmentgroup": "True",
         "customdata": [
          [
           "Ireland",
           "Europe"
          ]
         ],
         "hovertemplate": "Country/Region=%{customdata[0]}<br>TotalCases=%{y}<br>Continent=%{customdata[1]}<extra></extra>",
         "legendgroup": "Ireland",
         "marker": {
          "color": "#636efa"
         },
         "name": "Ireland",
         "offsetgroup": "Ireland",
         "orientation": "v",
         "showlegend": true,
         "textposition": "auto",
         "type": "bar",
         "x": [
          "Ireland"
         ],
         "xaxis": "x",
         "y": [
          26372
         ],
         "yaxis": "y"
        },
        {
         "alignmentgroup": "True",
         "customdata": [
          [
           "Kenya",
           "Africa"
          ]
         ],
         "hovertemplate": "Country/Region=%{customdata[0]}<br>TotalCases=%{y}<br>Continent=%{customdata[1]}<extra></extra>",
         "legendgroup": "Kenya",
         "marker": {
          "color": "#EF553B"
         },
         "name": "Kenya",
         "offsetgroup": "Kenya",
         "orientation": "v",
         "showlegend": true,
         "textposition": "auto",
         "type": "bar",
         "x": [
          "Kenya"
         ],
         "xaxis": "x",
         "y": [
          24411
         ],
         "yaxis": "y"
        },
        {
         "alignmentgroup": "True",
         "customdata": [
          [
           "Venezuela",
           "South America"
          ]
         ],
         "hovertemplate": "Country/Region=%{customdata[0]}<br>TotalCases=%{y}<br>Continent=%{customdata[1]}<extra></extra>",
         "legendgroup": "Venezuela",
         "marker": {
          "color": "#00cc96"
         },
         "name": "Venezuela",
         "offsetgroup": "Venezuela",
         "orientation": "v",
         "showlegend": true,
         "textposition": "auto",
         "type": "bar",
         "x": [
          "Venezuela"
         ],
         "xaxis": "x",
         "y": [
          22299
         ],
         "yaxis": "y"
        },
        {
         "alignmentgroup": "True",
         "customdata": [
          [
           "Nepal",
           "Asia"
          ]
         ],
         "hovertemplate": "Country/Region=%{customdata[0]}<br>TotalCases=%{y}<br>Continent=%{customdata[1]}<extra></extra>",
         "legendgroup": "Nepal",
         "marker": {
          "color": "#ab63fa"
         },
         "name": "Nepal",
         "offsetgroup": "Nepal",
         "orientation": "v",
         "showlegend": true,
         "textposition": "auto",
         "type": "bar",
         "x": [
          "Nepal"
         ],
         "xaxis": "x",
         "y": [
          21750
         ],
         "yaxis": "y"
        },
        {
         "alignmentgroup": "True",
         "customdata": [
          [
           "Austria",
           "Europe"
          ]
         ],
         "hovertemplate": "Country/Region=%{customdata[0]}<br>TotalCases=%{y}<br>Continent=%{customdata[1]}<extra></extra>",
         "legendgroup": "Austria",
         "marker": {
          "color": "#FFA15A"
         },
         "name": "Austria",
         "offsetgroup": "Austria",
         "orientation": "v",
         "showlegend": true,
         "textposition": "auto",
         "type": "bar",
         "x": [
          "Austria"
         ],
         "xaxis": "x",
         "y": [
          21696
         ],
         "yaxis": "y"
        },
        {
         "alignmentgroup": "True",
         "customdata": [
          [
           "Costa Rica",
           "North America"
          ]
         ],
         "hovertemplate": "Country/Region=%{customdata[0]}<br>TotalCases=%{y}<br>Continent=%{customdata[1]}<extra></extra>",
         "legendgroup": "Costa Rica",
         "marker": {
          "color": "#19d3f3"
         },
         "name": "Costa Rica",
         "offsetgroup": "Costa Rica",
         "orientation": "v",
         "showlegend": true,
         "textposition": "auto",
         "type": "bar",
         "x": [
          "Costa Rica"
         ],
         "xaxis": "x",
         "y": [
          21070
         ],
         "yaxis": "y"
        },
        {
         "alignmentgroup": "True",
         "customdata": [
          [
           "Ethiopia",
           "Africa"
          ]
         ],
         "hovertemplate": "Country/Region=%{customdata[0]}<br>TotalCases=%{y}<br>Continent=%{customdata[1]}<extra></extra>",
         "legendgroup": "Ethiopia",
         "marker": {
          "color": "#FF6692"
         },
         "name": "Ethiopia",
         "offsetgroup": "Ethiopia",
         "orientation": "v",
         "showlegend": true,
         "textposition": "auto",
         "type": "bar",
         "x": [
          "Ethiopia"
         ],
         "xaxis": "x",
         "y": [
          20900
         ],
         "yaxis": "y"
        },
        {
         "alignmentgroup": "True",
         "customdata": [
          [
           "Australia",
           "Australia/Oceania"
          ]
         ],
         "hovertemplate": "Country/Region=%{customdata[0]}<br>TotalCases=%{y}<br>Continent=%{customdata[1]}<extra></extra>",
         "legendgroup": "Australia",
         "marker": {
          "color": "#B6E880"
         },
         "name": "Australia",
         "offsetgroup": "Australia",
         "orientation": "v",
         "showlegend": true,
         "textposition": "auto",
         "type": "bar",
         "x": [
          "Australia"
         ],
         "xaxis": "x",
         "y": [
          19890
         ],
         "yaxis": "y"
        },
        {
         "alignmentgroup": "True",
         "customdata": [
          [
           "El Salvador",
           "North America"
          ]
         ],
         "hovertemplate": "Country/Region=%{customdata[0]}<br>TotalCases=%{y}<br>Continent=%{customdata[1]}<extra></extra>",
         "legendgroup": "El Salvador",
         "marker": {
          "color": "#FF97FF"
         },
         "name": "El Salvador",
         "offsetgroup": "El Salvador",
         "orientation": "v",
         "showlegend": true,
         "textposition": "auto",
         "type": "bar",
         "x": [
          "El Salvador"
         ],
         "xaxis": "x",
         "y": [
          19126
         ],
         "yaxis": "y"
        },
        {
         "alignmentgroup": "True",
         "customdata": [
          [
           "Czechia",
           "Europe"
          ]
         ],
         "hovertemplate": "Country/Region=%{customdata[0]}<br>TotalCases=%{y}<br>Continent=%{customdata[1]}<extra></extra>",
         "legendgroup": "Czechia",
         "marker": {
          "color": "#FECB52"
         },
         "name": "Czechia",
         "offsetgroup": "Czechia",
         "orientation": "v",
         "showlegend": true,
         "textposition": "auto",
         "type": "bar",
         "x": [
          "Czechia"
         ],
         "xaxis": "x",
         "y": [
          17731
         ],
         "yaxis": "y"
        },
        {
         "alignmentgroup": "True",
         "customdata": [
          [
           "Cameroon",
           "Africa"
          ]
         ],
         "hovertemplate": "Country/Region=%{customdata[0]}<br>TotalCases=%{y}<br>Continent=%{customdata[1]}<extra></extra>",
         "legendgroup": "Cameroon",
         "marker": {
          "color": "#636efa"
         },
         "name": "Cameroon",
         "offsetgroup": "Cameroon",
         "orientation": "v",
         "showlegend": true,
         "textposition": "auto",
         "type": "bar",
         "x": [
          "Cameroon"
         ],
         "xaxis": "x",
         "y": [
          17718
         ],
         "yaxis": "y"
        },
        {
         "alignmentgroup": "True",
         "customdata": [
          [
           "Ivory Coast",
           "Africa"
          ]
         ],
         "hovertemplate": "Country/Region=%{customdata[0]}<br>TotalCases=%{y}<br>Continent=%{customdata[1]}<extra></extra>",
         "legendgroup": "Ivory Coast",
         "marker": {
          "color": "#EF553B"
         },
         "name": "Ivory Coast",
         "offsetgroup": "Ivory Coast",
         "orientation": "v",
         "showlegend": true,
         "textposition": "auto",
         "type": "bar",
         "x": [
          "Ivory Coast"
         ],
         "xaxis": "x",
         "y": [
          16447
         ],
         "yaxis": "y"
        },
        {
         "alignmentgroup": "True",
         "customdata": [
          [
           "S. Korea",
           "Asia"
          ]
         ],
         "hovertemplate": "Country/Region=%{customdata[0]}<br>TotalCases=%{y}<br>Continent=%{customdata[1]}<extra></extra>",
         "legendgroup": "S. Korea",
         "marker": {
          "color": "#00cc96"
         },
         "name": "S. Korea",
         "offsetgroup": "S. Korea",
         "orientation": "v",
         "showlegend": true,
         "textposition": "auto",
         "type": "bar",
         "x": [
          "S. Korea"
         ],
         "xaxis": "x",
         "y": [
          14519
         ],
         "yaxis": "y"
        },
        {
         "alignmentgroup": "True",
         "customdata": [
          [
           "Denmark",
           "Europe"
          ]
         ],
         "hovertemplate": "Country/Region=%{customdata[0]}<br>TotalCases=%{y}<br>Continent=%{customdata[1]}<extra></extra>",
         "legendgroup": "Denmark",
         "marker": {
          "color": "#ab63fa"
         },
         "name": "Denmark",
         "offsetgroup": "Denmark",
         "orientation": "v",
         "showlegend": true,
         "textposition": "auto",
         "type": "bar",
         "x": [
          "Denmark"
         ],
         "xaxis": "x",
         "y": [
          14306
         ],
         "yaxis": "y"
        },
        {
         "alignmentgroup": "True",
         "customdata": [
          [
           "Palestine",
           "Asia"
          ]
         ],
         "hovertemplate": "Country/Region=%{customdata[0]}<br>TotalCases=%{y}<br>Continent=%{customdata[1]}<extra></extra>",
         "legendgroup": "Palestine",
         "marker": {
          "color": "#FFA15A"
         },
         "name": "Palestine",
         "offsetgroup": "Palestine",
         "orientation": "v",
         "showlegend": true,
         "textposition": "auto",
         "type": "bar",
         "x": [
          "Palestine"
         ],
         "xaxis": "x",
         "y": [
          13398
         ],
         "yaxis": "y"
        },
        {
         "alignmentgroup": "True",
         "customdata": [
          [
           "Bosnia and Herzegovina",
           "Europe"
          ]
         ],
         "hovertemplate": "Country/Region=%{customdata[0]}<br>TotalCases=%{y}<br>Continent=%{customdata[1]}<extra></extra>",
         "legendgroup": "Bosnia and Herzegovina",
         "marker": {
          "color": "#19d3f3"
         },
         "name": "Bosnia and Herzegovina",
         "offsetgroup": "Bosnia and Herzegovina",
         "orientation": "v",
         "showlegend": true,
         "textposition": "auto",
         "type": "bar",
         "x": [
          "Bosnia and Herzegovina"
         ],
         "xaxis": "x",
         "y": [
          13396
         ],
         "yaxis": "y"
        },
        {
         "alignmentgroup": "True",
         "customdata": [
          [
           "Bulgaria",
           "Europe"
          ]
         ],
         "hovertemplate": "Country/Region=%{customdata[0]}<br>TotalCases=%{y}<br>Continent=%{customdata[1]}<extra></extra>",
         "legendgroup": "Bulgaria",
         "marker": {
          "color": "#FF6692"
         },
         "name": "Bulgaria",
         "offsetgroup": "Bulgaria",
         "orientation": "v",
         "showlegend": true,
         "textposition": "auto",
         "type": "bar",
         "x": [
          "Bulgaria"
         ],
         "xaxis": "x",
         "y": [
          13014
         ],
         "yaxis": "y"
        },
        {
         "alignmentgroup": "True",
         "customdata": [
          [
           "Madagascar",
           "Africa"
          ]
         ],
         "hovertemplate": "Country/Region=%{customdata[0]}<br>TotalCases=%{y}<br>Continent=%{customdata[1]}<extra></extra>",
         "legendgroup": "Madagascar",
         "marker": {
          "color": "#B6E880"
         },
         "name": "Madagascar",
         "offsetgroup": "Madagascar",
         "orientation": "v",
         "showlegend": true,
         "textposition": "auto",
         "type": "bar",
         "x": [
          "Madagascar"
         ],
         "xaxis": "x",
         "y": [
          12526
         ],
         "yaxis": "y"
        },
        {
         "alignmentgroup": "True",
         "customdata": [
          [
           "Sudan",
           "Africa"
          ]
         ],
         "hovertemplate": "Country/Region=%{customdata[0]}<br>TotalCases=%{y}<br>Continent=%{customdata[1]}<extra></extra>",
         "legendgroup": "Sudan",
         "marker": {
          "color": "#FF97FF"
         },
         "name": "Sudan",
         "offsetgroup": "Sudan",
         "orientation": "v",
         "showlegend": true,
         "textposition": "auto",
         "type": "bar",
         "x": [
          "Sudan"
         ],
         "xaxis": "x",
         "y": [
          11780
         ],
         "yaxis": "y"
        },
        {
         "alignmentgroup": "True",
         "customdata": [
          [
           "North Macedonia",
           "Europe"
          ]
         ],
         "hovertemplate": "Country/Region=%{customdata[0]}<br>TotalCases=%{y}<br>Continent=%{customdata[1]}<extra></extra>",
         "legendgroup": "North Macedonia",
         "marker": {
          "color": "#FECB52"
         },
         "name": "North Macedonia",
         "offsetgroup": "North Macedonia",
         "orientation": "v",
         "showlegend": true,
         "textposition": "auto",
         "type": "bar",
         "x": [
          "North Macedonia"
         ],
         "xaxis": "x",
         "y": [
          11399
         ],
         "yaxis": "y"
        },
        {
         "alignmentgroup": "True",
         "customdata": [
          [
           "Senegal",
           "Africa"
          ]
         ],
         "hovertemplate": "Country/Region=%{customdata[0]}<br>TotalCases=%{y}<br>Continent=%{customdata[1]}<extra></extra>",
         "legendgroup": "Senegal",
         "marker": {
          "color": "#636efa"
         },
         "name": "Senegal",
         "offsetgroup": "Senegal",
         "orientation": "v",
         "showlegend": true,
         "textposition": "auto",
         "type": "bar",
         "x": [
          "Senegal"
         ],
         "xaxis": "x",
         "y": [
          10715
         ],
         "yaxis": "y"
        },
        {
         "alignmentgroup": "True",
         "customdata": [
          [
           "Norway",
           "Europe"
          ]
         ],
         "hovertemplate": "Country/Region=%{customdata[0]}<br>TotalCases=%{y}<br>Continent=%{customdata[1]}<extra></extra>",
         "legendgroup": "Norway",
         "marker": {
          "color": "#EF553B"
         },
         "name": "Norway",
         "offsetgroup": "Norway",
         "orientation": "v",
         "showlegend": true,
         "textposition": "auto",
         "type": "bar",
         "x": [
          "Norway"
         ],
         "xaxis": "x",
         "y": [
          9468
         ],
         "yaxis": "y"
        },
        {
         "alignmentgroup": "True",
         "customdata": [
          [
           "DRC",
           "Africa"
          ]
         ],
         "hovertemplate": "Country/Region=%{customdata[0]}<br>TotalCases=%{y}<br>Continent=%{customdata[1]}<extra></extra>",
         "legendgroup": "DRC",
         "marker": {
          "color": "#00cc96"
         },
         "name": "DRC",
         "offsetgroup": "DRC",
         "orientation": "v",
         "showlegend": true,
         "textposition": "auto",
         "type": "bar",
         "x": [
          "DRC"
         ],
         "xaxis": "x",
         "y": [
          9309
         ],
         "yaxis": "y"
        },
        {
         "alignmentgroup": "True",
         "customdata": [
          [
           "Malaysia",
           "Asia"
          ]
         ],
         "hovertemplate": "Country/Region=%{customdata[0]}<br>TotalCases=%{y}<br>Continent=%{customdata[1]}<extra></extra>",
         "legendgroup": "Malaysia",
         "marker": {
          "color": "#ab63fa"
         },
         "name": "Malaysia",
         "offsetgroup": "Malaysia",
         "orientation": "v",
         "showlegend": true,
         "textposition": "auto",
         "type": "bar",
         "x": [
          "Malaysia"
         ],
         "xaxis": "x",
         "y": [
          9038
         ],
         "yaxis": "y"
        },
        {
         "alignmentgroup": "True",
         "customdata": [
          [
           "French Guiana",
           "South America"
          ]
         ],
         "hovertemplate": "Country/Region=%{customdata[0]}<br>TotalCases=%{y}<br>Continent=%{customdata[1]}<extra></extra>",
         "legendgroup": "French Guiana",
         "marker": {
          "color": "#FFA15A"
         },
         "name": "French Guiana",
         "offsetgroup": "French Guiana",
         "orientation": "v",
         "showlegend": true,
         "textposition": "auto",
         "type": "bar",
         "x": [
          "French Guiana"
         ],
         "xaxis": "x",
         "y": [
          8127
         ],
         "yaxis": "y"
        },
        {
         "alignmentgroup": "True",
         "customdata": [
          [
           "Gabon",
           "Africa"
          ]
         ],
         "hovertemplate": "Country/Region=%{customdata[0]}<br>TotalCases=%{y}<br>Continent=%{customdata[1]}<extra></extra>",
         "legendgroup": "Gabon",
         "marker": {
          "color": "#19d3f3"
         },
         "name": "Gabon",
         "offsetgroup": "Gabon",
         "orientation": "v",
         "showlegend": true,
         "textposition": "auto",
         "type": "bar",
         "x": [
          "Gabon"
         ],
         "xaxis": "x",
         "y": [
          7787
         ],
         "yaxis": "y"
        },
        {
         "alignmentgroup": "True",
         "customdata": [
          [
           "Tajikistan",
           "Asia"
          ]
         ],
         "hovertemplate": "Country/Region=%{customdata[0]}<br>TotalCases=%{y}<br>Continent=%{customdata[1]}<extra></extra>",
         "legendgroup": "Tajikistan",
         "marker": {
          "color": "#FF6692"
         },
         "name": "Tajikistan",
         "offsetgroup": "Tajikistan",
         "orientation": "v",
         "showlegend": true,
         "textposition": "auto",
         "type": "bar",
         "x": [
          "Tajikistan"
         ],
         "xaxis": "x",
         "y": [
          7665
         ],
         "yaxis": "y"
        },
        {
         "alignmentgroup": "True",
         "customdata": [
          [
           "Guinea",
           "Africa"
          ]
         ],
         "hovertemplate": "Country/Region=%{customdata[0]}<br>TotalCases=%{y}<br>Continent=%{customdata[1]}<extra></extra>",
         "legendgroup": "Guinea",
         "marker": {
          "color": "#B6E880"
         },
         "name": "Guinea",
         "offsetgroup": "Guinea",
         "orientation": "v",
         "showlegend": true,
         "textposition": "auto",
         "type": "bar",
         "x": [
          "Guinea"
         ],
         "xaxis": "x",
         "y": [
          7664
         ],
         "yaxis": "y"
        },
        {
         "alignmentgroup": "True",
         "customdata": [
          [
           "Haiti",
           "North America"
          ]
         ],
         "hovertemplate": "Country/Region=%{customdata[0]}<br>TotalCases=%{y}<br>Continent=%{customdata[1]}<extra></extra>",
         "legendgroup": "Haiti",
         "marker": {
          "color": "#FF97FF"
         },
         "name": "Haiti",
         "offsetgroup": "Haiti",
         "orientation": "v",
         "showlegend": true,
         "textposition": "auto",
         "type": "bar",
         "x": [
          "Haiti"
         ],
         "xaxis": "x",
         "y": [
          7544
         ],
         "yaxis": "y"
        },
        {
         "alignmentgroup": "True",
         "customdata": [
          [
           "Finland",
           "Europe"
          ]
         ],
         "hovertemplate": "Country/Region=%{customdata[0]}<br>TotalCases=%{y}<br>Continent=%{customdata[1]}<extra></extra>",
         "legendgroup": "Finland",
         "marker": {
          "color": "#FECB52"
         },
         "name": "Finland",
         "offsetgroup": "Finland",
         "orientation": "v",
         "showlegend": true,
         "textposition": "auto",
         "type": "bar",
         "x": [
          "Finland"
         ],
         "xaxis": "x",
         "y": [
          7532
         ],
         "yaxis": "y"
        },
        {
         "alignmentgroup": "True",
         "customdata": [
          [
           "Zambia",
           "Africa"
          ]
         ],
         "hovertemplate": "Country/Region=%{customdata[0]}<br>TotalCases=%{y}<br>Continent=%{customdata[1]}<extra></extra>",
         "legendgroup": "Zambia",
         "marker": {
          "color": "#636efa"
         },
         "name": "Zambia",
         "offsetgroup": "Zambia",
         "orientation": "v",
         "showlegend": true,
         "textposition": "auto",
         "type": "bar",
         "x": [
          "Zambia"
         ],
         "xaxis": "x",
         "y": [
          7164
         ],
         "yaxis": "y"
        },
        {
         "alignmentgroup": "True",
         "customdata": [
          [
           "Luxembourg",
           "Europe"
          ]
         ],
         "hovertemplate": "Country/Region=%{customdata[0]}<br>TotalCases=%{y}<br>Continent=%{customdata[1]}<extra></extra>",
         "legendgroup": "Luxembourg",
         "marker": {
          "color": "#EF553B"
         },
         "name": "Luxembourg",
         "offsetgroup": "Luxembourg",
         "orientation": "v",
         "showlegend": true,
         "textposition": "auto",
         "type": "bar",
         "x": [
          "Luxembourg"
         ],
         "xaxis": "x",
         "y": [
          7073
         ],
         "yaxis": "y"
        },
        {
         "alignmentgroup": "True",
         "customdata": [
          [
           "Mauritania",
           "Africa"
          ]
         ],
         "hovertemplate": "Country/Region=%{customdata[0]}<br>TotalCases=%{y}<br>Continent=%{customdata[1]}<extra></extra>",
         "legendgroup": "Mauritania",
         "marker": {
          "color": "#00cc96"
         },
         "name": "Mauritania",
         "offsetgroup": "Mauritania",
         "orientation": "v",
         "showlegend": true,
         "textposition": "auto",
         "type": "bar",
         "x": [
          "Mauritania"
         ],
         "xaxis": "x",
         "y": [
          6444
         ],
         "yaxis": "y"
        },
        {
         "alignmentgroup": "True",
         "customdata": [
          [
           "Paraguay",
           "South America"
          ]
         ],
         "hovertemplate": "Country/Region=%{customdata[0]}<br>TotalCases=%{y}<br>Continent=%{customdata[1]}<extra></extra>",
         "legendgroup": "Paraguay",
         "marker": {
          "color": "#ab63fa"
         },
         "name": "Paraguay",
         "offsetgroup": "Paraguay",
         "orientation": "v",
         "showlegend": true,
         "textposition": "auto",
         "type": "bar",
         "x": [
          "Paraguay"
         ],
         "xaxis": "x",
         "y": [
          6375
         ],
         "yaxis": "y"
        },
        {
         "alignmentgroup": "True",
         "customdata": [
          [
           "Albania",
           "Europe"
          ]
         ],
         "hovertemplate": "Country/Region=%{customdata[0]}<br>TotalCases=%{y}<br>Continent=%{customdata[1]}<extra></extra>",
         "legendgroup": "Albania",
         "marker": {
          "color": "#FFA15A"
         },
         "name": "Albania",
         "offsetgroup": "Albania",
         "orientation": "v",
         "showlegend": true,
         "textposition": "auto",
         "type": "bar",
         "x": [
          "Albania"
         ],
         "xaxis": "x",
         "y": [
          6016
         ],
         "yaxis": "y"
        },
        {
         "alignmentgroup": "True",
         "customdata": [
          [
           "Lebanon",
           "Asia"
          ]
         ],
         "hovertemplate": "Country/Region=%{customdata[0]}<br>TotalCases=%{y}<br>Continent=%{customdata[1]}<extra></extra>",
         "legendgroup": "Lebanon",
         "marker": {
          "color": "#19d3f3"
         },
         "name": "Lebanon",
         "offsetgroup": "Lebanon",
         "orientation": "v",
         "showlegend": true,
         "textposition": "auto",
         "type": "bar",
         "x": [
          "Lebanon"
         ],
         "xaxis": "x",
         "y": [
          5672
         ],
         "yaxis": "y"
        },
        {
         "alignmentgroup": "True",
         "customdata": [
          [
           "Croatia",
           "Europe"
          ]
         ],
         "hovertemplate": "Country/Region=%{customdata[0]}<br>TotalCases=%{y}<br>Continent=%{customdata[1]}<extra></extra>",
         "legendgroup": "Croatia",
         "marker": {
          "color": "#FF6692"
         },
         "name": "Croatia",
         "offsetgroup": "Croatia",
         "orientation": "v",
         "showlegend": true,
         "textposition": "auto",
         "type": "bar",
         "x": [
          "Croatia"
         ],
         "xaxis": "x",
         "y": [
          5404
         ],
         "yaxis": "y"
        },
        {
         "alignmentgroup": "True",
         "customdata": [
          [
           "Djibouti",
           "Africa"
          ]
         ],
         "hovertemplate": "Country/Region=%{customdata[0]}<br>TotalCases=%{y}<br>Continent=%{customdata[1]}<extra></extra>",
         "legendgroup": "Djibouti",
         "marker": {
          "color": "#B6E880"
         },
         "name": "Djibouti",
         "offsetgroup": "Djibouti",
         "orientation": "v",
         "showlegend": true,
         "textposition": "auto",
         "type": "bar",
         "x": [
          "Djibouti"
         ],
         "xaxis": "x",
         "y": [
          5330
         ],
         "yaxis": "y"
        },
        {
         "alignmentgroup": "True",
         "customdata": [
          [
           "Greece",
           "Europe"
          ]
         ],
         "hovertemplate": "Country/Region=%{customdata[0]}<br>TotalCases=%{y}<br>Continent=%{customdata[1]}<extra></extra>",
         "legendgroup": "Greece",
         "marker": {
          "color": "#FF97FF"
         },
         "name": "Greece",
         "offsetgroup": "Greece",
         "orientation": "v",
         "showlegend": true,
         "textposition": "auto",
         "type": "bar",
         "x": [
          "Greece"
         ],
         "xaxis": "x",
         "y": [
          5123
         ],
         "yaxis": "y"
        },
        {
         "alignmentgroup": "True",
         "customdata": [
          [
           "Libya",
           "Africa"
          ]
         ],
         "hovertemplate": "Country/Region=%{customdata[0]}<br>TotalCases=%{y}<br>Continent=%{customdata[1]}<extra></extra>",
         "legendgroup": "Libya",
         "marker": {
          "color": "#FECB52"
         },
         "name": "Libya",
         "offsetgroup": "Libya",
         "orientation": "v",
         "showlegend": true,
         "textposition": "auto",
         "type": "bar",
         "x": [
          "Libya"
         ],
         "xaxis": "x",
         "y": [
          4879
         ],
         "yaxis": "y"
        },
        {
         "alignmentgroup": "True",
         "customdata": [
          [
           "Equatorial Guinea",
           "Africa"
          ]
         ],
         "hovertemplate": "Country/Region=%{customdata[0]}<br>TotalCases=%{y}<br>Continent=%{customdata[1]}<extra></extra>",
         "legendgroup": "Equatorial Guinea",
         "marker": {
          "color": "#636efa"
         },
         "name": "Equatorial Guinea",
         "offsetgroup": "Equatorial Guinea",
         "orientation": "v",
         "showlegend": true,
         "textposition": "auto",
         "type": "bar",
         "x": [
          "Equatorial Guinea"
         ],
         "xaxis": "x",
         "y": [
          4821
         ],
         "yaxis": "y"
        },
        {
         "alignmentgroup": "True",
         "customdata": [
          [
           "Maldives",
           "Asia"
          ]
         ],
         "hovertemplate": "Country/Region=%{customdata[0]}<br>TotalCases=%{y}<br>Continent=%{customdata[1]}<extra></extra>",
         "legendgroup": "Maldives",
         "marker": {
          "color": "#EF553B"
         },
         "name": "Maldives",
         "offsetgroup": "Maldives",
         "orientation": "v",
         "showlegend": true,
         "textposition": "auto",
         "type": "bar",
         "x": [
          "Maldives"
         ],
         "xaxis": "x",
         "y": [
          4680
         ],
         "yaxis": "y"
        },
        {
         "alignmentgroup": "True",
         "customdata": [
          [
           "CAR",
           "Africa"
          ]
         ],
         "hovertemplate": "Country/Region=%{customdata[0]}<br>TotalCases=%{y}<br>Continent=%{customdata[1]}<extra></extra>",
         "legendgroup": "CAR",
         "marker": {
          "color": "#00cc96"
         },
         "name": "CAR",
         "offsetgroup": "CAR",
         "orientation": "v",
         "showlegend": true,
         "textposition": "auto",
         "type": "bar",
         "x": [
          "CAR"
         ],
         "xaxis": "x",
         "y": [
          4620
         ],
         "yaxis": "y"
        },
        {
         "alignmentgroup": "True",
         "customdata": [
          [
           "Hungary",
           "Europe"
          ]
         ],
         "hovertemplate": "Country/Region=%{customdata[0]}<br>TotalCases=%{y}<br>Continent=%{customdata[1]}<extra></extra>",
         "legendgroup": "Hungary",
         "marker": {
          "color": "#ab63fa"
         },
         "name": "Hungary",
         "offsetgroup": "Hungary",
         "orientation": "v",
         "showlegend": true,
         "textposition": "auto",
         "type": "bar",
         "x": [
          "Hungary"
         ],
         "xaxis": "x",
         "y": [
          4597
         ],
         "yaxis": "y"
        },
        {
         "alignmentgroup": "True",
         "customdata": [
          [
           "Malawi",
           "Africa"
          ]
         ],
         "hovertemplate": "Country/Region=%{customdata[0]}<br>TotalCases=%{y}<br>Continent=%{customdata[1]}<extra></extra>",
         "legendgroup": "Malawi",
         "marker": {
          "color": "#FFA15A"
         },
         "name": "Malawi",
         "offsetgroup": "Malawi",
         "orientation": "v",
         "showlegend": true,
         "textposition": "auto",
         "type": "bar",
         "x": [
          "Malawi"
         ],
         "xaxis": "x",
         "y": [
          4491
         ],
         "yaxis": "y"
        },
        {
         "alignmentgroup": "True",
         "customdata": [
          [
           "Zimbabwe",
           "Africa"
          ]
         ],
         "hovertemplate": "Country/Region=%{customdata[0]}<br>TotalCases=%{y}<br>Continent=%{customdata[1]}<extra></extra>",
         "legendgroup": "Zimbabwe",
         "marker": {
          "color": "#19d3f3"
         },
         "name": "Zimbabwe",
         "offsetgroup": "Zimbabwe",
         "orientation": "v",
         "showlegend": true,
         "textposition": "auto",
         "type": "bar",
         "x": [
          "Zimbabwe"
         ],
         "xaxis": "x",
         "y": [
          4339
         ],
         "yaxis": "y"
        },
        {
         "alignmentgroup": "True",
         "customdata": [
          [
           "Nicaragua",
           "North America"
          ]
         ],
         "hovertemplate": "Country/Region=%{customdata[0]}<br>TotalCases=%{y}<br>Continent=%{customdata[1]}<extra></extra>",
         "legendgroup": "Nicaragua",
         "marker": {
          "color": "#FF6692"
         },
         "name": "Nicaragua",
         "offsetgroup": "Nicaragua",
         "orientation": "v",
         "showlegend": true,
         "textposition": "auto",
         "type": "bar",
         "x": [
          "Nicaragua"
         ],
         "xaxis": "x",
         "y": [
          3902
         ],
         "yaxis": "y"
        },
        {
         "alignmentgroup": "True",
         "customdata": [
          [
           "Hong Kong",
           "Asia"
          ]
         ],
         "hovertemplate": "Country/Region=%{customdata[0]}<br>TotalCases=%{y}<br>Continent=%{customdata[1]}<extra></extra>",
         "legendgroup": "Hong Kong",
         "marker": {
          "color": "#B6E880"
         },
         "name": "Hong Kong",
         "offsetgroup": "Hong Kong",
         "orientation": "v",
         "showlegend": true,
         "textposition": "auto",
         "type": "bar",
         "x": [
          "Hong Kong"
         ],
         "xaxis": "x",
         "y": [
          3850
         ],
         "yaxis": "y"
        },
        {
         "alignmentgroup": "True",
         "customdata": [
          [
           "Congo",
           "Africa"
          ]
         ],
         "hovertemplate": "Country/Region=%{customdata[0]}<br>TotalCases=%{y}<br>Continent=%{customdata[1]}<extra></extra>",
         "legendgroup": "Congo",
         "marker": {
          "color": "#FF97FF"
         },
         "name": "Congo",
         "offsetgroup": "Congo",
         "orientation": "v",
         "showlegend": true,
         "textposition": "auto",
         "type": "bar",
         "x": [
          "Congo"
         ],
         "xaxis": "x",
         "y": [
          3546
         ],
         "yaxis": "y"
        },
        {
         "alignmentgroup": "True",
         "customdata": [
          [
           "Montenegro",
           "Europe"
          ]
         ],
         "hovertemplate": "Country/Region=%{customdata[0]}<br>TotalCases=%{y}<br>Continent=%{customdata[1]}<extra></extra>",
         "legendgroup": "Montenegro",
         "marker": {
          "color": "#FECB52"
         },
         "name": "Montenegro",
         "offsetgroup": "Montenegro",
         "orientation": "v",
         "showlegend": true,
         "textposition": "auto",
         "type": "bar",
         "x": [
          "Montenegro"
         ],
         "xaxis": "x",
         "y": [
          3480
         ],
         "yaxis": "y"
        },
        {
         "alignmentgroup": "True",
         "customdata": [
          [
           "Thailand",
           "Asia"
          ]
         ],
         "hovertemplate": "Country/Region=%{customdata[0]}<br>TotalCases=%{y}<br>Continent=%{customdata[1]}<extra></extra>",
         "legendgroup": "Thailand",
         "marker": {
          "color": "#636efa"
         },
         "name": "Thailand",
         "offsetgroup": "Thailand",
         "orientation": "v",
         "showlegend": true,
         "textposition": "auto",
         "type": "bar",
         "x": [
          "Thailand"
         ],
         "xaxis": "x",
         "y": [
          3330
         ],
         "yaxis": "y"
        },
        {
         "alignmentgroup": "True",
         "customdata": [
          [
           "Somalia",
           "Africa"
          ]
         ],
         "hovertemplate": "Country/Region=%{customdata[0]}<br>TotalCases=%{y}<br>Continent=%{customdata[1]}<extra></extra>",
         "legendgroup": "Somalia",
         "marker": {
          "color": "#EF553B"
         },
         "name": "Somalia",
         "offsetgroup": "Somalia",
         "orientation": "v",
         "showlegend": true,
         "textposition": "auto",
         "type": "bar",
         "x": [
          "Somalia"
         ],
         "xaxis": "x",
         "y": [
          3227
         ],
         "yaxis": "y"
        },
        {
         "alignmentgroup": "True",
         "customdata": [
          [
           "Mayotte",
           "Africa"
          ]
         ],
         "hovertemplate": "Country/Region=%{customdata[0]}<br>TotalCases=%{y}<br>Continent=%{customdata[1]}<extra></extra>",
         "legendgroup": "Mayotte",
         "marker": {
          "color": "#00cc96"
         },
         "name": "Mayotte",
         "offsetgroup": "Mayotte",
         "orientation": "v",
         "showlegend": true,
         "textposition": "auto",
         "type": "bar",
         "x": [
          "Mayotte"
         ],
         "xaxis": "x",
         "y": [
          3042
         ],
         "yaxis": "y"
        },
        {
         "alignmentgroup": "True",
         "customdata": [
          [
           "Eswatini",
           "Africa"
          ]
         ],
         "hovertemplate": "Country/Region=%{customdata[0]}<br>TotalCases=%{y}<br>Continent=%{customdata[1]}<extra></extra>",
         "legendgroup": "Eswatini",
         "marker": {
          "color": "#ab63fa"
         },
         "name": "Eswatini",
         "offsetgroup": "Eswatini",
         "orientation": "v",
         "showlegend": true,
         "textposition": "auto",
         "type": "bar",
         "x": [
          "Eswatini"
         ],
         "xaxis": "x",
         "y": [
          2968
         ],
         "yaxis": "y"
        },
        {
         "alignmentgroup": "True",
         "customdata": [
          [
           "Sri Lanka",
           "Asia"
          ]
         ],
         "hovertemplate": "Country/Region=%{customdata[0]}<br>TotalCases=%{y}<br>Continent=%{customdata[1]}<extra></extra>",
         "legendgroup": "Sri Lanka",
         "marker": {
          "color": "#FFA15A"
         },
         "name": "Sri Lanka",
         "offsetgroup": "Sri Lanka",
         "orientation": "v",
         "showlegend": true,
         "textposition": "auto",
         "type": "bar",
         "x": [
          "Sri Lanka"
         ],
         "xaxis": "x",
         "y": [
          2839
         ],
         "yaxis": "y"
        },
        {
         "alignmentgroup": "True",
         "customdata": [
          [
           "Cuba",
           "North America"
          ]
         ],
         "hovertemplate": "Country/Region=%{customdata[0]}<br>TotalCases=%{y}<br>Continent=%{customdata[1]}<extra></extra>",
         "legendgroup": "Cuba",
         "marker": {
          "color": "#19d3f3"
         },
         "name": "Cuba",
         "offsetgroup": "Cuba",
         "orientation": "v",
         "showlegend": true,
         "textposition": "auto",
         "type": "bar",
         "x": [
          "Cuba"
         ],
         "xaxis": "x",
         "y": [
          2775
         ],
         "yaxis": "y"
        },
        {
         "alignmentgroup": "True",
         "customdata": [
          [
           "Cabo Verde",
           "Africa"
          ]
         ],
         "hovertemplate": "Country/Region=%{customdata[0]}<br>TotalCases=%{y}<br>Continent=%{customdata[1]}<extra></extra>",
         "legendgroup": "Cabo Verde",
         "marker": {
          "color": "#FF6692"
         },
         "name": "Cabo Verde",
         "offsetgroup": "Cabo Verde",
         "orientation": "v",
         "showlegend": true,
         "textposition": "auto",
         "type": "bar",
         "x": [
          "Cabo Verde"
         ],
         "xaxis": "x",
         "y": [
          2734
         ],
         "yaxis": "y"
        },
        {
         "alignmentgroup": "True",
         "customdata": [
          [
           "Namibia",
           "Africa"
          ]
         ],
         "hovertemplate": "Country/Region=%{customdata[0]}<br>TotalCases=%{y}<br>Continent=%{customdata[1]}<extra></extra>",
         "legendgroup": "Namibia",
         "marker": {
          "color": "#B6E880"
         },
         "name": "Namibia",
         "offsetgroup": "Namibia",
         "orientation": "v",
         "showlegend": true,
         "textposition": "auto",
         "type": "bar",
         "x": [
          "Namibia"
         ],
         "xaxis": "x",
         "y": [
          2652
         ],
         "yaxis": "y"
        },
        {
         "alignmentgroup": "True",
         "customdata": [
          [
           "Mali",
           "Africa"
          ]
         ],
         "hovertemplate": "Country/Region=%{customdata[0]}<br>TotalCases=%{y}<br>Continent=%{customdata[1]}<extra></extra>",
         "legendgroup": "Mali",
         "marker": {
          "color": "#FF97FF"
         },
         "name": "Mali",
         "offsetgroup": "Mali",
         "orientation": "v",
         "showlegend": true,
         "textposition": "auto",
         "type": "bar",
         "x": [
          "Mali"
         ],
         "xaxis": "x",
         "y": [
          2552
         ],
         "yaxis": "y"
        },
        {
         "alignmentgroup": "True",
         "customdata": [
          [
           "Slovakia",
           "Europe"
          ]
         ],
         "hovertemplate": "Country/Region=%{customdata[0]}<br>TotalCases=%{y}<br>Continent=%{customdata[1]}<extra></extra>",
         "legendgroup": "Slovakia",
         "marker": {
          "color": "#FECB52"
         },
         "name": "Slovakia",
         "offsetgroup": "Slovakia",
         "orientation": "v",
         "showlegend": true,
         "textposition": "auto",
         "type": "bar",
         "x": [
          "Slovakia"
         ],
         "xaxis": "x",
         "y": [
          2480
         ],
         "yaxis": "y"
        },
        {
         "alignmentgroup": "True",
         "customdata": [
          [
           "South Sudan",
           "Africa"
          ]
         ],
         "hovertemplate": "Country/Region=%{customdata[0]}<br>TotalCases=%{y}<br>Continent=%{customdata[1]}<extra></extra>",
         "legendgroup": "South Sudan",
         "marker": {
          "color": "#636efa"
         },
         "name": "South Sudan",
         "offsetgroup": "South Sudan",
         "orientation": "v",
         "showlegend": true,
         "textposition": "auto",
         "type": "bar",
         "x": [
          "South Sudan"
         ],
         "xaxis": "x",
         "y": [
          2450
         ],
         "yaxis": "y"
        },
        {
         "alignmentgroup": "True",
         "customdata": [
          [
           "Slovenia",
           "Europe"
          ]
         ],
         "hovertemplate": "Country/Region=%{customdata[0]}<br>TotalCases=%{y}<br>Continent=%{customdata[1]}<extra></extra>",
         "legendgroup": "Slovenia",
         "marker": {
          "color": "#EF553B"
         },
         "name": "Slovenia",
         "offsetgroup": "Slovenia",
         "orientation": "v",
         "showlegend": true,
         "textposition": "auto",
         "type": "bar",
         "x": [
          "Slovenia"
         ],
         "xaxis": "x",
         "y": [
          2223
         ],
         "yaxis": "y"
        },
        {
         "alignmentgroup": "True",
         "customdata": [
          [
           "Lithuania",
           "Europe"
          ]
         ],
         "hovertemplate": "Country/Region=%{customdata[0]}<br>TotalCases=%{y}<br>Continent=%{customdata[1]}<extra></extra>",
         "legendgroup": "Lithuania",
         "marker": {
          "color": "#00cc96"
         },
         "name": "Lithuania",
         "offsetgroup": "Lithuania",
         "orientation": "v",
         "showlegend": true,
         "textposition": "auto",
         "type": "bar",
         "x": [
          "Lithuania"
         ],
         "xaxis": "x",
         "y": [
          2171
         ],
         "yaxis": "y"
        },
        {
         "alignmentgroup": "True",
         "customdata": [
          [
           "Estonia",
           "Europe"
          ]
         ],
         "hovertemplate": "Country/Region=%{customdata[0]}<br>TotalCases=%{y}<br>Continent=%{customdata[1]}<extra></extra>",
         "legendgroup": "Estonia",
         "marker": {
          "color": "#ab63fa"
         },
         "name": "Estonia",
         "offsetgroup": "Estonia",
         "orientation": "v",
         "showlegend": true,
         "textposition": "auto",
         "type": "bar",
         "x": [
          "Estonia"
         ],
         "xaxis": "x",
         "y": [
          2124
         ],
         "yaxis": "y"
        },
        {
         "alignmentgroup": "True",
         "customdata": [
          [
           "Mozambique",
           "Africa"
          ]
         ],
         "hovertemplate": "Country/Region=%{customdata[0]}<br>TotalCases=%{y}<br>Continent=%{customdata[1]}<extra></extra>",
         "legendgroup": "Mozambique",
         "marker": {
          "color": "#FFA15A"
         },
         "name": "Mozambique",
         "offsetgroup": "Mozambique",
         "orientation": "v",
         "showlegend": true,
         "textposition": "auto",
         "type": "bar",
         "x": [
          "Mozambique"
         ],
         "xaxis": "x",
         "y": [
          2120
         ],
         "yaxis": "y"
        },
        {
         "alignmentgroup": "True",
         "customdata": [
          [
           "Rwanda",
           "Africa"
          ]
         ],
         "hovertemplate": "Country/Region=%{customdata[0]}<br>TotalCases=%{y}<br>Continent=%{customdata[1]}<extra></extra>",
         "legendgroup": "Rwanda",
         "marker": {
          "color": "#19d3f3"
         },
         "name": "Rwanda",
         "offsetgroup": "Rwanda",
         "orientation": "v",
         "showlegend": true,
         "textposition": "auto",
         "type": "bar",
         "x": [
          "Rwanda"
         ],
         "xaxis": "x",
         "y": [
          2111
         ],
         "yaxis": "y"
        },
        {
         "alignmentgroup": "True",
         "customdata": [
          [
           "Suriname",
           "South America"
          ]
         ],
         "hovertemplate": "Country/Region=%{customdata[0]}<br>TotalCases=%{y}<br>Continent=%{customdata[1]}<extra></extra>",
         "legendgroup": "Suriname",
         "marker": {
          "color": "#FF6692"
         },
         "name": "Suriname",
         "offsetgroup": "Suriname",
         "orientation": "v",
         "showlegend": true,
         "textposition": "auto",
         "type": "bar",
         "x": [
          "Suriname"
         ],
         "xaxis": "x",
         "y": [
          2096
         ],
         "yaxis": "y"
        },
        {
         "alignmentgroup": "True",
         "customdata": [
          [
           "Guinea-Bissau",
           "Africa"
          ]
         ],
         "hovertemplate": "Country/Region=%{customdata[0]}<br>TotalCases=%{y}<br>Continent=%{customdata[1]}<extra></extra>",
         "legendgroup": "Guinea-Bissau",
         "marker": {
          "color": "#B6E880"
         },
         "name": "Guinea-Bissau",
         "offsetgroup": "Guinea-Bissau",
         "orientation": "v",
         "showlegend": true,
         "textposition": "auto",
         "type": "bar",
         "x": [
          "Guinea-Bissau"
         ],
         "xaxis": "x",
         "y": [
          2032
         ],
         "yaxis": "y"
        },
        {
         "alignmentgroup": "True",
         "customdata": [
          [
           "Benin",
           "Africa"
          ]
         ],
         "hovertemplate": "Country/Region=%{customdata[0]}<br>TotalCases=%{y}<br>Continent=%{customdata[1]}<extra></extra>",
         "legendgroup": "Benin",
         "marker": {
          "color": "#FF97FF"
         },
         "name": "Benin",
         "offsetgroup": "Benin",
         "orientation": "v",
         "showlegend": true,
         "textposition": "auto",
         "type": "bar",
         "x": [
          "Benin"
         ],
         "xaxis": "x",
         "y": [
          1936
         ],
         "yaxis": "y"
        },
        {
         "alignmentgroup": "True",
         "customdata": [
          [
           "Iceland",
           "Europe"
          ]
         ],
         "hovertemplate": "Country/Region=%{customdata[0]}<br>TotalCases=%{y}<br>Continent=%{customdata[1]}<extra></extra>",
         "legendgroup": "Iceland",
         "marker": {
          "color": "#FECB52"
         },
         "name": "Iceland",
         "offsetgroup": "Iceland",
         "orientation": "v",
         "showlegend": true,
         "textposition": "auto",
         "type": "bar",
         "x": [
          "Iceland"
         ],
         "xaxis": "x",
         "y": [
          1930
         ],
         "yaxis": "y"
        },
        {
         "alignmentgroup": "True",
         "customdata": [
          [
           "Sierra Leone",
           "Africa"
          ]
         ],
         "hovertemplate": "Country/Region=%{customdata[0]}<br>TotalCases=%{y}<br>Continent=%{customdata[1]}<extra></extra>",
         "legendgroup": "Sierra Leone",
         "marker": {
          "color": "#636efa"
         },
         "name": "Sierra Leone",
         "offsetgroup": "Sierra Leone",
         "orientation": "v",
         "showlegend": true,
         "textposition": "auto",
         "type": "bar",
         "x": [
          "Sierra Leone"
         ],
         "xaxis": "x",
         "y": [
          1877
         ],
         "yaxis": "y"
        },
        {
         "alignmentgroup": "True",
         "customdata": [
          [
           "Yemen",
           "Asia"
          ]
         ],
         "hovertemplate": "Country/Region=%{customdata[0]}<br>TotalCases=%{y}<br>Continent=%{customdata[1]}<extra></extra>",
         "legendgroup": "Yemen",
         "marker": {
          "color": "#EF553B"
         },
         "name": "Yemen",
         "offsetgroup": "Yemen",
         "orientation": "v",
         "showlegend": true,
         "textposition": "auto",
         "type": "bar",
         "x": [
          "Yemen"
         ],
         "xaxis": "x",
         "y": [
          1768
         ],
         "yaxis": "y"
        },
        {
         "alignmentgroup": "True",
         "customdata": [
          [
           "Tunisia",
           "Africa"
          ]
         ],
         "hovertemplate": "Country/Region=%{customdata[0]}<br>TotalCases=%{y}<br>Continent=%{customdata[1]}<extra></extra>",
         "legendgroup": "Tunisia",
         "marker": {
          "color": "#00cc96"
         },
         "name": "Tunisia",
         "offsetgroup": "Tunisia",
         "orientation": "v",
         "showlegend": true,
         "textposition": "auto",
         "type": "bar",
         "x": [
          "Tunisia"
         ],
         "xaxis": "x",
         "y": [
          1642
         ],
         "yaxis": "y"
        },
        {
         "alignmentgroup": "True",
         "customdata": [
          [
           "New Zealand",
           "Australia/Oceania"
          ]
         ],
         "hovertemplate": "Country/Region=%{customdata[0]}<br>TotalCases=%{y}<br>Continent=%{customdata[1]}<extra></extra>",
         "legendgroup": "New Zealand",
         "marker": {
          "color": "#ab63fa"
         },
         "name": "New Zealand",
         "offsetgroup": "New Zealand",
         "orientation": "v",
         "showlegend": true,
         "textposition": "auto",
         "type": "bar",
         "x": [
          "New Zealand"
         ],
         "xaxis": "x",
         "y": [
          1569
         ],
         "yaxis": "y"
        },
        {
         "alignmentgroup": "True",
         "customdata": [
          [
           "Angola",
           "Africa"
          ]
         ],
         "hovertemplate": "Country/Region=%{customdata[0]}<br>TotalCases=%{y}<br>Continent=%{customdata[1]}<extra></extra>",
         "legendgroup": "Angola",
         "marker": {
          "color": "#FFA15A"
         },
         "name": "Angola",
         "offsetgroup": "Angola",
         "orientation": "v",
         "showlegend": true,
         "textposition": "auto",
         "type": "bar",
         "x": [
          "Angola"
         ],
         "xaxis": "x",
         "y": [
          1483
         ],
         "yaxis": "y"
        },
        {
         "alignmentgroup": "True",
         "customdata": [
          [
           "Uruguay",
           "South America"
          ]
         ],
         "hovertemplate": "Country/Region=%{customdata[0]}<br>TotalCases=%{y}<br>Continent=%{customdata[1]}<extra></extra>",
         "legendgroup": "Uruguay",
         "marker": {
          "color": "#19d3f3"
         },
         "name": "Uruguay",
         "offsetgroup": "Uruguay",
         "orientation": "v",
         "showlegend": true,
         "textposition": "auto",
         "type": "bar",
         "x": [
          "Uruguay"
         ],
         "xaxis": "x",
         "y": [
          1318
         ],
         "yaxis": "y"
        },
        {
         "alignmentgroup": "True",
         "customdata": [
          [
           "Latvia",
           "Europe"
          ]
         ],
         "hovertemplate": "Country/Region=%{customdata[0]}<br>TotalCases=%{y}<br>Continent=%{customdata[1]}<extra></extra>",
         "legendgroup": "Latvia",
         "marker": {
          "color": "#FF6692"
         },
         "name": "Latvia",
         "offsetgroup": "Latvia",
         "orientation": "v",
         "showlegend": true,
         "textposition": "auto",
         "type": "bar",
         "x": [
          "Latvia"
         ],
         "xaxis": "x",
         "y": [
          1275
         ],
         "yaxis": "y"
        },
        {
         "alignmentgroup": "True",
         "customdata": [
          [
           "Jordan",
           "Asia"
          ]
         ],
         "hovertemplate": "Country/Region=%{customdata[0]}<br>TotalCases=%{y}<br>Continent=%{customdata[1]}<extra></extra>",
         "legendgroup": "Jordan",
         "marker": {
          "color": "#B6E880"
         },
         "name": "Jordan",
         "offsetgroup": "Jordan",
         "orientation": "v",
         "showlegend": true,
         "textposition": "auto",
         "type": "bar",
         "x": [
          "Jordan"
         ],
         "xaxis": "x",
         "y": [
          1232
         ],
         "yaxis": "y"
        },
        {
         "alignmentgroup": "True",
         "customdata": [
          [
           "Liberia",
           "Africa"
          ]
         ],
         "hovertemplate": "Country/Region=%{customdata[0]}<br>TotalCases=%{y}<br>Continent=%{customdata[1]}<extra></extra>",
         "legendgroup": "Liberia",
         "marker": {
          "color": "#FF97FF"
         },
         "name": "Liberia",
         "offsetgroup": "Liberia",
         "orientation": "v",
         "showlegend": true,
         "textposition": "auto",
         "type": "bar",
         "x": [
          "Liberia"
         ],
         "xaxis": "x",
         "y": [
          1224
         ],
         "yaxis": "y"
        },
        {
         "alignmentgroup": "True",
         "customdata": [
          [
           "Uganda",
           "Africa"
          ]
         ],
         "hovertemplate": "Country/Region=%{customdata[0]}<br>TotalCases=%{y}<br>Continent=%{customdata[1]}<extra></extra>",
         "legendgroup": "Uganda",
         "marker": {
          "color": "#FECB52"
         },
         "name": "Uganda",
         "offsetgroup": "Uganda",
         "orientation": "v",
         "showlegend": true,
         "textposition": "auto",
         "type": "bar",
         "x": [
          "Uganda"
         ],
         "xaxis": "x",
         "y": [
          1223
         ],
         "yaxis": "y"
        },
        {
         "alignmentgroup": "True",
         "customdata": [
          [
           "Cyprus",
           "Asia"
          ]
         ],
         "hovertemplate": "Country/Region=%{customdata[0]}<br>TotalCases=%{y}<br>Continent=%{customdata[1]}<extra></extra>",
         "legendgroup": "Cyprus",
         "marker": {
          "color": "#636efa"
         },
         "name": "Cyprus",
         "offsetgroup": "Cyprus",
         "orientation": "v",
         "showlegend": true,
         "textposition": "auto",
         "type": "bar",
         "x": [
          "Cyprus"
         ],
         "xaxis": "x",
         "y": [
          1208
         ],
         "yaxis": "y"
        },
        {
         "alignmentgroup": "True",
         "customdata": [
          [
           "Georgia",
           "Asia"
          ]
         ],
         "hovertemplate": "Country/Region=%{customdata[0]}<br>TotalCases=%{y}<br>Continent=%{customdata[1]}<extra></extra>",
         "legendgroup": "Georgia",
         "marker": {
          "color": "#EF553B"
         },
         "name": "Georgia",
         "offsetgroup": "Georgia",
         "orientation": "v",
         "showlegend": true,
         "textposition": "auto",
         "type": "bar",
         "x": [
          "Georgia"
         ],
         "xaxis": "x",
         "y": [
          1206
         ],
         "yaxis": "y"
        },
        {
         "alignmentgroup": "True",
         "customdata": [
          [
           "Burkina Faso",
           "Africa"
          ]
         ],
         "hovertemplate": "Country/Region=%{customdata[0]}<br>TotalCases=%{y}<br>Continent=%{customdata[1]}<extra></extra>",
         "legendgroup": "Burkina Faso",
         "marker": {
          "color": "#00cc96"
         },
         "name": "Burkina Faso",
         "offsetgroup": "Burkina Faso",
         "orientation": "v",
         "showlegend": true,
         "textposition": "auto",
         "type": "bar",
         "x": [
          "Burkina Faso"
         ],
         "xaxis": "x",
         "y": [
          1158
         ],
         "yaxis": "y"
        },
        {
         "alignmentgroup": "True",
         "customdata": [
          [
           "Niger",
           "Africa"
          ]
         ],
         "hovertemplate": "Country/Region=%{customdata[0]}<br>TotalCases=%{y}<br>Continent=%{customdata[1]}<extra></extra>",
         "legendgroup": "Niger",
         "marker": {
          "color": "#ab63fa"
         },
         "name": "Niger",
         "offsetgroup": "Niger",
         "orientation": "v",
         "showlegend": true,
         "textposition": "auto",
         "type": "bar",
         "x": [
          "Niger"
         ],
         "xaxis": "x",
         "y": [
          1153
         ],
         "yaxis": "y"
        },
        {
         "alignmentgroup": "True",
         "customdata": [
          [
           "Togo",
           "Africa"
          ]
         ],
         "hovertemplate": "Country/Region=%{customdata[0]}<br>TotalCases=%{y}<br>Continent=%{customdata[1]}<extra></extra>",
         "legendgroup": "Togo",
         "marker": {
          "color": "#FFA15A"
         },
         "name": "Togo",
         "offsetgroup": "Togo",
         "orientation": "v",
         "showlegend": true,
         "textposition": "auto",
         "type": "bar",
         "x": [
          "Togo"
         ],
         "xaxis": "x",
         "y": [
          1012
         ],
         "yaxis": "y"
        },
        {
         "alignmentgroup": "True",
         "customdata": [
          [
           "Syria",
           "Asia"
          ]
         ],
         "hovertemplate": "Country/Region=%{customdata[0]}<br>TotalCases=%{y}<br>Continent=%{customdata[1]}<extra></extra>",
         "legendgroup": "Syria",
         "marker": {
          "color": "#19d3f3"
         },
         "name": "Syria",
         "offsetgroup": "Syria",
         "orientation": "v",
         "showlegend": true,
         "textposition": "auto",
         "type": "bar",
         "x": [
          "Syria"
         ],
         "xaxis": "x",
         "y": [
          999
         ],
         "yaxis": "y"
        },
        {
         "alignmentgroup": "True",
         "customdata": [
          [
           "Jamaica",
           "North America"
          ]
         ],
         "hovertemplate": "Country/Region=%{customdata[0]}<br>TotalCases=%{y}<br>Continent=%{customdata[1]}<extra></extra>",
         "legendgroup": "Jamaica",
         "marker": {
          "color": "#FF6692"
         },
         "name": "Jamaica",
         "offsetgroup": "Jamaica",
         "orientation": "v",
         "showlegend": true,
         "textposition": "auto",
         "type": "bar",
         "x": [
          "Jamaica"
         ],
         "xaxis": "x",
         "y": [
          958
         ],
         "yaxis": "y"
        },
        {
         "alignmentgroup": "True",
         "customdata": [
          [
           "Malta",
           "Europe"
          ]
         ],
         "hovertemplate": "Country/Region=%{customdata[0]}<br>TotalCases=%{y}<br>Continent=%{customdata[1]}<extra></extra>",
         "legendgroup": "Malta",
         "marker": {
          "color": "#B6E880"
         },
         "name": "Malta",
         "offsetgroup": "Malta",
         "orientation": "v",
         "showlegend": true,
         "textposition": "auto",
         "type": "bar",
         "x": [
          "Malta"
         ],
         "xaxis": "x",
         "y": [
          946
         ],
         "yaxis": "y"
        },
        {
         "alignmentgroup": "True",
         "customdata": [
          [
           "Andorra",
           "Europe"
          ]
         ],
         "hovertemplate": "Country/Region=%{customdata[0]}<br>TotalCases=%{y}<br>Continent=%{customdata[1]}<extra></extra>",
         "legendgroup": "Andorra",
         "marker": {
          "color": "#FF97FF"
         },
         "name": "Andorra",
         "offsetgroup": "Andorra",
         "orientation": "v",
         "showlegend": true,
         "textposition": "auto",
         "type": "bar",
         "x": [
          "Andorra"
         ],
         "xaxis": "x",
         "y": [
          944
         ],
         "yaxis": "y"
        },
        {
         "alignmentgroup": "True",
         "customdata": [
          [
           "Chad",
           "Africa"
          ]
         ],
         "hovertemplate": "Country/Region=%{customdata[0]}<br>TotalCases=%{y}<br>Continent=%{customdata[1]}<extra></extra>",
         "legendgroup": "Chad",
         "marker": {
          "color": "#FECB52"
         },
         "name": "Chad",
         "offsetgroup": "Chad",
         "orientation": "v",
         "showlegend": true,
         "textposition": "auto",
         "type": "bar",
         "x": [
          "Chad"
         ],
         "xaxis": "x",
         "y": [
          942
         ],
         "yaxis": "y"
        },
        {
         "alignmentgroup": "True",
         "customdata": [
          [
           "Gambia",
           "Africa"
          ]
         ],
         "hovertemplate": "Country/Region=%{customdata[0]}<br>TotalCases=%{y}<br>Continent=%{customdata[1]}<extra></extra>",
         "legendgroup": "Gambia",
         "marker": {
          "color": "#636efa"
         },
         "name": "Gambia",
         "offsetgroup": "Gambia",
         "orientation": "v",
         "showlegend": true,
         "textposition": "auto",
         "type": "bar",
         "x": [
          "Gambia"
         ],
         "xaxis": "x",
         "y": [
          935
         ],
         "yaxis": "y"
        },
        {
         "alignmentgroup": "True",
         "customdata": [
          [
           "Sao Tome and Principe",
           "Africa"
          ]
         ],
         "hovertemplate": "Country/Region=%{customdata[0]}<br>TotalCases=%{y}<br>Continent=%{customdata[1]}<extra></extra>",
         "legendgroup": "Sao Tome and Principe",
         "marker": {
          "color": "#EF553B"
         },
         "name": "Sao Tome and Principe",
         "offsetgroup": "Sao Tome and Principe",
         "orientation": "v",
         "showlegend": true,
         "textposition": "auto",
         "type": "bar",
         "x": [
          "Sao Tome and Principe"
         ],
         "xaxis": "x",
         "y": [
          878
         ],
         "yaxis": "y"
        },
        {
         "alignmentgroup": "True",
         "customdata": [
          [
           "Botswana",
           "Africa"
          ]
         ],
         "hovertemplate": "Country/Region=%{customdata[0]}<br>TotalCases=%{y}<br>Continent=%{customdata[1]}<extra></extra>",
         "legendgroup": "Botswana",
         "marker": {
          "color": "#00cc96"
         },
         "name": "Botswana",
         "offsetgroup": "Botswana",
         "orientation": "v",
         "showlegend": true,
         "textposition": "auto",
         "type": "bar",
         "x": [
          "Botswana"
         ],
         "xaxis": "x",
         "y": [
          804
         ],
         "yaxis": "y"
        },
        {
         "alignmentgroup": "True",
         "customdata": [
          [
           "Bahamas",
           "North America"
          ]
         ],
         "hovertemplate": "Country/Region=%{customdata[0]}<br>TotalCases=%{y}<br>Continent=%{customdata[1]}<extra></extra>",
         "legendgroup": "Bahamas",
         "marker": {
          "color": "#ab63fa"
         },
         "name": "Bahamas",
         "offsetgroup": "Bahamas",
         "orientation": "v",
         "showlegend": true,
         "textposition": "auto",
         "type": "bar",
         "x": [
          "Bahamas"
         ],
         "xaxis": "x",
         "y": [
          761
         ],
         "yaxis": "y"
        },
        {
         "alignmentgroup": "True",
         "customdata": [
          [
           "Vietnam",
           "Asia"
          ]
         ],
         "hovertemplate": "Country/Region=%{customdata[0]}<br>TotalCases=%{y}<br>Continent=%{customdata[1]}<extra></extra>",
         "legendgroup": "Vietnam",
         "marker": {
          "color": "#FFA15A"
         },
         "name": "Vietnam",
         "offsetgroup": "Vietnam",
         "orientation": "v",
         "showlegend": true,
         "textposition": "auto",
         "type": "bar",
         "x": [
          "Vietnam"
         ],
         "xaxis": "x",
         "y": [
          747
         ],
         "yaxis": "y"
        },
        {
         "alignmentgroup": "True",
         "customdata": [
          [
           "Lesotho",
           "Africa"
          ]
         ],
         "hovertemplate": "Country/Region=%{customdata[0]}<br>TotalCases=%{y}<br>Continent=%{customdata[1]}<extra></extra>",
         "legendgroup": "Lesotho",
         "marker": {
          "color": "#19d3f3"
         },
         "name": "Lesotho",
         "offsetgroup": "Lesotho",
         "orientation": "v",
         "showlegend": true,
         "textposition": "auto",
         "type": "bar",
         "x": [
          "Lesotho"
         ],
         "xaxis": "x",
         "y": [
          742
         ],
         "yaxis": "y"
        },
        {
         "alignmentgroup": "True",
         "customdata": [
          [
           "Diamond Princess",
           null
          ]
         ],
         "hovertemplate": "Country/Region=%{customdata[0]}<br>TotalCases=%{y}<br>Continent=%{customdata[1]}<extra></extra>",
         "legendgroup": "Diamond Princess",
         "marker": {
          "color": "#FF6692"
         },
         "name": "Diamond Princess",
         "offsetgroup": "Diamond Princess",
         "orientation": "v",
         "showlegend": true,
         "textposition": "auto",
         "type": "bar",
         "x": [
          "Diamond Princess"
         ],
         "xaxis": "x",
         "y": [
          712
         ],
         "yaxis": "y"
        },
        {
         "alignmentgroup": "True",
         "customdata": [
          [
           "San Marino",
           "Europe"
          ]
         ],
         "hovertemplate": "Country/Region=%{customdata[0]}<br>TotalCases=%{y}<br>Continent=%{customdata[1]}<extra></extra>",
         "legendgroup": "San Marino",
         "marker": {
          "color": "#B6E880"
         },
         "name": "San Marino",
         "offsetgroup": "San Marino",
         "orientation": "v",
         "showlegend": true,
         "textposition": "auto",
         "type": "bar",
         "x": [
          "San Marino"
         ],
         "xaxis": "x",
         "y": [
          699
         ],
         "yaxis": "y"
        },
        {
         "alignmentgroup": "True",
         "customdata": [
          [
           "Réunion",
           "Africa"
          ]
         ],
         "hovertemplate": "Country/Region=%{customdata[0]}<br>TotalCases=%{y}<br>Continent=%{customdata[1]}<extra></extra>",
         "legendgroup": "Réunion",
         "marker": {
          "color": "#FF97FF"
         },
         "name": "Réunion",
         "offsetgroup": "Réunion",
         "orientation": "v",
         "showlegend": true,
         "textposition": "auto",
         "type": "bar",
         "x": [
          "Réunion"
         ],
         "xaxis": "x",
         "y": [
          671
         ],
         "yaxis": "y"
        },
        {
         "alignmentgroup": "True",
         "customdata": [
          [
           "Channel Islands",
           "Europe"
          ]
         ],
         "hovertemplate": "Country/Region=%{customdata[0]}<br>TotalCases=%{y}<br>Continent=%{customdata[1]}<extra></extra>",
         "legendgroup": "Channel Islands",
         "marker": {
          "color": "#FECB52"
         },
         "name": "Channel Islands",
         "offsetgroup": "Channel Islands",
         "orientation": "v",
         "showlegend": true,
         "textposition": "auto",
         "type": "bar",
         "x": [
          "Channel Islands"
         ],
         "xaxis": "x",
         "y": [
          597
         ],
         "yaxis": "y"
        },
        {
         "alignmentgroup": "True",
         "customdata": [
          [
           "Guyana",
           "South America"
          ]
         ],
         "hovertemplate": "Country/Region=%{customdata[0]}<br>TotalCases=%{y}<br>Continent=%{customdata[1]}<extra></extra>",
         "legendgroup": "Guyana",
         "marker": {
          "color": "#636efa"
         },
         "name": "Guyana",
         "offsetgroup": "Guyana",
         "orientation": "v",
         "showlegend": true,
         "textposition": "auto",
         "type": "bar",
         "x": [
          "Guyana"
         ],
         "xaxis": "x",
         "y": [
          538
         ],
         "yaxis": "y"
        },
        {
         "alignmentgroup": "True",
         "customdata": [
          [
           "Tanzania",
           "Africa"
          ]
         ],
         "hovertemplate": "Country/Region=%{customdata[0]}<br>TotalCases=%{y}<br>Continent=%{customdata[1]}<extra></extra>",
         "legendgroup": "Tanzania",
         "marker": {
          "color": "#EF553B"
         },
         "name": "Tanzania",
         "offsetgroup": "Tanzania",
         "orientation": "v",
         "showlegend": true,
         "textposition": "auto",
         "type": "bar",
         "x": [
          "Tanzania"
         ],
         "xaxis": "x",
         "y": [
          509
         ],
         "yaxis": "y"
        },
        {
         "alignmentgroup": "True",
         "customdata": [
          [
           "Taiwan",
           "Asia"
          ]
         ],
         "hovertemplate": "Country/Region=%{customdata[0]}<br>TotalCases=%{y}<br>Continent=%{customdata[1]}<extra></extra>",
         "legendgroup": "Taiwan",
         "marker": {
          "color": "#00cc96"
         },
         "name": "Taiwan",
         "offsetgroup": "Taiwan",
         "orientation": "v",
         "showlegend": true,
         "textposition": "auto",
         "type": "bar",
         "x": [
          "Taiwan"
         ],
         "xaxis": "x",
         "y": [
          477
         ],
         "yaxis": "y"
        },
        {
         "alignmentgroup": "True",
         "customdata": [
          [
           "Comoros",
           "Africa"
          ]
         ],
         "hovertemplate": "Country/Region=%{customdata[0]}<br>TotalCases=%{y}<br>Continent=%{customdata[1]}<extra></extra>",
         "legendgroup": "Comoros",
         "marker": {
          "color": "#ab63fa"
         },
         "name": "Comoros",
         "offsetgroup": "Comoros",
         "orientation": "v",
         "showlegend": true,
         "textposition": "auto",
         "type": "bar",
         "x": [
          "Comoros"
         ],
         "xaxis": "x",
         "y": [
          396
         ],
         "yaxis": "y"
        },
        {
         "alignmentgroup": "True",
         "customdata": [
          [
           "Burundi",
           "Africa"
          ]
         ],
         "hovertemplate": "Country/Region=%{customdata[0]}<br>TotalCases=%{y}<br>Continent=%{customdata[1]}<extra></extra>",
         "legendgroup": "Burundi",
         "marker": {
          "color": "#FFA15A"
         },
         "name": "Burundi",
         "offsetgroup": "Burundi",
         "orientation": "v",
         "showlegend": true,
         "textposition": "auto",
         "type": "bar",
         "x": [
          "Burundi"
         ],
         "xaxis": "x",
         "y": [
          395
         ],
         "yaxis": "y"
        },
        {
         "alignmentgroup": "True",
         "customdata": [
          [
           "Myanmar",
           "Asia"
          ]
         ],
         "hovertemplate": "Country/Region=%{customdata[0]}<br>TotalCases=%{y}<br>Continent=%{customdata[1]}<extra></extra>",
         "legendgroup": "Myanmar",
         "marker": {
          "color": "#19d3f3"
         },
         "name": "Myanmar",
         "offsetgroup": "Myanmar",
         "orientation": "v",
         "showlegend": true,
         "textposition": "auto",
         "type": "bar",
         "x": [
          "Myanmar"
         ],
         "xaxis": "x",
         "y": [
          357
         ],
         "yaxis": "y"
        },
        {
         "alignmentgroup": "True",
         "customdata": [
          [
           "Mauritius",
           "Africa"
          ]
         ],
         "hovertemplate": "Country/Region=%{customdata[0]}<br>TotalCases=%{y}<br>Continent=%{customdata[1]}<extra></extra>",
         "legendgroup": "Mauritius",
         "marker": {
          "color": "#FF6692"
         },
         "name": "Mauritius",
         "offsetgroup": "Mauritius",
         "orientation": "v",
         "showlegend": true,
         "textposition": "auto",
         "type": "bar",
         "x": [
          "Mauritius"
         ],
         "xaxis": "x",
         "y": [
          344
         ],
         "yaxis": "y"
        },
        {
         "alignmentgroup": "True",
         "customdata": [
          [
           "Isle of Man",
           "Europe"
          ]
         ],
         "hovertemplate": "Country/Region=%{customdata[0]}<br>TotalCases=%{y}<br>Continent=%{customdata[1]}<extra></extra>",
         "legendgroup": "Isle of Man",
         "marker": {
          "color": "#B6E880"
         },
         "name": "Isle of Man",
         "offsetgroup": "Isle of Man",
         "orientation": "v",
         "showlegend": true,
         "textposition": "auto",
         "type": "bar",
         "x": [
          "Isle of Man"
         ],
         "xaxis": "x",
         "y": [
          336
         ],
         "yaxis": "y"
        },
        {
         "alignmentgroup": "True",
         "customdata": [
          [
           "Mongolia",
           "Asia"
          ]
         ],
         "hovertemplate": "Country/Region=%{customdata[0]}<br>TotalCases=%{y}<br>Continent=%{customdata[1]}<extra></extra>",
         "legendgroup": "Mongolia",
         "marker": {
          "color": "#FF97FF"
         },
         "name": "Mongolia",
         "offsetgroup": "Mongolia",
         "orientation": "v",
         "showlegend": true,
         "textposition": "auto",
         "type": "bar",
         "x": [
          "Mongolia"
         ],
         "xaxis": "x",
         "y": [
          293
         ],
         "yaxis": "y"
        },
        {
         "alignmentgroup": "True",
         "customdata": [
          [
           "Eritrea",
           "Africa"
          ]
         ],
         "hovertemplate": "Country/Region=%{customdata[0]}<br>TotalCases=%{y}<br>Continent=%{customdata[1]}<extra></extra>",
         "legendgroup": "Eritrea",
         "marker": {
          "color": "#FECB52"
         },
         "name": "Eritrea",
         "offsetgroup": "Eritrea",
         "orientation": "v",
         "showlegend": true,
         "textposition": "auto",
         "type": "bar",
         "x": [
          "Eritrea"
         ],
         "xaxis": "x",
         "y": [
          282
         ],
         "yaxis": "y"
        },
        {
         "alignmentgroup": "True",
         "customdata": [
          [
           "Guadeloupe",
           "North America"
          ]
         ],
         "hovertemplate": "Country/Region=%{customdata[0]}<br>TotalCases=%{y}<br>Continent=%{customdata[1]}<extra></extra>",
         "legendgroup": "Guadeloupe",
         "marker": {
          "color": "#636efa"
         },
         "name": "Guadeloupe",
         "offsetgroup": "Guadeloupe",
         "orientation": "v",
         "showlegend": true,
         "textposition": "auto",
         "type": "bar",
         "x": [
          "Guadeloupe"
         ],
         "xaxis": "x",
         "y": [
          279
         ],
         "yaxis": "y"
        },
        {
         "alignmentgroup": "True",
         "customdata": [
          [
           "Martinique",
           "North America"
          ]
         ],
         "hovertemplate": "Country/Region=%{customdata[0]}<br>TotalCases=%{y}<br>Continent=%{customdata[1]}<extra></extra>",
         "legendgroup": "Martinique",
         "marker": {
          "color": "#EF553B"
         },
         "name": "Martinique",
         "offsetgroup": "Martinique",
         "orientation": "v",
         "showlegend": true,
         "textposition": "auto",
         "type": "bar",
         "x": [
          "Martinique"
         ],
         "xaxis": "x",
         "y": [
          276
         ],
         "yaxis": "y"
        },
        {
         "alignmentgroup": "True",
         "customdata": [
          [
           "Faeroe Islands",
           "Europe"
          ]
         ],
         "hovertemplate": "Country/Region=%{customdata[0]}<br>TotalCases=%{y}<br>Continent=%{customdata[1]}<extra></extra>",
         "legendgroup": "Faeroe Islands",
         "marker": {
          "color": "#00cc96"
         },
         "name": "Faeroe Islands",
         "offsetgroup": "Faeroe Islands",
         "orientation": "v",
         "showlegend": true,
         "textposition": "auto",
         "type": "bar",
         "x": [
          "Faeroe Islands"
         ],
         "xaxis": "x",
         "y": [
          266
         ],
         "yaxis": "y"
        },
        {
         "alignmentgroup": "True",
         "customdata": [
          [
           "Aruba",
           "North America"
          ]
         ],
         "hovertemplate": "Country/Region=%{customdata[0]}<br>TotalCases=%{y}<br>Continent=%{customdata[1]}<extra></extra>",
         "legendgroup": "Aruba",
         "marker": {
          "color": "#ab63fa"
         },
         "name": "Aruba",
         "offsetgroup": "Aruba",
         "orientation": "v",
         "showlegend": true,
         "textposition": "auto",
         "type": "bar",
         "x": [
          "Aruba"
         ],
         "xaxis": "x",
         "y": [
          263
         ],
         "yaxis": "y"
        },
        {
         "alignmentgroup": "True",
         "customdata": [
          [
           "Cambodia",
           "Asia"
          ]
         ],
         "hovertemplate": "Country/Region=%{customdata[0]}<br>TotalCases=%{y}<br>Continent=%{customdata[1]}<extra></extra>",
         "legendgroup": "Cambodia",
         "marker": {
          "color": "#FFA15A"
         },
         "name": "Cambodia",
         "offsetgroup": "Cambodia",
         "orientation": "v",
         "showlegend": true,
         "textposition": "auto",
         "type": "bar",
         "x": [
          "Cambodia"
         ],
         "xaxis": "x",
         "y": [
          243
         ],
         "yaxis": "y"
        },
        {
         "alignmentgroup": "True",
         "customdata": [
          [
           "Trinidad and Tobago",
           "North America"
          ]
         ],
         "hovertemplate": "Country/Region=%{customdata[0]}<br>TotalCases=%{y}<br>Continent=%{customdata[1]}<extra></extra>",
         "legendgroup": "Trinidad and Tobago",
         "marker": {
          "color": "#19d3f3"
         },
         "name": "Trinidad and Tobago",
         "offsetgroup": "Trinidad and Tobago",
         "orientation": "v",
         "showlegend": true,
         "textposition": "auto",
         "type": "bar",
         "x": [
          "Trinidad and Tobago"
         ],
         "xaxis": "x",
         "y": [
          210
         ],
         "yaxis": "y"
        },
        {
         "alignmentgroup": "True",
         "customdata": [
          [
           "Cayman Islands",
           "North America"
          ]
         ],
         "hovertemplate": "Country/Region=%{customdata[0]}<br>TotalCases=%{y}<br>Continent=%{customdata[1]}<extra></extra>",
         "legendgroup": "Cayman Islands",
         "marker": {
          "color": "#FF6692"
         },
         "name": "Cayman Islands",
         "offsetgroup": "Cayman Islands",
         "orientation": "v",
         "showlegend": true,
         "textposition": "auto",
         "type": "bar",
         "x": [
          "Cayman Islands"
         ],
         "xaxis": "x",
         "y": [
          203
         ],
         "yaxis": "y"
        },
        {
         "alignmentgroup": "True",
         "customdata": [
          [
           "Gibraltar",
           "Europe"
          ]
         ],
         "hovertemplate": "Country/Region=%{customdata[0]}<br>TotalCases=%{y}<br>Continent=%{customdata[1]}<extra></extra>",
         "legendgroup": "Gibraltar",
         "marker": {
          "color": "#B6E880"
         },
         "name": "Gibraltar",
         "offsetgroup": "Gibraltar",
         "orientation": "v",
         "showlegend": true,
         "textposition": "auto",
         "type": "bar",
         "x": [
          "Gibraltar"
         ],
         "xaxis": "x",
         "y": [
          190
         ],
         "yaxis": "y"
        },
        {
         "alignmentgroup": "True",
         "customdata": [
          [
           "Papua New Guinea",
           "Australia/Oceania"
          ]
         ],
         "hovertemplate": "Country/Region=%{customdata[0]}<br>TotalCases=%{y}<br>Continent=%{customdata[1]}<extra></extra>",
         "legendgroup": "Papua New Guinea",
         "marker": {
          "color": "#FF97FF"
         },
         "name": "Papua New Guinea",
         "offsetgroup": "Papua New Guinea",
         "orientation": "v",
         "showlegend": true,
         "textposition": "auto",
         "type": "bar",
         "x": [
          "Papua New Guinea"
         ],
         "xaxis": "x",
         "y": [
          163
         ],
         "yaxis": "y"
        },
        {
         "alignmentgroup": "True",
         "customdata": [
          [
           "Sint Maarten",
           "North America"
          ]
         ],
         "hovertemplate": "Country/Region=%{customdata[0]}<br>TotalCases=%{y}<br>Continent=%{customdata[1]}<extra></extra>",
         "legendgroup": "Sint Maarten",
         "marker": {
          "color": "#FECB52"
         },
         "name": "Sint Maarten",
         "offsetgroup": "Sint Maarten",
         "orientation": "v",
         "showlegend": true,
         "textposition": "auto",
         "type": "bar",
         "x": [
          "Sint Maarten"
         ],
         "xaxis": "x",
         "y": [
          160
         ],
         "yaxis": "y"
        },
        {
         "alignmentgroup": "True",
         "customdata": [
          [
           "Bermuda",
           "North America"
          ]
         ],
         "hovertemplate": "Country/Region=%{customdata[0]}<br>TotalCases=%{y}<br>Continent=%{customdata[1]}<extra></extra>",
         "legendgroup": "Bermuda",
         "marker": {
          "color": "#636efa"
         },
         "name": "Bermuda",
         "offsetgroup": "Bermuda",
         "orientation": "v",
         "showlegend": true,
         "textposition": "auto",
         "type": "bar",
         "x": [
          "Bermuda"
         ],
         "xaxis": "x",
         "y": [
          157
         ],
         "yaxis": "y"
        },
        {
         "alignmentgroup": "True",
         "customdata": [
          [
           "Brunei ",
           "Asia"
          ]
         ],
         "hovertemplate": "Country/Region=%{customdata[0]}<br>TotalCases=%{y}<br>Continent=%{customdata[1]}<extra></extra>",
         "legendgroup": "Brunei ",
         "marker": {
          "color": "#EF553B"
         },
         "name": "Brunei ",
         "offsetgroup": "Brunei ",
         "orientation": "v",
         "showlegend": true,
         "textposition": "auto",
         "type": "bar",
         "x": [
          "Brunei "
         ],
         "xaxis": "x",
         "y": [
          141
         ],
         "yaxis": "y"
        },
        {
         "alignmentgroup": "True",
         "customdata": [
          [
           "Barbados",
           "North America"
          ]
         ],
         "hovertemplate": "Country/Region=%{customdata[0]}<br>TotalCases=%{y}<br>Continent=%{customdata[1]}<extra></extra>",
         "legendgroup": "Barbados",
         "marker": {
          "color": "#00cc96"
         },
         "name": "Barbados",
         "offsetgroup": "Barbados",
         "orientation": "v",
         "showlegend": true,
         "textposition": "auto",
         "type": "bar",
         "x": [
          "Barbados"
         ],
         "xaxis": "x",
         "y": [
          133
         ],
         "yaxis": "y"
        },
        {
         "alignmentgroup": "True",
         "customdata": [
          [
           "Turks and Caicos",
           "North America"
          ]
         ],
         "hovertemplate": "Country/Region=%{customdata[0]}<br>TotalCases=%{y}<br>Continent=%{customdata[1]}<extra></extra>",
         "legendgroup": "Turks and Caicos",
         "marker": {
          "color": "#ab63fa"
         },
         "name": "Turks and Caicos",
         "offsetgroup": "Turks and Caicos",
         "orientation": "v",
         "showlegend": true,
         "textposition": "auto",
         "type": "bar",
         "x": [
          "Turks and Caicos"
         ],
         "xaxis": "x",
         "y": [
          129
         ],
         "yaxis": "y"
        },
        {
         "alignmentgroup": "True",
         "customdata": [
          [
           "Seychelles",
           "Africa"
          ]
         ],
         "hovertemplate": "Country/Region=%{customdata[0]}<br>TotalCases=%{y}<br>Continent=%{customdata[1]}<extra></extra>",
         "legendgroup": "Seychelles",
         "marker": {
          "color": "#FFA15A"
         },
         "name": "Seychelles",
         "offsetgroup": "Seychelles",
         "orientation": "v",
         "showlegend": true,
         "textposition": "auto",
         "type": "bar",
         "x": [
          "Seychelles"
         ],
         "xaxis": "x",
         "y": [
          126
         ],
         "yaxis": "y"
        },
        {
         "alignmentgroup": "True",
         "customdata": [
          [
           "Monaco",
           "Europe"
          ]
         ],
         "hovertemplate": "Country/Region=%{customdata[0]}<br>TotalCases=%{y}<br>Continent=%{customdata[1]}<extra></extra>",
         "legendgroup": "Monaco",
         "marker": {
          "color": "#19d3f3"
         },
         "name": "Monaco",
         "offsetgroup": "Monaco",
         "orientation": "v",
         "showlegend": true,
         "textposition": "auto",
         "type": "bar",
         "x": [
          "Monaco"
         ],
         "xaxis": "x",
         "y": [
          125
         ],
         "yaxis": "y"
        },
        {
         "alignmentgroup": "True",
         "customdata": [
          [
           "Bhutan",
           "Asia"
          ]
         ],
         "hovertemplate": "Country/Region=%{customdata[0]}<br>TotalCases=%{y}<br>Continent=%{customdata[1]}<extra></extra>",
         "legendgroup": "Bhutan",
         "marker": {
          "color": "#FF6692"
         },
         "name": "Bhutan",
         "offsetgroup": "Bhutan",
         "orientation": "v",
         "showlegend": true,
         "textposition": "auto",
         "type": "bar",
         "x": [
          "Bhutan"
         ],
         "xaxis": "x",
         "y": [
          105
         ],
         "yaxis": "y"
        },
        {
         "alignmentgroup": "True",
         "customdata": [
          [
           "Antigua and Barbuda",
           "North America"
          ]
         ],
         "hovertemplate": "Country/Region=%{customdata[0]}<br>TotalCases=%{y}<br>Continent=%{customdata[1]}<extra></extra>",
         "legendgroup": "Antigua and Barbuda",
         "marker": {
          "color": "#B6E880"
         },
         "name": "Antigua and Barbuda",
         "offsetgroup": "Antigua and Barbuda",
         "orientation": "v",
         "showlegend": true,
         "textposition": "auto",
         "type": "bar",
         "x": [
          "Antigua and Barbuda"
         ],
         "xaxis": "x",
         "y": [
          92
         ],
         "yaxis": "y"
        },
        {
         "alignmentgroup": "True",
         "customdata": [
          [
           "Liechtenstein",
           "Europe"
          ]
         ],
         "hovertemplate": "Country/Region=%{customdata[0]}<br>TotalCases=%{y}<br>Continent=%{customdata[1]}<extra></extra>",
         "legendgroup": "Liechtenstein",
         "marker": {
          "color": "#FF97FF"
         },
         "name": "Liechtenstein",
         "offsetgroup": "Liechtenstein",
         "orientation": "v",
         "showlegend": true,
         "textposition": "auto",
         "type": "bar",
         "x": [
          "Liechtenstein"
         ],
         "xaxis": "x",
         "y": [
          89
         ],
         "yaxis": "y"
        },
        {
         "alignmentgroup": "True",
         "customdata": [
          [
           "Belize",
           "North America"
          ]
         ],
         "hovertemplate": "Country/Region=%{customdata[0]}<br>TotalCases=%{y}<br>Continent=%{customdata[1]}<extra></extra>",
         "legendgroup": "Belize",
         "marker": {
          "color": "#FECB52"
         },
         "name": "Belize",
         "offsetgroup": "Belize",
         "orientation": "v",
         "showlegend": true,
         "textposition": "auto",
         "type": "bar",
         "x": [
          "Belize"
         ],
         "xaxis": "x",
         "y": [
          86
         ],
         "yaxis": "y"
        },
        {
         "alignmentgroup": "True",
         "customdata": [
          [
           "French Polynesia",
           "Australia/Oceania"
          ]
         ],
         "hovertemplate": "Country/Region=%{customdata[0]}<br>TotalCases=%{y}<br>Continent=%{customdata[1]}<extra></extra>",
         "legendgroup": "French Polynesia",
         "marker": {
          "color": "#636efa"
         },
         "name": "French Polynesia",
         "offsetgroup": "French Polynesia",
         "orientation": "v",
         "showlegend": true,
         "textposition": "auto",
         "type": "bar",
         "x": [
          "French Polynesia"
         ],
         "xaxis": "x",
         "y": [
          64
         ],
         "yaxis": "y"
        },
        {
         "alignmentgroup": "True",
         "customdata": [
          [
           "St. Vincent Grenadines",
           "North America"
          ]
         ],
         "hovertemplate": "Country/Region=%{customdata[0]}<br>TotalCases=%{y}<br>Continent=%{customdata[1]}<extra></extra>",
         "legendgroup": "St. Vincent Grenadines",
         "marker": {
          "color": "#EF553B"
         },
         "name": "St. Vincent Grenadines",
         "offsetgroup": "St. Vincent Grenadines",
         "orientation": "v",
         "showlegend": true,
         "textposition": "auto",
         "type": "bar",
         "x": [
          "St. Vincent Grenadines"
         ],
         "xaxis": "x",
         "y": [
          56
         ],
         "yaxis": "y"
        },
        {
         "alignmentgroup": "True",
         "customdata": [
          [
           "Saint Martin",
           "North America"
          ]
         ],
         "hovertemplate": "Country/Region=%{customdata[0]}<br>TotalCases=%{y}<br>Continent=%{customdata[1]}<extra></extra>",
         "legendgroup": "Saint Martin",
         "marker": {
          "color": "#00cc96"
         },
         "name": "Saint Martin",
         "offsetgroup": "Saint Martin",
         "orientation": "v",
         "showlegend": true,
         "textposition": "auto",
         "type": "bar",
         "x": [
          "Saint Martin"
         ],
         "xaxis": "x",
         "y": [
          53
         ],
         "yaxis": "y"
        },
        {
         "alignmentgroup": "True",
         "customdata": [
          [
           "Macao",
           "Asia"
          ]
         ],
         "hovertemplate": "Country/Region=%{customdata[0]}<br>TotalCases=%{y}<br>Continent=%{customdata[1]}<extra></extra>",
         "legendgroup": "Macao",
         "marker": {
          "color": "#ab63fa"
         },
         "name": "Macao",
         "offsetgroup": "Macao",
         "orientation": "v",
         "showlegend": true,
         "textposition": "auto",
         "type": "bar",
         "x": [
          "Macao"
         ],
         "xaxis": "x",
         "y": [
          46
         ],
         "yaxis": "y"
        },
        {
         "alignmentgroup": "True",
         "customdata": [
          [
           "Curaçao",
           "North America"
          ]
         ],
         "hovertemplate": "Country/Region=%{customdata[0]}<br>TotalCases=%{y}<br>Continent=%{customdata[1]}<extra></extra>",
         "legendgroup": "Curaçao",
         "marker": {
          "color": "#FFA15A"
         },
         "name": "Curaçao",
         "offsetgroup": "Curaçao",
         "orientation": "v",
         "showlegend": true,
         "textposition": "auto",
         "type": "bar",
         "x": [
          "Curaçao"
         ],
         "xaxis": "x",
         "y": [
          31
         ],
         "yaxis": "y"
        },
        {
         "alignmentgroup": "True",
         "customdata": [
          [
           "Fiji",
           "Australia/Oceania"
          ]
         ],
         "hovertemplate": "Country/Region=%{customdata[0]}<br>TotalCases=%{y}<br>Continent=%{customdata[1]}<extra></extra>",
         "legendgroup": "Fiji",
         "marker": {
          "color": "#19d3f3"
         },
         "name": "Fiji",
         "offsetgroup": "Fiji",
         "orientation": "v",
         "showlegend": true,
         "textposition": "auto",
         "type": "bar",
         "x": [
          "Fiji"
         ],
         "xaxis": "x",
         "y": [
          27
         ],
         "yaxis": "y"
        },
        {
         "alignmentgroup": "True",
         "customdata": [
          [
           "Saint Lucia",
           "North America"
          ]
         ],
         "hovertemplate": "Country/Region=%{customdata[0]}<br>TotalCases=%{y}<br>Continent=%{customdata[1]}<extra></extra>",
         "legendgroup": "Saint Lucia",
         "marker": {
          "color": "#FF6692"
         },
         "name": "Saint Lucia",
         "offsetgroup": "Saint Lucia",
         "orientation": "v",
         "showlegend": true,
         "textposition": "auto",
         "type": "bar",
         "x": [
          "Saint Lucia"
         ],
         "xaxis": "x",
         "y": [
          25
         ],
         "yaxis": "y"
        },
        {
         "alignmentgroup": "True",
         "customdata": [
          [
           "Timor-Leste",
           "Asia"
          ]
         ],
         "hovertemplate": "Country/Region=%{customdata[0]}<br>TotalCases=%{y}<br>Continent=%{customdata[1]}<extra></extra>",
         "legendgroup": "Timor-Leste",
         "marker": {
          "color": "#B6E880"
         },
         "name": "Timor-Leste",
         "offsetgroup": "Timor-Leste",
         "orientation": "v",
         "showlegend": true,
         "textposition": "auto",
         "type": "bar",
         "x": [
          "Timor-Leste"
         ],
         "xaxis": "x",
         "y": [
          25
         ],
         "yaxis": "y"
        },
        {
         "alignmentgroup": "True",
         "customdata": [
          [
           "Grenada",
           "North America"
          ]
         ],
         "hovertemplate": "Country/Region=%{customdata[0]}<br>TotalCases=%{y}<br>Continent=%{customdata[1]}<extra></extra>",
         "legendgroup": "Grenada",
         "marker": {
          "color": "#FF97FF"
         },
         "name": "Grenada",
         "offsetgroup": "Grenada",
         "orientation": "v",
         "showlegend": true,
         "textposition": "auto",
         "type": "bar",
         "x": [
          "Grenada"
         ],
         "xaxis": "x",
         "y": [
          24
         ],
         "yaxis": "y"
        },
        {
         "alignmentgroup": "True",
         "customdata": [
          [
           "New Caledonia",
           "Australia/Oceania"
          ]
         ],
         "hovertemplate": "Country/Region=%{customdata[0]}<br>TotalCases=%{y}<br>Continent=%{customdata[1]}<extra></extra>",
         "legendgroup": "New Caledonia",
         "marker": {
          "color": "#FECB52"
         },
         "name": "New Caledonia",
         "offsetgroup": "New Caledonia",
         "orientation": "v",
         "showlegend": true,
         "textposition": "auto",
         "type": "bar",
         "x": [
          "New Caledonia"
         ],
         "xaxis": "x",
         "y": [
          22
         ],
         "yaxis": "y"
        },
        {
         "alignmentgroup": "True",
         "customdata": [
          [
           "Laos",
           "Asia"
          ]
         ],
         "hovertemplate": "Country/Region=%{customdata[0]}<br>TotalCases=%{y}<br>Continent=%{customdata[1]}<extra></extra>",
         "legendgroup": "Laos",
         "marker": {
          "color": "#636efa"
         },
         "name": "Laos",
         "offsetgroup": "Laos",
         "orientation": "v",
         "showlegend": true,
         "textposition": "auto",
         "type": "bar",
         "x": [
          "Laos"
         ],
         "xaxis": "x",
         "y": [
          20
         ],
         "yaxis": "y"
        },
        {
         "alignmentgroup": "True",
         "customdata": [
          [
           "Dominica",
           "North America"
          ]
         ],
         "hovertemplate": "Country/Region=%{customdata[0]}<br>TotalCases=%{y}<br>Continent=%{customdata[1]}<extra></extra>",
         "legendgroup": "Dominica",
         "marker": {
          "color": "#EF553B"
         },
         "name": "Dominica",
         "offsetgroup": "Dominica",
         "orientation": "v",
         "showlegend": true,
         "textposition": "auto",
         "type": "bar",
         "x": [
          "Dominica"
         ],
         "xaxis": "x",
         "y": [
          18
         ],
         "yaxis": "y"
        },
        {
         "alignmentgroup": "True",
         "customdata": [
          [
           "Saint Kitts and Nevis",
           "North America"
          ]
         ],
         "hovertemplate": "Country/Region=%{customdata[0]}<br>TotalCases=%{y}<br>Continent=%{customdata[1]}<extra></extra>",
         "legendgroup": "Saint Kitts and Nevis",
         "marker": {
          "color": "#00cc96"
         },
         "name": "Saint Kitts and Nevis",
         "offsetgroup": "Saint Kitts and Nevis",
         "orientation": "v",
         "showlegend": true,
         "textposition": "auto",
         "type": "bar",
         "x": [
          "Saint Kitts and Nevis"
         ],
         "xaxis": "x",
         "y": [
          17
         ],
         "yaxis": "y"
        },
        {
         "alignmentgroup": "True",
         "customdata": [
          [
           "Greenland",
           "North America"
          ]
         ],
         "hovertemplate": "Country/Region=%{customdata[0]}<br>TotalCases=%{y}<br>Continent=%{customdata[1]}<extra></extra>",
         "legendgroup": "Greenland",
         "marker": {
          "color": "#ab63fa"
         },
         "name": "Greenland",
         "offsetgroup": "Greenland",
         "orientation": "v",
         "showlegend": true,
         "textposition": "auto",
         "type": "bar",
         "x": [
          "Greenland"
         ],
         "xaxis": "x",
         "y": [
          14
         ],
         "yaxis": "y"
        },
        {
         "alignmentgroup": "True",
         "customdata": [
          [
           "Montserrat",
           "North America"
          ]
         ],
         "hovertemplate": "Country/Region=%{customdata[0]}<br>TotalCases=%{y}<br>Continent=%{customdata[1]}<extra></extra>",
         "legendgroup": "Montserrat",
         "marker": {
          "color": "#FFA15A"
         },
         "name": "Montserrat",
         "offsetgroup": "Montserrat",
         "orientation": "v",
         "showlegend": true,
         "textposition": "auto",
         "type": "bar",
         "x": [
          "Montserrat"
         ],
         "xaxis": "x",
         "y": [
          13
         ],
         "yaxis": "y"
        },
        {
         "alignmentgroup": "True",
         "customdata": [
          [
           "Caribbean Netherlands",
           "North America"
          ]
         ],
         "hovertemplate": "Country/Region=%{customdata[0]}<br>TotalCases=%{y}<br>Continent=%{customdata[1]}<extra></extra>",
         "legendgroup": "Caribbean Netherlands",
         "marker": {
          "color": "#19d3f3"
         },
         "name": "Caribbean Netherlands",
         "offsetgroup": "Caribbean Netherlands",
         "orientation": "v",
         "showlegend": true,
         "textposition": "auto",
         "type": "bar",
         "x": [
          "Caribbean Netherlands"
         ],
         "xaxis": "x",
         "y": [
          13
         ],
         "yaxis": "y"
        },
        {
         "alignmentgroup": "True",
         "customdata": [
          [
           "Falkland Islands",
           "South America"
          ]
         ],
         "hovertemplate": "Country/Region=%{customdata[0]}<br>TotalCases=%{y}<br>Continent=%{customdata[1]}<extra></extra>",
         "legendgroup": "Falkland Islands",
         "marker": {
          "color": "#FF6692"
         },
         "name": "Falkland Islands",
         "offsetgroup": "Falkland Islands",
         "orientation": "v",
         "showlegend": true,
         "textposition": "auto",
         "type": "bar",
         "x": [
          "Falkland Islands"
         ],
         "xaxis": "x",
         "y": [
          13
         ],
         "yaxis": "y"
        },
        {
         "alignmentgroup": "True",
         "customdata": [
          [
           "Vatican City",
           "Europe"
          ]
         ],
         "hovertemplate": "Country/Region=%{customdata[0]}<br>TotalCases=%{y}<br>Continent=%{customdata[1]}<extra></extra>",
         "legendgroup": "Vatican City",
         "marker": {
          "color": "#B6E880"
         },
         "name": "Vatican City",
         "offsetgroup": "Vatican City",
         "orientation": "v",
         "showlegend": true,
         "textposition": "auto",
         "type": "bar",
         "x": [
          "Vatican City"
         ],
         "xaxis": "x",
         "y": [
          12
         ],
         "yaxis": "y"
        },
        {
         "alignmentgroup": "True",
         "customdata": [
          [
           "Western Sahara",
           "Africa"
          ]
         ],
         "hovertemplate": "Country/Region=%{customdata[0]}<br>TotalCases=%{y}<br>Continent=%{customdata[1]}<extra></extra>",
         "legendgroup": "Western Sahara",
         "marker": {
          "color": "#FF97FF"
         },
         "name": "Western Sahara",
         "offsetgroup": "Western Sahara",
         "orientation": "v",
         "showlegend": true,
         "textposition": "auto",
         "type": "bar",
         "x": [
          "Western Sahara"
         ],
         "xaxis": "x",
         "y": [
          10
         ],
         "yaxis": "y"
        }
       ],
       "layout": {
        "barmode": "relative",
        "height": 500,
        "legend": {
         "title": {
          "text": "Country/Region"
         },
         "tracegroupgap": 0
        },
        "margin": {
         "t": 60
        },
        "template": {
         "data": {
          "bar": [
           {
            "error_x": {
             "color": "#2a3f5f"
            },
            "error_y": {
             "color": "#2a3f5f"
            },
            "marker": {
             "line": {
              "color": "#E5ECF6",
              "width": 0.5
             }
            },
            "type": "bar"
           }
          ],
          "barpolar": [
           {
            "marker": {
             "line": {
              "color": "#E5ECF6",
              "width": 0.5
             }
            },
            "type": "barpolar"
           }
          ],
          "carpet": [
           {
            "aaxis": {
             "endlinecolor": "#2a3f5f",
             "gridcolor": "white",
             "linecolor": "white",
             "minorgridcolor": "white",
             "startlinecolor": "#2a3f5f"
            },
            "baxis": {
             "endlinecolor": "#2a3f5f",
             "gridcolor": "white",
             "linecolor": "white",
             "minorgridcolor": "white",
             "startlinecolor": "#2a3f5f"
            },
            "type": "carpet"
           }
          ],
          "choropleth": [
           {
            "colorbar": {
             "outlinewidth": 0,
             "ticks": ""
            },
            "type": "choropleth"
           }
          ],
          "contour": [
           {
            "colorbar": {
             "outlinewidth": 0,
             "ticks": ""
            },
            "colorscale": [
             [
              0,
              "#0d0887"
             ],
             [
              0.1111111111111111,
              "#46039f"
             ],
             [
              0.2222222222222222,
              "#7201a8"
             ],
             [
              0.3333333333333333,
              "#9c179e"
             ],
             [
              0.4444444444444444,
              "#bd3786"
             ],
             [
              0.5555555555555556,
              "#d8576b"
             ],
             [
              0.6666666666666666,
              "#ed7953"
             ],
             [
              0.7777777777777778,
              "#fb9f3a"
             ],
             [
              0.8888888888888888,
              "#fdca26"
             ],
             [
              1,
              "#f0f921"
             ]
            ],
            "type": "contour"
           }
          ],
          "contourcarpet": [
           {
            "colorbar": {
             "outlinewidth": 0,
             "ticks": ""
            },
            "type": "contourcarpet"
           }
          ],
          "heatmap": [
           {
            "colorbar": {
             "outlinewidth": 0,
             "ticks": ""
            },
            "colorscale": [
             [
              0,
              "#0d0887"
             ],
             [
              0.1111111111111111,
              "#46039f"
             ],
             [
              0.2222222222222222,
              "#7201a8"
             ],
             [
              0.3333333333333333,
              "#9c179e"
             ],
             [
              0.4444444444444444,
              "#bd3786"
             ],
             [
              0.5555555555555556,
              "#d8576b"
             ],
             [
              0.6666666666666666,
              "#ed7953"
             ],
             [
              0.7777777777777778,
              "#fb9f3a"
             ],
             [
              0.8888888888888888,
              "#fdca26"
             ],
             [
              1,
              "#f0f921"
             ]
            ],
            "type": "heatmap"
           }
          ],
          "heatmapgl": [
           {
            "colorbar": {
             "outlinewidth": 0,
             "ticks": ""
            },
            "colorscale": [
             [
              0,
              "#0d0887"
             ],
             [
              0.1111111111111111,
              "#46039f"
             ],
             [
              0.2222222222222222,
              "#7201a8"
             ],
             [
              0.3333333333333333,
              "#9c179e"
             ],
             [
              0.4444444444444444,
              "#bd3786"
             ],
             [
              0.5555555555555556,
              "#d8576b"
             ],
             [
              0.6666666666666666,
              "#ed7953"
             ],
             [
              0.7777777777777778,
              "#fb9f3a"
             ],
             [
              0.8888888888888888,
              "#fdca26"
             ],
             [
              1,
              "#f0f921"
             ]
            ],
            "type": "heatmapgl"
           }
          ],
          "histogram": [
           {
            "marker": {
             "colorbar": {
              "outlinewidth": 0,
              "ticks": ""
             }
            },
            "type": "histogram"
           }
          ],
          "histogram2d": [
           {
            "colorbar": {
             "outlinewidth": 0,
             "ticks": ""
            },
            "colorscale": [
             [
              0,
              "#0d0887"
             ],
             [
              0.1111111111111111,
              "#46039f"
             ],
             [
              0.2222222222222222,
              "#7201a8"
             ],
             [
              0.3333333333333333,
              "#9c179e"
             ],
             [
              0.4444444444444444,
              "#bd3786"
             ],
             [
              0.5555555555555556,
              "#d8576b"
             ],
             [
              0.6666666666666666,
              "#ed7953"
             ],
             [
              0.7777777777777778,
              "#fb9f3a"
             ],
             [
              0.8888888888888888,
              "#fdca26"
             ],
             [
              1,
              "#f0f921"
             ]
            ],
            "type": "histogram2d"
           }
          ],
          "histogram2dcontour": [
           {
            "colorbar": {
             "outlinewidth": 0,
             "ticks": ""
            },
            "colorscale": [
             [
              0,
              "#0d0887"
             ],
             [
              0.1111111111111111,
              "#46039f"
             ],
             [
              0.2222222222222222,
              "#7201a8"
             ],
             [
              0.3333333333333333,
              "#9c179e"
             ],
             [
              0.4444444444444444,
              "#bd3786"
             ],
             [
              0.5555555555555556,
              "#d8576b"
             ],
             [
              0.6666666666666666,
              "#ed7953"
             ],
             [
              0.7777777777777778,
              "#fb9f3a"
             ],
             [
              0.8888888888888888,
              "#fdca26"
             ],
             [
              1,
              "#f0f921"
             ]
            ],
            "type": "histogram2dcontour"
           }
          ],
          "mesh3d": [
           {
            "colorbar": {
             "outlinewidth": 0,
             "ticks": ""
            },
            "type": "mesh3d"
           }
          ],
          "parcoords": [
           {
            "line": {
             "colorbar": {
              "outlinewidth": 0,
              "ticks": ""
             }
            },
            "type": "parcoords"
           }
          ],
          "pie": [
           {
            "automargin": true,
            "type": "pie"
           }
          ],
          "scatter": [
           {
            "marker": {
             "colorbar": {
              "outlinewidth": 0,
              "ticks": ""
             }
            },
            "type": "scatter"
           }
          ],
          "scatter3d": [
           {
            "line": {
             "colorbar": {
              "outlinewidth": 0,
              "ticks": ""
             }
            },
            "marker": {
             "colorbar": {
              "outlinewidth": 0,
              "ticks": ""
             }
            },
            "type": "scatter3d"
           }
          ],
          "scattercarpet": [
           {
            "marker": {
             "colorbar": {
              "outlinewidth": 0,
              "ticks": ""
             }
            },
            "type": "scattercarpet"
           }
          ],
          "scattergeo": [
           {
            "marker": {
             "colorbar": {
              "outlinewidth": 0,
              "ticks": ""
             }
            },
            "type": "scattergeo"
           }
          ],
          "scattergl": [
           {
            "marker": {
             "colorbar": {
              "outlinewidth": 0,
              "ticks": ""
             }
            },
            "type": "scattergl"
           }
          ],
          "scattermapbox": [
           {
            "marker": {
             "colorbar": {
              "outlinewidth": 0,
              "ticks": ""
             }
            },
            "type": "scattermapbox"
           }
          ],
          "scatterpolar": [
           {
            "marker": {
             "colorbar": {
              "outlinewidth": 0,
              "ticks": ""
             }
            },
            "type": "scatterpolar"
           }
          ],
          "scatterpolargl": [
           {
            "marker": {
             "colorbar": {
              "outlinewidth": 0,
              "ticks": ""
             }
            },
            "type": "scatterpolargl"
           }
          ],
          "scatterternary": [
           {
            "marker": {
             "colorbar": {
              "outlinewidth": 0,
              "ticks": ""
             }
            },
            "type": "scatterternary"
           }
          ],
          "surface": [
           {
            "colorbar": {
             "outlinewidth": 0,
             "ticks": ""
            },
            "colorscale": [
             [
              0,
              "#0d0887"
             ],
             [
              0.1111111111111111,
              "#46039f"
             ],
             [
              0.2222222222222222,
              "#7201a8"
             ],
             [
              0.3333333333333333,
              "#9c179e"
             ],
             [
              0.4444444444444444,
              "#bd3786"
             ],
             [
              0.5555555555555556,
              "#d8576b"
             ],
             [
              0.6666666666666666,
              "#ed7953"
             ],
             [
              0.7777777777777778,
              "#fb9f3a"
             ],
             [
              0.8888888888888888,
              "#fdca26"
             ],
             [
              1,
              "#f0f921"
             ]
            ],
            "type": "surface"
           }
          ],
          "table": [
           {
            "cells": {
             "fill": {
              "color": "#EBF0F8"
             },
             "line": {
              "color": "white"
             }
            },
            "header": {
             "fill": {
              "color": "#C8D4E3"
             },
             "line": {
              "color": "white"
             }
            },
            "type": "table"
           }
          ]
         },
         "layout": {
          "annotationdefaults": {
           "arrowcolor": "#2a3f5f",
           "arrowhead": 0,
           "arrowwidth": 1
          },
          "coloraxis": {
           "colorbar": {
            "outlinewidth": 0,
            "ticks": ""
           }
          },
          "colorscale": {
           "diverging": [
            [
             0,
             "#8e0152"
            ],
            [
             0.1,
             "#c51b7d"
            ],
            [
             0.2,
             "#de77ae"
            ],
            [
             0.3,
             "#f1b6da"
            ],
            [
             0.4,
             "#fde0ef"
            ],
            [
             0.5,
             "#f7f7f7"
            ],
            [
             0.6,
             "#e6f5d0"
            ],
            [
             0.7,
             "#b8e186"
            ],
            [
             0.8,
             "#7fbc41"
            ],
            [
             0.9,
             "#4d9221"
            ],
            [
             1,
             "#276419"
            ]
           ],
           "sequential": [
            [
             0,
             "#0d0887"
            ],
            [
             0.1111111111111111,
             "#46039f"
            ],
            [
             0.2222222222222222,
             "#7201a8"
            ],
            [
             0.3333333333333333,
             "#9c179e"
            ],
            [
             0.4444444444444444,
             "#bd3786"
            ],
            [
             0.5555555555555556,
             "#d8576b"
            ],
            [
             0.6666666666666666,
             "#ed7953"
            ],
            [
             0.7777777777777778,
             "#fb9f3a"
            ],
            [
             0.8888888888888888,
             "#fdca26"
            ],
            [
             1,
             "#f0f921"
            ]
           ],
           "sequentialminus": [
            [
             0,
             "#0d0887"
            ],
            [
             0.1111111111111111,
             "#46039f"
            ],
            [
             0.2222222222222222,
             "#7201a8"
            ],
            [
             0.3333333333333333,
             "#9c179e"
            ],
            [
             0.4444444444444444,
             "#bd3786"
            ],
            [
             0.5555555555555556,
             "#d8576b"
            ],
            [
             0.6666666666666666,
             "#ed7953"
            ],
            [
             0.7777777777777778,
             "#fb9f3a"
            ],
            [
             0.8888888888888888,
             "#fdca26"
            ],
            [
             1,
             "#f0f921"
            ]
           ]
          },
          "colorway": [
           "#636efa",
           "#EF553B",
           "#00cc96",
           "#ab63fa",
           "#FFA15A",
           "#19d3f3",
           "#FF6692",
           "#B6E880",
           "#FF97FF",
           "#FECB52"
          ],
          "font": {
           "color": "#2a3f5f"
          },
          "geo": {
           "bgcolor": "white",
           "lakecolor": "white",
           "landcolor": "#E5ECF6",
           "showlakes": true,
           "showland": true,
           "subunitcolor": "white"
          },
          "hoverlabel": {
           "align": "left"
          },
          "hovermode": "closest",
          "mapbox": {
           "style": "light"
          },
          "paper_bgcolor": "white",
          "plot_bgcolor": "#E5ECF6",
          "polar": {
           "angularaxis": {
            "gridcolor": "white",
            "linecolor": "white",
            "ticks": ""
           },
           "bgcolor": "#E5ECF6",
           "radialaxis": {
            "gridcolor": "white",
            "linecolor": "white",
            "ticks": ""
           }
          },
          "scene": {
           "xaxis": {
            "backgroundcolor": "#E5ECF6",
            "gridcolor": "white",
            "gridwidth": 2,
            "linecolor": "white",
            "showbackground": true,
            "ticks": "",
            "zerolinecolor": "white"
           },
           "yaxis": {
            "backgroundcolor": "#E5ECF6",
            "gridcolor": "white",
            "gridwidth": 2,
            "linecolor": "white",
            "showbackground": true,
            "ticks": "",
            "zerolinecolor": "white"
           },
           "zaxis": {
            "backgroundcolor": "#E5ECF6",
            "gridcolor": "white",
            "gridwidth": 2,
            "linecolor": "white",
            "showbackground": true,
            "ticks": "",
            "zerolinecolor": "white"
           }
          },
          "shapedefaults": {
           "line": {
            "color": "#2a3f5f"
           }
          },
          "ternary": {
           "aaxis": {
            "gridcolor": "white",
            "linecolor": "white",
            "ticks": ""
           },
           "baxis": {
            "gridcolor": "white",
            "linecolor": "white",
            "ticks": ""
           },
           "bgcolor": "#E5ECF6",
           "caxis": {
            "gridcolor": "white",
            "linecolor": "white",
            "ticks": ""
           }
          },
          "title": {
           "x": 0.05
          },
          "xaxis": {
           "automargin": true,
           "gridcolor": "white",
           "linecolor": "white",
           "ticks": "",
           "title": {
            "standoff": 15
           },
           "zerolinecolor": "white",
           "zerolinewidth": 2
          },
          "yaxis": {
           "automargin": true,
           "gridcolor": "white",
           "linecolor": "white",
           "ticks": "",
           "title": {
            "standoff": 15
           },
           "zerolinecolor": "white",
           "zerolinewidth": 2
          }
         }
        },
        "xaxis": {
         "anchor": "y",
         "categoryarray": [
          "USA",
          "Brazil",
          "India",
          "Russia",
          "South Africa",
          "Mexico",
          "Peru",
          "Chile",
          "Colombia",
          "Spain",
          "Iran",
          "UK",
          "Saudi Arabia",
          "Pakistan",
          "Bangladesh",
          "Italy",
          "Turkey",
          "Argentina",
          "Germany",
          "France",
          "Iraq",
          "Philippines",
          "Indonesia",
          "Canada",
          "Qatar",
          "Kazakhstan",
          "Egypt",
          "Ecuador",
          "Bolivia",
          "Sweden",
          "Oman",
          "Israel",
          "Ukraine",
          "Dominican Republic",
          "Panama",
          "Belgium",
          "Kuwait",
          "Belarus",
          "UAE",
          "Romania",
          "Netherlands",
          "Singapore",
          "Guatemala",
          "Portugal",
          "Poland",
          "Nigeria",
          "Honduras",
          "Bahrain",
          "Japan",
          "Armenia",
          "Ghana",
          "Kyrgyzstan",
          "Afghanistan",
          "Switzerland",
          "Algeria",
          "Azerbaijan",
          "Morocco",
          "Uzbekistan",
          "Serbia",
          "Moldova",
          "Ireland",
          "Kenya",
          "Venezuela",
          "Nepal",
          "Austria",
          "Costa Rica",
          "Ethiopia",
          "Australia",
          "El Salvador",
          "Czechia",
          "Cameroon",
          "Ivory Coast",
          "S. Korea",
          "Denmark",
          "Palestine",
          "Bosnia and Herzegovina",
          "Bulgaria",
          "Madagascar",
          "Sudan",
          "North Macedonia",
          "Senegal",
          "Norway",
          "DRC",
          "Malaysia",
          "French Guiana",
          "Gabon",
          "Tajikistan",
          "Guinea",
          "Haiti",
          "Finland",
          "Zambia",
          "Luxembourg",
          "Mauritania",
          "Paraguay",
          "Albania",
          "Lebanon",
          "Croatia",
          "Djibouti",
          "Greece",
          "Libya",
          "Equatorial Guinea",
          "Maldives",
          "CAR",
          "Hungary",
          "Malawi",
          "Zimbabwe",
          "Nicaragua",
          "Hong Kong",
          "Congo",
          "Montenegro",
          "Thailand",
          "Somalia",
          "Mayotte",
          "Eswatini",
          "Sri Lanka",
          "Cuba",
          "Cabo Verde",
          "Namibia",
          "Mali",
          "Slovakia",
          "South Sudan",
          "Slovenia",
          "Lithuania",
          "Estonia",
          "Mozambique",
          "Rwanda",
          "Suriname",
          "Guinea-Bissau",
          "Benin",
          "Iceland",
          "Sierra Leone",
          "Yemen",
          "Tunisia",
          "New Zealand",
          "Angola",
          "Uruguay",
          "Latvia",
          "Jordan",
          "Liberia",
          "Uganda",
          "Cyprus",
          "Georgia",
          "Burkina Faso",
          "Niger",
          "Togo",
          "Syria",
          "Jamaica",
          "Malta",
          "Andorra",
          "Chad",
          "Gambia",
          "Sao Tome and Principe",
          "Botswana",
          "Bahamas",
          "Vietnam",
          "Lesotho",
          "Diamond Princess",
          "San Marino",
          "Réunion",
          "Channel Islands",
          "Guyana",
          "Tanzania",
          "Taiwan",
          "Comoros",
          "Burundi",
          "Myanmar",
          "Mauritius",
          "Isle of Man",
          "Mongolia",
          "Eritrea",
          "Guadeloupe",
          "Martinique",
          "Faeroe Islands",
          "Aruba",
          "Cambodia",
          "Trinidad and Tobago",
          "Cayman Islands",
          "Gibraltar",
          "Papua New Guinea",
          "Sint Maarten",
          "Bermuda",
          "Brunei ",
          "Barbados",
          "Turks and Caicos",
          "Seychelles",
          "Monaco",
          "Bhutan",
          "Antigua and Barbuda",
          "Liechtenstein",
          "Belize",
          "French Polynesia",
          "St. Vincent Grenadines",
          "Saint Martin",
          "Macao",
          "Curaçao",
          "Fiji",
          "Saint Lucia",
          "Timor-Leste",
          "Grenada",
          "New Caledonia",
          "Laos",
          "Dominica",
          "Saint Kitts and Nevis",
          "Greenland",
          "Montserrat",
          "Caribbean Netherlands",
          "Falkland Islands",
          "Vatican City",
          "Western Sahara"
         ],
         "categoryorder": "array",
         "domain": [
          0,
          1
         ],
         "title": {
          "text": "Country/Region"
         }
        },
        "yaxis": {
         "anchor": "x",
         "domain": [
          0,
          1
         ],
         "title": {
          "text": "TotalCases"
         }
        }
       }
      },
      "text/html": [
       "<div>                            <div id=\"7141fb99-3b60-4124-b058-4bb576d5773a\" class=\"plotly-graph-div\" style=\"height:500px; width:100%;\"></div>            <script type=\"text/javascript\">                require([\"plotly\"], function(Plotly) {                    window.PLOTLYENV=window.PLOTLYENV || {};                                    if (document.getElementById(\"7141fb99-3b60-4124-b058-4bb576d5773a\")) {                    Plotly.newPlot(                        \"7141fb99-3b60-4124-b058-4bb576d5773a\",                        [{\"alignmentgroup\": \"True\", \"customdata\": [[\"USA\", \"North America\"]], \"hovertemplate\": \"Country/Region=%{customdata[0]}<br>TotalCases=%{y}<br>Continent=%{customdata[1]}<extra></extra>\", \"legendgroup\": \"USA\", \"marker\": {\"color\": \"#636efa\"}, \"name\": \"USA\", \"offsetgroup\": \"USA\", \"orientation\": \"v\", \"showlegend\": true, \"textposition\": \"auto\", \"type\": \"bar\", \"x\": [\"USA\"], \"xaxis\": \"x\", \"y\": [5032179], \"yaxis\": \"y\"}, {\"alignmentgroup\": \"True\", \"customdata\": [[\"Brazil\", \"South America\"]], \"hovertemplate\": \"Country/Region=%{customdata[0]}<br>TotalCases=%{y}<br>Continent=%{customdata[1]}<extra></extra>\", \"legendgroup\": \"Brazil\", \"marker\": {\"color\": \"#EF553B\"}, \"name\": \"Brazil\", \"offsetgroup\": \"Brazil\", \"orientation\": \"v\", \"showlegend\": true, \"textposition\": \"auto\", \"type\": \"bar\", \"x\": [\"Brazil\"], \"xaxis\": \"x\", \"y\": [2917562], \"yaxis\": \"y\"}, {\"alignmentgroup\": \"True\", \"customdata\": [[\"India\", \"Asia\"]], \"hovertemplate\": \"Country/Region=%{customdata[0]}<br>TotalCases=%{y}<br>Continent=%{customdata[1]}<extra></extra>\", \"legendgroup\": \"India\", \"marker\": {\"color\": \"#00cc96\"}, \"name\": \"India\", \"offsetgroup\": \"India\", \"orientation\": \"v\", \"showlegend\": true, \"textposition\": \"auto\", \"type\": \"bar\", \"x\": [\"India\"], \"xaxis\": \"x\", \"y\": [2025409], \"yaxis\": \"y\"}, {\"alignmentgroup\": \"True\", \"customdata\": [[\"Russia\", \"Europe\"]], \"hovertemplate\": \"Country/Region=%{customdata[0]}<br>TotalCases=%{y}<br>Continent=%{customdata[1]}<extra></extra>\", \"legendgroup\": \"Russia\", \"marker\": {\"color\": \"#ab63fa\"}, \"name\": \"Russia\", \"offsetgroup\": \"Russia\", \"orientation\": \"v\", \"showlegend\": true, \"textposition\": \"auto\", \"type\": \"bar\", \"x\": [\"Russia\"], \"xaxis\": \"x\", \"y\": [871894], \"yaxis\": \"y\"}, {\"alignmentgroup\": \"True\", \"customdata\": [[\"South Africa\", \"Africa\"]], \"hovertemplate\": \"Country/Region=%{customdata[0]}<br>TotalCases=%{y}<br>Continent=%{customdata[1]}<extra></extra>\", \"legendgroup\": \"South Africa\", \"marker\": {\"color\": \"#FFA15A\"}, \"name\": \"South Africa\", \"offsetgroup\": \"South Africa\", \"orientation\": \"v\", \"showlegend\": true, \"textposition\": \"auto\", \"type\": \"bar\", \"x\": [\"South Africa\"], \"xaxis\": \"x\", \"y\": [538184], \"yaxis\": \"y\"}, {\"alignmentgroup\": \"True\", \"customdata\": [[\"Mexico\", \"North America\"]], \"hovertemplate\": \"Country/Region=%{customdata[0]}<br>TotalCases=%{y}<br>Continent=%{customdata[1]}<extra></extra>\", \"legendgroup\": \"Mexico\", \"marker\": {\"color\": \"#19d3f3\"}, \"name\": \"Mexico\", \"offsetgroup\": \"Mexico\", \"orientation\": \"v\", \"showlegend\": true, \"textposition\": \"auto\", \"type\": \"bar\", \"x\": [\"Mexico\"], \"xaxis\": \"x\", \"y\": [462690], \"yaxis\": \"y\"}, {\"alignmentgroup\": \"True\", \"customdata\": [[\"Peru\", \"South America\"]], \"hovertemplate\": \"Country/Region=%{customdata[0]}<br>TotalCases=%{y}<br>Continent=%{customdata[1]}<extra></extra>\", \"legendgroup\": \"Peru\", \"marker\": {\"color\": \"#FF6692\"}, \"name\": \"Peru\", \"offsetgroup\": \"Peru\", \"orientation\": \"v\", \"showlegend\": true, \"textposition\": \"auto\", \"type\": \"bar\", \"x\": [\"Peru\"], \"xaxis\": \"x\", \"y\": [455409], \"yaxis\": \"y\"}, {\"alignmentgroup\": \"True\", \"customdata\": [[\"Chile\", \"South America\"]], \"hovertemplate\": \"Country/Region=%{customdata[0]}<br>TotalCases=%{y}<br>Continent=%{customdata[1]}<extra></extra>\", \"legendgroup\": \"Chile\", \"marker\": {\"color\": \"#B6E880\"}, \"name\": \"Chile\", \"offsetgroup\": \"Chile\", \"orientation\": \"v\", \"showlegend\": true, \"textposition\": \"auto\", \"type\": \"bar\", \"x\": [\"Chile\"], \"xaxis\": \"x\", \"y\": [366671], \"yaxis\": \"y\"}, {\"alignmentgroup\": \"True\", \"customdata\": [[\"Colombia\", \"South America\"]], \"hovertemplate\": \"Country/Region=%{customdata[0]}<br>TotalCases=%{y}<br>Continent=%{customdata[1]}<extra></extra>\", \"legendgroup\": \"Colombia\", \"marker\": {\"color\": \"#FF97FF\"}, \"name\": \"Colombia\", \"offsetgroup\": \"Colombia\", \"orientation\": \"v\", \"showlegend\": true, \"textposition\": \"auto\", \"type\": \"bar\", \"x\": [\"Colombia\"], \"xaxis\": \"x\", \"y\": [357710], \"yaxis\": \"y\"}, {\"alignmentgroup\": \"True\", \"customdata\": [[\"Spain\", \"Europe\"]], \"hovertemplate\": \"Country/Region=%{customdata[0]}<br>TotalCases=%{y}<br>Continent=%{customdata[1]}<extra></extra>\", \"legendgroup\": \"Spain\", \"marker\": {\"color\": \"#FECB52\"}, \"name\": \"Spain\", \"offsetgroup\": \"Spain\", \"orientation\": \"v\", \"showlegend\": true, \"textposition\": \"auto\", \"type\": \"bar\", \"x\": [\"Spain\"], \"xaxis\": \"x\", \"y\": [354530], \"yaxis\": \"y\"}, {\"alignmentgroup\": \"True\", \"customdata\": [[\"Iran\", \"Asia\"]], \"hovertemplate\": \"Country/Region=%{customdata[0]}<br>TotalCases=%{y}<br>Continent=%{customdata[1]}<extra></extra>\", \"legendgroup\": \"Iran\", \"marker\": {\"color\": \"#636efa\"}, \"name\": \"Iran\", \"offsetgroup\": \"Iran\", \"orientation\": \"v\", \"showlegend\": true, \"textposition\": \"auto\", \"type\": \"bar\", \"x\": [\"Iran\"], \"xaxis\": \"x\", \"y\": [320117], \"yaxis\": \"y\"}, {\"alignmentgroup\": \"True\", \"customdata\": [[\"UK\", \"Europe\"]], \"hovertemplate\": \"Country/Region=%{customdata[0]}<br>TotalCases=%{y}<br>Continent=%{customdata[1]}<extra></extra>\", \"legendgroup\": \"UK\", \"marker\": {\"color\": \"#EF553B\"}, \"name\": \"UK\", \"offsetgroup\": \"UK\", \"orientation\": \"v\", \"showlegend\": true, \"textposition\": \"auto\", \"type\": \"bar\", \"x\": [\"UK\"], \"xaxis\": \"x\", \"y\": [308134], \"yaxis\": \"y\"}, {\"alignmentgroup\": \"True\", \"customdata\": [[\"Saudi Arabia\", \"Asia\"]], \"hovertemplate\": \"Country/Region=%{customdata[0]}<br>TotalCases=%{y}<br>Continent=%{customdata[1]}<extra></extra>\", \"legendgroup\": \"Saudi Arabia\", \"marker\": {\"color\": \"#00cc96\"}, \"name\": \"Saudi Arabia\", \"offsetgroup\": \"Saudi Arabia\", \"orientation\": \"v\", \"showlegend\": true, \"textposition\": \"auto\", \"type\": \"bar\", \"x\": [\"Saudi Arabia\"], \"xaxis\": \"x\", \"y\": [284226], \"yaxis\": \"y\"}, {\"alignmentgroup\": \"True\", \"customdata\": [[\"Pakistan\", \"Asia\"]], \"hovertemplate\": \"Country/Region=%{customdata[0]}<br>TotalCases=%{y}<br>Continent=%{customdata[1]}<extra></extra>\", \"legendgroup\": \"Pakistan\", \"marker\": {\"color\": \"#ab63fa\"}, \"name\": \"Pakistan\", \"offsetgroup\": \"Pakistan\", \"orientation\": \"v\", \"showlegend\": true, \"textposition\": \"auto\", \"type\": \"bar\", \"x\": [\"Pakistan\"], \"xaxis\": \"x\", \"y\": [281863], \"yaxis\": \"y\"}, {\"alignmentgroup\": \"True\", \"customdata\": [[\"Bangladesh\", \"Asia\"]], \"hovertemplate\": \"Country/Region=%{customdata[0]}<br>TotalCases=%{y}<br>Continent=%{customdata[1]}<extra></extra>\", \"legendgroup\": \"Bangladesh\", \"marker\": {\"color\": \"#FFA15A\"}, \"name\": \"Bangladesh\", \"offsetgroup\": \"Bangladesh\", \"orientation\": \"v\", \"showlegend\": true, \"textposition\": \"auto\", \"type\": \"bar\", \"x\": [\"Bangladesh\"], \"xaxis\": \"x\", \"y\": [249651], \"yaxis\": \"y\"}, {\"alignmentgroup\": \"True\", \"customdata\": [[\"Italy\", \"Europe\"]], \"hovertemplate\": \"Country/Region=%{customdata[0]}<br>TotalCases=%{y}<br>Continent=%{customdata[1]}<extra></extra>\", \"legendgroup\": \"Italy\", \"marker\": {\"color\": \"#19d3f3\"}, \"name\": \"Italy\", \"offsetgroup\": \"Italy\", \"orientation\": \"v\", \"showlegend\": true, \"textposition\": \"auto\", \"type\": \"bar\", \"x\": [\"Italy\"], \"xaxis\": \"x\", \"y\": [249204], \"yaxis\": \"y\"}, {\"alignmentgroup\": \"True\", \"customdata\": [[\"Turkey\", \"Asia\"]], \"hovertemplate\": \"Country/Region=%{customdata[0]}<br>TotalCases=%{y}<br>Continent=%{customdata[1]}<extra></extra>\", \"legendgroup\": \"Turkey\", \"marker\": {\"color\": \"#FF6692\"}, \"name\": \"Turkey\", \"offsetgroup\": \"Turkey\", \"orientation\": \"v\", \"showlegend\": true, \"textposition\": \"auto\", \"type\": \"bar\", \"x\": [\"Turkey\"], \"xaxis\": \"x\", \"y\": [237265], \"yaxis\": \"y\"}, {\"alignmentgroup\": \"True\", \"customdata\": [[\"Argentina\", \"South America\"]], \"hovertemplate\": \"Country/Region=%{customdata[0]}<br>TotalCases=%{y}<br>Continent=%{customdata[1]}<extra></extra>\", \"legendgroup\": \"Argentina\", \"marker\": {\"color\": \"#B6E880\"}, \"name\": \"Argentina\", \"offsetgroup\": \"Argentina\", \"orientation\": \"v\", \"showlegend\": true, \"textposition\": \"auto\", \"type\": \"bar\", \"x\": [\"Argentina\"], \"xaxis\": \"x\", \"y\": [228195], \"yaxis\": \"y\"}, {\"alignmentgroup\": \"True\", \"customdata\": [[\"Germany\", \"Europe\"]], \"hovertemplate\": \"Country/Region=%{customdata[0]}<br>TotalCases=%{y}<br>Continent=%{customdata[1]}<extra></extra>\", \"legendgroup\": \"Germany\", \"marker\": {\"color\": \"#FF97FF\"}, \"name\": \"Germany\", \"offsetgroup\": \"Germany\", \"orientation\": \"v\", \"showlegend\": true, \"textposition\": \"auto\", \"type\": \"bar\", \"x\": [\"Germany\"], \"xaxis\": \"x\", \"y\": [215210], \"yaxis\": \"y\"}, {\"alignmentgroup\": \"True\", \"customdata\": [[\"France\", \"Europe\"]], \"hovertemplate\": \"Country/Region=%{customdata[0]}<br>TotalCases=%{y}<br>Continent=%{customdata[1]}<extra></extra>\", \"legendgroup\": \"France\", \"marker\": {\"color\": \"#FECB52\"}, \"name\": \"France\", \"offsetgroup\": \"France\", \"orientation\": \"v\", \"showlegend\": true, \"textposition\": \"auto\", \"type\": \"bar\", \"x\": [\"France\"], \"xaxis\": \"x\", \"y\": [195633], \"yaxis\": \"y\"}, {\"alignmentgroup\": \"True\", \"customdata\": [[\"Iraq\", \"Asia\"]], \"hovertemplate\": \"Country/Region=%{customdata[0]}<br>TotalCases=%{y}<br>Continent=%{customdata[1]}<extra></extra>\", \"legendgroup\": \"Iraq\", \"marker\": {\"color\": \"#636efa\"}, \"name\": \"Iraq\", \"offsetgroup\": \"Iraq\", \"orientation\": \"v\", \"showlegend\": true, \"textposition\": \"auto\", \"type\": \"bar\", \"x\": [\"Iraq\"], \"xaxis\": \"x\", \"y\": [140603], \"yaxis\": \"y\"}, {\"alignmentgroup\": \"True\", \"customdata\": [[\"Philippines\", \"Asia\"]], \"hovertemplate\": \"Country/Region=%{customdata[0]}<br>TotalCases=%{y}<br>Continent=%{customdata[1]}<extra></extra>\", \"legendgroup\": \"Philippines\", \"marker\": {\"color\": \"#EF553B\"}, \"name\": \"Philippines\", \"offsetgroup\": \"Philippines\", \"orientation\": \"v\", \"showlegend\": true, \"textposition\": \"auto\", \"type\": \"bar\", \"x\": [\"Philippines\"], \"xaxis\": \"x\", \"y\": [119460], \"yaxis\": \"y\"}, {\"alignmentgroup\": \"True\", \"customdata\": [[\"Indonesia\", \"Asia\"]], \"hovertemplate\": \"Country/Region=%{customdata[0]}<br>TotalCases=%{y}<br>Continent=%{customdata[1]}<extra></extra>\", \"legendgroup\": \"Indonesia\", \"marker\": {\"color\": \"#00cc96\"}, \"name\": \"Indonesia\", \"offsetgroup\": \"Indonesia\", \"orientation\": \"v\", \"showlegend\": true, \"textposition\": \"auto\", \"type\": \"bar\", \"x\": [\"Indonesia\"], \"xaxis\": \"x\", \"y\": [118753], \"yaxis\": \"y\"}, {\"alignmentgroup\": \"True\", \"customdata\": [[\"Canada\", \"North America\"]], \"hovertemplate\": \"Country/Region=%{customdata[0]}<br>TotalCases=%{y}<br>Continent=%{customdata[1]}<extra></extra>\", \"legendgroup\": \"Canada\", \"marker\": {\"color\": \"#ab63fa\"}, \"name\": \"Canada\", \"offsetgroup\": \"Canada\", \"orientation\": \"v\", \"showlegend\": true, \"textposition\": \"auto\", \"type\": \"bar\", \"x\": [\"Canada\"], \"xaxis\": \"x\", \"y\": [118561], \"yaxis\": \"y\"}, {\"alignmentgroup\": \"True\", \"customdata\": [[\"Qatar\", \"Asia\"]], \"hovertemplate\": \"Country/Region=%{customdata[0]}<br>TotalCases=%{y}<br>Continent=%{customdata[1]}<extra></extra>\", \"legendgroup\": \"Qatar\", \"marker\": {\"color\": \"#FFA15A\"}, \"name\": \"Qatar\", \"offsetgroup\": \"Qatar\", \"orientation\": \"v\", \"showlegend\": true, \"textposition\": \"auto\", \"type\": \"bar\", \"x\": [\"Qatar\"], \"xaxis\": \"x\", \"y\": [112092], \"yaxis\": \"y\"}, {\"alignmentgroup\": \"True\", \"customdata\": [[\"Kazakhstan\", \"Asia\"]], \"hovertemplate\": \"Country/Region=%{customdata[0]}<br>TotalCases=%{y}<br>Continent=%{customdata[1]}<extra></extra>\", \"legendgroup\": \"Kazakhstan\", \"marker\": {\"color\": \"#19d3f3\"}, \"name\": \"Kazakhstan\", \"offsetgroup\": \"Kazakhstan\", \"orientation\": \"v\", \"showlegend\": true, \"textposition\": \"auto\", \"type\": \"bar\", \"x\": [\"Kazakhstan\"], \"xaxis\": \"x\", \"y\": [95942], \"yaxis\": \"y\"}, {\"alignmentgroup\": \"True\", \"customdata\": [[\"Egypt\", \"Africa\"]], \"hovertemplate\": \"Country/Region=%{customdata[0]}<br>TotalCases=%{y}<br>Continent=%{customdata[1]}<extra></extra>\", \"legendgroup\": \"Egypt\", \"marker\": {\"color\": \"#FF6692\"}, \"name\": \"Egypt\", \"offsetgroup\": \"Egypt\", \"orientation\": \"v\", \"showlegend\": true, \"textposition\": \"auto\", \"type\": \"bar\", \"x\": [\"Egypt\"], \"xaxis\": \"x\", \"y\": [95006], \"yaxis\": \"y\"}, {\"alignmentgroup\": \"True\", \"customdata\": [[\"Ecuador\", \"South America\"]], \"hovertemplate\": \"Country/Region=%{customdata[0]}<br>TotalCases=%{y}<br>Continent=%{customdata[1]}<extra></extra>\", \"legendgroup\": \"Ecuador\", \"marker\": {\"color\": \"#B6E880\"}, \"name\": \"Ecuador\", \"offsetgroup\": \"Ecuador\", \"orientation\": \"v\", \"showlegend\": true, \"textposition\": \"auto\", \"type\": \"bar\", \"x\": [\"Ecuador\"], \"xaxis\": \"x\", \"y\": [90537], \"yaxis\": \"y\"}, {\"alignmentgroup\": \"True\", \"customdata\": [[\"Bolivia\", \"South America\"]], \"hovertemplate\": \"Country/Region=%{customdata[0]}<br>TotalCases=%{y}<br>Continent=%{customdata[1]}<extra></extra>\", \"legendgroup\": \"Bolivia\", \"marker\": {\"color\": \"#FF97FF\"}, \"name\": \"Bolivia\", \"offsetgroup\": \"Bolivia\", \"orientation\": \"v\", \"showlegend\": true, \"textposition\": \"auto\", \"type\": \"bar\", \"x\": [\"Bolivia\"], \"xaxis\": \"x\", \"y\": [86423], \"yaxis\": \"y\"}, {\"alignmentgroup\": \"True\", \"customdata\": [[\"Sweden\", \"Europe\"]], \"hovertemplate\": \"Country/Region=%{customdata[0]}<br>TotalCases=%{y}<br>Continent=%{customdata[1]}<extra></extra>\", \"legendgroup\": \"Sweden\", \"marker\": {\"color\": \"#FECB52\"}, \"name\": \"Sweden\", \"offsetgroup\": \"Sweden\", \"orientation\": \"v\", \"showlegend\": true, \"textposition\": \"auto\", \"type\": \"bar\", \"x\": [\"Sweden\"], \"xaxis\": \"x\", \"y\": [81967], \"yaxis\": \"y\"}, {\"alignmentgroup\": \"True\", \"customdata\": [[\"Oman\", \"Asia\"]], \"hovertemplate\": \"Country/Region=%{customdata[0]}<br>TotalCases=%{y}<br>Continent=%{customdata[1]}<extra></extra>\", \"legendgroup\": \"Oman\", \"marker\": {\"color\": \"#636efa\"}, \"name\": \"Oman\", \"offsetgroup\": \"Oman\", \"orientation\": \"v\", \"showlegend\": true, \"textposition\": \"auto\", \"type\": \"bar\", \"x\": [\"Oman\"], \"xaxis\": \"x\", \"y\": [80713], \"yaxis\": \"y\"}, {\"alignmentgroup\": \"True\", \"customdata\": [[\"Israel\", \"Asia\"]], \"hovertemplate\": \"Country/Region=%{customdata[0]}<br>TotalCases=%{y}<br>Continent=%{customdata[1]}<extra></extra>\", \"legendgroup\": \"Israel\", \"marker\": {\"color\": \"#EF553B\"}, \"name\": \"Israel\", \"offsetgroup\": \"Israel\", \"orientation\": \"v\", \"showlegend\": true, \"textposition\": \"auto\", \"type\": \"bar\", \"x\": [\"Israel\"], \"xaxis\": \"x\", \"y\": [79559], \"yaxis\": \"y\"}, {\"alignmentgroup\": \"True\", \"customdata\": [[\"Ukraine\", \"Europe\"]], \"hovertemplate\": \"Country/Region=%{customdata[0]}<br>TotalCases=%{y}<br>Continent=%{customdata[1]}<extra></extra>\", \"legendgroup\": \"Ukraine\", \"marker\": {\"color\": \"#00cc96\"}, \"name\": \"Ukraine\", \"offsetgroup\": \"Ukraine\", \"orientation\": \"v\", \"showlegend\": true, \"textposition\": \"auto\", \"type\": \"bar\", \"x\": [\"Ukraine\"], \"xaxis\": \"x\", \"y\": [76808], \"yaxis\": \"y\"}, {\"alignmentgroup\": \"True\", \"customdata\": [[\"Dominican Republic\", \"North America\"]], \"hovertemplate\": \"Country/Region=%{customdata[0]}<br>TotalCases=%{y}<br>Continent=%{customdata[1]}<extra></extra>\", \"legendgroup\": \"Dominican Republic\", \"marker\": {\"color\": \"#ab63fa\"}, \"name\": \"Dominican Republic\", \"offsetgroup\": \"Dominican Republic\", \"orientation\": \"v\", \"showlegend\": true, \"textposition\": \"auto\", \"type\": \"bar\", \"x\": [\"Dominican Republic\"], \"xaxis\": \"x\", \"y\": [76536], \"yaxis\": \"y\"}, {\"alignmentgroup\": \"True\", \"customdata\": [[\"Panama\", \"North America\"]], \"hovertemplate\": \"Country/Region=%{customdata[0]}<br>TotalCases=%{y}<br>Continent=%{customdata[1]}<extra></extra>\", \"legendgroup\": \"Panama\", \"marker\": {\"color\": \"#FFA15A\"}, \"name\": \"Panama\", \"offsetgroup\": \"Panama\", \"orientation\": \"v\", \"showlegend\": true, \"textposition\": \"auto\", \"type\": \"bar\", \"x\": [\"Panama\"], \"xaxis\": \"x\", \"y\": [71418], \"yaxis\": \"y\"}, {\"alignmentgroup\": \"True\", \"customdata\": [[\"Belgium\", \"Europe\"]], \"hovertemplate\": \"Country/Region=%{customdata[0]}<br>TotalCases=%{y}<br>Continent=%{customdata[1]}<extra></extra>\", \"legendgroup\": \"Belgium\", \"marker\": {\"color\": \"#19d3f3\"}, \"name\": \"Belgium\", \"offsetgroup\": \"Belgium\", \"orientation\": \"v\", \"showlegend\": true, \"textposition\": \"auto\", \"type\": \"bar\", \"x\": [\"Belgium\"], \"xaxis\": \"x\", \"y\": [71158], \"yaxis\": \"y\"}, {\"alignmentgroup\": \"True\", \"customdata\": [[\"Kuwait\", \"Asia\"]], \"hovertemplate\": \"Country/Region=%{customdata[0]}<br>TotalCases=%{y}<br>Continent=%{customdata[1]}<extra></extra>\", \"legendgroup\": \"Kuwait\", \"marker\": {\"color\": \"#FF6692\"}, \"name\": \"Kuwait\", \"offsetgroup\": \"Kuwait\", \"orientation\": \"v\", \"showlegend\": true, \"textposition\": \"auto\", \"type\": \"bar\", \"x\": [\"Kuwait\"], \"xaxis\": \"x\", \"y\": [70045], \"yaxis\": \"y\"}, {\"alignmentgroup\": \"True\", \"customdata\": [[\"Belarus\", \"Europe\"]], \"hovertemplate\": \"Country/Region=%{customdata[0]}<br>TotalCases=%{y}<br>Continent=%{customdata[1]}<extra></extra>\", \"legendgroup\": \"Belarus\", \"marker\": {\"color\": \"#B6E880\"}, \"name\": \"Belarus\", \"offsetgroup\": \"Belarus\", \"orientation\": \"v\", \"showlegend\": true, \"textposition\": \"auto\", \"type\": \"bar\", \"x\": [\"Belarus\"], \"xaxis\": \"x\", \"y\": [68503], \"yaxis\": \"y\"}, {\"alignmentgroup\": \"True\", \"customdata\": [[\"UAE\", \"Asia\"]], \"hovertemplate\": \"Country/Region=%{customdata[0]}<br>TotalCases=%{y}<br>Continent=%{customdata[1]}<extra></extra>\", \"legendgroup\": \"UAE\", \"marker\": {\"color\": \"#FF97FF\"}, \"name\": \"UAE\", \"offsetgroup\": \"UAE\", \"orientation\": \"v\", \"showlegend\": true, \"textposition\": \"auto\", \"type\": \"bar\", \"x\": [\"UAE\"], \"xaxis\": \"x\", \"y\": [61845], \"yaxis\": \"y\"}, {\"alignmentgroup\": \"True\", \"customdata\": [[\"Romania\", \"Europe\"]], \"hovertemplate\": \"Country/Region=%{customdata[0]}<br>TotalCases=%{y}<br>Continent=%{customdata[1]}<extra></extra>\", \"legendgroup\": \"Romania\", \"marker\": {\"color\": \"#FECB52\"}, \"name\": \"Romania\", \"offsetgroup\": \"Romania\", \"orientation\": \"v\", \"showlegend\": true, \"textposition\": \"auto\", \"type\": \"bar\", \"x\": [\"Romania\"], \"xaxis\": \"x\", \"y\": [57895], \"yaxis\": \"y\"}, {\"alignmentgroup\": \"True\", \"customdata\": [[\"Netherlands\", \"Europe\"]], \"hovertemplate\": \"Country/Region=%{customdata[0]}<br>TotalCases=%{y}<br>Continent=%{customdata[1]}<extra></extra>\", \"legendgroup\": \"Netherlands\", \"marker\": {\"color\": \"#636efa\"}, \"name\": \"Netherlands\", \"offsetgroup\": \"Netherlands\", \"orientation\": \"v\", \"showlegend\": true, \"textposition\": \"auto\", \"type\": \"bar\", \"x\": [\"Netherlands\"], \"xaxis\": \"x\", \"y\": [56982], \"yaxis\": \"y\"}, {\"alignmentgroup\": \"True\", \"customdata\": [[\"Singapore\", \"Asia\"]], \"hovertemplate\": \"Country/Region=%{customdata[0]}<br>TotalCases=%{y}<br>Continent=%{customdata[1]}<extra></extra>\", \"legendgroup\": \"Singapore\", \"marker\": {\"color\": \"#EF553B\"}, \"name\": \"Singapore\", \"offsetgroup\": \"Singapore\", \"orientation\": \"v\", \"showlegend\": true, \"textposition\": \"auto\", \"type\": \"bar\", \"x\": [\"Singapore\"], \"xaxis\": \"x\", \"y\": [54555], \"yaxis\": \"y\"}, {\"alignmentgroup\": \"True\", \"customdata\": [[\"Guatemala\", \"North America\"]], \"hovertemplate\": \"Country/Region=%{customdata[0]}<br>TotalCases=%{y}<br>Continent=%{customdata[1]}<extra></extra>\", \"legendgroup\": \"Guatemala\", \"marker\": {\"color\": \"#00cc96\"}, \"name\": \"Guatemala\", \"offsetgroup\": \"Guatemala\", \"orientation\": \"v\", \"showlegend\": true, \"textposition\": \"auto\", \"type\": \"bar\", \"x\": [\"Guatemala\"], \"xaxis\": \"x\", \"y\": [54339], \"yaxis\": \"y\"}, {\"alignmentgroup\": \"True\", \"customdata\": [[\"Portugal\", \"Europe\"]], \"hovertemplate\": \"Country/Region=%{customdata[0]}<br>TotalCases=%{y}<br>Continent=%{customdata[1]}<extra></extra>\", \"legendgroup\": \"Portugal\", \"marker\": {\"color\": \"#ab63fa\"}, \"name\": \"Portugal\", \"offsetgroup\": \"Portugal\", \"orientation\": \"v\", \"showlegend\": true, \"textposition\": \"auto\", \"type\": \"bar\", \"x\": [\"Portugal\"], \"xaxis\": \"x\", \"y\": [52061], \"yaxis\": \"y\"}, {\"alignmentgroup\": \"True\", \"customdata\": [[\"Poland\", \"Europe\"]], \"hovertemplate\": \"Country/Region=%{customdata[0]}<br>TotalCases=%{y}<br>Continent=%{customdata[1]}<extra></extra>\", \"legendgroup\": \"Poland\", \"marker\": {\"color\": \"#FFA15A\"}, \"name\": \"Poland\", \"offsetgroup\": \"Poland\", \"orientation\": \"v\", \"showlegend\": true, \"textposition\": \"auto\", \"type\": \"bar\", \"x\": [\"Poland\"], \"xaxis\": \"x\", \"y\": [49515], \"yaxis\": \"y\"}, {\"alignmentgroup\": \"True\", \"customdata\": [[\"Nigeria\", \"Africa\"]], \"hovertemplate\": \"Country/Region=%{customdata[0]}<br>TotalCases=%{y}<br>Continent=%{customdata[1]}<extra></extra>\", \"legendgroup\": \"Nigeria\", \"marker\": {\"color\": \"#19d3f3\"}, \"name\": \"Nigeria\", \"offsetgroup\": \"Nigeria\", \"orientation\": \"v\", \"showlegend\": true, \"textposition\": \"auto\", \"type\": \"bar\", \"x\": [\"Nigeria\"], \"xaxis\": \"x\", \"y\": [45244], \"yaxis\": \"y\"}, {\"alignmentgroup\": \"True\", \"customdata\": [[\"Honduras\", \"North America\"]], \"hovertemplate\": \"Country/Region=%{customdata[0]}<br>TotalCases=%{y}<br>Continent=%{customdata[1]}<extra></extra>\", \"legendgroup\": \"Honduras\", \"marker\": {\"color\": \"#FF6692\"}, \"name\": \"Honduras\", \"offsetgroup\": \"Honduras\", \"orientation\": \"v\", \"showlegend\": true, \"textposition\": \"auto\", \"type\": \"bar\", \"x\": [\"Honduras\"], \"xaxis\": \"x\", \"y\": [45098], \"yaxis\": \"y\"}, {\"alignmentgroup\": \"True\", \"customdata\": [[\"Bahrain\", \"Asia\"]], \"hovertemplate\": \"Country/Region=%{customdata[0]}<br>TotalCases=%{y}<br>Continent=%{customdata[1]}<extra></extra>\", \"legendgroup\": \"Bahrain\", \"marker\": {\"color\": \"#B6E880\"}, \"name\": \"Bahrain\", \"offsetgroup\": \"Bahrain\", \"orientation\": \"v\", \"showlegend\": true, \"textposition\": \"auto\", \"type\": \"bar\", \"x\": [\"Bahrain\"], \"xaxis\": \"x\", \"y\": [42889], \"yaxis\": \"y\"}, {\"alignmentgroup\": \"True\", \"customdata\": [[\"Japan\", \"Asia\"]], \"hovertemplate\": \"Country/Region=%{customdata[0]}<br>TotalCases=%{y}<br>Continent=%{customdata[1]}<extra></extra>\", \"legendgroup\": \"Japan\", \"marker\": {\"color\": \"#FF97FF\"}, \"name\": \"Japan\", \"offsetgroup\": \"Japan\", \"orientation\": \"v\", \"showlegend\": true, \"textposition\": \"auto\", \"type\": \"bar\", \"x\": [\"Japan\"], \"xaxis\": \"x\", \"y\": [42263], \"yaxis\": \"y\"}, {\"alignmentgroup\": \"True\", \"customdata\": [[\"Armenia\", \"Asia\"]], \"hovertemplate\": \"Country/Region=%{customdata[0]}<br>TotalCases=%{y}<br>Continent=%{customdata[1]}<extra></extra>\", \"legendgroup\": \"Armenia\", \"marker\": {\"color\": \"#FECB52\"}, \"name\": \"Armenia\", \"offsetgroup\": \"Armenia\", \"orientation\": \"v\", \"showlegend\": true, \"textposition\": \"auto\", \"type\": \"bar\", \"x\": [\"Armenia\"], \"xaxis\": \"x\", \"y\": [39819], \"yaxis\": \"y\"}, {\"alignmentgroup\": \"True\", \"customdata\": [[\"Ghana\", \"Africa\"]], \"hovertemplate\": \"Country/Region=%{customdata[0]}<br>TotalCases=%{y}<br>Continent=%{customdata[1]}<extra></extra>\", \"legendgroup\": \"Ghana\", \"marker\": {\"color\": \"#636efa\"}, \"name\": \"Ghana\", \"offsetgroup\": \"Ghana\", \"orientation\": \"v\", \"showlegend\": true, \"textposition\": \"auto\", \"type\": \"bar\", \"x\": [\"Ghana\"], \"xaxis\": \"x\", \"y\": [39642], \"yaxis\": \"y\"}, {\"alignmentgroup\": \"True\", \"customdata\": [[\"Kyrgyzstan\", \"Asia\"]], \"hovertemplate\": \"Country/Region=%{customdata[0]}<br>TotalCases=%{y}<br>Continent=%{customdata[1]}<extra></extra>\", \"legendgroup\": \"Kyrgyzstan\", \"marker\": {\"color\": \"#EF553B\"}, \"name\": \"Kyrgyzstan\", \"offsetgroup\": \"Kyrgyzstan\", \"orientation\": \"v\", \"showlegend\": true, \"textposition\": \"auto\", \"type\": \"bar\", \"x\": [\"Kyrgyzstan\"], \"xaxis\": \"x\", \"y\": [38659], \"yaxis\": \"y\"}, {\"alignmentgroup\": \"True\", \"customdata\": [[\"Afghanistan\", \"Asia\"]], \"hovertemplate\": \"Country/Region=%{customdata[0]}<br>TotalCases=%{y}<br>Continent=%{customdata[1]}<extra></extra>\", \"legendgroup\": \"Afghanistan\", \"marker\": {\"color\": \"#00cc96\"}, \"name\": \"Afghanistan\", \"offsetgroup\": \"Afghanistan\", \"orientation\": \"v\", \"showlegend\": true, \"textposition\": \"auto\", \"type\": \"bar\", \"x\": [\"Afghanistan\"], \"xaxis\": \"x\", \"y\": [36896], \"yaxis\": \"y\"}, {\"alignmentgroup\": \"True\", \"customdata\": [[\"Switzerland\", \"Europe\"]], \"hovertemplate\": \"Country/Region=%{customdata[0]}<br>TotalCases=%{y}<br>Continent=%{customdata[1]}<extra></extra>\", \"legendgroup\": \"Switzerland\", \"marker\": {\"color\": \"#ab63fa\"}, \"name\": \"Switzerland\", \"offsetgroup\": \"Switzerland\", \"orientation\": \"v\", \"showlegend\": true, \"textposition\": \"auto\", \"type\": \"bar\", \"x\": [\"Switzerland\"], \"xaxis\": \"x\", \"y\": [36108], \"yaxis\": \"y\"}, {\"alignmentgroup\": \"True\", \"customdata\": [[\"Algeria\", \"Africa\"]], \"hovertemplate\": \"Country/Region=%{customdata[0]}<br>TotalCases=%{y}<br>Continent=%{customdata[1]}<extra></extra>\", \"legendgroup\": \"Algeria\", \"marker\": {\"color\": \"#FFA15A\"}, \"name\": \"Algeria\", \"offsetgroup\": \"Algeria\", \"orientation\": \"v\", \"showlegend\": true, \"textposition\": \"auto\", \"type\": \"bar\", \"x\": [\"Algeria\"], \"xaxis\": \"x\", \"y\": [33626], \"yaxis\": \"y\"}, {\"alignmentgroup\": \"True\", \"customdata\": [[\"Azerbaijan\", \"Asia\"]], \"hovertemplate\": \"Country/Region=%{customdata[0]}<br>TotalCases=%{y}<br>Continent=%{customdata[1]}<extra></extra>\", \"legendgroup\": \"Azerbaijan\", \"marker\": {\"color\": \"#19d3f3\"}, \"name\": \"Azerbaijan\", \"offsetgroup\": \"Azerbaijan\", \"orientation\": \"v\", \"showlegend\": true, \"textposition\": \"auto\", \"type\": \"bar\", \"x\": [\"Azerbaijan\"], \"xaxis\": \"x\", \"y\": [33247], \"yaxis\": \"y\"}, {\"alignmentgroup\": \"True\", \"customdata\": [[\"Morocco\", \"Africa\"]], \"hovertemplate\": \"Country/Region=%{customdata[0]}<br>TotalCases=%{y}<br>Continent=%{customdata[1]}<extra></extra>\", \"legendgroup\": \"Morocco\", \"marker\": {\"color\": \"#FF6692\"}, \"name\": \"Morocco\", \"offsetgroup\": \"Morocco\", \"orientation\": \"v\", \"showlegend\": true, \"textposition\": \"auto\", \"type\": \"bar\", \"x\": [\"Morocco\"], \"xaxis\": \"x\", \"y\": [29644], \"yaxis\": \"y\"}, {\"alignmentgroup\": \"True\", \"customdata\": [[\"Uzbekistan\", \"Asia\"]], \"hovertemplate\": \"Country/Region=%{customdata[0]}<br>TotalCases=%{y}<br>Continent=%{customdata[1]}<extra></extra>\", \"legendgroup\": \"Uzbekistan\", \"marker\": {\"color\": \"#B6E880\"}, \"name\": \"Uzbekistan\", \"offsetgroup\": \"Uzbekistan\", \"orientation\": \"v\", \"showlegend\": true, \"textposition\": \"auto\", \"type\": \"bar\", \"x\": [\"Uzbekistan\"], \"xaxis\": \"x\", \"y\": [28315], \"yaxis\": \"y\"}, {\"alignmentgroup\": \"True\", \"customdata\": [[\"Serbia\", \"Europe\"]], \"hovertemplate\": \"Country/Region=%{customdata[0]}<br>TotalCases=%{y}<br>Continent=%{customdata[1]}<extra></extra>\", \"legendgroup\": \"Serbia\", \"marker\": {\"color\": \"#FF97FF\"}, \"name\": \"Serbia\", \"offsetgroup\": \"Serbia\", \"orientation\": \"v\", \"showlegend\": true, \"textposition\": \"auto\", \"type\": \"bar\", \"x\": [\"Serbia\"], \"xaxis\": \"x\", \"y\": [27332], \"yaxis\": \"y\"}, {\"alignmentgroup\": \"True\", \"customdata\": [[\"Moldova\", \"Europe\"]], \"hovertemplate\": \"Country/Region=%{customdata[0]}<br>TotalCases=%{y}<br>Continent=%{customdata[1]}<extra></extra>\", \"legendgroup\": \"Moldova\", \"marker\": {\"color\": \"#FECB52\"}, \"name\": \"Moldova\", \"offsetgroup\": \"Moldova\", \"orientation\": \"v\", \"showlegend\": true, \"textposition\": \"auto\", \"type\": \"bar\", \"x\": [\"Moldova\"], \"xaxis\": \"x\", \"y\": [26628], \"yaxis\": \"y\"}, {\"alignmentgroup\": \"True\", \"customdata\": [[\"Ireland\", \"Europe\"]], \"hovertemplate\": \"Country/Region=%{customdata[0]}<br>TotalCases=%{y}<br>Continent=%{customdata[1]}<extra></extra>\", \"legendgroup\": \"Ireland\", \"marker\": {\"color\": \"#636efa\"}, \"name\": \"Ireland\", \"offsetgroup\": \"Ireland\", \"orientation\": \"v\", \"showlegend\": true, \"textposition\": \"auto\", \"type\": \"bar\", \"x\": [\"Ireland\"], \"xaxis\": \"x\", \"y\": [26372], \"yaxis\": \"y\"}, {\"alignmentgroup\": \"True\", \"customdata\": [[\"Kenya\", \"Africa\"]], \"hovertemplate\": \"Country/Region=%{customdata[0]}<br>TotalCases=%{y}<br>Continent=%{customdata[1]}<extra></extra>\", \"legendgroup\": \"Kenya\", \"marker\": {\"color\": \"#EF553B\"}, \"name\": \"Kenya\", \"offsetgroup\": \"Kenya\", \"orientation\": \"v\", \"showlegend\": true, \"textposition\": \"auto\", \"type\": \"bar\", \"x\": [\"Kenya\"], \"xaxis\": \"x\", \"y\": [24411], \"yaxis\": \"y\"}, {\"alignmentgroup\": \"True\", \"customdata\": [[\"Venezuela\", \"South America\"]], \"hovertemplate\": \"Country/Region=%{customdata[0]}<br>TotalCases=%{y}<br>Continent=%{customdata[1]}<extra></extra>\", \"legendgroup\": \"Venezuela\", \"marker\": {\"color\": \"#00cc96\"}, \"name\": \"Venezuela\", \"offsetgroup\": \"Venezuela\", \"orientation\": \"v\", \"showlegend\": true, \"textposition\": \"auto\", \"type\": \"bar\", \"x\": [\"Venezuela\"], \"xaxis\": \"x\", \"y\": [22299], \"yaxis\": \"y\"}, {\"alignmentgroup\": \"True\", \"customdata\": [[\"Nepal\", \"Asia\"]], \"hovertemplate\": \"Country/Region=%{customdata[0]}<br>TotalCases=%{y}<br>Continent=%{customdata[1]}<extra></extra>\", \"legendgroup\": \"Nepal\", \"marker\": {\"color\": \"#ab63fa\"}, \"name\": \"Nepal\", \"offsetgroup\": \"Nepal\", \"orientation\": \"v\", \"showlegend\": true, \"textposition\": \"auto\", \"type\": \"bar\", \"x\": [\"Nepal\"], \"xaxis\": \"x\", \"y\": [21750], \"yaxis\": \"y\"}, {\"alignmentgroup\": \"True\", \"customdata\": [[\"Austria\", \"Europe\"]], \"hovertemplate\": \"Country/Region=%{customdata[0]}<br>TotalCases=%{y}<br>Continent=%{customdata[1]}<extra></extra>\", \"legendgroup\": \"Austria\", \"marker\": {\"color\": \"#FFA15A\"}, \"name\": \"Austria\", \"offsetgroup\": \"Austria\", \"orientation\": \"v\", \"showlegend\": true, \"textposition\": \"auto\", \"type\": \"bar\", \"x\": [\"Austria\"], \"xaxis\": \"x\", \"y\": [21696], \"yaxis\": \"y\"}, {\"alignmentgroup\": \"True\", \"customdata\": [[\"Costa Rica\", \"North America\"]], \"hovertemplate\": \"Country/Region=%{customdata[0]}<br>TotalCases=%{y}<br>Continent=%{customdata[1]}<extra></extra>\", \"legendgroup\": \"Costa Rica\", \"marker\": {\"color\": \"#19d3f3\"}, \"name\": \"Costa Rica\", \"offsetgroup\": \"Costa Rica\", \"orientation\": \"v\", \"showlegend\": true, \"textposition\": \"auto\", \"type\": \"bar\", \"x\": [\"Costa Rica\"], \"xaxis\": \"x\", \"y\": [21070], \"yaxis\": \"y\"}, {\"alignmentgroup\": \"True\", \"customdata\": [[\"Ethiopia\", \"Africa\"]], \"hovertemplate\": \"Country/Region=%{customdata[0]}<br>TotalCases=%{y}<br>Continent=%{customdata[1]}<extra></extra>\", \"legendgroup\": \"Ethiopia\", \"marker\": {\"color\": \"#FF6692\"}, \"name\": \"Ethiopia\", \"offsetgroup\": \"Ethiopia\", \"orientation\": \"v\", \"showlegend\": true, \"textposition\": \"auto\", \"type\": \"bar\", \"x\": [\"Ethiopia\"], \"xaxis\": \"x\", \"y\": [20900], \"yaxis\": \"y\"}, {\"alignmentgroup\": \"True\", \"customdata\": [[\"Australia\", \"Australia/Oceania\"]], \"hovertemplate\": \"Country/Region=%{customdata[0]}<br>TotalCases=%{y}<br>Continent=%{customdata[1]}<extra></extra>\", \"legendgroup\": \"Australia\", \"marker\": {\"color\": \"#B6E880\"}, \"name\": \"Australia\", \"offsetgroup\": \"Australia\", \"orientation\": \"v\", \"showlegend\": true, \"textposition\": \"auto\", \"type\": \"bar\", \"x\": [\"Australia\"], \"xaxis\": \"x\", \"y\": [19890], \"yaxis\": \"y\"}, {\"alignmentgroup\": \"True\", \"customdata\": [[\"El Salvador\", \"North America\"]], \"hovertemplate\": \"Country/Region=%{customdata[0]}<br>TotalCases=%{y}<br>Continent=%{customdata[1]}<extra></extra>\", \"legendgroup\": \"El Salvador\", \"marker\": {\"color\": \"#FF97FF\"}, \"name\": \"El Salvador\", \"offsetgroup\": \"El Salvador\", \"orientation\": \"v\", \"showlegend\": true, \"textposition\": \"auto\", \"type\": \"bar\", \"x\": [\"El Salvador\"], \"xaxis\": \"x\", \"y\": [19126], \"yaxis\": \"y\"}, {\"alignmentgroup\": \"True\", \"customdata\": [[\"Czechia\", \"Europe\"]], \"hovertemplate\": \"Country/Region=%{customdata[0]}<br>TotalCases=%{y}<br>Continent=%{customdata[1]}<extra></extra>\", \"legendgroup\": \"Czechia\", \"marker\": {\"color\": \"#FECB52\"}, \"name\": \"Czechia\", \"offsetgroup\": \"Czechia\", \"orientation\": \"v\", \"showlegend\": true, \"textposition\": \"auto\", \"type\": \"bar\", \"x\": [\"Czechia\"], \"xaxis\": \"x\", \"y\": [17731], \"yaxis\": \"y\"}, {\"alignmentgroup\": \"True\", \"customdata\": [[\"Cameroon\", \"Africa\"]], \"hovertemplate\": \"Country/Region=%{customdata[0]}<br>TotalCases=%{y}<br>Continent=%{customdata[1]}<extra></extra>\", \"legendgroup\": \"Cameroon\", \"marker\": {\"color\": \"#636efa\"}, \"name\": \"Cameroon\", \"offsetgroup\": \"Cameroon\", \"orientation\": \"v\", \"showlegend\": true, \"textposition\": \"auto\", \"type\": \"bar\", \"x\": [\"Cameroon\"], \"xaxis\": \"x\", \"y\": [17718], \"yaxis\": \"y\"}, {\"alignmentgroup\": \"True\", \"customdata\": [[\"Ivory Coast\", \"Africa\"]], \"hovertemplate\": \"Country/Region=%{customdata[0]}<br>TotalCases=%{y}<br>Continent=%{customdata[1]}<extra></extra>\", \"legendgroup\": \"Ivory Coast\", \"marker\": {\"color\": \"#EF553B\"}, \"name\": \"Ivory Coast\", \"offsetgroup\": \"Ivory Coast\", \"orientation\": \"v\", \"showlegend\": true, \"textposition\": \"auto\", \"type\": \"bar\", \"x\": [\"Ivory Coast\"], \"xaxis\": \"x\", \"y\": [16447], \"yaxis\": \"y\"}, {\"alignmentgroup\": \"True\", \"customdata\": [[\"S. Korea\", \"Asia\"]], \"hovertemplate\": \"Country/Region=%{customdata[0]}<br>TotalCases=%{y}<br>Continent=%{customdata[1]}<extra></extra>\", \"legendgroup\": \"S. Korea\", \"marker\": {\"color\": \"#00cc96\"}, \"name\": \"S. Korea\", \"offsetgroup\": \"S. Korea\", \"orientation\": \"v\", \"showlegend\": true, \"textposition\": \"auto\", \"type\": \"bar\", \"x\": [\"S. Korea\"], \"xaxis\": \"x\", \"y\": [14519], \"yaxis\": \"y\"}, {\"alignmentgroup\": \"True\", \"customdata\": [[\"Denmark\", \"Europe\"]], \"hovertemplate\": \"Country/Region=%{customdata[0]}<br>TotalCases=%{y}<br>Continent=%{customdata[1]}<extra></extra>\", \"legendgroup\": \"Denmark\", \"marker\": {\"color\": \"#ab63fa\"}, \"name\": \"Denmark\", \"offsetgroup\": \"Denmark\", \"orientation\": \"v\", \"showlegend\": true, \"textposition\": \"auto\", \"type\": \"bar\", \"x\": [\"Denmark\"], \"xaxis\": \"x\", \"y\": [14306], \"yaxis\": \"y\"}, {\"alignmentgroup\": \"True\", \"customdata\": [[\"Palestine\", \"Asia\"]], \"hovertemplate\": \"Country/Region=%{customdata[0]}<br>TotalCases=%{y}<br>Continent=%{customdata[1]}<extra></extra>\", \"legendgroup\": \"Palestine\", \"marker\": {\"color\": \"#FFA15A\"}, \"name\": \"Palestine\", \"offsetgroup\": \"Palestine\", \"orientation\": \"v\", \"showlegend\": true, \"textposition\": \"auto\", \"type\": \"bar\", \"x\": [\"Palestine\"], \"xaxis\": \"x\", \"y\": [13398], \"yaxis\": \"y\"}, {\"alignmentgroup\": \"True\", \"customdata\": [[\"Bosnia and Herzegovina\", \"Europe\"]], \"hovertemplate\": \"Country/Region=%{customdata[0]}<br>TotalCases=%{y}<br>Continent=%{customdata[1]}<extra></extra>\", \"legendgroup\": \"Bosnia and Herzegovina\", \"marker\": {\"color\": \"#19d3f3\"}, \"name\": \"Bosnia and Herzegovina\", \"offsetgroup\": \"Bosnia and Herzegovina\", \"orientation\": \"v\", \"showlegend\": true, \"textposition\": \"auto\", \"type\": \"bar\", \"x\": [\"Bosnia and Herzegovina\"], \"xaxis\": \"x\", \"y\": [13396], \"yaxis\": \"y\"}, {\"alignmentgroup\": \"True\", \"customdata\": [[\"Bulgaria\", \"Europe\"]], \"hovertemplate\": \"Country/Region=%{customdata[0]}<br>TotalCases=%{y}<br>Continent=%{customdata[1]}<extra></extra>\", \"legendgroup\": \"Bulgaria\", \"marker\": {\"color\": \"#FF6692\"}, \"name\": \"Bulgaria\", \"offsetgroup\": \"Bulgaria\", \"orientation\": \"v\", \"showlegend\": true, \"textposition\": \"auto\", \"type\": \"bar\", \"x\": [\"Bulgaria\"], \"xaxis\": \"x\", \"y\": [13014], \"yaxis\": \"y\"}, {\"alignmentgroup\": \"True\", \"customdata\": [[\"Madagascar\", \"Africa\"]], \"hovertemplate\": \"Country/Region=%{customdata[0]}<br>TotalCases=%{y}<br>Continent=%{customdata[1]}<extra></extra>\", \"legendgroup\": \"Madagascar\", \"marker\": {\"color\": \"#B6E880\"}, \"name\": \"Madagascar\", \"offsetgroup\": \"Madagascar\", \"orientation\": \"v\", \"showlegend\": true, \"textposition\": \"auto\", \"type\": \"bar\", \"x\": [\"Madagascar\"], \"xaxis\": \"x\", \"y\": [12526], \"yaxis\": \"y\"}, {\"alignmentgroup\": \"True\", \"customdata\": [[\"Sudan\", \"Africa\"]], \"hovertemplate\": \"Country/Region=%{customdata[0]}<br>TotalCases=%{y}<br>Continent=%{customdata[1]}<extra></extra>\", \"legendgroup\": \"Sudan\", \"marker\": {\"color\": \"#FF97FF\"}, \"name\": \"Sudan\", \"offsetgroup\": \"Sudan\", \"orientation\": \"v\", \"showlegend\": true, \"textposition\": \"auto\", \"type\": \"bar\", \"x\": [\"Sudan\"], \"xaxis\": \"x\", \"y\": [11780], \"yaxis\": \"y\"}, {\"alignmentgroup\": \"True\", \"customdata\": [[\"North Macedonia\", \"Europe\"]], \"hovertemplate\": \"Country/Region=%{customdata[0]}<br>TotalCases=%{y}<br>Continent=%{customdata[1]}<extra></extra>\", \"legendgroup\": \"North Macedonia\", \"marker\": {\"color\": \"#FECB52\"}, \"name\": \"North Macedonia\", \"offsetgroup\": \"North Macedonia\", \"orientation\": \"v\", \"showlegend\": true, \"textposition\": \"auto\", \"type\": \"bar\", \"x\": [\"North Macedonia\"], \"xaxis\": \"x\", \"y\": [11399], \"yaxis\": \"y\"}, {\"alignmentgroup\": \"True\", \"customdata\": [[\"Senegal\", \"Africa\"]], \"hovertemplate\": \"Country/Region=%{customdata[0]}<br>TotalCases=%{y}<br>Continent=%{customdata[1]}<extra></extra>\", \"legendgroup\": \"Senegal\", \"marker\": {\"color\": \"#636efa\"}, \"name\": \"Senegal\", \"offsetgroup\": \"Senegal\", \"orientation\": \"v\", \"showlegend\": true, \"textposition\": \"auto\", \"type\": \"bar\", \"x\": [\"Senegal\"], \"xaxis\": \"x\", \"y\": [10715], \"yaxis\": \"y\"}, {\"alignmentgroup\": \"True\", \"customdata\": [[\"Norway\", \"Europe\"]], \"hovertemplate\": \"Country/Region=%{customdata[0]}<br>TotalCases=%{y}<br>Continent=%{customdata[1]}<extra></extra>\", \"legendgroup\": \"Norway\", \"marker\": {\"color\": \"#EF553B\"}, \"name\": \"Norway\", \"offsetgroup\": \"Norway\", \"orientation\": \"v\", \"showlegend\": true, \"textposition\": \"auto\", \"type\": \"bar\", \"x\": [\"Norway\"], \"xaxis\": \"x\", \"y\": [9468], \"yaxis\": \"y\"}, {\"alignmentgroup\": \"True\", \"customdata\": [[\"DRC\", \"Africa\"]], \"hovertemplate\": \"Country/Region=%{customdata[0]}<br>TotalCases=%{y}<br>Continent=%{customdata[1]}<extra></extra>\", \"legendgroup\": \"DRC\", \"marker\": {\"color\": \"#00cc96\"}, \"name\": \"DRC\", \"offsetgroup\": \"DRC\", \"orientation\": \"v\", \"showlegend\": true, \"textposition\": \"auto\", \"type\": \"bar\", \"x\": [\"DRC\"], \"xaxis\": \"x\", \"y\": [9309], \"yaxis\": \"y\"}, {\"alignmentgroup\": \"True\", \"customdata\": [[\"Malaysia\", \"Asia\"]], \"hovertemplate\": \"Country/Region=%{customdata[0]}<br>TotalCases=%{y}<br>Continent=%{customdata[1]}<extra></extra>\", \"legendgroup\": \"Malaysia\", \"marker\": {\"color\": \"#ab63fa\"}, \"name\": \"Malaysia\", \"offsetgroup\": \"Malaysia\", \"orientation\": \"v\", \"showlegend\": true, \"textposition\": \"auto\", \"type\": \"bar\", \"x\": [\"Malaysia\"], \"xaxis\": \"x\", \"y\": [9038], \"yaxis\": \"y\"}, {\"alignmentgroup\": \"True\", \"customdata\": [[\"French Guiana\", \"South America\"]], \"hovertemplate\": \"Country/Region=%{customdata[0]}<br>TotalCases=%{y}<br>Continent=%{customdata[1]}<extra></extra>\", \"legendgroup\": \"French Guiana\", \"marker\": {\"color\": \"#FFA15A\"}, \"name\": \"French Guiana\", \"offsetgroup\": \"French Guiana\", \"orientation\": \"v\", \"showlegend\": true, \"textposition\": \"auto\", \"type\": \"bar\", \"x\": [\"French Guiana\"], \"xaxis\": \"x\", \"y\": [8127], \"yaxis\": \"y\"}, {\"alignmentgroup\": \"True\", \"customdata\": [[\"Gabon\", \"Africa\"]], \"hovertemplate\": \"Country/Region=%{customdata[0]}<br>TotalCases=%{y}<br>Continent=%{customdata[1]}<extra></extra>\", \"legendgroup\": \"Gabon\", \"marker\": {\"color\": \"#19d3f3\"}, \"name\": \"Gabon\", \"offsetgroup\": \"Gabon\", \"orientation\": \"v\", \"showlegend\": true, \"textposition\": \"auto\", \"type\": \"bar\", \"x\": [\"Gabon\"], \"xaxis\": \"x\", \"y\": [7787], \"yaxis\": \"y\"}, {\"alignmentgroup\": \"True\", \"customdata\": [[\"Tajikistan\", \"Asia\"]], \"hovertemplate\": \"Country/Region=%{customdata[0]}<br>TotalCases=%{y}<br>Continent=%{customdata[1]}<extra></extra>\", \"legendgroup\": \"Tajikistan\", \"marker\": {\"color\": \"#FF6692\"}, \"name\": \"Tajikistan\", \"offsetgroup\": \"Tajikistan\", \"orientation\": \"v\", \"showlegend\": true, \"textposition\": \"auto\", \"type\": \"bar\", \"x\": [\"Tajikistan\"], \"xaxis\": \"x\", \"y\": [7665], \"yaxis\": \"y\"}, {\"alignmentgroup\": \"True\", \"customdata\": [[\"Guinea\", \"Africa\"]], \"hovertemplate\": \"Country/Region=%{customdata[0]}<br>TotalCases=%{y}<br>Continent=%{customdata[1]}<extra></extra>\", \"legendgroup\": \"Guinea\", \"marker\": {\"color\": \"#B6E880\"}, \"name\": \"Guinea\", \"offsetgroup\": \"Guinea\", \"orientation\": \"v\", \"showlegend\": true, \"textposition\": \"auto\", \"type\": \"bar\", \"x\": [\"Guinea\"], \"xaxis\": \"x\", \"y\": [7664], \"yaxis\": \"y\"}, {\"alignmentgroup\": \"True\", \"customdata\": [[\"Haiti\", \"North America\"]], \"hovertemplate\": \"Country/Region=%{customdata[0]}<br>TotalCases=%{y}<br>Continent=%{customdata[1]}<extra></extra>\", \"legendgroup\": \"Haiti\", \"marker\": {\"color\": \"#FF97FF\"}, \"name\": \"Haiti\", \"offsetgroup\": \"Haiti\", \"orientation\": \"v\", \"showlegend\": true, \"textposition\": \"auto\", \"type\": \"bar\", \"x\": [\"Haiti\"], \"xaxis\": \"x\", \"y\": [7544], \"yaxis\": \"y\"}, {\"alignmentgroup\": \"True\", \"customdata\": [[\"Finland\", \"Europe\"]], \"hovertemplate\": \"Country/Region=%{customdata[0]}<br>TotalCases=%{y}<br>Continent=%{customdata[1]}<extra></extra>\", \"legendgroup\": \"Finland\", \"marker\": {\"color\": \"#FECB52\"}, \"name\": \"Finland\", \"offsetgroup\": \"Finland\", \"orientation\": \"v\", \"showlegend\": true, \"textposition\": \"auto\", \"type\": \"bar\", \"x\": [\"Finland\"], \"xaxis\": \"x\", \"y\": [7532], \"yaxis\": \"y\"}, {\"alignmentgroup\": \"True\", \"customdata\": [[\"Zambia\", \"Africa\"]], \"hovertemplate\": \"Country/Region=%{customdata[0]}<br>TotalCases=%{y}<br>Continent=%{customdata[1]}<extra></extra>\", \"legendgroup\": \"Zambia\", \"marker\": {\"color\": \"#636efa\"}, \"name\": \"Zambia\", \"offsetgroup\": \"Zambia\", \"orientation\": \"v\", \"showlegend\": true, \"textposition\": \"auto\", \"type\": \"bar\", \"x\": [\"Zambia\"], \"xaxis\": \"x\", \"y\": [7164], \"yaxis\": \"y\"}, {\"alignmentgroup\": \"True\", \"customdata\": [[\"Luxembourg\", \"Europe\"]], \"hovertemplate\": \"Country/Region=%{customdata[0]}<br>TotalCases=%{y}<br>Continent=%{customdata[1]}<extra></extra>\", \"legendgroup\": \"Luxembourg\", \"marker\": {\"color\": \"#EF553B\"}, \"name\": \"Luxembourg\", \"offsetgroup\": \"Luxembourg\", \"orientation\": \"v\", \"showlegend\": true, \"textposition\": \"auto\", \"type\": \"bar\", \"x\": [\"Luxembourg\"], \"xaxis\": \"x\", \"y\": [7073], \"yaxis\": \"y\"}, {\"alignmentgroup\": \"True\", \"customdata\": [[\"Mauritania\", \"Africa\"]], \"hovertemplate\": \"Country/Region=%{customdata[0]}<br>TotalCases=%{y}<br>Continent=%{customdata[1]}<extra></extra>\", \"legendgroup\": \"Mauritania\", \"marker\": {\"color\": \"#00cc96\"}, \"name\": \"Mauritania\", \"offsetgroup\": \"Mauritania\", \"orientation\": \"v\", \"showlegend\": true, \"textposition\": \"auto\", \"type\": \"bar\", \"x\": [\"Mauritania\"], \"xaxis\": \"x\", \"y\": [6444], \"yaxis\": \"y\"}, {\"alignmentgroup\": \"True\", \"customdata\": [[\"Paraguay\", \"South America\"]], \"hovertemplate\": \"Country/Region=%{customdata[0]}<br>TotalCases=%{y}<br>Continent=%{customdata[1]}<extra></extra>\", \"legendgroup\": \"Paraguay\", \"marker\": {\"color\": \"#ab63fa\"}, \"name\": \"Paraguay\", \"offsetgroup\": \"Paraguay\", \"orientation\": \"v\", \"showlegend\": true, \"textposition\": \"auto\", \"type\": \"bar\", \"x\": [\"Paraguay\"], \"xaxis\": \"x\", \"y\": [6375], \"yaxis\": \"y\"}, {\"alignmentgroup\": \"True\", \"customdata\": [[\"Albania\", \"Europe\"]], \"hovertemplate\": \"Country/Region=%{customdata[0]}<br>TotalCases=%{y}<br>Continent=%{customdata[1]}<extra></extra>\", \"legendgroup\": \"Albania\", \"marker\": {\"color\": \"#FFA15A\"}, \"name\": \"Albania\", \"offsetgroup\": \"Albania\", \"orientation\": \"v\", \"showlegend\": true, \"textposition\": \"auto\", \"type\": \"bar\", \"x\": [\"Albania\"], \"xaxis\": \"x\", \"y\": [6016], \"yaxis\": \"y\"}, {\"alignmentgroup\": \"True\", \"customdata\": [[\"Lebanon\", \"Asia\"]], \"hovertemplate\": \"Country/Region=%{customdata[0]}<br>TotalCases=%{y}<br>Continent=%{customdata[1]}<extra></extra>\", \"legendgroup\": \"Lebanon\", \"marker\": {\"color\": \"#19d3f3\"}, \"name\": \"Lebanon\", \"offsetgroup\": \"Lebanon\", \"orientation\": \"v\", \"showlegend\": true, \"textposition\": \"auto\", \"type\": \"bar\", \"x\": [\"Lebanon\"], \"xaxis\": \"x\", \"y\": [5672], \"yaxis\": \"y\"}, {\"alignmentgroup\": \"True\", \"customdata\": [[\"Croatia\", \"Europe\"]], \"hovertemplate\": \"Country/Region=%{customdata[0]}<br>TotalCases=%{y}<br>Continent=%{customdata[1]}<extra></extra>\", \"legendgroup\": \"Croatia\", \"marker\": {\"color\": \"#FF6692\"}, \"name\": \"Croatia\", \"offsetgroup\": \"Croatia\", \"orientation\": \"v\", \"showlegend\": true, \"textposition\": \"auto\", \"type\": \"bar\", \"x\": [\"Croatia\"], \"xaxis\": \"x\", \"y\": [5404], \"yaxis\": \"y\"}, {\"alignmentgroup\": \"True\", \"customdata\": [[\"Djibouti\", \"Africa\"]], \"hovertemplate\": \"Country/Region=%{customdata[0]}<br>TotalCases=%{y}<br>Continent=%{customdata[1]}<extra></extra>\", \"legendgroup\": \"Djibouti\", \"marker\": {\"color\": \"#B6E880\"}, \"name\": \"Djibouti\", \"offsetgroup\": \"Djibouti\", \"orientation\": \"v\", \"showlegend\": true, \"textposition\": \"auto\", \"type\": \"bar\", \"x\": [\"Djibouti\"], \"xaxis\": \"x\", \"y\": [5330], \"yaxis\": \"y\"}, {\"alignmentgroup\": \"True\", \"customdata\": [[\"Greece\", \"Europe\"]], \"hovertemplate\": \"Country/Region=%{customdata[0]}<br>TotalCases=%{y}<br>Continent=%{customdata[1]}<extra></extra>\", \"legendgroup\": \"Greece\", \"marker\": {\"color\": \"#FF97FF\"}, \"name\": \"Greece\", \"offsetgroup\": \"Greece\", \"orientation\": \"v\", \"showlegend\": true, \"textposition\": \"auto\", \"type\": \"bar\", \"x\": [\"Greece\"], \"xaxis\": \"x\", \"y\": [5123], \"yaxis\": \"y\"}, {\"alignmentgroup\": \"True\", \"customdata\": [[\"Libya\", \"Africa\"]], \"hovertemplate\": \"Country/Region=%{customdata[0]}<br>TotalCases=%{y}<br>Continent=%{customdata[1]}<extra></extra>\", \"legendgroup\": \"Libya\", \"marker\": {\"color\": \"#FECB52\"}, \"name\": \"Libya\", \"offsetgroup\": \"Libya\", \"orientation\": \"v\", \"showlegend\": true, \"textposition\": \"auto\", \"type\": \"bar\", \"x\": [\"Libya\"], \"xaxis\": \"x\", \"y\": [4879], \"yaxis\": \"y\"}, {\"alignmentgroup\": \"True\", \"customdata\": [[\"Equatorial Guinea\", \"Africa\"]], \"hovertemplate\": \"Country/Region=%{customdata[0]}<br>TotalCases=%{y}<br>Continent=%{customdata[1]}<extra></extra>\", \"legendgroup\": \"Equatorial Guinea\", \"marker\": {\"color\": \"#636efa\"}, \"name\": \"Equatorial Guinea\", \"offsetgroup\": \"Equatorial Guinea\", \"orientation\": \"v\", \"showlegend\": true, \"textposition\": \"auto\", \"type\": \"bar\", \"x\": [\"Equatorial Guinea\"], \"xaxis\": \"x\", \"y\": [4821], \"yaxis\": \"y\"}, {\"alignmentgroup\": \"True\", \"customdata\": [[\"Maldives\", \"Asia\"]], \"hovertemplate\": \"Country/Region=%{customdata[0]}<br>TotalCases=%{y}<br>Continent=%{customdata[1]}<extra></extra>\", \"legendgroup\": \"Maldives\", \"marker\": {\"color\": \"#EF553B\"}, \"name\": \"Maldives\", \"offsetgroup\": \"Maldives\", \"orientation\": \"v\", \"showlegend\": true, \"textposition\": \"auto\", \"type\": \"bar\", \"x\": [\"Maldives\"], \"xaxis\": \"x\", \"y\": [4680], \"yaxis\": \"y\"}, {\"alignmentgroup\": \"True\", \"customdata\": [[\"CAR\", \"Africa\"]], \"hovertemplate\": \"Country/Region=%{customdata[0]}<br>TotalCases=%{y}<br>Continent=%{customdata[1]}<extra></extra>\", \"legendgroup\": \"CAR\", \"marker\": {\"color\": \"#00cc96\"}, \"name\": \"CAR\", \"offsetgroup\": \"CAR\", \"orientation\": \"v\", \"showlegend\": true, \"textposition\": \"auto\", \"type\": \"bar\", \"x\": [\"CAR\"], \"xaxis\": \"x\", \"y\": [4620], \"yaxis\": \"y\"}, {\"alignmentgroup\": \"True\", \"customdata\": [[\"Hungary\", \"Europe\"]], \"hovertemplate\": \"Country/Region=%{customdata[0]}<br>TotalCases=%{y}<br>Continent=%{customdata[1]}<extra></extra>\", \"legendgroup\": \"Hungary\", \"marker\": {\"color\": \"#ab63fa\"}, \"name\": \"Hungary\", \"offsetgroup\": \"Hungary\", \"orientation\": \"v\", \"showlegend\": true, \"textposition\": \"auto\", \"type\": \"bar\", \"x\": [\"Hungary\"], \"xaxis\": \"x\", \"y\": [4597], \"yaxis\": \"y\"}, {\"alignmentgroup\": \"True\", \"customdata\": [[\"Malawi\", \"Africa\"]], \"hovertemplate\": \"Country/Region=%{customdata[0]}<br>TotalCases=%{y}<br>Continent=%{customdata[1]}<extra></extra>\", \"legendgroup\": \"Malawi\", \"marker\": {\"color\": \"#FFA15A\"}, \"name\": \"Malawi\", \"offsetgroup\": \"Malawi\", \"orientation\": \"v\", \"showlegend\": true, \"textposition\": \"auto\", \"type\": \"bar\", \"x\": [\"Malawi\"], \"xaxis\": \"x\", \"y\": [4491], \"yaxis\": \"y\"}, {\"alignmentgroup\": \"True\", \"customdata\": [[\"Zimbabwe\", \"Africa\"]], \"hovertemplate\": \"Country/Region=%{customdata[0]}<br>TotalCases=%{y}<br>Continent=%{customdata[1]}<extra></extra>\", \"legendgroup\": \"Zimbabwe\", \"marker\": {\"color\": \"#19d3f3\"}, \"name\": \"Zimbabwe\", \"offsetgroup\": \"Zimbabwe\", \"orientation\": \"v\", \"showlegend\": true, \"textposition\": \"auto\", \"type\": \"bar\", \"x\": [\"Zimbabwe\"], \"xaxis\": \"x\", \"y\": [4339], \"yaxis\": \"y\"}, {\"alignmentgroup\": \"True\", \"customdata\": [[\"Nicaragua\", \"North America\"]], \"hovertemplate\": \"Country/Region=%{customdata[0]}<br>TotalCases=%{y}<br>Continent=%{customdata[1]}<extra></extra>\", \"legendgroup\": \"Nicaragua\", \"marker\": {\"color\": \"#FF6692\"}, \"name\": \"Nicaragua\", \"offsetgroup\": \"Nicaragua\", \"orientation\": \"v\", \"showlegend\": true, \"textposition\": \"auto\", \"type\": \"bar\", \"x\": [\"Nicaragua\"], \"xaxis\": \"x\", \"y\": [3902], \"yaxis\": \"y\"}, {\"alignmentgroup\": \"True\", \"customdata\": [[\"Hong Kong\", \"Asia\"]], \"hovertemplate\": \"Country/Region=%{customdata[0]}<br>TotalCases=%{y}<br>Continent=%{customdata[1]}<extra></extra>\", \"legendgroup\": \"Hong Kong\", \"marker\": {\"color\": \"#B6E880\"}, \"name\": \"Hong Kong\", \"offsetgroup\": \"Hong Kong\", \"orientation\": \"v\", \"showlegend\": true, \"textposition\": \"auto\", \"type\": \"bar\", \"x\": [\"Hong Kong\"], \"xaxis\": \"x\", \"y\": [3850], \"yaxis\": \"y\"}, {\"alignmentgroup\": \"True\", \"customdata\": [[\"Congo\", \"Africa\"]], \"hovertemplate\": \"Country/Region=%{customdata[0]}<br>TotalCases=%{y}<br>Continent=%{customdata[1]}<extra></extra>\", \"legendgroup\": \"Congo\", \"marker\": {\"color\": \"#FF97FF\"}, \"name\": \"Congo\", \"offsetgroup\": \"Congo\", \"orientation\": \"v\", \"showlegend\": true, \"textposition\": \"auto\", \"type\": \"bar\", \"x\": [\"Congo\"], \"xaxis\": \"x\", \"y\": [3546], \"yaxis\": \"y\"}, {\"alignmentgroup\": \"True\", \"customdata\": [[\"Montenegro\", \"Europe\"]], \"hovertemplate\": \"Country/Region=%{customdata[0]}<br>TotalCases=%{y}<br>Continent=%{customdata[1]}<extra></extra>\", \"legendgroup\": \"Montenegro\", \"marker\": {\"color\": \"#FECB52\"}, \"name\": \"Montenegro\", \"offsetgroup\": \"Montenegro\", \"orientation\": \"v\", \"showlegend\": true, \"textposition\": \"auto\", \"type\": \"bar\", \"x\": [\"Montenegro\"], \"xaxis\": \"x\", \"y\": [3480], \"yaxis\": \"y\"}, {\"alignmentgroup\": \"True\", \"customdata\": [[\"Thailand\", \"Asia\"]], \"hovertemplate\": \"Country/Region=%{customdata[0]}<br>TotalCases=%{y}<br>Continent=%{customdata[1]}<extra></extra>\", \"legendgroup\": \"Thailand\", \"marker\": {\"color\": \"#636efa\"}, \"name\": \"Thailand\", \"offsetgroup\": \"Thailand\", \"orientation\": \"v\", \"showlegend\": true, \"textposition\": \"auto\", \"type\": \"bar\", \"x\": [\"Thailand\"], \"xaxis\": \"x\", \"y\": [3330], \"yaxis\": \"y\"}, {\"alignmentgroup\": \"True\", \"customdata\": [[\"Somalia\", \"Africa\"]], \"hovertemplate\": \"Country/Region=%{customdata[0]}<br>TotalCases=%{y}<br>Continent=%{customdata[1]}<extra></extra>\", \"legendgroup\": \"Somalia\", \"marker\": {\"color\": \"#EF553B\"}, \"name\": \"Somalia\", \"offsetgroup\": \"Somalia\", \"orientation\": \"v\", \"showlegend\": true, \"textposition\": \"auto\", \"type\": \"bar\", \"x\": [\"Somalia\"], \"xaxis\": \"x\", \"y\": [3227], \"yaxis\": \"y\"}, {\"alignmentgroup\": \"True\", \"customdata\": [[\"Mayotte\", \"Africa\"]], \"hovertemplate\": \"Country/Region=%{customdata[0]}<br>TotalCases=%{y}<br>Continent=%{customdata[1]}<extra></extra>\", \"legendgroup\": \"Mayotte\", \"marker\": {\"color\": \"#00cc96\"}, \"name\": \"Mayotte\", \"offsetgroup\": \"Mayotte\", \"orientation\": \"v\", \"showlegend\": true, \"textposition\": \"auto\", \"type\": \"bar\", \"x\": [\"Mayotte\"], \"xaxis\": \"x\", \"y\": [3042], \"yaxis\": \"y\"}, {\"alignmentgroup\": \"True\", \"customdata\": [[\"Eswatini\", \"Africa\"]], \"hovertemplate\": \"Country/Region=%{customdata[0]}<br>TotalCases=%{y}<br>Continent=%{customdata[1]}<extra></extra>\", \"legendgroup\": \"Eswatini\", \"marker\": {\"color\": \"#ab63fa\"}, \"name\": \"Eswatini\", \"offsetgroup\": \"Eswatini\", \"orientation\": \"v\", \"showlegend\": true, \"textposition\": \"auto\", \"type\": \"bar\", \"x\": [\"Eswatini\"], \"xaxis\": \"x\", \"y\": [2968], \"yaxis\": \"y\"}, {\"alignmentgroup\": \"True\", \"customdata\": [[\"Sri Lanka\", \"Asia\"]], \"hovertemplate\": \"Country/Region=%{customdata[0]}<br>TotalCases=%{y}<br>Continent=%{customdata[1]}<extra></extra>\", \"legendgroup\": \"Sri Lanka\", \"marker\": {\"color\": \"#FFA15A\"}, \"name\": \"Sri Lanka\", \"offsetgroup\": \"Sri Lanka\", \"orientation\": \"v\", \"showlegend\": true, \"textposition\": \"auto\", \"type\": \"bar\", \"x\": [\"Sri Lanka\"], \"xaxis\": \"x\", \"y\": [2839], \"yaxis\": \"y\"}, {\"alignmentgroup\": \"True\", \"customdata\": [[\"Cuba\", \"North America\"]], \"hovertemplate\": \"Country/Region=%{customdata[0]}<br>TotalCases=%{y}<br>Continent=%{customdata[1]}<extra></extra>\", \"legendgroup\": \"Cuba\", \"marker\": {\"color\": \"#19d3f3\"}, \"name\": \"Cuba\", \"offsetgroup\": \"Cuba\", \"orientation\": \"v\", \"showlegend\": true, \"textposition\": \"auto\", \"type\": \"bar\", \"x\": [\"Cuba\"], \"xaxis\": \"x\", \"y\": [2775], \"yaxis\": \"y\"}, {\"alignmentgroup\": \"True\", \"customdata\": [[\"Cabo Verde\", \"Africa\"]], \"hovertemplate\": \"Country/Region=%{customdata[0]}<br>TotalCases=%{y}<br>Continent=%{customdata[1]}<extra></extra>\", \"legendgroup\": \"Cabo Verde\", \"marker\": {\"color\": \"#FF6692\"}, \"name\": \"Cabo Verde\", \"offsetgroup\": \"Cabo Verde\", \"orientation\": \"v\", \"showlegend\": true, \"textposition\": \"auto\", \"type\": \"bar\", \"x\": [\"Cabo Verde\"], \"xaxis\": \"x\", \"y\": [2734], \"yaxis\": \"y\"}, {\"alignmentgroup\": \"True\", \"customdata\": [[\"Namibia\", \"Africa\"]], \"hovertemplate\": \"Country/Region=%{customdata[0]}<br>TotalCases=%{y}<br>Continent=%{customdata[1]}<extra></extra>\", \"legendgroup\": \"Namibia\", \"marker\": {\"color\": \"#B6E880\"}, \"name\": \"Namibia\", \"offsetgroup\": \"Namibia\", \"orientation\": \"v\", \"showlegend\": true, \"textposition\": \"auto\", \"type\": \"bar\", \"x\": [\"Namibia\"], \"xaxis\": \"x\", \"y\": [2652], \"yaxis\": \"y\"}, {\"alignmentgroup\": \"True\", \"customdata\": [[\"Mali\", \"Africa\"]], \"hovertemplate\": \"Country/Region=%{customdata[0]}<br>TotalCases=%{y}<br>Continent=%{customdata[1]}<extra></extra>\", \"legendgroup\": \"Mali\", \"marker\": {\"color\": \"#FF97FF\"}, \"name\": \"Mali\", \"offsetgroup\": \"Mali\", \"orientation\": \"v\", \"showlegend\": true, \"textposition\": \"auto\", \"type\": \"bar\", \"x\": [\"Mali\"], \"xaxis\": \"x\", \"y\": [2552], \"yaxis\": \"y\"}, {\"alignmentgroup\": \"True\", \"customdata\": [[\"Slovakia\", \"Europe\"]], \"hovertemplate\": \"Country/Region=%{customdata[0]}<br>TotalCases=%{y}<br>Continent=%{customdata[1]}<extra></extra>\", \"legendgroup\": \"Slovakia\", \"marker\": {\"color\": \"#FECB52\"}, \"name\": \"Slovakia\", \"offsetgroup\": \"Slovakia\", \"orientation\": \"v\", \"showlegend\": true, \"textposition\": \"auto\", \"type\": \"bar\", \"x\": [\"Slovakia\"], \"xaxis\": \"x\", \"y\": [2480], \"yaxis\": \"y\"}, {\"alignmentgroup\": \"True\", \"customdata\": [[\"South Sudan\", \"Africa\"]], \"hovertemplate\": \"Country/Region=%{customdata[0]}<br>TotalCases=%{y}<br>Continent=%{customdata[1]}<extra></extra>\", \"legendgroup\": \"South Sudan\", \"marker\": {\"color\": \"#636efa\"}, \"name\": \"South Sudan\", \"offsetgroup\": \"South Sudan\", \"orientation\": \"v\", \"showlegend\": true, \"textposition\": \"auto\", \"type\": \"bar\", \"x\": [\"South Sudan\"], \"xaxis\": \"x\", \"y\": [2450], \"yaxis\": \"y\"}, {\"alignmentgroup\": \"True\", \"customdata\": [[\"Slovenia\", \"Europe\"]], \"hovertemplate\": \"Country/Region=%{customdata[0]}<br>TotalCases=%{y}<br>Continent=%{customdata[1]}<extra></extra>\", \"legendgroup\": \"Slovenia\", \"marker\": {\"color\": \"#EF553B\"}, \"name\": \"Slovenia\", \"offsetgroup\": \"Slovenia\", \"orientation\": \"v\", \"showlegend\": true, \"textposition\": \"auto\", \"type\": \"bar\", \"x\": [\"Slovenia\"], \"xaxis\": \"x\", \"y\": [2223], \"yaxis\": \"y\"}, {\"alignmentgroup\": \"True\", \"customdata\": [[\"Lithuania\", \"Europe\"]], \"hovertemplate\": \"Country/Region=%{customdata[0]}<br>TotalCases=%{y}<br>Continent=%{customdata[1]}<extra></extra>\", \"legendgroup\": \"Lithuania\", \"marker\": {\"color\": \"#00cc96\"}, \"name\": \"Lithuania\", \"offsetgroup\": \"Lithuania\", \"orientation\": \"v\", \"showlegend\": true, \"textposition\": \"auto\", \"type\": \"bar\", \"x\": [\"Lithuania\"], \"xaxis\": \"x\", \"y\": [2171], \"yaxis\": \"y\"}, {\"alignmentgroup\": \"True\", \"customdata\": [[\"Estonia\", \"Europe\"]], \"hovertemplate\": \"Country/Region=%{customdata[0]}<br>TotalCases=%{y}<br>Continent=%{customdata[1]}<extra></extra>\", \"legendgroup\": \"Estonia\", \"marker\": {\"color\": \"#ab63fa\"}, \"name\": \"Estonia\", \"offsetgroup\": \"Estonia\", \"orientation\": \"v\", \"showlegend\": true, \"textposition\": \"auto\", \"type\": \"bar\", \"x\": [\"Estonia\"], \"xaxis\": \"x\", \"y\": [2124], \"yaxis\": \"y\"}, {\"alignmentgroup\": \"True\", \"customdata\": [[\"Mozambique\", \"Africa\"]], \"hovertemplate\": \"Country/Region=%{customdata[0]}<br>TotalCases=%{y}<br>Continent=%{customdata[1]}<extra></extra>\", \"legendgroup\": \"Mozambique\", \"marker\": {\"color\": \"#FFA15A\"}, \"name\": \"Mozambique\", \"offsetgroup\": \"Mozambique\", \"orientation\": \"v\", \"showlegend\": true, \"textposition\": \"auto\", \"type\": \"bar\", \"x\": [\"Mozambique\"], \"xaxis\": \"x\", \"y\": [2120], \"yaxis\": \"y\"}, {\"alignmentgroup\": \"True\", \"customdata\": [[\"Rwanda\", \"Africa\"]], \"hovertemplate\": \"Country/Region=%{customdata[0]}<br>TotalCases=%{y}<br>Continent=%{customdata[1]}<extra></extra>\", \"legendgroup\": \"Rwanda\", \"marker\": {\"color\": \"#19d3f3\"}, \"name\": \"Rwanda\", \"offsetgroup\": \"Rwanda\", \"orientation\": \"v\", \"showlegend\": true, \"textposition\": \"auto\", \"type\": \"bar\", \"x\": [\"Rwanda\"], \"xaxis\": \"x\", \"y\": [2111], \"yaxis\": \"y\"}, {\"alignmentgroup\": \"True\", \"customdata\": [[\"Suriname\", \"South America\"]], \"hovertemplate\": \"Country/Region=%{customdata[0]}<br>TotalCases=%{y}<br>Continent=%{customdata[1]}<extra></extra>\", \"legendgroup\": \"Suriname\", \"marker\": {\"color\": \"#FF6692\"}, \"name\": \"Suriname\", \"offsetgroup\": \"Suriname\", \"orientation\": \"v\", \"showlegend\": true, \"textposition\": \"auto\", \"type\": \"bar\", \"x\": [\"Suriname\"], \"xaxis\": \"x\", \"y\": [2096], \"yaxis\": \"y\"}, {\"alignmentgroup\": \"True\", \"customdata\": [[\"Guinea-Bissau\", \"Africa\"]], \"hovertemplate\": \"Country/Region=%{customdata[0]}<br>TotalCases=%{y}<br>Continent=%{customdata[1]}<extra></extra>\", \"legendgroup\": \"Guinea-Bissau\", \"marker\": {\"color\": \"#B6E880\"}, \"name\": \"Guinea-Bissau\", \"offsetgroup\": \"Guinea-Bissau\", \"orientation\": \"v\", \"showlegend\": true, \"textposition\": \"auto\", \"type\": \"bar\", \"x\": [\"Guinea-Bissau\"], \"xaxis\": \"x\", \"y\": [2032], \"yaxis\": \"y\"}, {\"alignmentgroup\": \"True\", \"customdata\": [[\"Benin\", \"Africa\"]], \"hovertemplate\": \"Country/Region=%{customdata[0]}<br>TotalCases=%{y}<br>Continent=%{customdata[1]}<extra></extra>\", \"legendgroup\": \"Benin\", \"marker\": {\"color\": \"#FF97FF\"}, \"name\": \"Benin\", \"offsetgroup\": \"Benin\", \"orientation\": \"v\", \"showlegend\": true, \"textposition\": \"auto\", \"type\": \"bar\", \"x\": [\"Benin\"], \"xaxis\": \"x\", \"y\": [1936], \"yaxis\": \"y\"}, {\"alignmentgroup\": \"True\", \"customdata\": [[\"Iceland\", \"Europe\"]], \"hovertemplate\": \"Country/Region=%{customdata[0]}<br>TotalCases=%{y}<br>Continent=%{customdata[1]}<extra></extra>\", \"legendgroup\": \"Iceland\", \"marker\": {\"color\": \"#FECB52\"}, \"name\": \"Iceland\", \"offsetgroup\": \"Iceland\", \"orientation\": \"v\", \"showlegend\": true, \"textposition\": \"auto\", \"type\": \"bar\", \"x\": [\"Iceland\"], \"xaxis\": \"x\", \"y\": [1930], \"yaxis\": \"y\"}, {\"alignmentgroup\": \"True\", \"customdata\": [[\"Sierra Leone\", \"Africa\"]], \"hovertemplate\": \"Country/Region=%{customdata[0]}<br>TotalCases=%{y}<br>Continent=%{customdata[1]}<extra></extra>\", \"legendgroup\": \"Sierra Leone\", \"marker\": {\"color\": \"#636efa\"}, \"name\": \"Sierra Leone\", \"offsetgroup\": \"Sierra Leone\", \"orientation\": \"v\", \"showlegend\": true, \"textposition\": \"auto\", \"type\": \"bar\", \"x\": [\"Sierra Leone\"], \"xaxis\": \"x\", \"y\": [1877], \"yaxis\": \"y\"}, {\"alignmentgroup\": \"True\", \"customdata\": [[\"Yemen\", \"Asia\"]], \"hovertemplate\": \"Country/Region=%{customdata[0]}<br>TotalCases=%{y}<br>Continent=%{customdata[1]}<extra></extra>\", \"legendgroup\": \"Yemen\", \"marker\": {\"color\": \"#EF553B\"}, \"name\": \"Yemen\", \"offsetgroup\": \"Yemen\", \"orientation\": \"v\", \"showlegend\": true, \"textposition\": \"auto\", \"type\": \"bar\", \"x\": [\"Yemen\"], \"xaxis\": \"x\", \"y\": [1768], \"yaxis\": \"y\"}, {\"alignmentgroup\": \"True\", \"customdata\": [[\"Tunisia\", \"Africa\"]], \"hovertemplate\": \"Country/Region=%{customdata[0]}<br>TotalCases=%{y}<br>Continent=%{customdata[1]}<extra></extra>\", \"legendgroup\": \"Tunisia\", \"marker\": {\"color\": \"#00cc96\"}, \"name\": \"Tunisia\", \"offsetgroup\": \"Tunisia\", \"orientation\": \"v\", \"showlegend\": true, \"textposition\": \"auto\", \"type\": \"bar\", \"x\": [\"Tunisia\"], \"xaxis\": \"x\", \"y\": [1642], \"yaxis\": \"y\"}, {\"alignmentgroup\": \"True\", \"customdata\": [[\"New Zealand\", \"Australia/Oceania\"]], \"hovertemplate\": \"Country/Region=%{customdata[0]}<br>TotalCases=%{y}<br>Continent=%{customdata[1]}<extra></extra>\", \"legendgroup\": \"New Zealand\", \"marker\": {\"color\": \"#ab63fa\"}, \"name\": \"New Zealand\", \"offsetgroup\": \"New Zealand\", \"orientation\": \"v\", \"showlegend\": true, \"textposition\": \"auto\", \"type\": \"bar\", \"x\": [\"New Zealand\"], \"xaxis\": \"x\", \"y\": [1569], \"yaxis\": \"y\"}, {\"alignmentgroup\": \"True\", \"customdata\": [[\"Angola\", \"Africa\"]], \"hovertemplate\": \"Country/Region=%{customdata[0]}<br>TotalCases=%{y}<br>Continent=%{customdata[1]}<extra></extra>\", \"legendgroup\": \"Angola\", \"marker\": {\"color\": \"#FFA15A\"}, \"name\": \"Angola\", \"offsetgroup\": \"Angola\", \"orientation\": \"v\", \"showlegend\": true, \"textposition\": \"auto\", \"type\": \"bar\", \"x\": [\"Angola\"], \"xaxis\": \"x\", \"y\": [1483], \"yaxis\": \"y\"}, {\"alignmentgroup\": \"True\", \"customdata\": [[\"Uruguay\", \"South America\"]], \"hovertemplate\": \"Country/Region=%{customdata[0]}<br>TotalCases=%{y}<br>Continent=%{customdata[1]}<extra></extra>\", \"legendgroup\": \"Uruguay\", \"marker\": {\"color\": \"#19d3f3\"}, \"name\": \"Uruguay\", \"offsetgroup\": \"Uruguay\", \"orientation\": \"v\", \"showlegend\": true, \"textposition\": \"auto\", \"type\": \"bar\", \"x\": [\"Uruguay\"], \"xaxis\": \"x\", \"y\": [1318], \"yaxis\": \"y\"}, {\"alignmentgroup\": \"True\", \"customdata\": [[\"Latvia\", \"Europe\"]], \"hovertemplate\": \"Country/Region=%{customdata[0]}<br>TotalCases=%{y}<br>Continent=%{customdata[1]}<extra></extra>\", \"legendgroup\": \"Latvia\", \"marker\": {\"color\": \"#FF6692\"}, \"name\": \"Latvia\", \"offsetgroup\": \"Latvia\", \"orientation\": \"v\", \"showlegend\": true, \"textposition\": \"auto\", \"type\": \"bar\", \"x\": [\"Latvia\"], \"xaxis\": \"x\", \"y\": [1275], \"yaxis\": \"y\"}, {\"alignmentgroup\": \"True\", \"customdata\": [[\"Jordan\", \"Asia\"]], \"hovertemplate\": \"Country/Region=%{customdata[0]}<br>TotalCases=%{y}<br>Continent=%{customdata[1]}<extra></extra>\", \"legendgroup\": \"Jordan\", \"marker\": {\"color\": \"#B6E880\"}, \"name\": \"Jordan\", \"offsetgroup\": \"Jordan\", \"orientation\": \"v\", \"showlegend\": true, \"textposition\": \"auto\", \"type\": \"bar\", \"x\": [\"Jordan\"], \"xaxis\": \"x\", \"y\": [1232], \"yaxis\": \"y\"}, {\"alignmentgroup\": \"True\", \"customdata\": [[\"Liberia\", \"Africa\"]], \"hovertemplate\": \"Country/Region=%{customdata[0]}<br>TotalCases=%{y}<br>Continent=%{customdata[1]}<extra></extra>\", \"legendgroup\": \"Liberia\", \"marker\": {\"color\": \"#FF97FF\"}, \"name\": \"Liberia\", \"offsetgroup\": \"Liberia\", \"orientation\": \"v\", \"showlegend\": true, \"textposition\": \"auto\", \"type\": \"bar\", \"x\": [\"Liberia\"], \"xaxis\": \"x\", \"y\": [1224], \"yaxis\": \"y\"}, {\"alignmentgroup\": \"True\", \"customdata\": [[\"Uganda\", \"Africa\"]], \"hovertemplate\": \"Country/Region=%{customdata[0]}<br>TotalCases=%{y}<br>Continent=%{customdata[1]}<extra></extra>\", \"legendgroup\": \"Uganda\", \"marker\": {\"color\": \"#FECB52\"}, \"name\": \"Uganda\", \"offsetgroup\": \"Uganda\", \"orientation\": \"v\", \"showlegend\": true, \"textposition\": \"auto\", \"type\": \"bar\", \"x\": [\"Uganda\"], \"xaxis\": \"x\", \"y\": [1223], \"yaxis\": \"y\"}, {\"alignmentgroup\": \"True\", \"customdata\": [[\"Cyprus\", \"Asia\"]], \"hovertemplate\": \"Country/Region=%{customdata[0]}<br>TotalCases=%{y}<br>Continent=%{customdata[1]}<extra></extra>\", \"legendgroup\": \"Cyprus\", \"marker\": {\"color\": \"#636efa\"}, \"name\": \"Cyprus\", \"offsetgroup\": \"Cyprus\", \"orientation\": \"v\", \"showlegend\": true, \"textposition\": \"auto\", \"type\": \"bar\", \"x\": [\"Cyprus\"], \"xaxis\": \"x\", \"y\": [1208], \"yaxis\": \"y\"}, {\"alignmentgroup\": \"True\", \"customdata\": [[\"Georgia\", \"Asia\"]], \"hovertemplate\": \"Country/Region=%{customdata[0]}<br>TotalCases=%{y}<br>Continent=%{customdata[1]}<extra></extra>\", \"legendgroup\": \"Georgia\", \"marker\": {\"color\": \"#EF553B\"}, \"name\": \"Georgia\", \"offsetgroup\": \"Georgia\", \"orientation\": \"v\", \"showlegend\": true, \"textposition\": \"auto\", \"type\": \"bar\", \"x\": [\"Georgia\"], \"xaxis\": \"x\", \"y\": [1206], \"yaxis\": \"y\"}, {\"alignmentgroup\": \"True\", \"customdata\": [[\"Burkina Faso\", \"Africa\"]], \"hovertemplate\": \"Country/Region=%{customdata[0]}<br>TotalCases=%{y}<br>Continent=%{customdata[1]}<extra></extra>\", \"legendgroup\": \"Burkina Faso\", \"marker\": {\"color\": \"#00cc96\"}, \"name\": \"Burkina Faso\", \"offsetgroup\": \"Burkina Faso\", \"orientation\": \"v\", \"showlegend\": true, \"textposition\": \"auto\", \"type\": \"bar\", \"x\": [\"Burkina Faso\"], \"xaxis\": \"x\", \"y\": [1158], \"yaxis\": \"y\"}, {\"alignmentgroup\": \"True\", \"customdata\": [[\"Niger\", \"Africa\"]], \"hovertemplate\": \"Country/Region=%{customdata[0]}<br>TotalCases=%{y}<br>Continent=%{customdata[1]}<extra></extra>\", \"legendgroup\": \"Niger\", \"marker\": {\"color\": \"#ab63fa\"}, \"name\": \"Niger\", \"offsetgroup\": \"Niger\", \"orientation\": \"v\", \"showlegend\": true, \"textposition\": \"auto\", \"type\": \"bar\", \"x\": [\"Niger\"], \"xaxis\": \"x\", \"y\": [1153], \"yaxis\": \"y\"}, {\"alignmentgroup\": \"True\", \"customdata\": [[\"Togo\", \"Africa\"]], \"hovertemplate\": \"Country/Region=%{customdata[0]}<br>TotalCases=%{y}<br>Continent=%{customdata[1]}<extra></extra>\", \"legendgroup\": \"Togo\", \"marker\": {\"color\": \"#FFA15A\"}, \"name\": \"Togo\", \"offsetgroup\": \"Togo\", \"orientation\": \"v\", \"showlegend\": true, \"textposition\": \"auto\", \"type\": \"bar\", \"x\": [\"Togo\"], \"xaxis\": \"x\", \"y\": [1012], \"yaxis\": \"y\"}, {\"alignmentgroup\": \"True\", \"customdata\": [[\"Syria\", \"Asia\"]], \"hovertemplate\": \"Country/Region=%{customdata[0]}<br>TotalCases=%{y}<br>Continent=%{customdata[1]}<extra></extra>\", \"legendgroup\": \"Syria\", \"marker\": {\"color\": \"#19d3f3\"}, \"name\": \"Syria\", \"offsetgroup\": \"Syria\", \"orientation\": \"v\", \"showlegend\": true, \"textposition\": \"auto\", \"type\": \"bar\", \"x\": [\"Syria\"], \"xaxis\": \"x\", \"y\": [999], \"yaxis\": \"y\"}, {\"alignmentgroup\": \"True\", \"customdata\": [[\"Jamaica\", \"North America\"]], \"hovertemplate\": \"Country/Region=%{customdata[0]}<br>TotalCases=%{y}<br>Continent=%{customdata[1]}<extra></extra>\", \"legendgroup\": \"Jamaica\", \"marker\": {\"color\": \"#FF6692\"}, \"name\": \"Jamaica\", \"offsetgroup\": \"Jamaica\", \"orientation\": \"v\", \"showlegend\": true, \"textposition\": \"auto\", \"type\": \"bar\", \"x\": [\"Jamaica\"], \"xaxis\": \"x\", \"y\": [958], \"yaxis\": \"y\"}, {\"alignmentgroup\": \"True\", \"customdata\": [[\"Malta\", \"Europe\"]], \"hovertemplate\": \"Country/Region=%{customdata[0]}<br>TotalCases=%{y}<br>Continent=%{customdata[1]}<extra></extra>\", \"legendgroup\": \"Malta\", \"marker\": {\"color\": \"#B6E880\"}, \"name\": \"Malta\", \"offsetgroup\": \"Malta\", \"orientation\": \"v\", \"showlegend\": true, \"textposition\": \"auto\", \"type\": \"bar\", \"x\": [\"Malta\"], \"xaxis\": \"x\", \"y\": [946], \"yaxis\": \"y\"}, {\"alignmentgroup\": \"True\", \"customdata\": [[\"Andorra\", \"Europe\"]], \"hovertemplate\": \"Country/Region=%{customdata[0]}<br>TotalCases=%{y}<br>Continent=%{customdata[1]}<extra></extra>\", \"legendgroup\": \"Andorra\", \"marker\": {\"color\": \"#FF97FF\"}, \"name\": \"Andorra\", \"offsetgroup\": \"Andorra\", \"orientation\": \"v\", \"showlegend\": true, \"textposition\": \"auto\", \"type\": \"bar\", \"x\": [\"Andorra\"], \"xaxis\": \"x\", \"y\": [944], \"yaxis\": \"y\"}, {\"alignmentgroup\": \"True\", \"customdata\": [[\"Chad\", \"Africa\"]], \"hovertemplate\": \"Country/Region=%{customdata[0]}<br>TotalCases=%{y}<br>Continent=%{customdata[1]}<extra></extra>\", \"legendgroup\": \"Chad\", \"marker\": {\"color\": \"#FECB52\"}, \"name\": \"Chad\", \"offsetgroup\": \"Chad\", \"orientation\": \"v\", \"showlegend\": true, \"textposition\": \"auto\", \"type\": \"bar\", \"x\": [\"Chad\"], \"xaxis\": \"x\", \"y\": [942], \"yaxis\": \"y\"}, {\"alignmentgroup\": \"True\", \"customdata\": [[\"Gambia\", \"Africa\"]], \"hovertemplate\": \"Country/Region=%{customdata[0]}<br>TotalCases=%{y}<br>Continent=%{customdata[1]}<extra></extra>\", \"legendgroup\": \"Gambia\", \"marker\": {\"color\": \"#636efa\"}, \"name\": \"Gambia\", \"offsetgroup\": \"Gambia\", \"orientation\": \"v\", \"showlegend\": true, \"textposition\": \"auto\", \"type\": \"bar\", \"x\": [\"Gambia\"], \"xaxis\": \"x\", \"y\": [935], \"yaxis\": \"y\"}, {\"alignmentgroup\": \"True\", \"customdata\": [[\"Sao Tome and Principe\", \"Africa\"]], \"hovertemplate\": \"Country/Region=%{customdata[0]}<br>TotalCases=%{y}<br>Continent=%{customdata[1]}<extra></extra>\", \"legendgroup\": \"Sao Tome and Principe\", \"marker\": {\"color\": \"#EF553B\"}, \"name\": \"Sao Tome and Principe\", \"offsetgroup\": \"Sao Tome and Principe\", \"orientation\": \"v\", \"showlegend\": true, \"textposition\": \"auto\", \"type\": \"bar\", \"x\": [\"Sao Tome and Principe\"], \"xaxis\": \"x\", \"y\": [878], \"yaxis\": \"y\"}, {\"alignmentgroup\": \"True\", \"customdata\": [[\"Botswana\", \"Africa\"]], \"hovertemplate\": \"Country/Region=%{customdata[0]}<br>TotalCases=%{y}<br>Continent=%{customdata[1]}<extra></extra>\", \"legendgroup\": \"Botswana\", \"marker\": {\"color\": \"#00cc96\"}, \"name\": \"Botswana\", \"offsetgroup\": \"Botswana\", \"orientation\": \"v\", \"showlegend\": true, \"textposition\": \"auto\", \"type\": \"bar\", \"x\": [\"Botswana\"], \"xaxis\": \"x\", \"y\": [804], \"yaxis\": \"y\"}, {\"alignmentgroup\": \"True\", \"customdata\": [[\"Bahamas\", \"North America\"]], \"hovertemplate\": \"Country/Region=%{customdata[0]}<br>TotalCases=%{y}<br>Continent=%{customdata[1]}<extra></extra>\", \"legendgroup\": \"Bahamas\", \"marker\": {\"color\": \"#ab63fa\"}, \"name\": \"Bahamas\", \"offsetgroup\": \"Bahamas\", \"orientation\": \"v\", \"showlegend\": true, \"textposition\": \"auto\", \"type\": \"bar\", \"x\": [\"Bahamas\"], \"xaxis\": \"x\", \"y\": [761], \"yaxis\": \"y\"}, {\"alignmentgroup\": \"True\", \"customdata\": [[\"Vietnam\", \"Asia\"]], \"hovertemplate\": \"Country/Region=%{customdata[0]}<br>TotalCases=%{y}<br>Continent=%{customdata[1]}<extra></extra>\", \"legendgroup\": \"Vietnam\", \"marker\": {\"color\": \"#FFA15A\"}, \"name\": \"Vietnam\", \"offsetgroup\": \"Vietnam\", \"orientation\": \"v\", \"showlegend\": true, \"textposition\": \"auto\", \"type\": \"bar\", \"x\": [\"Vietnam\"], \"xaxis\": \"x\", \"y\": [747], \"yaxis\": \"y\"}, {\"alignmentgroup\": \"True\", \"customdata\": [[\"Lesotho\", \"Africa\"]], \"hovertemplate\": \"Country/Region=%{customdata[0]}<br>TotalCases=%{y}<br>Continent=%{customdata[1]}<extra></extra>\", \"legendgroup\": \"Lesotho\", \"marker\": {\"color\": \"#19d3f3\"}, \"name\": \"Lesotho\", \"offsetgroup\": \"Lesotho\", \"orientation\": \"v\", \"showlegend\": true, \"textposition\": \"auto\", \"type\": \"bar\", \"x\": [\"Lesotho\"], \"xaxis\": \"x\", \"y\": [742], \"yaxis\": \"y\"}, {\"alignmentgroup\": \"True\", \"customdata\": [[\"Diamond Princess\", null]], \"hovertemplate\": \"Country/Region=%{customdata[0]}<br>TotalCases=%{y}<br>Continent=%{customdata[1]}<extra></extra>\", \"legendgroup\": \"Diamond Princess\", \"marker\": {\"color\": \"#FF6692\"}, \"name\": \"Diamond Princess\", \"offsetgroup\": \"Diamond Princess\", \"orientation\": \"v\", \"showlegend\": true, \"textposition\": \"auto\", \"type\": \"bar\", \"x\": [\"Diamond Princess\"], \"xaxis\": \"x\", \"y\": [712], \"yaxis\": \"y\"}, {\"alignmentgroup\": \"True\", \"customdata\": [[\"San Marino\", \"Europe\"]], \"hovertemplate\": \"Country/Region=%{customdata[0]}<br>TotalCases=%{y}<br>Continent=%{customdata[1]}<extra></extra>\", \"legendgroup\": \"San Marino\", \"marker\": {\"color\": \"#B6E880\"}, \"name\": \"San Marino\", \"offsetgroup\": \"San Marino\", \"orientation\": \"v\", \"showlegend\": true, \"textposition\": \"auto\", \"type\": \"bar\", \"x\": [\"San Marino\"], \"xaxis\": \"x\", \"y\": [699], \"yaxis\": \"y\"}, {\"alignmentgroup\": \"True\", \"customdata\": [[\"R\\u00e9union\", \"Africa\"]], \"hovertemplate\": \"Country/Region=%{customdata[0]}<br>TotalCases=%{y}<br>Continent=%{customdata[1]}<extra></extra>\", \"legendgroup\": \"R\\u00e9union\", \"marker\": {\"color\": \"#FF97FF\"}, \"name\": \"R\\u00e9union\", \"offsetgroup\": \"R\\u00e9union\", \"orientation\": \"v\", \"showlegend\": true, \"textposition\": \"auto\", \"type\": \"bar\", \"x\": [\"R\\u00e9union\"], \"xaxis\": \"x\", \"y\": [671], \"yaxis\": \"y\"}, {\"alignmentgroup\": \"True\", \"customdata\": [[\"Channel Islands\", \"Europe\"]], \"hovertemplate\": \"Country/Region=%{customdata[0]}<br>TotalCases=%{y}<br>Continent=%{customdata[1]}<extra></extra>\", \"legendgroup\": \"Channel Islands\", \"marker\": {\"color\": \"#FECB52\"}, \"name\": \"Channel Islands\", \"offsetgroup\": \"Channel Islands\", \"orientation\": \"v\", \"showlegend\": true, \"textposition\": \"auto\", \"type\": \"bar\", \"x\": [\"Channel Islands\"], \"xaxis\": \"x\", \"y\": [597], \"yaxis\": \"y\"}, {\"alignmentgroup\": \"True\", \"customdata\": [[\"Guyana\", \"South America\"]], \"hovertemplate\": \"Country/Region=%{customdata[0]}<br>TotalCases=%{y}<br>Continent=%{customdata[1]}<extra></extra>\", \"legendgroup\": \"Guyana\", \"marker\": {\"color\": \"#636efa\"}, \"name\": \"Guyana\", \"offsetgroup\": \"Guyana\", \"orientation\": \"v\", \"showlegend\": true, \"textposition\": \"auto\", \"type\": \"bar\", \"x\": [\"Guyana\"], \"xaxis\": \"x\", \"y\": [538], \"yaxis\": \"y\"}, {\"alignmentgroup\": \"True\", \"customdata\": [[\"Tanzania\", \"Africa\"]], \"hovertemplate\": \"Country/Region=%{customdata[0]}<br>TotalCases=%{y}<br>Continent=%{customdata[1]}<extra></extra>\", \"legendgroup\": \"Tanzania\", \"marker\": {\"color\": \"#EF553B\"}, \"name\": \"Tanzania\", \"offsetgroup\": \"Tanzania\", \"orientation\": \"v\", \"showlegend\": true, \"textposition\": \"auto\", \"type\": \"bar\", \"x\": [\"Tanzania\"], \"xaxis\": \"x\", \"y\": [509], \"yaxis\": \"y\"}, {\"alignmentgroup\": \"True\", \"customdata\": [[\"Taiwan\", \"Asia\"]], \"hovertemplate\": \"Country/Region=%{customdata[0]}<br>TotalCases=%{y}<br>Continent=%{customdata[1]}<extra></extra>\", \"legendgroup\": \"Taiwan\", \"marker\": {\"color\": \"#00cc96\"}, \"name\": \"Taiwan\", \"offsetgroup\": \"Taiwan\", \"orientation\": \"v\", \"showlegend\": true, \"textposition\": \"auto\", \"type\": \"bar\", \"x\": [\"Taiwan\"], \"xaxis\": \"x\", \"y\": [477], \"yaxis\": \"y\"}, {\"alignmentgroup\": \"True\", \"customdata\": [[\"Comoros\", \"Africa\"]], \"hovertemplate\": \"Country/Region=%{customdata[0]}<br>TotalCases=%{y}<br>Continent=%{customdata[1]}<extra></extra>\", \"legendgroup\": \"Comoros\", \"marker\": {\"color\": \"#ab63fa\"}, \"name\": \"Comoros\", \"offsetgroup\": \"Comoros\", \"orientation\": \"v\", \"showlegend\": true, \"textposition\": \"auto\", \"type\": \"bar\", \"x\": [\"Comoros\"], \"xaxis\": \"x\", \"y\": [396], \"yaxis\": \"y\"}, {\"alignmentgroup\": \"True\", \"customdata\": [[\"Burundi\", \"Africa\"]], \"hovertemplate\": \"Country/Region=%{customdata[0]}<br>TotalCases=%{y}<br>Continent=%{customdata[1]}<extra></extra>\", \"legendgroup\": \"Burundi\", \"marker\": {\"color\": \"#FFA15A\"}, \"name\": \"Burundi\", \"offsetgroup\": \"Burundi\", \"orientation\": \"v\", \"showlegend\": true, \"textposition\": \"auto\", \"type\": \"bar\", \"x\": [\"Burundi\"], \"xaxis\": \"x\", \"y\": [395], \"yaxis\": \"y\"}, {\"alignmentgroup\": \"True\", \"customdata\": [[\"Myanmar\", \"Asia\"]], \"hovertemplate\": \"Country/Region=%{customdata[0]}<br>TotalCases=%{y}<br>Continent=%{customdata[1]}<extra></extra>\", \"legendgroup\": \"Myanmar\", \"marker\": {\"color\": \"#19d3f3\"}, \"name\": \"Myanmar\", \"offsetgroup\": \"Myanmar\", \"orientation\": \"v\", \"showlegend\": true, \"textposition\": \"auto\", \"type\": \"bar\", \"x\": [\"Myanmar\"], \"xaxis\": \"x\", \"y\": [357], \"yaxis\": \"y\"}, {\"alignmentgroup\": \"True\", \"customdata\": [[\"Mauritius\", \"Africa\"]], \"hovertemplate\": \"Country/Region=%{customdata[0]}<br>TotalCases=%{y}<br>Continent=%{customdata[1]}<extra></extra>\", \"legendgroup\": \"Mauritius\", \"marker\": {\"color\": \"#FF6692\"}, \"name\": \"Mauritius\", \"offsetgroup\": \"Mauritius\", \"orientation\": \"v\", \"showlegend\": true, \"textposition\": \"auto\", \"type\": \"bar\", \"x\": [\"Mauritius\"], \"xaxis\": \"x\", \"y\": [344], \"yaxis\": \"y\"}, {\"alignmentgroup\": \"True\", \"customdata\": [[\"Isle of Man\", \"Europe\"]], \"hovertemplate\": \"Country/Region=%{customdata[0]}<br>TotalCases=%{y}<br>Continent=%{customdata[1]}<extra></extra>\", \"legendgroup\": \"Isle of Man\", \"marker\": {\"color\": \"#B6E880\"}, \"name\": \"Isle of Man\", \"offsetgroup\": \"Isle of Man\", \"orientation\": \"v\", \"showlegend\": true, \"textposition\": \"auto\", \"type\": \"bar\", \"x\": [\"Isle of Man\"], \"xaxis\": \"x\", \"y\": [336], \"yaxis\": \"y\"}, {\"alignmentgroup\": \"True\", \"customdata\": [[\"Mongolia\", \"Asia\"]], \"hovertemplate\": \"Country/Region=%{customdata[0]}<br>TotalCases=%{y}<br>Continent=%{customdata[1]}<extra></extra>\", \"legendgroup\": \"Mongolia\", \"marker\": {\"color\": \"#FF97FF\"}, \"name\": \"Mongolia\", \"offsetgroup\": \"Mongolia\", \"orientation\": \"v\", \"showlegend\": true, \"textposition\": \"auto\", \"type\": \"bar\", \"x\": [\"Mongolia\"], \"xaxis\": \"x\", \"y\": [293], \"yaxis\": \"y\"}, {\"alignmentgroup\": \"True\", \"customdata\": [[\"Eritrea\", \"Africa\"]], \"hovertemplate\": \"Country/Region=%{customdata[0]}<br>TotalCases=%{y}<br>Continent=%{customdata[1]}<extra></extra>\", \"legendgroup\": \"Eritrea\", \"marker\": {\"color\": \"#FECB52\"}, \"name\": \"Eritrea\", \"offsetgroup\": \"Eritrea\", \"orientation\": \"v\", \"showlegend\": true, \"textposition\": \"auto\", \"type\": \"bar\", \"x\": [\"Eritrea\"], \"xaxis\": \"x\", \"y\": [282], \"yaxis\": \"y\"}, {\"alignmentgroup\": \"True\", \"customdata\": [[\"Guadeloupe\", \"North America\"]], \"hovertemplate\": \"Country/Region=%{customdata[0]}<br>TotalCases=%{y}<br>Continent=%{customdata[1]}<extra></extra>\", \"legendgroup\": \"Guadeloupe\", \"marker\": {\"color\": \"#636efa\"}, \"name\": \"Guadeloupe\", \"offsetgroup\": \"Guadeloupe\", \"orientation\": \"v\", \"showlegend\": true, \"textposition\": \"auto\", \"type\": \"bar\", \"x\": [\"Guadeloupe\"], \"xaxis\": \"x\", \"y\": [279], \"yaxis\": \"y\"}, {\"alignmentgroup\": \"True\", \"customdata\": [[\"Martinique\", \"North America\"]], \"hovertemplate\": \"Country/Region=%{customdata[0]}<br>TotalCases=%{y}<br>Continent=%{customdata[1]}<extra></extra>\", \"legendgroup\": \"Martinique\", \"marker\": {\"color\": \"#EF553B\"}, \"name\": \"Martinique\", \"offsetgroup\": \"Martinique\", \"orientation\": \"v\", \"showlegend\": true, \"textposition\": \"auto\", \"type\": \"bar\", \"x\": [\"Martinique\"], \"xaxis\": \"x\", \"y\": [276], \"yaxis\": \"y\"}, {\"alignmentgroup\": \"True\", \"customdata\": [[\"Faeroe Islands\", \"Europe\"]], \"hovertemplate\": \"Country/Region=%{customdata[0]}<br>TotalCases=%{y}<br>Continent=%{customdata[1]}<extra></extra>\", \"legendgroup\": \"Faeroe Islands\", \"marker\": {\"color\": \"#00cc96\"}, \"name\": \"Faeroe Islands\", \"offsetgroup\": \"Faeroe Islands\", \"orientation\": \"v\", \"showlegend\": true, \"textposition\": \"auto\", \"type\": \"bar\", \"x\": [\"Faeroe Islands\"], \"xaxis\": \"x\", \"y\": [266], \"yaxis\": \"y\"}, {\"alignmentgroup\": \"True\", \"customdata\": [[\"Aruba\", \"North America\"]], \"hovertemplate\": \"Country/Region=%{customdata[0]}<br>TotalCases=%{y}<br>Continent=%{customdata[1]}<extra></extra>\", \"legendgroup\": \"Aruba\", \"marker\": {\"color\": \"#ab63fa\"}, \"name\": \"Aruba\", \"offsetgroup\": \"Aruba\", \"orientation\": \"v\", \"showlegend\": true, \"textposition\": \"auto\", \"type\": \"bar\", \"x\": [\"Aruba\"], \"xaxis\": \"x\", \"y\": [263], \"yaxis\": \"y\"}, {\"alignmentgroup\": \"True\", \"customdata\": [[\"Cambodia\", \"Asia\"]], \"hovertemplate\": \"Country/Region=%{customdata[0]}<br>TotalCases=%{y}<br>Continent=%{customdata[1]}<extra></extra>\", \"legendgroup\": \"Cambodia\", \"marker\": {\"color\": \"#FFA15A\"}, \"name\": \"Cambodia\", \"offsetgroup\": \"Cambodia\", \"orientation\": \"v\", \"showlegend\": true, \"textposition\": \"auto\", \"type\": \"bar\", \"x\": [\"Cambodia\"], \"xaxis\": \"x\", \"y\": [243], \"yaxis\": \"y\"}, {\"alignmentgroup\": \"True\", \"customdata\": [[\"Trinidad and Tobago\", \"North America\"]], \"hovertemplate\": \"Country/Region=%{customdata[0]}<br>TotalCases=%{y}<br>Continent=%{customdata[1]}<extra></extra>\", \"legendgroup\": \"Trinidad and Tobago\", \"marker\": {\"color\": \"#19d3f3\"}, \"name\": \"Trinidad and Tobago\", \"offsetgroup\": \"Trinidad and Tobago\", \"orientation\": \"v\", \"showlegend\": true, \"textposition\": \"auto\", \"type\": \"bar\", \"x\": [\"Trinidad and Tobago\"], \"xaxis\": \"x\", \"y\": [210], \"yaxis\": \"y\"}, {\"alignmentgroup\": \"True\", \"customdata\": [[\"Cayman Islands\", \"North America\"]], \"hovertemplate\": \"Country/Region=%{customdata[0]}<br>TotalCases=%{y}<br>Continent=%{customdata[1]}<extra></extra>\", \"legendgroup\": \"Cayman Islands\", \"marker\": {\"color\": \"#FF6692\"}, \"name\": \"Cayman Islands\", \"offsetgroup\": \"Cayman Islands\", \"orientation\": \"v\", \"showlegend\": true, \"textposition\": \"auto\", \"type\": \"bar\", \"x\": [\"Cayman Islands\"], \"xaxis\": \"x\", \"y\": [203], \"yaxis\": \"y\"}, {\"alignmentgroup\": \"True\", \"customdata\": [[\"Gibraltar\", \"Europe\"]], \"hovertemplate\": \"Country/Region=%{customdata[0]}<br>TotalCases=%{y}<br>Continent=%{customdata[1]}<extra></extra>\", \"legendgroup\": \"Gibraltar\", \"marker\": {\"color\": \"#B6E880\"}, \"name\": \"Gibraltar\", \"offsetgroup\": \"Gibraltar\", \"orientation\": \"v\", \"showlegend\": true, \"textposition\": \"auto\", \"type\": \"bar\", \"x\": [\"Gibraltar\"], \"xaxis\": \"x\", \"y\": [190], \"yaxis\": \"y\"}, {\"alignmentgroup\": \"True\", \"customdata\": [[\"Papua New Guinea\", \"Australia/Oceania\"]], \"hovertemplate\": \"Country/Region=%{customdata[0]}<br>TotalCases=%{y}<br>Continent=%{customdata[1]}<extra></extra>\", \"legendgroup\": \"Papua New Guinea\", \"marker\": {\"color\": \"#FF97FF\"}, \"name\": \"Papua New Guinea\", \"offsetgroup\": \"Papua New Guinea\", \"orientation\": \"v\", \"showlegend\": true, \"textposition\": \"auto\", \"type\": \"bar\", \"x\": [\"Papua New Guinea\"], \"xaxis\": \"x\", \"y\": [163], \"yaxis\": \"y\"}, {\"alignmentgroup\": \"True\", \"customdata\": [[\"Sint Maarten\", \"North America\"]], \"hovertemplate\": \"Country/Region=%{customdata[0]}<br>TotalCases=%{y}<br>Continent=%{customdata[1]}<extra></extra>\", \"legendgroup\": \"Sint Maarten\", \"marker\": {\"color\": \"#FECB52\"}, \"name\": \"Sint Maarten\", \"offsetgroup\": \"Sint Maarten\", \"orientation\": \"v\", \"showlegend\": true, \"textposition\": \"auto\", \"type\": \"bar\", \"x\": [\"Sint Maarten\"], \"xaxis\": \"x\", \"y\": [160], \"yaxis\": \"y\"}, {\"alignmentgroup\": \"True\", \"customdata\": [[\"Bermuda\", \"North America\"]], \"hovertemplate\": \"Country/Region=%{customdata[0]}<br>TotalCases=%{y}<br>Continent=%{customdata[1]}<extra></extra>\", \"legendgroup\": \"Bermuda\", \"marker\": {\"color\": \"#636efa\"}, \"name\": \"Bermuda\", \"offsetgroup\": \"Bermuda\", \"orientation\": \"v\", \"showlegend\": true, \"textposition\": \"auto\", \"type\": \"bar\", \"x\": [\"Bermuda\"], \"xaxis\": \"x\", \"y\": [157], \"yaxis\": \"y\"}, {\"alignmentgroup\": \"True\", \"customdata\": [[\"Brunei \", \"Asia\"]], \"hovertemplate\": \"Country/Region=%{customdata[0]}<br>TotalCases=%{y}<br>Continent=%{customdata[1]}<extra></extra>\", \"legendgroup\": \"Brunei \", \"marker\": {\"color\": \"#EF553B\"}, \"name\": \"Brunei \", \"offsetgroup\": \"Brunei \", \"orientation\": \"v\", \"showlegend\": true, \"textposition\": \"auto\", \"type\": \"bar\", \"x\": [\"Brunei \"], \"xaxis\": \"x\", \"y\": [141], \"yaxis\": \"y\"}, {\"alignmentgroup\": \"True\", \"customdata\": [[\"Barbados\", \"North America\"]], \"hovertemplate\": \"Country/Region=%{customdata[0]}<br>TotalCases=%{y}<br>Continent=%{customdata[1]}<extra></extra>\", \"legendgroup\": \"Barbados\", \"marker\": {\"color\": \"#00cc96\"}, \"name\": \"Barbados\", \"offsetgroup\": \"Barbados\", \"orientation\": \"v\", \"showlegend\": true, \"textposition\": \"auto\", \"type\": \"bar\", \"x\": [\"Barbados\"], \"xaxis\": \"x\", \"y\": [133], \"yaxis\": \"y\"}, {\"alignmentgroup\": \"True\", \"customdata\": [[\"Turks and Caicos\", \"North America\"]], \"hovertemplate\": \"Country/Region=%{customdata[0]}<br>TotalCases=%{y}<br>Continent=%{customdata[1]}<extra></extra>\", \"legendgroup\": \"Turks and Caicos\", \"marker\": {\"color\": \"#ab63fa\"}, \"name\": \"Turks and Caicos\", \"offsetgroup\": \"Turks and Caicos\", \"orientation\": \"v\", \"showlegend\": true, \"textposition\": \"auto\", \"type\": \"bar\", \"x\": [\"Turks and Caicos\"], \"xaxis\": \"x\", \"y\": [129], \"yaxis\": \"y\"}, {\"alignmentgroup\": \"True\", \"customdata\": [[\"Seychelles\", \"Africa\"]], \"hovertemplate\": \"Country/Region=%{customdata[0]}<br>TotalCases=%{y}<br>Continent=%{customdata[1]}<extra></extra>\", \"legendgroup\": \"Seychelles\", \"marker\": {\"color\": \"#FFA15A\"}, \"name\": \"Seychelles\", \"offsetgroup\": \"Seychelles\", \"orientation\": \"v\", \"showlegend\": true, \"textposition\": \"auto\", \"type\": \"bar\", \"x\": [\"Seychelles\"], \"xaxis\": \"x\", \"y\": [126], \"yaxis\": \"y\"}, {\"alignmentgroup\": \"True\", \"customdata\": [[\"Monaco\", \"Europe\"]], \"hovertemplate\": \"Country/Region=%{customdata[0]}<br>TotalCases=%{y}<br>Continent=%{customdata[1]}<extra></extra>\", \"legendgroup\": \"Monaco\", \"marker\": {\"color\": \"#19d3f3\"}, \"name\": \"Monaco\", \"offsetgroup\": \"Monaco\", \"orientation\": \"v\", \"showlegend\": true, \"textposition\": \"auto\", \"type\": \"bar\", \"x\": [\"Monaco\"], \"xaxis\": \"x\", \"y\": [125], \"yaxis\": \"y\"}, {\"alignmentgroup\": \"True\", \"customdata\": [[\"Bhutan\", \"Asia\"]], \"hovertemplate\": \"Country/Region=%{customdata[0]}<br>TotalCases=%{y}<br>Continent=%{customdata[1]}<extra></extra>\", \"legendgroup\": \"Bhutan\", \"marker\": {\"color\": \"#FF6692\"}, \"name\": \"Bhutan\", \"offsetgroup\": \"Bhutan\", \"orientation\": \"v\", \"showlegend\": true, \"textposition\": \"auto\", \"type\": \"bar\", \"x\": [\"Bhutan\"], \"xaxis\": \"x\", \"y\": [105], \"yaxis\": \"y\"}, {\"alignmentgroup\": \"True\", \"customdata\": [[\"Antigua and Barbuda\", \"North America\"]], \"hovertemplate\": \"Country/Region=%{customdata[0]}<br>TotalCases=%{y}<br>Continent=%{customdata[1]}<extra></extra>\", \"legendgroup\": \"Antigua and Barbuda\", \"marker\": {\"color\": \"#B6E880\"}, \"name\": \"Antigua and Barbuda\", \"offsetgroup\": \"Antigua and Barbuda\", \"orientation\": \"v\", \"showlegend\": true, \"textposition\": \"auto\", \"type\": \"bar\", \"x\": [\"Antigua and Barbuda\"], \"xaxis\": \"x\", \"y\": [92], \"yaxis\": \"y\"}, {\"alignmentgroup\": \"True\", \"customdata\": [[\"Liechtenstein\", \"Europe\"]], \"hovertemplate\": \"Country/Region=%{customdata[0]}<br>TotalCases=%{y}<br>Continent=%{customdata[1]}<extra></extra>\", \"legendgroup\": \"Liechtenstein\", \"marker\": {\"color\": \"#FF97FF\"}, \"name\": \"Liechtenstein\", \"offsetgroup\": \"Liechtenstein\", \"orientation\": \"v\", \"showlegend\": true, \"textposition\": \"auto\", \"type\": \"bar\", \"x\": [\"Liechtenstein\"], \"xaxis\": \"x\", \"y\": [89], \"yaxis\": \"y\"}, {\"alignmentgroup\": \"True\", \"customdata\": [[\"Belize\", \"North America\"]], \"hovertemplate\": \"Country/Region=%{customdata[0]}<br>TotalCases=%{y}<br>Continent=%{customdata[1]}<extra></extra>\", \"legendgroup\": \"Belize\", \"marker\": {\"color\": \"#FECB52\"}, \"name\": \"Belize\", \"offsetgroup\": \"Belize\", \"orientation\": \"v\", \"showlegend\": true, \"textposition\": \"auto\", \"type\": \"bar\", \"x\": [\"Belize\"], \"xaxis\": \"x\", \"y\": [86], \"yaxis\": \"y\"}, {\"alignmentgroup\": \"True\", \"customdata\": [[\"French Polynesia\", \"Australia/Oceania\"]], \"hovertemplate\": \"Country/Region=%{customdata[0]}<br>TotalCases=%{y}<br>Continent=%{customdata[1]}<extra></extra>\", \"legendgroup\": \"French Polynesia\", \"marker\": {\"color\": \"#636efa\"}, \"name\": \"French Polynesia\", \"offsetgroup\": \"French Polynesia\", \"orientation\": \"v\", \"showlegend\": true, \"textposition\": \"auto\", \"type\": \"bar\", \"x\": [\"French Polynesia\"], \"xaxis\": \"x\", \"y\": [64], \"yaxis\": \"y\"}, {\"alignmentgroup\": \"True\", \"customdata\": [[\"St. Vincent Grenadines\", \"North America\"]], \"hovertemplate\": \"Country/Region=%{customdata[0]}<br>TotalCases=%{y}<br>Continent=%{customdata[1]}<extra></extra>\", \"legendgroup\": \"St. Vincent Grenadines\", \"marker\": {\"color\": \"#EF553B\"}, \"name\": \"St. Vincent Grenadines\", \"offsetgroup\": \"St. Vincent Grenadines\", \"orientation\": \"v\", \"showlegend\": true, \"textposition\": \"auto\", \"type\": \"bar\", \"x\": [\"St. Vincent Grenadines\"], \"xaxis\": \"x\", \"y\": [56], \"yaxis\": \"y\"}, {\"alignmentgroup\": \"True\", \"customdata\": [[\"Saint Martin\", \"North America\"]], \"hovertemplate\": \"Country/Region=%{customdata[0]}<br>TotalCases=%{y}<br>Continent=%{customdata[1]}<extra></extra>\", \"legendgroup\": \"Saint Martin\", \"marker\": {\"color\": \"#00cc96\"}, \"name\": \"Saint Martin\", \"offsetgroup\": \"Saint Martin\", \"orientation\": \"v\", \"showlegend\": true, \"textposition\": \"auto\", \"type\": \"bar\", \"x\": [\"Saint Martin\"], \"xaxis\": \"x\", \"y\": [53], \"yaxis\": \"y\"}, {\"alignmentgroup\": \"True\", \"customdata\": [[\"Macao\", \"Asia\"]], \"hovertemplate\": \"Country/Region=%{customdata[0]}<br>TotalCases=%{y}<br>Continent=%{customdata[1]}<extra></extra>\", \"legendgroup\": \"Macao\", \"marker\": {\"color\": \"#ab63fa\"}, \"name\": \"Macao\", \"offsetgroup\": \"Macao\", \"orientation\": \"v\", \"showlegend\": true, \"textposition\": \"auto\", \"type\": \"bar\", \"x\": [\"Macao\"], \"xaxis\": \"x\", \"y\": [46], \"yaxis\": \"y\"}, {\"alignmentgroup\": \"True\", \"customdata\": [[\"Cura\\u00e7ao\", \"North America\"]], \"hovertemplate\": \"Country/Region=%{customdata[0]}<br>TotalCases=%{y}<br>Continent=%{customdata[1]}<extra></extra>\", \"legendgroup\": \"Cura\\u00e7ao\", \"marker\": {\"color\": \"#FFA15A\"}, \"name\": \"Cura\\u00e7ao\", \"offsetgroup\": \"Cura\\u00e7ao\", \"orientation\": \"v\", \"showlegend\": true, \"textposition\": \"auto\", \"type\": \"bar\", \"x\": [\"Cura\\u00e7ao\"], \"xaxis\": \"x\", \"y\": [31], \"yaxis\": \"y\"}, {\"alignmentgroup\": \"True\", \"customdata\": [[\"Fiji\", \"Australia/Oceania\"]], \"hovertemplate\": \"Country/Region=%{customdata[0]}<br>TotalCases=%{y}<br>Continent=%{customdata[1]}<extra></extra>\", \"legendgroup\": \"Fiji\", \"marker\": {\"color\": \"#19d3f3\"}, \"name\": \"Fiji\", \"offsetgroup\": \"Fiji\", \"orientation\": \"v\", \"showlegend\": true, \"textposition\": \"auto\", \"type\": \"bar\", \"x\": [\"Fiji\"], \"xaxis\": \"x\", \"y\": [27], \"yaxis\": \"y\"}, {\"alignmentgroup\": \"True\", \"customdata\": [[\"Saint Lucia\", \"North America\"]], \"hovertemplate\": \"Country/Region=%{customdata[0]}<br>TotalCases=%{y}<br>Continent=%{customdata[1]}<extra></extra>\", \"legendgroup\": \"Saint Lucia\", \"marker\": {\"color\": \"#FF6692\"}, \"name\": \"Saint Lucia\", \"offsetgroup\": \"Saint Lucia\", \"orientation\": \"v\", \"showlegend\": true, \"textposition\": \"auto\", \"type\": \"bar\", \"x\": [\"Saint Lucia\"], \"xaxis\": \"x\", \"y\": [25], \"yaxis\": \"y\"}, {\"alignmentgroup\": \"True\", \"customdata\": [[\"Timor-Leste\", \"Asia\"]], \"hovertemplate\": \"Country/Region=%{customdata[0]}<br>TotalCases=%{y}<br>Continent=%{customdata[1]}<extra></extra>\", \"legendgroup\": \"Timor-Leste\", \"marker\": {\"color\": \"#B6E880\"}, \"name\": \"Timor-Leste\", \"offsetgroup\": \"Timor-Leste\", \"orientation\": \"v\", \"showlegend\": true, \"textposition\": \"auto\", \"type\": \"bar\", \"x\": [\"Timor-Leste\"], \"xaxis\": \"x\", \"y\": [25], \"yaxis\": \"y\"}, {\"alignmentgroup\": \"True\", \"customdata\": [[\"Grenada\", \"North America\"]], \"hovertemplate\": \"Country/Region=%{customdata[0]}<br>TotalCases=%{y}<br>Continent=%{customdata[1]}<extra></extra>\", \"legendgroup\": \"Grenada\", \"marker\": {\"color\": \"#FF97FF\"}, \"name\": \"Grenada\", \"offsetgroup\": \"Grenada\", \"orientation\": \"v\", \"showlegend\": true, \"textposition\": \"auto\", \"type\": \"bar\", \"x\": [\"Grenada\"], \"xaxis\": \"x\", \"y\": [24], \"yaxis\": \"y\"}, {\"alignmentgroup\": \"True\", \"customdata\": [[\"New Caledonia\", \"Australia/Oceania\"]], \"hovertemplate\": \"Country/Region=%{customdata[0]}<br>TotalCases=%{y}<br>Continent=%{customdata[1]}<extra></extra>\", \"legendgroup\": \"New Caledonia\", \"marker\": {\"color\": \"#FECB52\"}, \"name\": \"New Caledonia\", \"offsetgroup\": \"New Caledonia\", \"orientation\": \"v\", \"showlegend\": true, \"textposition\": \"auto\", \"type\": \"bar\", \"x\": [\"New Caledonia\"], \"xaxis\": \"x\", \"y\": [22], \"yaxis\": \"y\"}, {\"alignmentgroup\": \"True\", \"customdata\": [[\"Laos\", \"Asia\"]], \"hovertemplate\": \"Country/Region=%{customdata[0]}<br>TotalCases=%{y}<br>Continent=%{customdata[1]}<extra></extra>\", \"legendgroup\": \"Laos\", \"marker\": {\"color\": \"#636efa\"}, \"name\": \"Laos\", \"offsetgroup\": \"Laos\", \"orientation\": \"v\", \"showlegend\": true, \"textposition\": \"auto\", \"type\": \"bar\", \"x\": [\"Laos\"], \"xaxis\": \"x\", \"y\": [20], \"yaxis\": \"y\"}, {\"alignmentgroup\": \"True\", \"customdata\": [[\"Dominica\", \"North America\"]], \"hovertemplate\": \"Country/Region=%{customdata[0]}<br>TotalCases=%{y}<br>Continent=%{customdata[1]}<extra></extra>\", \"legendgroup\": \"Dominica\", \"marker\": {\"color\": \"#EF553B\"}, \"name\": \"Dominica\", \"offsetgroup\": \"Dominica\", \"orientation\": \"v\", \"showlegend\": true, \"textposition\": \"auto\", \"type\": \"bar\", \"x\": [\"Dominica\"], \"xaxis\": \"x\", \"y\": [18], \"yaxis\": \"y\"}, {\"alignmentgroup\": \"True\", \"customdata\": [[\"Saint Kitts and Nevis\", \"North America\"]], \"hovertemplate\": \"Country/Region=%{customdata[0]}<br>TotalCases=%{y}<br>Continent=%{customdata[1]}<extra></extra>\", \"legendgroup\": \"Saint Kitts and Nevis\", \"marker\": {\"color\": \"#00cc96\"}, \"name\": \"Saint Kitts and Nevis\", \"offsetgroup\": \"Saint Kitts and Nevis\", \"orientation\": \"v\", \"showlegend\": true, \"textposition\": \"auto\", \"type\": \"bar\", \"x\": [\"Saint Kitts and Nevis\"], \"xaxis\": \"x\", \"y\": [17], \"yaxis\": \"y\"}, {\"alignmentgroup\": \"True\", \"customdata\": [[\"Greenland\", \"North America\"]], \"hovertemplate\": \"Country/Region=%{customdata[0]}<br>TotalCases=%{y}<br>Continent=%{customdata[1]}<extra></extra>\", \"legendgroup\": \"Greenland\", \"marker\": {\"color\": \"#ab63fa\"}, \"name\": \"Greenland\", \"offsetgroup\": \"Greenland\", \"orientation\": \"v\", \"showlegend\": true, \"textposition\": \"auto\", \"type\": \"bar\", \"x\": [\"Greenland\"], \"xaxis\": \"x\", \"y\": [14], \"yaxis\": \"y\"}, {\"alignmentgroup\": \"True\", \"customdata\": [[\"Montserrat\", \"North America\"]], \"hovertemplate\": \"Country/Region=%{customdata[0]}<br>TotalCases=%{y}<br>Continent=%{customdata[1]}<extra></extra>\", \"legendgroup\": \"Montserrat\", \"marker\": {\"color\": \"#FFA15A\"}, \"name\": \"Montserrat\", \"offsetgroup\": \"Montserrat\", \"orientation\": \"v\", \"showlegend\": true, \"textposition\": \"auto\", \"type\": \"bar\", \"x\": [\"Montserrat\"], \"xaxis\": \"x\", \"y\": [13], \"yaxis\": \"y\"}, {\"alignmentgroup\": \"True\", \"customdata\": [[\"Caribbean Netherlands\", \"North America\"]], \"hovertemplate\": \"Country/Region=%{customdata[0]}<br>TotalCases=%{y}<br>Continent=%{customdata[1]}<extra></extra>\", \"legendgroup\": \"Caribbean Netherlands\", \"marker\": {\"color\": \"#19d3f3\"}, \"name\": \"Caribbean Netherlands\", \"offsetgroup\": \"Caribbean Netherlands\", \"orientation\": \"v\", \"showlegend\": true, \"textposition\": \"auto\", \"type\": \"bar\", \"x\": [\"Caribbean Netherlands\"], \"xaxis\": \"x\", \"y\": [13], \"yaxis\": \"y\"}, {\"alignmentgroup\": \"True\", \"customdata\": [[\"Falkland Islands\", \"South America\"]], \"hovertemplate\": \"Country/Region=%{customdata[0]}<br>TotalCases=%{y}<br>Continent=%{customdata[1]}<extra></extra>\", \"legendgroup\": \"Falkland Islands\", \"marker\": {\"color\": \"#FF6692\"}, \"name\": \"Falkland Islands\", \"offsetgroup\": \"Falkland Islands\", \"orientation\": \"v\", \"showlegend\": true, \"textposition\": \"auto\", \"type\": \"bar\", \"x\": [\"Falkland Islands\"], \"xaxis\": \"x\", \"y\": [13], \"yaxis\": \"y\"}, {\"alignmentgroup\": \"True\", \"customdata\": [[\"Vatican City\", \"Europe\"]], \"hovertemplate\": \"Country/Region=%{customdata[0]}<br>TotalCases=%{y}<br>Continent=%{customdata[1]}<extra></extra>\", \"legendgroup\": \"Vatican City\", \"marker\": {\"color\": \"#B6E880\"}, \"name\": \"Vatican City\", \"offsetgroup\": \"Vatican City\", \"orientation\": \"v\", \"showlegend\": true, \"textposition\": \"auto\", \"type\": \"bar\", \"x\": [\"Vatican City\"], \"xaxis\": \"x\", \"y\": [12], \"yaxis\": \"y\"}, {\"alignmentgroup\": \"True\", \"customdata\": [[\"Western Sahara\", \"Africa\"]], \"hovertemplate\": \"Country/Region=%{customdata[0]}<br>TotalCases=%{y}<br>Continent=%{customdata[1]}<extra></extra>\", \"legendgroup\": \"Western Sahara\", \"marker\": {\"color\": \"#FF97FF\"}, \"name\": \"Western Sahara\", \"offsetgroup\": \"Western Sahara\", \"orientation\": \"v\", \"showlegend\": true, \"textposition\": \"auto\", \"type\": \"bar\", \"x\": [\"Western Sahara\"], \"xaxis\": \"x\", \"y\": [10], \"yaxis\": \"y\"}],                        {\"barmode\": \"relative\", \"height\": 500, \"legend\": {\"title\": {\"text\": \"Country/Region\"}, \"tracegroupgap\": 0}, \"margin\": {\"t\": 60}, \"template\": {\"data\": {\"bar\": [{\"error_x\": {\"color\": \"#2a3f5f\"}, \"error_y\": {\"color\": \"#2a3f5f\"}, \"marker\": {\"line\": {\"color\": \"#E5ECF6\", \"width\": 0.5}}, \"type\": \"bar\"}], \"barpolar\": [{\"marker\": {\"line\": {\"color\": \"#E5ECF6\", \"width\": 0.5}}, \"type\": \"barpolar\"}], \"carpet\": [{\"aaxis\": {\"endlinecolor\": \"#2a3f5f\", \"gridcolor\": \"white\", \"linecolor\": \"white\", \"minorgridcolor\": \"white\", \"startlinecolor\": \"#2a3f5f\"}, \"baxis\": {\"endlinecolor\": \"#2a3f5f\", \"gridcolor\": \"white\", \"linecolor\": \"white\", \"minorgridcolor\": \"white\", \"startlinecolor\": \"#2a3f5f\"}, \"type\": \"carpet\"}], \"choropleth\": [{\"colorbar\": {\"outlinewidth\": 0, \"ticks\": \"\"}, \"type\": \"choropleth\"}], \"contour\": [{\"colorbar\": {\"outlinewidth\": 0, \"ticks\": \"\"}, \"colorscale\": [[0.0, \"#0d0887\"], [0.1111111111111111, \"#46039f\"], [0.2222222222222222, \"#7201a8\"], [0.3333333333333333, \"#9c179e\"], [0.4444444444444444, \"#bd3786\"], [0.5555555555555556, \"#d8576b\"], [0.6666666666666666, \"#ed7953\"], [0.7777777777777778, \"#fb9f3a\"], [0.8888888888888888, \"#fdca26\"], [1.0, \"#f0f921\"]], \"type\": \"contour\"}], \"contourcarpet\": [{\"colorbar\": {\"outlinewidth\": 0, \"ticks\": \"\"}, \"type\": \"contourcarpet\"}], \"heatmap\": [{\"colorbar\": {\"outlinewidth\": 0, \"ticks\": \"\"}, \"colorscale\": [[0.0, \"#0d0887\"], [0.1111111111111111, \"#46039f\"], [0.2222222222222222, \"#7201a8\"], [0.3333333333333333, \"#9c179e\"], [0.4444444444444444, \"#bd3786\"], [0.5555555555555556, \"#d8576b\"], [0.6666666666666666, \"#ed7953\"], [0.7777777777777778, \"#fb9f3a\"], [0.8888888888888888, \"#fdca26\"], [1.0, \"#f0f921\"]], \"type\": \"heatmap\"}], \"heatmapgl\": [{\"colorbar\": {\"outlinewidth\": 0, \"ticks\": \"\"}, \"colorscale\": [[0.0, \"#0d0887\"], [0.1111111111111111, \"#46039f\"], [0.2222222222222222, \"#7201a8\"], [0.3333333333333333, \"#9c179e\"], [0.4444444444444444, \"#bd3786\"], [0.5555555555555556, \"#d8576b\"], [0.6666666666666666, \"#ed7953\"], [0.7777777777777778, \"#fb9f3a\"], [0.8888888888888888, \"#fdca26\"], [1.0, \"#f0f921\"]], \"type\": \"heatmapgl\"}], \"histogram\": [{\"marker\": {\"colorbar\": {\"outlinewidth\": 0, \"ticks\": \"\"}}, \"type\": \"histogram\"}], \"histogram2d\": [{\"colorbar\": {\"outlinewidth\": 0, \"ticks\": \"\"}, \"colorscale\": [[0.0, \"#0d0887\"], [0.1111111111111111, \"#46039f\"], [0.2222222222222222, \"#7201a8\"], [0.3333333333333333, \"#9c179e\"], [0.4444444444444444, \"#bd3786\"], [0.5555555555555556, \"#d8576b\"], [0.6666666666666666, \"#ed7953\"], [0.7777777777777778, \"#fb9f3a\"], [0.8888888888888888, \"#fdca26\"], [1.0, \"#f0f921\"]], \"type\": \"histogram2d\"}], \"histogram2dcontour\": [{\"colorbar\": {\"outlinewidth\": 0, \"ticks\": \"\"}, \"colorscale\": [[0.0, \"#0d0887\"], [0.1111111111111111, \"#46039f\"], [0.2222222222222222, \"#7201a8\"], [0.3333333333333333, \"#9c179e\"], [0.4444444444444444, \"#bd3786\"], [0.5555555555555556, \"#d8576b\"], [0.6666666666666666, \"#ed7953\"], [0.7777777777777778, \"#fb9f3a\"], [0.8888888888888888, \"#fdca26\"], [1.0, \"#f0f921\"]], \"type\": \"histogram2dcontour\"}], \"mesh3d\": [{\"colorbar\": {\"outlinewidth\": 0, \"ticks\": \"\"}, \"type\": \"mesh3d\"}], \"parcoords\": [{\"line\": {\"colorbar\": {\"outlinewidth\": 0, \"ticks\": \"\"}}, \"type\": \"parcoords\"}], \"pie\": [{\"automargin\": true, \"type\": \"pie\"}], \"scatter\": [{\"marker\": {\"colorbar\": {\"outlinewidth\": 0, \"ticks\": \"\"}}, \"type\": \"scatter\"}], \"scatter3d\": [{\"line\": {\"colorbar\": {\"outlinewidth\": 0, \"ticks\": \"\"}}, \"marker\": {\"colorbar\": {\"outlinewidth\": 0, \"ticks\": \"\"}}, \"type\": \"scatter3d\"}], \"scattercarpet\": [{\"marker\": {\"colorbar\": {\"outlinewidth\": 0, \"ticks\": \"\"}}, \"type\": \"scattercarpet\"}], \"scattergeo\": [{\"marker\": {\"colorbar\": {\"outlinewidth\": 0, \"ticks\": \"\"}}, \"type\": \"scattergeo\"}], \"scattergl\": [{\"marker\": {\"colorbar\": {\"outlinewidth\": 0, \"ticks\": \"\"}}, \"type\": \"scattergl\"}], \"scattermapbox\": [{\"marker\": {\"colorbar\": {\"outlinewidth\": 0, \"ticks\": \"\"}}, \"type\": \"scattermapbox\"}], \"scatterpolar\": [{\"marker\": {\"colorbar\": {\"outlinewidth\": 0, \"ticks\": \"\"}}, \"type\": \"scatterpolar\"}], \"scatterpolargl\": [{\"marker\": {\"colorbar\": {\"outlinewidth\": 0, \"ticks\": \"\"}}, \"type\": \"scatterpolargl\"}], \"scatterternary\": [{\"marker\": {\"colorbar\": {\"outlinewidth\": 0, \"ticks\": \"\"}}, \"type\": \"scatterternary\"}], \"surface\": [{\"colorbar\": {\"outlinewidth\": 0, \"ticks\": \"\"}, \"colorscale\": [[0.0, \"#0d0887\"], [0.1111111111111111, \"#46039f\"], [0.2222222222222222, \"#7201a8\"], [0.3333333333333333, \"#9c179e\"], [0.4444444444444444, \"#bd3786\"], [0.5555555555555556, \"#d8576b\"], [0.6666666666666666, \"#ed7953\"], [0.7777777777777778, \"#fb9f3a\"], [0.8888888888888888, \"#fdca26\"], [1.0, \"#f0f921\"]], \"type\": \"surface\"}], \"table\": [{\"cells\": {\"fill\": {\"color\": \"#EBF0F8\"}, \"line\": {\"color\": \"white\"}}, \"header\": {\"fill\": {\"color\": \"#C8D4E3\"}, \"line\": {\"color\": \"white\"}}, \"type\": \"table\"}]}, \"layout\": {\"annotationdefaults\": {\"arrowcolor\": \"#2a3f5f\", \"arrowhead\": 0, \"arrowwidth\": 1}, \"coloraxis\": {\"colorbar\": {\"outlinewidth\": 0, \"ticks\": \"\"}}, \"colorscale\": {\"diverging\": [[0, \"#8e0152\"], [0.1, \"#c51b7d\"], [0.2, \"#de77ae\"], [0.3, \"#f1b6da\"], [0.4, \"#fde0ef\"], [0.5, \"#f7f7f7\"], [0.6, \"#e6f5d0\"], [0.7, \"#b8e186\"], [0.8, \"#7fbc41\"], [0.9, \"#4d9221\"], [1, \"#276419\"]], \"sequential\": [[0.0, \"#0d0887\"], [0.1111111111111111, \"#46039f\"], [0.2222222222222222, \"#7201a8\"], [0.3333333333333333, \"#9c179e\"], [0.4444444444444444, \"#bd3786\"], [0.5555555555555556, \"#d8576b\"], [0.6666666666666666, \"#ed7953\"], [0.7777777777777778, \"#fb9f3a\"], [0.8888888888888888, \"#fdca26\"], [1.0, \"#f0f921\"]], \"sequentialminus\": [[0.0, \"#0d0887\"], [0.1111111111111111, \"#46039f\"], [0.2222222222222222, \"#7201a8\"], [0.3333333333333333, \"#9c179e\"], [0.4444444444444444, \"#bd3786\"], [0.5555555555555556, \"#d8576b\"], [0.6666666666666666, \"#ed7953\"], [0.7777777777777778, \"#fb9f3a\"], [0.8888888888888888, \"#fdca26\"], [1.0, \"#f0f921\"]]}, \"colorway\": [\"#636efa\", \"#EF553B\", \"#00cc96\", \"#ab63fa\", \"#FFA15A\", \"#19d3f3\", \"#FF6692\", \"#B6E880\", \"#FF97FF\", \"#FECB52\"], \"font\": {\"color\": \"#2a3f5f\"}, \"geo\": {\"bgcolor\": \"white\", \"lakecolor\": \"white\", \"landcolor\": \"#E5ECF6\", \"showlakes\": true, \"showland\": true, \"subunitcolor\": \"white\"}, \"hoverlabel\": {\"align\": \"left\"}, \"hovermode\": \"closest\", \"mapbox\": {\"style\": \"light\"}, \"paper_bgcolor\": \"white\", \"plot_bgcolor\": \"#E5ECF6\", \"polar\": {\"angularaxis\": {\"gridcolor\": \"white\", \"linecolor\": \"white\", \"ticks\": \"\"}, \"bgcolor\": \"#E5ECF6\", \"radialaxis\": {\"gridcolor\": \"white\", \"linecolor\": \"white\", \"ticks\": \"\"}}, \"scene\": {\"xaxis\": {\"backgroundcolor\": \"#E5ECF6\", \"gridcolor\": \"white\", \"gridwidth\": 2, \"linecolor\": \"white\", \"showbackground\": true, \"ticks\": \"\", \"zerolinecolor\": \"white\"}, \"yaxis\": {\"backgroundcolor\": \"#E5ECF6\", \"gridcolor\": \"white\", \"gridwidth\": 2, \"linecolor\": \"white\", \"showbackground\": true, \"ticks\": \"\", \"zerolinecolor\": \"white\"}, \"zaxis\": {\"backgroundcolor\": \"#E5ECF6\", \"gridcolor\": \"white\", \"gridwidth\": 2, \"linecolor\": \"white\", \"showbackground\": true, \"ticks\": \"\", \"zerolinecolor\": \"white\"}}, \"shapedefaults\": {\"line\": {\"color\": \"#2a3f5f\"}}, \"ternary\": {\"aaxis\": {\"gridcolor\": \"white\", \"linecolor\": \"white\", \"ticks\": \"\"}, \"baxis\": {\"gridcolor\": \"white\", \"linecolor\": \"white\", \"ticks\": \"\"}, \"bgcolor\": \"#E5ECF6\", \"caxis\": {\"gridcolor\": \"white\", \"linecolor\": \"white\", \"ticks\": \"\"}}, \"title\": {\"x\": 0.05}, \"xaxis\": {\"automargin\": true, \"gridcolor\": \"white\", \"linecolor\": \"white\", \"ticks\": \"\", \"title\": {\"standoff\": 15}, \"zerolinecolor\": \"white\", \"zerolinewidth\": 2}, \"yaxis\": {\"automargin\": true, \"gridcolor\": \"white\", \"linecolor\": \"white\", \"ticks\": \"\", \"title\": {\"standoff\": 15}, \"zerolinecolor\": \"white\", \"zerolinewidth\": 2}}}, \"xaxis\": {\"anchor\": \"y\", \"categoryarray\": [\"USA\", \"Brazil\", \"India\", \"Russia\", \"South Africa\", \"Mexico\", \"Peru\", \"Chile\", \"Colombia\", \"Spain\", \"Iran\", \"UK\", \"Saudi Arabia\", \"Pakistan\", \"Bangladesh\", \"Italy\", \"Turkey\", \"Argentina\", \"Germany\", \"France\", \"Iraq\", \"Philippines\", \"Indonesia\", \"Canada\", \"Qatar\", \"Kazakhstan\", \"Egypt\", \"Ecuador\", \"Bolivia\", \"Sweden\", \"Oman\", \"Israel\", \"Ukraine\", \"Dominican Republic\", \"Panama\", \"Belgium\", \"Kuwait\", \"Belarus\", \"UAE\", \"Romania\", \"Netherlands\", \"Singapore\", \"Guatemala\", \"Portugal\", \"Poland\", \"Nigeria\", \"Honduras\", \"Bahrain\", \"Japan\", \"Armenia\", \"Ghana\", \"Kyrgyzstan\", \"Afghanistan\", \"Switzerland\", \"Algeria\", \"Azerbaijan\", \"Morocco\", \"Uzbekistan\", \"Serbia\", \"Moldova\", \"Ireland\", \"Kenya\", \"Venezuela\", \"Nepal\", \"Austria\", \"Costa Rica\", \"Ethiopia\", \"Australia\", \"El Salvador\", \"Czechia\", \"Cameroon\", \"Ivory Coast\", \"S. Korea\", \"Denmark\", \"Palestine\", \"Bosnia and Herzegovina\", \"Bulgaria\", \"Madagascar\", \"Sudan\", \"North Macedonia\", \"Senegal\", \"Norway\", \"DRC\", \"Malaysia\", \"French Guiana\", \"Gabon\", \"Tajikistan\", \"Guinea\", \"Haiti\", \"Finland\", \"Zambia\", \"Luxembourg\", \"Mauritania\", \"Paraguay\", \"Albania\", \"Lebanon\", \"Croatia\", \"Djibouti\", \"Greece\", \"Libya\", \"Equatorial Guinea\", \"Maldives\", \"CAR\", \"Hungary\", \"Malawi\", \"Zimbabwe\", \"Nicaragua\", \"Hong Kong\", \"Congo\", \"Montenegro\", \"Thailand\", \"Somalia\", \"Mayotte\", \"Eswatini\", \"Sri Lanka\", \"Cuba\", \"Cabo Verde\", \"Namibia\", \"Mali\", \"Slovakia\", \"South Sudan\", \"Slovenia\", \"Lithuania\", \"Estonia\", \"Mozambique\", \"Rwanda\", \"Suriname\", \"Guinea-Bissau\", \"Benin\", \"Iceland\", \"Sierra Leone\", \"Yemen\", \"Tunisia\", \"New Zealand\", \"Angola\", \"Uruguay\", \"Latvia\", \"Jordan\", \"Liberia\", \"Uganda\", \"Cyprus\", \"Georgia\", \"Burkina Faso\", \"Niger\", \"Togo\", \"Syria\", \"Jamaica\", \"Malta\", \"Andorra\", \"Chad\", \"Gambia\", \"Sao Tome and Principe\", \"Botswana\", \"Bahamas\", \"Vietnam\", \"Lesotho\", \"Diamond Princess\", \"San Marino\", \"R\\u00e9union\", \"Channel Islands\", \"Guyana\", \"Tanzania\", \"Taiwan\", \"Comoros\", \"Burundi\", \"Myanmar\", \"Mauritius\", \"Isle of Man\", \"Mongolia\", \"Eritrea\", \"Guadeloupe\", \"Martinique\", \"Faeroe Islands\", \"Aruba\", \"Cambodia\", \"Trinidad and Tobago\", \"Cayman Islands\", \"Gibraltar\", \"Papua New Guinea\", \"Sint Maarten\", \"Bermuda\", \"Brunei \", \"Barbados\", \"Turks and Caicos\", \"Seychelles\", \"Monaco\", \"Bhutan\", \"Antigua and Barbuda\", \"Liechtenstein\", \"Belize\", \"French Polynesia\", \"St. Vincent Grenadines\", \"Saint Martin\", \"Macao\", \"Cura\\u00e7ao\", \"Fiji\", \"Saint Lucia\", \"Timor-Leste\", \"Grenada\", \"New Caledonia\", \"Laos\", \"Dominica\", \"Saint Kitts and Nevis\", \"Greenland\", \"Montserrat\", \"Caribbean Netherlands\", \"Falkland Islands\", \"Vatican City\", \"Western Sahara\"], \"categoryorder\": \"array\", \"domain\": [0.0, 1.0], \"title\": {\"text\": \"Country/Region\"}}, \"yaxis\": {\"anchor\": \"x\", \"domain\": [0.0, 1.0], \"title\": {\"text\": \"TotalCases\"}}},                        {\"responsive\": true}                    ).then(function(){\n",
       "                            \n",
       "var gd = document.getElementById('7141fb99-3b60-4124-b058-4bb576d5773a');\n",
       "var x = new MutationObserver(function (mutations, observer) {{\n",
       "        var display = window.getComputedStyle(gd).display;\n",
       "        if (!display || display === 'none') {{\n",
       "            console.log([gd, 'removed!']);\n",
       "            Plotly.purge(gd);\n",
       "            observer.disconnect();\n",
       "        }}\n",
       "}});\n",
       "\n",
       "// Listen for the removal of the full notebook cells\n",
       "var notebookContainer = gd.closest('#notebook-container');\n",
       "if (notebookContainer) {{\n",
       "    x.observe(notebookContainer, {childList: true});\n",
       "}}\n",
       "\n",
       "// Listen for the clearing of the current output cell\n",
       "var outputEl = gd.closest('.output');\n",
       "if (outputEl) {{\n",
       "    x.observe(outputEl, {childList: true});\n",
       "}}\n",
       "\n",
       "                        })                };                });            </script>        </div>"
      ]
     },
     "metadata": {},
     "output_type": "display_data"
    }
   ],
   "source": [
    "ex.bar(covid,x='Country/Region',y='TotalCases',color='Country/Region',height=500,hover_data=['Country/Region','Continent'])"
   ]
  },
  {
   "cell_type": "code",
   "execution_count": 109,
   "metadata": {},
   "outputs": [
    {
     "data": {
      "application/vnd.plotly.v1+json": {
       "config": {
        "plotlyServerURL": "https://plot.ly"
       },
       "data": [
        {
         "alignmentgroup": "True",
         "customdata": [
          [
           "USA",
           "North America"
          ],
          [
           "Brazil",
           "South America"
          ],
          [
           "India",
           "Asia"
          ],
          [
           "Russia",
           "Europe"
          ],
          [
           "South Africa",
           "Africa"
          ],
          [
           "Mexico",
           "North America"
          ],
          [
           "Peru",
           "South America"
          ],
          [
           "Chile",
           "South America"
          ],
          [
           "Colombia",
           "South America"
          ],
          [
           "Spain",
           "Europe"
          ],
          [
           "Iran",
           "Asia"
          ],
          [
           "UK",
           "Europe"
          ],
          [
           "Saudi Arabia",
           "Asia"
          ],
          [
           "Pakistan",
           "Asia"
          ],
          [
           "Bangladesh",
           "Asia"
          ],
          [
           "Italy",
           "Europe"
          ],
          [
           "Turkey",
           "Asia"
          ],
          [
           "Argentina",
           "South America"
          ],
          [
           "Germany",
           "Europe"
          ],
          [
           "France",
           "Europe"
          ],
          [
           "Iraq",
           "Asia"
          ],
          [
           "Philippines",
           "Asia"
          ],
          [
           "Indonesia",
           "Asia"
          ],
          [
           "Canada",
           "North America"
          ],
          [
           "Qatar",
           "Asia"
          ],
          [
           "Kazakhstan",
           "Asia"
          ],
          [
           "Egypt",
           "Africa"
          ],
          [
           "Ecuador",
           "South America"
          ],
          [
           "Bolivia",
           "South America"
          ],
          [
           "Sweden",
           "Europe"
          ],
          [
           "Oman",
           "Asia"
          ],
          [
           "Israel",
           "Asia"
          ],
          [
           "Ukraine",
           "Europe"
          ],
          [
           "Dominican Republic",
           "North America"
          ],
          [
           "Panama",
           "North America"
          ],
          [
           "Belgium",
           "Europe"
          ],
          [
           "Kuwait",
           "Asia"
          ],
          [
           "Belarus",
           "Europe"
          ],
          [
           "UAE",
           "Asia"
          ],
          [
           "Romania",
           "Europe"
          ],
          [
           "Netherlands",
           "Europe"
          ],
          [
           "Singapore",
           "Asia"
          ],
          [
           "Guatemala",
           "North America"
          ],
          [
           "Portugal",
           "Europe"
          ],
          [
           "Poland",
           "Europe"
          ],
          [
           "Nigeria",
           "Africa"
          ],
          [
           "Honduras",
           "North America"
          ],
          [
           "Bahrain",
           "Asia"
          ],
          [
           "Japan",
           "Asia"
          ],
          [
           "Armenia",
           "Asia"
          ],
          [
           "Ghana",
           "Africa"
          ],
          [
           "Kyrgyzstan",
           "Asia"
          ],
          [
           "Afghanistan",
           "Asia"
          ],
          [
           "Switzerland",
           "Europe"
          ],
          [
           "Algeria",
           "Africa"
          ],
          [
           "Azerbaijan",
           "Asia"
          ],
          [
           "Morocco",
           "Africa"
          ],
          [
           "Uzbekistan",
           "Asia"
          ],
          [
           "Serbia",
           "Europe"
          ],
          [
           "Moldova",
           "Europe"
          ],
          [
           "Ireland",
           "Europe"
          ],
          [
           "Kenya",
           "Africa"
          ],
          [
           "Venezuela",
           "South America"
          ],
          [
           "Nepal",
           "Asia"
          ],
          [
           "Austria",
           "Europe"
          ],
          [
           "Costa Rica",
           "North America"
          ],
          [
           "Ethiopia",
           "Africa"
          ],
          [
           "Australia",
           "Australia/Oceania"
          ],
          [
           "El Salvador",
           "North America"
          ],
          [
           "Czechia",
           "Europe"
          ],
          [
           "Cameroon",
           "Africa"
          ],
          [
           "Ivory Coast",
           "Africa"
          ],
          [
           "S. Korea",
           "Asia"
          ],
          [
           "Denmark",
           "Europe"
          ],
          [
           "Palestine",
           "Asia"
          ],
          [
           "Bosnia and Herzegovina",
           "Europe"
          ],
          [
           "Bulgaria",
           "Europe"
          ],
          [
           "Madagascar",
           "Africa"
          ],
          [
           "Sudan",
           "Africa"
          ],
          [
           "North Macedonia",
           "Europe"
          ],
          [
           "Senegal",
           "Africa"
          ],
          [
           "Norway",
           "Europe"
          ],
          [
           "DRC",
           "Africa"
          ],
          [
           "Malaysia",
           "Asia"
          ],
          [
           "French Guiana",
           "South America"
          ],
          [
           "Gabon",
           "Africa"
          ],
          [
           "Tajikistan",
           "Asia"
          ],
          [
           "Guinea",
           "Africa"
          ],
          [
           "Haiti",
           "North America"
          ],
          [
           "Finland",
           "Europe"
          ],
          [
           "Zambia",
           "Africa"
          ],
          [
           "Luxembourg",
           "Europe"
          ],
          [
           "Mauritania",
           "Africa"
          ],
          [
           "Paraguay",
           "South America"
          ],
          [
           "Albania",
           "Europe"
          ],
          [
           "Lebanon",
           "Asia"
          ],
          [
           "Croatia",
           "Europe"
          ],
          [
           "Djibouti",
           "Africa"
          ],
          [
           "Greece",
           "Europe"
          ],
          [
           "Libya",
           "Africa"
          ],
          [
           "Equatorial Guinea",
           "Africa"
          ],
          [
           "Maldives",
           "Asia"
          ],
          [
           "CAR",
           "Africa"
          ],
          [
           "Hungary",
           "Europe"
          ],
          [
           "Malawi",
           "Africa"
          ],
          [
           "Zimbabwe",
           "Africa"
          ],
          [
           "Nicaragua",
           "North America"
          ],
          [
           "Hong Kong",
           "Asia"
          ],
          [
           "Congo",
           "Africa"
          ],
          [
           "Montenegro",
           "Europe"
          ],
          [
           "Thailand",
           "Asia"
          ],
          [
           "Somalia",
           "Africa"
          ],
          [
           "Mayotte",
           "Africa"
          ],
          [
           "Eswatini",
           "Africa"
          ],
          [
           "Sri Lanka",
           "Asia"
          ],
          [
           "Cuba",
           "North America"
          ],
          [
           "Cabo Verde",
           "Africa"
          ],
          [
           "Namibia",
           "Africa"
          ],
          [
           "Mali",
           "Africa"
          ],
          [
           "Slovakia",
           "Europe"
          ],
          [
           "South Sudan",
           "Africa"
          ],
          [
           "Slovenia",
           "Europe"
          ],
          [
           "Lithuania",
           "Europe"
          ],
          [
           "Estonia",
           "Europe"
          ],
          [
           "Mozambique",
           "Africa"
          ],
          [
           "Rwanda",
           "Africa"
          ],
          [
           "Suriname",
           "South America"
          ],
          [
           "Guinea-Bissau",
           "Africa"
          ],
          [
           "Benin",
           "Africa"
          ],
          [
           "Iceland",
           "Europe"
          ],
          [
           "Sierra Leone",
           "Africa"
          ],
          [
           "Yemen",
           "Asia"
          ],
          [
           "Tunisia",
           "Africa"
          ],
          [
           "New Zealand",
           "Australia/Oceania"
          ],
          [
           "Angola",
           "Africa"
          ],
          [
           "Uruguay",
           "South America"
          ],
          [
           "Latvia",
           "Europe"
          ],
          [
           "Jordan",
           "Asia"
          ],
          [
           "Liberia",
           "Africa"
          ],
          [
           "Uganda",
           "Africa"
          ],
          [
           "Cyprus",
           "Asia"
          ],
          [
           "Georgia",
           "Asia"
          ],
          [
           "Burkina Faso",
           "Africa"
          ],
          [
           "Niger",
           "Africa"
          ],
          [
           "Togo",
           "Africa"
          ],
          [
           "Syria",
           "Asia"
          ],
          [
           "Jamaica",
           "North America"
          ],
          [
           "Malta",
           "Europe"
          ],
          [
           "Andorra",
           "Europe"
          ],
          [
           "Chad",
           "Africa"
          ],
          [
           "Gambia",
           "Africa"
          ],
          [
           "Sao Tome and Principe",
           "Africa"
          ],
          [
           "Botswana",
           "Africa"
          ],
          [
           "Bahamas",
           "North America"
          ],
          [
           "Vietnam",
           "Asia"
          ],
          [
           "Lesotho",
           "Africa"
          ],
          [
           "Diamond Princess",
           null
          ],
          [
           "San Marino",
           "Europe"
          ],
          [
           "Réunion",
           "Africa"
          ],
          [
           "Channel Islands",
           "Europe"
          ],
          [
           "Guyana",
           "South America"
          ],
          [
           "Tanzania",
           "Africa"
          ],
          [
           "Taiwan",
           "Asia"
          ],
          [
           "Comoros",
           "Africa"
          ],
          [
           "Burundi",
           "Africa"
          ],
          [
           "Myanmar",
           "Asia"
          ],
          [
           "Mauritius",
           "Africa"
          ],
          [
           "Isle of Man",
           "Europe"
          ],
          [
           "Mongolia",
           "Asia"
          ],
          [
           "Eritrea",
           "Africa"
          ],
          [
           "Guadeloupe",
           "North America"
          ],
          [
           "Martinique",
           "North America"
          ],
          [
           "Faeroe Islands",
           "Europe"
          ],
          [
           "Aruba",
           "North America"
          ],
          [
           "Cambodia",
           "Asia"
          ],
          [
           "Trinidad and Tobago",
           "North America"
          ],
          [
           "Cayman Islands",
           "North America"
          ],
          [
           "Gibraltar",
           "Europe"
          ],
          [
           "Papua New Guinea",
           "Australia/Oceania"
          ],
          [
           "Sint Maarten",
           "North America"
          ],
          [
           "Bermuda",
           "North America"
          ],
          [
           "Brunei ",
           "Asia"
          ],
          [
           "Barbados",
           "North America"
          ],
          [
           "Turks and Caicos",
           "North America"
          ],
          [
           "Seychelles",
           "Africa"
          ],
          [
           "Monaco",
           "Europe"
          ],
          [
           "Bhutan",
           "Asia"
          ],
          [
           "Antigua and Barbuda",
           "North America"
          ],
          [
           "Liechtenstein",
           "Europe"
          ],
          [
           "Belize",
           "North America"
          ],
          [
           "French Polynesia",
           "Australia/Oceania"
          ],
          [
           "St. Vincent Grenadines",
           "North America"
          ],
          [
           "Saint Martin",
           "North America"
          ],
          [
           "Macao",
           "Asia"
          ],
          [
           "Curaçao",
           "North America"
          ],
          [
           "Fiji",
           "Australia/Oceania"
          ],
          [
           "Saint Lucia",
           "North America"
          ],
          [
           "Timor-Leste",
           "Asia"
          ],
          [
           "Grenada",
           "North America"
          ],
          [
           "New Caledonia",
           "Australia/Oceania"
          ],
          [
           "Laos",
           "Asia"
          ],
          [
           "Dominica",
           "North America"
          ],
          [
           "Saint Kitts and Nevis",
           "North America"
          ],
          [
           "Greenland",
           "North America"
          ],
          [
           "Montserrat",
           "North America"
          ],
          [
           "Caribbean Netherlands",
           "North America"
          ],
          [
           "Falkland Islands",
           "South America"
          ],
          [
           "Vatican City",
           "Europe"
          ],
          [
           "Western Sahara",
           "Africa"
          ]
         ],
         "hovertemplate": "TotalTests=%{marker.color}<br>Continent=%{customdata[1]}<br>Country/Region=%{customdata[0]}<extra></extra>",
         "legendgroup": "",
         "marker": {
          "color": [
           63139605,
           13206188,
           22149351,
           29716907,
           3149807,
           1056915,
           2493429,
           1760615,
           1801835,
           7064329,
           2612763,
           17515234,
           3635705,
           2058872,
           1225124,
           7099713,
           5081802,
           794544,
           8586648,
           3992206,
           1092741,
           1669996,
           1633156,
           4319172,
           511000,
           2163713,
           135000,
           258582,
           183583,
           863315,
           309212,
           1872453,
           1116641,
           281926,
           240995,
           1767120,
           522200,
           1344303,
           5262658,
           1319369,
           1079860,
           1474372,
           172712,
           1705474,
           2374686,
           306894,
           109292,
           876700,
           938739,
           171600,
           405817,
           267718,
           90396,
           822764,
           null,
           766179,
           1383816,
           1377915,
           723137,
           128076,
           652917,
           335318,
           1567431,
           731977,
           937275,
           96110,
           468814,
           4631419,
           251271,
           728670,
           149000,
           104584,
           1613652,
           1654512,
           200280,
           147021,
           294087,
           46301,
           401,
           109946,
           114761,
           472841,
           null,
           991333,
           41412,
           85369,
           null,
           14407,
           18443,
           389500,
           90307,
           623994,
           57387,
           135277,
           38997,
           345268,
           125317,
           59909,
           619393,
           59699,
           44356,
           85587,
           29589,
           352546,
           33466,
           140421,
           null,
           692430,
           null,
           38427,
           749213,
           null,
           13000,
           20784,
           166737,
           285471,
           61633,
           29233,
           25152,
           272322,
           12044,
           135702,
           540784,
           122880,
           65151,
           286251,
           2785,
           1500,
           93677,
           149693,
           null,
           120,
           100298,
           486943,
           64747,
           126956,
           207909,
           628745,
           null,
           288367,
           216597,
           240473,
           null,
           9052,
           45767,
           null,
           41840,
           136713,
           3750,
           null,
           5183,
           3079,
           68423,
           4814,
           482456,
           8771,
           null,
           6068,
           35419,
           30721,
           5165,
           null,
           82737,
           null,
           15614,
           122290,
           205285,
           8627,
           38334,
           null,
           18476,
           12227,
           43045,
           14047,
           67807,
           9559,
           31108,
           23063,
           10808,
           1115,
           26352,
           41148,
           12233,
           1252,
           null,
           38209,
           54589,
           1500,
           900,
           3679,
           5849,
           2447,
           1183,
           4071,
           1080,
           6693,
           3895,
           4238,
           6252,
           11099,
           29374,
           1005,
           1146,
           5977,
           61,
           424,
           1816,
           null,
           null
          ],
          "coloraxis": "coloraxis"
         },
         "name": "",
         "offsetgroup": "",
         "orientation": "h",
         "showlegend": false,
         "textposition": "auto",
         "type": "bar",
         "x": [
          63139605,
          13206188,
          22149351,
          29716907,
          3149807,
          1056915,
          2493429,
          1760615,
          1801835,
          7064329,
          2612763,
          17515234,
          3635705,
          2058872,
          1225124,
          7099713,
          5081802,
          794544,
          8586648,
          3992206,
          1092741,
          1669996,
          1633156,
          4319172,
          511000,
          2163713,
          135000,
          258582,
          183583,
          863315,
          309212,
          1872453,
          1116641,
          281926,
          240995,
          1767120,
          522200,
          1344303,
          5262658,
          1319369,
          1079860,
          1474372,
          172712,
          1705474,
          2374686,
          306894,
          109292,
          876700,
          938739,
          171600,
          405817,
          267718,
          90396,
          822764,
          null,
          766179,
          1383816,
          1377915,
          723137,
          128076,
          652917,
          335318,
          1567431,
          731977,
          937275,
          96110,
          468814,
          4631419,
          251271,
          728670,
          149000,
          104584,
          1613652,
          1654512,
          200280,
          147021,
          294087,
          46301,
          401,
          109946,
          114761,
          472841,
          null,
          991333,
          41412,
          85369,
          null,
          14407,
          18443,
          389500,
          90307,
          623994,
          57387,
          135277,
          38997,
          345268,
          125317,
          59909,
          619393,
          59699,
          44356,
          85587,
          29589,
          352546,
          33466,
          140421,
          null,
          692430,
          null,
          38427,
          749213,
          null,
          13000,
          20784,
          166737,
          285471,
          61633,
          29233,
          25152,
          272322,
          12044,
          135702,
          540784,
          122880,
          65151,
          286251,
          2785,
          1500,
          93677,
          149693,
          null,
          120,
          100298,
          486943,
          64747,
          126956,
          207909,
          628745,
          null,
          288367,
          216597,
          240473,
          null,
          9052,
          45767,
          null,
          41840,
          136713,
          3750,
          null,
          5183,
          3079,
          68423,
          4814,
          482456,
          8771,
          null,
          6068,
          35419,
          30721,
          5165,
          null,
          82737,
          null,
          15614,
          122290,
          205285,
          8627,
          38334,
          null,
          18476,
          12227,
          43045,
          14047,
          67807,
          9559,
          31108,
          23063,
          10808,
          1115,
          26352,
          41148,
          12233,
          1252,
          null,
          38209,
          54589,
          1500,
          900,
          3679,
          5849,
          2447,
          1183,
          4071,
          1080,
          6693,
          3895,
          4238,
          6252,
          11099,
          29374,
          1005,
          1146,
          5977,
          61,
          424,
          1816,
          null,
          null
         ],
         "xaxis": "x",
         "y": [
          "North America",
          "South America",
          "Asia",
          "Europe",
          "Africa",
          "North America",
          "South America",
          "South America",
          "South America",
          "Europe",
          "Asia",
          "Europe",
          "Asia",
          "Asia",
          "Asia",
          "Europe",
          "Asia",
          "South America",
          "Europe",
          "Europe",
          "Asia",
          "Asia",
          "Asia",
          "North America",
          "Asia",
          "Asia",
          "Africa",
          "South America",
          "South America",
          "Europe",
          "Asia",
          "Asia",
          "Europe",
          "North America",
          "North America",
          "Europe",
          "Asia",
          "Europe",
          "Asia",
          "Europe",
          "Europe",
          "Asia",
          "North America",
          "Europe",
          "Europe",
          "Africa",
          "North America",
          "Asia",
          "Asia",
          "Asia",
          "Africa",
          "Asia",
          "Asia",
          "Europe",
          "Africa",
          "Asia",
          "Africa",
          "Asia",
          "Europe",
          "Europe",
          "Europe",
          "Africa",
          "South America",
          "Asia",
          "Europe",
          "North America",
          "Africa",
          "Australia/Oceania",
          "North America",
          "Europe",
          "Africa",
          "Africa",
          "Asia",
          "Europe",
          "Asia",
          "Europe",
          "Europe",
          "Africa",
          "Africa",
          "Europe",
          "Africa",
          "Europe",
          "Africa",
          "Asia",
          "South America",
          "Africa",
          "Asia",
          "Africa",
          "North America",
          "Europe",
          "Africa",
          "Europe",
          "Africa",
          "South America",
          "Europe",
          "Asia",
          "Europe",
          "Africa",
          "Europe",
          "Africa",
          "Africa",
          "Asia",
          "Africa",
          "Europe",
          "Africa",
          "Africa",
          "North America",
          "Asia",
          "Africa",
          "Europe",
          "Asia",
          "Africa",
          "Africa",
          "Africa",
          "Asia",
          "North America",
          "Africa",
          "Africa",
          "Africa",
          "Europe",
          "Africa",
          "Europe",
          "Europe",
          "Europe",
          "Africa",
          "Africa",
          "South America",
          "Africa",
          "Africa",
          "Europe",
          "Africa",
          "Asia",
          "Africa",
          "Australia/Oceania",
          "Africa",
          "South America",
          "Europe",
          "Asia",
          "Africa",
          "Africa",
          "Asia",
          "Asia",
          "Africa",
          "Africa",
          "Africa",
          "Asia",
          "North America",
          "Europe",
          "Europe",
          "Africa",
          "Africa",
          "Africa",
          "Africa",
          "North America",
          "Asia",
          "Africa",
          null,
          "Europe",
          "Africa",
          "Europe",
          "South America",
          "Africa",
          "Asia",
          "Africa",
          "Africa",
          "Asia",
          "Africa",
          "Europe",
          "Asia",
          "Africa",
          "North America",
          "North America",
          "Europe",
          "North America",
          "Asia",
          "North America",
          "North America",
          "Europe",
          "Australia/Oceania",
          "North America",
          "North America",
          "Asia",
          "North America",
          "North America",
          "Africa",
          "Europe",
          "Asia",
          "North America",
          "Europe",
          "North America",
          "Australia/Oceania",
          "North America",
          "North America",
          "Asia",
          "North America",
          "Australia/Oceania",
          "North America",
          "Asia",
          "North America",
          "Australia/Oceania",
          "Asia",
          "North America",
          "North America",
          "North America",
          "North America",
          "North America",
          "South America",
          "Europe",
          "Africa"
         ],
         "yaxis": "y"
        }
       ],
       "layout": {
        "barmode": "relative",
        "coloraxis": {
         "colorbar": {
          "title": {
           "text": "TotalTests"
          }
         },
         "colorscale": [
          [
           0,
           "#0d0887"
          ],
          [
           0.1111111111111111,
           "#46039f"
          ],
          [
           0.2222222222222222,
           "#7201a8"
          ],
          [
           0.3333333333333333,
           "#9c179e"
          ],
          [
           0.4444444444444444,
           "#bd3786"
          ],
          [
           0.5555555555555556,
           "#d8576b"
          ],
          [
           0.6666666666666666,
           "#ed7953"
          ],
          [
           0.7777777777777778,
           "#fb9f3a"
          ],
          [
           0.8888888888888888,
           "#fdca26"
          ],
          [
           1,
           "#f0f921"
          ]
         ]
        },
        "height": 400,
        "legend": {
         "tracegroupgap": 0
        },
        "margin": {
         "t": 60
        },
        "template": {
         "data": {
          "bar": [
           {
            "error_x": {
             "color": "#2a3f5f"
            },
            "error_y": {
             "color": "#2a3f5f"
            },
            "marker": {
             "line": {
              "color": "#E5ECF6",
              "width": 0.5
             }
            },
            "type": "bar"
           }
          ],
          "barpolar": [
           {
            "marker": {
             "line": {
              "color": "#E5ECF6",
              "width": 0.5
             }
            },
            "type": "barpolar"
           }
          ],
          "carpet": [
           {
            "aaxis": {
             "endlinecolor": "#2a3f5f",
             "gridcolor": "white",
             "linecolor": "white",
             "minorgridcolor": "white",
             "startlinecolor": "#2a3f5f"
            },
            "baxis": {
             "endlinecolor": "#2a3f5f",
             "gridcolor": "white",
             "linecolor": "white",
             "minorgridcolor": "white",
             "startlinecolor": "#2a3f5f"
            },
            "type": "carpet"
           }
          ],
          "choropleth": [
           {
            "colorbar": {
             "outlinewidth": 0,
             "ticks": ""
            },
            "type": "choropleth"
           }
          ],
          "contour": [
           {
            "colorbar": {
             "outlinewidth": 0,
             "ticks": ""
            },
            "colorscale": [
             [
              0,
              "#0d0887"
             ],
             [
              0.1111111111111111,
              "#46039f"
             ],
             [
              0.2222222222222222,
              "#7201a8"
             ],
             [
              0.3333333333333333,
              "#9c179e"
             ],
             [
              0.4444444444444444,
              "#bd3786"
             ],
             [
              0.5555555555555556,
              "#d8576b"
             ],
             [
              0.6666666666666666,
              "#ed7953"
             ],
             [
              0.7777777777777778,
              "#fb9f3a"
             ],
             [
              0.8888888888888888,
              "#fdca26"
             ],
             [
              1,
              "#f0f921"
             ]
            ],
            "type": "contour"
           }
          ],
          "contourcarpet": [
           {
            "colorbar": {
             "outlinewidth": 0,
             "ticks": ""
            },
            "type": "contourcarpet"
           }
          ],
          "heatmap": [
           {
            "colorbar": {
             "outlinewidth": 0,
             "ticks": ""
            },
            "colorscale": [
             [
              0,
              "#0d0887"
             ],
             [
              0.1111111111111111,
              "#46039f"
             ],
             [
              0.2222222222222222,
              "#7201a8"
             ],
             [
              0.3333333333333333,
              "#9c179e"
             ],
             [
              0.4444444444444444,
              "#bd3786"
             ],
             [
              0.5555555555555556,
              "#d8576b"
             ],
             [
              0.6666666666666666,
              "#ed7953"
             ],
             [
              0.7777777777777778,
              "#fb9f3a"
             ],
             [
              0.8888888888888888,
              "#fdca26"
             ],
             [
              1,
              "#f0f921"
             ]
            ],
            "type": "heatmap"
           }
          ],
          "heatmapgl": [
           {
            "colorbar": {
             "outlinewidth": 0,
             "ticks": ""
            },
            "colorscale": [
             [
              0,
              "#0d0887"
             ],
             [
              0.1111111111111111,
              "#46039f"
             ],
             [
              0.2222222222222222,
              "#7201a8"
             ],
             [
              0.3333333333333333,
              "#9c179e"
             ],
             [
              0.4444444444444444,
              "#bd3786"
             ],
             [
              0.5555555555555556,
              "#d8576b"
             ],
             [
              0.6666666666666666,
              "#ed7953"
             ],
             [
              0.7777777777777778,
              "#fb9f3a"
             ],
             [
              0.8888888888888888,
              "#fdca26"
             ],
             [
              1,
              "#f0f921"
             ]
            ],
            "type": "heatmapgl"
           }
          ],
          "histogram": [
           {
            "marker": {
             "colorbar": {
              "outlinewidth": 0,
              "ticks": ""
             }
            },
            "type": "histogram"
           }
          ],
          "histogram2d": [
           {
            "colorbar": {
             "outlinewidth": 0,
             "ticks": ""
            },
            "colorscale": [
             [
              0,
              "#0d0887"
             ],
             [
              0.1111111111111111,
              "#46039f"
             ],
             [
              0.2222222222222222,
              "#7201a8"
             ],
             [
              0.3333333333333333,
              "#9c179e"
             ],
             [
              0.4444444444444444,
              "#bd3786"
             ],
             [
              0.5555555555555556,
              "#d8576b"
             ],
             [
              0.6666666666666666,
              "#ed7953"
             ],
             [
              0.7777777777777778,
              "#fb9f3a"
             ],
             [
              0.8888888888888888,
              "#fdca26"
             ],
             [
              1,
              "#f0f921"
             ]
            ],
            "type": "histogram2d"
           }
          ],
          "histogram2dcontour": [
           {
            "colorbar": {
             "outlinewidth": 0,
             "ticks": ""
            },
            "colorscale": [
             [
              0,
              "#0d0887"
             ],
             [
              0.1111111111111111,
              "#46039f"
             ],
             [
              0.2222222222222222,
              "#7201a8"
             ],
             [
              0.3333333333333333,
              "#9c179e"
             ],
             [
              0.4444444444444444,
              "#bd3786"
             ],
             [
              0.5555555555555556,
              "#d8576b"
             ],
             [
              0.6666666666666666,
              "#ed7953"
             ],
             [
              0.7777777777777778,
              "#fb9f3a"
             ],
             [
              0.8888888888888888,
              "#fdca26"
             ],
             [
              1,
              "#f0f921"
             ]
            ],
            "type": "histogram2dcontour"
           }
          ],
          "mesh3d": [
           {
            "colorbar": {
             "outlinewidth": 0,
             "ticks": ""
            },
            "type": "mesh3d"
           }
          ],
          "parcoords": [
           {
            "line": {
             "colorbar": {
              "outlinewidth": 0,
              "ticks": ""
             }
            },
            "type": "parcoords"
           }
          ],
          "pie": [
           {
            "automargin": true,
            "type": "pie"
           }
          ],
          "scatter": [
           {
            "marker": {
             "colorbar": {
              "outlinewidth": 0,
              "ticks": ""
             }
            },
            "type": "scatter"
           }
          ],
          "scatter3d": [
           {
            "line": {
             "colorbar": {
              "outlinewidth": 0,
              "ticks": ""
             }
            },
            "marker": {
             "colorbar": {
              "outlinewidth": 0,
              "ticks": ""
             }
            },
            "type": "scatter3d"
           }
          ],
          "scattercarpet": [
           {
            "marker": {
             "colorbar": {
              "outlinewidth": 0,
              "ticks": ""
             }
            },
            "type": "scattercarpet"
           }
          ],
          "scattergeo": [
           {
            "marker": {
             "colorbar": {
              "outlinewidth": 0,
              "ticks": ""
             }
            },
            "type": "scattergeo"
           }
          ],
          "scattergl": [
           {
            "marker": {
             "colorbar": {
              "outlinewidth": 0,
              "ticks": ""
             }
            },
            "type": "scattergl"
           }
          ],
          "scattermapbox": [
           {
            "marker": {
             "colorbar": {
              "outlinewidth": 0,
              "ticks": ""
             }
            },
            "type": "scattermapbox"
           }
          ],
          "scatterpolar": [
           {
            "marker": {
             "colorbar": {
              "outlinewidth": 0,
              "ticks": ""
             }
            },
            "type": "scatterpolar"
           }
          ],
          "scatterpolargl": [
           {
            "marker": {
             "colorbar": {
              "outlinewidth": 0,
              "ticks": ""
             }
            },
            "type": "scatterpolargl"
           }
          ],
          "scatterternary": [
           {
            "marker": {
             "colorbar": {
              "outlinewidth": 0,
              "ticks": ""
             }
            },
            "type": "scatterternary"
           }
          ],
          "surface": [
           {
            "colorbar": {
             "outlinewidth": 0,
             "ticks": ""
            },
            "colorscale": [
             [
              0,
              "#0d0887"
             ],
             [
              0.1111111111111111,
              "#46039f"
             ],
             [
              0.2222222222222222,
              "#7201a8"
             ],
             [
              0.3333333333333333,
              "#9c179e"
             ],
             [
              0.4444444444444444,
              "#bd3786"
             ],
             [
              0.5555555555555556,
              "#d8576b"
             ],
             [
              0.6666666666666666,
              "#ed7953"
             ],
             [
              0.7777777777777778,
              "#fb9f3a"
             ],
             [
              0.8888888888888888,
              "#fdca26"
             ],
             [
              1,
              "#f0f921"
             ]
            ],
            "type": "surface"
           }
          ],
          "table": [
           {
            "cells": {
             "fill": {
              "color": "#EBF0F8"
             },
             "line": {
              "color": "white"
             }
            },
            "header": {
             "fill": {
              "color": "#C8D4E3"
             },
             "line": {
              "color": "white"
             }
            },
            "type": "table"
           }
          ]
         },
         "layout": {
          "annotationdefaults": {
           "arrowcolor": "#2a3f5f",
           "arrowhead": 0,
           "arrowwidth": 1
          },
          "coloraxis": {
           "colorbar": {
            "outlinewidth": 0,
            "ticks": ""
           }
          },
          "colorscale": {
           "diverging": [
            [
             0,
             "#8e0152"
            ],
            [
             0.1,
             "#c51b7d"
            ],
            [
             0.2,
             "#de77ae"
            ],
            [
             0.3,
             "#f1b6da"
            ],
            [
             0.4,
             "#fde0ef"
            ],
            [
             0.5,
             "#f7f7f7"
            ],
            [
             0.6,
             "#e6f5d0"
            ],
            [
             0.7,
             "#b8e186"
            ],
            [
             0.8,
             "#7fbc41"
            ],
            [
             0.9,
             "#4d9221"
            ],
            [
             1,
             "#276419"
            ]
           ],
           "sequential": [
            [
             0,
             "#0d0887"
            ],
            [
             0.1111111111111111,
             "#46039f"
            ],
            [
             0.2222222222222222,
             "#7201a8"
            ],
            [
             0.3333333333333333,
             "#9c179e"
            ],
            [
             0.4444444444444444,
             "#bd3786"
            ],
            [
             0.5555555555555556,
             "#d8576b"
            ],
            [
             0.6666666666666666,
             "#ed7953"
            ],
            [
             0.7777777777777778,
             "#fb9f3a"
            ],
            [
             0.8888888888888888,
             "#fdca26"
            ],
            [
             1,
             "#f0f921"
            ]
           ],
           "sequentialminus": [
            [
             0,
             "#0d0887"
            ],
            [
             0.1111111111111111,
             "#46039f"
            ],
            [
             0.2222222222222222,
             "#7201a8"
            ],
            [
             0.3333333333333333,
             "#9c179e"
            ],
            [
             0.4444444444444444,
             "#bd3786"
            ],
            [
             0.5555555555555556,
             "#d8576b"
            ],
            [
             0.6666666666666666,
             "#ed7953"
            ],
            [
             0.7777777777777778,
             "#fb9f3a"
            ],
            [
             0.8888888888888888,
             "#fdca26"
            ],
            [
             1,
             "#f0f921"
            ]
           ]
          },
          "colorway": [
           "#636efa",
           "#EF553B",
           "#00cc96",
           "#ab63fa",
           "#FFA15A",
           "#19d3f3",
           "#FF6692",
           "#B6E880",
           "#FF97FF",
           "#FECB52"
          ],
          "font": {
           "color": "#2a3f5f"
          },
          "geo": {
           "bgcolor": "white",
           "lakecolor": "white",
           "landcolor": "#E5ECF6",
           "showlakes": true,
           "showland": true,
           "subunitcolor": "white"
          },
          "hoverlabel": {
           "align": "left"
          },
          "hovermode": "closest",
          "mapbox": {
           "style": "light"
          },
          "paper_bgcolor": "white",
          "plot_bgcolor": "#E5ECF6",
          "polar": {
           "angularaxis": {
            "gridcolor": "white",
            "linecolor": "white",
            "ticks": ""
           },
           "bgcolor": "#E5ECF6",
           "radialaxis": {
            "gridcolor": "white",
            "linecolor": "white",
            "ticks": ""
           }
          },
          "scene": {
           "xaxis": {
            "backgroundcolor": "#E5ECF6",
            "gridcolor": "white",
            "gridwidth": 2,
            "linecolor": "white",
            "showbackground": true,
            "ticks": "",
            "zerolinecolor": "white"
           },
           "yaxis": {
            "backgroundcolor": "#E5ECF6",
            "gridcolor": "white",
            "gridwidth": 2,
            "linecolor": "white",
            "showbackground": true,
            "ticks": "",
            "zerolinecolor": "white"
           },
           "zaxis": {
            "backgroundcolor": "#E5ECF6",
            "gridcolor": "white",
            "gridwidth": 2,
            "linecolor": "white",
            "showbackground": true,
            "ticks": "",
            "zerolinecolor": "white"
           }
          },
          "shapedefaults": {
           "line": {
            "color": "#2a3f5f"
           }
          },
          "ternary": {
           "aaxis": {
            "gridcolor": "white",
            "linecolor": "white",
            "ticks": ""
           },
           "baxis": {
            "gridcolor": "white",
            "linecolor": "white",
            "ticks": ""
           },
           "bgcolor": "#E5ECF6",
           "caxis": {
            "gridcolor": "white",
            "linecolor": "white",
            "ticks": ""
           }
          },
          "title": {
           "x": 0.05
          },
          "xaxis": {
           "automargin": true,
           "gridcolor": "white",
           "linecolor": "white",
           "ticks": "",
           "title": {
            "standoff": 15
           },
           "zerolinecolor": "white",
           "zerolinewidth": 2
          },
          "yaxis": {
           "automargin": true,
           "gridcolor": "white",
           "linecolor": "white",
           "ticks": "",
           "title": {
            "standoff": 15
           },
           "zerolinecolor": "white",
           "zerolinewidth": 2
          }
         }
        },
        "xaxis": {
         "anchor": "y",
         "domain": [
          0,
          1
         ],
         "title": {
          "text": "TotalTests"
         }
        },
        "yaxis": {
         "anchor": "x",
         "domain": [
          0,
          1
         ],
         "title": {
          "text": "Continent"
         }
        }
       }
      },
      "text/html": [
       "<div>                            <div id=\"57439143-a850-4776-875f-a25d21146c6e\" class=\"plotly-graph-div\" style=\"height:400px; width:100%;\"></div>            <script type=\"text/javascript\">                require([\"plotly\"], function(Plotly) {                    window.PLOTLYENV=window.PLOTLYENV || {};                                    if (document.getElementById(\"57439143-a850-4776-875f-a25d21146c6e\")) {                    Plotly.newPlot(                        \"57439143-a850-4776-875f-a25d21146c6e\",                        [{\"alignmentgroup\": \"True\", \"customdata\": [[\"USA\", \"North America\"], [\"Brazil\", \"South America\"], [\"India\", \"Asia\"], [\"Russia\", \"Europe\"], [\"South Africa\", \"Africa\"], [\"Mexico\", \"North America\"], [\"Peru\", \"South America\"], [\"Chile\", \"South America\"], [\"Colombia\", \"South America\"], [\"Spain\", \"Europe\"], [\"Iran\", \"Asia\"], [\"UK\", \"Europe\"], [\"Saudi Arabia\", \"Asia\"], [\"Pakistan\", \"Asia\"], [\"Bangladesh\", \"Asia\"], [\"Italy\", \"Europe\"], [\"Turkey\", \"Asia\"], [\"Argentina\", \"South America\"], [\"Germany\", \"Europe\"], [\"France\", \"Europe\"], [\"Iraq\", \"Asia\"], [\"Philippines\", \"Asia\"], [\"Indonesia\", \"Asia\"], [\"Canada\", \"North America\"], [\"Qatar\", \"Asia\"], [\"Kazakhstan\", \"Asia\"], [\"Egypt\", \"Africa\"], [\"Ecuador\", \"South America\"], [\"Bolivia\", \"South America\"], [\"Sweden\", \"Europe\"], [\"Oman\", \"Asia\"], [\"Israel\", \"Asia\"], [\"Ukraine\", \"Europe\"], [\"Dominican Republic\", \"North America\"], [\"Panama\", \"North America\"], [\"Belgium\", \"Europe\"], [\"Kuwait\", \"Asia\"], [\"Belarus\", \"Europe\"], [\"UAE\", \"Asia\"], [\"Romania\", \"Europe\"], [\"Netherlands\", \"Europe\"], [\"Singapore\", \"Asia\"], [\"Guatemala\", \"North America\"], [\"Portugal\", \"Europe\"], [\"Poland\", \"Europe\"], [\"Nigeria\", \"Africa\"], [\"Honduras\", \"North America\"], [\"Bahrain\", \"Asia\"], [\"Japan\", \"Asia\"], [\"Armenia\", \"Asia\"], [\"Ghana\", \"Africa\"], [\"Kyrgyzstan\", \"Asia\"], [\"Afghanistan\", \"Asia\"], [\"Switzerland\", \"Europe\"], [\"Algeria\", \"Africa\"], [\"Azerbaijan\", \"Asia\"], [\"Morocco\", \"Africa\"], [\"Uzbekistan\", \"Asia\"], [\"Serbia\", \"Europe\"], [\"Moldova\", \"Europe\"], [\"Ireland\", \"Europe\"], [\"Kenya\", \"Africa\"], [\"Venezuela\", \"South America\"], [\"Nepal\", \"Asia\"], [\"Austria\", \"Europe\"], [\"Costa Rica\", \"North America\"], [\"Ethiopia\", \"Africa\"], [\"Australia\", \"Australia/Oceania\"], [\"El Salvador\", \"North America\"], [\"Czechia\", \"Europe\"], [\"Cameroon\", \"Africa\"], [\"Ivory Coast\", \"Africa\"], [\"S. Korea\", \"Asia\"], [\"Denmark\", \"Europe\"], [\"Palestine\", \"Asia\"], [\"Bosnia and Herzegovina\", \"Europe\"], [\"Bulgaria\", \"Europe\"], [\"Madagascar\", \"Africa\"], [\"Sudan\", \"Africa\"], [\"North Macedonia\", \"Europe\"], [\"Senegal\", \"Africa\"], [\"Norway\", \"Europe\"], [\"DRC\", \"Africa\"], [\"Malaysia\", \"Asia\"], [\"French Guiana\", \"South America\"], [\"Gabon\", \"Africa\"], [\"Tajikistan\", \"Asia\"], [\"Guinea\", \"Africa\"], [\"Haiti\", \"North America\"], [\"Finland\", \"Europe\"], [\"Zambia\", \"Africa\"], [\"Luxembourg\", \"Europe\"], [\"Mauritania\", \"Africa\"], [\"Paraguay\", \"South America\"], [\"Albania\", \"Europe\"], [\"Lebanon\", \"Asia\"], [\"Croatia\", \"Europe\"], [\"Djibouti\", \"Africa\"], [\"Greece\", \"Europe\"], [\"Libya\", \"Africa\"], [\"Equatorial Guinea\", \"Africa\"], [\"Maldives\", \"Asia\"], [\"CAR\", \"Africa\"], [\"Hungary\", \"Europe\"], [\"Malawi\", \"Africa\"], [\"Zimbabwe\", \"Africa\"], [\"Nicaragua\", \"North America\"], [\"Hong Kong\", \"Asia\"], [\"Congo\", \"Africa\"], [\"Montenegro\", \"Europe\"], [\"Thailand\", \"Asia\"], [\"Somalia\", \"Africa\"], [\"Mayotte\", \"Africa\"], [\"Eswatini\", \"Africa\"], [\"Sri Lanka\", \"Asia\"], [\"Cuba\", \"North America\"], [\"Cabo Verde\", \"Africa\"], [\"Namibia\", \"Africa\"], [\"Mali\", \"Africa\"], [\"Slovakia\", \"Europe\"], [\"South Sudan\", \"Africa\"], [\"Slovenia\", \"Europe\"], [\"Lithuania\", \"Europe\"], [\"Estonia\", \"Europe\"], [\"Mozambique\", \"Africa\"], [\"Rwanda\", \"Africa\"], [\"Suriname\", \"South America\"], [\"Guinea-Bissau\", \"Africa\"], [\"Benin\", \"Africa\"], [\"Iceland\", \"Europe\"], [\"Sierra Leone\", \"Africa\"], [\"Yemen\", \"Asia\"], [\"Tunisia\", \"Africa\"], [\"New Zealand\", \"Australia/Oceania\"], [\"Angola\", \"Africa\"], [\"Uruguay\", \"South America\"], [\"Latvia\", \"Europe\"], [\"Jordan\", \"Asia\"], [\"Liberia\", \"Africa\"], [\"Uganda\", \"Africa\"], [\"Cyprus\", \"Asia\"], [\"Georgia\", \"Asia\"], [\"Burkina Faso\", \"Africa\"], [\"Niger\", \"Africa\"], [\"Togo\", \"Africa\"], [\"Syria\", \"Asia\"], [\"Jamaica\", \"North America\"], [\"Malta\", \"Europe\"], [\"Andorra\", \"Europe\"], [\"Chad\", \"Africa\"], [\"Gambia\", \"Africa\"], [\"Sao Tome and Principe\", \"Africa\"], [\"Botswana\", \"Africa\"], [\"Bahamas\", \"North America\"], [\"Vietnam\", \"Asia\"], [\"Lesotho\", \"Africa\"], [\"Diamond Princess\", null], [\"San Marino\", \"Europe\"], [\"R\\u00e9union\", \"Africa\"], [\"Channel Islands\", \"Europe\"], [\"Guyana\", \"South America\"], [\"Tanzania\", \"Africa\"], [\"Taiwan\", \"Asia\"], [\"Comoros\", \"Africa\"], [\"Burundi\", \"Africa\"], [\"Myanmar\", \"Asia\"], [\"Mauritius\", \"Africa\"], [\"Isle of Man\", \"Europe\"], [\"Mongolia\", \"Asia\"], [\"Eritrea\", \"Africa\"], [\"Guadeloupe\", \"North America\"], [\"Martinique\", \"North America\"], [\"Faeroe Islands\", \"Europe\"], [\"Aruba\", \"North America\"], [\"Cambodia\", \"Asia\"], [\"Trinidad and Tobago\", \"North America\"], [\"Cayman Islands\", \"North America\"], [\"Gibraltar\", \"Europe\"], [\"Papua New Guinea\", \"Australia/Oceania\"], [\"Sint Maarten\", \"North America\"], [\"Bermuda\", \"North America\"], [\"Brunei \", \"Asia\"], [\"Barbados\", \"North America\"], [\"Turks and Caicos\", \"North America\"], [\"Seychelles\", \"Africa\"], [\"Monaco\", \"Europe\"], [\"Bhutan\", \"Asia\"], [\"Antigua and Barbuda\", \"North America\"], [\"Liechtenstein\", \"Europe\"], [\"Belize\", \"North America\"], [\"French Polynesia\", \"Australia/Oceania\"], [\"St. Vincent Grenadines\", \"North America\"], [\"Saint Martin\", \"North America\"], [\"Macao\", \"Asia\"], [\"Cura\\u00e7ao\", \"North America\"], [\"Fiji\", \"Australia/Oceania\"], [\"Saint Lucia\", \"North America\"], [\"Timor-Leste\", \"Asia\"], [\"Grenada\", \"North America\"], [\"New Caledonia\", \"Australia/Oceania\"], [\"Laos\", \"Asia\"], [\"Dominica\", \"North America\"], [\"Saint Kitts and Nevis\", \"North America\"], [\"Greenland\", \"North America\"], [\"Montserrat\", \"North America\"], [\"Caribbean Netherlands\", \"North America\"], [\"Falkland Islands\", \"South America\"], [\"Vatican City\", \"Europe\"], [\"Western Sahara\", \"Africa\"]], \"hovertemplate\": \"TotalTests=%{marker.color}<br>Continent=%{customdata[1]}<br>Country/Region=%{customdata[0]}<extra></extra>\", \"legendgroup\": \"\", \"marker\": {\"color\": [63139605.0, 13206188.0, 22149351.0, 29716907.0, 3149807.0, 1056915.0, 2493429.0, 1760615.0, 1801835.0, 7064329.0, 2612763.0, 17515234.0, 3635705.0, 2058872.0, 1225124.0, 7099713.0, 5081802.0, 794544.0, 8586648.0, 3992206.0, 1092741.0, 1669996.0, 1633156.0, 4319172.0, 511000.0, 2163713.0, 135000.0, 258582.0, 183583.0, 863315.0, 309212.0, 1872453.0, 1116641.0, 281926.0, 240995.0, 1767120.0, 522200.0, 1344303.0, 5262658.0, 1319369.0, 1079860.0, 1474372.0, 172712.0, 1705474.0, 2374686.0, 306894.0, 109292.0, 876700.0, 938739.0, 171600.0, 405817.0, 267718.0, 90396.0, 822764.0, null, 766179.0, 1383816.0, 1377915.0, 723137.0, 128076.0, 652917.0, 335318.0, 1567431.0, 731977.0, 937275.0, 96110.0, 468814.0, 4631419.0, 251271.0, 728670.0, 149000.0, 104584.0, 1613652.0, 1654512.0, 200280.0, 147021.0, 294087.0, 46301.0, 401.0, 109946.0, 114761.0, 472841.0, null, 991333.0, 41412.0, 85369.0, null, 14407.0, 18443.0, 389500.0, 90307.0, 623994.0, 57387.0, 135277.0, 38997.0, 345268.0, 125317.0, 59909.0, 619393.0, 59699.0, 44356.0, 85587.0, 29589.0, 352546.0, 33466.0, 140421.0, null, 692430.0, null, 38427.0, 749213.0, null, 13000.0, 20784.0, 166737.0, 285471.0, 61633.0, 29233.0, 25152.0, 272322.0, 12044.0, 135702.0, 540784.0, 122880.0, 65151.0, 286251.0, 2785.0, 1500.0, 93677.0, 149693.0, null, 120.0, 100298.0, 486943.0, 64747.0, 126956.0, 207909.0, 628745.0, null, 288367.0, 216597.0, 240473.0, null, 9052.0, 45767.0, null, 41840.0, 136713.0, 3750.0, null, 5183.0, 3079.0, 68423.0, 4814.0, 482456.0, 8771.0, null, 6068.0, 35419.0, 30721.0, 5165.0, null, 82737.0, null, 15614.0, 122290.0, 205285.0, 8627.0, 38334.0, null, 18476.0, 12227.0, 43045.0, 14047.0, 67807.0, 9559.0, 31108.0, 23063.0, 10808.0, 1115.0, 26352.0, 41148.0, 12233.0, 1252.0, null, 38209.0, 54589.0, 1500.0, 900.0, 3679.0, 5849.0, 2447.0, 1183.0, 4071.0, 1080.0, 6693.0, 3895.0, 4238.0, 6252.0, 11099.0, 29374.0, 1005.0, 1146.0, 5977.0, 61.0, 424.0, 1816.0, null, null], \"coloraxis\": \"coloraxis\"}, \"name\": \"\", \"offsetgroup\": \"\", \"orientation\": \"h\", \"showlegend\": false, \"textposition\": \"auto\", \"type\": \"bar\", \"x\": [63139605.0, 13206188.0, 22149351.0, 29716907.0, 3149807.0, 1056915.0, 2493429.0, 1760615.0, 1801835.0, 7064329.0, 2612763.0, 17515234.0, 3635705.0, 2058872.0, 1225124.0, 7099713.0, 5081802.0, 794544.0, 8586648.0, 3992206.0, 1092741.0, 1669996.0, 1633156.0, 4319172.0, 511000.0, 2163713.0, 135000.0, 258582.0, 183583.0, 863315.0, 309212.0, 1872453.0, 1116641.0, 281926.0, 240995.0, 1767120.0, 522200.0, 1344303.0, 5262658.0, 1319369.0, 1079860.0, 1474372.0, 172712.0, 1705474.0, 2374686.0, 306894.0, 109292.0, 876700.0, 938739.0, 171600.0, 405817.0, 267718.0, 90396.0, 822764.0, null, 766179.0, 1383816.0, 1377915.0, 723137.0, 128076.0, 652917.0, 335318.0, 1567431.0, 731977.0, 937275.0, 96110.0, 468814.0, 4631419.0, 251271.0, 728670.0, 149000.0, 104584.0, 1613652.0, 1654512.0, 200280.0, 147021.0, 294087.0, 46301.0, 401.0, 109946.0, 114761.0, 472841.0, null, 991333.0, 41412.0, 85369.0, null, 14407.0, 18443.0, 389500.0, 90307.0, 623994.0, 57387.0, 135277.0, 38997.0, 345268.0, 125317.0, 59909.0, 619393.0, 59699.0, 44356.0, 85587.0, 29589.0, 352546.0, 33466.0, 140421.0, null, 692430.0, null, 38427.0, 749213.0, null, 13000.0, 20784.0, 166737.0, 285471.0, 61633.0, 29233.0, 25152.0, 272322.0, 12044.0, 135702.0, 540784.0, 122880.0, 65151.0, 286251.0, 2785.0, 1500.0, 93677.0, 149693.0, null, 120.0, 100298.0, 486943.0, 64747.0, 126956.0, 207909.0, 628745.0, null, 288367.0, 216597.0, 240473.0, null, 9052.0, 45767.0, null, 41840.0, 136713.0, 3750.0, null, 5183.0, 3079.0, 68423.0, 4814.0, 482456.0, 8771.0, null, 6068.0, 35419.0, 30721.0, 5165.0, null, 82737.0, null, 15614.0, 122290.0, 205285.0, 8627.0, 38334.0, null, 18476.0, 12227.0, 43045.0, 14047.0, 67807.0, 9559.0, 31108.0, 23063.0, 10808.0, 1115.0, 26352.0, 41148.0, 12233.0, 1252.0, null, 38209.0, 54589.0, 1500.0, 900.0, 3679.0, 5849.0, 2447.0, 1183.0, 4071.0, 1080.0, 6693.0, 3895.0, 4238.0, 6252.0, 11099.0, 29374.0, 1005.0, 1146.0, 5977.0, 61.0, 424.0, 1816.0, null, null], \"xaxis\": \"x\", \"y\": [\"North America\", \"South America\", \"Asia\", \"Europe\", \"Africa\", \"North America\", \"South America\", \"South America\", \"South America\", \"Europe\", \"Asia\", \"Europe\", \"Asia\", \"Asia\", \"Asia\", \"Europe\", \"Asia\", \"South America\", \"Europe\", \"Europe\", \"Asia\", \"Asia\", \"Asia\", \"North America\", \"Asia\", \"Asia\", \"Africa\", \"South America\", \"South America\", \"Europe\", \"Asia\", \"Asia\", \"Europe\", \"North America\", \"North America\", \"Europe\", \"Asia\", \"Europe\", \"Asia\", \"Europe\", \"Europe\", \"Asia\", \"North America\", \"Europe\", \"Europe\", \"Africa\", \"North America\", \"Asia\", \"Asia\", \"Asia\", \"Africa\", \"Asia\", \"Asia\", \"Europe\", \"Africa\", \"Asia\", \"Africa\", \"Asia\", \"Europe\", \"Europe\", \"Europe\", \"Africa\", \"South America\", \"Asia\", \"Europe\", \"North America\", \"Africa\", \"Australia/Oceania\", \"North America\", \"Europe\", \"Africa\", \"Africa\", \"Asia\", \"Europe\", \"Asia\", \"Europe\", \"Europe\", \"Africa\", \"Africa\", \"Europe\", \"Africa\", \"Europe\", \"Africa\", \"Asia\", \"South America\", \"Africa\", \"Asia\", \"Africa\", \"North America\", \"Europe\", \"Africa\", \"Europe\", \"Africa\", \"South America\", \"Europe\", \"Asia\", \"Europe\", \"Africa\", \"Europe\", \"Africa\", \"Africa\", \"Asia\", \"Africa\", \"Europe\", \"Africa\", \"Africa\", \"North America\", \"Asia\", \"Africa\", \"Europe\", \"Asia\", \"Africa\", \"Africa\", \"Africa\", \"Asia\", \"North America\", \"Africa\", \"Africa\", \"Africa\", \"Europe\", \"Africa\", \"Europe\", \"Europe\", \"Europe\", \"Africa\", \"Africa\", \"South America\", \"Africa\", \"Africa\", \"Europe\", \"Africa\", \"Asia\", \"Africa\", \"Australia/Oceania\", \"Africa\", \"South America\", \"Europe\", \"Asia\", \"Africa\", \"Africa\", \"Asia\", \"Asia\", \"Africa\", \"Africa\", \"Africa\", \"Asia\", \"North America\", \"Europe\", \"Europe\", \"Africa\", \"Africa\", \"Africa\", \"Africa\", \"North America\", \"Asia\", \"Africa\", null, \"Europe\", \"Africa\", \"Europe\", \"South America\", \"Africa\", \"Asia\", \"Africa\", \"Africa\", \"Asia\", \"Africa\", \"Europe\", \"Asia\", \"Africa\", \"North America\", \"North America\", \"Europe\", \"North America\", \"Asia\", \"North America\", \"North America\", \"Europe\", \"Australia/Oceania\", \"North America\", \"North America\", \"Asia\", \"North America\", \"North America\", \"Africa\", \"Europe\", \"Asia\", \"North America\", \"Europe\", \"North America\", \"Australia/Oceania\", \"North America\", \"North America\", \"Asia\", \"North America\", \"Australia/Oceania\", \"North America\", \"Asia\", \"North America\", \"Australia/Oceania\", \"Asia\", \"North America\", \"North America\", \"North America\", \"North America\", \"North America\", \"South America\", \"Europe\", \"Africa\"], \"yaxis\": \"y\"}],                        {\"barmode\": \"relative\", \"coloraxis\": {\"colorbar\": {\"title\": {\"text\": \"TotalTests\"}}, \"colorscale\": [[0.0, \"#0d0887\"], [0.1111111111111111, \"#46039f\"], [0.2222222222222222, \"#7201a8\"], [0.3333333333333333, \"#9c179e\"], [0.4444444444444444, \"#bd3786\"], [0.5555555555555556, \"#d8576b\"], [0.6666666666666666, \"#ed7953\"], [0.7777777777777778, \"#fb9f3a\"], [0.8888888888888888, \"#fdca26\"], [1.0, \"#f0f921\"]]}, \"height\": 400, \"legend\": {\"tracegroupgap\": 0}, \"margin\": {\"t\": 60}, \"template\": {\"data\": {\"bar\": [{\"error_x\": {\"color\": \"#2a3f5f\"}, \"error_y\": {\"color\": \"#2a3f5f\"}, \"marker\": {\"line\": {\"color\": \"#E5ECF6\", \"width\": 0.5}}, \"type\": \"bar\"}], \"barpolar\": [{\"marker\": {\"line\": {\"color\": \"#E5ECF6\", \"width\": 0.5}}, \"type\": \"barpolar\"}], \"carpet\": [{\"aaxis\": {\"endlinecolor\": \"#2a3f5f\", \"gridcolor\": \"white\", \"linecolor\": \"white\", \"minorgridcolor\": \"white\", \"startlinecolor\": \"#2a3f5f\"}, \"baxis\": {\"endlinecolor\": \"#2a3f5f\", \"gridcolor\": \"white\", \"linecolor\": \"white\", \"minorgridcolor\": \"white\", \"startlinecolor\": \"#2a3f5f\"}, \"type\": \"carpet\"}], \"choropleth\": [{\"colorbar\": {\"outlinewidth\": 0, \"ticks\": \"\"}, \"type\": \"choropleth\"}], \"contour\": [{\"colorbar\": {\"outlinewidth\": 0, \"ticks\": \"\"}, \"colorscale\": [[0.0, \"#0d0887\"], [0.1111111111111111, \"#46039f\"], [0.2222222222222222, \"#7201a8\"], [0.3333333333333333, \"#9c179e\"], [0.4444444444444444, \"#bd3786\"], [0.5555555555555556, \"#d8576b\"], [0.6666666666666666, \"#ed7953\"], [0.7777777777777778, \"#fb9f3a\"], [0.8888888888888888, \"#fdca26\"], [1.0, \"#f0f921\"]], \"type\": \"contour\"}], \"contourcarpet\": [{\"colorbar\": {\"outlinewidth\": 0, \"ticks\": \"\"}, \"type\": \"contourcarpet\"}], \"heatmap\": [{\"colorbar\": {\"outlinewidth\": 0, \"ticks\": \"\"}, \"colorscale\": [[0.0, \"#0d0887\"], [0.1111111111111111, \"#46039f\"], [0.2222222222222222, \"#7201a8\"], [0.3333333333333333, \"#9c179e\"], [0.4444444444444444, \"#bd3786\"], [0.5555555555555556, \"#d8576b\"], [0.6666666666666666, \"#ed7953\"], [0.7777777777777778, \"#fb9f3a\"], [0.8888888888888888, \"#fdca26\"], [1.0, \"#f0f921\"]], \"type\": \"heatmap\"}], \"heatmapgl\": [{\"colorbar\": {\"outlinewidth\": 0, \"ticks\": \"\"}, \"colorscale\": [[0.0, \"#0d0887\"], [0.1111111111111111, \"#46039f\"], [0.2222222222222222, \"#7201a8\"], [0.3333333333333333, \"#9c179e\"], [0.4444444444444444, \"#bd3786\"], [0.5555555555555556, \"#d8576b\"], [0.6666666666666666, \"#ed7953\"], [0.7777777777777778, \"#fb9f3a\"], [0.8888888888888888, \"#fdca26\"], [1.0, \"#f0f921\"]], \"type\": \"heatmapgl\"}], \"histogram\": [{\"marker\": {\"colorbar\": {\"outlinewidth\": 0, \"ticks\": \"\"}}, \"type\": \"histogram\"}], \"histogram2d\": [{\"colorbar\": {\"outlinewidth\": 0, \"ticks\": \"\"}, \"colorscale\": [[0.0, \"#0d0887\"], [0.1111111111111111, \"#46039f\"], [0.2222222222222222, \"#7201a8\"], [0.3333333333333333, \"#9c179e\"], [0.4444444444444444, \"#bd3786\"], [0.5555555555555556, \"#d8576b\"], [0.6666666666666666, \"#ed7953\"], [0.7777777777777778, \"#fb9f3a\"], [0.8888888888888888, \"#fdca26\"], [1.0, \"#f0f921\"]], \"type\": \"histogram2d\"}], \"histogram2dcontour\": [{\"colorbar\": {\"outlinewidth\": 0, \"ticks\": \"\"}, \"colorscale\": [[0.0, \"#0d0887\"], [0.1111111111111111, \"#46039f\"], [0.2222222222222222, \"#7201a8\"], [0.3333333333333333, \"#9c179e\"], [0.4444444444444444, \"#bd3786\"], [0.5555555555555556, \"#d8576b\"], [0.6666666666666666, \"#ed7953\"], [0.7777777777777778, \"#fb9f3a\"], [0.8888888888888888, \"#fdca26\"], [1.0, \"#f0f921\"]], \"type\": \"histogram2dcontour\"}], \"mesh3d\": [{\"colorbar\": {\"outlinewidth\": 0, \"ticks\": \"\"}, \"type\": \"mesh3d\"}], \"parcoords\": [{\"line\": {\"colorbar\": {\"outlinewidth\": 0, \"ticks\": \"\"}}, \"type\": \"parcoords\"}], \"pie\": [{\"automargin\": true, \"type\": \"pie\"}], \"scatter\": [{\"marker\": {\"colorbar\": {\"outlinewidth\": 0, \"ticks\": \"\"}}, \"type\": \"scatter\"}], \"scatter3d\": [{\"line\": {\"colorbar\": {\"outlinewidth\": 0, \"ticks\": \"\"}}, \"marker\": {\"colorbar\": {\"outlinewidth\": 0, \"ticks\": \"\"}}, \"type\": \"scatter3d\"}], \"scattercarpet\": [{\"marker\": {\"colorbar\": {\"outlinewidth\": 0, \"ticks\": \"\"}}, \"type\": \"scattercarpet\"}], \"scattergeo\": [{\"marker\": {\"colorbar\": {\"outlinewidth\": 0, \"ticks\": \"\"}}, \"type\": \"scattergeo\"}], \"scattergl\": [{\"marker\": {\"colorbar\": {\"outlinewidth\": 0, \"ticks\": \"\"}}, \"type\": \"scattergl\"}], \"scattermapbox\": [{\"marker\": {\"colorbar\": {\"outlinewidth\": 0, \"ticks\": \"\"}}, \"type\": \"scattermapbox\"}], \"scatterpolar\": [{\"marker\": {\"colorbar\": {\"outlinewidth\": 0, \"ticks\": \"\"}}, \"type\": \"scatterpolar\"}], \"scatterpolargl\": [{\"marker\": {\"colorbar\": {\"outlinewidth\": 0, \"ticks\": \"\"}}, \"type\": \"scatterpolargl\"}], \"scatterternary\": [{\"marker\": {\"colorbar\": {\"outlinewidth\": 0, \"ticks\": \"\"}}, \"type\": \"scatterternary\"}], \"surface\": [{\"colorbar\": {\"outlinewidth\": 0, \"ticks\": \"\"}, \"colorscale\": [[0.0, \"#0d0887\"], [0.1111111111111111, \"#46039f\"], [0.2222222222222222, \"#7201a8\"], [0.3333333333333333, \"#9c179e\"], [0.4444444444444444, \"#bd3786\"], [0.5555555555555556, \"#d8576b\"], [0.6666666666666666, \"#ed7953\"], [0.7777777777777778, \"#fb9f3a\"], [0.8888888888888888, \"#fdca26\"], [1.0, \"#f0f921\"]], \"type\": \"surface\"}], \"table\": [{\"cells\": {\"fill\": {\"color\": \"#EBF0F8\"}, \"line\": {\"color\": \"white\"}}, \"header\": {\"fill\": {\"color\": \"#C8D4E3\"}, \"line\": {\"color\": \"white\"}}, \"type\": \"table\"}]}, \"layout\": {\"annotationdefaults\": {\"arrowcolor\": \"#2a3f5f\", \"arrowhead\": 0, \"arrowwidth\": 1}, \"coloraxis\": {\"colorbar\": {\"outlinewidth\": 0, \"ticks\": \"\"}}, \"colorscale\": {\"diverging\": [[0, \"#8e0152\"], [0.1, \"#c51b7d\"], [0.2, \"#de77ae\"], [0.3, \"#f1b6da\"], [0.4, \"#fde0ef\"], [0.5, \"#f7f7f7\"], [0.6, \"#e6f5d0\"], [0.7, \"#b8e186\"], [0.8, \"#7fbc41\"], [0.9, \"#4d9221\"], [1, \"#276419\"]], \"sequential\": [[0.0, \"#0d0887\"], [0.1111111111111111, \"#46039f\"], [0.2222222222222222, \"#7201a8\"], [0.3333333333333333, \"#9c179e\"], [0.4444444444444444, \"#bd3786\"], [0.5555555555555556, \"#d8576b\"], [0.6666666666666666, \"#ed7953\"], [0.7777777777777778, \"#fb9f3a\"], [0.8888888888888888, \"#fdca26\"], [1.0, \"#f0f921\"]], \"sequentialminus\": [[0.0, \"#0d0887\"], [0.1111111111111111, \"#46039f\"], [0.2222222222222222, \"#7201a8\"], [0.3333333333333333, \"#9c179e\"], [0.4444444444444444, \"#bd3786\"], [0.5555555555555556, \"#d8576b\"], [0.6666666666666666, \"#ed7953\"], [0.7777777777777778, \"#fb9f3a\"], [0.8888888888888888, \"#fdca26\"], [1.0, \"#f0f921\"]]}, \"colorway\": [\"#636efa\", \"#EF553B\", \"#00cc96\", \"#ab63fa\", \"#FFA15A\", \"#19d3f3\", \"#FF6692\", \"#B6E880\", \"#FF97FF\", \"#FECB52\"], \"font\": {\"color\": \"#2a3f5f\"}, \"geo\": {\"bgcolor\": \"white\", \"lakecolor\": \"white\", \"landcolor\": \"#E5ECF6\", \"showlakes\": true, \"showland\": true, \"subunitcolor\": \"white\"}, \"hoverlabel\": {\"align\": \"left\"}, \"hovermode\": \"closest\", \"mapbox\": {\"style\": \"light\"}, \"paper_bgcolor\": \"white\", \"plot_bgcolor\": \"#E5ECF6\", \"polar\": {\"angularaxis\": {\"gridcolor\": \"white\", \"linecolor\": \"white\", \"ticks\": \"\"}, \"bgcolor\": \"#E5ECF6\", \"radialaxis\": {\"gridcolor\": \"white\", \"linecolor\": \"white\", \"ticks\": \"\"}}, \"scene\": {\"xaxis\": {\"backgroundcolor\": \"#E5ECF6\", \"gridcolor\": \"white\", \"gridwidth\": 2, \"linecolor\": \"white\", \"showbackground\": true, \"ticks\": \"\", \"zerolinecolor\": \"white\"}, \"yaxis\": {\"backgroundcolor\": \"#E5ECF6\", \"gridcolor\": \"white\", \"gridwidth\": 2, \"linecolor\": \"white\", \"showbackground\": true, \"ticks\": \"\", \"zerolinecolor\": \"white\"}, \"zaxis\": {\"backgroundcolor\": \"#E5ECF6\", \"gridcolor\": \"white\", \"gridwidth\": 2, \"linecolor\": \"white\", \"showbackground\": true, \"ticks\": \"\", \"zerolinecolor\": \"white\"}}, \"shapedefaults\": {\"line\": {\"color\": \"#2a3f5f\"}}, \"ternary\": {\"aaxis\": {\"gridcolor\": \"white\", \"linecolor\": \"white\", \"ticks\": \"\"}, \"baxis\": {\"gridcolor\": \"white\", \"linecolor\": \"white\", \"ticks\": \"\"}, \"bgcolor\": \"#E5ECF6\", \"caxis\": {\"gridcolor\": \"white\", \"linecolor\": \"white\", \"ticks\": \"\"}}, \"title\": {\"x\": 0.05}, \"xaxis\": {\"automargin\": true, \"gridcolor\": \"white\", \"linecolor\": \"white\", \"ticks\": \"\", \"title\": {\"standoff\": 15}, \"zerolinecolor\": \"white\", \"zerolinewidth\": 2}, \"yaxis\": {\"automargin\": true, \"gridcolor\": \"white\", \"linecolor\": \"white\", \"ticks\": \"\", \"title\": {\"standoff\": 15}, \"zerolinecolor\": \"white\", \"zerolinewidth\": 2}}}, \"xaxis\": {\"anchor\": \"y\", \"domain\": [0.0, 1.0], \"title\": {\"text\": \"TotalTests\"}}, \"yaxis\": {\"anchor\": \"x\", \"domain\": [0.0, 1.0], \"title\": {\"text\": \"Continent\"}}},                        {\"responsive\": true}                    ).then(function(){\n",
       "                            \n",
       "var gd = document.getElementById('57439143-a850-4776-875f-a25d21146c6e');\n",
       "var x = new MutationObserver(function (mutations, observer) {{\n",
       "        var display = window.getComputedStyle(gd).display;\n",
       "        if (!display || display === 'none') {{\n",
       "            console.log([gd, 'removed!']);\n",
       "            Plotly.purge(gd);\n",
       "            observer.disconnect();\n",
       "        }}\n",
       "}});\n",
       "\n",
       "// Listen for the removal of the full notebook cells\n",
       "var notebookContainer = gd.closest('#notebook-container');\n",
       "if (notebookContainer) {{\n",
       "    x.observe(notebookContainer, {childList: true});\n",
       "}}\n",
       "\n",
       "// Listen for the clearing of the current output cell\n",
       "var outputEl = gd.closest('.output');\n",
       "if (outputEl) {{\n",
       "    x.observe(outputEl, {childList: true});\n",
       "}}\n",
       "\n",
       "                        })                };                });            </script>        </div>"
      ]
     },
     "metadata": {},
     "output_type": "display_data"
    }
   ],
   "source": [
    "ex.bar(covid,x='TotalTests',y='Continent',color='TotalTests',height=400,hover_data=['Country/Region','Continent'])"
   ]
  },
  {
   "cell_type": "code",
   "execution_count": 112,
   "metadata": {},
   "outputs": [
    {
     "data": {
      "application/vnd.plotly.v1+json": {
       "config": {
        "plotlyServerURL": "https://plot.ly"
       },
       "data": [
        {
         "alignmentgroup": "True",
         "customdata": [
          [
           "USA",
           "North America"
          ],
          [
           "Brazil",
           "South America"
          ],
          [
           "India",
           "Asia"
          ],
          [
           "Russia",
           "Europe"
          ],
          [
           "South Africa",
           "Africa"
          ],
          [
           "Mexico",
           "North America"
          ],
          [
           "Peru",
           "South America"
          ],
          [
           "Chile",
           "South America"
          ],
          [
           "Colombia",
           "South America"
          ],
          [
           "Spain",
           "Europe"
          ],
          [
           "Iran",
           "Asia"
          ],
          [
           "UK",
           "Europe"
          ],
          [
           "Saudi Arabia",
           "Asia"
          ],
          [
           "Pakistan",
           "Asia"
          ],
          [
           "Bangladesh",
           "Asia"
          ],
          [
           "Italy",
           "Europe"
          ],
          [
           "Turkey",
           "Asia"
          ],
          [
           "Argentina",
           "South America"
          ],
          [
           "Germany",
           "Europe"
          ],
          [
           "France",
           "Europe"
          ],
          [
           "Iraq",
           "Asia"
          ],
          [
           "Philippines",
           "Asia"
          ],
          [
           "Indonesia",
           "Asia"
          ],
          [
           "Canada",
           "North America"
          ],
          [
           "Qatar",
           "Asia"
          ],
          [
           "Kazakhstan",
           "Asia"
          ],
          [
           "Egypt",
           "Africa"
          ],
          [
           "Ecuador",
           "South America"
          ],
          [
           "Bolivia",
           "South America"
          ],
          [
           "Sweden",
           "Europe"
          ],
          [
           "Oman",
           "Asia"
          ],
          [
           "Israel",
           "Asia"
          ],
          [
           "Ukraine",
           "Europe"
          ],
          [
           "Dominican Republic",
           "North America"
          ],
          [
           "Panama",
           "North America"
          ],
          [
           "Belgium",
           "Europe"
          ],
          [
           "Kuwait",
           "Asia"
          ],
          [
           "Belarus",
           "Europe"
          ],
          [
           "UAE",
           "Asia"
          ],
          [
           "Romania",
           "Europe"
          ],
          [
           "Netherlands",
           "Europe"
          ],
          [
           "Singapore",
           "Asia"
          ],
          [
           "Guatemala",
           "North America"
          ],
          [
           "Portugal",
           "Europe"
          ],
          [
           "Poland",
           "Europe"
          ],
          [
           "Nigeria",
           "Africa"
          ],
          [
           "Honduras",
           "North America"
          ],
          [
           "Bahrain",
           "Asia"
          ],
          [
           "Japan",
           "Asia"
          ],
          [
           "Armenia",
           "Asia"
          ],
          [
           "Ghana",
           "Africa"
          ],
          [
           "Kyrgyzstan",
           "Asia"
          ],
          [
           "Afghanistan",
           "Asia"
          ],
          [
           "Switzerland",
           "Europe"
          ],
          [
           "Algeria",
           "Africa"
          ],
          [
           "Azerbaijan",
           "Asia"
          ],
          [
           "Morocco",
           "Africa"
          ],
          [
           "Uzbekistan",
           "Asia"
          ],
          [
           "Serbia",
           "Europe"
          ],
          [
           "Moldova",
           "Europe"
          ],
          [
           "Ireland",
           "Europe"
          ],
          [
           "Kenya",
           "Africa"
          ],
          [
           "Venezuela",
           "South America"
          ],
          [
           "Nepal",
           "Asia"
          ],
          [
           "Austria",
           "Europe"
          ],
          [
           "Costa Rica",
           "North America"
          ],
          [
           "Ethiopia",
           "Africa"
          ],
          [
           "Australia",
           "Australia/Oceania"
          ],
          [
           "El Salvador",
           "North America"
          ],
          [
           "Czechia",
           "Europe"
          ],
          [
           "Cameroon",
           "Africa"
          ],
          [
           "Ivory Coast",
           "Africa"
          ],
          [
           "S. Korea",
           "Asia"
          ],
          [
           "Denmark",
           "Europe"
          ],
          [
           "Palestine",
           "Asia"
          ],
          [
           "Bosnia and Herzegovina",
           "Europe"
          ],
          [
           "Bulgaria",
           "Europe"
          ],
          [
           "Madagascar",
           "Africa"
          ],
          [
           "Sudan",
           "Africa"
          ],
          [
           "North Macedonia",
           "Europe"
          ],
          [
           "Senegal",
           "Africa"
          ],
          [
           "Norway",
           "Europe"
          ],
          [
           "DRC",
           "Africa"
          ],
          [
           "Malaysia",
           "Asia"
          ],
          [
           "French Guiana",
           "South America"
          ],
          [
           "Gabon",
           "Africa"
          ],
          [
           "Tajikistan",
           "Asia"
          ],
          [
           "Guinea",
           "Africa"
          ],
          [
           "Haiti",
           "North America"
          ],
          [
           "Finland",
           "Europe"
          ],
          [
           "Zambia",
           "Africa"
          ],
          [
           "Luxembourg",
           "Europe"
          ],
          [
           "Mauritania",
           "Africa"
          ],
          [
           "Paraguay",
           "South America"
          ],
          [
           "Albania",
           "Europe"
          ],
          [
           "Lebanon",
           "Asia"
          ],
          [
           "Croatia",
           "Europe"
          ],
          [
           "Djibouti",
           "Africa"
          ],
          [
           "Greece",
           "Europe"
          ],
          [
           "Libya",
           "Africa"
          ],
          [
           "Equatorial Guinea",
           "Africa"
          ],
          [
           "Maldives",
           "Asia"
          ],
          [
           "CAR",
           "Africa"
          ],
          [
           "Hungary",
           "Europe"
          ],
          [
           "Malawi",
           "Africa"
          ],
          [
           "Zimbabwe",
           "Africa"
          ],
          [
           "Nicaragua",
           "North America"
          ],
          [
           "Hong Kong",
           "Asia"
          ],
          [
           "Congo",
           "Africa"
          ],
          [
           "Montenegro",
           "Europe"
          ],
          [
           "Thailand",
           "Asia"
          ],
          [
           "Somalia",
           "Africa"
          ],
          [
           "Mayotte",
           "Africa"
          ],
          [
           "Eswatini",
           "Africa"
          ],
          [
           "Sri Lanka",
           "Asia"
          ],
          [
           "Cuba",
           "North America"
          ],
          [
           "Cabo Verde",
           "Africa"
          ],
          [
           "Namibia",
           "Africa"
          ],
          [
           "Mali",
           "Africa"
          ],
          [
           "Slovakia",
           "Europe"
          ],
          [
           "South Sudan",
           "Africa"
          ],
          [
           "Slovenia",
           "Europe"
          ],
          [
           "Lithuania",
           "Europe"
          ],
          [
           "Estonia",
           "Europe"
          ],
          [
           "Mozambique",
           "Africa"
          ],
          [
           "Rwanda",
           "Africa"
          ],
          [
           "Suriname",
           "South America"
          ],
          [
           "Guinea-Bissau",
           "Africa"
          ],
          [
           "Benin",
           "Africa"
          ],
          [
           "Iceland",
           "Europe"
          ],
          [
           "Sierra Leone",
           "Africa"
          ],
          [
           "Yemen",
           "Asia"
          ],
          [
           "Tunisia",
           "Africa"
          ],
          [
           "New Zealand",
           "Australia/Oceania"
          ],
          [
           "Angola",
           "Africa"
          ],
          [
           "Uruguay",
           "South America"
          ],
          [
           "Latvia",
           "Europe"
          ],
          [
           "Jordan",
           "Asia"
          ],
          [
           "Liberia",
           "Africa"
          ],
          [
           "Uganda",
           "Africa"
          ],
          [
           "Cyprus",
           "Asia"
          ],
          [
           "Georgia",
           "Asia"
          ],
          [
           "Burkina Faso",
           "Africa"
          ],
          [
           "Niger",
           "Africa"
          ],
          [
           "Togo",
           "Africa"
          ],
          [
           "Syria",
           "Asia"
          ],
          [
           "Jamaica",
           "North America"
          ],
          [
           "Malta",
           "Europe"
          ],
          [
           "Andorra",
           "Europe"
          ],
          [
           "Chad",
           "Africa"
          ],
          [
           "Gambia",
           "Africa"
          ],
          [
           "Sao Tome and Principe",
           "Africa"
          ],
          [
           "Botswana",
           "Africa"
          ],
          [
           "Bahamas",
           "North America"
          ],
          [
           "Vietnam",
           "Asia"
          ],
          [
           "Lesotho",
           "Africa"
          ],
          [
           "Diamond Princess",
           null
          ],
          [
           "San Marino",
           "Europe"
          ],
          [
           "Réunion",
           "Africa"
          ],
          [
           "Channel Islands",
           "Europe"
          ],
          [
           "Guyana",
           "South America"
          ],
          [
           "Tanzania",
           "Africa"
          ],
          [
           "Taiwan",
           "Asia"
          ],
          [
           "Comoros",
           "Africa"
          ],
          [
           "Burundi",
           "Africa"
          ],
          [
           "Myanmar",
           "Asia"
          ],
          [
           "Mauritius",
           "Africa"
          ],
          [
           "Isle of Man",
           "Europe"
          ],
          [
           "Mongolia",
           "Asia"
          ],
          [
           "Eritrea",
           "Africa"
          ],
          [
           "Guadeloupe",
           "North America"
          ],
          [
           "Martinique",
           "North America"
          ],
          [
           "Faeroe Islands",
           "Europe"
          ],
          [
           "Aruba",
           "North America"
          ],
          [
           "Cambodia",
           "Asia"
          ],
          [
           "Trinidad and Tobago",
           "North America"
          ],
          [
           "Cayman Islands",
           "North America"
          ],
          [
           "Gibraltar",
           "Europe"
          ],
          [
           "Papua New Guinea",
           "Australia/Oceania"
          ],
          [
           "Sint Maarten",
           "North America"
          ],
          [
           "Bermuda",
           "North America"
          ],
          [
           "Brunei ",
           "Asia"
          ],
          [
           "Barbados",
           "North America"
          ],
          [
           "Turks and Caicos",
           "North America"
          ],
          [
           "Seychelles",
           "Africa"
          ],
          [
           "Monaco",
           "Europe"
          ],
          [
           "Bhutan",
           "Asia"
          ],
          [
           "Antigua and Barbuda",
           "North America"
          ],
          [
           "Liechtenstein",
           "Europe"
          ],
          [
           "Belize",
           "North America"
          ],
          [
           "French Polynesia",
           "Australia/Oceania"
          ],
          [
           "St. Vincent Grenadines",
           "North America"
          ],
          [
           "Saint Martin",
           "North America"
          ],
          [
           "Macao",
           "Asia"
          ],
          [
           "Curaçao",
           "North America"
          ],
          [
           "Fiji",
           "Australia/Oceania"
          ],
          [
           "Saint Lucia",
           "North America"
          ],
          [
           "Timor-Leste",
           "Asia"
          ],
          [
           "Grenada",
           "North America"
          ],
          [
           "New Caledonia",
           "Australia/Oceania"
          ],
          [
           "Laos",
           "Asia"
          ],
          [
           "Dominica",
           "North America"
          ],
          [
           "Saint Kitts and Nevis",
           "North America"
          ],
          [
           "Greenland",
           "North America"
          ],
          [
           "Montserrat",
           "North America"
          ],
          [
           "Caribbean Netherlands",
           "North America"
          ],
          [
           "Falkland Islands",
           "South America"
          ],
          [
           "Vatican City",
           "Europe"
          ],
          [
           "Western Sahara",
           "Africa"
          ]
         ],
         "hovertemplate": "TotalDeaths=%{marker.color}<br>Continent=%{customdata[1]}<br>Country/Region=%{customdata[0]}<extra></extra>",
         "legendgroup": "",
         "marker": {
          "color": [
           162804,
           98644,
           41638,
           14606,
           9604,
           50517,
           20424,
           9889,
           11939,
           28500,
           17976,
           46413,
           3055,
           6035,
           3306,
           35187,
           5798,
           4251,
           9252,
           30312,
           5161,
           2150,
           5521,
           8966,
           178,
           1058,
           4951,
           5877,
           3465,
           5766,
           492,
           576,
           1819,
           1246,
           1574,
           9859,
           469,
           580,
           354,
           2566,
           6153,
           27,
           2119,
           1743,
           1774,
           930,
           1423,
           156,
           1026,
           772,
           199,
           1447,
           1298,
           1985,
           1273,
           479,
           449,
           175,
           621,
           828,
           1768,
           399,
           195,
           65,
           719,
           200,
           365,
           255,
           513,
           390,
           391,
           103,
           303,
           617,
           92,
           384,
           435,
           134,
           763,
           517,
           223,
           256,
           215,
           125,
           47,
           51,
           62,
           49,
           171,
           331,
           199,
           119,
           157,
           66,
           188,
           70,
           155,
           59,
           210,
           107,
           83,
           19,
           59,
           600,
           137,
           84,
           123,
           46,
           58,
           60,
           58,
           93,
           39,
           55,
           11,
           88,
           27,
           15,
           124,
           29,
           47,
           125,
           81,
           63,
           15,
           5,
           29,
           27,
           38,
           10,
           67,
           508,
           51,
           22,
           64,
           37,
           32,
           11,
           78,
           5,
           19,
           17,
           54,
           69,
           22,
           48,
           12,
           9,
           52,
           76,
           16,
           15,
           2,
           14,
           10,
           23,
           13,
           42,
           5,
           47,
           22,
           21,
           7,
           7,
           1,
           6,
           10,
           24,
           null,
           null,
           14,
           15,
           null,
           3,
           null,
           8,
           1,
           null,
           3,
           16,
           9,
           3,
           7,
           2,
           null,
           4,
           null,
           3,
           1,
           2,
           null,
           null,
           3,
           null,
           1,
           1,
           null,
           null,
           null,
           null,
           null,
           null,
           null,
           null,
           1,
           null,
           null,
           null,
           1
          ],
          "coloraxis": "coloraxis"
         },
         "name": "",
         "offsetgroup": "",
         "orientation": "h",
         "showlegend": false,
         "textposition": "auto",
         "type": "bar",
         "x": [
          162804,
          98644,
          41638,
          14606,
          9604,
          50517,
          20424,
          9889,
          11939,
          28500,
          17976,
          46413,
          3055,
          6035,
          3306,
          35187,
          5798,
          4251,
          9252,
          30312,
          5161,
          2150,
          5521,
          8966,
          178,
          1058,
          4951,
          5877,
          3465,
          5766,
          492,
          576,
          1819,
          1246,
          1574,
          9859,
          469,
          580,
          354,
          2566,
          6153,
          27,
          2119,
          1743,
          1774,
          930,
          1423,
          156,
          1026,
          772,
          199,
          1447,
          1298,
          1985,
          1273,
          479,
          449,
          175,
          621,
          828,
          1768,
          399,
          195,
          65,
          719,
          200,
          365,
          255,
          513,
          390,
          391,
          103,
          303,
          617,
          92,
          384,
          435,
          134,
          763,
          517,
          223,
          256,
          215,
          125,
          47,
          51,
          62,
          49,
          171,
          331,
          199,
          119,
          157,
          66,
          188,
          70,
          155,
          59,
          210,
          107,
          83,
          19,
          59,
          600,
          137,
          84,
          123,
          46,
          58,
          60,
          58,
          93,
          39,
          55,
          11,
          88,
          27,
          15,
          124,
          29,
          47,
          125,
          81,
          63,
          15,
          5,
          29,
          27,
          38,
          10,
          67,
          508,
          51,
          22,
          64,
          37,
          32,
          11,
          78,
          5,
          19,
          17,
          54,
          69,
          22,
          48,
          12,
          9,
          52,
          76,
          16,
          15,
          2,
          14,
          10,
          23,
          13,
          42,
          5,
          47,
          22,
          21,
          7,
          7,
          1,
          6,
          10,
          24,
          null,
          null,
          14,
          15,
          null,
          3,
          null,
          8,
          1,
          null,
          3,
          16,
          9,
          3,
          7,
          2,
          null,
          4,
          null,
          3,
          1,
          2,
          null,
          null,
          3,
          null,
          1,
          1,
          null,
          null,
          null,
          null,
          null,
          null,
          null,
          null,
          1,
          null,
          null,
          null,
          1
         ],
         "xaxis": "x",
         "y": [
          "North America",
          "South America",
          "Asia",
          "Europe",
          "Africa",
          "North America",
          "South America",
          "South America",
          "South America",
          "Europe",
          "Asia",
          "Europe",
          "Asia",
          "Asia",
          "Asia",
          "Europe",
          "Asia",
          "South America",
          "Europe",
          "Europe",
          "Asia",
          "Asia",
          "Asia",
          "North America",
          "Asia",
          "Asia",
          "Africa",
          "South America",
          "South America",
          "Europe",
          "Asia",
          "Asia",
          "Europe",
          "North America",
          "North America",
          "Europe",
          "Asia",
          "Europe",
          "Asia",
          "Europe",
          "Europe",
          "Asia",
          "North America",
          "Europe",
          "Europe",
          "Africa",
          "North America",
          "Asia",
          "Asia",
          "Asia",
          "Africa",
          "Asia",
          "Asia",
          "Europe",
          "Africa",
          "Asia",
          "Africa",
          "Asia",
          "Europe",
          "Europe",
          "Europe",
          "Africa",
          "South America",
          "Asia",
          "Europe",
          "North America",
          "Africa",
          "Australia/Oceania",
          "North America",
          "Europe",
          "Africa",
          "Africa",
          "Asia",
          "Europe",
          "Asia",
          "Europe",
          "Europe",
          "Africa",
          "Africa",
          "Europe",
          "Africa",
          "Europe",
          "Africa",
          "Asia",
          "South America",
          "Africa",
          "Asia",
          "Africa",
          "North America",
          "Europe",
          "Africa",
          "Europe",
          "Africa",
          "South America",
          "Europe",
          "Asia",
          "Europe",
          "Africa",
          "Europe",
          "Africa",
          "Africa",
          "Asia",
          "Africa",
          "Europe",
          "Africa",
          "Africa",
          "North America",
          "Asia",
          "Africa",
          "Europe",
          "Asia",
          "Africa",
          "Africa",
          "Africa",
          "Asia",
          "North America",
          "Africa",
          "Africa",
          "Africa",
          "Europe",
          "Africa",
          "Europe",
          "Europe",
          "Europe",
          "Africa",
          "Africa",
          "South America",
          "Africa",
          "Africa",
          "Europe",
          "Africa",
          "Asia",
          "Africa",
          "Australia/Oceania",
          "Africa",
          "South America",
          "Europe",
          "Asia",
          "Africa",
          "Africa",
          "Asia",
          "Asia",
          "Africa",
          "Africa",
          "Africa",
          "Asia",
          "North America",
          "Europe",
          "Europe",
          "Africa",
          "Africa",
          "Africa",
          "Africa",
          "North America",
          "Asia",
          "Africa",
          null,
          "Europe",
          "Africa",
          "Europe",
          "South America",
          "Africa",
          "Asia",
          "Africa",
          "Africa",
          "Asia",
          "Africa",
          "Europe",
          "Asia",
          "Africa",
          "North America",
          "North America",
          "Europe",
          "North America",
          "Asia",
          "North America",
          "North America",
          "Europe",
          "Australia/Oceania",
          "North America",
          "North America",
          "Asia",
          "North America",
          "North America",
          "Africa",
          "Europe",
          "Asia",
          "North America",
          "Europe",
          "North America",
          "Australia/Oceania",
          "North America",
          "North America",
          "Asia",
          "North America",
          "Australia/Oceania",
          "North America",
          "Asia",
          "North America",
          "Australia/Oceania",
          "Asia",
          "North America",
          "North America",
          "North America",
          "North America",
          "North America",
          "South America",
          "Europe",
          "Africa"
         ],
         "yaxis": "y"
        }
       ],
       "layout": {
        "barmode": "relative",
        "coloraxis": {
         "colorbar": {
          "title": {
           "text": "TotalDeaths"
          }
         },
         "colorscale": [
          [
           0,
           "#0d0887"
          ],
          [
           0.1111111111111111,
           "#46039f"
          ],
          [
           0.2222222222222222,
           "#7201a8"
          ],
          [
           0.3333333333333333,
           "#9c179e"
          ],
          [
           0.4444444444444444,
           "#bd3786"
          ],
          [
           0.5555555555555556,
           "#d8576b"
          ],
          [
           0.6666666666666666,
           "#ed7953"
          ],
          [
           0.7777777777777778,
           "#fb9f3a"
          ],
          [
           0.8888888888888888,
           "#fdca26"
          ],
          [
           1,
           "#f0f921"
          ]
         ]
        },
        "height": 400,
        "legend": {
         "tracegroupgap": 0
        },
        "margin": {
         "t": 60
        },
        "template": {
         "data": {
          "bar": [
           {
            "error_x": {
             "color": "#2a3f5f"
            },
            "error_y": {
             "color": "#2a3f5f"
            },
            "marker": {
             "line": {
              "color": "#E5ECF6",
              "width": 0.5
             }
            },
            "type": "bar"
           }
          ],
          "barpolar": [
           {
            "marker": {
             "line": {
              "color": "#E5ECF6",
              "width": 0.5
             }
            },
            "type": "barpolar"
           }
          ],
          "carpet": [
           {
            "aaxis": {
             "endlinecolor": "#2a3f5f",
             "gridcolor": "white",
             "linecolor": "white",
             "minorgridcolor": "white",
             "startlinecolor": "#2a3f5f"
            },
            "baxis": {
             "endlinecolor": "#2a3f5f",
             "gridcolor": "white",
             "linecolor": "white",
             "minorgridcolor": "white",
             "startlinecolor": "#2a3f5f"
            },
            "type": "carpet"
           }
          ],
          "choropleth": [
           {
            "colorbar": {
             "outlinewidth": 0,
             "ticks": ""
            },
            "type": "choropleth"
           }
          ],
          "contour": [
           {
            "colorbar": {
             "outlinewidth": 0,
             "ticks": ""
            },
            "colorscale": [
             [
              0,
              "#0d0887"
             ],
             [
              0.1111111111111111,
              "#46039f"
             ],
             [
              0.2222222222222222,
              "#7201a8"
             ],
             [
              0.3333333333333333,
              "#9c179e"
             ],
             [
              0.4444444444444444,
              "#bd3786"
             ],
             [
              0.5555555555555556,
              "#d8576b"
             ],
             [
              0.6666666666666666,
              "#ed7953"
             ],
             [
              0.7777777777777778,
              "#fb9f3a"
             ],
             [
              0.8888888888888888,
              "#fdca26"
             ],
             [
              1,
              "#f0f921"
             ]
            ],
            "type": "contour"
           }
          ],
          "contourcarpet": [
           {
            "colorbar": {
             "outlinewidth": 0,
             "ticks": ""
            },
            "type": "contourcarpet"
           }
          ],
          "heatmap": [
           {
            "colorbar": {
             "outlinewidth": 0,
             "ticks": ""
            },
            "colorscale": [
             [
              0,
              "#0d0887"
             ],
             [
              0.1111111111111111,
              "#46039f"
             ],
             [
              0.2222222222222222,
              "#7201a8"
             ],
             [
              0.3333333333333333,
              "#9c179e"
             ],
             [
              0.4444444444444444,
              "#bd3786"
             ],
             [
              0.5555555555555556,
              "#d8576b"
             ],
             [
              0.6666666666666666,
              "#ed7953"
             ],
             [
              0.7777777777777778,
              "#fb9f3a"
             ],
             [
              0.8888888888888888,
              "#fdca26"
             ],
             [
              1,
              "#f0f921"
             ]
            ],
            "type": "heatmap"
           }
          ],
          "heatmapgl": [
           {
            "colorbar": {
             "outlinewidth": 0,
             "ticks": ""
            },
            "colorscale": [
             [
              0,
              "#0d0887"
             ],
             [
              0.1111111111111111,
              "#46039f"
             ],
             [
              0.2222222222222222,
              "#7201a8"
             ],
             [
              0.3333333333333333,
              "#9c179e"
             ],
             [
              0.4444444444444444,
              "#bd3786"
             ],
             [
              0.5555555555555556,
              "#d8576b"
             ],
             [
              0.6666666666666666,
              "#ed7953"
             ],
             [
              0.7777777777777778,
              "#fb9f3a"
             ],
             [
              0.8888888888888888,
              "#fdca26"
             ],
             [
              1,
              "#f0f921"
             ]
            ],
            "type": "heatmapgl"
           }
          ],
          "histogram": [
           {
            "marker": {
             "colorbar": {
              "outlinewidth": 0,
              "ticks": ""
             }
            },
            "type": "histogram"
           }
          ],
          "histogram2d": [
           {
            "colorbar": {
             "outlinewidth": 0,
             "ticks": ""
            },
            "colorscale": [
             [
              0,
              "#0d0887"
             ],
             [
              0.1111111111111111,
              "#46039f"
             ],
             [
              0.2222222222222222,
              "#7201a8"
             ],
             [
              0.3333333333333333,
              "#9c179e"
             ],
             [
              0.4444444444444444,
              "#bd3786"
             ],
             [
              0.5555555555555556,
              "#d8576b"
             ],
             [
              0.6666666666666666,
              "#ed7953"
             ],
             [
              0.7777777777777778,
              "#fb9f3a"
             ],
             [
              0.8888888888888888,
              "#fdca26"
             ],
             [
              1,
              "#f0f921"
             ]
            ],
            "type": "histogram2d"
           }
          ],
          "histogram2dcontour": [
           {
            "colorbar": {
             "outlinewidth": 0,
             "ticks": ""
            },
            "colorscale": [
             [
              0,
              "#0d0887"
             ],
             [
              0.1111111111111111,
              "#46039f"
             ],
             [
              0.2222222222222222,
              "#7201a8"
             ],
             [
              0.3333333333333333,
              "#9c179e"
             ],
             [
              0.4444444444444444,
              "#bd3786"
             ],
             [
              0.5555555555555556,
              "#d8576b"
             ],
             [
              0.6666666666666666,
              "#ed7953"
             ],
             [
              0.7777777777777778,
              "#fb9f3a"
             ],
             [
              0.8888888888888888,
              "#fdca26"
             ],
             [
              1,
              "#f0f921"
             ]
            ],
            "type": "histogram2dcontour"
           }
          ],
          "mesh3d": [
           {
            "colorbar": {
             "outlinewidth": 0,
             "ticks": ""
            },
            "type": "mesh3d"
           }
          ],
          "parcoords": [
           {
            "line": {
             "colorbar": {
              "outlinewidth": 0,
              "ticks": ""
             }
            },
            "type": "parcoords"
           }
          ],
          "pie": [
           {
            "automargin": true,
            "type": "pie"
           }
          ],
          "scatter": [
           {
            "marker": {
             "colorbar": {
              "outlinewidth": 0,
              "ticks": ""
             }
            },
            "type": "scatter"
           }
          ],
          "scatter3d": [
           {
            "line": {
             "colorbar": {
              "outlinewidth": 0,
              "ticks": ""
             }
            },
            "marker": {
             "colorbar": {
              "outlinewidth": 0,
              "ticks": ""
             }
            },
            "type": "scatter3d"
           }
          ],
          "scattercarpet": [
           {
            "marker": {
             "colorbar": {
              "outlinewidth": 0,
              "ticks": ""
             }
            },
            "type": "scattercarpet"
           }
          ],
          "scattergeo": [
           {
            "marker": {
             "colorbar": {
              "outlinewidth": 0,
              "ticks": ""
             }
            },
            "type": "scattergeo"
           }
          ],
          "scattergl": [
           {
            "marker": {
             "colorbar": {
              "outlinewidth": 0,
              "ticks": ""
             }
            },
            "type": "scattergl"
           }
          ],
          "scattermapbox": [
           {
            "marker": {
             "colorbar": {
              "outlinewidth": 0,
              "ticks": ""
             }
            },
            "type": "scattermapbox"
           }
          ],
          "scatterpolar": [
           {
            "marker": {
             "colorbar": {
              "outlinewidth": 0,
              "ticks": ""
             }
            },
            "type": "scatterpolar"
           }
          ],
          "scatterpolargl": [
           {
            "marker": {
             "colorbar": {
              "outlinewidth": 0,
              "ticks": ""
             }
            },
            "type": "scatterpolargl"
           }
          ],
          "scatterternary": [
           {
            "marker": {
             "colorbar": {
              "outlinewidth": 0,
              "ticks": ""
             }
            },
            "type": "scatterternary"
           }
          ],
          "surface": [
           {
            "colorbar": {
             "outlinewidth": 0,
             "ticks": ""
            },
            "colorscale": [
             [
              0,
              "#0d0887"
             ],
             [
              0.1111111111111111,
              "#46039f"
             ],
             [
              0.2222222222222222,
              "#7201a8"
             ],
             [
              0.3333333333333333,
              "#9c179e"
             ],
             [
              0.4444444444444444,
              "#bd3786"
             ],
             [
              0.5555555555555556,
              "#d8576b"
             ],
             [
              0.6666666666666666,
              "#ed7953"
             ],
             [
              0.7777777777777778,
              "#fb9f3a"
             ],
             [
              0.8888888888888888,
              "#fdca26"
             ],
             [
              1,
              "#f0f921"
             ]
            ],
            "type": "surface"
           }
          ],
          "table": [
           {
            "cells": {
             "fill": {
              "color": "#EBF0F8"
             },
             "line": {
              "color": "white"
             }
            },
            "header": {
             "fill": {
              "color": "#C8D4E3"
             },
             "line": {
              "color": "white"
             }
            },
            "type": "table"
           }
          ]
         },
         "layout": {
          "annotationdefaults": {
           "arrowcolor": "#2a3f5f",
           "arrowhead": 0,
           "arrowwidth": 1
          },
          "coloraxis": {
           "colorbar": {
            "outlinewidth": 0,
            "ticks": ""
           }
          },
          "colorscale": {
           "diverging": [
            [
             0,
             "#8e0152"
            ],
            [
             0.1,
             "#c51b7d"
            ],
            [
             0.2,
             "#de77ae"
            ],
            [
             0.3,
             "#f1b6da"
            ],
            [
             0.4,
             "#fde0ef"
            ],
            [
             0.5,
             "#f7f7f7"
            ],
            [
             0.6,
             "#e6f5d0"
            ],
            [
             0.7,
             "#b8e186"
            ],
            [
             0.8,
             "#7fbc41"
            ],
            [
             0.9,
             "#4d9221"
            ],
            [
             1,
             "#276419"
            ]
           ],
           "sequential": [
            [
             0,
             "#0d0887"
            ],
            [
             0.1111111111111111,
             "#46039f"
            ],
            [
             0.2222222222222222,
             "#7201a8"
            ],
            [
             0.3333333333333333,
             "#9c179e"
            ],
            [
             0.4444444444444444,
             "#bd3786"
            ],
            [
             0.5555555555555556,
             "#d8576b"
            ],
            [
             0.6666666666666666,
             "#ed7953"
            ],
            [
             0.7777777777777778,
             "#fb9f3a"
            ],
            [
             0.8888888888888888,
             "#fdca26"
            ],
            [
             1,
             "#f0f921"
            ]
           ],
           "sequentialminus": [
            [
             0,
             "#0d0887"
            ],
            [
             0.1111111111111111,
             "#46039f"
            ],
            [
             0.2222222222222222,
             "#7201a8"
            ],
            [
             0.3333333333333333,
             "#9c179e"
            ],
            [
             0.4444444444444444,
             "#bd3786"
            ],
            [
             0.5555555555555556,
             "#d8576b"
            ],
            [
             0.6666666666666666,
             "#ed7953"
            ],
            [
             0.7777777777777778,
             "#fb9f3a"
            ],
            [
             0.8888888888888888,
             "#fdca26"
            ],
            [
             1,
             "#f0f921"
            ]
           ]
          },
          "colorway": [
           "#636efa",
           "#EF553B",
           "#00cc96",
           "#ab63fa",
           "#FFA15A",
           "#19d3f3",
           "#FF6692",
           "#B6E880",
           "#FF97FF",
           "#FECB52"
          ],
          "font": {
           "color": "#2a3f5f"
          },
          "geo": {
           "bgcolor": "white",
           "lakecolor": "white",
           "landcolor": "#E5ECF6",
           "showlakes": true,
           "showland": true,
           "subunitcolor": "white"
          },
          "hoverlabel": {
           "align": "left"
          },
          "hovermode": "closest",
          "mapbox": {
           "style": "light"
          },
          "paper_bgcolor": "white",
          "plot_bgcolor": "#E5ECF6",
          "polar": {
           "angularaxis": {
            "gridcolor": "white",
            "linecolor": "white",
            "ticks": ""
           },
           "bgcolor": "#E5ECF6",
           "radialaxis": {
            "gridcolor": "white",
            "linecolor": "white",
            "ticks": ""
           }
          },
          "scene": {
           "xaxis": {
            "backgroundcolor": "#E5ECF6",
            "gridcolor": "white",
            "gridwidth": 2,
            "linecolor": "white",
            "showbackground": true,
            "ticks": "",
            "zerolinecolor": "white"
           },
           "yaxis": {
            "backgroundcolor": "#E5ECF6",
            "gridcolor": "white",
            "gridwidth": 2,
            "linecolor": "white",
            "showbackground": true,
            "ticks": "",
            "zerolinecolor": "white"
           },
           "zaxis": {
            "backgroundcolor": "#E5ECF6",
            "gridcolor": "white",
            "gridwidth": 2,
            "linecolor": "white",
            "showbackground": true,
            "ticks": "",
            "zerolinecolor": "white"
           }
          },
          "shapedefaults": {
           "line": {
            "color": "#2a3f5f"
           }
          },
          "ternary": {
           "aaxis": {
            "gridcolor": "white",
            "linecolor": "white",
            "ticks": ""
           },
           "baxis": {
            "gridcolor": "white",
            "linecolor": "white",
            "ticks": ""
           },
           "bgcolor": "#E5ECF6",
           "caxis": {
            "gridcolor": "white",
            "linecolor": "white",
            "ticks": ""
           }
          },
          "title": {
           "x": 0.05
          },
          "xaxis": {
           "automargin": true,
           "gridcolor": "white",
           "linecolor": "white",
           "ticks": "",
           "title": {
            "standoff": 15
           },
           "zerolinecolor": "white",
           "zerolinewidth": 2
          },
          "yaxis": {
           "automargin": true,
           "gridcolor": "white",
           "linecolor": "white",
           "ticks": "",
           "title": {
            "standoff": 15
           },
           "zerolinecolor": "white",
           "zerolinewidth": 2
          }
         }
        },
        "xaxis": {
         "anchor": "y",
         "domain": [
          0,
          1
         ],
         "title": {
          "text": "TotalDeaths"
         }
        },
        "yaxis": {
         "anchor": "x",
         "domain": [
          0,
          1
         ],
         "title": {
          "text": "Continent"
         }
        }
       }
      },
      "text/html": [
       "<div>                            <div id=\"a36e98d7-ee7e-4ade-910c-bf0935b45514\" class=\"plotly-graph-div\" style=\"height:400px; width:100%;\"></div>            <script type=\"text/javascript\">                require([\"plotly\"], function(Plotly) {                    window.PLOTLYENV=window.PLOTLYENV || {};                                    if (document.getElementById(\"a36e98d7-ee7e-4ade-910c-bf0935b45514\")) {                    Plotly.newPlot(                        \"a36e98d7-ee7e-4ade-910c-bf0935b45514\",                        [{\"alignmentgroup\": \"True\", \"customdata\": [[\"USA\", \"North America\"], [\"Brazil\", \"South America\"], [\"India\", \"Asia\"], [\"Russia\", \"Europe\"], [\"South Africa\", \"Africa\"], [\"Mexico\", \"North America\"], [\"Peru\", \"South America\"], [\"Chile\", \"South America\"], [\"Colombia\", \"South America\"], [\"Spain\", \"Europe\"], [\"Iran\", \"Asia\"], [\"UK\", \"Europe\"], [\"Saudi Arabia\", \"Asia\"], [\"Pakistan\", \"Asia\"], [\"Bangladesh\", \"Asia\"], [\"Italy\", \"Europe\"], [\"Turkey\", \"Asia\"], [\"Argentina\", \"South America\"], [\"Germany\", \"Europe\"], [\"France\", \"Europe\"], [\"Iraq\", \"Asia\"], [\"Philippines\", \"Asia\"], [\"Indonesia\", \"Asia\"], [\"Canada\", \"North America\"], [\"Qatar\", \"Asia\"], [\"Kazakhstan\", \"Asia\"], [\"Egypt\", \"Africa\"], [\"Ecuador\", \"South America\"], [\"Bolivia\", \"South America\"], [\"Sweden\", \"Europe\"], [\"Oman\", \"Asia\"], [\"Israel\", \"Asia\"], [\"Ukraine\", \"Europe\"], [\"Dominican Republic\", \"North America\"], [\"Panama\", \"North America\"], [\"Belgium\", \"Europe\"], [\"Kuwait\", \"Asia\"], [\"Belarus\", \"Europe\"], [\"UAE\", \"Asia\"], [\"Romania\", \"Europe\"], [\"Netherlands\", \"Europe\"], [\"Singapore\", \"Asia\"], [\"Guatemala\", \"North America\"], [\"Portugal\", \"Europe\"], [\"Poland\", \"Europe\"], [\"Nigeria\", \"Africa\"], [\"Honduras\", \"North America\"], [\"Bahrain\", \"Asia\"], [\"Japan\", \"Asia\"], [\"Armenia\", \"Asia\"], [\"Ghana\", \"Africa\"], [\"Kyrgyzstan\", \"Asia\"], [\"Afghanistan\", \"Asia\"], [\"Switzerland\", \"Europe\"], [\"Algeria\", \"Africa\"], [\"Azerbaijan\", \"Asia\"], [\"Morocco\", \"Africa\"], [\"Uzbekistan\", \"Asia\"], [\"Serbia\", \"Europe\"], [\"Moldova\", \"Europe\"], [\"Ireland\", \"Europe\"], [\"Kenya\", \"Africa\"], [\"Venezuela\", \"South America\"], [\"Nepal\", \"Asia\"], [\"Austria\", \"Europe\"], [\"Costa Rica\", \"North America\"], [\"Ethiopia\", \"Africa\"], [\"Australia\", \"Australia/Oceania\"], [\"El Salvador\", \"North America\"], [\"Czechia\", \"Europe\"], [\"Cameroon\", \"Africa\"], [\"Ivory Coast\", \"Africa\"], [\"S. Korea\", \"Asia\"], [\"Denmark\", \"Europe\"], [\"Palestine\", \"Asia\"], [\"Bosnia and Herzegovina\", \"Europe\"], [\"Bulgaria\", \"Europe\"], [\"Madagascar\", \"Africa\"], [\"Sudan\", \"Africa\"], [\"North Macedonia\", \"Europe\"], [\"Senegal\", \"Africa\"], [\"Norway\", \"Europe\"], [\"DRC\", \"Africa\"], [\"Malaysia\", \"Asia\"], [\"French Guiana\", \"South America\"], [\"Gabon\", \"Africa\"], [\"Tajikistan\", \"Asia\"], [\"Guinea\", \"Africa\"], [\"Haiti\", \"North America\"], [\"Finland\", \"Europe\"], [\"Zambia\", \"Africa\"], [\"Luxembourg\", \"Europe\"], [\"Mauritania\", \"Africa\"], [\"Paraguay\", \"South America\"], [\"Albania\", \"Europe\"], [\"Lebanon\", \"Asia\"], [\"Croatia\", \"Europe\"], [\"Djibouti\", \"Africa\"], [\"Greece\", \"Europe\"], [\"Libya\", \"Africa\"], [\"Equatorial Guinea\", \"Africa\"], [\"Maldives\", \"Asia\"], [\"CAR\", \"Africa\"], [\"Hungary\", \"Europe\"], [\"Malawi\", \"Africa\"], [\"Zimbabwe\", \"Africa\"], [\"Nicaragua\", \"North America\"], [\"Hong Kong\", \"Asia\"], [\"Congo\", \"Africa\"], [\"Montenegro\", \"Europe\"], [\"Thailand\", \"Asia\"], [\"Somalia\", \"Africa\"], [\"Mayotte\", \"Africa\"], [\"Eswatini\", \"Africa\"], [\"Sri Lanka\", \"Asia\"], [\"Cuba\", \"North America\"], [\"Cabo Verde\", \"Africa\"], [\"Namibia\", \"Africa\"], [\"Mali\", \"Africa\"], [\"Slovakia\", \"Europe\"], [\"South Sudan\", \"Africa\"], [\"Slovenia\", \"Europe\"], [\"Lithuania\", \"Europe\"], [\"Estonia\", \"Europe\"], [\"Mozambique\", \"Africa\"], [\"Rwanda\", \"Africa\"], [\"Suriname\", \"South America\"], [\"Guinea-Bissau\", \"Africa\"], [\"Benin\", \"Africa\"], [\"Iceland\", \"Europe\"], [\"Sierra Leone\", \"Africa\"], [\"Yemen\", \"Asia\"], [\"Tunisia\", \"Africa\"], [\"New Zealand\", \"Australia/Oceania\"], [\"Angola\", \"Africa\"], [\"Uruguay\", \"South America\"], [\"Latvia\", \"Europe\"], [\"Jordan\", \"Asia\"], [\"Liberia\", \"Africa\"], [\"Uganda\", \"Africa\"], [\"Cyprus\", \"Asia\"], [\"Georgia\", \"Asia\"], [\"Burkina Faso\", \"Africa\"], [\"Niger\", \"Africa\"], [\"Togo\", \"Africa\"], [\"Syria\", \"Asia\"], [\"Jamaica\", \"North America\"], [\"Malta\", \"Europe\"], [\"Andorra\", \"Europe\"], [\"Chad\", \"Africa\"], [\"Gambia\", \"Africa\"], [\"Sao Tome and Principe\", \"Africa\"], [\"Botswana\", \"Africa\"], [\"Bahamas\", \"North America\"], [\"Vietnam\", \"Asia\"], [\"Lesotho\", \"Africa\"], [\"Diamond Princess\", null], [\"San Marino\", \"Europe\"], [\"R\\u00e9union\", \"Africa\"], [\"Channel Islands\", \"Europe\"], [\"Guyana\", \"South America\"], [\"Tanzania\", \"Africa\"], [\"Taiwan\", \"Asia\"], [\"Comoros\", \"Africa\"], [\"Burundi\", \"Africa\"], [\"Myanmar\", \"Asia\"], [\"Mauritius\", \"Africa\"], [\"Isle of Man\", \"Europe\"], [\"Mongolia\", \"Asia\"], [\"Eritrea\", \"Africa\"], [\"Guadeloupe\", \"North America\"], [\"Martinique\", \"North America\"], [\"Faeroe Islands\", \"Europe\"], [\"Aruba\", \"North America\"], [\"Cambodia\", \"Asia\"], [\"Trinidad and Tobago\", \"North America\"], [\"Cayman Islands\", \"North America\"], [\"Gibraltar\", \"Europe\"], [\"Papua New Guinea\", \"Australia/Oceania\"], [\"Sint Maarten\", \"North America\"], [\"Bermuda\", \"North America\"], [\"Brunei \", \"Asia\"], [\"Barbados\", \"North America\"], [\"Turks and Caicos\", \"North America\"], [\"Seychelles\", \"Africa\"], [\"Monaco\", \"Europe\"], [\"Bhutan\", \"Asia\"], [\"Antigua and Barbuda\", \"North America\"], [\"Liechtenstein\", \"Europe\"], [\"Belize\", \"North America\"], [\"French Polynesia\", \"Australia/Oceania\"], [\"St. Vincent Grenadines\", \"North America\"], [\"Saint Martin\", \"North America\"], [\"Macao\", \"Asia\"], [\"Cura\\u00e7ao\", \"North America\"], [\"Fiji\", \"Australia/Oceania\"], [\"Saint Lucia\", \"North America\"], [\"Timor-Leste\", \"Asia\"], [\"Grenada\", \"North America\"], [\"New Caledonia\", \"Australia/Oceania\"], [\"Laos\", \"Asia\"], [\"Dominica\", \"North America\"], [\"Saint Kitts and Nevis\", \"North America\"], [\"Greenland\", \"North America\"], [\"Montserrat\", \"North America\"], [\"Caribbean Netherlands\", \"North America\"], [\"Falkland Islands\", \"South America\"], [\"Vatican City\", \"Europe\"], [\"Western Sahara\", \"Africa\"]], \"hovertemplate\": \"TotalDeaths=%{marker.color}<br>Continent=%{customdata[1]}<br>Country/Region=%{customdata[0]}<extra></extra>\", \"legendgroup\": \"\", \"marker\": {\"color\": [162804.0, 98644.0, 41638.0, 14606.0, 9604.0, 50517.0, 20424.0, 9889.0, 11939.0, 28500.0, 17976.0, 46413.0, 3055.0, 6035.0, 3306.0, 35187.0, 5798.0, 4251.0, 9252.0, 30312.0, 5161.0, 2150.0, 5521.0, 8966.0, 178.0, 1058.0, 4951.0, 5877.0, 3465.0, 5766.0, 492.0, 576.0, 1819.0, 1246.0, 1574.0, 9859.0, 469.0, 580.0, 354.0, 2566.0, 6153.0, 27.0, 2119.0, 1743.0, 1774.0, 930.0, 1423.0, 156.0, 1026.0, 772.0, 199.0, 1447.0, 1298.0, 1985.0, 1273.0, 479.0, 449.0, 175.0, 621.0, 828.0, 1768.0, 399.0, 195.0, 65.0, 719.0, 200.0, 365.0, 255.0, 513.0, 390.0, 391.0, 103.0, 303.0, 617.0, 92.0, 384.0, 435.0, 134.0, 763.0, 517.0, 223.0, 256.0, 215.0, 125.0, 47.0, 51.0, 62.0, 49.0, 171.0, 331.0, 199.0, 119.0, 157.0, 66.0, 188.0, 70.0, 155.0, 59.0, 210.0, 107.0, 83.0, 19.0, 59.0, 600.0, 137.0, 84.0, 123.0, 46.0, 58.0, 60.0, 58.0, 93.0, 39.0, 55.0, 11.0, 88.0, 27.0, 15.0, 124.0, 29.0, 47.0, 125.0, 81.0, 63.0, 15.0, 5.0, 29.0, 27.0, 38.0, 10.0, 67.0, 508.0, 51.0, 22.0, 64.0, 37.0, 32.0, 11.0, 78.0, 5.0, 19.0, 17.0, 54.0, 69.0, 22.0, 48.0, 12.0, 9.0, 52.0, 76.0, 16.0, 15.0, 2.0, 14.0, 10.0, 23.0, 13.0, 42.0, 5.0, 47.0, 22.0, 21.0, 7.0, 7.0, 1.0, 6.0, 10.0, 24.0, null, null, 14.0, 15.0, null, 3.0, null, 8.0, 1.0, null, 3.0, 16.0, 9.0, 3.0, 7.0, 2.0, null, 4.0, null, 3.0, 1.0, 2.0, null, null, 3.0, null, 1.0, 1.0, null, null, null, null, null, null, null, null, 1.0, null, null, null, 1.0], \"coloraxis\": \"coloraxis\"}, \"name\": \"\", \"offsetgroup\": \"\", \"orientation\": \"h\", \"showlegend\": false, \"textposition\": \"auto\", \"type\": \"bar\", \"x\": [162804.0, 98644.0, 41638.0, 14606.0, 9604.0, 50517.0, 20424.0, 9889.0, 11939.0, 28500.0, 17976.0, 46413.0, 3055.0, 6035.0, 3306.0, 35187.0, 5798.0, 4251.0, 9252.0, 30312.0, 5161.0, 2150.0, 5521.0, 8966.0, 178.0, 1058.0, 4951.0, 5877.0, 3465.0, 5766.0, 492.0, 576.0, 1819.0, 1246.0, 1574.0, 9859.0, 469.0, 580.0, 354.0, 2566.0, 6153.0, 27.0, 2119.0, 1743.0, 1774.0, 930.0, 1423.0, 156.0, 1026.0, 772.0, 199.0, 1447.0, 1298.0, 1985.0, 1273.0, 479.0, 449.0, 175.0, 621.0, 828.0, 1768.0, 399.0, 195.0, 65.0, 719.0, 200.0, 365.0, 255.0, 513.0, 390.0, 391.0, 103.0, 303.0, 617.0, 92.0, 384.0, 435.0, 134.0, 763.0, 517.0, 223.0, 256.0, 215.0, 125.0, 47.0, 51.0, 62.0, 49.0, 171.0, 331.0, 199.0, 119.0, 157.0, 66.0, 188.0, 70.0, 155.0, 59.0, 210.0, 107.0, 83.0, 19.0, 59.0, 600.0, 137.0, 84.0, 123.0, 46.0, 58.0, 60.0, 58.0, 93.0, 39.0, 55.0, 11.0, 88.0, 27.0, 15.0, 124.0, 29.0, 47.0, 125.0, 81.0, 63.0, 15.0, 5.0, 29.0, 27.0, 38.0, 10.0, 67.0, 508.0, 51.0, 22.0, 64.0, 37.0, 32.0, 11.0, 78.0, 5.0, 19.0, 17.0, 54.0, 69.0, 22.0, 48.0, 12.0, 9.0, 52.0, 76.0, 16.0, 15.0, 2.0, 14.0, 10.0, 23.0, 13.0, 42.0, 5.0, 47.0, 22.0, 21.0, 7.0, 7.0, 1.0, 6.0, 10.0, 24.0, null, null, 14.0, 15.0, null, 3.0, null, 8.0, 1.0, null, 3.0, 16.0, 9.0, 3.0, 7.0, 2.0, null, 4.0, null, 3.0, 1.0, 2.0, null, null, 3.0, null, 1.0, 1.0, null, null, null, null, null, null, null, null, 1.0, null, null, null, 1.0], \"xaxis\": \"x\", \"y\": [\"North America\", \"South America\", \"Asia\", \"Europe\", \"Africa\", \"North America\", \"South America\", \"South America\", \"South America\", \"Europe\", \"Asia\", \"Europe\", \"Asia\", \"Asia\", \"Asia\", \"Europe\", \"Asia\", \"South America\", \"Europe\", \"Europe\", \"Asia\", \"Asia\", \"Asia\", \"North America\", \"Asia\", \"Asia\", \"Africa\", \"South America\", \"South America\", \"Europe\", \"Asia\", \"Asia\", \"Europe\", \"North America\", \"North America\", \"Europe\", \"Asia\", \"Europe\", \"Asia\", \"Europe\", \"Europe\", \"Asia\", \"North America\", \"Europe\", \"Europe\", \"Africa\", \"North America\", \"Asia\", \"Asia\", \"Asia\", \"Africa\", \"Asia\", \"Asia\", \"Europe\", \"Africa\", \"Asia\", \"Africa\", \"Asia\", \"Europe\", \"Europe\", \"Europe\", \"Africa\", \"South America\", \"Asia\", \"Europe\", \"North America\", \"Africa\", \"Australia/Oceania\", \"North America\", \"Europe\", \"Africa\", \"Africa\", \"Asia\", \"Europe\", \"Asia\", \"Europe\", \"Europe\", \"Africa\", \"Africa\", \"Europe\", \"Africa\", \"Europe\", \"Africa\", \"Asia\", \"South America\", \"Africa\", \"Asia\", \"Africa\", \"North America\", \"Europe\", \"Africa\", \"Europe\", \"Africa\", \"South America\", \"Europe\", \"Asia\", \"Europe\", \"Africa\", \"Europe\", \"Africa\", \"Africa\", \"Asia\", \"Africa\", \"Europe\", \"Africa\", \"Africa\", \"North America\", \"Asia\", \"Africa\", \"Europe\", \"Asia\", \"Africa\", \"Africa\", \"Africa\", \"Asia\", \"North America\", \"Africa\", \"Africa\", \"Africa\", \"Europe\", \"Africa\", \"Europe\", \"Europe\", \"Europe\", \"Africa\", \"Africa\", \"South America\", \"Africa\", \"Africa\", \"Europe\", \"Africa\", \"Asia\", \"Africa\", \"Australia/Oceania\", \"Africa\", \"South America\", \"Europe\", \"Asia\", \"Africa\", \"Africa\", \"Asia\", \"Asia\", \"Africa\", \"Africa\", \"Africa\", \"Asia\", \"North America\", \"Europe\", \"Europe\", \"Africa\", \"Africa\", \"Africa\", \"Africa\", \"North America\", \"Asia\", \"Africa\", null, \"Europe\", \"Africa\", \"Europe\", \"South America\", \"Africa\", \"Asia\", \"Africa\", \"Africa\", \"Asia\", \"Africa\", \"Europe\", \"Asia\", \"Africa\", \"North America\", \"North America\", \"Europe\", \"North America\", \"Asia\", \"North America\", \"North America\", \"Europe\", \"Australia/Oceania\", \"North America\", \"North America\", \"Asia\", \"North America\", \"North America\", \"Africa\", \"Europe\", \"Asia\", \"North America\", \"Europe\", \"North America\", \"Australia/Oceania\", \"North America\", \"North America\", \"Asia\", \"North America\", \"Australia/Oceania\", \"North America\", \"Asia\", \"North America\", \"Australia/Oceania\", \"Asia\", \"North America\", \"North America\", \"North America\", \"North America\", \"North America\", \"South America\", \"Europe\", \"Africa\"], \"yaxis\": \"y\"}],                        {\"barmode\": \"relative\", \"coloraxis\": {\"colorbar\": {\"title\": {\"text\": \"TotalDeaths\"}}, \"colorscale\": [[0.0, \"#0d0887\"], [0.1111111111111111, \"#46039f\"], [0.2222222222222222, \"#7201a8\"], [0.3333333333333333, \"#9c179e\"], [0.4444444444444444, \"#bd3786\"], [0.5555555555555556, \"#d8576b\"], [0.6666666666666666, \"#ed7953\"], [0.7777777777777778, \"#fb9f3a\"], [0.8888888888888888, \"#fdca26\"], [1.0, \"#f0f921\"]]}, \"height\": 400, \"legend\": {\"tracegroupgap\": 0}, \"margin\": {\"t\": 60}, \"template\": {\"data\": {\"bar\": [{\"error_x\": {\"color\": \"#2a3f5f\"}, \"error_y\": {\"color\": \"#2a3f5f\"}, \"marker\": {\"line\": {\"color\": \"#E5ECF6\", \"width\": 0.5}}, \"type\": \"bar\"}], \"barpolar\": [{\"marker\": {\"line\": {\"color\": \"#E5ECF6\", \"width\": 0.5}}, \"type\": \"barpolar\"}], \"carpet\": [{\"aaxis\": {\"endlinecolor\": \"#2a3f5f\", \"gridcolor\": \"white\", \"linecolor\": \"white\", \"minorgridcolor\": \"white\", \"startlinecolor\": \"#2a3f5f\"}, \"baxis\": {\"endlinecolor\": \"#2a3f5f\", \"gridcolor\": \"white\", \"linecolor\": \"white\", \"minorgridcolor\": \"white\", \"startlinecolor\": \"#2a3f5f\"}, \"type\": \"carpet\"}], \"choropleth\": [{\"colorbar\": {\"outlinewidth\": 0, \"ticks\": \"\"}, \"type\": \"choropleth\"}], \"contour\": [{\"colorbar\": {\"outlinewidth\": 0, \"ticks\": \"\"}, \"colorscale\": [[0.0, \"#0d0887\"], [0.1111111111111111, \"#46039f\"], [0.2222222222222222, \"#7201a8\"], [0.3333333333333333, \"#9c179e\"], [0.4444444444444444, \"#bd3786\"], [0.5555555555555556, \"#d8576b\"], [0.6666666666666666, \"#ed7953\"], [0.7777777777777778, \"#fb9f3a\"], [0.8888888888888888, \"#fdca26\"], [1.0, \"#f0f921\"]], \"type\": \"contour\"}], \"contourcarpet\": [{\"colorbar\": {\"outlinewidth\": 0, \"ticks\": \"\"}, \"type\": \"contourcarpet\"}], \"heatmap\": [{\"colorbar\": {\"outlinewidth\": 0, \"ticks\": \"\"}, \"colorscale\": [[0.0, \"#0d0887\"], [0.1111111111111111, \"#46039f\"], [0.2222222222222222, \"#7201a8\"], [0.3333333333333333, \"#9c179e\"], [0.4444444444444444, \"#bd3786\"], [0.5555555555555556, \"#d8576b\"], [0.6666666666666666, \"#ed7953\"], [0.7777777777777778, \"#fb9f3a\"], [0.8888888888888888, \"#fdca26\"], [1.0, \"#f0f921\"]], \"type\": \"heatmap\"}], \"heatmapgl\": [{\"colorbar\": {\"outlinewidth\": 0, \"ticks\": \"\"}, \"colorscale\": [[0.0, \"#0d0887\"], [0.1111111111111111, \"#46039f\"], [0.2222222222222222, \"#7201a8\"], [0.3333333333333333, \"#9c179e\"], [0.4444444444444444, \"#bd3786\"], [0.5555555555555556, \"#d8576b\"], [0.6666666666666666, \"#ed7953\"], [0.7777777777777778, \"#fb9f3a\"], [0.8888888888888888, \"#fdca26\"], [1.0, \"#f0f921\"]], \"type\": \"heatmapgl\"}], \"histogram\": [{\"marker\": {\"colorbar\": {\"outlinewidth\": 0, \"ticks\": \"\"}}, \"type\": \"histogram\"}], \"histogram2d\": [{\"colorbar\": {\"outlinewidth\": 0, \"ticks\": \"\"}, \"colorscale\": [[0.0, \"#0d0887\"], [0.1111111111111111, \"#46039f\"], [0.2222222222222222, \"#7201a8\"], [0.3333333333333333, \"#9c179e\"], [0.4444444444444444, \"#bd3786\"], [0.5555555555555556, \"#d8576b\"], [0.6666666666666666, \"#ed7953\"], [0.7777777777777778, \"#fb9f3a\"], [0.8888888888888888, \"#fdca26\"], [1.0, \"#f0f921\"]], \"type\": \"histogram2d\"}], \"histogram2dcontour\": [{\"colorbar\": {\"outlinewidth\": 0, \"ticks\": \"\"}, \"colorscale\": [[0.0, \"#0d0887\"], [0.1111111111111111, \"#46039f\"], [0.2222222222222222, \"#7201a8\"], [0.3333333333333333, \"#9c179e\"], [0.4444444444444444, \"#bd3786\"], [0.5555555555555556, \"#d8576b\"], [0.6666666666666666, \"#ed7953\"], [0.7777777777777778, \"#fb9f3a\"], [0.8888888888888888, \"#fdca26\"], [1.0, \"#f0f921\"]], \"type\": \"histogram2dcontour\"}], \"mesh3d\": [{\"colorbar\": {\"outlinewidth\": 0, \"ticks\": \"\"}, \"type\": \"mesh3d\"}], \"parcoords\": [{\"line\": {\"colorbar\": {\"outlinewidth\": 0, \"ticks\": \"\"}}, \"type\": \"parcoords\"}], \"pie\": [{\"automargin\": true, \"type\": \"pie\"}], \"scatter\": [{\"marker\": {\"colorbar\": {\"outlinewidth\": 0, \"ticks\": \"\"}}, \"type\": \"scatter\"}], \"scatter3d\": [{\"line\": {\"colorbar\": {\"outlinewidth\": 0, \"ticks\": \"\"}}, \"marker\": {\"colorbar\": {\"outlinewidth\": 0, \"ticks\": \"\"}}, \"type\": \"scatter3d\"}], \"scattercarpet\": [{\"marker\": {\"colorbar\": {\"outlinewidth\": 0, \"ticks\": \"\"}}, \"type\": \"scattercarpet\"}], \"scattergeo\": [{\"marker\": {\"colorbar\": {\"outlinewidth\": 0, \"ticks\": \"\"}}, \"type\": \"scattergeo\"}], \"scattergl\": [{\"marker\": {\"colorbar\": {\"outlinewidth\": 0, \"ticks\": \"\"}}, \"type\": \"scattergl\"}], \"scattermapbox\": [{\"marker\": {\"colorbar\": {\"outlinewidth\": 0, \"ticks\": \"\"}}, \"type\": \"scattermapbox\"}], \"scatterpolar\": [{\"marker\": {\"colorbar\": {\"outlinewidth\": 0, \"ticks\": \"\"}}, \"type\": \"scatterpolar\"}], \"scatterpolargl\": [{\"marker\": {\"colorbar\": {\"outlinewidth\": 0, \"ticks\": \"\"}}, \"type\": \"scatterpolargl\"}], \"scatterternary\": [{\"marker\": {\"colorbar\": {\"outlinewidth\": 0, \"ticks\": \"\"}}, \"type\": \"scatterternary\"}], \"surface\": [{\"colorbar\": {\"outlinewidth\": 0, \"ticks\": \"\"}, \"colorscale\": [[0.0, \"#0d0887\"], [0.1111111111111111, \"#46039f\"], [0.2222222222222222, \"#7201a8\"], [0.3333333333333333, \"#9c179e\"], [0.4444444444444444, \"#bd3786\"], [0.5555555555555556, \"#d8576b\"], [0.6666666666666666, \"#ed7953\"], [0.7777777777777778, \"#fb9f3a\"], [0.8888888888888888, \"#fdca26\"], [1.0, \"#f0f921\"]], \"type\": \"surface\"}], \"table\": [{\"cells\": {\"fill\": {\"color\": \"#EBF0F8\"}, \"line\": {\"color\": \"white\"}}, \"header\": {\"fill\": {\"color\": \"#C8D4E3\"}, \"line\": {\"color\": \"white\"}}, \"type\": \"table\"}]}, \"layout\": {\"annotationdefaults\": {\"arrowcolor\": \"#2a3f5f\", \"arrowhead\": 0, \"arrowwidth\": 1}, \"coloraxis\": {\"colorbar\": {\"outlinewidth\": 0, \"ticks\": \"\"}}, \"colorscale\": {\"diverging\": [[0, \"#8e0152\"], [0.1, \"#c51b7d\"], [0.2, \"#de77ae\"], [0.3, \"#f1b6da\"], [0.4, \"#fde0ef\"], [0.5, \"#f7f7f7\"], [0.6, \"#e6f5d0\"], [0.7, \"#b8e186\"], [0.8, \"#7fbc41\"], [0.9, \"#4d9221\"], [1, \"#276419\"]], \"sequential\": [[0.0, \"#0d0887\"], [0.1111111111111111, \"#46039f\"], [0.2222222222222222, \"#7201a8\"], [0.3333333333333333, \"#9c179e\"], [0.4444444444444444, \"#bd3786\"], [0.5555555555555556, \"#d8576b\"], [0.6666666666666666, \"#ed7953\"], [0.7777777777777778, \"#fb9f3a\"], [0.8888888888888888, \"#fdca26\"], [1.0, \"#f0f921\"]], \"sequentialminus\": [[0.0, \"#0d0887\"], [0.1111111111111111, \"#46039f\"], [0.2222222222222222, \"#7201a8\"], [0.3333333333333333, \"#9c179e\"], [0.4444444444444444, \"#bd3786\"], [0.5555555555555556, \"#d8576b\"], [0.6666666666666666, \"#ed7953\"], [0.7777777777777778, \"#fb9f3a\"], [0.8888888888888888, \"#fdca26\"], [1.0, \"#f0f921\"]]}, \"colorway\": [\"#636efa\", \"#EF553B\", \"#00cc96\", \"#ab63fa\", \"#FFA15A\", \"#19d3f3\", \"#FF6692\", \"#B6E880\", \"#FF97FF\", \"#FECB52\"], \"font\": {\"color\": \"#2a3f5f\"}, \"geo\": {\"bgcolor\": \"white\", \"lakecolor\": \"white\", \"landcolor\": \"#E5ECF6\", \"showlakes\": true, \"showland\": true, \"subunitcolor\": \"white\"}, \"hoverlabel\": {\"align\": \"left\"}, \"hovermode\": \"closest\", \"mapbox\": {\"style\": \"light\"}, \"paper_bgcolor\": \"white\", \"plot_bgcolor\": \"#E5ECF6\", \"polar\": {\"angularaxis\": {\"gridcolor\": \"white\", \"linecolor\": \"white\", \"ticks\": \"\"}, \"bgcolor\": \"#E5ECF6\", \"radialaxis\": {\"gridcolor\": \"white\", \"linecolor\": \"white\", \"ticks\": \"\"}}, \"scene\": {\"xaxis\": {\"backgroundcolor\": \"#E5ECF6\", \"gridcolor\": \"white\", \"gridwidth\": 2, \"linecolor\": \"white\", \"showbackground\": true, \"ticks\": \"\", \"zerolinecolor\": \"white\"}, \"yaxis\": {\"backgroundcolor\": \"#E5ECF6\", \"gridcolor\": \"white\", \"gridwidth\": 2, \"linecolor\": \"white\", \"showbackground\": true, \"ticks\": \"\", \"zerolinecolor\": \"white\"}, \"zaxis\": {\"backgroundcolor\": \"#E5ECF6\", \"gridcolor\": \"white\", \"gridwidth\": 2, \"linecolor\": \"white\", \"showbackground\": true, \"ticks\": \"\", \"zerolinecolor\": \"white\"}}, \"shapedefaults\": {\"line\": {\"color\": \"#2a3f5f\"}}, \"ternary\": {\"aaxis\": {\"gridcolor\": \"white\", \"linecolor\": \"white\", \"ticks\": \"\"}, \"baxis\": {\"gridcolor\": \"white\", \"linecolor\": \"white\", \"ticks\": \"\"}, \"bgcolor\": \"#E5ECF6\", \"caxis\": {\"gridcolor\": \"white\", \"linecolor\": \"white\", \"ticks\": \"\"}}, \"title\": {\"x\": 0.05}, \"xaxis\": {\"automargin\": true, \"gridcolor\": \"white\", \"linecolor\": \"white\", \"ticks\": \"\", \"title\": {\"standoff\": 15}, \"zerolinecolor\": \"white\", \"zerolinewidth\": 2}, \"yaxis\": {\"automargin\": true, \"gridcolor\": \"white\", \"linecolor\": \"white\", \"ticks\": \"\", \"title\": {\"standoff\": 15}, \"zerolinecolor\": \"white\", \"zerolinewidth\": 2}}}, \"xaxis\": {\"anchor\": \"y\", \"domain\": [0.0, 1.0], \"title\": {\"text\": \"TotalDeaths\"}}, \"yaxis\": {\"anchor\": \"x\", \"domain\": [0.0, 1.0], \"title\": {\"text\": \"Continent\"}}},                        {\"responsive\": true}                    ).then(function(){\n",
       "                            \n",
       "var gd = document.getElementById('a36e98d7-ee7e-4ade-910c-bf0935b45514');\n",
       "var x = new MutationObserver(function (mutations, observer) {{\n",
       "        var display = window.getComputedStyle(gd).display;\n",
       "        if (!display || display === 'none') {{\n",
       "            console.log([gd, 'removed!']);\n",
       "            Plotly.purge(gd);\n",
       "            observer.disconnect();\n",
       "        }}\n",
       "}});\n",
       "\n",
       "// Listen for the removal of the full notebook cells\n",
       "var notebookContainer = gd.closest('#notebook-container');\n",
       "if (notebookContainer) {{\n",
       "    x.observe(notebookContainer, {childList: true});\n",
       "}}\n",
       "\n",
       "// Listen for the clearing of the current output cell\n",
       "var outputEl = gd.closest('.output');\n",
       "if (outputEl) {{\n",
       "    x.observe(outputEl, {childList: true});\n",
       "}}\n",
       "\n",
       "                        })                };                });            </script>        </div>"
      ]
     },
     "metadata": {},
     "output_type": "display_data"
    }
   ],
   "source": [
    "ex.bar(covid,x='TotalDeaths',y='Continent',color='TotalDeaths',height=400,hover_data=['Country/Region','Continent'])\n",
    "#TotalDeaths"
   ]
  }
 ],
 "metadata": {
  "kernelspec": {
   "display_name": "Python 3",
   "language": "python",
   "name": "python3"
  },
  "language_info": {
   "codemirror_mode": {
    "name": "ipython",
    "version": 3
   },
   "file_extension": ".py",
   "mimetype": "text/x-python",
   "name": "python",
   "nbconvert_exporter": "python",
   "pygments_lexer": "ipython3",
   "version": "3.7.3"
  }
 },
 "nbformat": 4,
 "nbformat_minor": 2
}
